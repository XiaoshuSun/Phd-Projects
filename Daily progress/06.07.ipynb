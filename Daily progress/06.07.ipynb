{
 "cells": [
  {
   "cell_type": "code",
   "execution_count": 3,
   "metadata": {},
   "outputs": [],
   "source": [
    "import bempp.api\n",
    "import numpy as np\n",
    "import scipy\n",
    "from numba import objmode\n",
    "import numba\n",
    "import math\n",
    "%matplotlib inline\n",
    "import matplotlib.pyplot as plt\n",
    "from bempp.api.operators.far_field import helmholtz as helmholtz_farfield\n",
    "#bempp.api.show_available_platforms_and_devices()\n",
    "#bempp.api.set_default_device(0, 0)"
   ]
  },
  {
   "cell_type": "code",
   "execution_count": 3,
   "metadata": {},
   "outputs": [],
   "source": [
    "def normalized_spherical_harmonics(p, q, x):\n",
    "    \"\"\"Spherical Harmonic function of degree q\"\"\"\n",
    "    azimuth = np.arctan2(x[1],x[0])\n",
    "    polar = np.arccos(x[2]/np.linalg.norm(x))\n",
    "    if p >= 0:\n",
    "        return ((-1)**p) * scipy.special.sph_harm(p,q,azimuth,polar)\n",
    "    else:\n",
    "        return scipy.special.sph_harm(-p,q,azimuth,polar)*np.exp(1j*2*p*azimuth)\n",
    "\n",
    "def spherical_bessel_function(q,x):\n",
    "    \"\"\"Spherical Bessel function of degree q\"\"\"\n",
    "    r = np.linalg.norm(x)\n",
    "    return np.sqrt(np.pi/(2*k*r))*scipy.special.jv(q+0.5, k*r)\n",
    "\n",
    "\n",
    "def spherical_hankel_function(q,x):\n",
    "    \"\"\"Spherical hankel function of degree q\"\"\"\n",
    "    r = np.linalg.norm(x)\n",
    "    return np.sqrt(np.pi/(2*k*r))*scipy.special.hankel1(q+0.5, k*r)\n",
    "\n",
    "def regular_spherical_wavefunctions(p,q,x):\n",
    "    \"\"\"Regular Spherical Wavefunction\"\"\"\n",
    "    return spherical_bessel_function(q,x)*normalized_spherical_harmonics(p,q,x)\n",
    "\n",
    "def radiating_spherical_wavefunctions(p,q,x):\n",
    "    \"\"\"Radiating Spherical Wavefunction\"\"\"\n",
    "    return spherical_hankel_function(q,x)*normalized_spherical_harmonics(p,q,x)"
   ]
  },
  {
   "cell_type": "code",
   "execution_count": 4,
   "metadata": {},
   "outputs": [],
   "source": [
    "def coeff_sph_expansion(p,q):\n",
    "    \"\"\"Analytical formula of the coefficients of the spherical expansions of plane waves\"\"\"\n",
    "    coeff = 4*np.pi*((1j)**q)*normalized_spherical_harmonics(-p,q,d)/(-1)**(abs(p))\n",
    "    return coeff"
   ]
  },
  {
   "cell_type": "code",
   "execution_count": 6,
   "metadata": {},
   "outputs": [],
   "source": [
    "def approx_scat(x):\n",
    "    appro = 0\n",
    "    i = 0\n",
    "    for q in range(deg+1):\n",
    "        for p in range(-q,q+1):\n",
    "            appro += coeff_sca[i] * radiating_spherical_wavefunctions(p,q,x)\n",
    "            i += 1\n",
    "    return appro"
   ]
  },
  {
   "cell_type": "code",
   "execution_count": 9,
   "metadata": {},
   "outputs": [],
   "source": [
    "d = [1,0,0] # wave's travel direction\n",
    "k = 5 # wavenumber\n",
    "eta = k\n",
    "error_list = []"
   ]
  },
  {
   "cell_type": "code",
   "execution_count": 15,
   "metadata": {},
   "outputs": [
    {
     "name": "stdout",
     "output_type": "stream",
     "text": [
      "0.05 5 [[0.70896114+5.13478557e-18j]]\n",
      "0.07 5 [[0.70848091+3.2515815e-18j]]\n",
      "0.09 5 [[0.7078652-5.40653649e-18j]]\n",
      "0.11 5 [[0.70714849+6.190203e-20j]]\n",
      "0.05 7 [[0.38638149-3.07319683e-18j]]\n",
      "0.07 7 [[0.38574021-1.1504717e-18j]]\n",
      "0.09 7 [[0.38492947-2.86079854e-18j]]\n",
      "0.11 7 [[0.38400125-3.61377058e-18j]]\n",
      "0.05 9 [[0.12602519-1.36643988e-19j]]\n",
      "0.07 9 [[0.12556999+2.49276901e-19j]]\n",
      "0.09 9 [[0.12498173-2.91525873e-19j]]\n",
      "0.11 9 [[0.12433107-1.11184916e-20j]]\n"
     ]
    },
    {
     "ename": "KeyboardInterrupt",
     "evalue": "",
     "output_type": "error",
     "traceback": [
      "\u001b[0;31m---------------------------------------------------------------------------\u001b[0m",
      "\u001b[0;31mKeyboardInterrupt\u001b[0m                         Traceback (most recent call last)",
      "\u001b[0;32m<ipython-input-15-a06211410018>\u001b[0m in \u001b[0;36m<module>\u001b[0;34m\u001b[0m\n\u001b[1;32m     39\u001b[0m                         \u001b[0mresult\u001b[0m\u001b[0;34m[\u001b[0m\u001b[0;36m0\u001b[0m\u001b[0;34m]\u001b[0m \u001b[0;34m=\u001b[0m \u001b[0mradiating_spherical_wavefunctions\u001b[0m\u001b[0;34m(\u001b[0m\u001b[0mp\u001b[0m\u001b[0;34m,\u001b[0m\u001b[0mq\u001b[0m\u001b[0;34m,\u001b[0m\u001b[0mx\u001b[0m\u001b[0;34m)\u001b[0m\u001b[0;34m\u001b[0m\u001b[0m\n\u001b[1;32m     40\u001b[0m \u001b[0;34m\u001b[0m\u001b[0m\n\u001b[0;32m---> 41\u001b[0;31m                 \u001b[0mbasis_grid\u001b[0m \u001b[0;34m=\u001b[0m \u001b[0mbempp\u001b[0m\u001b[0;34m.\u001b[0m\u001b[0mapi\u001b[0m\u001b[0;34m.\u001b[0m\u001b[0mGridFunction\u001b[0m\u001b[0;34m(\u001b[0m\u001b[0mspace_sphere\u001b[0m\u001b[0;34m,\u001b[0m\u001b[0mfun\u001b[0m\u001b[0;34m=\u001b[0m\u001b[0mbasis_fun\u001b[0m\u001b[0;34m)\u001b[0m\u001b[0;34m\u001b[0m\u001b[0m\n\u001b[0m\u001b[1;32m     42\u001b[0m                 \u001b[0mbasis_coeff\u001b[0m \u001b[0;34m=\u001b[0m \u001b[0mbasis_grid\u001b[0m\u001b[0;34m.\u001b[0m\u001b[0mcoefficients\u001b[0m\u001b[0;34m\u001b[0m\u001b[0m\n\u001b[1;32m     43\u001b[0m                 \u001b[0mcoeff_sph_wf\u001b[0m\u001b[0;34m.\u001b[0m\u001b[0mappend\u001b[0m\u001b[0;34m(\u001b[0m\u001b[0mbasis_coeff\u001b[0m\u001b[0;34m)\u001b[0m\u001b[0;34m\u001b[0m\u001b[0m\n",
      "\u001b[0;32m~/development/bempp-cl/bempp/api/assembly/grid_function.py\u001b[0m in \u001b[0;36m__init__\u001b[0;34m(self, space, dual_space, fun, coefficients, projections, parameters)\u001b[0m\n\u001b[1;32m    262\u001b[0m                 \u001b[0mweights\u001b[0m\u001b[0;34m,\u001b[0m\u001b[0;34m\u001b[0m\u001b[0m\n\u001b[1;32m    263\u001b[0m                 \u001b[0mcomp_domain\u001b[0m\u001b[0;34m.\u001b[0m\u001b[0mcodomain_dimension\u001b[0m\u001b[0;34m,\u001b[0m\u001b[0;34m\u001b[0m\u001b[0m\n\u001b[0;32m--> 264\u001b[0;31m                 \u001b[0mgrid_projections\u001b[0m\u001b[0;34m,\u001b[0m\u001b[0;34m\u001b[0m\u001b[0m\n\u001b[0m\u001b[1;32m    265\u001b[0m             )\n\u001b[1;32m    266\u001b[0m \u001b[0;34m\u001b[0m\u001b[0m\n",
      "\u001b[0;32m<ipython-input-3-3b8dc6863bd4>\u001b[0m in \u001b[0;36mradiating_spherical_wavefunctions\u001b[0;34m(p, q, x)\u001b[0m\n\u001b[1;32m     25\u001b[0m \u001b[0;32mdef\u001b[0m \u001b[0mradiating_spherical_wavefunctions\u001b[0m\u001b[0;34m(\u001b[0m\u001b[0mp\u001b[0m\u001b[0;34m,\u001b[0m\u001b[0mq\u001b[0m\u001b[0;34m,\u001b[0m\u001b[0mx\u001b[0m\u001b[0;34m)\u001b[0m\u001b[0;34m:\u001b[0m\u001b[0;34m\u001b[0m\u001b[0m\n\u001b[1;32m     26\u001b[0m     \u001b[0;34m\"\"\"Radiating Spherical Wavefunction\"\"\"\u001b[0m\u001b[0;34m\u001b[0m\u001b[0m\n\u001b[0;32m---> 27\u001b[0;31m     \u001b[0;32mreturn\u001b[0m \u001b[0mspherical_hankel_function\u001b[0m\u001b[0;34m(\u001b[0m\u001b[0mq\u001b[0m\u001b[0;34m,\u001b[0m\u001b[0mx\u001b[0m\u001b[0;34m)\u001b[0m\u001b[0;34m*\u001b[0m\u001b[0mnormalized_spherical_harmonics\u001b[0m\u001b[0;34m(\u001b[0m\u001b[0mp\u001b[0m\u001b[0;34m,\u001b[0m\u001b[0mq\u001b[0m\u001b[0;34m,\u001b[0m\u001b[0mx\u001b[0m\u001b[0;34m)\u001b[0m\u001b[0;34m\u001b[0m\u001b[0m\n\u001b[0m",
      "\u001b[0;32m<ipython-input-3-3b8dc6863bd4>\u001b[0m in \u001b[0;36mspherical_hankel_function\u001b[0;34m(q, x)\u001b[0m\n\u001b[1;32m     17\u001b[0m     \u001b[0;34m\"\"\"Spherical hankel function of degree q\"\"\"\u001b[0m\u001b[0;34m\u001b[0m\u001b[0m\n\u001b[1;32m     18\u001b[0m     \u001b[0mr\u001b[0m \u001b[0;34m=\u001b[0m \u001b[0mnp\u001b[0m\u001b[0;34m.\u001b[0m\u001b[0mlinalg\u001b[0m\u001b[0;34m.\u001b[0m\u001b[0mnorm\u001b[0m\u001b[0;34m(\u001b[0m\u001b[0mx\u001b[0m\u001b[0;34m)\u001b[0m\u001b[0;34m\u001b[0m\u001b[0m\n\u001b[0;32m---> 19\u001b[0;31m     \u001b[0;32mreturn\u001b[0m \u001b[0mnp\u001b[0m\u001b[0;34m.\u001b[0m\u001b[0msqrt\u001b[0m\u001b[0;34m(\u001b[0m\u001b[0mnp\u001b[0m\u001b[0;34m.\u001b[0m\u001b[0mpi\u001b[0m\u001b[0;34m/\u001b[0m\u001b[0;34m(\u001b[0m\u001b[0;36m2\u001b[0m\u001b[0;34m*\u001b[0m\u001b[0mk\u001b[0m\u001b[0;34m*\u001b[0m\u001b[0mr\u001b[0m\u001b[0;34m)\u001b[0m\u001b[0;34m)\u001b[0m\u001b[0;34m*\u001b[0m\u001b[0mscipy\u001b[0m\u001b[0;34m.\u001b[0m\u001b[0mspecial\u001b[0m\u001b[0;34m.\u001b[0m\u001b[0mhankel1\u001b[0m\u001b[0;34m(\u001b[0m\u001b[0mq\u001b[0m\u001b[0;34m+\u001b[0m\u001b[0;36m0.5\u001b[0m\u001b[0;34m,\u001b[0m \u001b[0mk\u001b[0m\u001b[0;34m*\u001b[0m\u001b[0mr\u001b[0m\u001b[0;34m)\u001b[0m\u001b[0;34m\u001b[0m\u001b[0m\n\u001b[0m\u001b[1;32m     20\u001b[0m \u001b[0;34m\u001b[0m\u001b[0m\n\u001b[1;32m     21\u001b[0m \u001b[0;32mdef\u001b[0m \u001b[0mregular_spherical_wavefunctions\u001b[0m\u001b[0;34m(\u001b[0m\u001b[0mp\u001b[0m\u001b[0;34m,\u001b[0m\u001b[0mq\u001b[0m\u001b[0;34m,\u001b[0m\u001b[0mx\u001b[0m\u001b[0;34m)\u001b[0m\u001b[0;34m:\u001b[0m\u001b[0;34m\u001b[0m\u001b[0m\n",
      "\u001b[0;31mKeyboardInterrupt\u001b[0m: "
     ]
    }
   ],
   "source": [
    "for deg in [5,7,9,11,13,15]:\n",
    "    for h in [0.05,0.07,0.09,0.11]:\n",
    "        #sphere that encloses the scatterer\n",
    "        sphere = bempp.api.shapes.sphere(r = 2, origin=(0,0,0), h = h)\n",
    "        vert_sphere = sphere.vertices\n",
    "        space_sphere = bempp.api.function_space(sphere, 'P', 1)\n",
    "\n",
    "        # scatterer: sphere\n",
    "        dom_cube = bempp.api.shapes.cube(length = (2*2)/1.8, origin=(-2/1.8,-2/1.8,-2/1.8), h = h)\n",
    "        vert_cube = dom_cube.vertices\n",
    "        space_cube = bempp.api.function_space(dom_cube,'P',1)\n",
    "\n",
    "        identity = bempp.api.operators.boundary.sparse.identity(space_cube, space_cube,space_cube)\n",
    "        slp = bempp.api.operators.boundary.helmholtz.single_layer(space_cube,space_cube,space_cube,k)\n",
    "        dlp = bempp.api.operators.boundary.helmholtz.double_layer(space_cube,space_cube,space_cube,k)\n",
    "\n",
    "        lhs = 0.5 * identity + dlp - 1j* eta *slp\n",
    "\n",
    "        coeff_scat_fields = []\n",
    "        for q in range(deg+1):\n",
    "            for p in range(-q,q+1):\n",
    "                @bempp.api.complex_callable\n",
    "                def dirichlet_fun(x,n,domain_index,result):\n",
    "                        with objmode():\n",
    "                            result[0] = - regular_spherical_wavefunctions(p,q,x)\n",
    "\n",
    "                rhs_fun = bempp.api.GridFunction(space_cube, fun = dirichlet_fun)\n",
    "                field, info = bempp.api.linalg.gmres(lhs, rhs_fun, tol=1E-5)\n",
    "                slp_pot = bempp.api.operators.potential.helmholtz.single_layer(space_cube, vert_sphere, k)\n",
    "                dlp_pot = bempp.api.operators.potential.helmholtz.double_layer(space_cube, vert_sphere,k)\n",
    "                coeff_scat_fields.append(dlp_pot.evaluate(field) - 1j * eta * slp_pot.evaluate(field))\n",
    "\n",
    "        coeff_sph_wf = []\n",
    "        for q in range(deg+1):\n",
    "            for p in range(-q,q+1):\n",
    "                @bempp.api.complex_callable\n",
    "                def basis_fun(x,n,domain_index,result):\n",
    "                    with objmode():\n",
    "                        result[0] = radiating_spherical_wavefunctions(p,q,x)\n",
    "\n",
    "                basis_grid = bempp.api.GridFunction(space_sphere,fun=basis_fun)\n",
    "                basis_coeff = basis_grid.coefficients\n",
    "                coeff_sph_wf.append(basis_coeff)\n",
    "\n",
    "        mass_mat = bempp.api.operators.boundary.sparse.identity(space_sphere,space_sphere,space_sphere).weak_form().A\n",
    "\n",
    "        '''Construct list of b'''\n",
    "        b = np.zeros(((deg+1)**2, (deg+1)**2),dtype = complex)\n",
    "        for i in range((deg+1)**2):\n",
    "            for j in range((deg+1)**2):\n",
    "                b[i,j] = coeff_scat_fields[j] @ mass_mat @ coeff_sph_wf[i]\n",
    "\n",
    "        '''Construct A'''\n",
    "        A = np.zeros(((deg+1)**2, (deg+1)**2),dtype = complex)\n",
    "        for i in range((deg+1)**2):\n",
    "            for j in range((deg+1)**2):\n",
    "                A[i,j] = coeff_sph_wf[j] @ mass_mat @ coeff_sph_wf[i]\n",
    "\n",
    "        T_matrix = np.zeros(((deg+1)**2, (deg+1)**2),dtype = complex)\n",
    "        for i in range((deg+1)**2):\n",
    "            T_matrix[:,i] = np.linalg.solve(A,b[:,i])\n",
    "        \n",
    "        coeff_inc = []\n",
    "        for q in range(deg+1):\n",
    "            for p in range(-q, q+1):\n",
    "                coeff_inc.append(coeff_sph_expansion(p,q))\n",
    "\n",
    "        coeff_sca = T_matrix @ coeff_inc\n",
    "\n",
    "        @bempp.api.complex_callable\n",
    "        def approx_scat_fuc(x,n,domain_index,result):\n",
    "            with objmode():\n",
    "                result[0] = approx_scat(x)   \n",
    "        approx_grid = bempp.api.GridFunction(space_sphere,fun=approx_scat_fuc)\n",
    "        approx_coeff = approx_grid.coefficients\n",
    "\n",
    "        '''compute error'''\n",
    "        @bempp.api.complex_callable\n",
    "        def incident_field(x,n,domain_index,result):\n",
    "                with objmode():\n",
    "                    result[0] = - np.exp(1j*k*x[0])\n",
    "\n",
    "        rhs_fun_exact = bempp.api.GridFunction(space_cube, fun = incident_field)\n",
    "        field_exact, info_exact = bempp.api.linalg.gmres(lhs, rhs_fun_exact, tol=1E-5)\n",
    "\n",
    "        exact_coeff = dlp_pot.evaluate(field_exact) - 1j * eta * slp_pot.evaluate(field_exact)\n",
    "\n",
    "        err = np.sqrt((approx_coeff - exact_coeff) @ mass_mat @ np.transpose(np.conj(approx_coeff - exact_coeff)))/np.sqrt(exact_coeff @ mass_mat @ np.transpose(np.conj(exact_coeff)))\n",
    "\n",
    "        error_list.append(err)\n",
    "        print(h,deg,err)"
   ]
  },
  {
   "cell_type": "markdown",
   "metadata": {},
   "source": [
    "### Compute the error"
   ]
  },
  {
   "cell_type": "code",
   "execution_count": null,
   "metadata": {},
   "outputs": [],
   "source": []
  }
 ],
 "metadata": {
  "kernelspec": {
   "display_name": "Python 3",
   "language": "python",
   "name": "python3"
  },
  "language_info": {
   "codemirror_mode": {
    "name": "ipython",
    "version": 3
   },
   "file_extension": ".py",
   "mimetype": "text/x-python",
   "name": "python",
   "nbconvert_exporter": "python",
   "pygments_lexer": "ipython3",
   "version": "3.7.0"
  }
 },
 "nbformat": 4,
 "nbformat_minor": 2
}
