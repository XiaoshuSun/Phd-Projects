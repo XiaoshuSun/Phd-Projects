{
 "cells": [
  {
   "cell_type": "markdown",
   "metadata": {},
   "source": [
    "# T-matrix computation for 3D obstacle scattering "
   ]
  },
  {
   "cell_type": "markdown",
   "metadata": {},
   "source": [
    "## Background"
   ]
  },
  {
   "cell_type": "markdown",
   "metadata": {},
   "source": [
    "The infinite T-matrix can describes the acoustic scattering properties of an obstacle. In this tutorial, we will compute the T-matrix in a stable way. Consider the time-harmonic radiatiing acoustic field $u^{s}$ scattered by a three dimensional scatterer $\\Omega$ in a homogeneous medium satifies the exterior Helmholtz equation: $$\\Delta u^{s} + k^{2}u^{s} = 0, \\ \\text{in} \\  \\mathbb{R}^{2}\\backslash\\bar{\\Omega},$$ where $k$ is the wavenumber and the Sommerfeld radiation condition $$\\text{lim}_{|\\boldsymbol{x}|\\rightarrow\\infty}\\sqrt{|\\boldsymbol{x}|}\\left(\\frac{\\partial{u^{s}}}{\\partial{\\boldsymbol{x}}} - iku^{s}\\right) = 0,$$ where the limit holds uniformly in all directions $\\hat{\\boldsymbol{x}} = \\boldsymbol{x}\\backslash|\\boldsymbol{x}|$. This scattered field is induced by the incident field $u^{i}$ via one of the four boundary conditions which corresponding four properties of the scatterer: sound-soft, sound-hard, absorbing and TM-polarized dielectric."
   ]
  },
  {
   "cell_type": "markdown",
   "metadata": {},
   "source": [
    "We can expand the incident and scattered field in terms of the wave functions which satisfy the Helmholtz eqaution. \n",
    "$$u^{i}(\\boldsymbol{x}) = \\sum_{l = 0}^{\\infty}\\sum_{|j|\\leq l}p_{lj}\\tilde{e_{lj}}(\\boldsymbol{x}),$$\n",
    "$$u^{s}(\\boldsymbol{x}) = \\sum_{l = 0}^{\\infty}\\sum_{|j|\\leq l}a_{lj}e_{lj}(\\boldsymbol{x}),$$ \n",
    "where $$\\tilde{e_{lj}}(\\boldsymbol{x}) = j_{|l|}(k|\\boldsymbol{x}|)Y_{lj}(\\hat{\\boldsymbol{x}})$$ is the regular spherical wave functions and \n",
    "$$e_{lj}(\\boldsymbol{x}) = h_{|l|}^{(1)}(k|\\boldsymbol{x}|)Y_{lj}(\\hat{\\boldsymbol{x}})$$ is the radiating spherical wave functions. Here, $j_{|n|}$ is the spherical Bessel function of degree $l$, $h_{|n|}^{(1)}$ is the spherical Hankel function of degree $l$, and $Y_{lj}$ is the spherical harmonic of degree $l$."
   ]
  },
  {
   "cell_type": "markdown",
   "metadata": {},
   "source": [
    "Since the Helmholtz equation is linear, there exist coefficients $t_{l'j',lj}$ such that $$a_{l'j'} = \\sum_{l = 0}^{\\infty}\\sum_{|j|\\leq l}t_{l'j',lj}p_{lj}.$$ By writing $a = (a_{lj})$ and $p = (p_{lj})$, we define the (transition-) $T$-matrix as $T$ such that $a = Tp$. Our task is the compute this matrix using far field and the general steps are as follows."
   ]
  },
  {
   "cell_type": "markdown",
   "metadata": {},
   "source": [
    "The scattered field $u^{s}$ can be represented as $$u^{s} = Su^{i} = S\\sum_{l = 0}^{\\infty}\\sum_{|j|\\leq l}p_{lj}\\tilde{e_{lj}}(\\boldsymbol{x}) = \\sum_{l = 0}^{\\infty}\\sum_{|j|\\leq l}p_{lj}S\\tilde{e_{lj}}(\\boldsymbol{x}) = \\sum_{l = 0}^{\\infty}\\sum_{|j|\\leq l}p_{lj}u_{lj},$$ where $S$ is the operator that maps the incident field to its corresponding scattered field. For example, $S\\tilde{e_{lj}} = u_{lj}$ is the scattered field induced by $\\tilde{e_{lj}}$ and $$u_{lj} = \\sum_{l = 0}^{\\infty}\\sum_{|j|\\leq l}t_{l'j',lj}e_{l'j'}$$. "
   ]
  },
  {
   "cell_type": "markdown",
   "metadata": {},
   "source": [
    "The far field of each $e_{l'j'}$ is $e_{l'j'}^{\\infty} = \\frac{1}{k}(-i)^{l'+1}Y_{l'j'}(\\hat{\\boldsymbol{x}})$, so we can write the far field of $u_{lj}$ as \n",
    "$$u^{\\infty}_{lj} = S^{\\infty}\\tilde{e_{lj}} = \\sum_{l = 0}^{\\infty}\\sum_{|j|\\leq l}t_{l'j',lj}e_{l'j'}^{\\infty} = \\sum_{l = 0}^{\\infty}\\sum_{|j|\\leq l}t_{l'j',lj}\\frac{1}{k}(-i)^{l'+1}Y_{l'j'}(\\hat{\\boldsymbol{x}})$$"
   ]
  },
  {
   "cell_type": "markdown",
   "metadata": {},
   "source": [
    "By using the orthogonal property of $\\text{exp}(in'\\theta)$, the entries of the $T$-matrix can be expressed as \n",
    "$$t_{l'j',lj} = <u_{lj}^{\\infty},Y_{l'j'}>.$$"
   ]
  },
  {
   "cell_type": "markdown",
   "metadata": {},
   "source": [
    "We start with the usual imports."
   ]
  },
  {
   "cell_type": "code",
   "execution_count": 1,
   "metadata": {},
   "outputs": [],
   "source": [
    "import bempp.api\n",
    "import numpy as np\n",
    "import scipy\n",
    "from numba import objmode\n",
    "import numba\n",
    "import math"
   ]
  },
  {
   "cell_type": "markdown",
   "metadata": {},
   "source": [
    "Define the wavenumber $k$, the 3D scatterer, the vertices on the grid, the degree of spherical hamonics expansion and function space."
   ]
  },
  {
   "cell_type": "code",
   "execution_count": 8,
   "metadata": {},
   "outputs": [],
   "source": [
    "k = 5\n",
    "\n",
    "grid = bempp.api.shapes.regular_sphere(3)\n",
    "vert_temp = grid.vertices\n",
    "space = bempp.api.function_space(grid,'P',1)\n",
    "\n",
    "a = vert_temp[0,:]\n",
    "ind = []\n",
    "for i,j in enumerate(a):\n",
    "    if j == 0:\n",
    "        ind.append(i)\n",
    "b = list(range(vert_temp.shape[1]))\n",
    "for i in range(len(ind)):\n",
    "    b.remove(ind[i])\n",
    "vert = vert_temp[:,b]\n",
    "num_vert = vert.shape[1]"
   ]
  },
  {
   "cell_type": "markdown",
   "metadata": {},
   "source": [
    "Here, we define the identity, double layer and hypersingular boundary operators. We can use then to construct the LHS of the Burton-Miller formulation."
   ]
  },
  {
   "cell_type": "code",
   "execution_count": 4,
   "metadata": {},
   "outputs": [],
   "source": [
    "identity = bempp.api.operators.boundary.sparse.identity(space, space, space)\n",
    "dlp = bempp.api.operators.boundary.helmholtz.double_layer(space, space, space, k)\n",
    "hyp = bempp.api.operators.boundary.helmholtz.hypersingular(space, space, space, k)\n",
    "\n",
    "burton_miller = .5 * identity - dlp + (1j/k) * hyp"
   ]
  },
  {
   "cell_type": "markdown",
   "metadata": {},
   "source": [
    "The following defines the spherical harmonic functions $Y_{lj}(\\theta, \\phi)$, spherical bessel function $j_{l}(k|x|)$."
   ]
  },
  {
   "cell_type": "code",
   "execution_count": 5,
   "metadata": {},
   "outputs": [],
   "source": [
    "def normalized_spherical_harmonics(p, q, x):\n",
    "    azimuth = np.arctan(x[1]/x[0])\n",
    "    polar = np.arccos(x[2]/np.linalg.norm(x))\n",
    "    temp = np.array(scipy.special.lpmn(abs(p),q, np.cos(polar))[0])\n",
    "    legd_poly = temp[-1,-1]\n",
    "    return ((-1)**((p + abs(p)/2)))*np.sqrt(((2*q+1)/(4*np.pi))*(math.factorial(q-abs(p))/math.factorial(q+abs(p))))*legd_poly*np.exp(1j*p*azimuth)\n",
    "    \n",
    "def spherical_bessel_function(q,k,x):\n",
    "    \"\"\"Spherical Bessel function of degree q\"\"\"\n",
    "    r = np.linalg.norm(x)\n",
    "    return np.sqrt(np.pi/(2*k*r))*scipy.special.jv(q+0.5, k*r)\n",
    "\n",
    "def regular_spherical_wavefunctions(p,q,k,x):\n",
    "    \"\"\"Regular Spherical Wavefunction\"\"\"\n",
    "    return spherical_bessel_function(q,k,x)*normalized_spherical_harmonics(p,q,x)"
   ]
  },
  {
   "cell_type": "markdown",
   "metadata": {},
   "source": [
    "In order to construct the normal derivative of the incident wave $\\tilde{e}_{lj}(x)$, we need to define the derivative of the $j_{l}$ with regard to $|x|$, and $Y_{lj}$ with regard to $\\theta$ and $\\phi$."
   ]
  },
  {
   "cell_type": "code",
   "execution_count": 6,
   "metadata": {},
   "outputs": [],
   "source": [
    "def normalized_spherical_harmonics_dpolar(p, q, x):\n",
    "    polar = np.arccos(x[2]/np.linalg.norm(x))\n",
    "    azimuth = np.arctan(x[1]/x[0])\n",
    "    y1 = normalized_spherical_harmonics(p, q, x)\n",
    "    y2 = normalized_spherical_harmonics(abs(p + 1), q, x)\n",
    "    return (abs(p) / np.tan(polar)) * y1 + np.sqrt((q - abs(p)) * (q + abs(p) + 1)) * np.exp(-1j * azimuth) * y2\n",
    "\n",
    "def normalized_spherical_harmonics_dazimuth(p, q, x):\n",
    "    return 1j * p * normalized_spherical_harmonics(p, q, x)\n",
    "\n",
    "def spherical_bessel_function_dr(q,k,x):\n",
    "    r = np.linalg.norm(x)\n",
    "    return k*(spherical_bessel_function(q-1,k,x) - ((q+1)/(k*r))*spherical_bessel_function(q,k,x))"
   ]
  },
  {
   "cell_type": "markdown",
   "metadata": {},
   "source": [
    "Construct the Neumann function and Dirichlet function of $\\tilde{e}_{lj}$"
   ]
  },
  {
   "cell_type": "code",
   "execution_count": 7,
   "metadata": {},
   "outputs": [],
   "source": [
    "@bempp.api.complex_callable\n",
    "def dirichlet_fun(x,n,domain_index,result):\n",
    "        with objmode():\n",
    "            result[0] = regular_spherical_wavefunctions(p,q,k,x)\n",
    "            \n",
    "@bempp.api.complex_callable\n",
    "def neumann_fun(x, n, domain_index, result):\n",
    "    with objmode():\n",
    "        r = np.linalg.norm(x)\n",
    "        azimuth = np.arctan(x[1]/x[0])\n",
    "        polar = np.arccos(x[2]/r)\n",
    "        r_n = np.linalg.norm(n)\n",
    "        \n",
    "        grad_regular_sph_wf = [spherical_bessel_function_dr(q,k,x)*normalized_spherical_harmonics(p,q,x),\n",
    "                              (1/r)*normalized_spherical_harmonics_dpolar(p,q,x)*spherical_bessel_function(q,k,x),\n",
    "                              (1/(r*np.sin(polar)))*normalized_spherical_harmonics_dazimuth(p,q,x)*spherical_bessel_function(q,k,x)]\n",
    "        normal_in_sph_coord = [r_n, np.arccos(n[2]/r_n), np.arctan(n[1]/n[0])]\n",
    "        \n",
    "        result[0] = np.inner(grad_regular_sph_wf, normal_in_sph_coord)"
   ]
  },
  {
   "cell_type": "markdown",
   "metadata": {},
   "source": [
    "With different $l$ and $k$, we construct the RHS of the linear system and find out the total field, then apply the far field operator to obtain its corresponding far field pattern. In order to compute the dot product $<u_{lj}^{\\infty},Y_{l'j'}>$, we will stores the far field points and the spherical harmonic functions with regard to each pair of $l,j$."
   ]
  },
  {
   "cell_type": "code",
   "execution_count": null,
   "metadata": {},
   "outputs": [],
   "source": [
    "deg = 3\n",
    "\n",
    "far_field_set = []\n",
    "sph_points_set = []\n",
    "\n",
    "for q in range(1,deg+1):\n",
    "    for p in np.linspace(-q+1,q-1,2*q-1):\n",
    "        dirichlet_grid_fun = bempp.api.GridFunction(space, fun = dirichlet_fun)\n",
    "        neumann_grid_fun = bempp.api.GridFunction(space, fun = neumann_fun)\n",
    "        rhs_fun = dirichlet_grid_fun - (1j/k)*neumann_grid_fun\n",
    "        \n",
    "        total_field, info, it_count = bempp.api.linalg.gmres(burton_miller,rhs_fun,use_strong_form=True, return_iteration_count=True)\n",
    "        \n",
    "        dlp_far_field = bempp.api.operators.far_field.helmholtz.double_layer(space,vert,k)\n",
    "        far_field_set.append(dlp_far_field * total_field)\n",
    "        \n",
    "        sph_points = np.zeros(num_vert, dtype = complex)\n",
    "        for i in range(num_vert):\n",
    "            sph_points[i] = normalized_spherical_harmonics(p,q,vert[:,i])"
   ]
  },
  {
   "cell_type": "markdown",
   "metadata": {},
   "source": [
    "The problem for now is the far field points are all nan. "
   ]
  },
  {
   "cell_type": "code",
   "execution_count": 10,
   "metadata": {},
   "outputs": [],
   "source": [
    "q = 1\n",
    "p = 0"
   ]
  },
  {
   "cell_type": "code",
   "execution_count": 13,
   "metadata": {},
   "outputs": [
    {
     "ename": "ValueError",
     "evalue": "The range of A and the domain of A must havethe same number of unknowns if the strong form is used.",
     "output_type": "error",
     "traceback": [
      "\u001b[0;31m---------------------------------------------------------------------------\u001b[0m",
      "\u001b[0;31mValueError\u001b[0m                                Traceback (most recent call last)",
      "\u001b[0;32m<ipython-input-13-0bb528dc8caf>\u001b[0m in \u001b[0;36m<module>\u001b[0;34m\u001b[0m\n\u001b[1;32m      2\u001b[0m \u001b[0mneumann_grid_fun\u001b[0m \u001b[0;34m=\u001b[0m \u001b[0mbempp\u001b[0m\u001b[0;34m.\u001b[0m\u001b[0mapi\u001b[0m\u001b[0;34m.\u001b[0m\u001b[0mGridFunction\u001b[0m\u001b[0;34m(\u001b[0m\u001b[0mspace\u001b[0m\u001b[0;34m,\u001b[0m \u001b[0mfun\u001b[0m \u001b[0;34m=\u001b[0m \u001b[0mneumann_fun\u001b[0m\u001b[0;34m)\u001b[0m\u001b[0;34m\u001b[0m\u001b[0m\n\u001b[1;32m      3\u001b[0m \u001b[0mrhs_fun\u001b[0m \u001b[0;34m=\u001b[0m \u001b[0mdirichlet_grid_fun\u001b[0m \u001b[0;34m+\u001b[0m \u001b[0;34m(\u001b[0m\u001b[0;36m1j\u001b[0m\u001b[0;34m/\u001b[0m\u001b[0mk\u001b[0m\u001b[0;34m)\u001b[0m\u001b[0;34m*\u001b[0m\u001b[0mneumann_grid_fun\u001b[0m\u001b[0;34m\u001b[0m\u001b[0m\n\u001b[0;32m----> 4\u001b[0;31m \u001b[0mtotal_field\u001b[0m\u001b[0;34m,\u001b[0m \u001b[0minfo\u001b[0m\u001b[0;34m,\u001b[0m \u001b[0mit_count\u001b[0m \u001b[0;34m=\u001b[0m \u001b[0mbempp\u001b[0m\u001b[0;34m.\u001b[0m\u001b[0mapi\u001b[0m\u001b[0;34m.\u001b[0m\u001b[0mlinalg\u001b[0m\u001b[0;34m.\u001b[0m\u001b[0mgmres\u001b[0m\u001b[0;34m(\u001b[0m\u001b[0mburton_miller\u001b[0m\u001b[0;34m,\u001b[0m\u001b[0mrhs_fun\u001b[0m\u001b[0;34m,\u001b[0m\u001b[0muse_strong_form\u001b[0m\u001b[0;34m=\u001b[0m\u001b[0;32mTrue\u001b[0m\u001b[0;34m,\u001b[0m \u001b[0mreturn_iteration_count\u001b[0m\u001b[0;34m=\u001b[0m\u001b[0;32mTrue\u001b[0m\u001b[0;34m)\u001b[0m\u001b[0;34m\u001b[0m\u001b[0m\n\u001b[0m",
      "\u001b[0;32m~/development/bempp-cl/bempp/api/linalg/iterative_solvers.py\u001b[0m in \u001b[0;36mgmres\u001b[0;34m(A, b, tol, restart, maxiter, use_strong_form, return_residuals, return_iteration_count)\u001b[0m\n\u001b[1;32m     74\u001b[0m             \u001b[0muse_strong_form\u001b[0m\u001b[0;34m,\u001b[0m\u001b[0;34m\u001b[0m\u001b[0m\n\u001b[1;32m     75\u001b[0m             \u001b[0mreturn_residuals\u001b[0m\u001b[0;34m,\u001b[0m\u001b[0;34m\u001b[0m\u001b[0m\n\u001b[0;32m---> 76\u001b[0;31m             \u001b[0mreturn_iteration_count\u001b[0m\u001b[0;34m,\u001b[0m\u001b[0;34m\u001b[0m\u001b[0m\n\u001b[0m\u001b[1;32m     77\u001b[0m         )\n\u001b[1;32m     78\u001b[0m \u001b[0;34m\u001b[0m\u001b[0m\n",
      "\u001b[0;32m~/development/bempp-cl/bempp/api/linalg/iterative_solvers.py\u001b[0m in \u001b[0;36m_gmres_single_op_imp\u001b[0;34m(A, b, tol, restart, maxiter, use_strong_form, return_residuals, return_iteration_count)\u001b[0m\n\u001b[1;32m    187\u001b[0m         \u001b[0;32mif\u001b[0m \u001b[0;32mnot\u001b[0m \u001b[0mA\u001b[0m\u001b[0;34m.\u001b[0m\u001b[0mrange\u001b[0m\u001b[0;34m.\u001b[0m\u001b[0mis_compatible\u001b[0m\u001b[0;34m(\u001b[0m\u001b[0mb\u001b[0m\u001b[0;34m.\u001b[0m\u001b[0mspace\u001b[0m\u001b[0;34m)\u001b[0m\u001b[0;34m:\u001b[0m\u001b[0;34m\u001b[0m\u001b[0m\n\u001b[1;32m    188\u001b[0m             raise ValueError(\n\u001b[0;32m--> 189\u001b[0;31m                 \u001b[0;34m\"The range of A and the domain of A must have\"\u001b[0m\u001b[0;34m\u001b[0m\u001b[0m\n\u001b[0m\u001b[1;32m    190\u001b[0m                 \u001b[0;34m+\u001b[0m \u001b[0;34m\"the same number of unknowns if the strong form is used.\"\u001b[0m\u001b[0;34m\u001b[0m\u001b[0m\n\u001b[1;32m    191\u001b[0m             )\n",
      "\u001b[0;31mValueError\u001b[0m: The range of A and the domain of A must havethe same number of unknowns if the strong form is used."
     ]
    }
   ],
   "source": [
    "dirichlet_grid_fun = bempp.api.GridFunction(space, fun = dirichlet_fun)\n",
    "neumann_grid_fun = bempp.api.GridFunction(space, fun = neumann_fun)\n",
    "rhs_fun = dirichlet_grid_fun + (1j/k)*neumann_grid_fun\n",
    "total_field, info, it_count = bempp.api.linalg.gmres(burton_miller,rhs_fun,use_strong_form=True, return_iteration_count=True)\n",
    "\n",
    "dlp_far_field = bempp.api.operators.far_field.helmholtz.double_layer(space,vert,k)\n",
    "far_field = dlp_far_field * total_field\n",
    "\n",
    "sph_points = np.zeros(num_vert, dtype = complex)\n",
    "for i in range(num_vert):\n",
    "    sph_points[i] = normalized_spherical_harmonics(p,q,vert[:,i])"
   ]
  },
  {
   "cell_type": "code",
   "execution_count": null,
   "metadata": {},
   "outputs": [],
   "source": []
  }
 ],
 "metadata": {
  "kernelspec": {
   "display_name": "Python 3",
   "language": "python",
   "name": "python3"
  },
  "language_info": {
   "codemirror_mode": {
    "name": "ipython",
    "version": 3
   },
   "file_extension": ".py",
   "mimetype": "text/x-python",
   "name": "python",
   "nbconvert_exporter": "python",
   "pygments_lexer": "ipython3",
   "version": "3.7.0"
  }
 },
 "nbformat": 4,
 "nbformat_minor": 2
}
