{
 "cells": [
  {
   "cell_type": "markdown",
   "metadata": {},
   "source": [
    "# T matrix for electromagnetic scattering"
   ]
  },
  {
   "cell_type": "code",
   "execution_count": 1,
   "metadata": {},
   "outputs": [],
   "source": [
    "import bempp.api\n",
    "import numpy as np\n",
    "import scipy\n",
    "from numba import objmode\n",
    "import numba\n",
    "import math\n",
    "%matplotlib inline\n",
    "import matplotlib.pyplot as plt"
   ]
  },
  {
   "cell_type": "code",
   "execution_count": 2,
   "metadata": {},
   "outputs": [],
   "source": [
    "h = 0.05 # Size of the mesh\n",
    "d = [1,0,0] # wave's travel direction\n",
    "k = 5 # wavenumber"
   ]
  },
  {
   "cell_type": "code",
   "execution_count": 3,
   "metadata": {},
   "outputs": [],
   "source": [
    "def spherical_harm(p, q, x):\n",
    "    \"\"\"Spherical Harmonic function of degree q\"\"\"\n",
    "    azimuth = np.arctan2(x[1],x[0])\n",
    "    polar = np.arccos(x[2]/np.linalg.norm(x))\n",
    "    if p >= 0:\n",
    "        return ((-1)**p) * scipy.special.sph_harm(p,q,azimuth,polar)\n",
    "    else:\n",
    "        return scipy.special.sph_harm(-p,q,azimuth,polar)*np.exp(1j*2*p*azimuth)\n",
    "\n",
    "def spherical_bessel(q,x):\n",
    "    \"\"\"Spherical Bessel function of degree q\"\"\"\n",
    "    r = np.linalg.norm(x)\n",
    "    return np.sqrt(np.pi/(2*k*r))*scipy.special.jv(q+0.5, k*r)    "
   ]
  },
  {
   "cell_type": "code",
   "execution_count": 12,
   "metadata": {},
   "outputs": [],
   "source": [
    "def spherical_harm_dpolar(p, q, x):\n",
    "    polar = np.arccos(x[2]/np.linalg.norm(x))\n",
    "    azimuth = np.arctan2(x[1],x[0])\n",
    "    y1 = spherical_harm(p, q, x)\n",
    "    y3 = spherical_harm(-p, q, x)\n",
    "    \n",
    "    if abs(p) == q and p >= 0:\n",
    "        return (p / np.tan(polar)) * y1 \n",
    "    elif abs(p) != q and p >= 0:\n",
    "        y2 = spherical_harm(p + 1, q, x)\n",
    "        return (p / np.tan(polar)) * y1 + np.sqrt((q - p) * (q + p + 1)) * np.exp(-1j * azimuth) * y2\n",
    "    elif abs(p) == q and p < 0:\n",
    "        return (-p / np.tan(polar)) * y3 * np.exp(1j*p*azimuth*2) / (-1)**(-p)\n",
    "    elif abs(p) != q and p < 0:\n",
    "        y4 = spherical_harm(-p + 1, q, x)\n",
    "        return ((-p / np.tan(polar)) * y3 + np.sqrt((q - (-p)) * (q + (-p) + 1)) * np.exp(-1j * azimuth) * y4) * np.exp(1j*p*azimuth*2) / (-1)**(-p)\n",
    "\n",
    "def spherical_harm_dazimuth(p, q, x):\n",
    "    return 1j * p * spherical_harm(p, q, x)\n",
    "\n",
    "def spherical_bessel_dr(q,x):\n",
    "    r = np.linalg.norm(x)\n",
    "    return k*(spherical_bessel(q-1,x) - ((q+1)/(k*r))*spherical_bessel(q,x))"
   ]
  },
  {
   "cell_type": "code",
   "execution_count": 17,
   "metadata": {},
   "outputs": [],
   "source": [
    "def div_free_vector_spherical(p,q,x):\n",
    "    r = np.linalg.norm(x)\n",
    "    azimuth = np.arctan2(x[1],x[0])\n",
    "    polar = np.arccos(x[2]/r)\n",
    "    \n",
    "    r_ = (spherical_bessel(q,x)/np.sin(polar)) * (0.5 * np.sin(2*polar)*spherical_harm_dpolar(p,q,x) + np.cos(2*polar)*spherical_harm(p,q,x)) - spherical_bessel(q,x)* (np.cos(azimuth)*spherical_harm(p,q,x) + np.sin(azimuth)*spherical_harm_dazimuth(p,q,x))\n",
    "    polar_ = spherical_bessel(q,x) * (-np.sin(azimuth)*spherical_harm(p,q,x) + np.cos(azimuth)*spherical_harm_dazimuth(p,q,x)) - np.cos(polar)*(2*spherical_bessel(q,x) + r*spherical_bessel_dr(q,x))\n",
    "    azimuth_ = np.sin(polar)*np.sin(azimuth)*spherical_harm(p,q,x)*(2*spherical_bessel(q,x)+r*spherical_bessel_dr(q,x)) - np.cos(azimuth)*spherical_bessel(q,x)*(np.cos(polar)*spherical_harm(p,q,x) + np.sin(polar)*spherical_harm_dpolar(p,q,x))\n",
    "    return [r_*np.sin(polar_)*np.cos(azimuth_), r_*np.sin(polar_)*np.sin(azimuth_), r_*np.cos(polar)]"
   ]
  },
  {
   "cell_type": "code",
   "execution_count": null,
   "metadata": {},
   "outputs": [],
   "source": []
  },
  {
   "cell_type": "code",
   "execution_count": null,
   "metadata": {},
   "outputs": [],
   "source": []
  }
 ],
 "metadata": {
  "kernelspec": {
   "display_name": "Python 3",
   "language": "python",
   "name": "python3"
  },
  "language_info": {
   "codemirror_mode": {
    "name": "ipython",
    "version": 3
   },
   "file_extension": ".py",
   "mimetype": "text/x-python",
   "name": "python",
   "nbconvert_exporter": "python",
   "pygments_lexer": "ipython3",
   "version": "3.7.0"
  }
 },
 "nbformat": 4,
 "nbformat_minor": 2
}
