{
 "cells": [
  {
   "cell_type": "markdown",
   "metadata": {},
   "source": [
    "# T-matrix computation for 3D acoustic scattering "
   ]
  },
  {
   "cell_type": "code",
   "execution_count": 5,
   "metadata": {},
   "outputs": [],
   "source": [
    "import bempp.api\n",
    "import numpy as np\n",
    "import scipy\n",
    "from numba import objmode\n",
    "import numba\n",
    "import math\n",
    "%matplotlib inline\n",
    "import matplotlib.pyplot as plt"
   ]
  },
  {
   "cell_type": "markdown",
   "metadata": {},
   "source": [
    "Define the wavenumber $k$, the 3D scatterer, unit sphere, the vertices on the grid and function space."
   ]
  },
  {
   "cell_type": "code",
   "execution_count": 6,
   "metadata": {},
   "outputs": [],
   "source": [
    "h = 0.3 # Size of the mesh\n",
    "d = [1,0,0] # wave's travel direction\n",
    "k = 5 # wavenumber\n",
    "\n",
    "# far field points: unit sphere\n",
    "unit_sphere = bempp.api.shapes.sphere(r = 1, origin=(0,0,0), h = h)\n",
    "vert_sphere = unit_sphere.vertices\n",
    "space_sphere = bempp.api.function_space(unit_sphere, 'P', 1)\n",
    "\n",
    "# scatterer: cube\n",
    "dom_cube = bempp.api.shapes.cube(length = 2/1.8, origin=(-1/1.8,-1/1.8,-1/1.8), h = h)\n",
    "vert_cube = dom_cube.vertices\n",
    "space_cube = bempp.api.function_space(dom_cube,'P',1)"
   ]
  },
  {
   "cell_type": "markdown",
   "metadata": {},
   "source": [
    "Here, we define the identity ($Id$), double layer ($K$) and hypersingular boundary operators ($W$) on the boudary of the domain. We can use then to construct the LHS of the Burton-Miller formulation: $\\frac{1}{2}\\text{Id} - \\text{K} + \\frac{i}{k}\\text{W}$"
   ]
  },
  {
   "cell_type": "code",
   "execution_count": 7,
   "metadata": {},
   "outputs": [],
   "source": [
    "identity = bempp.api.operators.boundary.sparse.identity(space_cube, space_cube,space_cube)\n",
    "dlp = bempp.api.operators.boundary.helmholtz.double_layer(space_cube, space_cube,space_cube,k)\n",
    "hyp = bempp.api.operators.boundary.helmholtz.hypersingular(space_cube, space_cube,space_cube,k)\n",
    "\n",
    "burton_miller = .5 * identity - dlp + (1j/k) * hyp"
   ]
  },
  {
   "cell_type": "markdown",
   "metadata": {},
   "source": [
    "The following defines the spherical harmonic functions $Y_{q}^{p}(\\hat{x})$, spherical bessel/hankel function $j_{q}(k|x|)$, $h_{q}^{(1)}(k|x|)$ and construct $\\tilde{e}_{q}^{p}$ and $e_{q}^{p}$. $$Y_{q}^{p}(\\hat{x}) = (-1)^{(p+|p|)/2}\\sqrt{\\frac{2q+1}{4\\pi}\\frac{(q-|p|)!}{(q+|p|)!}}P_{q}^{|p|}(\\cos(\\text{polar}))e^{ip*\\text{azimuthal}},$$ $$j_{q}(k|x|) = \\sqrt{\\frac{\\pi}{2k|x|}}J_{q+0.5}(k|x|),$$\n",
    "$$h_{q}^{(1)}(k|x|) = \\sqrt{\\frac{\\pi}{2k|x|}}H_{q+0.5}^{(1)}(k|x|),$$ where $\\text{polar} = \\arccos(\\frac{x_{3}}{|x|})$ and $\\text{azimuthal} = \\arctan(\\frac{x_{2}}{x_{1}})$."
   ]
  },
  {
   "cell_type": "code",
   "execution_count": 8,
   "metadata": {},
   "outputs": [],
   "source": [
    "def normalized_spherical_harmonics(p, q, x):\n",
    "    \"\"\"Spherical Harmonic function of degree q\"\"\"\n",
    "    azimuth = np.arctan2(x[1],x[0])\n",
    "    polar = np.arccos(x[2]/np.linalg.norm(x))\n",
    "    temp = np.array(scipy.special.lpmn(abs(p),q, np.cos(polar))[0]) \n",
    "    legd_poly = temp[-1,-1]\n",
    "    return (-1)**((p + abs(p))/2)*np.sqrt(((2*q+1)/(4*np.pi))*(math.factorial(q-abs(p))/math.factorial(q+abs(p))))*legd_poly*np.exp(1j*p*azimuth)\n",
    "\n",
    "def spherical_bessel_function(q,x):\n",
    "    \"\"\"Spherical Bessel function of degree q\"\"\"\n",
    "    r = np.linalg.norm(x)\n",
    "    return np.sqrt(np.pi/(2*k*r))*scipy.special.jv(q+0.5, k*r)\n",
    "\n",
    "def regular_spherical_wavefunctions(p,q,x):\n",
    "    \"\"\"Regular Spherical Wavefunction\"\"\"\n",
    "    return spherical_bessel_function(q,x)*normalized_spherical_harmonics(p,q,x)"
   ]
  },
  {
   "cell_type": "markdown",
   "metadata": {},
   "source": [
    "We will use the formula: $(\\frac{1}{2}\\text{Id} - \\text{K} + \\frac{i}{k}\\text{W})\\phi = u^{i} + \\frac{i}{k}\\nabla u^{i}\\cdot n$ to solve the scattered field $u^{s} = \\mathcal{K}\\phi$, where $\\mathcal{K}$ is the double layer potential operator. In order to construct the normal derivative of the incident wave $\\tilde{e}_{q}^{p}(x)$, we need to define the derivative of the $j_{q}$ with regard to $r = |x|$, and $Y_{q}^{p}$ with regard to polar angle and azimuthal."
   ]
  },
  {
   "cell_type": "markdown",
   "metadata": {},
   "source": [
    "We set the normal derivative of $\\tilde{e_{q}^{p}}$ as \n",
    "$$\\nabla{\\tilde{e_{q}^{p}}}\\cdot n = \\left(\\frac{\\partial j_{q}(k|x|)}{\\partial r}Y_{q}^{p}\\hat{r} + \\frac{1}{r}\\frac{\\partial Y_{q}^{p}}{\\partial \\text{polar}} j_{q}(k|x|)\\hat{\\text{polar}} + \\frac{1}{r\\sin(\\text{polar})}\\frac{\\partial Y_{q}^{p}}{\\partial \\text{azi}} j_{q}(k|x|)\\hat{\\text{azi}}\\right)\\cdot \\left(|n|\\hat{r} + \\arccos(\\frac{n_{3}}{r})\\hat{\\text{polar}} + \\arctan(\\frac{n_{2}}{n_{1}})\\hat{\\text{azi}}\\right) $$"
   ]
  },
  {
   "cell_type": "markdown",
   "metadata": {},
   "source": [
    "$$\\frac{\\partial Y_{q}^{p}}{\\partial \\text{polar}} = |p|\\cot(\\text{polar})Y_{q}^{p}+\\sqrt{(q-|p|)(q+|p|+1)}e^{-i*\\text{azi}}Y_{q}^{p+1}$$\n",
    "\n",
    "$$\\frac{\\partial Y_{q}^{p}}{\\partial \\text{azi}} = ipY_{q}^{p}$$\n",
    "\n",
    "$$\\frac{\\partial j_{q}(z)}{\\partial z} = j_{q-1}(z) - \\frac{q+1}{z}j_{q}(z) \\implies \\frac{\\partial j_{q}(k|x|)}{\\partial r} = k*j_{q-1}(k|x|) - k*\\frac{q+1}{k|x|}j_{q}(k*|x|)$$ "
   ]
  },
  {
   "cell_type": "code",
   "execution_count": 10,
   "metadata": {},
   "outputs": [],
   "source": [
    "def normalized_spherical_harmonics_dpolar(p, q, x):\n",
    "    polar = np.arccos(x[2]/np.linalg.norm(x))\n",
    "    azimuth = np.arctan2(x[1],x[0])\n",
    "    y1 = normalized_spherical_harmonics(p, q, x)\n",
    "    if p == q or -p == q:\n",
    "        return (abs(p) / np.tan(polar)) * y1\n",
    "    else:\n",
    "        y2 = normalized_spherical_harmonics(p + 1, q, x)\n",
    "        return (abs(p) / np.tan(polar)) * y1 + np.sqrt((q - abs(p)) * (q + abs(p) + 1)) * np.exp(-1j * azimuth) * y2\n",
    "\n",
    "def normalized_spherical_harmonics_dazimuth(p, q, x):\n",
    "    return 1j * p * normalized_spherical_harmonics(p, q, x)\n",
    "\n",
    "def spherical_bessel_function_dr(q,x):\n",
    "    r = np.linalg.norm(x)\n",
    "    return k*(spherical_bessel_function(q-1,x) - ((q+1)/(k*r))*spherical_bessel_function(q,x))"
   ]
  },
  {
   "cell_type": "markdown",
   "metadata": {},
   "source": [
    "For each incident wave $\\tilde{e_{q}^{p}}$, we compute the far field pattern of its scattered field and store the coefficients of the far field grid function into a list; and also store the corresponding spherical harmonics grid function's coefficients into a list as well, since we will use them to compute the l2-inner product $t_{q'p',qp} = <u_{q}^{p\\infty},Y_{q'}^{p'}>*(k/(-i)^{q'+1})$. "
   ]
  },
  {
   "cell_type": "markdown",
   "metadata": {},
   "source": [
    "Note that since the functions are complex-valued functions, the coefficients of the spherical harmonics grid function is its conjugate function's coefficients over $(-i)^{q'+1}$."
   ]
  },
  {
   "cell_type": "code",
   "execution_count": 27,
   "metadata": {},
   "outputs": [],
   "source": [
    "deg = 10\n",
    "dlp_far_field_coeff = []\n",
    "sph_harm_coeff = []\n",
    "\n",
    "for q in range(deg+1):\n",
    "    for p in range(-q,q+1):\n",
    "        @bempp.api.complex_callable\n",
    "        def dirichlet_fun(x,n,domain_index,result):\n",
    "                with objmode():\n",
    "                    result[0] = regular_spherical_wavefunctions(p,q,x)\n",
    "\n",
    "        @bempp.api.complex_callable\n",
    "        def neumann_fun(x, n, domain_index, result):\n",
    "            with objmode():\n",
    "                r = np.linalg.norm(x)\n",
    "                azimuth = np.arctan2(x[1],x[0])\n",
    "                polar = np.arccos(x[2]/r)\n",
    "                \n",
    "                r_ = spherical_bessel_function_dr(q,x)*normalized_spherical_harmonics(p,q,x)\n",
    "                polar_ = (1/r)*normalized_spherical_harmonics_dpolar(p,q,x)*spherical_bessel_function(q,x)\n",
    "                azimuth_ = (1/(r*np.sin(polar)))*normalized_spherical_harmonics_dazimuth(p,q,x)*spherical_bessel_function(q,x)\n",
    "                \n",
    "                x0 = r_*np.sin(polar_)*np.cos(azimuth_)\n",
    "                x1 = r_*np.sin(polar_)*np.sin(azimuth_)\n",
    "                x2 = r_*np.cos(polar_)\n",
    "                \n",
    "                sph_to_cart = [x0, x1, x2]                      \n",
    "                normal = [n[0],n[1],n[2]]\n",
    "\n",
    "                result[0] = np.inner(sph_to_cart, normal)\n",
    "\n",
    "        dirichlet_grid_fun = bempp.api.GridFunction(space_cube, fun = dirichlet_fun)\n",
    "        neumann_grid_fun = bempp.api.GridFunction(space_cube, fun = neumann_fun)\n",
    "        rhs_fun = dirichlet_grid_fun + (1j/k)*neumann_grid_fun\n",
    "        total_field, info, it_count = bempp.api.linalg.gmres(burton_miller,rhs_fun,use_strong_form=True, return_iteration_count=True)\n",
    "        dlp_far_field = bempp.api.operators.far_field.helmholtz.double_layer(space_cube,vert_sphere,k) # the space here can only be space_cube, verts from unit sphere\n",
    "        dlp_far_field_coeff.append(dlp_far_field * total_field)                                    \n",
    "\n",
    "        @bempp.api.complex_callable\n",
    "        def sph_harm(x,n,domain_index,result):\n",
    "            with objmode():\n",
    "                result[0] = np.conj(normalized_spherical_harmonics(p,q,x))\n",
    "        sph_harm_grid = bempp.api.GridFunction(space_sphere,fun = sph_harm)  # space can only be space_sphere\n",
    "        sph_harm_coeff.append((sph_harm_grid.coefficients))"
   ]
  },
  {
   "cell_type": "code",
   "execution_count": 28,
   "metadata": {},
   "outputs": [],
   "source": [
    "mass_mat = bempp.api.operators.boundary.sparse.identity(space_sphere,space_sphere,space_sphere).weak_form().A\n",
    "\n",
    "T_matrix = np.zeros(((deg+1)**2,(deg+1)**2),dtype = complex)\n",
    "for i in range((deg+1)**2):\n",
    "    for j in range((deg+1)**2):\n",
    "        T_matrix[i,j] = dlp_far_field_coeff[j] @ mass_mat @ sph_harm_coeff[i]"
   ]
  },
  {
   "cell_type": "markdown",
   "metadata": {},
   "source": [
    "### Test the T-matrix "
   ]
  },
  {
   "cell_type": "markdown",
   "metadata": {},
   "source": [
    "Use the T matrix to compute the scattering field's coefficients and use these coefficients to reconstruct the approximated scattered field on the sphere."
   ]
  },
  {
   "cell_type": "markdown",
   "metadata": {},
   "source": [
    "We set the incident wave $u^{i}$ as a plain wave $e^{ikx}$ and the first task is to expand it with respect to the basis $\\tilde{e_{q}^{p}}$ and we have the analytical form of its coefficients."
   ]
  },
  {
   "cell_type": "code",
   "execution_count": 29,
   "metadata": {},
   "outputs": [],
   "source": [
    "def coeff_sph_expansion(p,q):\n",
    "    \"\"\"Analytical formula of the coefficients of the spherical expansions of plane waves\"\"\"\n",
    "    coeff = 4*np.pi*(1j)**q*normalized_spherical_harmonics(-p,q,d)/(-1)**(p + abs(p))\n",
    "    return coeff"
   ]
  },
  {
   "cell_type": "markdown",
   "metadata": {},
   "source": [
    "We put all the coefficients of the incident wave into a list and multiply it with the T matrix to obtain the scattered field's coefficients"
   ]
  },
  {
   "cell_type": "code",
   "execution_count": 30,
   "metadata": {},
   "outputs": [],
   "source": [
    "coeff_inc = []\n",
    "for q in range(deg+1):\n",
    "    for p in range(-q, q+1):\n",
    "        coeff_inc.append(coeff_sph_expansion(p,q))"
   ]
  },
  {
   "cell_type": "code",
   "execution_count": 31,
   "metadata": {},
   "outputs": [],
   "source": [
    "coeff_sca = T_matrix @ coeff_inc"
   ]
  },
  {
   "cell_type": "markdown",
   "metadata": {},
   "source": [
    "We multiply the coefficients and radiating spherical wavefunctions together to obtain the scattering field and construct the grid function on the unit sphere."
   ]
  },
  {
   "cell_type": "code",
   "execution_count": 32,
   "metadata": {},
   "outputs": [],
   "source": [
    "def sca_far_field(x):\n",
    "    fun = 0\n",
    "    i = 0\n",
    "    for q in range(deg+1):\n",
    "        for p in range(-q,q+1):\n",
    "            fun += coeff_sca[i]*radiating_spherical_wavefunctions(p,q,x)\n",
    "            i +=1\n",
    "    return fun"
   ]
  },
  {
   "cell_type": "markdown",
   "metadata": {},
   "source": [
    "This is the grid function of the far field pattern of the scattering field on the sphere."
   ]
  },
  {
   "cell_type": "code",
   "execution_count": 33,
   "metadata": {},
   "outputs": [],
   "source": [
    "@bempp.api.complex_callable\n",
    "def sca_far_field_func(x, n, domain_index, result):\n",
    "    with objmode():\n",
    "        result[0] = sca_far_field(x)\n",
    "    \n",
    "sca_far_field_grid_func = bempp.api.GridFunction(space_sphere, fun=sca_far_field_func)"
   ]
  },
  {
   "cell_type": "markdown",
   "metadata": {},
   "source": [
    "This is the conjugate grid function of the far field pattern of the scattering field on the sphere."
   ]
  },
  {
   "cell_type": "code",
   "execution_count": 34,
   "metadata": {},
   "outputs": [],
   "source": [
    "@bempp.api.complex_callable\n",
    "def sca_far_field_func_conj(x, n, domain_index, result):\n",
    "    with objmode():\n",
    "        result[0] = np.conj(sca_far_field(x))\n",
    "    \n",
    "sca_far_field_grid_func_conj = bempp.api.GridFunction(space_sphere, fun=sca_far_field_func_conj)"
   ]
  },
  {
   "cell_type": "markdown",
   "metadata": {},
   "source": [
    "Compute the exact scattered field on the cube and find the far field of it on the sphere."
   ]
  },
  {
   "cell_type": "code",
   "execution_count": 35,
   "metadata": {},
   "outputs": [],
   "source": [
    "@bempp.api.complex_callable\n",
    "def dirichlet_fun_exact(x,n,domain_index,result):\n",
    "    result[0] = np.exp(1j * k * x[0])\n",
    "\n",
    "@bempp.api.complex_callable\n",
    "def neumann_fun_exact(x, n, domain_index, result):        \n",
    "    result[0] = 1j * k * n[0] * np.exp(1j * k * x[0])\n",
    "\n",
    "dirichlet_grid_fun_exact = bempp.api.GridFunction(space_cube, fun = dirichlet_fun_exact)\n",
    "neumann_grid_fun_exact = bempp.api.GridFunction(space_cube, fun = neumann_fun_exact)\n",
    "rhs_fun_exact = dirichlet_grid_fun_exact + (1j/k)*neumann_grid_fun_exact\n",
    "total_field_exact, info_exact, it_count_exact = bempp.api.linalg.gmres(burton_miller,rhs_fun_exact,use_strong_form=True, return_iteration_count=True)\n",
    "dlp_far_field_exact = bempp.api.operators.far_field.helmholtz.double_layer(space_cube,vert_sphere,k)"
   ]
  },
  {
   "cell_type": "markdown",
   "metadata": {},
   "source": [
    "Compute the l2 norm of the difference $u_{exact}^{s} - u_{appro}^{s}$ in the far field.  \n",
    "$$||u_{exact}^{s} - u_{appro}^{s}||_{l_{2}(sphere)} = <u_{exact}^{s} - u_{appro}^{s}, u_{exact}^{s} - u_{appro}^{s}>^{\\frac{1}{2}} = <\\delta u, \\delta u>^{\\frac{1}{2}} = \\int \\delta u\\delta u ^{*}dx$$"
   ]
  },
  {
   "cell_type": "code",
   "execution_count": 36,
   "metadata": {},
   "outputs": [],
   "source": [
    "dlp_far_field_coeff_exact = dlp_far_field_exact * total_field_exact                         \n",
    "dlp_far_field_coeff_exact_conj = np.conj(dlp_far_field_coeff_exact)"
   ]
  },
  {
   "cell_type": "code",
   "execution_count": 37,
   "metadata": {},
   "outputs": [],
   "source": [
    "error_coeff_test1 = dlp_far_field_coeff_exact - sca_far_field_grid_func.coefficients\n",
    "error_coeff_test2 = dlp_far_field_coeff_exact_conj - sca_far_field_grid_func_conj.coefficients\n",
    "\n",
    "\n",
    "error_test = np.sqrt(error_coeff_test1 @ mass_mat @ error_coeff_test2.T)"
   ]
  },
  {
   "cell_type": "code",
   "execution_count": 38,
   "metadata": {},
   "outputs": [
    {
     "data": {
      "text/plain": [
       "array([[1.4114652-1.96643712e-17j]])"
      ]
     },
     "execution_count": 38,
     "metadata": {},
     "output_type": "execute_result"
    }
   ],
   "source": [
    "error_test"
   ]
  },
  {
   "cell_type": "code",
   "execution_count": null,
   "metadata": {},
   "outputs": [],
   "source": []
  }
 ],
 "metadata": {
  "kernelspec": {
   "display_name": "Python 3",
   "language": "python",
   "name": "python3"
  },
  "language_info": {
   "codemirror_mode": {
    "name": "ipython",
    "version": 3
   },
   "file_extension": ".py",
   "mimetype": "text/x-python",
   "name": "python",
   "nbconvert_exporter": "python",
   "pygments_lexer": "ipython3",
   "version": "3.7.0"
  }
 },
 "nbformat": 4,
 "nbformat_minor": 2
}
