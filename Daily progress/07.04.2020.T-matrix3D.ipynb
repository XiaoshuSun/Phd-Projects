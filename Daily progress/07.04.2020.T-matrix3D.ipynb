{
 "cells": [
  {
   "cell_type": "markdown",
   "metadata": {},
   "source": [
    "# T-matrix computation for 3D acoustic scattering "
   ]
  },
  {
   "cell_type": "code",
   "execution_count": 1,
   "metadata": {},
   "outputs": [],
   "source": [
    "import bempp.api\n",
    "import numpy as np\n",
    "import scipy\n",
    "from numba import objmode\n",
    "import numba\n",
    "import math\n",
    "%matplotlib inline\n",
    "import matplotlib.pyplot as plt"
   ]
  },
  {
   "cell_type": "code",
   "execution_count": null,
   "metadata": {},
   "outputs": [],
   "source": [
    "h = 0.3 # Size of the mesh\n",
    "d = [1,0,0] # wave's travel direction\n",
    "k = 5 # wavenumber\n",
    "\n",
    "# far field points: unit sphere\n",
    "unit_sphere = bempp.api.shapes.sphere(r = 1, origin=(0,0,0), h = h)\n",
    "vert_sphere = unit_sphere.vertices\n",
    "space_sphere = bempp.api.function_space(unit_sphere, 'P', 1)\n",
    "\n",
    "# scatterer: cube\n",
    "dom_cube = bempp.api.shapes.cube(length = 2/1.8, origin=(-1/1.8,-1/1.8,-1/1.8), h = h)\n",
    "vert_cube = dom_cube.vertices\n",
    "space_cube = bempp.api.function_space(dom_cube,'P',1)"
   ]
  },
  {
   "cell_type": "code",
   "execution_count": null,
   "metadata": {},
   "outputs": [],
   "source": [
    "eta = k\n",
    "\n",
    "identity = bempp.api.operators.boundary.sparse.identity(space_cube, space_cube,space_cube)\n",
    "slp = bempp.api.operators.boundary.helmholtz.single_layer(space_cube,space_cube,space_cube,k)\n",
    "adlp = bempp.api.operators.boundary.helmholtz.adjoint_double_layer(space_cube, space_cube,space_cube,k)\n",
    "\n",
    "lhs = 0.5 * identity + adlp - 1j* eta *slp"
   ]
  },
  {
   "cell_type": "code",
   "execution_count": null,
   "metadata": {},
   "outputs": [],
   "source": [
    "def normalized_spherical_harmonics(p, q, x):\n",
    "    \"\"\"Spherical Harmonic function of degree q\"\"\"\n",
    "    azimuth = np.arctan2(x[1],x[0])\n",
    "    polar = np.arccos(x[2]/np.linalg.norm(x))\n",
    "    if p >= 0:\n",
    "        return ((-1)**p) * scipy.special.sph_harm(p,q,azimuth,polar)\n",
    "    else:\n",
    "        return scipy.special.sph_harm(-p,q,azimuth,polar)*np.exp(1j*2*p*azimuth)\n",
    "\n",
    "def spherical_bessel_function(q,x):\n",
    "    \"\"\"Spherical Bessel function of degree q\"\"\"\n",
    "    r = np.linalg.norm(x)\n",
    "    return scipy.special.spherical_jn(q,k*r)\n",
    "\n",
    "\n",
    "def spherical_hankel_function(q,x):\n",
    "    \"\"\"Spherical hankel function of degree q\"\"\"\n",
    "    r = np.linalg.norm(x)\n",
    "    return scipy.special.spherical_jn(q, k*r) + 1j * scipy.special.spherical_yn(q, k*r)\n",
    "\n",
    "def regular_spherical_wavefunctions(p,q,x):\n",
    "    \"\"\"Regular Spherical Wavefunction\"\"\"\n",
    "    return spherical_bessel_function(q,x)*normalized_spherical_harmonics(p,q,x)\n",
    "\n",
    "def radiating_spherical_wavefunctions(p,q,x):\n",
    "    \"\"\"Radiating Spherical Wavefunction\"\"\"\n",
    "    return spherical_hankel_function(q,x)*normalized_spherical_harmonics(p,q,x)"
   ]
  },
  {
   "cell_type": "code",
   "execution_count": null,
   "metadata": {},
   "outputs": [],
   "source": [
    "def normalized_spherical_harmonics_dpolar(p, q, x):\n",
    "    polar = np.arccos(x[2]/np.linalg.norm(x))\n",
    "    azimuth = np.arctan2(x[1],x[0])\n",
    "    y1 = normalized_spherical_harmonics(p, q, x)\n",
    "    y3 = normalized_spherical_harmonics(-p, q, x)\n",
    "    \n",
    "    if abs(p) == q and p >= 0:\n",
    "        return (p / np.tan(polar)) * y1 \n",
    "    elif abs(p) != q and p >= 0:\n",
    "        y2 = normalized_spherical_harmonics(p + 1, q, x)\n",
    "        return (p / np.tan(polar)) * y1 + np.sqrt((q - p) * (q + p + 1)) * np.exp(-1j * azimuth) * y2\n",
    "    elif abs(p) == q and p < 0:\n",
    "        return (-p / np.tan(polar)) * y3 * np.exp(1j*p*azimuth*2) / (-1)**(-p)\n",
    "    elif abs(p) != q and p < 0:\n",
    "        y4 = normalized_spherical_harmonics(-p + 1, q, x)\n",
    "        return ((-p / np.tan(polar)) * y3 + np.sqrt((q - (-p)) * (q + (-p) + 1)) * np.exp(-1j * azimuth) * y4) * (np.exp(1j*p*azimuth*2) / ((-1)**(-p)))\n",
    "\n",
    "def normalized_spherical_harmonics_dazimuth(p, q, x):\n",
    "    return 1j * p * normalized_spherical_harmonics(p, q, x)\n",
    "\n",
    "def spherical_bessel_function_dr(q,x):\n",
    "    r = np.linalg.norm(x)\n",
    "    return k*(-spherical_bessel_function(q+1,x) + q/(k*r)*spherical_bessel_function(q,x))"
   ]
  },
  {
   "cell_type": "code",
   "execution_count": null,
   "metadata": {},
   "outputs": [],
   "source": [
    "deg = 10\n",
    "slp_far_field_coeff = []\n",
    "\n",
    "for q in range(deg+1):\n",
    "    for p in range(-q,q+1):\n",
    "        @bempp.api.complex_callable\n",
    "        def rhs_data(x, n, domain_index, result):\n",
    "            with objmode():\n",
    "                r = np.linalg.norm(x)\n",
    "                azimuth = np.arctan2(x[1],x[0])\n",
    "                polar = np.arccos(x[2]/r)\n",
    "\n",
    "                r_ = spherical_bessel_function_dr(q,x)*normalized_spherical_harmonics(p,q,x)\n",
    "                polar_ = (1/r)*normalized_spherical_harmonics_dpolar(p,q,x)*spherical_bessel_function(q,x)\n",
    "                azimuth_ = (1/(r*np.sin(polar)))*normalized_spherical_harmonics_dazimuth(p,q,x)*spherical_bessel_function(q,x)\n",
    "\n",
    "                x0 = r_*np.sin(polar_)*np.cos(azimuth_)\n",
    "                x1 = r_*np.sin(polar_)*np.sin(azimuth_)\n",
    "                x2 = r_*np.cos(polar_)\n",
    "\n",
    "                sph_to_cart = [x0, x1, x2]                      \n",
    "                normal = [n[0],n[1],n[2]]\n",
    "\n",
    "                result[0] = np.inner(sph_to_cart, normal) - 1j * eta * regular_spherical_wavefunctions(p,q,x)\n",
    "\n",
    "        rhs_fun = bempp.api.GridFunction(space_cube, fun = rhs_data)\n",
    "        neumann_total_field, info = bempp.api.linalg.gmres(lhs, rhs_fun, tol=1E-5)\n",
    "        slp_far_field = bempp.api.operators.far_field.helmholtz.single_layer(space_cube,vert_sphere,k)\n",
    "        slp_far_field_coeff.append(- slp_far_field.evaluate(neumann_total_field))"
   ]
  },
  {
   "cell_type": "code",
   "execution_count": null,
   "metadata": {},
   "outputs": [],
   "source": [
    "sph_harm_coeff = []\n",
    "\n",
    "for q in range(deg+1):\n",
    "    for p in range(-q,q+1):\n",
    "        @bempp.api.complex_callable\n",
    "        def sph_harm(x,n,domain_index,result):\n",
    "            with objmode():\n",
    "                result[0] = normalized_spherical_harmonics(p,q,x)\n",
    "        sph_harm_grid = bempp.api.GridFunction(space_sphere,fun = sph_harm)\n",
    "        sph_harm_coeff.append(sph_harm_grid.coefficients)"
   ]
  },
  {
   "cell_type": "code",
   "execution_count": null,
   "metadata": {},
   "outputs": [],
   "source": [
    "mass_mat = bempp.api.operators.boundary.sparse.identity(space_sphere,space_sphere,space_sphere).weak_form().A\n",
    "\n",
    "T_matrix = np.zeros(((deg+1)**2,(deg+1)**2),dtype = complex)\n",
    "for i in range((deg+1)**2):\n",
    "    for j in range((deg+1)**2):\n",
    "        T_matrix[i,j] = slp_far_field_coeff[j] @ mass_mat @ np.conj(sph_harm_coeff[i])"
   ]
  },
  {
   "cell_type": "markdown",
   "metadata": {},
   "source": [
    "### Test the T-matrix "
   ]
  },
  {
   "cell_type": "code",
   "execution_count": null,
   "metadata": {},
   "outputs": [],
   "source": [
    "def coeff_sph_expansion(p,q):\n",
    "    \"\"\"Analytical formula of the coefficients of the spherical expansions of plane waves\"\"\"\n",
    "    coeff = 4*np.pi*(1j)**q*normalized_spherical_harmonics(-p,q,d)/(-1)**(p + abs(p))\n",
    "    return coeff"
   ]
  },
  {
   "cell_type": "code",
   "execution_count": null,
   "metadata": {},
   "outputs": [],
   "source": [
    "coeff_inc = []\n",
    "for q in range(deg+1):\n",
    "    for p in range(-q, q+1):\n",
    "        coeff_inc.append(coeff_sph_expansion(p,q))"
   ]
  },
  {
   "cell_type": "code",
   "execution_count": null,
   "metadata": {},
   "outputs": [],
   "source": [
    "coeff_sca = T_matrix @ coeff_inc"
   ]
  },
  {
   "cell_type": "code",
   "execution_count": null,
   "metadata": {},
   "outputs": [],
   "source": [
    "def sca_far_field(x):\n",
    "    fun = 0\n",
    "    i = 0\n",
    "    for q in range(deg+1):\n",
    "        for p in range(-q,q+1):\n",
    "            fun += coeff_sca[i]*(1/k)*(-1j)**(q+1) * normalized_spherical_harmonics(p, q, x)\n",
    "            i +=1\n",
    "    return fun"
   ]
  },
  {
   "cell_type": "markdown",
   "metadata": {},
   "source": [
    "This is the grid function of the far field pattern of the scattering field on the sphere."
   ]
  },
  {
   "cell_type": "code",
   "execution_count": null,
   "metadata": {},
   "outputs": [],
   "source": [
    "@bempp.api.complex_callable\n",
    "def sca_far_field_func(x, n, domain_index, result):\n",
    "    with objmode():\n",
    "        result[0] = sca_far_field(x)\n",
    "    \n",
    "sca_far_field_grid_func = bempp.api.GridFunction(space_sphere, fun=sca_far_field_func)"
   ]
  },
  {
   "cell_type": "markdown",
   "metadata": {},
   "source": [
    "Compute the exact scattered field on the cube and find the far field of it on the sphere."
   ]
  },
  {
   "cell_type": "code",
   "execution_count": null,
   "metadata": {},
   "outputs": [],
   "source": [
    "@bempp.api.complex_callable\n",
    "def combined_data(x, n, domain_index, result):\n",
    "    result[0] = 1j * k * np.exp(1j * k * x[0]) * n[0] - 1j * eta * np.exp(1j * k * x[0])\n",
    "\n",
    "rhs_fun_exact = bempp.api.GridFunction(space_cube, fun=combined_data)\n",
    "neumann_total_field_exact, info_exact = bempp.api.linalg.gmres(lhs,rhs_fun_exact,tol=1E-5)\n",
    "slp_far_field_exact = bempp.api.operators.far_field.helmholtz.single_layer(space_cube,vert_sphere,k)\n",
    "slp_far_field_coeff_exact = - slp_far_field_exact.evaluate(neumann_total_field_exact)"
   ]
  },
  {
   "cell_type": "markdown",
   "metadata": {},
   "source": [
    "Compute the l2 norm of the difference $u_{exact}^{s} - u_{appro}^{s}$ in the far field.  \n",
    "$$||u_{exact}^{s} - u_{appro}^{s}||_{l_{2}(sphere)} = <u_{exact}^{s} - u_{appro}^{s}, u_{exact}^{s} - u_{appro}^{s}>^{\\frac{1}{2}} = <\\delta u, \\delta u>^{\\frac{1}{2}} = \\int \\delta u\\delta u ^{*}dx$$"
   ]
  },
  {
   "cell_type": "code",
   "execution_count": null,
   "metadata": {},
   "outputs": [],
   "source": [
    "error_coeff_test1 = slp_far_field_coeff_exact - sca_far_field_grid_func.coefficients\n",
    "error_coeff_test2 = np.conj(slp_far_field_coeff_exact) - np.conj(sca_far_field_grid_func.coefficients)\n",
    "error_test = np.sqrt(error_coeff_test1 @ mass_mat @ error_coeff_test2.T)"
   ]
  },
  {
   "cell_type": "code",
   "execution_count": null,
   "metadata": {},
   "outputs": [],
   "source": [
    "error_test"
   ]
  },
  {
   "cell_type": "code",
   "execution_count": null,
   "metadata": {},
   "outputs": [],
   "source": []
  }
 ],
 "metadata": {
  "kernelspec": {
   "display_name": "Python 3",
   "language": "python",
   "name": "python3"
  },
  "language_info": {
   "codemirror_mode": {
    "name": "ipython",
    "version": 3
   },
   "file_extension": ".py",
   "mimetype": "text/x-python",
   "name": "python",
   "nbconvert_exporter": "python",
   "pygments_lexer": "ipython3",
   "version": "3.7.0"
  }
 },
 "nbformat": 4,
 "nbformat_minor": 2
}
