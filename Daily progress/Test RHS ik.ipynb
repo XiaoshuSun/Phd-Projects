{
 "cells": [
  {
   "cell_type": "code",
   "execution_count": 34,
   "metadata": {},
   "outputs": [],
   "source": [
    "import bempp.api\n",
    "from bempp.api.assembly.blocked_operator import BlockedOperator\n",
    "import math\n",
    "import numpy as np\n",
    "import scipy \n",
    "import cmath\n",
    "from numba import objmode\n",
    "from numpy.linalg import slogdet\n",
    "from bempp.api.operators.far_field import helmholtz as helmholtz_farfield\n",
    "import matplotlib.pyplot as plt\n",
    "bempp.core.opencl_kernels.set_default_device(0,0)"
   ]
  },
  {
   "cell_type": "code",
   "execution_count": 3,
   "metadata": {},
   "outputs": [],
   "source": [
    "list_test = [0.013588268535108528j, -0.012763515663970715j, 0.012070076757241921j, -0.011805638151917819j, 0.011039307342297633j, -0.010086123938489067j, \n",
    "0.00873873251259738j, -0.006891155203387456j, 0.004886613986961663j]"
   ]
  },
  {
   "cell_type": "code",
   "execution_count": 5,
   "metadata": {},
   "outputs": [
    {
     "data": {
      "text/plain": [
       "array([ 0.+0.00432528j, -0.-0.00406275j,  0.+0.00384202j, -0.-0.00375785j,\n",
       "        0.+0.00351392j, -0.-0.00321051j,  0.+0.00278162j, -0.-0.00219352j,\n",
       "        0.+0.00155546j])"
      ]
     },
     "execution_count": 5,
     "metadata": {},
     "output_type": "execute_result"
    }
   ],
   "source": [
    "np.array(list_test)/np.pi"
   ]
  },
  {
   "cell_type": "code",
   "execution_count": 2,
   "metadata": {},
   "outputs": [],
   "source": [
    "h = 0.2\n",
    "deg = 5"
   ]
  },
  {
   "cell_type": "code",
   "execution_count": 3,
   "metadata": {},
   "outputs": [],
   "source": [
    "def normalized_spherical_harmonics(p, q, x):\n",
    "    \"\"\"Spherical Harmonic function of degree q\"\"\"\n",
    "    azimuth = np.arctan2(x[1],x[0])\n",
    "    polar = np.arccos(x[2]/np.linalg.norm(x))\n",
    "    if p >= 0:\n",
    "        return ((-1)**p) * scipy.special.sph_harm(p,q,azimuth,polar)\n",
    "    else:\n",
    "        return scipy.special.sph_harm(-p,q,azimuth,polar)*np.exp(1j*2*p*azimuth)\n",
    "\n",
    "def spherical_bessel_function(q,x):\n",
    "    \"\"\"Spherical Bessel function of degree q\"\"\"\n",
    "    r = np.linalg.norm(x)\n",
    "    return np.sqrt(np.pi/(2*wavenumber*r))*scipy.special.jv(q+0.5, wavenumber*r)\n",
    "\n",
    "def regular_spherical_wavefunctions(p,q,x):\n",
    "    \"\"\"Regular Spherical Wavefunction\"\"\"\n",
    "    return spherical_bessel_function(q,x)*normalized_spherical_harmonics(p,q,x)"
   ]
  },
  {
   "cell_type": "code",
   "execution_count": 14,
   "metadata": {},
   "outputs": [],
   "source": [
    "center1 = (1.75, 0, 0)\n",
    "center2 = (-1.75, 0, 0)\n",
    "\n",
    "sphere1 = bempp.api.shapes.sphere(r = 0.25, h=h, origin=center1)\n",
    "sphere2 = bempp.api.shapes.sphere(r = 0.25, h=h, origin=center2)\n",
    "combined_scatters = bempp.api.grid.grid.union([sphere1,sphere2])\n",
    "\n",
    "space_sphere1 = bempp.api.function_space(sphere1, \"P\", 1)\n",
    "space_sphere2 = bempp.api.function_space(sphere2, \"P\", 1)\n",
    "space_combined = bempp.api.function_space(combined_scatters,'P',1)\n",
    "\n",
    "unit_sphere = bempp.api.shapes.sphere(r = 1, origin=(0,0,0), h = h)\n",
    "vert_unit_sphere = unit_sphere.vertices\n",
    "space_unit_sphere = bempp.api.function_space(unit_sphere, 'P', 1)"
   ]
  },
  {
   "cell_type": "code",
   "execution_count": 15,
   "metadata": {},
   "outputs": [],
   "source": [
    "mass_mat = bempp.api.operators.boundary.sparse.identity(space_unit_sphere, space_unit_sphere, space_unit_sphere).weak_form().A"
   ]
  },
  {
   "cell_type": "code",
   "execution_count": 16,
   "metadata": {},
   "outputs": [],
   "source": [
    "sph_harm_coeff = []\n",
    "\n",
    "for q in range(deg+1):\n",
    "    for p in range(-q,q+1):\n",
    "        @bempp.api.complex_callable\n",
    "        def sph_harm(x,n,domain_index,result):\n",
    "            with objmode():\n",
    "                result[0] = normalized_spherical_harmonics(p,q,x)\n",
    "        sph_harm_grid = bempp.api.GridFunction(space_unit_sphere, fun = sph_harm)\n",
    "        sph_harm_coeff.append(np.conj(sph_harm_grid.coefficients)/((-1j)**(q+1)))"
   ]
  },
  {
   "cell_type": "code",
   "execution_count": 17,
   "metadata": {},
   "outputs": [],
   "source": [
    "N = 20\n",
    "lbound = 0.0005\n",
    "ubound = 30\n",
    "results = np.empty(N, dtype='float64')"
   ]
  },
  {
   "cell_type": "code",
   "execution_count": 51,
   "metadata": {},
   "outputs": [
    {
     "name": "stdout",
     "output_type": "stream",
     "text": [
      "0.0005 (4.116011286560776e-06-9.480473531887071e-07j)\n",
      "1.579421052631579 (-0.000722183275979323+1.2635076341036735e-05j)\n",
      "3.1583421052631584 (1.001941829789689-0.0016953713467006937j)\n",
      "4.737263157894737 (-0.014218651047148553-0.014755336438349604j)\n",
      "6.316184210526316 (-0.011765093913188205-0.004047862284239621j)\n",
      "7.8951052631578955 (-0.011201382102671121-0.004668266180561178j)\n",
      "9.474026315789475 (-0.013745877117262537+0.002680153521865585j)\n",
      "11.052947368421055 (-0.008817850025999076+0.008359908818746521j)\n",
      "12.631868421052634 (-0.005978243598380793+0.008664323991161248j)\n",
      "14.210789473684212 (-0.005505563091027958+0.009246946646802813j)\n",
      "15.789710526315792 (-0.004653007158082672+0.014017987321476771j)\n",
      "17.36863157894737 (0.004527508570255657+0.00773187105280984j)\n",
      "18.947552631578947 (0.002282496450994879+0.005825219764396032j)\n",
      "20.526473684210526 (0.0077415235644712555+0.0035336406058598642j)\n",
      "22.105394736842108 (0.0038467161068288123+0.004545774093326351j)\n",
      "23.684315789473686 (0.004356447677552122+0.002750230773734387j)\n",
      "25.263236842105265 (0.003827460532150172+0.0005763099815780668j)\n",
      "26.842157894736843 (0.003586504996897478+0.0018745702763557613j)\n",
      "28.42107894736842 (0.002267885143652168+0.0006792504552627499j)\n",
      "30.0 (0.0018409878453814494+0.00012972749458500574j)\n"
     ]
    }
   ],
   "source": [
    "for index, point in enumerate(np.linspace(lbound, ubound, N)):\n",
    "    wavenumber = point\n",
    "    eta = wavenumber\n",
    "\n",
    "    identity1 = bempp.api.operators.boundary.sparse.identity(space_sphere1, space_sphere1, space_sphere1)\n",
    "    slp1 = bempp.api.operators.boundary.helmholtz.single_layer(space_sphere1, space_sphere1, space_sphere1, wavenumber)\n",
    "    dlp1 = bempp.api.operators.boundary.helmholtz.double_layer(space_sphere1, space_sphere1, space_sphere1, wavenumber)\n",
    "    slp_far1 = helmholtz_farfield.single_layer(space_sphere1, vert_unit_sphere, wavenumber)\n",
    "    dlp_far1 = helmholtz_farfield.double_layer(space_sphere1, vert_unit_sphere, wavenumber)\n",
    "\n",
    "    lhs1 = 0.5 * identity1 + dlp1 - 1j* eta *slp1\n",
    "\n",
    "    identity2 = bempp.api.operators.boundary.sparse.identity(space_sphere2, space_sphere2, space_sphere2)\n",
    "    slp2 = bempp.api.operators.boundary.helmholtz.single_layer(space_sphere2, space_sphere2, space_sphere2, wavenumber)\n",
    "    dlp2 = bempp.api.operators.boundary.helmholtz.double_layer(space_sphere2, space_sphere2, space_sphere2, wavenumber)\n",
    "    slp_far2 = helmholtz_farfield.single_layer(space_sphere2, vert_unit_sphere, wavenumber)\n",
    "    dlp_far2 = helmholtz_farfield.double_layer(space_sphere2, vert_unit_sphere, wavenumber)\n",
    "\n",
    "    lhs2 = 0.5 * identity2 + dlp2 - 1j* eta *slp2\n",
    "\n",
    "    identity = bempp.api.operators.boundary.sparse.identity(space_combined, space_combined, space_combined)\n",
    "    slp = bempp.api.operators.boundary.helmholtz.single_layer(space_combined, space_combined, space_combined, wavenumber)\n",
    "    dlp = bempp.api.operators.boundary.helmholtz.double_layer(space_combined, space_combined, space_combined, wavenumber)\n",
    "    slp_far = helmholtz_farfield.single_layer(space_combined, vert_unit_sphere, wavenumber)\n",
    "    dlp_far = helmholtz_farfield.double_layer(space_combined, vert_unit_sphere, wavenumber)\n",
    "\n",
    "    lhs = 0.5 * identity + dlp - 1j* eta *slp\n",
    "    \n",
    "    #===================================================================================================================\n",
    "    slp_far_field_coeff1 = []\n",
    "    slp_far_field_coeff2 = []\n",
    "    slp_far_field_coeff = []\n",
    "\n",
    "    for q in range(deg+1):\n",
    "        for p in range(-q,q+1):\n",
    "            @bempp.api.complex_callable\n",
    "            def dirichlet_fun(x,n,domain_index,result):\n",
    "                    with objmode():\n",
    "                        result[0] = - regular_spherical_wavefunctions(p,q,x)\n",
    "\n",
    "            rhs_fun1 = bempp.api.GridFunction(space_sphere1, fun = dirichlet_fun)\n",
    "            field1, info1 = bempp.api.linalg.gmres(lhs1, rhs_fun1, tol=1E-8)\n",
    "            slp_far_field_coeff1.append(dlp_far1.evaluate(field1) - 1j * eta * slp_far1.evaluate(field1))\n",
    "\n",
    "            rhs_fun2 = bempp.api.GridFunction(space_sphere2, fun = dirichlet_fun)\n",
    "            field2, info2 = bempp.api.linalg.gmres(lhs2, rhs_fun2, tol=1E-8)\n",
    "            slp_far_field_coeff2.append(dlp_far2.evaluate(field2) - 1j * eta * slp_far2.evaluate(field2))\n",
    "\n",
    "            rhs_fun = bempp.api.GridFunction(space_combined, fun = dirichlet_fun)\n",
    "            field, info = bempp.api.linalg.gmres(lhs, rhs_fun, tol=1E-8)\n",
    "            slp_far_field_coeff.append(dlp_far.evaluate(field) - 1j * eta * slp_far.evaluate(field))\n",
    "            \n",
    "    #====================================================================================================\n",
    "    T_matrix1 = np.zeros(((deg+1)**2,(deg+1)**2),dtype = complex)\n",
    "    for i in range((deg+1)**2):\n",
    "        for j in range((deg+1)**2):\n",
    "            T_matrix1[i,j] = (slp_far_field_coeff1[j] @ mass_mat @ sph_harm_coeff[i])*wavenumber\n",
    "\n",
    "    T_matrix2 = np.zeros(((deg+1)**2,(deg+1)**2),dtype = complex)\n",
    "    for i in range((deg+1)**2):\n",
    "        for j in range((deg+1)**2):\n",
    "            T_matrix2[i,j] = (slp_far_field_coeff2[j] @ mass_mat @ sph_harm_coeff[i])*wavenumber\n",
    "\n",
    "    T_matrix = np.zeros(((deg+1)**2,(deg+1)**2),dtype = complex)\n",
    "    for i in range((deg+1)**2):\n",
    "        for j in range((deg+1)**2):\n",
    "            T_matrix[i,j] = (slp_far_field_coeff[j] @ mass_mat @ sph_harm_coeff[i])*wavenumber\n",
    "\n",
    "    S_matrix = np.identity(T_matrix.shape[0]) + 2*T_matrix\n",
    "    S_matrix1 = np.identity(T_matrix1.shape[0]) + 2*T_matrix1\n",
    "    S_matrix2 = np.identity(T_matrix2.shape[0]) + 2*T_matrix2\n",
    "\n",
    "    rhs_value_S =  (np.log(np.linalg.det(S_matrix))-(np.log(np.linalg.det(S_matrix1)) + np.log(np.linalg.det(S_matrix2))))/(2*np.pi*1j)\n",
    "    print(wavenumber, rhs_value_S)"
   ]
  },
  {
   "cell_type": "code",
   "execution_count": 62,
   "metadata": {},
   "outputs": [
    {
     "name": "stdout",
     "output_type": "stream",
     "text": [
      "0.0025453251459168105\n"
     ]
    }
   ],
   "source": [
    "k = points[-4]\n",
    "\n",
    "slp11 = bempp.api.operators.boundary.helmholtz.single_layer(space_sphere1, space_sphere1, space_sphere1, k)\n",
    "slp12 = bempp.api.operators.boundary.helmholtz.single_layer(space_sphere2 , space_sphere1, space_sphere1, k)\n",
    "slp21 = bempp.api.operators.boundary.helmholtz.single_layer(space_sphere1, space_sphere2 , space_sphere2 , k)\n",
    "slp22 = bempp.api.operators.boundary.helmholtz.single_layer(space_sphere2 , space_sphere2 , space_sphere2 , k)\n",
    "\n",
    "mat11 = slp11.weak_form().A\n",
    "mat12 = slp12.weak_form().A\n",
    "mat21 = slp21.weak_form().A\n",
    "mat22 = slp22.weak_form().A\n",
    "mat12_zero = np.zeros((mat11.shape[0],mat12.shape[1]))\n",
    "mat21_zero = np.zeros((mat22.shape[0],mat11.shape[1]))\n",
    "\n",
    "mat = np.block([[mat11,mat12],[mat21,mat22]])  \n",
    "mat2 = np.block([[mat11,mat12_zero],[mat21_zero,mat22]])\n",
    "\n",
    "p,l,u = scipy.linalg.lu(mat)\n",
    "logdet_mat = 0\n",
    "for i in range(u.shape[0]):\n",
    "    logdet_mat += cmath.log(u[i,i])\n",
    "\n",
    "p2,l2,u2 = scipy.linalg.lu(mat2)\n",
    "logdet_mat2 = 0\n",
    "for i in range(u2.shape[0]):\n",
    "    logdet_mat2 += cmath.log(u2[i,i])\n",
    "\n",
    "logdet = logdet_mat - logdet_mat2\n",
    "\n",
    "print(np.imag(logdet/np.pi))"
   ]
  },
  {
   "cell_type": "code",
   "execution_count": 21,
   "metadata": {},
   "outputs": [],
   "source": [
    "points = np.linspace(lbound, ubound, N)"
   ]
  },
  {
   "cell_type": "code",
   "execution_count": 40,
   "metadata": {},
   "outputs": [],
   "source": [
    "result_10 = np.array([4.116011286560776e-06 * np.exp(-10*points[0]**2),\n",
    " -0.000722183275979323 * np.exp(-10*points[1]**2),\n",
    " 1.001941829789689 * np.exp(-10*points[2]**2),\n",
    " -0.014218651047148553 * np.exp(-10*points[3]**2),\n",
    " -0.011765093913188205 * np.exp(-10*points[4]**2),\n",
    " -0.011201382102671121 * np.exp(-10*points[5]**2),\n",
    " -0.013745877117262537 * np.exp(-10*points[6]**2),\n",
    " -0.008817850025999076 * np.exp(-10*points[7]**2),\n",
    " -0.005978243598380793 * np.exp(-10*points[8]**2),\n",
    " -0.005505563091027958 * np.exp(-10*points[9]**2),\n",
    " -0.004653007158082672 * np.exp(-10*points[10]**2),\n",
    " 0.004527508570255657 * np.exp(-10*points[11]**2),\n",
    " 0.002282496450994879 * np.exp(-10*points[12]**2),\n",
    " 0.0077415235644712555 * np.exp(-10*points[13]**2),\n",
    " 0.0038467161068288123 * np.exp(-10*points[14]**2),\n",
    " 0.004356447677552122 * np.exp(-10*points[15]**2),\n",
    " 0.003827460532150172 * np.exp(-10*points[16]**2),\n",
    " 0.003586504996897478 * np.exp(-10*points[17]**2),\n",
    " 0.002267885143652168 * np.exp(-10*points[18]**2),\n",
    " 0.0018409878453814494 * np.exp(-10*points[19]**2)])"
   ]
  },
  {
   "cell_type": "code",
   "execution_count": 47,
   "metadata": {},
   "outputs": [
    {
     "name": "stdout",
     "output_type": "stream",
     "text": [
      "1.020835493137441e-05\n"
     ]
    }
   ],
   "source": [
    "casimir_energy_10 = np.trapz(result_10, points) * np.pi\n",
    "print(casimir_energy_10)"
   ]
  },
  {
   "cell_type": "code",
   "execution_count": 43,
   "metadata": {},
   "outputs": [],
   "source": [
    "result_5 = np.array([4.116011286560776e-06 * np.exp(-5*points[0]**2),\n",
    " -0.000722183275979323 * np.exp(-5*points[1]**2),\n",
    " 1.001941829789689 * np.exp(-5*points[2]**2),\n",
    " -0.014218651047148553 * np.exp(-5*points[3]**2),\n",
    " -0.011765093913188205 * np.exp(-5*points[4]**2),\n",
    " -0.011201382102671121 * np.exp(-5*points[5]**2),\n",
    " -0.013745877117262537 * np.exp(-5*points[6]**2),\n",
    " -0.008817850025999076 * np.exp(-5*points[7]**2),\n",
    " -0.005978243598380793 * np.exp(-5*points[8]**2),\n",
    " -0.005505563091027958 * np.exp(-5*points[9]**2),\n",
    " -0.004653007158082672 * np.exp(-5*points[10]**2),\n",
    " 0.004527508570255657 * np.exp(-5*points[11]**2),\n",
    " 0.002282496450994879 * np.exp(-5*points[12]**2),\n",
    " 0.0077415235644712555 * np.exp(-5*points[13]**2),\n",
    " 0.0038467161068288123 * np.exp(-5*points[14]**2),\n",
    " 0.004356447677552122 * np.exp(-5*points[15]**2),\n",
    " 0.003827460532150172 * np.exp(-5*points[16]**2),\n",
    " 0.003586504996897478 * np.exp(-5*points[17]**2),\n",
    " 0.002267885143652168 * np.exp(-5*points[18]**2),\n",
    " 0.0018409878453814494 * np.exp(-5*points[19]**2)])"
   ]
  },
  {
   "cell_type": "code",
   "execution_count": 48,
   "metadata": {},
   "outputs": [
    {
     "name": "stdout",
     "output_type": "stream",
     "text": [
      "1.0194650530295636e-05\n"
     ]
    }
   ],
   "source": [
    "casimir_energy_5 = np.trapz(result_5, points) * np.pi\n",
    "print(casimir_energy_5)"
   ]
  },
  {
   "cell_type": "code",
   "execution_count": 45,
   "metadata": {},
   "outputs": [],
   "source": [
    "result_1 = np.array([4.116011286560776e-06 * np.exp(-points[0]**2),\n",
    " -0.000722183275979323 * np.exp(-points[1]**2),\n",
    " 1.001941829789689 * np.exp(-points[2]**2),\n",
    " -0.014218651047148553 * np.exp(-points[3]**2),\n",
    " -0.011765093913188205 * np.exp(-points[4]**2),\n",
    " -0.011201382102671121 * np.exp(-points[5]**2),\n",
    " -0.013745877117262537 * np.exp(-points[6]**2),\n",
    " -0.008817850025999076 * np.exp(-points[7]**2),\n",
    " -0.005978243598380793 * np.exp(-points[8]**2),\n",
    " -0.005505563091027958 * np.exp(-points[9]**2),\n",
    " -0.004653007158082672 * np.exp(-points[10]**2),\n",
    " 0.004527508570255657 * np.exp(-points[11]**2),\n",
    " 0.002282496450994879 * np.exp(-points[12]**2),\n",
    " 0.0077415235644712555 * np.exp(-points[13]**2),\n",
    " 0.0038467161068288123 * np.exp(-points[14]**2),\n",
    " 0.004356447677552122 * np.exp(-points[15]**2),\n",
    " 0.003827460532150172 * np.exp(-points[16]**2),\n",
    " 0.003586504996897478 * np.exp(-points[17]**2),\n",
    " 0.002267885143652168 * np.exp(-points[18]**2),\n",
    " 0.0018409878453814494 * np.exp(-points[19]**2)])"
   ]
  },
  {
   "cell_type": "code",
   "execution_count": 49,
   "metadata": {},
   "outputs": [
    {
     "name": "stdout",
     "output_type": "stream",
     "text": [
      "-5.412373800921117e-05\n"
     ]
    }
   ],
   "source": [
    "casimir_energy_1 = np.trapz(result_1, points) * np.pi\n",
    "print(casimir_energy_1)"
   ]
  },
  {
   "cell_type": "code",
   "execution_count": 36,
   "metadata": {},
   "outputs": [],
   "source": [
    "result_05 = np.array([4.116011286560776e-06 * np.exp(-0.5*points[0]**2),\n",
    " -0.000722183275979323 * np.exp(-0.5*points[1]**2),\n",
    " 1.001941829789689 * np.exp(-0.5*points[2]**2),\n",
    " -0.014218651047148553 * np.exp(-0.5*points[3]**2),\n",
    " -0.011765093913188205 * np.exp(-0.5*points[4]**2),\n",
    " -0.011201382102671121 * np.exp(-0.5*points[5]**2),\n",
    " -0.013745877117262537 * np.exp(-0.5*points[6]**2),\n",
    " -0.008817850025999076 * np.exp(-0.5*points[7]**2),\n",
    " -0.005978243598380793 * np.exp(-0.5*points[8]**2),\n",
    " -0.005505563091027958 * np.exp(-0.5*points[9]**2),\n",
    " -0.004653007158082672 * np.exp(-0.5*points[10]**2),\n",
    " 0.004527508570255657 * np.exp(-0.5*points[11]**2),\n",
    " 0.002282496450994879 * np.exp(-0.5*points[12]**2),\n",
    " 0.0077415235644712555 * np.exp(-0.5*points[13]**2),\n",
    " 0.0038467161068288123 * np.exp(-0.5*points[14]**2),\n",
    " 0.004356447677552122 * np.exp(-0.5*points[15]**2),\n",
    " 0.003827460532150172 * np.exp(-0.5*points[16]**2),\n",
    " 0.003586504996897478 * np.exp(-0.5*points[17]**2),\n",
    " 0.002267885143652168 * np.exp(-0.5*points[18]**2),\n",
    " 0.0018409878453814494 * np.exp(-0.5*points[19]**2)])"
   ]
  },
  {
   "cell_type": "code",
   "execution_count": 50,
   "metadata": {},
   "outputs": [
    {
     "name": "stdout",
     "output_type": "stream",
     "text": [
      "0.03288655921519942\n"
     ]
    }
   ],
   "source": [
    "casimir_energy_05 = np.trapz(result_05, points) * np.pi\n",
    "print(casimir_energy_05)"
   ]
  },
  {
   "cell_type": "code",
   "execution_count": 38,
   "metadata": {},
   "outputs": [],
   "source": [
    "result_025 = np.array([4.116011286560776e-06 * np.exp(-0.25*points[0]**2),\n",
    " -0.000722183275979323 * np.exp(-0.25*points[1]**2),\n",
    " 1.001941829789689 * np.exp(-0.25*points[2]**2),\n",
    " -0.014218651047148553 * np.exp(-0.25*points[3]**2),\n",
    " -0.011765093913188205 * np.exp(-0.25*points[4]**2),\n",
    " -0.011201382102671121 * np.exp(-0.25*points[5]**2),\n",
    " -0.013745877117262537 * np.exp(-0.25*points[6]**2),\n",
    " -0.008817850025999076 * np.exp(-0.25*points[7]**2),\n",
    " -0.005978243598380793 * np.exp(-0.25*points[8]**2),\n",
    " -0.005505563091027958 * np.exp(-0.25*points[9]**2),\n",
    " -0.004653007158082672 * np.exp(-0.25*points[10]**2),\n",
    " 0.004527508570255657 * np.exp(-0.25*points[11]**2),\n",
    " 0.002282496450994879 * np.exp(-0.25*points[12]**2),\n",
    " 0.0077415235644712555 * np.exp(-0.25*points[13]**2),\n",
    " 0.0038467161068288123 * np.exp(-0.25*points[14]**2),\n",
    " 0.004356447677552122 * np.exp(-0.25*points[15]**2),\n",
    " 0.003827460532150172 * np.exp(-0.25*points[16]**2),\n",
    " 0.003586504996897478 * np.exp(-0.25*points[17]**2),\n",
    " 0.002267885143652168 * np.exp(-0.25*points[18]**2),\n",
    " 0.0018409878453814494 * np.exp(-0.25*points[19]**2)])"
   ]
  },
  {
   "cell_type": "code",
   "execution_count": 39,
   "metadata": {},
   "outputs": [
    {
     "name": "stdout",
     "output_type": "stream",
     "text": [
      "0.41269507976673847\n"
     ]
    }
   ],
   "source": [
    "casimir_energy_025 = np.trapz(abs(result_025), points) * np.pi\n",
    "print(casimir_energy_025)"
   ]
  },
  {
   "cell_type": "code",
   "execution_count": 29,
   "metadata": {},
   "outputs": [
    {
     "data": {
      "text/plain": [
       "[<matplotlib.lines.Line2D at 0x7f482fb24748>]"
      ]
     },
     "execution_count": 29,
     "metadata": {},
     "output_type": "execute_result"
    },
    {
     "data": {
      "image/png": "[encoded data removed]",
      "text/plain": [
       "<Figure size 432x288 with 1 Axes>"
      ]
     },
     "metadata": {
      "needs_background": "light"
     },
     "output_type": "display_data"
    }
   ],
   "source": [
    "plt.plot(points, results_1, '*')\n",
    "plt.plot(points, results_05, '*')\n",
    "plt.plot(points, results_025, '*')"
   ]
  },
  {
   "cell_type": "code",
   "execution_count": 33,
   "metadata": {},
   "outputs": [
    {
     "name": "stdout",
     "output_type": "stream",
     "text": [
      "The normalized Casimir Energy is: 0.5406819181332221\n"
     ]
    }
   ],
   "source": [
    "casimir_energy = np.trapz(results_025, points) *0.5\n",
    "print(f\"The normalized Casimir Energy is: {casimir_energy}\")"
   ]
  },
  {
   "cell_type": "code",
   "execution_count": 10,
   "metadata": {},
   "outputs": [
    {
     "data": {
      "text/plain": [
       "array([5.00000e-04, 7.14750e-01, 1.42900e+00, 2.14325e+00, 2.85750e+00,\n",
       "       3.57175e+00, 4.28600e+00, 5.00025e+00, 5.71450e+00, 6.42875e+00,\n",
       "       7.14300e+00, 7.85725e+00, 8.57150e+00, 9.28575e+00, 1.00000e+01])"
      ]
     },
     "execution_count": 10,
     "metadata": {},
     "output_type": "execute_result"
    }
   ],
   "source": [
    "np.linspace(lbound, ubound, N)"
   ]
  }
 ],
 "metadata": {
  "kernelspec": {
   "display_name": "Python 3",
   "language": "python",
   "name": "python3"
  },
  "language_info": {
   "codemirror_mode": {
    "name": "ipython",
    "version": 3
   },
   "file_extension": ".py",
   "mimetype": "text/x-python",
   "name": "python",
   "nbconvert_exporter": "python",
   "pygments_lexer": "ipython3",
   "version": "3.7.0"
  }
 },
 "nbformat": 4,
 "nbformat_minor": 2
}
