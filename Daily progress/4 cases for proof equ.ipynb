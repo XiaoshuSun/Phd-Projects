{
 "cells": [
  {
   "cell_type": "markdown",
   "metadata": {},
   "source": [
    "# T-matrix computation for 3D acoustic scattering "
   ]
  },
  {
   "cell_type": "code",
   "execution_count": 4,
   "metadata": {},
   "outputs": [],
   "source": [
    "import bempp.api\n",
    "import numpy as np\n",
    "import scipy\n",
    "from numba import objmode\n",
    "import numba\n",
    "import math\n",
    "%matplotlib inline\n",
    "import matplotlib.pyplot as plt\n",
    "from bempp.api.operators.far_field import helmholtz as helmholtz_farfield\n",
    "bempp.core.opencl_kernels.set_default_device(0,0)"
   ]
  },
  {
   "cell_type": "code",
   "execution_count": 7,
   "metadata": {},
   "outputs": [],
   "source": [
    "def normalized_spherical_harmonics(p, q, x):\n",
    "    \"\"\"Spherical Harmonic function of degree q\"\"\"\n",
    "    azimuth = np.arctan2(x[1],x[0])\n",
    "    polar = np.arccos(x[2]/np.linalg.norm(x))\n",
    "    if p >= 0:\n",
    "        return ((-1)**p) * scipy.special.sph_harm(p,q,azimuth,polar)\n",
    "    else:\n",
    "        return scipy.special.sph_harm(-p,q,azimuth,polar)*np.exp(1j*2*p*azimuth)\n",
    "\n",
    "def spherical_bessel_function(q,x):\n",
    "    \"\"\"Spherical Bessel function of degree q\"\"\"\n",
    "    r = np.linalg.norm(x)\n",
    "    return np.sqrt(np.pi/(2*wavenumber*r))*scipy.special.jv(q+0.5, wavenumber*r)\n",
    "\n",
    "def regular_spherical_wavefunctions(p,q,x):\n",
    "    \"\"\"Regular Spherical Wavefunction\"\"\"\n",
    "    return spherical_bessel_function(q,x)*normalized_spherical_harmonics(p,q,x)"
   ]
  },
  {
   "cell_type": "code",
   "execution_count": 3,
   "metadata": {},
   "outputs": [],
   "source": [
    "def coeff_sph_expansion(p,q):\n",
    "    \"\"\"Analytical formula of the coefficients of the spherical expansions of plane waves\"\"\"\n",
    "    coeff = 4*np.pi*(1j)**q*normalized_spherical_harmonics(-p,q,d)/(-1)**(abs(p))\n",
    "    return coeff"
   ]
  },
  {
   "cell_type": "code",
   "execution_count": 9,
   "metadata": {},
   "outputs": [],
   "source": [
    "def sca_far_field(x):\n",
    "    fun = 0\n",
    "    i = 0\n",
    "    for q in range(deg+1):\n",
    "        for p in range(-q,q+1):\n",
    "            fun += coeff_sca[i]*(1/wavenumber)*(-1j)**(q+1) * normalized_spherical_harmonics(p, q, x)\n",
    "            i +=1\n",
    "    return fun\n",
    "\n",
    "def sca_far_field1(x):\n",
    "    fun = 0\n",
    "    i = 0\n",
    "    for q in range(deg+1):\n",
    "        for p in range(-q,q+1):\n",
    "            fun += coeff_sca1[i]*(1/wavenumber)*(-1j)**(q+1) * normalized_spherical_harmonics(p, q, x)\n",
    "            i +=1\n",
    "    return fun"
   ]
  },
  {
   "cell_type": "code",
   "execution_count": 6,
   "metadata": {},
   "outputs": [],
   "source": [
    "d = [1,0,0] # wave's travel direction\n",
    "wavenumber = 4 # wavenumber\n",
    "eta = wavenumber"
   ]
  },
  {
   "cell_type": "code",
   "execution_count": 12,
   "metadata": {},
   "outputs": [
    {
     "name": "stdout",
     "output_type": "stream",
     "text": [
      "0.03 5 (0.00716470526390602+4.8038493669527554e-20j) (0.00669857059374593+3.6683685839762537e-22j)\n",
      "0.05 5 (0.007762360891227459-6.869636662203057e-20j) (0.0073004714171894265+4.429175613935199e-20j)\n",
      "0.07 5 (0.008693512230816965+1.2225245794355237e-19j) (0.008256025180790811+4.924716646829164e-20j)\n",
      "0.09 5 (0.00992684400753474+5.679549928182847e-19j) (0.009560435451250364+0j)\n",
      "0.03 7 (0.0011187164343894052+2.8412080541348667e-20j) (0.0013225968234982168+7.7737222875377425e-22j)\n",
      "0.05 7 (0.0017731447130539982-2.671251770724534e-20j) (0.001758482973016746-3.225264310740544e-22j)\n",
      "0.07 7 (0.002471559740914847+1.6353421050234405e-20j) (0.0029413705432486752+7.21584807456977e-21j)\n",
      "0.09 7 (0.003877841770631872+2.0651838019775313e-19j) (0.004193600462587899+0j)\n",
      "0.03 9 (0.0011015170662391533+2.0095234646465028e-20j) (0.0013111351863118973-3.789553922032678e-21j)\n",
      "0.05 9 (0.0017625984740883625-1.6074898010893297e-20j) (0.0017500966121224062+7.322338724555666e-22j)\n",
      "0.07 9 (0.0024646577551786977+2.9791330632204044e-20j) (0.0029368640954112713-3.020636958014073e-21j)\n",
      "0.09 9 (0.0038740638639543387+6.729504773025168e-20j) (0.004191221637052266+1.1490231858914261e-20j)\n",
      "0.03 11 (0.0011014939956052027+4.8930920793547945e-21j) (0.00131111382300863-7.209838586690643e-21j)\n",
      "0.05 11 (0.0017626375979695567+6.522875329674214e-21j) (0.0017501458911600837+1.801765545548965e-21j)\n",
      "0.07 11 (0.002465097357720449-1.1098233437480552e-20j) (0.0029372065541537393+1.537423513518113e-20j)\n",
      "0.09 11 (0.0038747533337679073+6.733178805412435e-20j) (0.004192132220638014-1.1487736036746328e-20j)\n",
      "0.03 13 (0.0011015103149779146+2.0213852247667536e-20j) (0.001311127155137216-2.649532233345265e-21j)\n",
      "0.05 13 (0.0017627121219779614+2.9540276788162104e-21j) (0.0017502358083590812+1.8018141588311526e-21j)\n",
      "0.07 13 (0.0024656861263867304+5.707512099081148e-20j) (0.0029376970793254433+1.7418009965719246e-20j)\n",
      "0.09 13 (0.003876026253909581+1.3694320139956886e-19j) (0.004193438741406196-2.2968313764220984e-20j)\n",
      "0.03 15 (0.0011015205879540651+1.5701188066608793e-20j) (0.0013111371029958978+5.3308194089031515e-21j)\n",
      "0.05 15 (0.001762807031787111+7.710000127934662e-21j) (0.0017503566158135863+7.576348760930588e-21j)\n",
      "0.07 15 (0.002466139952692513+2.5706750706156015e-21j) (0.0029381356550398805+2.1504069857773712e-20j)\n",
      "0.09 15 (0.003876994116476822+1.3697739678158906e-19j) (0.0041944852111738505-1.1481291733616915e-20j)\n"
     ]
    }
   ],
   "source": [
    "error_list1 = []\n",
    "error_list = []\n",
    "for deg in [5,7,9,11,13,15]:\n",
    "    for h in [0.03,0.05,0.07,0.09]:\n",
    "        cube1 = bempp.api.shapes.cube(length = 0.5, origin=(-0.75,-0.25,-0.25), h = h)\n",
    "        cube2 = bempp.api.shapes.cube(length = 0.5, origin=(0.25,-0.25,-0.25), h = h)\n",
    "        combined_scatters = bempp.api.grid.grid.union([cube1,cube2])\n",
    "\n",
    "        unit_sphere = bempp.api.shapes.sphere(r = 1, origin=(0,0,0), h = h)\n",
    "        vert_unit_sphere = unit_sphere.vertices\n",
    "        space_unit_sphere = bempp.api.function_space(unit_sphere, 'P', 1)\n",
    "\n",
    "        space_cube1 = bempp.api.function_space(cube1, \"P\", 1)\n",
    "        space_combined = bempp.api.function_space(combined_scatters,'P',1)\n",
    "\n",
    "        identity1 = bempp.api.operators.boundary.sparse.identity(space_cube1, space_cube1, space_cube1)\n",
    "        slp1 = bempp.api.operators.boundary.helmholtz.single_layer(space_cube1, space_cube1, space_cube1, wavenumber)\n",
    "        dlp1 = bempp.api.operators.boundary.helmholtz.double_layer(space_cube1, space_cube1, space_cube1, wavenumber)\n",
    "        slp_far1 = helmholtz_farfield.single_layer(space_cube1, vert_unit_sphere, wavenumber)\n",
    "        dlp_far1 = helmholtz_farfield.double_layer(space_cube1, vert_unit_sphere, wavenumber)\n",
    "\n",
    "        lhs1 = 0.5 * identity1 + dlp1 - 1j* eta *slp1\n",
    "\n",
    "        identity = bempp.api.operators.boundary.sparse.identity(space_combined, space_combined, space_combined)\n",
    "        slp = bempp.api.operators.boundary.helmholtz.single_layer(space_combined, space_combined, space_combined, wavenumber)\n",
    "        dlp = bempp.api.operators.boundary.helmholtz.double_layer(space_combined, space_combined, space_combined, wavenumber)\n",
    "        slp_far = helmholtz_farfield.single_layer(space_combined, vert_unit_sphere, wavenumber)\n",
    "        dlp_far = helmholtz_farfield.double_layer(space_combined, vert_unit_sphere, wavenumber)\n",
    "\n",
    "        lhs = 0.5 * identity + dlp - 1j* eta *slp\n",
    "\n",
    "        slp_far_field_coeff = []\n",
    "        slp_far_field_coeff1 = []\n",
    "        sph_harm_coeff = []\n",
    "\n",
    "        for q in range(deg+1):\n",
    "            for p in range(-q,q+1):\n",
    "                @bempp.api.complex_callable\n",
    "                def dirichlet_fun(x,n,domain_index,result):\n",
    "                        with objmode():\n",
    "                            result[0] = - regular_spherical_wavefunctions(p,q,x)\n",
    "\n",
    "                rhs_fun = bempp.api.GridFunction(space_combined, fun = dirichlet_fun)\n",
    "                field, info = bempp.api.linalg.gmres(lhs, rhs_fun, tol=1E-5)\n",
    "                slp_far_field_coeff.append(dlp_far.evaluate(field) - 1j * eta * slp_far.evaluate(field))\n",
    "                \n",
    "                rhs_fun1 = bempp.api.GridFunction(space_cube1, fun = dirichlet_fun)\n",
    "                field1, info1 = bempp.api.linalg.gmres(lhs1, rhs_fun1, tol=1E-5)\n",
    "                slp_far_field_coeff1.append(dlp_far1.evaluate(field1) - 1j * eta * slp_far1.evaluate(field1))\n",
    "\n",
    "                @bempp.api.complex_callable\n",
    "                def sph_harm(x,n,domain_index,result):\n",
    "                    with objmode():\n",
    "                        result[0] = normalized_spherical_harmonics(p,q,x)\n",
    "                sph_harm_grid = bempp.api.GridFunction(space_unit_sphere,fun = sph_harm)\n",
    "                sph_harm_coeff.append(np.conj(sph_harm_grid.coefficients)/((-1j)**(q+1)))\n",
    "\n",
    "        mass_mat = bempp.api.operators.boundary.sparse.identity(space_unit_sphere,space_unit_sphere,space_unit_sphere).weak_form().A\n",
    "\n",
    "        T_matrix = np.zeros(((deg+1)**2,(deg+1)**2),dtype = complex)\n",
    "        for i in range((deg+1)**2):\n",
    "            for j in range((deg+1)**2):\n",
    "                T_matrix[i,j] = (slp_far_field_coeff[j] @ mass_mat @ sph_harm_coeff[i])*wavenumber\n",
    "                \n",
    "        T_matrix1 = np.zeros(((deg+1)**2,(deg+1)**2),dtype = complex)\n",
    "        for i in range((deg+1)**2):\n",
    "            for j in range((deg+1)**2):\n",
    "                T_matrix1[i,j] = (slp_far_field_coeff1[j] @ mass_mat @ sph_harm_coeff[i])*wavenumber\n",
    "\n",
    "\n",
    "        coeff_inc = []\n",
    "        for q in range(deg+1):\n",
    "            for p in range(-q, q+1):\n",
    "                coeff_inc.append(coeff_sph_expansion(p,q))\n",
    "\n",
    "        coeff_sca = T_matrix @ coeff_inc\n",
    "        coeff_sca1 = T_matrix1 @ coeff_inc\n",
    "\n",
    "        far_list_test = []\n",
    "        for i in range(vert_unit_sphere.shape[1]):\n",
    "            far_list_test.append(sca_far_field(vert_unit_sphere[:,i]))\n",
    "        far_list_test1 = []\n",
    "        for i in range(vert_unit_sphere.shape[1]):\n",
    "            far_list_test1.append(sca_far_field1(vert_unit_sphere[:,i]))\n",
    "            \n",
    "        @bempp.api.complex_callable\n",
    "        def exact_data(x, n, domain_index, result):\n",
    "            result[0] = - np.exp(1j * k * x[0])\n",
    "\n",
    "        grid_fun = bempp.api.GridFunction(space_combined, fun=exact_data)\n",
    "        fun_exact, info_exact = bempp.api.linalg.gmres(lhs, grid_fun, tol=1E-5)\n",
    "        res_exact = dlp_far.evaluate(fun_exact) - 1j * eta * slp_far.evaluate(fun_exact)\n",
    "        err = np.sqrt((far_list_test - res_exact[0,:]) @ mass_mat @ np.conj(far_list_test - res_exact[0,:]))/np.sqrt(res_exact[0,:]@ mass_mat @ np.conj(res_exact[0,:]))\n",
    "        error_list.append(err)\n",
    "        \n",
    "        grid_fun1 = bempp.api.GridFunction(space_cube1, fun=exact_data)\n",
    "        fun_exact1, info_exact1 = bempp.api.linalg.gmres(lhs1, grid_fun1, tol=1E-5)\n",
    "        res_exact1 = dlp_far1.evaluate(fun_exact1) - 1j * eta * slp_far1.evaluate(fun_exact1)\n",
    "        err1 = np.sqrt((far_list_test1 - res_exact1[0,:]) @ mass_mat @ np.conj(far_list_test1 - res_exact1[0,:]))/np.sqrt(res_exact1[0,:]@ mass_mat @ np.conj(res_exact1[0,:]))\n",
    "        error_list1.append(err1)\n",
    "        print(h,deg,err,err1)\n"
   ]
  },
  {
   "cell_type": "code",
   "execution_count": 1,
   "metadata": {},
   "outputs": [],
   "source": [
    "error_list = [0.00716470526390602, 0.007762360891227459, 0.008693512230816965, 0.00992684400753474,\n",
    "             0.0011187164343894052, 0.0017731447130539982, 0.002471559740914847, 0.003877841770631872,\n",
    "             0.0011015170662391533, 0.0017625984740883625, 0.0024646577551786977, 0.0038740638639543387,\n",
    "             0.0011014939956052027, 0.0017626375979695567, 0.002465097357720449, 0.0038747533337679073,\n",
    "             0.0011015103149779146, 0.0017627121219779614, 0.0024656861263867304, 0.003876026253909581,\n",
    "             0.0011015205879540651, 0.001762807031787111, 0.002466139952692513, 0.003876994116476822]"
   ]
  },
  {
   "cell_type": "code",
   "execution_count": 2,
   "metadata": {},
   "outputs": [],
   "source": [
    "list_1 = [error_list[0],error_list[4],error_list[8],error_list[12],error_list[16],error_list[20]]\n",
    "list_2 = [error_list[1],error_list[5],error_list[9],error_list[13],error_list[17],error_list[21]]\n",
    "list_3 = [error_list[2],error_list[6],error_list[10],error_list[14],error_list[18],error_list[22]]\n",
    "list_4 = [error_list[3],error_list[7],error_list[11],error_list[15],error_list[19],error_list[23]]"
   ]
  },
  {
   "cell_type": "code",
   "execution_count": 7,
   "metadata": {},
   "outputs": [
    {
     "data": {
      "text/plain": [
       "<matplotlib.legend.Legend at 0x7fa3e82f2630>"
      ]
     },
     "execution_count": 7,
     "metadata": {},
     "output_type": "execute_result"
    },
    {
     "data": {
      "image/png": "[encoded data removed]",
      "text/plain": [
       "<Figure size 432x288 with 1 Axes>"
      ]
     },
     "metadata": {
      "needs_background": "light"
     },
     "output_type": "display_data"
    }
   ],
   "source": [
    "x_axis = [5,7,9,11,13,15]\n",
    "fig = plt.figure()\n",
    "ax = fig.add_subplot(111)\n",
    "#ax.set_ylim(0.0005,0.1)\n",
    "plt.semilogy(x_axis,list_1,label='0.03')\n",
    "plt.semilogy(x_axis,list_2,label='0.05')\n",
    "plt.semilogy(x_axis,list_3,label='0.07')\n",
    "plt.semilogy(x_axis,list_4,label='0.09')\n",
    "plt.xlabel('Degree of spherical expansion-Cube')\n",
    "plt.ylabel('Error by comparing the far fields' )\n",
    "plt.legend()\n",
    "#plt.savefig('Converge by refining the grid3-Cube.pdf')"
   ]
  },
  {
   "cell_type": "code",
   "execution_count": 8,
   "metadata": {},
   "outputs": [],
   "source": [
    "error_list1 = [0.00669857059374593, 0.0073004714171894265, 0.008256025180790811, 0.009560435451250364, \n",
    "               0.0013225968234982168, 0.001758482973016746, 0.0029413705432486752, 0.004193600462587899, \n",
    "               0.0013111351863118973, 0.0017500966121224062, 0.0029368640954112713, 0.004191221637052266,\n",
    "               0.00131111382300863, 0.0017501458911600837, 0.0029372065541537393, 0.004192132220638014, \n",
    "               0.001311127155137216, 0.0017502358083590812, 0.0029376970793254433, 0.004193438741406196,\n",
    "               0.0013111371029958978, 0.0017503566158135863, 0.0029381356550398805, 0.0041944852111738505]"
   ]
  },
  {
   "cell_type": "code",
   "execution_count": 9,
   "metadata": {},
   "outputs": [],
   "source": [
    "list_1_ = [error_list1[0],error_list1[4],error_list1[8],error_list1[12],error_list1[16],error_list1[20]]\n",
    "list_2_ = [error_list1[1],error_list1[5],error_list1[9],error_list1[13],error_list1[17],error_list1[21]]\n",
    "list_3_ = [error_list1[2],error_list1[6],error_list1[10],error_list1[14],error_list1[18],error_list1[22]]\n",
    "list_4_ = [error_list1[3],error_list1[7],error_list1[11],error_list1[15],error_list1[19],error_list1[23]]"
   ]
  },
  {
   "cell_type": "code",
   "execution_count": 10,
   "metadata": {},
   "outputs": [
    {
     "data": {
      "text/plain": [
       "<matplotlib.legend.Legend at 0x7fa3e8256ac8>"
      ]
     },
     "execution_count": 10,
     "metadata": {},
     "output_type": "execute_result"
    },
    {
     "data": {
      "image/png": "[encoded data removed]",
      "text/plain": [
       "<Figure size 432x288 with 1 Axes>"
      ]
     },
     "metadata": {
      "needs_background": "light"
     },
     "output_type": "display_data"
    }
   ],
   "source": [
    "x_axis = [5,7,9,11,13,15]\n",
    "fig = plt.figure()\n",
    "ax = fig.add_subplot(111)\n",
    "#ax.set_ylim(0.0005,0.1)\n",
    "plt.semilogy(x_axis,list_1_,label='0.03')\n",
    "plt.semilogy(x_axis,list_2_,label='0.05')\n",
    "plt.semilogy(x_axis,list_3_,label='0.07')\n",
    "plt.semilogy(x_axis,list_4_,label='0.09')\n",
    "plt.xlabel('Degree of spherical expansion-Cube')\n",
    "plt.ylabel('Error by comparing the far fields' )\n",
    "plt.legend()\n",
    "#plt.savefig('Converge by refining the grid3-Cube.pdf')"
   ]
  },
  {
   "cell_type": "code",
   "execution_count": null,
   "metadata": {},
   "outputs": [],
   "source": []
  }
 ],
 "metadata": {
  "kernelspec": {
   "display_name": "Python 3",
   "language": "python",
   "name": "python3"
  },
  "language_info": {
   "codemirror_mode": {
    "name": "ipython",
    "version": 3
   },
   "file_extension": ".py",
   "mimetype": "text/x-python",
   "name": "python",
   "nbconvert_exporter": "python",
   "pygments_lexer": "ipython3",
   "version": "3.7.0"
  }
 },
 "nbformat": 4,
 "nbformat_minor": 2
}
