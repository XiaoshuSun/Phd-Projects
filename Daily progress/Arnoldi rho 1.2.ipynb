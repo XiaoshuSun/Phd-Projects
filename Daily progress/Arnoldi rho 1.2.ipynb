{
 "cells": [
  {
   "cell_type": "code",
   "execution_count": 1,
   "metadata": {},
   "outputs": [],
   "source": [
    "import bempp.api\n",
    "from bempp.api.assembly.blocked_operator import BlockedOperator\n",
    "import math\n",
    "import numpy as np\n",
    "import scipy \n",
    "import cmath\n",
    "from numba import objmode\n",
    "from numpy.linalg import slogdet\n",
    "from bempp.api.operators.far_field import helmholtz as helmholtz_farfield\n",
    "import matplotlib.pyplot as plt"
   ]
  },
  {
   "cell_type": "code",
   "execution_count": 2,
   "metadata": {},
   "outputs": [
    {
     "name": "stdout",
     "output_type": "stream",
     "text": [
      "-0.11725914620404754\n"
     ]
    }
   ],
   "source": [
    "h = 0.2\n",
    "\n",
    "dist = 0.5\n",
    "sphere1 = bempp.api.shapes.sphere(h=h, origin=((dist/2) + 1, 0, 0))\n",
    "sphere2 = bempp.api.shapes.sphere(h=h, origin=(-((dist/2) + 1), 0, 0))\n",
    "\n",
    "space_sphere1 = bempp.api.function_space(sphere1, \"P\", 1)\n",
    "space_sphere2 = bempp.api.function_space(sphere2, \"P\", 1)\n",
    "\n",
    "wavenumber = 0.8j\n",
    "\n",
    "slp11 = bempp.api.operators.boundary.helmholtz.single_layer(space_sphere1, space_sphere1, space_sphere1, wavenumber)\n",
    "slp12 = bempp.api.operators.boundary.helmholtz.single_layer(space_sphere2 , space_sphere1, space_sphere1, wavenumber)\n",
    "slp21 = bempp.api.operators.boundary.helmholtz.single_layer(space_sphere1, space_sphere2 , space_sphere2 , wavenumber)\n",
    "slp22 = bempp.api.operators.boundary.helmholtz.single_layer(space_sphere2 , space_sphere2 , space_sphere2 , wavenumber)\n",
    "\n",
    "mat11 = slp11.weak_form().A\n",
    "mat12 = slp12.weak_form().A\n",
    "mat21 = slp21.weak_form().A\n",
    "mat22 = slp22.weak_form().A\n",
    "mat12_zero = np.zeros((mat11.shape[0],mat12.shape[1]))\n",
    "mat21_zero = np.zeros((mat22.shape[0],mat11.shape[1]))\n",
    "\n",
    "mat = np.block([[mat11,mat12],[mat21,mat22]])  \n",
    "mat2 = np.block([[mat11,mat12_zero],[mat21_zero,mat22]])\n",
    "\n",
    "combined = np.linalg.inv(mat2).dot(mat)\n",
    "sign, logdet = slogdet(combined)\n",
    "print(logdet)"
   ]
  },
  {
   "cell_type": "code",
   "execution_count": 3,
   "metadata": {},
   "outputs": [],
   "source": [
    "evals, evects = np.linalg.eig(combined)"
   ]
  },
  {
   "cell_type": "code",
   "execution_count": 4,
   "metadata": {},
   "outputs": [],
   "source": [
    "import krypy"
   ]
  },
  {
   "cell_type": "code",
   "execution_count": 5,
   "metadata": {},
   "outputs": [],
   "source": [
    "num = 45\n",
    "result_1_90 = []\n",
    "for index_ in range(num):\n",
    "    x = np.ones(combined.shape[0]) / np.linalg.norm(np.ones(combined.shape[0]))\n",
    "\n",
    "    rho_ = (x.T @ mat @ x)/(x.T @ mat2 @ x)\n",
    "\n",
    "    for k in range(100):\n",
    "        V_m, H_m = krypy.utils.arnoldi((mat - rho_*mat2), x.reshape(combined.shape[0],1), maxiter = 90, ortho ='dmgs')\n",
    "        A_m = V_m.T @ (mat - rho_*mat2) @ V_m\n",
    "        B_m = V_m.T @ mat2 @ V_m\n",
    "        evalue, evect = scipy.linalg.eigh(A_m, B_m, eigvals_only=False)\n",
    "        mu_ = evalue[index_]\n",
    "        v_index = list(evalue).index(evalue[index_])\n",
    "        v_ = evect[:,v_index]\n",
    "        rho_ += mu_\n",
    "        x = V_m @ v_\n",
    "    result_1_90.append(rho_)\n",
    "\n",
    "result_2_90 = []\n",
    "for index_ in range(1, num+1):\n",
    "    x = np.ones(combined.shape[0]) / np.linalg.norm(np.ones(combined.shape[0]))\n",
    "\n",
    "    rho_ = (x.T @ mat @ x)/(x.T @ mat2 @ x)\n",
    "\n",
    "    for k in range(100):\n",
    "        V_m, H_m = krypy.utils.arnoldi((mat - rho_*mat2), x.reshape(combined.shape[0],1), maxiter = 90, ortho ='dmgs')\n",
    "        A_m = V_m.T @ (mat - rho_*mat2) @ V_m\n",
    "        B_m = V_m.T @ mat2 @ V_m\n",
    "        evalue, evect = scipy.linalg.eigh(A_m, B_m, eigvals_only=False)\n",
    "        mu_ = evalue[-index_]\n",
    "        v_index = list(evalue).index(evalue[-index_])\n",
    "        v_ = evect[:,v_index]\n",
    "        rho_ += mu_\n",
    "        x = V_m @ v_\n",
    "    result_2_90.append(rho_)"
   ]
  },
  {
   "cell_type": "code",
   "execution_count": 6,
   "metadata": {},
   "outputs": [
    {
     "name": "stdout",
     "output_type": "stream",
     "text": [
      "[0.7021660931758322, 0.9043124458898857, 0.9043860910573961, 0.9421934664049058, 0.9737525286945633, 0.9737893966140317, 0.97909310969107, 0.979103936899847, 0.9875697482945321, 0.9932273305554089, 0.99323467571907, 0.9939224875522542, 0.9939376035481411, 0.9953101015920114, 0.9953150180428074, 0.9972053230845199, 0.9982935273482993, 0.9982974316592779, 0.9983927751699329, 0.9983944529521848, 0.9985888466845899, 0.998590873616076, 0.998939138105022, 0.9989452777604302, 0.999359801260965, 0.9995765993209056, 0.9995770996129769, 0.9995937892683936, 0.9996209016512936, 0.9997135365951771, 0.9996762355701305, 0.9996840199378034, 0.9997497535785819, 0.99977173774036, 0.9997761620805155, 0.9998490875085752, 0.9998961869164954, 0.9999030779381555, 0.999918084326969, 0.9999397742296938, 0.9999389243881077, 0.9999575835191392, 0.9999659575415781, 0.9999771211389687, 0.9999907963829159, 1.2978339068241678, 1.0956875541101143, 1.095613908942604, 1.0578065335950941, 1.0262474713054368, 1.0262106033859684, 1.02090689030893, 1.020896063100153, 1.0124302517054677, 1.006772669444591, 1.00676532428093, 1.0060775124477457, 1.006062396451859, 1.0046898984079886, 1.0046849819571926, 1.00279467691548, 1.0017064726517007, 1.0017025683407221, 1.0016072248300671, 1.0016055470478153, 1.0014111533154102, 1.001409126383924, 1.001060861894978, 1.0010547222395698, 1.000640198739035, 1.0004234006790944, 1.000422900387023, 1.0004074082802312, 1.000379098348156, 1.0003299532082965, 1.0003225401199325, 1.0002401399239447, 1.000312280288068, 1.000231290740938, 1.0002228931344062, 1.000150912491425, 1.000103228441976, 1.000095801602174, 1.0000814249931325, 1.0000466541796822, 1.0000619646920021, 1.0000446469590492, 1.0000334383343246, 1.0000243504039499, 1.0000099729700578]\n"
     ]
    }
   ],
   "source": [
    "result_90 = result_1_90 + result_2_90\n",
    "print(result_90)"
   ]
  },
  {
   "cell_type": "code",
   "execution_count": 7,
   "metadata": {},
   "outputs": [],
   "source": [
    "err_eigens_90 = []\n",
    "for i in range(45):\n",
    "    err_eigens_90.append(abs(sorted(evals)[i] - result_1_90[i])/sorted(evals)[i])\n",
    "for j in range(45):\n",
    "    err_eigens_90.append(abs((sorted(evals)[-45:])[j] - sorted(result_2_90)[j])/(sorted(evals)[-45:])[j])"
   ]
  },
  {
   "cell_type": "code",
   "execution_count": 8,
   "metadata": {},
   "outputs": [
    {
     "name": "stdout",
     "output_type": "stream",
     "text": [
      "[(1.8973682188561144e-15+0j), (4.910793961406313e-16+0j), (1.7186379244929954e-15+0j), (2.3566774005797236e-16+0j), 0j, (6.84063532722077e-16+0j), (1.1339299742140566e-15+0j), (1.1339174348950877e-16+0j), (1.5738759081669081e-15+0j), (1.4531315113989296e-15+0j), (2.1237918876127103e-15+0j), (2.010621018593487e-15+0j), (4.467978757064436e-16+0j), (4.461817569617111e-16+0j), (1.561628435519469e-15+0j), (1.3360013216027237e-15+0j), (1.6681812426063197e-15+0j), (2.0018096620800867e-15+0j), (1.5568143852109335e-15+0j), (1.5568117690149628e-15+0j), (1.0006127401483417e-15+0j), (1.22296864447131e-15+0j), (1.0002618618568857e-15+0j), (1.4448138092693797e-15+0j), (1.9996816379883975e-15+0j), (1.7771092686714276e-15+0j), (2.2213854740270063e-16+0j), (1.198056794158679e-06+0j), (2.724823442301445e-05+0j), (9.267007490796878e-05+0j), (5.472371472420803e-05+0j), (1.3977758103432364e-05+0j), (7.354181863435757e-05+0j), (3.02918191847107e-06+0j), (4.325696478337769e-06+0j), (3.331171789309557e-16+0j), (5.551691461335052e-16+0j), (6.295745270185289e-06+0j), (1.8452441118190856e-05+0j), (3.915724904497855e-05+0j), (3.472998222882997e-05+0j), (5.283100994664135e-05+0j), (5.317040914620331e-05+0j), (6.338610775184304e-05+0j), (6.69365104810476e-05+0j), (6.615702442870888e-05+0j), (6.190375739683387e-05+0j), (5.3765207577909306e-05+0j), (5.059068161716301e-05+0j), (4.914337918353645e-05+0j), (3.741071809087288e-05+0j), (1.8939368136998864e-05+0j), (7.414789778666226e-06+0j), (5.845808413829653e-07+0j), (2.2201110067670414e-16+0j), (5.268292568522444e-06+0j), 0j, (8.359744000645138e-05+0j), (1.766709091481144e-05+0j), (5.590615485539477e-05+0j), (4.912651657860838e-05+0j), (2.7226100114337844e-05+0j), (2.0057555243375413e-11+0j), (4.439014837407887e-16+0j), (1.331703785263153e-15+0j), (1.1095127159834418e-15+0j), (1.9962959066357947e-15+0j), (2.2180929589506431e-16+0j), (1.5521250940540348e-15+0j), (4.434634149817478e-16+0j), (2.660264079960379e-15+0j), 0j, (2.4383392150238976e-15+0j), (1.994997036442365e-15+0j), (1.5499805396416417e-15+0j), (1.989082628101266e-15+0j), (4.4201619878308485e-16+0j), (2.4277725345758058e-15+0j), 0j, (5.293259898484291e-15+0j), (3.087712413434297e-15+0j), (1.535228952174175e-15+0j), (6.524991513359815e-16+0j), (4.3499482084568893e-16+0j), (1.5146133058329243e-15+0j), (1.0818277809862955e-15+0j), (4.198208233227366e-16+0j), (2.2293352012413106e-15+0j), (1.0132660724861901e-15+0j), (2.2241519880528737e-15+0j)]\n"
     ]
    }
   ],
   "source": [
    "print(err_eigens_90)"
   ]
  },
  {
   "cell_type": "code",
   "execution_count": 22,
   "metadata": {},
   "outputs": [
    {
     "name": "stdout",
     "output_type": "stream",
     "text": [
      "(1.2978339068241707+0j) 1.2978339068241678\n",
      "(1.0956875541101154+0j) 1.0956875541101143\n",
      "(1.0956139089426065+0j) 1.095613908942604\n",
      "(1.0578065335950946+0j) 1.0578065335950941\n",
      "(1.0262474713054357+0j) 1.0262474713054368\n",
      "(1.0262106033859668+0j) 1.0262106033859684\n",
      "(1.0209068903089304+0j) 1.02090689030893\n",
      "(1.0208960631001522+0j) 1.020896063100153\n",
      "(1.0124302517054662+0j) 1.0124302517054677\n",
      "(1.006772669444588+0j) 1.006772669444591\n",
      "(1.0067653242809247+0j) 1.00676532428093\n",
      "(1.0060775124477457+0j) 1.0060775124477457\n",
      "(1.0060623964518614+0j) 1.0057772377167475\n",
      "(1.0046898984079882+0j) 1.0046898984079886\n",
      "(1.0046849819571906+0j) 1.004607960706696\n",
      "(1.0027946769154785+0j) 1.00279467691548\n",
      "(1.0017064726517027+0j) 1.0017064726517007\n",
      "(1.0017025683407246+0j) 1.0016066730674187\n",
      "(1.0016072248300671+0j) 1.0014098108264191\n",
      "(1.001605547047818+0j) 1.0008642161613974\n",
      "(1.0014111533154106+0j) 1.0010565373147873\n",
      "(1.0014091263839255+0j) 1.0002552927118136\n",
      "(1.0010608618949781+0j) 1.00061366679238\n",
      "(1.0010547222395678+0j) 1.0004111607758386\n"
     ]
    }
   ],
   "source": [
    "for index_ in range(1,25):\n",
    "    x = np.ones(combined.shape[0]) / np.linalg.norm(np.ones(combined.shape[0]))\n",
    "\n",
    "    rho_ = (x.T @ mat @ x)/(x.T @ mat2 @ x)\n",
    "\n",
    "    for k in range(100):\n",
    "        V_m, H_m = krypy.utils.arnoldi((mat - rho_*mat2), x.reshape(combined.shape[0],1), maxiter = 50, ortho ='dmgs')\n",
    "        A_m = V_m.T @ (mat - rho_*mat2) @ V_m\n",
    "        B_m = V_m.T @ mat2 @ V_m\n",
    "        evalue, evect = scipy.linalg.eigh(A_m, B_m, eigvals_only=False)\n",
    "        mu_ = sorted(evalue)[-index_]\n",
    "        v_index = list(sorted(evalue)).index(evalue[-index_])\n",
    "        v_ = evect[:,v_index]\n",
    "        rho_ += mu_\n",
    "        x = V_m @ v_\n",
    "\n",
    "    print(sorted(evals)[-index_], rho_)"
   ]
  },
  {
   "cell_type": "code",
   "execution_count": 11,
   "metadata": {},
   "outputs": [
    {
     "name": "stdout",
     "output_type": "stream",
     "text": [
      "(1.0004229003870226+0j) 1.000407408300299\n"
     ]
    }
   ],
   "source": [
    "index_ = 27\n",
    "x = np.ones(combined.shape[0]) / np.linalg.norm(np.ones(combined.shape[0]))\n",
    "\n",
    "rho_ = (x.T @ mat @ x)/(x.T @ mat2 @ x)\n",
    "\n",
    "for k in range(100):\n",
    "    V_m, H_m = krypy.utils.arnoldi((mat - rho_*mat2), x.reshape(combined.shape[0],1), maxiter = 75, ortho ='dmgs')\n",
    "    A_m = V_m.T @ (mat - rho_*mat2) @ V_m\n",
    "    B_m = V_m.T @ mat2 @ V_m\n",
    "    evalue, evect = scipy.linalg.eigh(A_m, B_m, eigvals_only=False)\n",
    "    mu_ = sorted(evalue)[-index_]\n",
    "    v_index = list(sorted(evalue)).index(evalue[-index_])\n",
    "    v_ = evect[:,v_index]\n",
    "    rho_ += mu_\n",
    "    x = V_m @ v_\n",
    "\n",
    "print(sorted(evals)[-index_], rho_)"
   ]
  },
  {
   "cell_type": "code",
   "execution_count": 28,
   "metadata": {},
   "outputs": [
    {
     "data": {
      "text/plain": [
       "(1.0060623964518614+0j)"
      ]
     },
     "execution_count": 28,
     "metadata": {},
     "output_type": "execute_result"
    }
   ],
   "source": [
    "sorted(evals)[-13]"
   ]
  },
  {
   "cell_type": "code",
   "execution_count": 46,
   "metadata": {},
   "outputs": [
    {
     "name": "stdout",
     "output_type": "stream",
     "text": [
      "(0.7021660931758336+0j) 0.7021660931758322\n",
      "(0.9043124458898861+0j) 0.9043848681523864\n",
      "(0.9043860910573976+0j) 0.9421934664049044\n",
      "(0.942193466404906+0j) 0.9507842728740034\n",
      "(0.9737525286945633+0j) 0.9737717180611737\n",
      "(0.9737893966140311+0j) 0.9956884012280671\n",
      "(0.9790931096910711+0j) 1.0208116800560114\n",
      "(0.9791039368998471+0j) 1.0428042092827785\n",
      "(0.9875697482945306+0j) 1.0578065335950941\n",
      "(0.9932273305554075+0j) 1.0956840773645353\n"
     ]
    }
   ],
   "source": [
    "for index_ in range(10):\n",
    "\n",
    "    x = np.ones(combined.shape[0]) / np.linalg.norm(np.ones(combined.shape[0]))\n",
    "\n",
    "    rho_ = (x.T @ mat @ x)/(x.T @ mat2 @ x)\n",
    "\n",
    "    for k in range(50):\n",
    "        V_m, H_m = krypy.utils.arnoldi((mat - rho_*mat2), x.reshape(combined.shape[0],1), maxiter = 10, ortho ='dmgs')\n",
    "        A_m = V_m.T @ (mat - rho_*mat2) @ V_m\n",
    "        B_m = V_m.T @ mat2 @ V_m\n",
    "        evalue, evect = scipy.linalg.eigh(A_m, B_m, eigvals_only=False)\n",
    "        mu_ = sorted(evalue)[index_]\n",
    "        v_index = list(sorted(evalue)).index(evalue[index_])\n",
    "        v_ = evect[:,v_index]\n",
    "        rho_ += mu_\n",
    "        x = V_m @ v_\n",
    "\n",
    "    print(sorted(evals)[index_], rho_)"
   ]
  },
  {
   "cell_type": "code",
   "execution_count": 45,
   "metadata": {},
   "outputs": [
    {
     "name": "stdout",
     "output_type": "stream",
     "text": [
      "0.20783446977767484\n",
      "0.1293904157173525\n",
      "0.051067618845466164\n",
      "0.02252237497101278\n",
      "0.016645075046953003\n",
      "0.010784280031768727\n",
      "0.007055840658411374\n",
      "0.00333126287826241\n",
      "0.0020134714688728205\n",
      "0.0016222857498242053\n",
      "0.0012319480954192208\n",
      "0.000916946315984816\n",
      "0.0006035095622259679\n",
      "0.0004159302587256033\n",
      "0.00022874403459039713\n",
      "0.0001621372937534117\n",
      "0.00013730295677087206\n",
      "0.00011258212901514908\n",
      "0.00010489289546711185\n",
      "0.0010702480094957661\n",
      "0.001459615320365101\n",
      "0.002754512335433303\n",
      "0.0027641101248602603\n",
      "0.002638026444032204\n",
      "0.00264152173222816\n",
      "0.0026430505524267377\n",
      "0.0026483836947126345\n",
      "0.002586815895165735\n",
      "0.0025183621028662083\n",
      "0.0037308866716769962\n",
      "0.0037053184317288467\n",
      "0.004633643720857217\n",
      "0.0043631640746753944\n",
      "0.004425857452523402\n",
      "0.004477447590328522\n"
     ]
    }
   ],
   "source": [
    "for num in range(1, 35+1):\n",
    "    result_1 = []\n",
    "    for index_ in range(num):\n",
    "        x = np.ones(combined.shape[0]) / np.linalg.norm(np.ones(combined.shape[0]))\n",
    "\n",
    "        rho_ = (x.T @ mat @ x)/(x.T @ mat2 @ x)\n",
    "\n",
    "        for k in range(100):\n",
    "            V_m, H_m = krypy.utils.arnoldi((mat - rho_*mat2), x.reshape(combined.shape[0],1), maxiter = 70, ortho ='dmgs')\n",
    "            A_m = V_m.T @ (mat - rho_*mat2) @ V_m\n",
    "            B_m = V_m.T @ mat2 @ V_m\n",
    "            evalue, evect = scipy.linalg.eigh(A_m, B_m, eigvals_only=False)\n",
    "            mu_ = evalue[index_]\n",
    "            v_index = list(evalue).index(evalue[index_])\n",
    "            v_ = evect[:,v_index]\n",
    "            rho_ += mu_\n",
    "            x = V_m @ v_\n",
    "        result_1.append(rho_)\n",
    "\n",
    "    result_2 = []\n",
    "    for index_ in range(1, num+1):\n",
    "        x = np.ones(combined.shape[0]) / np.linalg.norm(np.ones(combined.shape[0]))\n",
    "\n",
    "        rho_ = (x.T @ mat @ x)/(x.T @ mat2 @ x)\n",
    "\n",
    "        for k in range(100):\n",
    "            V_m, H_m = krypy.utils.arnoldi((mat - rho_*mat2), x.reshape(combined.shape[0],1), maxiter = 70, ortho ='dmgs')\n",
    "            A_m = V_m.T @ (mat - rho_*mat2) @ V_m\n",
    "            B_m = V_m.T @ mat2 @ V_m\n",
    "            evalue, evect = scipy.linalg.eigh(A_m, B_m, eigvals_only=False)\n",
    "            mu_ = evalue[-index_]\n",
    "            v_index = list(evalue).index(evalue[-index_])\n",
    "            v_ = evect[:,v_index]\n",
    "            rho_ += mu_\n",
    "            x = V_m @ v_\n",
    "        result_2.append(rho_)\n",
    "\n",
    "    result_ = result_1 + result_2 \n",
    "\n",
    "    logdet_approx = 0\n",
    "    for i in range(len(result_)):\n",
    "        logdet_approx += np.log(result_[i])\n",
    "    err = (logdet_approx - logdet)/logdet\n",
    "    print(abs(err))"
   ]
  },
  {
   "cell_type": "code",
   "execution_count": 46,
   "metadata": {},
   "outputs": [
    {
     "name": "stdout",
     "output_type": "stream",
     "text": [
      "0.20783446977767484\n",
      "0.1293904157173525\n",
      "0.051067618845466164\n",
      "0.02252237497101278\n",
      "0.016645075046953003\n",
      "0.010784280031768727\n",
      "0.007055840658411374\n",
      "0.00333126287826241\n",
      "0.0020134714688728205\n",
      "0.0016222857498242053\n",
      "0.0012319480954192208\n",
      "0.000916946315984816\n",
      "0.0006035095622259679\n",
      "0.0004159302587256033\n",
      "0.00022874403459039713\n",
      "0.0001621372937534117\n",
      "0.00013730295677087206\n",
      "0.00011258212901325546\n",
      "9.055250425245149e-05\n",
      "6.85688490013715e-05\n",
      "5.1586330138246714e-05\n",
      "1.1283299745764405e-05\n",
      "2.088108917272197e-05\n",
      "3.0368107094508454e-05\n",
      "3.386339528857055e-05\n",
      "3.5392215487148405e-05\n",
      "2.7793224904907448e-05\n",
      "2.9018848431832394e-05\n",
      "0.00017724756903445476\n",
      "0.00017631921880755994\n",
      "0.0012648779142473742\n",
      "1.9765501405920576e-05\n",
      "1.9324513682146813e-05\n",
      "3.848270756824353e-05\n",
      "3.8676931917565774e-05\n",
      "6.495423223468911e-05\n",
      "0.00013473102274904112\n",
      "0.0001336753998518347\n",
      "0.000133646136025981\n",
      "0.0001244423053682209\n"
     ]
    }
   ],
   "source": [
    "for num in range(1, 40+1):\n",
    "    result_1 = []\n",
    "    for index_ in range(num):\n",
    "        x = np.ones(combined.shape[0]) / np.linalg.norm(np.ones(combined.shape[0]))\n",
    "\n",
    "        rho_ = (x.T @ mat @ x)/(x.T @ mat2 @ x)\n",
    "\n",
    "        for k in range(100):\n",
    "            V_m, H_m = krypy.utils.arnoldi((mat - rho_*mat2), x.reshape(combined.shape[0],1), maxiter = 80, ortho ='dmgs')\n",
    "            A_m = V_m.T @ (mat - rho_*mat2) @ V_m\n",
    "            B_m = V_m.T @ mat2 @ V_m\n",
    "            evalue, evect = scipy.linalg.eigh(A_m, B_m, eigvals_only=False)\n",
    "            mu_ = evalue[index_]\n",
    "            v_index = list(evalue).index(evalue[index_])\n",
    "            v_ = evect[:,v_index]\n",
    "            rho_ += mu_\n",
    "            x = V_m @ v_\n",
    "        result_1.append(rho_)\n",
    "\n",
    "    result_2 = []\n",
    "    for index_ in range(1, num+1):\n",
    "        x = np.ones(combined.shape[0]) / np.linalg.norm(np.ones(combined.shape[0]))\n",
    "\n",
    "        rho_ = (x.T @ mat @ x)/(x.T @ mat2 @ x)\n",
    "\n",
    "        for k in range(100):\n",
    "            V_m, H_m = krypy.utils.arnoldi((mat - rho_*mat2), x.reshape(combined.shape[0],1), maxiter = 80, ortho ='dmgs')\n",
    "            A_m = V_m.T @ (mat - rho_*mat2) @ V_m\n",
    "            B_m = V_m.T @ mat2 @ V_m\n",
    "            evalue, evect = scipy.linalg.eigh(A_m, B_m, eigvals_only=False)\n",
    "            mu_ = evalue[-index_]\n",
    "            v_index = list(evalue).index(evalue[-index_])\n",
    "            v_ = evect[:,v_index]\n",
    "            rho_ += mu_\n",
    "            x = V_m @ v_\n",
    "        result_2.append(rho_)\n",
    "\n",
    "    result_ = result_1 + result_2 \n",
    "\n",
    "    logdet_approx = 0\n",
    "    for i in range(len(result_)):\n",
    "        logdet_approx += np.log(result_[i])\n",
    "    err = (logdet_approx - logdet)/logdet\n",
    "    print(abs(err))"
   ]
  },
  {
   "cell_type": "code",
   "execution_count": 47,
   "metadata": {},
   "outputs": [
    {
     "name": "stdout",
     "output_type": "stream",
     "text": [
      "0.20783446977767484\n",
      "0.1293904157173525\n",
      "0.051067618845466164\n",
      "0.02252237497101278\n",
      "0.016645075046953003\n",
      "0.010784280031768727\n",
      "0.007055840658411374\n",
      "0.00333126287826241\n",
      "0.0020134714688728205\n",
      "0.0016222857498242053\n",
      "0.0012319480954192208\n",
      "0.000916946315984816\n",
      "0.0006035095622259679\n",
      "0.0004159302587256033\n",
      "0.00022874403459039713\n",
      "0.0001621372937543585\n",
      "0.00013730295677276568\n",
      "0.00011258212901514908\n",
      "9.055250425434512e-05\n",
      "6.856884900326512e-05\n",
      "5.158633014014034e-05\n",
      "3.465256248541003e-05\n",
      "2.5054773058452465e-05\n",
      "1.5567755138559605e-05\n",
      "1.2072466942603883e-05\n",
      "1.0543646744026029e-05\n",
      "9.018437333531964e-06\n",
      "1.7819921141316584e-05\n",
      "1.659429292175738e-05\n",
      "0.00038666642640422093\n",
      "0.0003753347914662321\n",
      "0.0002721106480089744\n",
      "0.00025623875972944986\n",
      "0.0002816157304805572\n",
      "0.00027313300192053817\n",
      "0.00027293877758068405\n",
      "0.00026786149202939394\n",
      "0.0002582268866771769\n",
      "0.00025398542644605217\n",
      "0.00013822053321274004\n",
      "0.00014577043627193937\n",
      "0.00016477604914151602\n",
      "0.00015961429738703316\n",
      "0.0001721590307822059\n",
      "0.00017871937950778791\n"
     ]
    }
   ],
   "source": [
    "for num in range(1, 45+1):\n",
    "    result_1 = []\n",
    "    for index_ in range(num):\n",
    "        x = np.ones(combined.shape[0]) / np.linalg.norm(np.ones(combined.shape[0]))\n",
    "\n",
    "        rho_ = (x.T @ mat @ x)/(x.T @ mat2 @ x)\n",
    "\n",
    "        for k in range(100):\n",
    "            V_m, H_m = krypy.utils.arnoldi((mat - rho_*mat2), x.reshape(combined.shape[0],1), maxiter = 90, ortho ='dmgs')\n",
    "            A_m = V_m.T @ (mat - rho_*mat2) @ V_m\n",
    "            B_m = V_m.T @ mat2 @ V_m\n",
    "            evalue, evect = scipy.linalg.eigh(A_m, B_m, eigvals_only=False)\n",
    "            mu_ = evalue[index_]\n",
    "            v_index = list(evalue).index(evalue[index_])\n",
    "            v_ = evect[:,v_index]\n",
    "            rho_ += mu_\n",
    "            x = V_m @ v_\n",
    "        result_1.append(rho_)\n",
    "\n",
    "    result_2 = []\n",
    "    for index_ in range(1, num+1):\n",
    "        x = np.ones(combined.shape[0]) / np.linalg.norm(np.ones(combined.shape[0]))\n",
    "\n",
    "        rho_ = (x.T @ mat @ x)/(x.T @ mat2 @ x)\n",
    "\n",
    "        for k in range(100):\n",
    "            V_m, H_m = krypy.utils.arnoldi((mat - rho_*mat2), x.reshape(combined.shape[0],1), maxiter = 90, ortho ='dmgs')\n",
    "            A_m = V_m.T @ (mat - rho_*mat2) @ V_m\n",
    "            B_m = V_m.T @ mat2 @ V_m\n",
    "            evalue, evect = scipy.linalg.eigh(A_m, B_m, eigvals_only=False)\n",
    "            mu_ = evalue[-index_]\n",
    "            v_index = list(evalue).index(evalue[-index_])\n",
    "            v_ = evect[:,v_index]\n",
    "            rho_ += mu_\n",
    "            x = V_m @ v_\n",
    "        result_2.append(rho_)\n",
    "\n",
    "    result_ = result_1 + result_2 \n",
    "\n",
    "    logdet_approx = 0\n",
    "    for i in range(len(result_)):\n",
    "        logdet_approx += np.log(result_[i])\n",
    "    err = (logdet_approx - logdet)/logdet\n",
    "    print(abs(err))"
   ]
  },
  {
   "cell_type": "code",
   "execution_count": 48,
   "metadata": {},
   "outputs": [
    {
     "name": "stdout",
     "output_type": "stream",
     "text": [
      "0.20783446977767484\n",
      "0.1293904157173525\n",
      "0.051067618845466164\n",
      "0.02252237497101278\n",
      "0.016645075046953003\n",
      "0.010784280031768727\n",
      "0.007055840658411374\n",
      "0.00333126287826241\n",
      "0.0020134714688728205\n",
      "0.0016222857498242053\n",
      "0.0012319480954192208\n"
     ]
    },
    {
     "ename": "KeyboardInterrupt",
     "evalue": "",
     "output_type": "error",
     "traceback": [
      "\u001b[0;31m---------------------------------------------------------------------------\u001b[0m",
      "\u001b[0;31mKeyboardInterrupt\u001b[0m                         Traceback (most recent call last)",
      "\u001b[0;32m<ipython-input-48-1f5bdf817e72>\u001b[0m in \u001b[0;36m<module>\u001b[0;34m\u001b[0m\n\u001b[1;32m      7\u001b[0m \u001b[0;34m\u001b[0m\u001b[0m\n\u001b[1;32m      8\u001b[0m         \u001b[0;32mfor\u001b[0m \u001b[0mk\u001b[0m \u001b[0;32min\u001b[0m \u001b[0mrange\u001b[0m\u001b[0;34m(\u001b[0m\u001b[0;36m100\u001b[0m\u001b[0;34m)\u001b[0m\u001b[0;34m:\u001b[0m\u001b[0;34m\u001b[0m\u001b[0m\n\u001b[0;32m----> 9\u001b[0;31m             \u001b[0mV_m\u001b[0m\u001b[0;34m,\u001b[0m \u001b[0mH_m\u001b[0m \u001b[0;34m=\u001b[0m \u001b[0mkrypy\u001b[0m\u001b[0;34m.\u001b[0m\u001b[0mutils\u001b[0m\u001b[0;34m.\u001b[0m\u001b[0marnoldi\u001b[0m\u001b[0;34m(\u001b[0m\u001b[0;34m(\u001b[0m\u001b[0mmat\u001b[0m \u001b[0;34m-\u001b[0m \u001b[0mrho_\u001b[0m\u001b[0;34m*\u001b[0m\u001b[0mmat2\u001b[0m\u001b[0;34m)\u001b[0m\u001b[0;34m,\u001b[0m \u001b[0mx\u001b[0m\u001b[0;34m.\u001b[0m\u001b[0mreshape\u001b[0m\u001b[0;34m(\u001b[0m\u001b[0mcombined\u001b[0m\u001b[0;34m.\u001b[0m\u001b[0mshape\u001b[0m\u001b[0;34m[\u001b[0m\u001b[0;36m0\u001b[0m\u001b[0;34m]\u001b[0m\u001b[0;34m,\u001b[0m\u001b[0;36m1\u001b[0m\u001b[0;34m)\u001b[0m\u001b[0;34m,\u001b[0m \u001b[0mmaxiter\u001b[0m \u001b[0;34m=\u001b[0m \u001b[0;36m100\u001b[0m\u001b[0;34m,\u001b[0m \u001b[0mortho\u001b[0m \u001b[0;34m=\u001b[0m\u001b[0;34m'dmgs'\u001b[0m\u001b[0;34m)\u001b[0m\u001b[0;34m\u001b[0m\u001b[0m\n\u001b[0m\u001b[1;32m     10\u001b[0m             \u001b[0mA_m\u001b[0m \u001b[0;34m=\u001b[0m \u001b[0mV_m\u001b[0m\u001b[0;34m.\u001b[0m\u001b[0mT\u001b[0m \u001b[0;34m@\u001b[0m \u001b[0;34m(\u001b[0m\u001b[0mmat\u001b[0m \u001b[0;34m-\u001b[0m \u001b[0mrho_\u001b[0m\u001b[0;34m*\u001b[0m\u001b[0mmat2\u001b[0m\u001b[0;34m)\u001b[0m \u001b[0;34m@\u001b[0m \u001b[0mV_m\u001b[0m\u001b[0;34m\u001b[0m\u001b[0m\n\u001b[1;32m     11\u001b[0m             \u001b[0mB_m\u001b[0m \u001b[0;34m=\u001b[0m \u001b[0mV_m\u001b[0m\u001b[0;34m.\u001b[0m\u001b[0mT\u001b[0m \u001b[0;34m@\u001b[0m \u001b[0mmat2\u001b[0m \u001b[0;34m@\u001b[0m \u001b[0mV_m\u001b[0m\u001b[0;34m\u001b[0m\u001b[0m\n",
      "\u001b[0;32m~/.conda/envs/opencl/lib/python3.7/site-packages/krypy/utils.py\u001b[0m in \u001b[0;36marnoldi\u001b[0;34m(*args, **kwargs)\u001b[0m\n\u001b[1;32m   1035\u001b[0m     \u001b[0m_arnoldi\u001b[0m \u001b[0;34m=\u001b[0m \u001b[0mArnoldi\u001b[0m\u001b[0;34m(\u001b[0m\u001b[0;34m*\u001b[0m\u001b[0margs\u001b[0m\u001b[0;34m,\u001b[0m \u001b[0;34m**\u001b[0m\u001b[0mkwargs\u001b[0m\u001b[0;34m)\u001b[0m\u001b[0;34m\u001b[0m\u001b[0m\n\u001b[1;32m   1036\u001b[0m     \u001b[0;32mwhile\u001b[0m \u001b[0m_arnoldi\u001b[0m\u001b[0;34m.\u001b[0m\u001b[0miter\u001b[0m \u001b[0;34m<\u001b[0m \u001b[0m_arnoldi\u001b[0m\u001b[0;34m.\u001b[0m\u001b[0mmaxiter\u001b[0m \u001b[0;32mand\u001b[0m \u001b[0;32mnot\u001b[0m \u001b[0m_arnoldi\u001b[0m\u001b[0;34m.\u001b[0m\u001b[0minvariant\u001b[0m\u001b[0;34m:\u001b[0m\u001b[0;34m\u001b[0m\u001b[0m\n\u001b[0;32m-> 1037\u001b[0;31m         \u001b[0m_arnoldi\u001b[0m\u001b[0;34m.\u001b[0m\u001b[0madvance\u001b[0m\u001b[0;34m(\u001b[0m\u001b[0;34m)\u001b[0m\u001b[0;34m\u001b[0m\u001b[0m\n\u001b[0m\u001b[1;32m   1038\u001b[0m     \u001b[0;32mreturn\u001b[0m \u001b[0m_arnoldi\u001b[0m\u001b[0;34m.\u001b[0m\u001b[0mget\u001b[0m\u001b[0;34m(\u001b[0m\u001b[0;34m)\u001b[0m\u001b[0;34m\u001b[0m\u001b[0m\n\u001b[1;32m   1039\u001b[0m \u001b[0;34m\u001b[0m\u001b[0m\n",
      "\u001b[0;32m~/.conda/envs/opencl/lib/python3.7/site-packages/krypy/utils.py\u001b[0m in \u001b[0;36madvance\u001b[0;34m(self)\u001b[0m\n\u001b[1;32m    991\u001b[0m                 \u001b[0mself\u001b[0m\u001b[0;34m.\u001b[0m\u001b[0mH\u001b[0m\u001b[0;34m[\u001b[0m\u001b[0mk\u001b[0m\u001b[0;34m+\u001b[0m\u001b[0;36m1\u001b[0m\u001b[0;34m,\u001b[0m \u001b[0mk\u001b[0m\u001b[0;34m]\u001b[0m \u001b[0;34m=\u001b[0m \u001b[0mnorm\u001b[0m\u001b[0;34m(\u001b[0m\u001b[0mAv\u001b[0m\u001b[0;34m,\u001b[0m \u001b[0mMAv\u001b[0m\u001b[0;34m,\u001b[0m \u001b[0mip_B\u001b[0m\u001b[0;34m=\u001b[0m\u001b[0mself\u001b[0m\u001b[0;34m.\u001b[0m\u001b[0mip_B\u001b[0m\u001b[0;34m)\u001b[0m\u001b[0;34m\u001b[0m\u001b[0m\n\u001b[1;32m    992\u001b[0m             \u001b[0;32melse\u001b[0m\u001b[0;34m:\u001b[0m\u001b[0;34m\u001b[0m\u001b[0m\n\u001b[0;32m--> 993\u001b[0;31m                 \u001b[0mself\u001b[0m\u001b[0;34m.\u001b[0m\u001b[0mH\u001b[0m\u001b[0;34m[\u001b[0m\u001b[0mk\u001b[0m\u001b[0;34m+\u001b[0m\u001b[0;36m1\u001b[0m\u001b[0;34m,\u001b[0m \u001b[0mk\u001b[0m\u001b[0;34m]\u001b[0m \u001b[0;34m=\u001b[0m \u001b[0mnorm\u001b[0m\u001b[0;34m(\u001b[0m\u001b[0mAv\u001b[0m\u001b[0;34m,\u001b[0m \u001b[0mip_B\u001b[0m\u001b[0;34m=\u001b[0m\u001b[0mself\u001b[0m\u001b[0;34m.\u001b[0m\u001b[0mip_B\u001b[0m\u001b[0;34m)\u001b[0m\u001b[0;34m\u001b[0m\u001b[0m\n\u001b[0m\u001b[1;32m    994\u001b[0m             \u001b[0;32mif\u001b[0m \u001b[0mself\u001b[0m\u001b[0;34m.\u001b[0m\u001b[0mH\u001b[0m\u001b[0;34m[\u001b[0m\u001b[0mk\u001b[0m\u001b[0;34m+\u001b[0m\u001b[0;36m1\u001b[0m\u001b[0;34m,\u001b[0m \u001b[0mk\u001b[0m\u001b[0;34m]\u001b[0m \u001b[0;34m/\u001b[0m \u001b[0mnumpy\u001b[0m\u001b[0;34m.\u001b[0m\u001b[0mlinalg\u001b[0m\u001b[0;34m.\u001b[0m\u001b[0mnorm\u001b[0m\u001b[0;34m(\u001b[0m\u001b[0mself\u001b[0m\u001b[0;34m.\u001b[0m\u001b[0mH\u001b[0m\u001b[0;34m[\u001b[0m\u001b[0;34m:\u001b[0m\u001b[0mk\u001b[0m\u001b[0;34m+\u001b[0m\u001b[0;36m2\u001b[0m\u001b[0;34m,\u001b[0m \u001b[0;34m:\u001b[0m\u001b[0mk\u001b[0m\u001b[0;34m+\u001b[0m\u001b[0;36m1\u001b[0m\u001b[0;34m]\u001b[0m\u001b[0;34m,\u001b[0m \u001b[0;36m2\u001b[0m\u001b[0;34m)\u001b[0m\u001b[0;31m\\\u001b[0m\u001b[0;34m\u001b[0m\u001b[0m\n\u001b[1;32m    995\u001b[0m                     \u001b[0;34m<=\u001b[0m \u001b[0;36m1e-14\u001b[0m\u001b[0;34m:\u001b[0m\u001b[0;34m\u001b[0m\u001b[0m\n",
      "\u001b[0;32m~/.conda/envs/opencl/lib/python3.7/site-packages/krypy/utils.py\u001b[0m in \u001b[0;36mnorm\u001b[0;34m(x, y, ip_B)\u001b[0m\n\u001b[1;32m    191\u001b[0m     if y is None and (ip_B is None\n\u001b[1;32m    192\u001b[0m                       or isinstance(ip_B, IdentityLinearOperator)):\n\u001b[0;32m--> 193\u001b[0;31m         \u001b[0;32mreturn\u001b[0m \u001b[0mnumpy\u001b[0m\u001b[0;34m.\u001b[0m\u001b[0mlinalg\u001b[0m\u001b[0;34m.\u001b[0m\u001b[0mnorm\u001b[0m\u001b[0;34m(\u001b[0m\u001b[0mx\u001b[0m\u001b[0;34m,\u001b[0m \u001b[0;36m2\u001b[0m\u001b[0;34m)\u001b[0m\u001b[0;34m\u001b[0m\u001b[0m\n\u001b[0m\u001b[1;32m    194\u001b[0m     \u001b[0;32mif\u001b[0m \u001b[0my\u001b[0m \u001b[0;32mis\u001b[0m \u001b[0;32mNone\u001b[0m\u001b[0;34m:\u001b[0m\u001b[0;34m\u001b[0m\u001b[0m\n\u001b[1;32m    195\u001b[0m         \u001b[0my\u001b[0m \u001b[0;34m=\u001b[0m \u001b[0mx\u001b[0m\u001b[0;34m\u001b[0m\u001b[0m\n",
      "\u001b[0;32m~/.conda/envs/opencl/lib/python3.7/site-packages/numpy/linalg/linalg.py\u001b[0m in \u001b[0;36mnorm\u001b[0;34m(x, ord, axis, keepdims)\u001b[0m\n\u001b[1;32m   2497\u001b[0m             \u001b[0;32mraise\u001b[0m \u001b[0mValueError\u001b[0m\u001b[0;34m(\u001b[0m\u001b[0;34m'Duplicate axes given.'\u001b[0m\u001b[0;34m)\u001b[0m\u001b[0;34m\u001b[0m\u001b[0m\n\u001b[1;32m   2498\u001b[0m         \u001b[0;32mif\u001b[0m \u001b[0mord\u001b[0m \u001b[0;34m==\u001b[0m \u001b[0;36m2\u001b[0m\u001b[0;34m:\u001b[0m\u001b[0;34m\u001b[0m\u001b[0m\n\u001b[0;32m-> 2499\u001b[0;31m             \u001b[0mret\u001b[0m \u001b[0;34m=\u001b[0m  \u001b[0m_multi_svd_norm\u001b[0m\u001b[0;34m(\u001b[0m\u001b[0mx\u001b[0m\u001b[0;34m,\u001b[0m \u001b[0mrow_axis\u001b[0m\u001b[0;34m,\u001b[0m \u001b[0mcol_axis\u001b[0m\u001b[0;34m,\u001b[0m \u001b[0mamax\u001b[0m\u001b[0;34m)\u001b[0m\u001b[0;34m\u001b[0m\u001b[0m\n\u001b[0m\u001b[1;32m   2500\u001b[0m         \u001b[0;32melif\u001b[0m \u001b[0mord\u001b[0m \u001b[0;34m==\u001b[0m \u001b[0;34m-\u001b[0m\u001b[0;36m2\u001b[0m\u001b[0;34m:\u001b[0m\u001b[0;34m\u001b[0m\u001b[0m\n\u001b[1;32m   2501\u001b[0m             \u001b[0mret\u001b[0m \u001b[0;34m=\u001b[0m \u001b[0m_multi_svd_norm\u001b[0m\u001b[0;34m(\u001b[0m\u001b[0mx\u001b[0m\u001b[0;34m,\u001b[0m \u001b[0mrow_axis\u001b[0m\u001b[0;34m,\u001b[0m \u001b[0mcol_axis\u001b[0m\u001b[0;34m,\u001b[0m \u001b[0mamin\u001b[0m\u001b[0;34m)\u001b[0m\u001b[0;34m\u001b[0m\u001b[0m\n",
      "\u001b[0;32m~/.conda/envs/opencl/lib/python3.7/site-packages/numpy/linalg/linalg.py\u001b[0m in \u001b[0;36m_multi_svd_norm\u001b[0;34m(x, row_axis, col_axis, op)\u001b[0m\n\u001b[1;32m   2283\u001b[0m     \"\"\"\n\u001b[1;32m   2284\u001b[0m     \u001b[0my\u001b[0m \u001b[0;34m=\u001b[0m \u001b[0mmoveaxis\u001b[0m\u001b[0;34m(\u001b[0m\u001b[0mx\u001b[0m\u001b[0;34m,\u001b[0m \u001b[0;34m(\u001b[0m\u001b[0mrow_axis\u001b[0m\u001b[0;34m,\u001b[0m \u001b[0mcol_axis\u001b[0m\u001b[0;34m)\u001b[0m\u001b[0;34m,\u001b[0m \u001b[0;34m(\u001b[0m\u001b[0;34m-\u001b[0m\u001b[0;36m2\u001b[0m\u001b[0;34m,\u001b[0m \u001b[0;34m-\u001b[0m\u001b[0;36m1\u001b[0m\u001b[0;34m)\u001b[0m\u001b[0;34m)\u001b[0m\u001b[0;34m\u001b[0m\u001b[0m\n\u001b[0;32m-> 2285\u001b[0;31m     \u001b[0mresult\u001b[0m \u001b[0;34m=\u001b[0m \u001b[0mop\u001b[0m\u001b[0;34m(\u001b[0m\u001b[0msvd\u001b[0m\u001b[0;34m(\u001b[0m\u001b[0my\u001b[0m\u001b[0;34m,\u001b[0m \u001b[0mcompute_uv\u001b[0m\u001b[0;34m=\u001b[0m\u001b[0;36m0\u001b[0m\u001b[0;34m)\u001b[0m\u001b[0;34m,\u001b[0m \u001b[0maxis\u001b[0m\u001b[0;34m=\u001b[0m\u001b[0;34m-\u001b[0m\u001b[0;36m1\u001b[0m\u001b[0;34m)\u001b[0m\u001b[0;34m\u001b[0m\u001b[0m\n\u001b[0m\u001b[1;32m   2286\u001b[0m     \u001b[0;32mreturn\u001b[0m \u001b[0mresult\u001b[0m\u001b[0;34m\u001b[0m\u001b[0m\n\u001b[1;32m   2287\u001b[0m \u001b[0;34m\u001b[0m\u001b[0m\n",
      "\u001b[0;32m~/.conda/envs/opencl/lib/python3.7/site-packages/numpy/linalg/linalg.py\u001b[0m in \u001b[0;36msvd\u001b[0;34m(a, full_matrices, compute_uv)\u001b[0m\n\u001b[1;32m   1622\u001b[0m \u001b[0;34m\u001b[0m\u001b[0m\n\u001b[1;32m   1623\u001b[0m         \u001b[0msignature\u001b[0m \u001b[0;34m=\u001b[0m \u001b[0;34m'D->d'\u001b[0m \u001b[0;32mif\u001b[0m \u001b[0misComplexType\u001b[0m\u001b[0;34m(\u001b[0m\u001b[0mt\u001b[0m\u001b[0;34m)\u001b[0m \u001b[0;32melse\u001b[0m \u001b[0;34m'd->d'\u001b[0m\u001b[0;34m\u001b[0m\u001b[0m\n\u001b[0;32m-> 1624\u001b[0;31m         \u001b[0ms\u001b[0m \u001b[0;34m=\u001b[0m \u001b[0mgufunc\u001b[0m\u001b[0;34m(\u001b[0m\u001b[0ma\u001b[0m\u001b[0;34m,\u001b[0m \u001b[0msignature\u001b[0m\u001b[0;34m=\u001b[0m\u001b[0msignature\u001b[0m\u001b[0;34m,\u001b[0m \u001b[0mextobj\u001b[0m\u001b[0;34m=\u001b[0m\u001b[0mextobj\u001b[0m\u001b[0;34m)\u001b[0m\u001b[0;34m\u001b[0m\u001b[0m\n\u001b[0m\u001b[1;32m   1625\u001b[0m         \u001b[0ms\u001b[0m \u001b[0;34m=\u001b[0m \u001b[0ms\u001b[0m\u001b[0;34m.\u001b[0m\u001b[0mastype\u001b[0m\u001b[0;34m(\u001b[0m\u001b[0m_realType\u001b[0m\u001b[0;34m(\u001b[0m\u001b[0mresult_t\u001b[0m\u001b[0;34m)\u001b[0m\u001b[0;34m,\u001b[0m \u001b[0mcopy\u001b[0m\u001b[0;34m=\u001b[0m\u001b[0;32mFalse\u001b[0m\u001b[0;34m)\u001b[0m\u001b[0;34m\u001b[0m\u001b[0m\n\u001b[1;32m   1626\u001b[0m         \u001b[0;32mreturn\u001b[0m \u001b[0ms\u001b[0m\u001b[0;34m\u001b[0m\u001b[0m\n",
      "\u001b[0;31mKeyboardInterrupt\u001b[0m: "
     ]
    }
   ],
   "source": [
    "for num in range(1, 50+1):\n",
    "    result_1 = []\n",
    "    for index_ in range(num):\n",
    "        x = np.ones(combined.shape[0]) / np.linalg.norm(np.ones(combined.shape[0]))\n",
    "\n",
    "        rho_ = (x.T @ mat @ x)/(x.T @ mat2 @ x)\n",
    "\n",
    "        for k in range(100):\n",
    "            V_m, H_m = krypy.utils.arnoldi((mat - rho_*mat2), x.reshape(combined.shape[0],1), maxiter = 100, ortho ='dmgs')\n",
    "            A_m = V_m.T @ (mat - rho_*mat2) @ V_m\n",
    "            B_m = V_m.T @ mat2 @ V_m\n",
    "            evalue, evect = scipy.linalg.eigh(A_m, B_m, eigvals_only=False)\n",
    "            mu_ = evalue[index_]\n",
    "            v_index = list(evalue).index(evalue[index_])\n",
    "            v_ = evect[:,v_index]\n",
    "            rho_ += mu_\n",
    "            x = V_m @ v_\n",
    "        result_1.append(rho_)\n",
    "\n",
    "    result_2 = []\n",
    "    for index_ in range(1, num+1):\n",
    "        x = np.ones(combined.shape[0]) / np.linalg.norm(np.ones(combined.shape[0]))\n",
    "\n",
    "        rho_ = (x.T @ mat @ x)/(x.T @ mat2 @ x)\n",
    "\n",
    "        for k in range(100):\n",
    "            V_m, H_m = krypy.utils.arnoldi((mat - rho_*mat2), x.reshape(combined.shape[0],1), maxiter = 100, ortho ='dmgs')\n",
    "            A_m = V_m.T @ (mat - rho_*mat2) @ V_m\n",
    "            B_m = V_m.T @ mat2 @ V_m\n",
    "            evalue, evect = scipy.linalg.eigh(A_m, B_m, eigvals_only=False)\n",
    "            mu_ = evalue[-index_]\n",
    "            v_index = list(evalue).index(evalue[-index_])\n",
    "            v_ = evect[:,v_index]\n",
    "            rho_ += mu_\n",
    "            x = V_m @ v_\n",
    "        result_2.append(rho_)\n",
    "\n",
    "    result_ = result_1 + result_2 \n",
    "\n",
    "    logdet_approx = 0\n",
    "    for i in range(len(result_)):\n",
    "        logdet_approx += np.log(result_[i])\n",
    "    err = (logdet_approx - logdet)/logdet\n",
    "    print(abs(err))"
   ]
  },
  {
   "cell_type": "code",
   "execution_count": null,
   "metadata": {},
   "outputs": [],
   "source": [
    "dim = 50 \n",
    "0.20783446977767484\n",
    "0.1293904157173525\n",
    "0.051067618845466164\n",
    "0.02252237497101278\n",
    "0.016645075046953003\n",
    "0.010784280031768727\n",
    "0.007055840658411374\n",
    "0.00333126287826241\n",
    "0.0020134714688728205\n",
    "0.0016222857498242053\n",
    "0.0012319205301928764\n",
    "0.0009169187507584716\n",
    "0.0007015651079923258\n",
    "0.0005139858044919611\n",
    "0.000925676031054578\n",
    "0.0008590692902175926\n",
    "0.0008342349532350531\n",
    "0.0008121771485276108\n",
    "0.0007879665922888011\n",
    "0.0009450269451528963\n",
    "0.001070625699803473\n",
    "0.0041474264815992735\n",
    "0.003914300002915393\n",
    "0.004595943853002871\n",
    "0.004583151031498217\n",
    "\n",
    "dim = 60\n",
    "\n",
    "0.20783446977767484\n",
    "0.1293904157173525\n",
    "0.051067618845466164\n",
    "0.02252237497101278\n",
    "0.016645075046953003\n",
    "0.010784280031768727\n",
    "0.007055840658411374\n",
    "0.00333126287826241\n",
    "0.0020134714688728205\n",
    "0.0016222857498242053\n",
    "0.0012319480954192208\n",
    "0.000916946315984816\n",
    "0.0006035095622259679\n",
    "0.0004159302587256033\n",
    "3.25048934485679e-05\n",
    "3.410184738841752e-05\n",
    "5.893618437095716e-05\n",
    "8.365701212668014e-05\n",
    "0.0006631627372962413\n",
    "0.0006634119831790749\n",
    "0.007411979265558124\n",
    "0.006644409318515759\n",
    "0.0066365661717408585\n",
    "0.004567930586544181\n",
    "0.0039037754133103564\n",
    "0.003902173086189125\n",
    "0.004046762728823372\n",
    "0.004045236089634088\n",
    "0.003970782750677286\n",
    "0.003986178768401356\n",
    "\n",
    "dim = 70 \n",
    "\n",
    "0.20783446977767484\n",
    "0.1293904157173525\n",
    "0.051067618845466164\n",
    "0.02252237497101278\n",
    "0.016645075046953003\n",
    "0.010784280031768727\n",
    "0.007055840658411374\n",
    "0.00333126287826241\n",
    "0.0020134714688728205\n",
    "0.0016222857498242053\n",
    "0.0012319480954192208\n",
    "0.000916946315984816\n",
    "0.0006035095622259679\n",
    "0.0004159302587256033\n",
    "0.00022874403459039713\n",
    "0.0001621372937534117\n",
    "0.00013730295677087206\n",
    "0.00011258212901514908\n",
    "0.00010489289546711185\n",
    "0.0010702480094957661\n",
    "0.001459615320365101\n",
    "0.002754512335433303\n",
    "0.0027641101248602603\n",
    "0.002638026444032204\n",
    "0.00264152173222816\n",
    "0.0026430505524267377\n",
    "0.0026483836947126345\n",
    "0.002586815895165735\n",
    "0.0025183621028662083\n",
    "0.0037308866716769962\n",
    "0.0037053184317288467\n",
    "0.004633643720857217\n",
    "0.0043631640746753944\n",
    "0.004425857452523402\n",
    "0.004477447590328522\n",
    "\n",
    "dim = 80\n",
    "\n",
    "0.20783446977767484\n",
    "0.1293904157173525\n",
    "0.051067618845466164\n",
    "0.02252237497101278\n",
    "0.016645075046953003\n",
    "0.010784280031768727\n",
    "0.007055840658411374\n",
    "0.00333126287826241\n",
    "0.0020134714688728205\n",
    "0.0016222857498242053\n",
    "0.0012319480954192208\n",
    "0.000916946315984816\n",
    "0.0006035095622259679\n",
    "0.0004159302587256033\n",
    "0.00022874403459039713\n",
    "0.0001621372937534117\n",
    "0.00013730295677087206\n",
    "0.00011258212901325546\n",
    "9.055250425245149e-05\n",
    "6.85688490013715e-05\n",
    "5.1586330138246714e-05\n",
    "1.1283299745764405e-05\n",
    "2.088108917272197e-05\n",
    "3.0368107094508454e-05\n",
    "3.386339528857055e-05\n",
    "3.5392215487148405e-05\n",
    "2.7793224904907448e-05\n",
    "2.9018848431832394e-05\n",
    "0.00017724756903445476\n",
    "0.00017631921880755994\n",
    "0.0012648779142473742\n",
    "1.9765501405920576e-05\n",
    "1.9324513682146813e-05\n",
    "3.848270756824353e-05\n",
    "3.8676931917565774e-05\n",
    "6.495423223468911e-05\n",
    "0.00013473102274904112\n",
    "0.0001336753998518347\n",
    "0.000133646136025981\n",
    "0.0001244423053682209"
   ]
  },
  {
   "cell_type": "code",
   "execution_count": 29,
   "metadata": {},
   "outputs": [
    {
     "name": "stdout",
     "output_type": "stream",
     "text": [
      "(0.7021660931758336+0j) 0.7021660931758322\n",
      "(0.9043124458898861+0j) 0.9043124458898857\n",
      "(0.9043860910573976+0j) 0.9043860910573961\n",
      "(0.942193466404906+0j) 0.9421934664049058\n",
      "(0.9737525286945633+0j) 0.9737525286945633\n",
      "(0.9737893966140311+0j) 0.9737893966140317\n",
      "(0.9790931096910711+0j) 0.97909310969107\n",
      "(0.9791039368998471+0j) 0.979103936899847\n",
      "(0.9875697482945306+0j) 0.9875697482945321\n",
      "(0.9932273305554075+0j) 0.9932273305554089\n",
      "(0.9932346757190679+0j) 0.99323467571907\n",
      "(0.9939224875522522+0j) 0.9939224875522542\n",
      "(0.9939376035481406+0j) 0.9939376035481411\n",
      "(0.9953101015920109+0j) 0.9953101015920114\n",
      "(0.9953150180428059+0j) 0.9953150180428074\n",
      "(0.9972053230845186+0j) 0.9972053230845198\n",
      "(0.998293527348301+0j) 0.9982935273482993\n",
      "(0.9982974316592799+0j) 0.9982974316592778\n",
      "(0.9983927751699344+0j) 0.9983927751699329\n",
      "(0.9983944529521863+0j) 0.9983944529521848\n",
      "(0.9985888466845909+0j) 0.9985888466845899\n",
      "(0.9985908736160748+0j) 0.9985935871159957\n",
      "(0.998939138105021+0j) 0.998939138105022\n",
      "(0.9989452777604287+0j) 0.9989452777604302\n",
      "(0.999359801260963+0j) 0.999359801260965\n",
      "(0.9995765993209074+0j) 0.9995765993209056\n",
      "(0.9995770996129771+0j) 0.999592591699701\n",
      "(0.9995925916996977+0j) 0.9996209016513498\n",
      "(0.9995936644887958+0j) 0.999632678659287\n",
      "(0.9996209016513415+0j) 0.9996737965076387\n"
     ]
    }
   ],
   "source": [
    "for i in range(30):\n",
    "    print(sorted(evals)[i], result_[i])"
   ]
  },
  {
   "cell_type": "code",
   "execution_count": 33,
   "metadata": {},
   "outputs": [
    {
     "data": {
      "text/plain": [
       "(0.9996762355701725+0j)"
      ]
     },
     "execution_count": 33,
     "metadata": {},
     "output_type": "execute_result"
    }
   ],
   "source": [
    "sorted(evals)[32]"
   ]
  },
  {
   "cell_type": "code",
   "execution_count": 30,
   "metadata": {},
   "outputs": [
    {
     "name": "stdout",
     "output_type": "stream",
     "text": [
      "(1.2978339068241707+0j) 1.2978339068241678\n",
      "(1.0956875541101154+0j) 1.0956875541101143\n",
      "(1.0956139089426065+0j) 1.095613908942604\n",
      "(1.0578065335950946+0j) 1.0578065335950941\n",
      "(1.0262474713054357+0j) 1.0262474713054368\n",
      "(1.0262106033859668+0j) 1.0262106033859684\n",
      "(1.0209068903089304+0j) 1.02090689030893\n",
      "(1.0208960631001522+0j) 1.020896063100153\n",
      "(1.0124302517054662+0j) 1.0124302517054677\n",
      "(1.006772669444588+0j) 1.006772669444591\n",
      "(1.0067653242809247+0j) 1.00676532428093\n",
      "(1.0060775124477457+0j) 1.0060775124477457\n",
      "(1.0060623964518614+0j) 1.006062396451859\n",
      "(1.0046898984079882+0j) 1.0046898984079886\n",
      "(1.0046849819571906+0j) 1.0046849819571926\n",
      "(1.0027946769154785+0j) 1.00279467691548\n",
      "(1.0017064726517027+0j) 1.0017064726517007\n",
      "(1.0017025683407246+0j) 1.0017025683407221\n",
      "(1.0016072248300671+0j) 1.0016072248300671\n",
      "(1.001605547047818+0j) 1.0016055470478153\n",
      "(1.0014111533154106+0j) 1.0014111533154102\n",
      "(1.0014091263839255+0j) 1.001409126383555\n",
      "(1.0010608618949781+0j) 1.001060861894978\n",
      "(1.0010547222395678+0j) 1.0010547222395698\n",
      "(1.0006401987390339+0j) 1.000640198739035\n",
      "(1.0004234006790957+0j) 1.0004234006790944\n",
      "(1.0004229003870226+0j) 1.000407408300299\n",
      "(1.000407408300297+0j) 1.000379098348628\n",
      "(1.0004063355112016+0j) 1.00032995320815\n",
      "(1.0003790983486565+0j) 1.0003237644298182\n"
     ]
    }
   ],
   "source": [
    "for i in range(1,30+1):\n",
    "    print(sorted(evals)[-i], sorted(result_)[-i])"
   ]
  },
  {
   "cell_type": "code",
   "execution_count": 27,
   "metadata": {},
   "outputs": [
    {
     "data": {
      "text/plain": [
       "(1.000329953208296+0j)"
      ]
     },
     "execution_count": 27,
     "metadata": {},
     "output_type": "execute_result"
    }
   ],
   "source": [
    "sorted(evals)[-32]"
   ]
  },
  {
   "cell_type": "code",
   "execution_count": 31,
   "metadata": {},
   "outputs": [
    {
     "name": "stderr",
     "output_type": "stream",
     "text": [
      "/home/xiaoshu/.conda/envs/opencl/lib/python3.7/site-packages/numpy/core/numeric.py:538: ComplexWarning: Casting complex values to real discards the imaginary part\n",
      "  return array(a, dtype, copy=False, order=order)\n"
     ]
    },
    {
     "data": {
      "text/plain": [
       "[<matplotlib.lines.Line2D at 0x7f04a84e6780>]"
      ]
     },
     "execution_count": 31,
     "metadata": {},
     "output_type": "execute_result"
    },
    {
     "data": {
      "image/png": "[encoded data removed]",
      "text/plain": [
       "<Figure size 432x288 with 1 Axes>"
      ]
     },
     "metadata": {
      "needs_background": "light"
     },
     "output_type": "display_data"
    }
   ],
   "source": [
    "plt.plot(range(len(evals)), sorted(evals) , '*')\n",
    "plt.plot(range(30), result_[0:30], '*')\n",
    "plt.plot(range(len(evals)-30, len(evals)), sorted(result_)[30:], '*')"
   ]
  },
  {
   "cell_type": "code",
   "execution_count": null,
   "metadata": {},
   "outputs": [],
   "source": [
    "num = 40, iterates 100 \n",
    "\n",
    "dim = 80: 0.0001244423053682209\n",
    "    \n",
    "dim = 90: 0.00013822053321274004\n",
    "\n",
    "\n",
    "num = 50, iterates 100 \n",
    "\n",
    "dim = 100: 8.696922524399758e-05\n",
    "    \n"
   ]
  },
  {
   "cell_type": "code",
   "execution_count": 53,
   "metadata": {},
   "outputs": [
    {
     "data": {
      "text/plain": [
       "20"
      ]
     },
     "execution_count": 53,
     "metadata": {},
     "output_type": "execute_result"
    }
   ],
   "source": [
    "len(result_)"
   ]
  },
  {
   "cell_type": "code",
   "execution_count": null,
   "metadata": {},
   "outputs": [],
   "source": [
    "x = np.ones(combined.shape[0])/ np.linalg.norm(np.ones(combined.shape[0]))\n",
    "rho_ = (x.T @ mat @ x)/(x.T @ mat2 @ x)\n",
    "\n",
    "print(rho_)"
   ]
  },
  {
   "cell_type": "code",
   "execution_count": 47,
   "metadata": {},
   "outputs": [],
   "source": [
    "x[0] = -90"
   ]
  },
  {
   "cell_type": "code",
   "execution_count": 48,
   "metadata": {},
   "outputs": [],
   "source": [
    "xx  = x/np.linalg.norm(x)"
   ]
  },
  {
   "cell_type": "code",
   "execution_count": 49,
   "metadata": {},
   "outputs": [
    {
     "name": "stdout",
     "output_type": "stream",
     "text": [
      "0.9997509180289595\n"
     ]
    }
   ],
   "source": [
    "rhooo = (xx.T @ mat @ xx)/(xx.T @ mat2 @ xx)\n",
    "print(rhooo)"
   ]
  },
  {
   "cell_type": "code",
   "execution_count": 35,
   "metadata": {},
   "outputs": [
    {
     "name": "stdout",
     "output_type": "stream",
     "text": [
      "1.0\n",
      "0.20783444242705384\n",
      "0.20783446977734962\n",
      "0.2702779925095121\n",
      "0.12980763954996738\n",
      "0.13468939608705519\n",
      "0.10143837939748977\n",
      "0.0512657711400871\n",
      "0.09539592470946179\n",
      "0.16913172404906587\n",
      "0.044188986970387735\n",
      "0.3253013465417005\n",
      "0.022936759983317036\n",
      "0.00901785435733083\n",
      "0.32310367658004596\n",
      "0.03611391844490876\n",
      "0.47919900779849567\n",
      "0.05752110981361981\n",
      "0.05849608560376399\n",
      "0.19081291128986588\n",
      "0.1511180875030701\n",
      "0.13457684860266556\n",
      "0.00797019584872873\n",
      "0.009153975176927199\n",
      "0.20551724090396087\n",
      "0.10683866409159777\n",
      "0.29690153244758827\n",
      "0.11641878021143315\n",
      "0.02848901732263858\n",
      "0.023944576384217965\n"
     ]
    },
    {
     "ename": "KeyboardInterrupt",
     "evalue": "",
     "output_type": "error",
     "traceback": [
      "\u001b[0;31m---------------------------------------------------------------------------\u001b[0m",
      "\u001b[0;31mKeyboardInterrupt\u001b[0m                         Traceback (most recent call last)",
      "\u001b[0;32m<ipython-input-35-47de9bbe7c9a>\u001b[0m in \u001b[0;36m<module>\u001b[0;34m\u001b[0m\n\u001b[1;32m     30\u001b[0m \u001b[0;34m\u001b[0m\u001b[0m\n\u001b[1;32m     31\u001b[0m         \u001b[0;32mfor\u001b[0m \u001b[0mk\u001b[0m \u001b[0;32min\u001b[0m \u001b[0mrange\u001b[0m\u001b[0;34m(\u001b[0m\u001b[0mindex_\u001b[0m\u001b[0;34m,\u001b[0m \u001b[0mindex_\u001b[0m \u001b[0;34m+\u001b[0m \u001b[0;36m100\u001b[0m\u001b[0;34m)\u001b[0m\u001b[0;34m:\u001b[0m\u001b[0;34m\u001b[0m\u001b[0m\n\u001b[0;32m---> 32\u001b[0;31m             \u001b[0mV_m\u001b[0m\u001b[0;34m,\u001b[0m \u001b[0mH_m\u001b[0m \u001b[0;34m=\u001b[0m \u001b[0mkrypy\u001b[0m\u001b[0;34m.\u001b[0m\u001b[0mutils\u001b[0m\u001b[0;34m.\u001b[0m\u001b[0marnoldi\u001b[0m\u001b[0;34m(\u001b[0m\u001b[0;34m(\u001b[0m\u001b[0mmat\u001b[0m \u001b[0;34m-\u001b[0m \u001b[0mrho_\u001b[0m\u001b[0;34m*\u001b[0m\u001b[0mmat2\u001b[0m\u001b[0;34m)\u001b[0m\u001b[0;34m,\u001b[0m \u001b[0mx\u001b[0m\u001b[0;34m.\u001b[0m\u001b[0mreshape\u001b[0m\u001b[0;34m(\u001b[0m\u001b[0mcombined\u001b[0m\u001b[0;34m.\u001b[0m\u001b[0mshape\u001b[0m\u001b[0;34m[\u001b[0m\u001b[0;36m0\u001b[0m\u001b[0;34m]\u001b[0m\u001b[0;34m,\u001b[0m\u001b[0;36m1\u001b[0m\u001b[0;34m)\u001b[0m\u001b[0;34m,\u001b[0m \u001b[0mmaxiter\u001b[0m \u001b[0;34m=\u001b[0m \u001b[0mdim\u001b[0m\u001b[0;34m,\u001b[0m \u001b[0mortho\u001b[0m \u001b[0;34m=\u001b[0m\u001b[0;34m'dmgs'\u001b[0m\u001b[0;34m)\u001b[0m\u001b[0;34m\u001b[0m\u001b[0m\n\u001b[0m\u001b[1;32m     33\u001b[0m             \u001b[0mA_m\u001b[0m \u001b[0;34m=\u001b[0m \u001b[0mV_m\u001b[0m\u001b[0;34m.\u001b[0m\u001b[0mT\u001b[0m \u001b[0;34m@\u001b[0m \u001b[0;34m(\u001b[0m\u001b[0mmat\u001b[0m \u001b[0;34m-\u001b[0m \u001b[0mrho_\u001b[0m\u001b[0;34m*\u001b[0m\u001b[0mmat2\u001b[0m\u001b[0;34m)\u001b[0m \u001b[0;34m@\u001b[0m \u001b[0mV_m\u001b[0m\u001b[0;34m\u001b[0m\u001b[0m\n\u001b[1;32m     34\u001b[0m             \u001b[0mB_m\u001b[0m \u001b[0;34m=\u001b[0m \u001b[0mV_m\u001b[0m\u001b[0;34m.\u001b[0m\u001b[0mT\u001b[0m \u001b[0;34m@\u001b[0m \u001b[0mmat2\u001b[0m \u001b[0;34m@\u001b[0m \u001b[0mV_m\u001b[0m\u001b[0;34m\u001b[0m\u001b[0m\n",
      "\u001b[0;32m~/.conda/envs/opencl/lib/python3.7/site-packages/krypy/utils.py\u001b[0m in \u001b[0;36marnoldi\u001b[0;34m(*args, **kwargs)\u001b[0m\n\u001b[1;32m   1035\u001b[0m     \u001b[0m_arnoldi\u001b[0m \u001b[0;34m=\u001b[0m \u001b[0mArnoldi\u001b[0m\u001b[0;34m(\u001b[0m\u001b[0;34m*\u001b[0m\u001b[0margs\u001b[0m\u001b[0;34m,\u001b[0m \u001b[0;34m**\u001b[0m\u001b[0mkwargs\u001b[0m\u001b[0;34m)\u001b[0m\u001b[0;34m\u001b[0m\u001b[0m\n\u001b[1;32m   1036\u001b[0m     \u001b[0;32mwhile\u001b[0m \u001b[0m_arnoldi\u001b[0m\u001b[0;34m.\u001b[0m\u001b[0miter\u001b[0m \u001b[0;34m<\u001b[0m \u001b[0m_arnoldi\u001b[0m\u001b[0;34m.\u001b[0m\u001b[0mmaxiter\u001b[0m \u001b[0;32mand\u001b[0m \u001b[0;32mnot\u001b[0m \u001b[0m_arnoldi\u001b[0m\u001b[0;34m.\u001b[0m\u001b[0minvariant\u001b[0m\u001b[0;34m:\u001b[0m\u001b[0;34m\u001b[0m\u001b[0m\n\u001b[0;32m-> 1037\u001b[0;31m         \u001b[0m_arnoldi\u001b[0m\u001b[0;34m.\u001b[0m\u001b[0madvance\u001b[0m\u001b[0;34m(\u001b[0m\u001b[0;34m)\u001b[0m\u001b[0;34m\u001b[0m\u001b[0m\n\u001b[0m\u001b[1;32m   1038\u001b[0m     \u001b[0;32mreturn\u001b[0m \u001b[0m_arnoldi\u001b[0m\u001b[0;34m.\u001b[0m\u001b[0mget\u001b[0m\u001b[0;34m(\u001b[0m\u001b[0;34m)\u001b[0m\u001b[0;34m\u001b[0m\u001b[0m\n\u001b[1;32m   1039\u001b[0m \u001b[0;34m\u001b[0m\u001b[0m\n",
      "\u001b[0;32m~/.conda/envs/opencl/lib/python3.7/site-packages/krypy/utils.py\u001b[0m in \u001b[0;36madvance\u001b[0;34m(self)\u001b[0m\n\u001b[1;32m    986\u001b[0m                         \u001b[0mAv\u001b[0m \u001b[0;34m-=\u001b[0m \u001b[0malpha\u001b[0m \u001b[0;34m*\u001b[0m \u001b[0mself\u001b[0m\u001b[0;34m.\u001b[0m\u001b[0mP\u001b[0m\u001b[0;34m[\u001b[0m\u001b[0;34m:\u001b[0m\u001b[0;34m,\u001b[0m \u001b[0;34m[\u001b[0m\u001b[0mj\u001b[0m\u001b[0;34m]\u001b[0m\u001b[0;34m]\u001b[0m\u001b[0;34m\u001b[0m\u001b[0m\n\u001b[1;32m    987\u001b[0m                     \u001b[0;32melse\u001b[0m\u001b[0;34m:\u001b[0m\u001b[0;34m\u001b[0m\u001b[0m\n\u001b[0;32m--> 988\u001b[0;31m                         \u001b[0mAv\u001b[0m \u001b[0;34m-=\u001b[0m \u001b[0malpha\u001b[0m \u001b[0;34m*\u001b[0m \u001b[0mself\u001b[0m\u001b[0;34m.\u001b[0m\u001b[0mV\u001b[0m\u001b[0;34m[\u001b[0m\u001b[0;34m:\u001b[0m\u001b[0;34m,\u001b[0m \u001b[0;34m[\u001b[0m\u001b[0mj\u001b[0m\u001b[0;34m]\u001b[0m\u001b[0;34m]\u001b[0m\u001b[0;34m\u001b[0m\u001b[0m\n\u001b[0m\u001b[1;32m    989\u001b[0m             \u001b[0;32mif\u001b[0m \u001b[0mself\u001b[0m\u001b[0;34m.\u001b[0m\u001b[0mM\u001b[0m \u001b[0;32mis\u001b[0m \u001b[0;32mnot\u001b[0m \u001b[0;32mNone\u001b[0m\u001b[0;34m:\u001b[0m\u001b[0;34m\u001b[0m\u001b[0m\n\u001b[1;32m    990\u001b[0m                 \u001b[0mMAv\u001b[0m \u001b[0;34m=\u001b[0m \u001b[0mself\u001b[0m\u001b[0;34m.\u001b[0m\u001b[0mM\u001b[0m \u001b[0;34m*\u001b[0m \u001b[0mAv\u001b[0m\u001b[0;34m\u001b[0m\u001b[0m\n",
      "\u001b[0;31mKeyboardInterrupt\u001b[0m: "
     ]
    }
   ],
   "source": [
    "dim = 50\n",
    "\n",
    "for num_ in range(1,25):\n",
    "    result_1 = []\n",
    "    for index_ in range(num_):\n",
    "        x = np.ones(combined.shape[0]) /  np.linalg.norm(np.ones(combined.shape[0]))\n",
    "\n",
    "        rho_ = (x.T @ mat @ x)/(x.T @ mat2 @ x)\n",
    "\n",
    "        for k in range(index_, index_ + 100):\n",
    "            V_m, H_m = krypy.utils.arnoldi((mat - rho_*mat2), x.reshape(combined.shape[0],1), maxiter = dim, ortho ='dmgs')\n",
    "            A_m = V_m.T @ (mat - rho_*mat2) @ V_m\n",
    "            B_m = V_m.T @ mat2 @ V_m\n",
    "            evalue, evect = scipy.linalg.eigh(A_m, B_m, eigvals_only=False)\n",
    "            mu_ = evalue[index_]\n",
    "            v_index = list(evalue).index(evalue[index_])\n",
    "            v_ = evect[:,v_index]\n",
    "            rho_ += mu_\n",
    "            x = V_m @ v_\n",
    "        result_1.append(rho_)\n",
    "        \n",
    "    result_2 = []\n",
    "    for index_ in range(1, num_+1):\n",
    "        x = np.ones(combined.shape[0]) / np.linalg.norm(np.ones(combined.shape[0]))\n",
    "\n",
    "        rho_ = (x.T @ mat @ x)/(x.T @ mat2 @ x)\n",
    "\n",
    "        for k in range(index_, index_ + 100):\n",
    "            V_m, H_m = krypy.utils.arnoldi((mat - rho_*mat2), x.reshape(combined.shape[0],1), maxiter = dim, ortho ='dmgs')\n",
    "            A_m = V_m.T @ (mat - rho_*mat2) @ V_m\n",
    "            B_m = V_m.T @ mat2 @ V_m\n",
    "            evalue, evect = scipy.linalg.eigh(A_m, B_m, eigvals_only=False)\n",
    "            mu_ = evalue[-index_]\n",
    "            v_index = list(evalue).index(evalue[-index_])\n",
    "            v_ = evect[:,v_index]\n",
    "            rho_ += mu_\n",
    "            x = V_m @ v_\n",
    "        result_2.append(rho_)\n",
    "    result_ = result_1 + result_2 \n",
    "\n",
    "    logdet_approx = 0\n",
    "    for i in range(len(result_)):\n",
    "        logdet_approx += np.log(result_[i])\n",
    "\n",
    "    err = (logdet_approx - logdet)/logdet\n",
    "    print(abs(err))"
   ]
  },
  {
   "cell_type": "code",
   "execution_count": 40,
   "metadata": {},
   "outputs": [
    {
     "name": "stdout",
     "output_type": "stream",
     "text": [
      "0.0006631627372962413\n"
     ]
    }
   ],
   "source": [
    "num = 19\n",
    "result_1 = []\n",
    "for index_ in range(num):\n",
    "    x = np.ones(combined.shape[0]) / np.linalg.norm(np.ones(combined.shape[0]))\n",
    "\n",
    "    rho_ = (x.T @ mat @ x)/(x.T @ mat2 @ x)\n",
    "\n",
    "    for k in range(100):\n",
    "        V_m, H_m = krypy.utils.arnoldi((mat - rho_*mat2), x.reshape(combined.shape[0],1), maxiter = 60, ortho ='dmgs')\n",
    "        A_m = V_m.T @ (mat - rho_*mat2) @ V_m\n",
    "        B_m = V_m.T @ mat2 @ V_m\n",
    "        evalue, evect = scipy.linalg.eigh(A_m, B_m, eigvals_only=False)\n",
    "        mu_ = evalue[index_]\n",
    "        v_index = list(evalue).index(evalue[index_])\n",
    "        v_ = evect[:,v_index]\n",
    "        rho_ += mu_\n",
    "        x = V_m @ v_\n",
    "    result_1.append(rho_)\n",
    "\n",
    "result_2 = []\n",
    "for index_ in range(1, num+1):\n",
    "    x = np.ones(combined.shape[0]) / np.linalg.norm(np.ones(combined.shape[0]))\n",
    "\n",
    "    rho_ = (x.T @ mat @ x)/(x.T @ mat2 @ x)\n",
    "\n",
    "    for k in range(100):\n",
    "        V_m, H_m = krypy.utils.arnoldi((mat - rho_*mat2), x.reshape(combined.shape[0],1), maxiter = 60, ortho ='dmgs')\n",
    "        A_m = V_m.T @ (mat - rho_*mat2) @ V_m\n",
    "        B_m = V_m.T @ mat2 @ V_m\n",
    "        evalue, evect = scipy.linalg.eigh(A_m, B_m, eigvals_only=False)\n",
    "        mu_ = evalue[-index_]\n",
    "        v_index = list(evalue).index(evalue[-index_])\n",
    "        v_ = evect[:,v_index]\n",
    "        rho_ += mu_\n",
    "        x = V_m @ v_\n",
    "    result_2.append(rho_)\n",
    "\n",
    "result_ = result_1 + result_2 \n",
    "\n",
    "logdet_approx = 0\n",
    "for i in range(len(result_)):\n",
    "    logdet_approx += np.log(result_[i])\n",
    "err = (logdet_approx - logdet)/logdet\n",
    "print(abs(err))"
   ]
  },
  {
   "cell_type": "code",
   "execution_count": 38,
   "metadata": {},
   "outputs": [
    {
     "name": "stdout",
     "output_type": "stream",
     "text": [
      "(0.7021660931758336+0j) 0.7021660931758322\n",
      "(0.9043124458898861+0j) 0.9043124458898857\n",
      "(0.9043860910573976+0j) 0.9043860910573961\n",
      "(0.942193466404906+0j) 0.9421934664049058\n",
      "(0.9737525286945633+0j) 0.9737525286945633\n",
      "(0.9737893966140311+0j) 0.9737893966140317\n",
      "(0.9790931096910711+0j) 0.97909310969107\n",
      "(0.9791039368998471+0j) 0.979103936899847\n",
      "(0.9875697482945306+0j) 0.9875697482945321\n",
      "(0.9932273305554075+0j) 0.9932273305554089\n",
      "(0.9932346757190679+0j) 0.99323467571907\n",
      "(0.9939224875522522+0j) 0.9939224875522542\n",
      "(0.9939376035481406+0j) 0.9939376035481411\n",
      "(0.9953101015920109+0j) 0.9953101015920114\n",
      "(0.9953150180428059+0j) 0.9953150180428074\n",
      "(0.9972053230845186+0j) 0.9972053230845198\n",
      "(0.998293527348301+0j) 0.9982935273482993\n",
      "(0.9982974316592799+0j) 0.9982974316592779\n"
     ]
    }
   ],
   "source": [
    "for i in range(18):\n",
    "    print(sorted(evals)[i], result_[i])"
   ]
  },
  {
   "cell_type": "code",
   "execution_count": 39,
   "metadata": {},
   "outputs": [
    {
     "name": "stdout",
     "output_type": "stream",
     "text": [
      "(1.2978339068241707+0j) 1.2978339068241678\n",
      "(1.0956875541101154+0j) 1.0956875541101143\n",
      "(1.0956139089426065+0j) 1.095613908942604\n",
      "(1.0578065335950946+0j) 1.0578065335950941\n",
      "(1.0262474713054357+0j) 1.0262474713054368\n",
      "(1.0262106033859668+0j) 1.0262106033859684\n",
      "(1.0209068903089304+0j) 1.02090689030893\n",
      "(1.0208960631001522+0j) 1.020896063100153\n",
      "(1.0124302517054662+0j) 1.0124302517054677\n",
      "(1.006772669444588+0j) 1.006772669444591\n",
      "(1.0067653242809247+0j) 1.00676532428093\n",
      "(1.0060775124477457+0j) 1.0060775124477457\n",
      "(1.0060623964518614+0j) 1.006062396451859\n",
      "(1.0046898984079882+0j) 1.0046898984079886\n",
      "(1.0046849819571906+0j) 1.0046618635836952\n",
      "(1.0027946769154785+0j) 1.00279467691548\n",
      "(1.0017064726517027+0j) 1.0017064726517007\n",
      "(1.0017025683407246+0j) 1.0017025683407221\n"
     ]
    }
   ],
   "source": [
    "for i in range(1,18+1):\n",
    "    print(sorted(evals)[-i], sorted(result_)[-i])"
   ]
  },
  {
   "cell_type": "code",
   "execution_count": 41,
   "metadata": {},
   "outputs": [
    {
     "name": "stdout",
     "output_type": "stream",
     "text": [
      "(0.7021660931758336+0j) 0.7021660931758322\n",
      "(0.9043124458898861+0j) 0.9043124458898857\n",
      "(0.9043860910573976+0j) 0.9043860910573961\n",
      "(0.942193466404906+0j) 0.9421934664049058\n",
      "(0.9737525286945633+0j) 0.9737525286945633\n",
      "(0.9737893966140311+0j) 0.9737893966140317\n",
      "(0.9790931096910711+0j) 0.97909310969107\n",
      "(0.9791039368998471+0j) 0.979103936899847\n",
      "(0.9875697482945306+0j) 0.9875697482945321\n",
      "(0.9932273305554075+0j) 0.9932273305554089\n",
      "(0.9932346757190679+0j) 0.99323467571907\n",
      "(0.9939224875522522+0j) 0.9939224875522542\n",
      "(0.9939376035481406+0j) 0.9939376035481411\n",
      "(0.9953101015920109+0j) 0.9953101015920114\n",
      "(0.9953150180428059+0j) 0.9953150180428074\n",
      "(0.9972053230845186+0j) 0.9972053230845198\n",
      "(0.998293527348301+0j) 0.9982935273482993\n",
      "(0.9982974316592799+0j) 0.9982974316592779\n",
      "(0.9983927751699344+0j) 0.9984979056085779\n"
     ]
    }
   ],
   "source": [
    "for i in range(19):\n",
    "    print(sorted(evals)[i], result_[i])"
   ]
  },
  {
   "cell_type": "code",
   "execution_count": 42,
   "metadata": {},
   "outputs": [
    {
     "name": "stdout",
     "output_type": "stream",
     "text": [
      "(1.2978339068241707+0j) 1.2978339068241678\n",
      "(1.0956875541101154+0j) 1.0956875541101143\n",
      "(1.0956139089426065+0j) 1.095613908942604\n",
      "(1.0578065335950946+0j) 1.0578065335950941\n",
      "(1.0262474713054357+0j) 1.0262474713054368\n",
      "(1.0262106033859668+0j) 1.0262106033859684\n",
      "(1.0209068903089304+0j) 1.02090689030893\n",
      "(1.0208960631001522+0j) 1.020896063100153\n",
      "(1.0124302517054662+0j) 1.0124302517054677\n",
      "(1.006772669444588+0j) 1.006772669444591\n",
      "(1.0067653242809247+0j) 1.00676532428093\n",
      "(1.0060775124477457+0j) 1.0060775124477457\n",
      "(1.0060623964518614+0j) 1.006062396451859\n",
      "(1.0046898984079882+0j) 1.0046898984079886\n",
      "(1.0046849819571906+0j) 1.0046618635836952\n",
      "(1.0027946769154785+0j) 1.00279467691548\n",
      "(1.0017064726517027+0j) 1.0017064726517007\n",
      "(1.0017025683407246+0j) 1.0017025683407221\n",
      "(1.0016072248300671+0j) 1.0015920610981452\n"
     ]
    }
   ],
   "source": [
    "for i in range(1,19+1):\n",
    "    print(sorted(evals)[-i], sorted(result_)[-i])"
   ]
  },
  {
   "cell_type": "code",
   "execution_count": 44,
   "metadata": {},
   "outputs": [
    {
     "data": {
      "text/plain": [
       "8.36570121277453e-05"
      ]
     },
     "execution_count": 44,
     "metadata": {},
     "output_type": "execute_result"
    }
   ],
   "source": [
    "(logdet_approx - np.log(result_1[-1]) - np.log(result_2[-1]) - logdet)/logdet"
   ]
  },
  {
   "cell_type": "code",
   "execution_count": null,
   "metadata": {},
   "outputs": [],
   "source": []
  }
 ],
 "metadata": {
  "kernelspec": {
   "display_name": "Python 3",
   "language": "python",
   "name": "python3"
  },
  "language_info": {
   "codemirror_mode": {
    "name": "ipython",
    "version": 3
   },
   "file_extension": ".py",
   "mimetype": "text/x-python",
   "name": "python",
   "nbconvert_exporter": "python",
   "pygments_lexer": "ipython3",
   "version": "3.7.0"
  }
 },
 "nbformat": 4,
 "nbformat_minor": 2
}
