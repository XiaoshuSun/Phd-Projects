{
 "cells": [
  {
   "cell_type": "code",
   "execution_count": 1,
   "metadata": {},
   "outputs": [],
   "source": [
    "import bempp.api\n",
    "from bempp.api.assembly.blocked_operator import BlockedOperator\n",
    "import math\n",
    "import numpy as np\n",
    "import scipy \n",
    "import cmath\n",
    "from numba import objmode\n",
    "from numpy.linalg import slogdet\n",
    "from bempp.api.operators.far_field import helmholtz as helmholtz_farfield\n",
    "import matplotlib.pyplot as plt"
   ]
  },
  {
   "cell_type": "code",
   "execution_count": 2,
   "metadata": {},
   "outputs": [
    {
     "name": "stdout",
     "output_type": "stream",
     "text": [
      "-0.11725914620404754\n"
     ]
    }
   ],
   "source": [
    "h = 0.2\n",
    "\n",
    "dist = 0.5\n",
    "sphere1 = bempp.api.shapes.sphere(h=h, origin=((dist/2) + 1, 0, 0))\n",
    "sphere2 = bempp.api.shapes.sphere(h=h, origin=(-((dist/2) + 1), 0, 0))\n",
    "\n",
    "space_sphere1 = bempp.api.function_space(sphere1, \"P\", 1)\n",
    "space_sphere2 = bempp.api.function_space(sphere2, \"P\", 1)\n",
    "\n",
    "wavenumber = 0.8j\n",
    "\n",
    "slp11 = bempp.api.operators.boundary.helmholtz.single_layer(space_sphere1, space_sphere1, space_sphere1, wavenumber)\n",
    "slp12 = bempp.api.operators.boundary.helmholtz.single_layer(space_sphere2 , space_sphere1, space_sphere1, wavenumber)\n",
    "slp21 = bempp.api.operators.boundary.helmholtz.single_layer(space_sphere1, space_sphere2 , space_sphere2 , wavenumber)\n",
    "slp22 = bempp.api.operators.boundary.helmholtz.single_layer(space_sphere2 , space_sphere2 , space_sphere2 , wavenumber)\n",
    "\n",
    "mat11 = slp11.weak_form().A\n",
    "mat12 = slp12.weak_form().A\n",
    "mat21 = slp21.weak_form().A\n",
    "mat22 = slp22.weak_form().A\n",
    "mat12_zero = np.zeros((mat11.shape[0],mat12.shape[1]))\n",
    "mat21_zero = np.zeros((mat22.shape[0],mat11.shape[1]))\n",
    "\n",
    "mat = np.block([[mat11,mat12],[mat21,mat22]])  \n",
    "mat2 = np.block([[mat11,mat12_zero],[mat21_zero,mat22]])\n",
    "\n",
    "combined = np.linalg.inv(mat2).dot(mat)\n",
    "sign, logdet = slogdet(combined)\n",
    "print(logdet)"
   ]
  },
  {
   "cell_type": "code",
   "execution_count": 3,
   "metadata": {},
   "outputs": [],
   "source": [
    "evals, evects = np.linalg.eig(combined)"
   ]
  },
  {
   "cell_type": "code",
   "execution_count": 4,
   "metadata": {},
   "outputs": [],
   "source": [
    "import krypy"
   ]
  },
  {
   "cell_type": "code",
   "execution_count": 152,
   "metadata": {},
   "outputs": [],
   "source": [
    "num_ = 10\n",
    "dim = 100"
   ]
  },
  {
   "cell_type": "code",
   "execution_count": 153,
   "metadata": {},
   "outputs": [
    {
     "name": "stdout",
     "output_type": "stream",
     "text": [
      "0.0016222857498242053\n"
     ]
    }
   ],
   "source": [
    "result_1 = []\n",
    "for index_ in range(num_):\n",
    "    x = np.ones(combined.shape[0]) /  np.linalg.norm(np.ones(combined.shape[0]))\n",
    "    \n",
    "    rho_ = (x.T @ mat @ x)/(x.T @ mat2 @ x)\n",
    "\n",
    "    for k in range(index_, index_ + 50):\n",
    "        V_m, H_m = krypy.utils.arnoldi((mat - rho_*mat2), x.reshape(combined.shape[0],1), maxiter = dim, ortho ='dmgs')\n",
    "        A_m = V_m.T @ (mat - rho_*mat2) @ V_m\n",
    "        B_m = V_m.T @ mat2 @ V_m\n",
    "        evalue, evect = scipy.linalg.eigh(A_m, B_m, eigvals_only=False)\n",
    "        mu_ = evalue[index_]\n",
    "        v_index = list(evalue).index(evalue[index_])\n",
    "        v_ = evect[:,v_index]\n",
    "        rho_ += mu_\n",
    "        x = V_m @ v_\n",
    "    result_1.append(rho_)\n",
    "    \n",
    "result_2 = []\n",
    "for index_ in range(1, num_+1):\n",
    "    x = np.ones(combined.shape[0]) / np.linalg.norm(np.ones(combined.shape[0]))\n",
    "\n",
    "    rho_ = (x.T @ mat @ x)/(x.T @ mat2 @ x)\n",
    "\n",
    "    for k in range(index_, index_ + 50):\n",
    "        V_m, H_m = krypy.utils.arnoldi((mat - rho_*mat2), x.reshape(combined.shape[0],1), maxiter = dim, ortho ='dmgs')\n",
    "        A_m = V_m.T @ (mat - rho_*mat2) @ V_m\n",
    "        B_m = V_m.T @ mat2 @ V_m\n",
    "        evalue, evect = scipy.linalg.eigh(A_m, B_m, eigvals_only=False)\n",
    "        mu_ = evalue[-index_]\n",
    "        v_index = list(evalue).index(evalue[-index_])\n",
    "        v_ = evect[:,v_index]\n",
    "        rho_ += mu_\n",
    "        x = V_m @ v_\n",
    "    result_2.append(rho_)   \n",
    "    \n",
    "result_ = result_1 + result_2 \n",
    "\n",
    "logdet_approx = 0\n",
    "for i in range(len(result_)):\n",
    "    logdet_approx += np.log(result_[i])\n",
    "\n",
    "err = (logdet_approx - logdet)/logdet\n",
    "print(abs(err))"
   ]
  },
  {
   "cell_type": "code",
   "execution_count": 13,
   "metadata": {},
   "outputs": [
    {
     "name": "stdout",
     "output_type": "stream",
     "text": [
      "0.30456991743077\n",
      "0.053228178321106843\n",
      "0.004925889271754823\n",
      "0.00015369482198011766\n",
      "0.00032491999200200334\n",
      "0.0015467279850818736\n",
      "0.0010107461057735935\n",
      "4.459236437626378e-05\n",
      "1.5723429645033894e-05\n",
      "7.552573341240473e-06\n",
      "4.779988621449891e-07\n"
     ]
    }
   ],
   "source": [
    "num_ = 40\n",
    "\n",
    "for dim in [40, 50, 60, 70, 80, 90, 100, 110, 120, 130, 140]:\n",
    "\n",
    "    result_1 = []\n",
    "    for index_ in range(num_):\n",
    "        x = np.ones(combined.shape[0]) /  np.linalg.norm(np.ones(combined.shape[0]))\n",
    "\n",
    "        rho_ = (x.T @ mat @ x)/(x.T @ mat2 @ x)\n",
    "\n",
    "        for k in range(index_, index_ + 25):\n",
    "            V_m, H_m = krypy.utils.arnoldi((mat - rho_*mat2), x.reshape(combined.shape[0],1), maxiter = dim, ortho ='dmgs')\n",
    "            A_m = V_m.T @ (mat - rho_*mat2) @ V_m\n",
    "            B_m = V_m.T @ mat2 @ V_m\n",
    "            evalue, evect = scipy.linalg.eigh(A_m, B_m, eigvals_only=False)\n",
    "            mu_ = evalue[index_]\n",
    "            v_index = list(evalue).index(evalue[index_])\n",
    "            v_ = evect[:,v_index]\n",
    "            rho_ += mu_\n",
    "            x = V_m @ v_\n",
    "        result_1.append(rho_)\n",
    "        \n",
    "    result_2 = []\n",
    "    for index_ in range(1, num_+1):\n",
    "        x = np.ones(combined.shape[0]) / np.linalg.norm(np.ones(combined.shape[0]))\n",
    "\n",
    "        rho_ = (x.T @ mat @ x)/(x.T @ mat2 @ x)\n",
    "\n",
    "        for k in range(index_, index_ + 25):\n",
    "            V_m, H_m = krypy.utils.arnoldi((mat - rho_*mat2), x.reshape(combined.shape[0],1), maxiter = dim, ortho ='dmgs')\n",
    "            A_m = V_m.T @ (mat - rho_*mat2) @ V_m\n",
    "            B_m = V_m.T @ mat2 @ V_m\n",
    "            evalue, evect = scipy.linalg.eigh(A_m, B_m, eigvals_only=False)\n",
    "            mu_ = evalue[-index_]\n",
    "            v_index = list(evalue).index(evalue[-index_])\n",
    "            v_ = evect[:,v_index]\n",
    "            rho_ += mu_\n",
    "            x = V_m @ v_\n",
    "        result_2.append(rho_)\n",
    "    result_ = result_1 + result_2 \n",
    "\n",
    "    logdet_approx = 0\n",
    "    for i in range(len(result_)):\n",
    "        logdet_approx += np.log(result_[i])\n",
    "\n",
    "    err = (logdet_approx - logdet)/logdet\n",
    "    print(abs(err))"
   ]
  },
  {
   "cell_type": "code",
   "execution_count": 8,
   "metadata": {},
   "outputs": [
    {
     "name": "stdout",
     "output_type": "stream",
     "text": [
      "0.0011953596598519602\n",
      "4.1663673250830096e-05\n",
      "0.0003971097145711559\n",
      "0.0005563586645301482\n",
      "1.147605390117647e-05\n",
      "0.0001573804141074803\n",
      "0.00014169540382355126\n",
      "0.0004154266739073981\n"
     ]
    }
   ],
   "source": [
    "num_ = 30\n",
    "\n",
    "for dim in [75, 77, 79, 81, 83, 85, 87, 89]:\n",
    "\n",
    "    result_1 = []\n",
    "    for index_ in range(num_):\n",
    "        x = np.ones(combined.shape[0]) /  np.linalg.norm(np.ones(combined.shape[0]))\n",
    "\n",
    "        rho_ = (x.T @ mat @ x)/(x.T @ mat2 @ x)\n",
    "\n",
    "        for k in range(index_, index_ + 25):\n",
    "            V_m, H_m = krypy.utils.arnoldi((mat - rho_*mat2), x.reshape(combined.shape[0],1), maxiter = dim, ortho ='dmgs')\n",
    "            A_m = V_m.T @ (mat - rho_*mat2) @ V_m\n",
    "            B_m = V_m.T @ mat2 @ V_m\n",
    "            evalue, evect = scipy.linalg.eigh(A_m, B_m, eigvals_only=False)\n",
    "            mu_ = evalue[index_]\n",
    "            v_index = list(evalue).index(evalue[index_])\n",
    "            v_ = evect[:,v_index]\n",
    "            rho_ += mu_\n",
    "            x = V_m @ v_\n",
    "        result_1.append(rho_)\n",
    "        \n",
    "    result_2 = []\n",
    "    for index_ in range(1, num_+1):\n",
    "        x = np.ones(combined.shape[0]) / np.linalg.norm(np.ones(combined.shape[0]))\n",
    "\n",
    "        rho_ = (x.T @ mat @ x)/(x.T @ mat2 @ x)\n",
    "\n",
    "        for k in range(index_, index_ + 25):\n",
    "            V_m, H_m = krypy.utils.arnoldi((mat - rho_*mat2), x.reshape(combined.shape[0],1), maxiter = dim, ortho ='dmgs')\n",
    "            A_m = V_m.T @ (mat - rho_*mat2) @ V_m\n",
    "            B_m = V_m.T @ mat2 @ V_m\n",
    "            evalue, evect = scipy.linalg.eigh(A_m, B_m, eigvals_only=False)\n",
    "            mu_ = evalue[-index_]\n",
    "            v_index = list(evalue).index(evalue[-index_])\n",
    "            v_ = evect[:,v_index]\n",
    "            rho_ += mu_\n",
    "            x = V_m @ v_\n",
    "        result_2.append(rho_)\n",
    "    result_ = result_1 + result_2 \n",
    "\n",
    "    logdet_approx = 0\n",
    "    for i in range(len(result_)):\n",
    "        logdet_approx += np.log(result_[i])\n",
    "\n",
    "    err = (logdet_approx - logdet)/logdet\n",
    "    print(abs(err))"
   ]
  },
  {
   "cell_type": "code",
   "execution_count": 22,
   "metadata": {},
   "outputs": [
    {
     "data": {
      "text/plain": [
       "[<matplotlib.lines.Line2D at 0x7fa8f0794b38>]"
      ]
     },
     "execution_count": 22,
     "metadata": {},
     "output_type": "execute_result"
    },
    {
     "data": {
      "image/png": "[encoded data removed]",
      "text/plain": [
       "<Figure size 432x288 with 1 Axes>"
      ]
     },
     "metadata": {
      "needs_background": "light"
     },
     "output_type": "display_data"
    }
   ],
   "source": [
    "plt.semilogy([10, 20, 30, 40, 50, 60, 70, 80, 90, 100, 110, 120, 130, 140], \n",
    "             [0.3264425405026564, 0.10988351901264946, 0.023579171577283998, 0.0028921995466899926, 0.0016222857498242053, \n",
    "              0.0016222857498242053, 0.001622285749825152, 0.0016222857498242053, 0.0016222857498242053, 0.0016222857498242053,\n",
    "              0.001622285749825152, 0.0016222857498242053, 0.0016222857498242053, 0.0016222857498242053], '-*')\n",
    "plt.semilogy([20, 30, 40, 50, 60, 70, 80, 90, 100, 110, 120, 130, 140], \n",
    "             [0.45195941022166175, 0.02285357324611735, 0.02471142900936909, 0.002983716837653636, 0.0007493663498527633,\n",
    "              0.001576359384246577, 6.85688490013715e-05, 6.856884900326512e-05, 6.856884900326512e-05, 6.856884900326512e-05,\n",
    "              6.856884900326512e-05, 6.856884900326512e-05, 6.856884900326512e-05], '-*')\n",
    "\n",
    "plt.semilogy([30, 40, 50, 60, 70, 80, 90, 100, 110, 120, 130, 140, 150], \n",
    "             [0.25456142925623615, 0.04746437737456692, 0.002562221883428663, 0.003918882311766343, 0.003067142101056196, \n",
    "              3.2814072350377507e-06, 0.00028031640532216246, 4.952854907125366e-05, 3.5439482975365948e-06, 4.969237913190993e-06, \n",
    "              4.969237915084615e-06, 4.96923791129737e-06, 4.969237909403747e-06], '-*')\n",
    "\n",
    "plt.semilogy([40, 50, 60, 70, 80, 90, 100, 110, 120, 130, 140, 150], \n",
    "             [0.2572455807208386, 0.0006895962550608181, 0.008137411775710769, 0.0037258115367812903, 7.587643178620754e-05,\n",
    "              0.000668728273625723, 0.00018374929306915022, 1.4527587541876411e-05, 1.1234823296372392e-05, 4.839784992218223e-07, \n",
    "              4.779988583577433e-07, 4.779988564641204e-07], '-*')\n",
    "\n",
    "plt.semilogy([50, 60, 70, 80, 90, 100, 110, 120, 130, 140, 150, 160], \n",
    "             [0.2072921179373155, 0.00660700505185869, 0.005274303131263725, 7.653787555651468e-05, 0.0007502321412374746, \n",
    "              0.0003119607229560775, 0.0006086017722556336, 0.00015064670949643504, 2.3868413864926134e-05, 4.6510099178571743e-08, \n",
    "              4.651009539132593e-08, 4.651010107219464e-08], '-*')"
   ]
  },
  {
   "cell_type": "code",
   "execution_count": 3,
   "metadata": {},
   "outputs": [
    {
     "data": {
      "text/plain": [
       "[<matplotlib.lines.Line2D at 0x7fee3c11bf98>]"
      ]
     },
     "execution_count": 3,
     "metadata": {},
     "output_type": "execute_result"
    },
    {
     "data": {
      "image/png": "[encoded data removed]",
      "text/plain": [
       "<Figure size 432x288 with 1 Axes>"
      ]
     },
     "metadata": {
      "needs_background": "light"
     },
     "output_type": "display_data"
    }
   ],
   "source": [
    "plt.semilogy([20, 30, 40, 50, 60, 70, 80, 90, 100, 110, 120, 130, 140], \n",
    "             [0.10988351901264946, 0.023579171577283998, 0.0028921995466899926, 0.0016222857498242053, \n",
    "              0.0016222857498242053, 0.001622285749825152, 0.0016222857498242053, 0.0016222857498242053, 0.0016222857498242053,\n",
    "              0.001622285749825152, 0.0016222857498242053, 0.0016222857498242053, 0.0016222857498242053], '-*')\n",
    "plt.semilogy([40, 50, 60, 70, 80, 90, 100, 110, 120, 130, 140], \n",
    "             [0.02471142900936909, 0.002983716837653636, 0.0007493663498527633,\n",
    "              0.001576359384246577, 6.85688490013715e-05, 6.856884900326512e-05, 6.856884900326512e-05, 6.856884900326512e-05,\n",
    "              6.856884900326512e-05, 6.856884900326512e-05, 6.856884900326512e-05], '-*')\n",
    "\n",
    "plt.semilogy([60, 70, 80, 90, 100, 110, 120, 130, 140, 150], \n",
    "             [0.003918882311766343, 0.003067142101056196, \n",
    "              3.2814072350377507e-06, 0.00028031640532216246, 4.952854907125366e-05, 3.5439482975365948e-06, 4.969237913190993e-06, \n",
    "              4.969237915084615e-06, 4.96923791129737e-06, 4.969237909403747e-06], '-*')\n",
    "\n",
    "plt.semilogy([80, 90, 100, 110, 120, 130, 140, 150], \n",
    "             [7.587643178620754e-05,\n",
    "              0.000668728273625723, 0.00018374929306915022, 1.4527587541876411e-05, 1.1234823296372392e-05, 4.839784992218223e-07, \n",
    "              4.779988583577433e-07, 4.779988564641204e-07], '-*')\n",
    "\n",
    "plt.semilogy([100, 110, 120, 130, 140, 150, 160], \n",
    "             [ 0.0003119607229560775, 0.0006086017722556336, 0.00015064670949643504, 2.3868413864926134e-05, 4.6510099178571743e-08, \n",
    "              4.651009539132593e-08, 4.651010107219464e-08], '-*')"
   ]
  },
  {
   "cell_type": "code",
   "execution_count": null,
   "metadata": {},
   "outputs": [],
   "source": [
    "num_ = 10, with 50 iterations\n",
    "\n",
    "dim = 10, 20, 30, 40, 50, 60, 70, 80, 90, 100, 110, 120, 130, 140, 150, 160, 170, 180, 190, 200\n",
    "\n",
    "#0.3264425405026564\n",
    "0.10988351901264946\n",
    "0.023579171577283998\n",
    "0.0028921995466899926\n",
    "0.0016222857498242053\n",
    "0.0016222857498242053\n",
    "0.001622285749825152\n",
    "0.0016222857498242053\n",
    "0.0016222857498242053\n",
    "0.0016222857498242053\n",
    "0.001622285749825152\n",
    "0.0016222857498242053\n",
    "0.0016222857498242053\n",
    "0.0016222857498242053\n",
    "\n",
    "\n",
    "num_ = 20, with 50 iterations\n",
    "\n",
    "#0.45195941022166175\n",
    "#0.02285357324611735\n",
    "0.02471142900936909\n",
    "0.002983716837653636\n",
    "0.0007493663498527633\n",
    "0.001576359384246577\n",
    "6.85688490013715e-05\n",
    "6.856884900326512e-05\n",
    "6.856884900326512e-05\n",
    "6.856884900326512e-05\n",
    "6.856884900326512e-05\n",
    "\n",
    "num_ = 30, with 50 iterations\n",
    "\n",
    "\n",
    "#0.25456142925623615\n",
    "#0.04746437737456692\n",
    "#0.002562221883428663\n",
    "0.003918882311766343\n",
    "0.003067142101056196\n",
    "3.2814072350377507e-06\n",
    "0.00028031640532216246\n",
    "4.952854907125366e-05\n",
    "3.5439482975365948e-06\n",
    "4.969237913190993e-06\n",
    "4.969237915084615e-06\n",
    "4.96923791129737e-06\n",
    "4.969237909403747e-06\n",
    "4.969237915084615e-06\n",
    "\n",
    "num_ = 40, with 50 iterations\n",
    "\n",
    "#0.2572455807208386\n",
    "#0.0006895962550608181\n",
    "#0.008137411775710769\n",
    "#0.0037258115367812903\n",
    "7.587643178620754e-05\n",
    "0.000668728273625723\n",
    "0.00018374929306915022\n",
    "1.4527587541876411e-05\n",
    "1.1234823296372392e-05\n",
    "4.839784992218223e-07\n",
    "4.779988583577433e-07\n",
    "4.779988564641204e-07\n",
    "\n",
    "num_ = 50, with 50 iterations\n",
    "\n",
    "#0.2072921179373155\n",
    "#0.00660700505185869\n",
    "#0.005274303131263725\n",
    "#7.653787555651468e-05\n",
    "#0.0007502321412374746\n",
    "0.0003119607229560775\n",
    "0.0006086017722556336\n",
    "0.00015064670949643504\n",
    "2.3868413864926134e-05\n",
    "4.6510099178571743e-08\n",
    "4.651009539132593e-08\n",
    "4.651010107219464e-08"
   ]
  },
  {
   "cell_type": "code",
   "execution_count": 29,
   "metadata": {},
   "outputs": [
    {
     "data": {
      "text/plain": [
       "<matplotlib.legend.Legend at 0x7fa8f0430cf8>"
      ]
     },
     "execution_count": 29,
     "metadata": {},
     "output_type": "execute_result"
    },
    {
     "data": {
      "image/png": "[encoded data removed]",
      "text/plain": [
       "<Figure size 432x288 with 1 Axes>"
      ]
     },
     "metadata": {
      "needs_background": "light"
     },
     "output_type": "display_data"
    }
   ],
   "source": [
    "plt.semilogy([10, 20, 30, 40, 50, 60, 70, 80, 90, 100, 110, 120, 130, 140], \n",
    "             [0.6098092514897283, 0.03897523969180974, 0.1282289411517143, 0.04438238755674984, 0.0016222857498242053, \n",
    "              0.0016222857498242053, 0.0016222857498242053, 0.0016222857498242053, 0.0016222857498242053, 0.0016222857498242053, 0.0016222857498242053,\n",
    "             0.0016222857498242053, 0.0016222857498242053, 0.0016222857498242053], '-*')\n",
    "plt.semilogy([10, 20, 30, 40, 50, 60, 70, 80, 90, 100, 110, 120, 130, 140], \n",
    "             [0.3264425405026564, 0.10988351901264946, 0.023579171577283998, 0.0028921995466899926, 0.0016222857498242053, \n",
    "              0.0016222857498242053, 0.001622285749825152, 0.0016222857498242053, 0.0016222857498242053, 0.0016222857498242053,\n",
    "              0.001622285749825152, 0.0016222857498242053, 0.0016222857498242053, 0.0016222857498242053], '-*')\n",
    "plt.legend(['25', '50'])"
   ]
  },
  {
   "cell_type": "code",
   "execution_count": 28,
   "metadata": {},
   "outputs": [
    {
     "data": {
      "text/plain": [
       "<matplotlib.legend.Legend at 0x7fa8f026eda0>"
      ]
     },
     "execution_count": 28,
     "metadata": {},
     "output_type": "execute_result"
    },
    {
     "data": {
      "image/png": "[encoded data removed]",
      "text/plain": [
       "<Figure size 432x288 with 1 Axes>"
      ]
     },
     "metadata": {
      "needs_background": "light"
     },
     "output_type": "display_data"
    }
   ],
   "source": [
    "plt.semilogy([20, 30, 40, 50, 60, 70, 80, 90, 100, 110, 120, 130, 140], \n",
    "             [0.30762602347736095, 0.1271944410623924, 0.048373646858585674, 0.026195503907737398, 6.770781855579039e-05, \n",
    "              0.001025954284087707, 2.9971214089398012e-05, 6.856884900326512e-05, 6.85688490013715e-05,  6.85688490013715e-05,\n",
    "              6.85688490013715e-05,  6.85688490013715e-05,  6.85688490013715e-05], '-*')\n",
    "\n",
    "plt.semilogy([20, 30, 40, 50, 60, 70, 80, 90, 100, 110, 120, 130, 140], \n",
    "             [0.45195941022166175, 0.02285357324611735, 0.02471142900936909, 0.002983716837653636, 0.0007493663498527633,\n",
    "              0.001576359384246577, 6.85688490013715e-05, 6.856884900326512e-05, 6.856884900326512e-05, 6.856884900326512e-05,\n",
    "              6.856884900326512e-05, 6.856884900326512e-05, 6.856884900326512e-05], '-*')\n",
    "plt.legend(['25', '50'])"
   ]
  },
  {
   "cell_type": "code",
   "execution_count": 30,
   "metadata": {},
   "outputs": [
    {
     "data": {
      "text/plain": [
       "<matplotlib.legend.Legend at 0x7fa8e0b31a58>"
      ]
     },
     "execution_count": 30,
     "metadata": {},
     "output_type": "execute_result"
    },
    {
     "data": {
      "image/png": "[encoded data removed]",
      "text/plain": [
       "<Figure size 432x288 with 1 Axes>"
      ]
     },
     "metadata": {
      "needs_background": "light"
     },
     "output_type": "display_data"
    }
   ],
   "source": [
    "plt.semilogy([10, 20, 30, 40, 50, 60, 70, 80, 90, 100, 110, 120, 130, 140], \n",
    "             [0.6098092514897283, 0.03897523969180974, 0.1282289411517143, 0.04438238755674984, 0.0016222857498242053, \n",
    "              0.0016222857498242053, 0.0016222857498242053, 0.0016222857498242053, 0.0016222857498242053, 0.0016222857498242053, 0.0016222857498242053,\n",
    "             0.0016222857498242053, 0.0016222857498242053, 0.0016222857498242053], '-*')\n",
    "\n",
    "plt.semilogy([20, 30, 40, 50, 60, 70, 80, 90, 100, 110, 120, 130, 140], \n",
    "             [0.30762602347736095, 0.1271944410623924, 0.048373646858585674, 0.026195503907737398, 6.770781855579039e-05, \n",
    "              0.001025954284087707, 2.9971214089398012e-05, 6.856884900326512e-05, 6.85688490013715e-05,  6.85688490013715e-05,\n",
    "              6.85688490013715e-05,  6.85688490013715e-05,  6.85688490013715e-05], '-*')\n",
    "\n",
    "plt.semilogy([30, 40, 50, 60, 70, 80, 90, 100, 110, 120, 130, 140, 150], \n",
    "             [0.46351613548517473, 0.0542030412495333, 0.025882537834670583, 0.0028806632873996426, 0.0005305519943910134, \n",
    "              0.0001195463081653112, 1.3583610566669101e-05, 9.395694543051505e-06, 4.969237915084615e-06, 4.969237915084615e-06,\n",
    "             4.969237915084615e-06, 4.969237915084615e-06, 4.969237915084615e-06], '-*')\n",
    "\n",
    "plt.semilogy([40, 50, 60, 70, 80, 90, 100, 110, 120, 130, 140, 150], \n",
    "             [0.30456991743077, 0.053228178321106843, 0.004925889271754823, 0.00015369482198011766, 0.00032491999200200334, \n",
    "              0.0015467279850818736, 0.0010107461057735935, 4.459236437626378e-05, 1.5723429645033894e-05, 7.552573341240473e-06, \n",
    "              4.779988621449891e-07, 4.779988621449891e-07], '-*')\n",
    "\n",
    "plt.semilogy([50, 60, 70, 80, 90, 100, 110, 120, 130, 140, 150, 160], \n",
    "             [0.25983070000336095, 0.004530551983840198, 0.00039447373646318975, 0.0011929784108137345, 0.0011379344234534643, \n",
    "              0.0012606829139984491, 0.0012536975459668635, 0.00033996711615858003, 9.054256636287372e-05, 8.043471733268505e-06, \n",
    "              4.651010107219464e-08, 4.6510099178571743e-08], '-*')\n",
    "plt.legend(['10', '20', '30', '40', '50'])"
   ]
  },
  {
   "cell_type": "code",
   "execution_count": null,
   "metadata": {},
   "outputs": [],
   "source": [
    "num_ = 10, with 25 iterations\n",
    "\n",
    "dim = 10, 20, 30, 40, 50, 60, 70, 80, 90, 100, 110, 120, 130, 140, 150, 160, 170, 180, 190, 200\n",
    "\n",
    "0.6098092514897283\n",
    "0.03897523969180974\n",
    "0.1282289411517143\n",
    "0.04438238755674984\n",
    "0.0016222857498242053\n",
    "0.0016222857498242053\n",
    "0.0016222857498242053\n",
    "\n",
    "\n",
    "num_ = 20, with 25 iterations\n",
    "\n",
    "0.30762602347736095\n",
    "0.1271944410623924\n",
    "0.048373646858585674\n",
    "0.026195503907737398\n",
    "6.770781855579039e-05\n",
    "0.001025954284087707\n",
    "2.9971214089398012e-05\n",
    "6.856884900326512e-05\n",
    "6.85688490013715e-05\n",
    "\n",
    "num_ = 30, with 25 iterations\n",
    "\n",
    "0.46351613548517473\n",
    "0.0542030412495333\n",
    "0.025882537834670583\n",
    "0.0028806632873996426\n",
    "0.0005305519943910134\n",
    "0.0001195463081653112\n",
    "1.3583610566669101e-05\n",
    "9.395694543051505e-06\n",
    "4.969237915084615e-06\n",
    "4.969237915084615e-06\n",
    "\n",
    "num_ = 40, with 25 iterations\n",
    "\n",
    "0.30456991743077\n",
    "0.053228178321106843\n",
    "0.004925889271754823\n",
    "0.00015369482198011766\n",
    "0.00032491999200200334\n",
    "0.0015467279850818736\n",
    "0.0010107461057735935\n",
    "4.459236437626378e-05\n",
    "1.5723429645033894e-05\n",
    "7.552573341240473e-06\n",
    "4.779988621449891e-07\n",
    "\n",
    "num_ = 50, with 25 iterations\n",
    "0.25983070000336095\n",
    "0.004530551983840198\n",
    "0.00039447373646318975\n",
    "0.0011929784108137345\n",
    "0.0011379344234534643\n",
    "0.0012606829139984491\n",
    "0.0012536975459668635\n",
    "0.00033996711615858003\n",
    "9.054256636287372e-05\n",
    "8.043471733268505e-06\n",
    "4.651010107219464e-08\n",
    "4.6510099178571743e-08\n",
    "4.651010485944045e-08\n",
    "4.651010296581755e-08"
   ]
  },
  {
   "cell_type": "code",
   "execution_count": 33,
   "metadata": {},
   "outputs": [
    {
     "name": "stdout",
     "output_type": "stream",
     "text": [
      "1.0\n",
      "0.20783446977767484\n",
      "0.1293904157173525\n",
      "0.051067618845466164\n",
      "0.02252237497101278\n",
      "0.016645075046953003\n",
      "0.010784280031768727\n",
      "0.007055840658411374\n",
      "0.00333126287826241\n",
      "0.0020134714688728205\n",
      "0.0016222857498242053\n",
      "0.0012319480954192208\n",
      "0.000916946315984816\n",
      "0.001303273569788569\n",
      "0.0014908528732889335\n",
      "0.002075430059463501\n",
      "0.0020088233186265157\n",
      "0.001983988981644923\n",
      "0.001958376100802941\n"
     ]
    },
    {
     "ename": "KeyboardInterrupt",
     "evalue": "",
     "output_type": "error",
     "traceback": [
      "\u001b[0;31m---------------------------------------------------------------------------\u001b[0m",
      "\u001b[0;31mKeyboardInterrupt\u001b[0m                         Traceback (most recent call last)",
      "\u001b[0;32m<ipython-input-33-61e7cfdb6c7b>\u001b[0m in \u001b[0;36m<module>\u001b[0;34m\u001b[0m\n\u001b[1;32m      9\u001b[0m \u001b[0;34m\u001b[0m\u001b[0m\n\u001b[1;32m     10\u001b[0m         \u001b[0;32mfor\u001b[0m \u001b[0mk\u001b[0m \u001b[0;32min\u001b[0m \u001b[0mrange\u001b[0m\u001b[0;34m(\u001b[0m\u001b[0;36m50\u001b[0m\u001b[0;34m)\u001b[0m\u001b[0;34m:\u001b[0m\u001b[0;34m\u001b[0m\u001b[0m\n\u001b[0;32m---> 11\u001b[0;31m             \u001b[0mV_m\u001b[0m\u001b[0;34m,\u001b[0m \u001b[0mH_m\u001b[0m \u001b[0;34m=\u001b[0m \u001b[0mkrypy\u001b[0m\u001b[0;34m.\u001b[0m\u001b[0mutils\u001b[0m\u001b[0;34m.\u001b[0m\u001b[0marnoldi\u001b[0m\u001b[0;34m(\u001b[0m\u001b[0;34m(\u001b[0m\u001b[0mmat\u001b[0m \u001b[0;34m-\u001b[0m \u001b[0mrho_\u001b[0m\u001b[0;34m*\u001b[0m\u001b[0mmat2\u001b[0m\u001b[0;34m)\u001b[0m\u001b[0;34m,\u001b[0m \u001b[0mx\u001b[0m\u001b[0;34m.\u001b[0m\u001b[0mreshape\u001b[0m\u001b[0;34m(\u001b[0m\u001b[0mcombined\u001b[0m\u001b[0;34m.\u001b[0m\u001b[0mshape\u001b[0m\u001b[0;34m[\u001b[0m\u001b[0;36m0\u001b[0m\u001b[0;34m]\u001b[0m\u001b[0;34m,\u001b[0m\u001b[0;36m1\u001b[0m\u001b[0;34m)\u001b[0m\u001b[0;34m,\u001b[0m \u001b[0mmaxiter\u001b[0m \u001b[0;34m=\u001b[0m \u001b[0mdim\u001b[0m\u001b[0;34m,\u001b[0m \u001b[0mortho\u001b[0m \u001b[0;34m=\u001b[0m\u001b[0;34m'dmgs'\u001b[0m\u001b[0;34m)\u001b[0m\u001b[0;34m\u001b[0m\u001b[0m\n\u001b[0m\u001b[1;32m     12\u001b[0m             \u001b[0mA_m\u001b[0m \u001b[0;34m=\u001b[0m \u001b[0mV_m\u001b[0m\u001b[0;34m.\u001b[0m\u001b[0mT\u001b[0m \u001b[0;34m@\u001b[0m \u001b[0;34m(\u001b[0m\u001b[0mmat\u001b[0m \u001b[0;34m-\u001b[0m \u001b[0mrho_\u001b[0m\u001b[0;34m*\u001b[0m\u001b[0mmat2\u001b[0m\u001b[0;34m)\u001b[0m \u001b[0;34m@\u001b[0m \u001b[0mV_m\u001b[0m\u001b[0;34m\u001b[0m\u001b[0m\n\u001b[1;32m     13\u001b[0m             \u001b[0mB_m\u001b[0m \u001b[0;34m=\u001b[0m \u001b[0mV_m\u001b[0m\u001b[0;34m.\u001b[0m\u001b[0mT\u001b[0m \u001b[0;34m@\u001b[0m \u001b[0mmat2\u001b[0m \u001b[0;34m@\u001b[0m \u001b[0mV_m\u001b[0m\u001b[0;34m\u001b[0m\u001b[0m\n",
      "\u001b[0;32m~/.conda/envs/opencl/lib/python3.7/site-packages/krypy/utils.py\u001b[0m in \u001b[0;36marnoldi\u001b[0;34m(*args, **kwargs)\u001b[0m\n\u001b[1;32m   1035\u001b[0m     \u001b[0m_arnoldi\u001b[0m \u001b[0;34m=\u001b[0m \u001b[0mArnoldi\u001b[0m\u001b[0;34m(\u001b[0m\u001b[0;34m*\u001b[0m\u001b[0margs\u001b[0m\u001b[0;34m,\u001b[0m \u001b[0;34m**\u001b[0m\u001b[0mkwargs\u001b[0m\u001b[0;34m)\u001b[0m\u001b[0;34m\u001b[0m\u001b[0m\n\u001b[1;32m   1036\u001b[0m     \u001b[0;32mwhile\u001b[0m \u001b[0m_arnoldi\u001b[0m\u001b[0;34m.\u001b[0m\u001b[0miter\u001b[0m \u001b[0;34m<\u001b[0m \u001b[0m_arnoldi\u001b[0m\u001b[0;34m.\u001b[0m\u001b[0mmaxiter\u001b[0m \u001b[0;32mand\u001b[0m \u001b[0;32mnot\u001b[0m \u001b[0m_arnoldi\u001b[0m\u001b[0;34m.\u001b[0m\u001b[0minvariant\u001b[0m\u001b[0;34m:\u001b[0m\u001b[0;34m\u001b[0m\u001b[0m\n\u001b[0;32m-> 1037\u001b[0;31m         \u001b[0m_arnoldi\u001b[0m\u001b[0;34m.\u001b[0m\u001b[0madvance\u001b[0m\u001b[0;34m(\u001b[0m\u001b[0;34m)\u001b[0m\u001b[0;34m\u001b[0m\u001b[0m\n\u001b[0m\u001b[1;32m   1038\u001b[0m     \u001b[0;32mreturn\u001b[0m \u001b[0m_arnoldi\u001b[0m\u001b[0;34m.\u001b[0m\u001b[0mget\u001b[0m\u001b[0;34m(\u001b[0m\u001b[0;34m)\u001b[0m\u001b[0;34m\u001b[0m\u001b[0m\n\u001b[1;32m   1039\u001b[0m \u001b[0;34m\u001b[0m\u001b[0m\n",
      "\u001b[0;32m~/.conda/envs/opencl/lib/python3.7/site-packages/krypy/utils.py\u001b[0m in \u001b[0;36madvance\u001b[0;34m(self)\u001b[0m\n\u001b[1;32m    972\u001b[0m                 \u001b[0;31m# orthogonalize\u001b[0m\u001b[0;34m\u001b[0m\u001b[0;34m\u001b[0m\u001b[0m\n\u001b[1;32m    973\u001b[0m                 \u001b[0;32mfor\u001b[0m \u001b[0mj\u001b[0m \u001b[0;32min\u001b[0m \u001b[0mrange\u001b[0m\u001b[0;34m(\u001b[0m\u001b[0mstart\u001b[0m\u001b[0;34m,\u001b[0m \u001b[0mk\u001b[0m\u001b[0;34m+\u001b[0m\u001b[0;36m1\u001b[0m\u001b[0;34m)\u001b[0m\u001b[0;34m:\u001b[0m\u001b[0;34m\u001b[0m\u001b[0m\n\u001b[0;32m--> 974\u001b[0;31m                     \u001b[0malpha\u001b[0m \u001b[0;34m=\u001b[0m \u001b[0minner\u001b[0m\u001b[0;34m(\u001b[0m\u001b[0mself\u001b[0m\u001b[0;34m.\u001b[0m\u001b[0mV\u001b[0m\u001b[0;34m[\u001b[0m\u001b[0;34m:\u001b[0m\u001b[0;34m,\u001b[0m \u001b[0;34m[\u001b[0m\u001b[0mj\u001b[0m\u001b[0;34m]\u001b[0m\u001b[0;34m]\u001b[0m\u001b[0;34m,\u001b[0m \u001b[0mAv\u001b[0m\u001b[0;34m,\u001b[0m \u001b[0mip_B\u001b[0m\u001b[0;34m=\u001b[0m\u001b[0mself\u001b[0m\u001b[0;34m.\u001b[0m\u001b[0mip_B\u001b[0m\u001b[0;34m)\u001b[0m\u001b[0;34m[\u001b[0m\u001b[0;36m0\u001b[0m\u001b[0;34m,\u001b[0m \u001b[0;36m0\u001b[0m\u001b[0;34m]\u001b[0m\u001b[0;34m\u001b[0m\u001b[0m\n\u001b[0m\u001b[1;32m    975\u001b[0m                     \u001b[0;32mif\u001b[0m \u001b[0mself\u001b[0m\u001b[0;34m.\u001b[0m\u001b[0mortho\u001b[0m \u001b[0;34m==\u001b[0m \u001b[0;34m'lanczos'\u001b[0m\u001b[0;34m:\u001b[0m\u001b[0;34m\u001b[0m\u001b[0m\n\u001b[1;32m    976\u001b[0m                         \u001b[0;31m# check if alpha is real\u001b[0m\u001b[0;34m\u001b[0m\u001b[0;34m\u001b[0m\u001b[0m\n",
      "\u001b[0;31mKeyboardInterrupt\u001b[0m: "
     ]
    }
   ],
   "source": [
    "dim = 50\n",
    "for num_ in range(25):\n",
    "\n",
    "    result_1 = []\n",
    "    for index_ in range(num_):\n",
    "        x = np.ones(combined.shape[0]) /  np.linalg.norm(np.ones(combined.shape[0]))\n",
    "\n",
    "        rho_ = (x.T @ mat @ x)/(x.T @ mat2 @ x)\n",
    "\n",
    "        for k in range(50):\n",
    "            V_m, H_m = krypy.utils.arnoldi((mat - rho_*mat2), x.reshape(combined.shape[0],1), maxiter = dim, ortho ='dmgs')\n",
    "            A_m = V_m.T @ (mat - rho_*mat2) @ V_m\n",
    "            B_m = V_m.T @ mat2 @ V_m\n",
    "            evalue, evect = scipy.linalg.eigh(A_m, B_m, eigvals_only=False)\n",
    "            mu_ = evalue[index_]\n",
    "            v_index = list(evalue).index(evalue[index_])\n",
    "            v_ = evect[:,v_index]\n",
    "            rho_ += mu_\n",
    "            x = V_m @ v_\n",
    "        result_1.append(rho_)\n",
    "        \n",
    "    result_2 = []\n",
    "    for index_ in range(1, num_+1):\n",
    "        x = np.ones(combined.shape[0]) / np.linalg.norm(np.ones(combined.shape[0]))\n",
    "\n",
    "        rho_ = (x.T @ mat @ x)/(x.T @ mat2 @ x)\n",
    "\n",
    "        for k in range(50):\n",
    "            V_m, H_m = krypy.utils.arnoldi((mat - rho_*mat2), x.reshape(combined.shape[0],1), maxiter = dim, ortho ='dmgs')\n",
    "            A_m = V_m.T @ (mat - rho_*mat2) @ V_m\n",
    "            B_m = V_m.T @ mat2 @ V_m\n",
    "            evalue, evect = scipy.linalg.eigh(A_m, B_m, eigvals_only=False)\n",
    "            mu_ = evalue[-index_]\n",
    "            v_index = list(evalue).index(evalue[-index_])\n",
    "            v_ = evect[:,v_index]\n",
    "            rho_ += mu_\n",
    "            x = V_m @ v_\n",
    "        result_2.append(rho_)\n",
    "    result_ = result_1 + result_2 \n",
    "\n",
    "    logdet_approx = 0\n",
    "    for i in range(len(result_)):\n",
    "        logdet_approx += np.log(result_[i])\n",
    "\n",
    "    err = (logdet_approx - logdet)/logdet\n",
    "    print(abs(err))"
   ]
  },
  {
   "cell_type": "code",
   "execution_count": 10,
   "metadata": {},
   "outputs": [
    {
     "name": "stdout",
     "output_type": "stream",
     "text": [
      "0.10273501482074346\n",
      "0.0009450269451528963\n",
      "0.0006634119831790749\n",
      "0.0010702480094957661\n",
      "6.85688490013715e-05\n",
      "6.856884900326512e-05\n"
     ]
    },
    {
     "ename": "KeyboardInterrupt",
     "evalue": "",
     "output_type": "error",
     "traceback": [
      "\u001b[0;31m---------------------------------------------------------------------------\u001b[0m",
      "\u001b[0;31mKeyboardInterrupt\u001b[0m                         Traceback (most recent call last)",
      "\u001b[0;32m<ipython-input-10-5897f53ecae4>\u001b[0m in \u001b[0;36m<module>\u001b[0;34m\u001b[0m\n\u001b[1;32m     28\u001b[0m \u001b[0;34m\u001b[0m\u001b[0m\n\u001b[1;32m     29\u001b[0m         \u001b[0;32mfor\u001b[0m \u001b[0mk\u001b[0m \u001b[0;32min\u001b[0m \u001b[0mrange\u001b[0m\u001b[0;34m(\u001b[0m\u001b[0mindex_\u001b[0m\u001b[0;34m,\u001b[0m \u001b[0mindex_\u001b[0m \u001b[0;34m+\u001b[0m \u001b[0;36m100\u001b[0m\u001b[0;34m)\u001b[0m\u001b[0;34m:\u001b[0m\u001b[0;34m\u001b[0m\u001b[0m\n\u001b[0;32m---> 30\u001b[0;31m             \u001b[0mV_m\u001b[0m\u001b[0;34m,\u001b[0m \u001b[0mH_m\u001b[0m \u001b[0;34m=\u001b[0m \u001b[0mkrypy\u001b[0m\u001b[0;34m.\u001b[0m\u001b[0mutils\u001b[0m\u001b[0;34m.\u001b[0m\u001b[0marnoldi\u001b[0m\u001b[0;34m(\u001b[0m\u001b[0;34m(\u001b[0m\u001b[0mmat\u001b[0m \u001b[0;34m-\u001b[0m \u001b[0mrho_\u001b[0m\u001b[0;34m*\u001b[0m\u001b[0mmat2\u001b[0m\u001b[0;34m)\u001b[0m\u001b[0;34m,\u001b[0m \u001b[0mx\u001b[0m\u001b[0;34m.\u001b[0m\u001b[0mreshape\u001b[0m\u001b[0;34m(\u001b[0m\u001b[0mcombined\u001b[0m\u001b[0;34m.\u001b[0m\u001b[0mshape\u001b[0m\u001b[0;34m[\u001b[0m\u001b[0;36m0\u001b[0m\u001b[0;34m]\u001b[0m\u001b[0;34m,\u001b[0m\u001b[0;36m1\u001b[0m\u001b[0;34m)\u001b[0m\u001b[0;34m,\u001b[0m \u001b[0mmaxiter\u001b[0m \u001b[0;34m=\u001b[0m \u001b[0mdim\u001b[0m\u001b[0;34m,\u001b[0m \u001b[0mortho\u001b[0m \u001b[0;34m=\u001b[0m\u001b[0;34m'dmgs'\u001b[0m\u001b[0;34m)\u001b[0m\u001b[0;34m\u001b[0m\u001b[0m\n\u001b[0m\u001b[1;32m     31\u001b[0m             \u001b[0mA_m\u001b[0m \u001b[0;34m=\u001b[0m \u001b[0mV_m\u001b[0m\u001b[0;34m.\u001b[0m\u001b[0mT\u001b[0m \u001b[0;34m@\u001b[0m \u001b[0;34m(\u001b[0m\u001b[0mmat\u001b[0m \u001b[0;34m-\u001b[0m \u001b[0mrho_\u001b[0m\u001b[0;34m*\u001b[0m\u001b[0mmat2\u001b[0m\u001b[0;34m)\u001b[0m \u001b[0;34m@\u001b[0m \u001b[0mV_m\u001b[0m\u001b[0;34m\u001b[0m\u001b[0m\n\u001b[1;32m     32\u001b[0m             \u001b[0mB_m\u001b[0m \u001b[0;34m=\u001b[0m \u001b[0mV_m\u001b[0m\u001b[0;34m.\u001b[0m\u001b[0mT\u001b[0m \u001b[0;34m@\u001b[0m \u001b[0mmat2\u001b[0m \u001b[0;34m@\u001b[0m \u001b[0mV_m\u001b[0m\u001b[0;34m\u001b[0m\u001b[0m\n",
      "\u001b[0;32m~/.conda/envs/opencl/lib/python3.7/site-packages/krypy/utils.py\u001b[0m in \u001b[0;36marnoldi\u001b[0;34m(*args, **kwargs)\u001b[0m\n\u001b[1;32m   1035\u001b[0m     \u001b[0m_arnoldi\u001b[0m \u001b[0;34m=\u001b[0m \u001b[0mArnoldi\u001b[0m\u001b[0;34m(\u001b[0m\u001b[0;34m*\u001b[0m\u001b[0margs\u001b[0m\u001b[0;34m,\u001b[0m \u001b[0;34m**\u001b[0m\u001b[0mkwargs\u001b[0m\u001b[0;34m)\u001b[0m\u001b[0;34m\u001b[0m\u001b[0m\n\u001b[1;32m   1036\u001b[0m     \u001b[0;32mwhile\u001b[0m \u001b[0m_arnoldi\u001b[0m\u001b[0;34m.\u001b[0m\u001b[0miter\u001b[0m \u001b[0;34m<\u001b[0m \u001b[0m_arnoldi\u001b[0m\u001b[0;34m.\u001b[0m\u001b[0mmaxiter\u001b[0m \u001b[0;32mand\u001b[0m \u001b[0;32mnot\u001b[0m \u001b[0m_arnoldi\u001b[0m\u001b[0;34m.\u001b[0m\u001b[0minvariant\u001b[0m\u001b[0;34m:\u001b[0m\u001b[0;34m\u001b[0m\u001b[0m\n\u001b[0;32m-> 1037\u001b[0;31m         \u001b[0m_arnoldi\u001b[0m\u001b[0;34m.\u001b[0m\u001b[0madvance\u001b[0m\u001b[0;34m(\u001b[0m\u001b[0;34m)\u001b[0m\u001b[0;34m\u001b[0m\u001b[0m\n\u001b[0m\u001b[1;32m   1038\u001b[0m     \u001b[0;32mreturn\u001b[0m \u001b[0m_arnoldi\u001b[0m\u001b[0;34m.\u001b[0m\u001b[0mget\u001b[0m\u001b[0;34m(\u001b[0m\u001b[0;34m)\u001b[0m\u001b[0;34m\u001b[0m\u001b[0m\n\u001b[1;32m   1039\u001b[0m \u001b[0;34m\u001b[0m\u001b[0m\n",
      "\u001b[0;32m~/.conda/envs/opencl/lib/python3.7/site-packages/krypy/utils.py\u001b[0m in \u001b[0;36madvance\u001b[0;34m(self)\u001b[0m\n\u001b[1;32m    986\u001b[0m                         \u001b[0mAv\u001b[0m \u001b[0;34m-=\u001b[0m \u001b[0malpha\u001b[0m \u001b[0;34m*\u001b[0m \u001b[0mself\u001b[0m\u001b[0;34m.\u001b[0m\u001b[0mP\u001b[0m\u001b[0;34m[\u001b[0m\u001b[0;34m:\u001b[0m\u001b[0;34m,\u001b[0m \u001b[0;34m[\u001b[0m\u001b[0mj\u001b[0m\u001b[0;34m]\u001b[0m\u001b[0;34m]\u001b[0m\u001b[0;34m\u001b[0m\u001b[0m\n\u001b[1;32m    987\u001b[0m                     \u001b[0;32melse\u001b[0m\u001b[0;34m:\u001b[0m\u001b[0;34m\u001b[0m\u001b[0m\n\u001b[0;32m--> 988\u001b[0;31m                         \u001b[0mAv\u001b[0m \u001b[0;34m-=\u001b[0m \u001b[0malpha\u001b[0m \u001b[0;34m*\u001b[0m \u001b[0mself\u001b[0m\u001b[0;34m.\u001b[0m\u001b[0mV\u001b[0m\u001b[0;34m[\u001b[0m\u001b[0;34m:\u001b[0m\u001b[0;34m,\u001b[0m \u001b[0;34m[\u001b[0m\u001b[0mj\u001b[0m\u001b[0;34m]\u001b[0m\u001b[0;34m]\u001b[0m\u001b[0;34m\u001b[0m\u001b[0m\n\u001b[0m\u001b[1;32m    989\u001b[0m             \u001b[0;32mif\u001b[0m \u001b[0mself\u001b[0m\u001b[0;34m.\u001b[0m\u001b[0mM\u001b[0m \u001b[0;32mis\u001b[0m \u001b[0;32mnot\u001b[0m \u001b[0;32mNone\u001b[0m\u001b[0;34m:\u001b[0m\u001b[0;34m\u001b[0m\u001b[0m\n\u001b[1;32m    990\u001b[0m                 \u001b[0mMAv\u001b[0m \u001b[0;34m=\u001b[0m \u001b[0mself\u001b[0m\u001b[0;34m.\u001b[0m\u001b[0mM\u001b[0m \u001b[0;34m*\u001b[0m \u001b[0mAv\u001b[0m\u001b[0;34m\u001b[0m\u001b[0m\n",
      "\u001b[0;31mKeyboardInterrupt\u001b[0m: "
     ]
    }
   ],
   "source": [
    "num_ = 20\n",
    "\n",
    "for dim in [40, 50, 60, 70, 80, 90, 100, 110, 120, 130, 140]:\n",
    "\n",
    "    result_1 = []\n",
    "    for index_ in range(num_):\n",
    "        x = np.ones(combined.shape[0]) /  np.linalg.norm(np.ones(combined.shape[0]))\n",
    "\n",
    "        rho_ = (x.T @ mat @ x)/(x.T @ mat2 @ x)\n",
    "\n",
    "        for k in range(index_, index_ + 100):\n",
    "            V_m, H_m = krypy.utils.arnoldi((mat - rho_*mat2), x.reshape(combined.shape[0],1), maxiter = dim, ortho ='dmgs')\n",
    "            A_m = V_m.T @ (mat - rho_*mat2) @ V_m\n",
    "            B_m = V_m.T @ mat2 @ V_m\n",
    "            evalue, evect = scipy.linalg.eigh(A_m, B_m, eigvals_only=False)\n",
    "            mu_ = evalue[index_]\n",
    "            v_index = list(evalue).index(evalue[index_])\n",
    "            v_ = evect[:,v_index]\n",
    "            rho_ += mu_\n",
    "            x = V_m @ v_\n",
    "        result_1.append(rho_)\n",
    "        \n",
    "    result_2 = []\n",
    "    for index_ in range(1, num_+1):\n",
    "        x = np.ones(combined.shape[0]) / np.linalg.norm(np.ones(combined.shape[0]))\n",
    "\n",
    "        rho_ = (x.T @ mat @ x)/(x.T @ mat2 @ x)\n",
    "\n",
    "        for k in range(index_, index_ + 100):\n",
    "            V_m, H_m = krypy.utils.arnoldi((mat - rho_*mat2), x.reshape(combined.shape[0],1), maxiter = dim, ortho ='dmgs')\n",
    "            A_m = V_m.T @ (mat - rho_*mat2) @ V_m\n",
    "            B_m = V_m.T @ mat2 @ V_m\n",
    "            evalue, evect = scipy.linalg.eigh(A_m, B_m, eigvals_only=False)\n",
    "            mu_ = evalue[-index_]\n",
    "            v_index = list(evalue).index(evalue[-index_])\n",
    "            v_ = evect[:,v_index]\n",
    "            rho_ += mu_\n",
    "            x = V_m @ v_\n",
    "        result_2.append(rho_)\n",
    "    result_ = result_1 + result_2 \n",
    "\n",
    "    logdet_approx = 0\n",
    "    for i in range(len(result_)):\n",
    "        logdet_approx += np.log(result_[i])\n",
    "\n",
    "    err = (logdet_approx - logdet)/logdet\n",
    "    print(abs(err))"
   ]
  },
  {
   "cell_type": "code",
   "execution_count": null,
   "metadata": {},
   "outputs": [],
   "source": [
    "num = 10 , iter 100\n",
    "\n",
    "dim = 20, 30, 40, 50, 60\n",
    "0.19081291128986588\n",
    "0.01623125650614094\n",
    "0.09505357664952965\n",
    "0.0016222857498242053\n",
    "0.0016222857498242053\n",
    "0.0016222857498242053\n",
    "0.0016222857498242053\n",
    "0.0016222857498242053\n",
    "0.0016222857498242053\n",
    "0.0016222857498242053\n",
    "\n",
    "\n",
    "num = 20, iter 100\n",
    "dim = 40, 50, 60, 70, 80, 90\n",
    "0.10273501482074346\n",
    "0.0009450269451528963\n",
    "0.0006634119831790749\n",
    "0.0010702480094957661\n",
    "6.85688490013715e-05\n",
    "6.856884900326512e-05\n",
    "\n",
    "num = 30, iter 100\n"
   ]
  },
  {
   "cell_type": "code",
   "execution_count": 5,
   "metadata": {},
   "outputs": [
    {
     "name": "stdout",
     "output_type": "stream",
     "text": [
      "0.0005262051370207971\n",
      "0.0005262824963129617\n",
      "0.0005263459515821441\n",
      "0.0005263923436674296\n",
      "0.00012740549841018712\n",
      "0.00010455820298848019\n",
      "0.00010723962818614586\n",
      "0.00010208085614115473\n",
      "9.646568353209955e-05\n",
      "9.662561782460324e-05\n",
      "0.0001005727359308061\n",
      "8.586517819441133e-05\n",
      "8.696922524399758e-05\n"
     ]
    }
   ],
   "source": [
    "for num in range(38, 50+1):\n",
    "    result_1 = []\n",
    "    for index_ in range(num):\n",
    "        x = np.ones(combined.shape[0]) / np.linalg.norm(np.ones(combined.shape[0]))\n",
    "\n",
    "        rho_ = (x.T @ mat @ x)/(x.T @ mat2 @ x)\n",
    "\n",
    "        for k in range(100):\n",
    "            V_m, H_m = krypy.utils.arnoldi((mat - rho_*mat2), x.reshape(combined.shape[0],1), maxiter = 100, ortho ='dmgs')\n",
    "            A_m = V_m.T @ (mat - rho_*mat2) @ V_m\n",
    "            B_m = V_m.T @ mat2 @ V_m\n",
    "            evalue, evect = scipy.linalg.eigh(A_m, B_m, eigvals_only=False)\n",
    "            mu_ = evalue[index_]\n",
    "            v_index = list(evalue).index(evalue[index_])\n",
    "            v_ = evect[:,v_index]\n",
    "            rho_ += mu_\n",
    "            x = V_m @ v_\n",
    "        result_1.append(rho_)\n",
    "\n",
    "    result_2 = []\n",
    "    for index_ in range(1, num+1):\n",
    "        x = np.ones(combined.shape[0]) / np.linalg.norm(np.ones(combined.shape[0]))\n",
    "\n",
    "        rho_ = (x.T @ mat @ x)/(x.T @ mat2 @ x)\n",
    "\n",
    "        for k in range(100):\n",
    "            V_m, H_m = krypy.utils.arnoldi((mat - rho_*mat2), x.reshape(combined.shape[0],1), maxiter = 100, ortho ='dmgs')\n",
    "            A_m = V_m.T @ (mat - rho_*mat2) @ V_m\n",
    "            B_m = V_m.T @ mat2 @ V_m\n",
    "            evalue, evect = scipy.linalg.eigh(A_m, B_m, eigvals_only=False)\n",
    "            mu_ = evalue[-index_]\n",
    "            v_index = list(evalue).index(evalue[-index_])\n",
    "            v_ = evect[:,v_index]\n",
    "            rho_ += mu_\n",
    "            x = V_m @ v_\n",
    "        result_2.append(rho_)\n",
    "\n",
    "    result_ = result_1 + result_2 \n",
    "\n",
    "    logdet_approx = 0\n",
    "    for i in range(len(result_)):\n",
    "        logdet_approx += np.log(result_[i])\n",
    "    err = (logdet_approx - logdet)/logdet\n",
    "    print(abs(err))"
   ]
  },
  {
   "cell_type": "code",
   "execution_count": 5,
   "metadata": {},
   "outputs": [],
   "source": [
    "num = 40\n",
    "result_1_80 = []\n",
    "for index_ in range(num):\n",
    "    x = np.ones(combined.shape[0]) / np.linalg.norm(np.ones(combined.shape[0]))\n",
    "\n",
    "    rho_ = (x.T @ mat @ x)/(x.T @ mat2 @ x)\n",
    "\n",
    "    for k in range(100):\n",
    "        V_m, H_m = krypy.utils.arnoldi((mat - rho_*mat2), x.reshape(combined.shape[0],1), maxiter = 80, ortho ='dmgs')\n",
    "        A_m = V_m.T @ (mat - rho_*mat2) @ V_m\n",
    "        B_m = V_m.T @ mat2 @ V_m\n",
    "        evalue, evect = scipy.linalg.eigh(A_m, B_m, eigvals_only=False)\n",
    "        mu_ = evalue[index_]\n",
    "        v_index = list(evalue).index(evalue[index_])\n",
    "        v_ = evect[:,v_index]\n",
    "        rho_ += mu_\n",
    "        x = V_m @ v_\n",
    "    result_1_80.append(rho_)\n",
    "\n",
    "result_2_80 = []\n",
    "for index_ in range(1, num+1):\n",
    "    x = np.ones(combined.shape[0]) / np.linalg.norm(np.ones(combined.shape[0]))\n",
    "\n",
    "    rho_ = (x.T @ mat @ x)/(x.T @ mat2 @ x)\n",
    "\n",
    "    for k in range(100):\n",
    "        V_m, H_m = krypy.utils.arnoldi((mat - rho_*mat2), x.reshape(combined.shape[0],1), maxiter = 80, ortho ='dmgs')\n",
    "        A_m = V_m.T @ (mat - rho_*mat2) @ V_m\n",
    "        B_m = V_m.T @ mat2 @ V_m\n",
    "        evalue, evect = scipy.linalg.eigh(A_m, B_m, eigvals_only=False)\n",
    "        mu_ = evalue[-index_]\n",
    "        v_index = list(evalue).index(evalue[-index_])\n",
    "        v_ = evect[:,v_index]\n",
    "        rho_ += mu_\n",
    "        x = V_m @ v_\n",
    "    result_2_80.append(rho_)"
   ]
  },
  {
   "cell_type": "code",
   "execution_count": 6,
   "metadata": {},
   "outputs": [],
   "source": [
    "result_80 = result_1_80 + result_2_80"
   ]
  },
  {
   "cell_type": "code",
   "execution_count": 7,
   "metadata": {},
   "outputs": [
    {
     "name": "stdout",
     "output_type": "stream",
     "text": [
      "[0.7021660931758322, 0.9043124458898857, 0.9043860910573961, 0.9421934664049058, 0.9737525286945633, 0.9737893966140317, 0.97909310969107, 0.979103936899847, 0.9875697482945321, 0.9932273305554089, 0.99323467571907, 0.9939224875522542, 0.9939376035481411, 0.9953101015920114, 0.9953150180428074, 0.9972053230845198, 0.9982935273482993, 0.9982974316592778, 0.9983927751699329, 0.9983944529521848, 0.9985888466845899, 0.998590873616076, 0.998939138105022, 0.9989452777604301, 0.999359801260965, 0.9995765993209056, 0.9995936483023001, 0.9996209016513438, 0.999651922980221, 0.9996700468032702, 0.9998119091894148, 0.9997680457143734, 0.9997718373709988, 0.9999519513058359, 0.9998490875085742, 0.9998937046775819, 0.999904511065067, 0.9999298341762752, 0.9999551146834625, 0.9999806554178965, 1.2978339068241678, 1.0956875541101143, 1.095613908942604, 1.0578065335950941, 1.0262474713054368, 1.0262106033859684, 1.02090689030893, 1.020896063100153, 1.0124302517054677, 1.006772669444591, 1.00676532428093, 1.0060775124477457, 1.006062396451859, 1.0046898984079886, 1.0046849819571926, 1.00279467691548, 1.0017064726517007, 1.0017025683407221, 1.0016072248300671, 1.0016055470478153, 1.0014111533154102, 1.0014037324083476, 1.001060861894978, 1.0010547222395698, 1.000640198739035, 1.0004234006790944, 1.000407408300299, 1.0003790983486562, 1.0003723935579203, 1.0003299532082965, 1.0003158018199994, 1.000085984069143, 1.0002281629774232, 1.0000412722748082, 1.000150912491425, 1.000103225045705, 1.0000873153391734, 1.0000702945374462, 1.0000448907629247, 1.0000204242111086]\n"
     ]
    }
   ],
   "source": [
    "print(result_80)"
   ]
  },
  {
   "cell_type": "code",
   "execution_count": 8,
   "metadata": {},
   "outputs": [],
   "source": [
    "err_eigens_80 = []\n",
    "for i in range(40):\n",
    "    err_eigens_80.append(abs(sorted(evals)[i] - result_1_80[i])/sorted(evals)[i])\n",
    "for j in range(40):\n",
    "    err_eigens_80.append(abs((sorted(evals)[-40:])[j] - sorted(result_2_80)[j])/(sorted(evals)[-40:])[j])"
   ]
  },
  {
   "cell_type": "code",
   "execution_count": 10,
   "metadata": {},
   "outputs": [
    {
     "name": "stdout",
     "output_type": "stream",
     "text": [
      "[(1.8973682188561144e-15+0j), (4.910793961406313e-16+0j), (1.7186379244929954e-15+0j), (2.3566774005797236e-16+0j), 0j, (6.84063532722077e-16+0j), (1.1339299742140566e-15+0j), (1.1339174348950877e-16+0j), (1.5738759081669081e-15+0j), (1.4531315113989296e-15+0j), (2.1237918876127103e-15+0j), (2.010621018593487e-15+0j), (4.467978757064436e-16+0j), (4.461817569617111e-16+0j), (1.561628435519469e-15+0j), (1.22466787813583e-15+0j), (1.6681812426063197e-15+0j), (2.113021309973425e-15+0j), (1.5568143852109335e-15+0j), (1.5568117690149628e-15+0j), (1.0006127401483417e-15+0j), (1.22296864447131e-15+0j), (1.0002618618568857e-15+0j), (1.3336742854794273e-15+0j), (1.9996816379883975e-15+0j), (1.7771092686714276e-15+0j), (1.655569073101027e-05+0j), (2.8321490056169695e-05+0j), (5.8282173541936296e-05+0j), (4.9163789840206744e-05+0j), (0.0001904487014958443+0j), (9.803126839878525e-05+0j), (9.563276331343738e-05+0j), (0.00018328443876631362+0j), (7.726776719165754e-05+0j), (4.462390331081473e-05+0j), (8.325012817353852e-06+0j), (3.305474537787101e-05+0j), (5.548651458321145e-05+0j), (8.004250038827086e-05+0j), (7.894707113788314e-05+0j), (5.9088056887427976e-05+0j), (5.832037469814163e-05+0j), (3.351506675584054e-05+0j), (6.491862525075235e-05+0j), (0.00014081516107141817+0j), (0.0001280360816729624+0j), (0.00017279599320744449+0j), (0.00010175665593777472+0j), (6.264190552626604e-05+0j), (4.912651657860838e-05+0j), (3.392816706221719e-05+0j), (2.8298422628450674e-05+0j), (1.5485537883725344e-05+0j), (1.331703785263153e-15+0j), (1.1095127159834418e-15+0j), (1.9962959066357947e-15+0j), (2.2180929589506431e-16+0j), (5.386385480077972e-06+0j), (4.434634149817478e-16+0j), (2.660264079960379e-15+0j), 0j, (2.4383392150238976e-15+0j), (1.994997036442365e-15+0j), (1.5499805396416417e-15+0j), (1.989082628101266e-15+0j), (4.4201619878308485e-16+0j), (2.4277725345758058e-15+0j), 0j, (5.293259898484291e-15+0j), (3.087712413434297e-15+0j), (1.535228952174175e-15+0j), (6.524991513359815e-16+0j), (4.3499482084568893e-16+0j), (1.5146133058329243e-15+0j), (1.0818277809862955e-15+0j), (4.198208233227366e-16+0j), (2.2293352012413106e-15+0j), (1.0132660724861901e-15+0j), (2.2241519880528737e-15+0j)]\n"
     ]
    }
   ],
   "source": [
    "print(err_eigens_80)"
   ]
  },
  {
   "cell_type": "code",
   "execution_count": null,
   "metadata": {},
   "outputs": [],
   "source": []
  }
 ],
 "metadata": {
  "kernelspec": {
   "display_name": "Python 3",
   "language": "python",
   "name": "python3"
  },
  "language_info": {
   "codemirror_mode": {
    "name": "ipython",
    "version": 3
   },
   "file_extension": ".py",
   "mimetype": "text/x-python",
   "name": "python",
   "nbconvert_exporter": "python",
   "pygments_lexer": "ipython3",
   "version": "3.7.0"
  }
 },
 "nbformat": 4,
 "nbformat_minor": 2
}
