{
 "cells": [
  {
   "cell_type": "code",
   "execution_count": 2,
   "metadata": {},
   "outputs": [],
   "source": [
    "import bempp.api\n",
    "from bempp.api.assembly.blocked_operator import BlockedOperator\n",
    "import math\n",
    "import numpy as np\n",
    "import scipy \n",
    "import cmath\n",
    "from numba import objmode\n",
    "from numpy.linalg import slogdet\n",
    "from bempp.api.operators.far_field import helmholtz as helmholtz_farfield\n",
    "import matplotlib.pyplot as plt\n",
    "bempp.core.opencl_kernels.set_default_device(0,0)"
   ]
  },
  {
   "cell_type": "code",
   "execution_count": 5,
   "metadata": {},
   "outputs": [],
   "source": [
    "h=0.1\n",
    "sphere1 = bempp.api.shapes.sphere(r = 0.4, h=h, origin=((0.5/2) + 1, 0, 0))\n",
    "sphere2 = bempp.api.shapes.sphere(r = 0.4, h=h, origin=(-((0.5/2) + 1), 0, 0))\n",
    "\n",
    "space_sphere1 = bempp.api.function_space(sphere1, \"P\", 1)\n",
    "space_sphere2 = bempp.api.function_space(sphere2, \"P\", 1)"
   ]
  },
  {
   "cell_type": "code",
   "execution_count": 6,
   "metadata": {},
   "outputs": [],
   "source": [
    "N_wn = 10\n",
    "lbound_wn = 0   \n",
    "ubound_wn = 10      \n",
    "quad_points = np.linspace(np.exp(-ubound_wn), np.exp(-lbound_wn), N_wn)"
   ]
  },
  {
   "cell_type": "code",
   "execution_count": 8,
   "metadata": {},
   "outputs": [
    {
     "name": "stdout",
     "output_type": "stream",
     "text": [
      "0j\n",
      "(-8.543932381144259e-06+0j)\n",
      "(-9.983519521483686e-05+0j)\n",
      "(-0.00042984534593415447+0j)\n",
      "(-0.0012295736496525933+0j)\n",
      "(-0.002812439008266665+0j)\n",
      "(-0.0055879731798995635+0j)\n",
      "(-0.010081682189593266+0j)\n",
      "(-0.016962924360086618+0j)\n",
      "(-0.02708430947677698+0j)\n"
     ]
    }
   ],
   "source": [
    "result_normal = []\n",
    "for index2, point2 in enumerate(quad_points):\n",
    "\n",
    "    wavenumber = -1j * np.log(point2)\n",
    "\n",
    "    slp11 = bempp.api.operators.boundary.helmholtz.single_layer(space_sphere1, space_sphere1, space_sphere1, wavenumber)\n",
    "    slp12 = bempp.api.operators.boundary.helmholtz.single_layer(space_sphere2 , space_sphere1, space_sphere1, wavenumber)\n",
    "    slp21 = bempp.api.operators.boundary.helmholtz.single_layer(space_sphere1, space_sphere2 , space_sphere2 , wavenumber)\n",
    "    slp22 = bempp.api.operators.boundary.helmholtz.single_layer(space_sphere2 , space_sphere2 , space_sphere2 , wavenumber)\n",
    "\n",
    "    mat11 = slp11.weak_form().A\n",
    "    mat12 = slp12.weak_form().A\n",
    "    mat21 = slp21.weak_form().A\n",
    "    mat22 = slp22.weak_form().A\n",
    "    mat12_zero = np.zeros((mat11.shape[0],mat12.shape[1]))\n",
    "    mat21_zero = np.zeros((mat22.shape[0],mat11.shape[1]))\n",
    "\n",
    "    mat = np.block([[mat11,mat12],[mat21,mat22]])  \n",
    "    mat2 = np.block([[mat11,mat12_zero],[mat21_zero,mat22]])\n",
    "\n",
    "    p,l,u = scipy.linalg.lu(mat)\n",
    "    logdet_mat = 0\n",
    "    for i in range(u.shape[0]):\n",
    "        logdet_mat += cmath.log(u[i,i])\n",
    "\n",
    "    p2,l2,u2 = scipy.linalg.lu(mat2)\n",
    "    logdet_mat2 = 0\n",
    "    for i in range(u2.shape[0]):\n",
    "        logdet_mat2 += cmath.log(u2[i,i])\n",
    "\n",
    "    logdet = logdet_mat - logdet_mat2\n",
    "    result_normal.append(logdet)\n",
    "    print (logdet)"
   ]
  },
  {
   "cell_type": "code",
   "execution_count": 11,
   "metadata": {},
   "outputs": [
    {
     "name": "stdout",
     "output_type": "stream",
     "text": [
      "(0.001124876650892324+0j)\n"
     ]
    }
   ],
   "source": [
    "casimir_energy = np.trapz(-np.array(result_normal) / quad_points, quad_points) / (2 * np.pi)\n",
    "print(casimir_energy)"
   ]
  },
  {
   "cell_type": "code",
   "execution_count": 12,
   "metadata": {},
   "outputs": [
    {
     "name": "stdout",
     "output_type": "stream",
     "text": [
      "(-0.02708430947677698+0j)\n",
      "(0.015922657358714787+0.013588268535108528j)\n",
      "(-0.007618983283464331-0.012763515663970715j)\n",
      "(0.004541810591035755+0.012070076757241921j)\n",
      "(-0.0012982813923372305-0.011805638151917819j)\n",
      "(-0.0011062915737056755+0.011039307342297633j)\n",
      "(0.0035845182292177924-0.010086123938489067j)\n",
      "(-0.005657187441101996+0.00873873251259738j)\n",
      "(0.0073981009036288015-0.006891155203387456j)\n",
      "(-0.00876786442950106+0.004886613986961663j)\n"
     ]
    }
   ],
   "source": [
    "results = []\n",
    "\n",
    "for wavenumber in range(10):\n",
    "\n",
    "    slp11 = bempp.api.operators.boundary.helmholtz.single_layer(space_sphere1, space_sphere1, space_sphere1, wavenumber)\n",
    "    slp12 = bempp.api.operators.boundary.helmholtz.single_layer(space_sphere2 , space_sphere1, space_sphere1, wavenumber)\n",
    "    slp21 = bempp.api.operators.boundary.helmholtz.single_layer(space_sphere1, space_sphere2 , space_sphere2 , wavenumber)\n",
    "    slp22 = bempp.api.operators.boundary.helmholtz.single_layer(space_sphere2 , space_sphere2 , space_sphere2 , wavenumber)\n",
    "\n",
    "    mat11 = slp11.weak_form().A\n",
    "    mat12 = slp12.weak_form().A\n",
    "    mat21 = slp21.weak_form().A\n",
    "    mat22 = slp22.weak_form().A\n",
    "    mat12_zero = np.zeros((mat11.shape[0],mat12.shape[1]))\n",
    "    mat21_zero = np.zeros((mat22.shape[0],mat11.shape[1]))\n",
    "\n",
    "    mat = np.block([[mat11,mat12],[mat21,mat22]])  \n",
    "    mat2 = np.block([[mat11,mat12_zero],[mat21_zero,mat22]])\n",
    "\n",
    "    p,l,u = scipy.linalg.lu(mat)\n",
    "    logdet_mat = 0\n",
    "    for i in range(u.shape[0]):\n",
    "        logdet_mat += cmath.log(u[i,i])\n",
    "\n",
    "    p2,l2,u2 = scipy.linalg.lu(mat2)\n",
    "    logdet_mat2 = 0\n",
    "    for i in range(u2.shape[0]):\n",
    "        logdet_mat2 += cmath.log(u2[i,i])\n",
    "\n",
    "    logdet = logdet_mat - logdet_mat2\n",
    "    results.append(logdet)\n",
    "    print (logdet)"
   ]
  },
  {
   "cell_type": "code",
   "execution_count": 13,
   "metadata": {},
   "outputs": [
    {
     "data": {
      "text/plain": [
       "0.0010079695048504193"
      ]
     },
     "execution_count": 13,
     "metadata": {},
     "output_type": "execute_result"
    }
   ],
   "source": [
    "np.trapz(np.imag(results), range(10))/(2*np.pi)"
   ]
  },
  {
   "cell_type": "code",
   "execution_count": 14,
   "metadata": {},
   "outputs": [],
   "source": [
    "def normalized_spherical_harmonics(p, q, x):\n",
    "    \"\"\"Spherical Harmonic function of degree q\"\"\"\n",
    "    azimuth = np.arctan2(x[1],x[0])\n",
    "    polar = np.arccos(x[2]/np.linalg.norm(x))\n",
    "    if p >= 0:\n",
    "        return ((-1)**p) * scipy.special.sph_harm(p,q,azimuth,polar)\n",
    "    else:\n",
    "        return scipy.special.sph_harm(-p,q,azimuth,polar)*np.exp(1j*2*p*azimuth)\n",
    "\n",
    "def spherical_bessel_function(q,x):\n",
    "    \"\"\"Spherical Bessel function of degree q\"\"\"\n",
    "    r = np.linalg.norm(x)\n",
    "    return np.sqrt(np.pi/(2*wavenumber*r))*scipy.special.jv(q+0.5, wavenumber*r)\n",
    "\n",
    "def regular_spherical_wavefunctions(p,q,x):\n",
    "    \"\"\"Regular Spherical Wavefunction\"\"\"\n",
    "    return spherical_bessel_function(q,x)*normalized_spherical_harmonics(p,q,x)"
   ]
  },
  {
   "cell_type": "code",
   "execution_count": 16,
   "metadata": {},
   "outputs": [],
   "source": [
    "combined_scatters = bempp.api.grid.grid.union([sphere1,sphere2])\n",
    "space_combined = bempp.api.function_space(combined_scatters,'P',1)\n",
    "\n",
    "unit_sphere = bempp.api.shapes.sphere(r = 1, origin=(0,0,0), h = h)\n",
    "vert_unit_sphere = unit_sphere.vertices\n",
    "space_unit_sphere = bempp.api.function_space(unit_sphere, 'P', 1)"
   ]
  },
  {
   "cell_type": "code",
   "execution_count": 17,
   "metadata": {},
   "outputs": [],
   "source": [
    "mass_mat = bempp.api.operators.boundary.sparse.identity(space_unit_sphere, space_unit_sphere, space_unit_sphere).weak_form().A"
   ]
  },
  {
   "cell_type": "code",
   "execution_count": 19,
   "metadata": {},
   "outputs": [],
   "source": [
    "sph_harm_coeff = []\n",
    "\n",
    "deg = 5\n",
    "\n",
    "for q in range(deg+1):\n",
    "    for p in range(-q,q+1):\n",
    "        @bempp.api.complex_callable\n",
    "        def sph_harm(x,n,domain_index,result):\n",
    "            with objmode():\n",
    "                result[0] = normalized_spherical_harmonics(p,q,x)\n",
    "        sph_harm_grid = bempp.api.GridFunction(space_unit_sphere, fun = sph_harm)\n",
    "        sph_harm_coeff.append(np.conj(sph_harm_grid.coefficients)/((-1j)**(q+1)))"
   ]
  },
  {
   "cell_type": "code",
   "execution_count": 20,
   "metadata": {},
   "outputs": [
    {
     "name": "stdout",
     "output_type": "stream",
     "text": [
      "0.05 (0.001713848791710081-7.785147737242081e-08j)\n",
      "1 (-0.004343193124303476+2.02509192185574e-05j)\n",
      "2 (1.0040364535561148-2.350658320484085e-05j)\n",
      "3 (-1.0038388203634176-4.204779615932351e-05j)\n",
      "4 (0.0072416515615332895-0.003182977000323236j)\n",
      "5 (-0.9650317318724645+0.0014203639380352855j)\n",
      "6 (-0.004405598182765841-0.08892845646285269j)\n",
      "7 (-0.028600472176576082-0.06634594929133053j)\n",
      "8 (-0.5209906096080763-0.7403720447590881j)\n",
      "9 (-1.1132139277798332-0.03997891457798152j)\n"
     ]
    }
   ],
   "source": [
    "for index, point in enumerate([0.05, 1, 2, 3, 4, 5, 6, 7, 8, 9]):\n",
    "    wavenumber = point\n",
    "    eta = wavenumber\n",
    "\n",
    "    identity1 = bempp.api.operators.boundary.sparse.identity(space_sphere1, space_sphere1, space_sphere1)\n",
    "    slp1 = bempp.api.operators.boundary.helmholtz.single_layer(space_sphere1, space_sphere1, space_sphere1, wavenumber)\n",
    "    dlp1 = bempp.api.operators.boundary.helmholtz.double_layer(space_sphere1, space_sphere1, space_sphere1, wavenumber)\n",
    "    slp_far1 = helmholtz_farfield.single_layer(space_sphere1, vert_unit_sphere, wavenumber)\n",
    "    dlp_far1 = helmholtz_farfield.double_layer(space_sphere1, vert_unit_sphere, wavenumber)\n",
    "\n",
    "    lhs1 = 0.5 * identity1 + dlp1 - 1j* eta *slp1\n",
    "\n",
    "    identity2 = bempp.api.operators.boundary.sparse.identity(space_sphere2, space_sphere2, space_sphere2)\n",
    "    slp2 = bempp.api.operators.boundary.helmholtz.single_layer(space_sphere2, space_sphere2, space_sphere2, wavenumber)\n",
    "    dlp2 = bempp.api.operators.boundary.helmholtz.double_layer(space_sphere2, space_sphere2, space_sphere2, wavenumber)\n",
    "    slp_far2 = helmholtz_farfield.single_layer(space_sphere2, vert_unit_sphere, wavenumber)\n",
    "    dlp_far2 = helmholtz_farfield.double_layer(space_sphere2, vert_unit_sphere, wavenumber)\n",
    "\n",
    "    lhs2 = 0.5 * identity2 + dlp2 - 1j* eta *slp2\n",
    "\n",
    "    identity = bempp.api.operators.boundary.sparse.identity(space_combined, space_combined, space_combined)\n",
    "    slp = bempp.api.operators.boundary.helmholtz.single_layer(space_combined, space_combined, space_combined, wavenumber)\n",
    "    dlp = bempp.api.operators.boundary.helmholtz.double_layer(space_combined, space_combined, space_combined, wavenumber)\n",
    "    slp_far = helmholtz_farfield.single_layer(space_combined, vert_unit_sphere, wavenumber)\n",
    "    dlp_far = helmholtz_farfield.double_layer(space_combined, vert_unit_sphere, wavenumber)\n",
    "\n",
    "    lhs = 0.5 * identity + dlp - 1j* eta *slp\n",
    "    \n",
    "    #===================================================================================================================\n",
    "    slp_far_field_coeff1 = []\n",
    "    slp_far_field_coeff2 = []\n",
    "    slp_far_field_coeff = []\n",
    "\n",
    "    for q in range(deg+1):\n",
    "        for p in range(-q,q+1):\n",
    "            @bempp.api.complex_callable\n",
    "            def dirichlet_fun(x,n,domain_index,result):\n",
    "                    with objmode():\n",
    "                        result[0] = - regular_spherical_wavefunctions(p,q,x)\n",
    "\n",
    "            rhs_fun1 = bempp.api.GridFunction(space_sphere1, fun = dirichlet_fun)\n",
    "            field1, info1 = bempp.api.linalg.gmres(lhs1, rhs_fun1, tol=1E-8)\n",
    "            slp_far_field_coeff1.append(dlp_far1.evaluate(field1) - 1j * eta * slp_far1.evaluate(field1))\n",
    "\n",
    "            rhs_fun2 = bempp.api.GridFunction(space_sphere2, fun = dirichlet_fun)\n",
    "            field2, info2 = bempp.api.linalg.gmres(lhs2, rhs_fun2, tol=1E-8)\n",
    "            slp_far_field_coeff2.append(dlp_far2.evaluate(field2) - 1j * eta * slp_far2.evaluate(field2))\n",
    "\n",
    "            rhs_fun = bempp.api.GridFunction(space_combined, fun = dirichlet_fun)\n",
    "            field, info = bempp.api.linalg.gmres(lhs, rhs_fun, tol=1E-8)\n",
    "            slp_far_field_coeff.append(dlp_far.evaluate(field) - 1j * eta * slp_far.evaluate(field))\n",
    "            \n",
    "    #====================================================================================================\n",
    "    T_matrix1 = np.zeros(((deg+1)**2,(deg+1)**2),dtype = complex)\n",
    "    for i in range((deg+1)**2):\n",
    "        for j in range((deg+1)**2):\n",
    "            T_matrix1[i,j] = (slp_far_field_coeff1[j] @ mass_mat @ sph_harm_coeff[i])*wavenumber\n",
    "\n",
    "    T_matrix2 = np.zeros(((deg+1)**2,(deg+1)**2),dtype = complex)\n",
    "    for i in range((deg+1)**2):\n",
    "        for j in range((deg+1)**2):\n",
    "            T_matrix2[i,j] = (slp_far_field_coeff2[j] @ mass_mat @ sph_harm_coeff[i])*wavenumber\n",
    "\n",
    "    T_matrix = np.zeros(((deg+1)**2,(deg+1)**2),dtype = complex)\n",
    "    for i in range((deg+1)**2):\n",
    "        for j in range((deg+1)**2):\n",
    "            T_matrix[i,j] = (slp_far_field_coeff[j] @ mass_mat @ sph_harm_coeff[i])*wavenumber\n",
    "\n",
    "    S_matrix = np.identity(T_matrix.shape[0]) + 2*T_matrix\n",
    "    S_matrix1 = np.identity(T_matrix1.shape[0]) + 2*T_matrix1\n",
    "    S_matrix2 = np.identity(T_matrix2.shape[0]) + 2*T_matrix2\n",
    "\n",
    "    rhs_value_S =  (np.log(np.linalg.det(S_matrix))-(np.log(np.linalg.det(S_matrix1)) + np.log(np.linalg.det(S_matrix2))))/(2*np.pi*1j)\n",
    "    print(wavenumber, rhs_value_S)"
   ]
  },
  {
   "cell_type": "code",
   "execution_count": 22,
   "metadata": {},
   "outputs": [],
   "source": [
    "result_rhs = [0.001713848791710081, -0.004343193124303476, 1.0040364535561148, -1.0038388203634176, 0.0072416515615332895,\n",
    "              -0.9650317318724645, -0.004405598182765841, -0.028600472176576082, -0.5209906096080763, -1.1132139277798332]"
   ]
  },
  {
   "cell_type": "code",
   "execution_count": 23,
   "metadata": {},
   "outputs": [
    {
     "data": {
      "text/plain": [
       "-1.0358083130478513"
      ]
     },
     "execution_count": 23,
     "metadata": {},
     "output_type": "execute_result"
    }
   ],
   "source": [
    "np.trapz(result_rhs, [0.05, 1, 2, 3, 4, 5, 6, 7, 8, 9])/2"
   ]
  },
  {
   "cell_type": "code",
   "execution_count": null,
   "metadata": {},
   "outputs": [],
   "source": []
  }
 ],
 "metadata": {
  "kernelspec": {
   "display_name": "Python 3",
   "language": "python",
   "name": "python3"
  },
  "language_info": {
   "codemirror_mode": {
    "name": "ipython",
    "version": 3
   },
   "file_extension": ".py",
   "mimetype": "text/x-python",
   "name": "python",
   "nbconvert_exporter": "python",
   "pygments_lexer": "ipython3",
   "version": "3.7.0"
  }
 },
 "nbformat": 4,
 "nbformat_minor": 2
}
