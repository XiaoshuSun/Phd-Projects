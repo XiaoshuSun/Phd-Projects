{
 "cells": [
  {
   "cell_type": "markdown",
   "metadata": {},
   "source": [
    "# T-matrix computation for 3D acoustic scattering "
   ]
  },
  {
   "cell_type": "code",
   "execution_count": 2,
   "metadata": {},
   "outputs": [],
   "source": [
    "import bempp.api\n",
    "import numpy as np\n",
    "import scipy\n",
    "from numba import objmode\n",
    "import numba\n",
    "import math\n",
    "import matplotlib.pyplot as plt"
   ]
  },
  {
   "cell_type": "markdown",
   "metadata": {},
   "source": [
    "Define the wavenumber $k$, the 3D scatterer, unit sphere, the vertices on the grid and function space."
   ]
  },
  {
   "cell_type": "code",
   "execution_count": 3,
   "metadata": {},
   "outputs": [],
   "source": [
    "h = 0.3 # Size of the mesh\n",
    "d = [1,0,0] # wave's travel direction\n",
    "k = 5 # wavenumber\n",
    "\n",
    "unit_sphere = bempp.api.shapes.sphere(r = 1, origin=(0,0,0), h = h)\n",
    "vert_sphere = unit_sphere.vertices\n",
    "space_sphere = bempp.api.function_space(unit_sphere, 'P', 1)\n",
    "\n",
    "dom_cube = bempp.api.shapes.cube(length = 2/1.8, origin=(-1/1.8,-1/1.8,-1/1.8), h = h)\n",
    "vert_cube = dom_cube.vertices\n",
    "space_cube = bempp.api.function_space(dom_cube,'P',1)"
   ]
  },
  {
   "cell_type": "markdown",
   "metadata": {},
   "source": [
    "Here, we define the identity ($Id$), double layer ($K$) and hypersingular boundary operators ($W$) on the boudary of the domain. We can use then to construct the LHS of the Burton-Miller formulation: $\\frac{1}{2}\\text{Id} - \\text{K} + \\frac{i}{k}\\text{W}$"
   ]
  },
  {
   "cell_type": "code",
   "execution_count": 4,
   "metadata": {},
   "outputs": [],
   "source": [
    "identity = bempp.api.operators.boundary.sparse.identity(space_cube, space_cube,space_cube)\n",
    "dlp = bempp.api.operators.boundary.helmholtz.double_layer(space_cube, space_cube,space_cube,k)\n",
    "hyp = bempp.api.operators.boundary.helmholtz.hypersingular(space_cube, space_cube,space_cube,k)\n",
    "\n",
    "burton_miller = .5 * identity - dlp + (1j/k) * hyp"
   ]
  },
  {
   "cell_type": "code",
   "execution_count": 5,
   "metadata": {},
   "outputs": [],
   "source": [
    "def normalized_spherical_harmonics(p, q, x):\n",
    "    azimuth = np.arctan2(x[1],x[0])\n",
    "    polar = np.arccos(x[2]/np.linalg.norm(x))\n",
    "    temp = np.array(scipy.special.lpmn(abs(p),q, np.cos(polar))[0]) \n",
    "    legd_poly = temp[-1,-1]\n",
    "    return np.sqrt(((2*q+1)/(4*np.pi))*(math.factorial(q-abs(p))/math.factorial(q+abs(p))))*legd_poly*np.exp(1j*p*azimuth)\n",
    "# scipy.special.lpmn will return two arrays of size (p+1, q+1) containing P_{q}^{p}(z) and its derivative for all orders from 0..p and degrees from 0..q.\n",
    "# We use 'temp' to store the first row of this outpout and then choose the element in the last row and last column to be value of P_{q}^{p}.\n",
    "\n",
    "def spherical_bessel_function(q,x):\n",
    "    \"\"\"Spherical Bessel function of degree q\"\"\"\n",
    "    r = np.linalg.norm(x)\n",
    "    return np.sqrt(np.pi/(2*k*r))*scipy.special.jv(q+0.5, k*r)\n",
    "\n",
    "def spherical_hankel_function(q,x):\n",
    "    \"\"\"Spherical hankel function of degree q\"\"\"\n",
    "    r = np.linalg.norm(x)\n",
    "    return np.sqrt(np.pi/(2*k*r))*scipy.special.hankel1(q+0.5, k*r)\n",
    "\n",
    "def regular_spherical_wavefunctions(p,q,x):\n",
    "    \"\"\"Regular Spherical Wavefunction\"\"\"\n",
    "    return spherical_bessel_function(q,x)*normalized_spherical_harmonics(p,q,x)\n",
    "\n",
    "def radiating_spherical_wavefunctions(p,q,x):\n",
    "    \"\"\"Radiating Spherical Wavefunction\"\"\"\n",
    "    return spherical_hankel_function(q,x)*normalized_spherical_harmonics(p,q,x)"
   ]
  },
  {
   "cell_type": "code",
   "execution_count": 6,
   "metadata": {},
   "outputs": [],
   "source": [
    "def normalized_spherical_harmonics_dpolar(p, q, x):\n",
    "    polar = np.arccos(x[2]/np.linalg.norm(x))\n",
    "    azimuth = np.arctan2(x[1],x[0])\n",
    "    y1 = normalized_spherical_harmonics(p, q, x)\n",
    "    y2 = normalized_spherical_harmonics(p + 1, q, x)\n",
    "    return (abs(p) / np.tan(polar)) * y1 + np.sqrt((q - abs(p)) * (q + abs(p) + 1)) * np.exp(-1j * azimuth) * y2\n",
    "\n",
    "def normalized_spherical_harmonics_dazimuth(p, q, x):\n",
    "    return 1j * p * normalized_spherical_harmonics(p, q, x)\n",
    "\n",
    "def spherical_bessel_function_dr(q,x):\n",
    "    r = np.linalg.norm(x)\n",
    "    return k*(spherical_bessel_function(q-1,x) - ((q+1)/(k*r))*spherical_bessel_function(q,x))"
   ]
  },
  {
   "cell_type": "code",
   "execution_count": 7,
   "metadata": {},
   "outputs": [],
   "source": [
    "p = 1\n",
    "q = 2"
   ]
  },
  {
   "cell_type": "code",
   "execution_count": 8,
   "metadata": {},
   "outputs": [],
   "source": [
    "@bempp.api.complex_callable\n",
    "def dirichlet_fun(x,n,domain_index,result):\n",
    "        with objmode():\n",
    "            result[0] = regular_spherical_wavefunctions(p,q,x)\n",
    "            \n",
    "@bempp.api.complex_callable\n",
    "def neumann_fun(x, n, domain_index, result):\n",
    "    with objmode():\n",
    "        r = np.linalg.norm(x)\n",
    "        azimuth = np.arctan2(x[1],x[0])\n",
    "        polar = np.arccos(x[2]/r)\n",
    "        r_n = np.linalg.norm(n)\n",
    "        \n",
    "        grad_regular_sph_wf = [spherical_bessel_function_dr(q,x)*normalized_spherical_harmonics(p,q,x),\n",
    "                              (1/r)*normalized_spherical_harmonics_dpolar(p,q,x)*spherical_bessel_function(q,x),\n",
    "                              (1/(r*np.sin(polar)))*normalized_spherical_harmonics_dazimuth(p,q,x)*spherical_bessel_function(q,x)]\n",
    "        normal_in_sph_coord = [r_n, np.arccos(n[2]/r_n), np.arctan2(n[1],n[0])]\n",
    "        \n",
    "        result[0] = np.inner(grad_regular_sph_wf, normal_in_sph_coord)"
   ]
  },
  {
   "cell_type": "code",
   "execution_count": 11,
   "metadata": {},
   "outputs": [],
   "source": [
    "dirichlet_grid_fun = bempp.api.GridFunction(space_cube, fun = dirichlet_fun)\n",
    "neumann_grid_fun = bempp.api.GridFunction(space_cube, fun = neumann_fun)\n",
    "rhs_fun = dirichlet_grid_fun + (1j/k)*neumann_grid_fun\n",
    "total_field, info, it_count = bempp.api.linalg.gmres(burton_miller,rhs_fun,use_strong_form=True, return_iteration_count=True)"
   ]
  },
  {
   "cell_type": "code",
   "execution_count": 12,
   "metadata": {},
   "outputs": [],
   "source": [
    "def far_field(x):\n",
    "    dlp_far_field = bempp.api.operators.far_field.helmholtz.double_layer(space_cube,x,k)\n",
    "    return dlp_far_field*total_field"
   ]
  },
  {
   "cell_type": "code",
   "execution_count": 13,
   "metadata": {},
   "outputs": [
    {
     "data": {
      "text/plain": [
       "array([[-0.06615615-0.00018958j]])"
      ]
     },
     "execution_count": 13,
     "metadata": {},
     "output_type": "execute_result"
    }
   ],
   "source": [
    "far_field(vert_sphere[:,0:1]) # If the point has the shape (3,1), then it will give us the solution"
   ]
  },
  {
   "cell_type": "code",
   "execution_count": 14,
   "metadata": {},
   "outputs": [
    {
     "ename": "IndexError",
     "evalue": "tuple index out of range",
     "output_type": "error",
     "traceback": [
      "\u001b[0;31m---------------------------------------------------------------------------\u001b[0m",
      "\u001b[0;31mIndexError\u001b[0m                                Traceback (most recent call last)",
      "\u001b[0;32m<ipython-input-14-8159052d4206>\u001b[0m in \u001b[0;36m<module>\u001b[0;34m\u001b[0m\n\u001b[0;32m----> 1\u001b[0;31m \u001b[0mfar_field\u001b[0m\u001b[0;34m(\u001b[0m\u001b[0mvert_sphere\u001b[0m\u001b[0;34m[\u001b[0m\u001b[0;34m:\u001b[0m\u001b[0;34m,\u001b[0m\u001b[0;36m0\u001b[0m\u001b[0;34m]\u001b[0m\u001b[0;34m)\u001b[0m \u001b[0;31m# in this case, the point has shape (3,), it will report us an error, /\u001b[0m\u001b[0;34m\u001b[0m\u001b[0m\n\u001b[0m\u001b[1;32m      2\u001b[0m                             \u001b[0;31m# so will do when we contruct the grid function of the far field on the sphere\u001b[0m\u001b[0;34m\u001b[0m\u001b[0;34m\u001b[0m\u001b[0m\n",
      "\u001b[0;32m<ipython-input-12-5d36b613fca2>\u001b[0m in \u001b[0;36mfar_field\u001b[0;34m(x)\u001b[0m\n\u001b[1;32m      1\u001b[0m \u001b[0;32mdef\u001b[0m \u001b[0mfar_field\u001b[0m\u001b[0;34m(\u001b[0m\u001b[0mx\u001b[0m\u001b[0;34m)\u001b[0m\u001b[0;34m:\u001b[0m\u001b[0;34m\u001b[0m\u001b[0m\n\u001b[1;32m      2\u001b[0m     \u001b[0mdlp_far_field\u001b[0m \u001b[0;34m=\u001b[0m \u001b[0mbempp\u001b[0m\u001b[0;34m.\u001b[0m\u001b[0mapi\u001b[0m\u001b[0;34m.\u001b[0m\u001b[0moperators\u001b[0m\u001b[0;34m.\u001b[0m\u001b[0mfar_field\u001b[0m\u001b[0;34m.\u001b[0m\u001b[0mhelmholtz\u001b[0m\u001b[0;34m.\u001b[0m\u001b[0mdouble_layer\u001b[0m\u001b[0;34m(\u001b[0m\u001b[0mspace_cube\u001b[0m\u001b[0;34m,\u001b[0m\u001b[0mx\u001b[0m\u001b[0;34m,\u001b[0m\u001b[0mk\u001b[0m\u001b[0;34m)\u001b[0m\u001b[0;34m\u001b[0m\u001b[0m\n\u001b[0;32m----> 3\u001b[0;31m     \u001b[0;32mreturn\u001b[0m \u001b[0mdlp_far_field\u001b[0m\u001b[0;34m*\u001b[0m\u001b[0mtotal_field\u001b[0m\u001b[0;34m\u001b[0m\u001b[0m\n\u001b[0m",
      "\u001b[0;32m~/development/bempp-cl/bempp/api/assembly/potential_operator.py\u001b[0m in \u001b[0;36m__mul__\u001b[0;34m(self, obj)\u001b[0m\n\u001b[1;32m     50\u001b[0m             \u001b[0;32mreturn\u001b[0m \u001b[0m_ScaledPotentialOperator\u001b[0m\u001b[0;34m(\u001b[0m\u001b[0mself\u001b[0m\u001b[0;34m,\u001b[0m \u001b[0mobj\u001b[0m\u001b[0;34m)\u001b[0m\u001b[0;34m\u001b[0m\u001b[0m\n\u001b[1;32m     51\u001b[0m         \u001b[0;32melif\u001b[0m \u001b[0misinstance\u001b[0m\u001b[0;34m(\u001b[0m\u001b[0mobj\u001b[0m\u001b[0;34m,\u001b[0m \u001b[0mGridFunction\u001b[0m\u001b[0;34m)\u001b[0m\u001b[0;34m:\u001b[0m\u001b[0;34m\u001b[0m\u001b[0m\n\u001b[0;32m---> 52\u001b[0;31m             \u001b[0;32mreturn\u001b[0m \u001b[0mself\u001b[0m\u001b[0;34m.\u001b[0m\u001b[0mevaluate\u001b[0m\u001b[0;34m(\u001b[0m\u001b[0mobj\u001b[0m\u001b[0;34m)\u001b[0m\u001b[0;34m\u001b[0m\u001b[0m\n\u001b[0m\u001b[1;32m     53\u001b[0m         \u001b[0;32melse\u001b[0m\u001b[0;34m:\u001b[0m\u001b[0;34m\u001b[0m\u001b[0m\n\u001b[1;32m     54\u001b[0m             \u001b[0;32mreturn\u001b[0m \u001b[0mNotImplemented\u001b[0m\u001b[0;34m\u001b[0m\u001b[0m\n",
      "\u001b[0;32m~/development/bempp-cl/bempp/api/assembly/potential_operator.py\u001b[0m in \u001b[0;36mevaluate\u001b[0;34m(self, grid_fun)\u001b[0m\n\u001b[1;32m     25\u001b[0m         \"\"\"\n\u001b[1;32m     26\u001b[0m \u001b[0;34m\u001b[0m\u001b[0m\n\u001b[0;32m---> 27\u001b[0;31m         \u001b[0;32mreturn\u001b[0m \u001b[0mself\u001b[0m\u001b[0;34m.\u001b[0m\u001b[0m_evaluator\u001b[0m\u001b[0;34m.\u001b[0m\u001b[0mevaluate\u001b[0m\u001b[0;34m(\u001b[0m\u001b[0mgrid_fun\u001b[0m\u001b[0;34m.\u001b[0m\u001b[0mcoefficients\u001b[0m\u001b[0;34m)\u001b[0m\u001b[0;34m\u001b[0m\u001b[0m\n\u001b[0m\u001b[1;32m     28\u001b[0m \u001b[0;34m\u001b[0m\u001b[0m\n\u001b[1;32m     29\u001b[0m     \u001b[0;32mdef\u001b[0m \u001b[0m_is_compatible\u001b[0m\u001b[0;34m(\u001b[0m\u001b[0mself\u001b[0m\u001b[0;34m,\u001b[0m \u001b[0mother\u001b[0m\u001b[0;34m)\u001b[0m\u001b[0;34m:\u001b[0m\u001b[0;34m\u001b[0m\u001b[0m\n",
      "\u001b[0;32m~/development/bempp-cl/bempp/core/dense_potential_assembler.py\u001b[0m in \u001b[0;36mevaluate\u001b[0;34m(self, coefficients)\u001b[0m\n\u001b[1;32m    108\u001b[0m         \u001b[0mdtype\u001b[0m \u001b[0;34m=\u001b[0m \u001b[0m_cl_helpers\u001b[0m\u001b[0;34m.\u001b[0m\u001b[0mget_type\u001b[0m\u001b[0;34m(\u001b[0m\u001b[0mself\u001b[0m\u001b[0;34m.\u001b[0m\u001b[0mprecision\u001b[0m\u001b[0;34m)\u001b[0m\u001b[0;34m.\u001b[0m\u001b[0mreal\u001b[0m\u001b[0;34m\u001b[0m\u001b[0m\n\u001b[1;32m    109\u001b[0m \u001b[0;34m\u001b[0m\u001b[0m\n\u001b[0;32m--> 110\u001b[0;31m         \u001b[0mnpoints\u001b[0m \u001b[0;34m=\u001b[0m \u001b[0mself\u001b[0m\u001b[0;34m.\u001b[0m\u001b[0mpoints\u001b[0m\u001b[0;34m.\u001b[0m\u001b[0mshape\u001b[0m\u001b[0;34m[\u001b[0m\u001b[0;36m1\u001b[0m\u001b[0;34m]\u001b[0m\u001b[0;34m\u001b[0m\u001b[0m\n\u001b[0m\u001b[1;32m    111\u001b[0m \u001b[0;34m\u001b[0m\u001b[0m\n\u001b[1;32m    112\u001b[0m         \u001b[0moptions\u001b[0m \u001b[0;34m=\u001b[0m \u001b[0mself\u001b[0m\u001b[0;34m.\u001b[0m\u001b[0moperator_descriptor\u001b[0m\u001b[0;34m.\u001b[0m\u001b[0moptions\u001b[0m\u001b[0;34m.\u001b[0m\u001b[0mcopy\u001b[0m\u001b[0;34m(\u001b[0m\u001b[0;34m)\u001b[0m\u001b[0;34m\u001b[0m\u001b[0m\n",
      "\u001b[0;31mIndexError\u001b[0m: tuple index out of range"
     ]
    }
   ],
   "source": [
    "far_field(vert_sphere[:,0]) # in this case, the point has shape (3,), it will report us an error, /\n",
    "                            # so will do when we contruct the grid function of the far field on the sphere"
   ]
  },
  {
   "cell_type": "code",
   "execution_count": 15,
   "metadata": {},
   "outputs": [],
   "source": [
    "@bempp.api.complex_callable\n",
    "def far_field_fun(x,n,domain_index,result):\n",
    "    with objmode():\n",
    "        result[0] = far_field(x)"
   ]
  },
  {
   "cell_type": "code",
   "execution_count": 16,
   "metadata": {},
   "outputs": [
    {
     "ename": "IndexError",
     "evalue": "tuple index out of range",
     "output_type": "error",
     "traceback": [
      "\u001b[0;31m---------------------------------------------------------------------------\u001b[0m",
      "\u001b[0;31mIndexError\u001b[0m                                Traceback (most recent call last)",
      "\u001b[0;32m<ipython-input-16-91b01da4d869>\u001b[0m in \u001b[0;36m<module>\u001b[0;34m\u001b[0m\n\u001b[0;32m----> 1\u001b[0;31m \u001b[0mfar_field_grid\u001b[0m \u001b[0;34m=\u001b[0m \u001b[0mbempp\u001b[0m\u001b[0;34m.\u001b[0m\u001b[0mapi\u001b[0m\u001b[0;34m.\u001b[0m\u001b[0mGridFunction\u001b[0m\u001b[0;34m(\u001b[0m\u001b[0mspace_sphere\u001b[0m\u001b[0;34m,\u001b[0m\u001b[0mfun\u001b[0m \u001b[0;34m=\u001b[0m \u001b[0mfar_field_fun\u001b[0m\u001b[0;34m)\u001b[0m\u001b[0;34m\u001b[0m\u001b[0m\n\u001b[0m\u001b[1;32m      2\u001b[0m \u001b[0mfar_field_coeff\u001b[0m \u001b[0;34m=\u001b[0m \u001b[0mfar_field_grid\u001b[0m\u001b[0;34m.\u001b[0m\u001b[0mcoefficients\u001b[0m\u001b[0;34m\u001b[0m\u001b[0m\n",
      "\u001b[0;32m~/development/bempp-cl/bempp/api/assembly/grid_function.py\u001b[0m in \u001b[0;36m__init__\u001b[0;34m(self, space, dual_space, fun, coefficients, projections, parameters)\u001b[0m\n\u001b[1;32m    262\u001b[0m                 \u001b[0mweights\u001b[0m\u001b[0;34m,\u001b[0m\u001b[0;34m\u001b[0m\u001b[0m\n\u001b[1;32m    263\u001b[0m                 \u001b[0mcomp_domain\u001b[0m\u001b[0;34m.\u001b[0m\u001b[0mcodomain_dimension\u001b[0m\u001b[0;34m,\u001b[0m\u001b[0;34m\u001b[0m\u001b[0m\n\u001b[0;32m--> 264\u001b[0;31m                 \u001b[0mgrid_projections\u001b[0m\u001b[0;34m,\u001b[0m\u001b[0;34m\u001b[0m\u001b[0m\n\u001b[0m\u001b[1;32m    265\u001b[0m             )\n\u001b[1;32m    266\u001b[0m \u001b[0;34m\u001b[0m\u001b[0m\n",
      "\u001b[0;32m<ipython-input-12-5d36b613fca2>\u001b[0m in \u001b[0;36mfar_field\u001b[0;34m(x)\u001b[0m\n\u001b[1;32m      1\u001b[0m \u001b[0;32mdef\u001b[0m \u001b[0mfar_field\u001b[0m\u001b[0;34m(\u001b[0m\u001b[0mx\u001b[0m\u001b[0;34m)\u001b[0m\u001b[0;34m:\u001b[0m\u001b[0;34m\u001b[0m\u001b[0m\n\u001b[1;32m      2\u001b[0m     \u001b[0mdlp_far_field\u001b[0m \u001b[0;34m=\u001b[0m \u001b[0mbempp\u001b[0m\u001b[0;34m.\u001b[0m\u001b[0mapi\u001b[0m\u001b[0;34m.\u001b[0m\u001b[0moperators\u001b[0m\u001b[0;34m.\u001b[0m\u001b[0mfar_field\u001b[0m\u001b[0;34m.\u001b[0m\u001b[0mhelmholtz\u001b[0m\u001b[0;34m.\u001b[0m\u001b[0mdouble_layer\u001b[0m\u001b[0;34m(\u001b[0m\u001b[0mspace_cube\u001b[0m\u001b[0;34m,\u001b[0m\u001b[0mx\u001b[0m\u001b[0;34m,\u001b[0m\u001b[0mk\u001b[0m\u001b[0;34m)\u001b[0m\u001b[0;34m\u001b[0m\u001b[0m\n\u001b[0;32m----> 3\u001b[0;31m     \u001b[0;32mreturn\u001b[0m \u001b[0mdlp_far_field\u001b[0m\u001b[0;34m*\u001b[0m\u001b[0mtotal_field\u001b[0m\u001b[0;34m\u001b[0m\u001b[0m\n\u001b[0m",
      "\u001b[0;32m~/development/bempp-cl/bempp/api/assembly/potential_operator.py\u001b[0m in \u001b[0;36m__mul__\u001b[0;34m(self, obj)\u001b[0m\n\u001b[1;32m     50\u001b[0m             \u001b[0;32mreturn\u001b[0m \u001b[0m_ScaledPotentialOperator\u001b[0m\u001b[0;34m(\u001b[0m\u001b[0mself\u001b[0m\u001b[0;34m,\u001b[0m \u001b[0mobj\u001b[0m\u001b[0;34m)\u001b[0m\u001b[0;34m\u001b[0m\u001b[0m\n\u001b[1;32m     51\u001b[0m         \u001b[0;32melif\u001b[0m \u001b[0misinstance\u001b[0m\u001b[0;34m(\u001b[0m\u001b[0mobj\u001b[0m\u001b[0;34m,\u001b[0m \u001b[0mGridFunction\u001b[0m\u001b[0;34m)\u001b[0m\u001b[0;34m:\u001b[0m\u001b[0;34m\u001b[0m\u001b[0m\n\u001b[0;32m---> 52\u001b[0;31m             \u001b[0;32mreturn\u001b[0m \u001b[0mself\u001b[0m\u001b[0;34m.\u001b[0m\u001b[0mevaluate\u001b[0m\u001b[0;34m(\u001b[0m\u001b[0mobj\u001b[0m\u001b[0;34m)\u001b[0m\u001b[0;34m\u001b[0m\u001b[0m\n\u001b[0m\u001b[1;32m     53\u001b[0m         \u001b[0;32melse\u001b[0m\u001b[0;34m:\u001b[0m\u001b[0;34m\u001b[0m\u001b[0m\n\u001b[1;32m     54\u001b[0m             \u001b[0;32mreturn\u001b[0m \u001b[0mNotImplemented\u001b[0m\u001b[0;34m\u001b[0m\u001b[0m\n",
      "\u001b[0;32m~/development/bempp-cl/bempp/api/assembly/potential_operator.py\u001b[0m in \u001b[0;36mevaluate\u001b[0;34m(self, grid_fun)\u001b[0m\n\u001b[1;32m     25\u001b[0m         \"\"\"\n\u001b[1;32m     26\u001b[0m \u001b[0;34m\u001b[0m\u001b[0m\n\u001b[0;32m---> 27\u001b[0;31m         \u001b[0;32mreturn\u001b[0m \u001b[0mself\u001b[0m\u001b[0;34m.\u001b[0m\u001b[0m_evaluator\u001b[0m\u001b[0;34m.\u001b[0m\u001b[0mevaluate\u001b[0m\u001b[0;34m(\u001b[0m\u001b[0mgrid_fun\u001b[0m\u001b[0;34m.\u001b[0m\u001b[0mcoefficients\u001b[0m\u001b[0;34m)\u001b[0m\u001b[0;34m\u001b[0m\u001b[0m\n\u001b[0m\u001b[1;32m     28\u001b[0m \u001b[0;34m\u001b[0m\u001b[0m\n\u001b[1;32m     29\u001b[0m     \u001b[0;32mdef\u001b[0m \u001b[0m_is_compatible\u001b[0m\u001b[0;34m(\u001b[0m\u001b[0mself\u001b[0m\u001b[0;34m,\u001b[0m \u001b[0mother\u001b[0m\u001b[0;34m)\u001b[0m\u001b[0;34m:\u001b[0m\u001b[0;34m\u001b[0m\u001b[0m\n",
      "\u001b[0;32m~/development/bempp-cl/bempp/core/dense_potential_assembler.py\u001b[0m in \u001b[0;36mevaluate\u001b[0;34m(self, coefficients)\u001b[0m\n\u001b[1;32m    108\u001b[0m         \u001b[0mdtype\u001b[0m \u001b[0;34m=\u001b[0m \u001b[0m_cl_helpers\u001b[0m\u001b[0;34m.\u001b[0m\u001b[0mget_type\u001b[0m\u001b[0;34m(\u001b[0m\u001b[0mself\u001b[0m\u001b[0;34m.\u001b[0m\u001b[0mprecision\u001b[0m\u001b[0;34m)\u001b[0m\u001b[0;34m.\u001b[0m\u001b[0mreal\u001b[0m\u001b[0;34m\u001b[0m\u001b[0m\n\u001b[1;32m    109\u001b[0m \u001b[0;34m\u001b[0m\u001b[0m\n\u001b[0;32m--> 110\u001b[0;31m         \u001b[0mnpoints\u001b[0m \u001b[0;34m=\u001b[0m \u001b[0mself\u001b[0m\u001b[0;34m.\u001b[0m\u001b[0mpoints\u001b[0m\u001b[0;34m.\u001b[0m\u001b[0mshape\u001b[0m\u001b[0;34m[\u001b[0m\u001b[0;36m1\u001b[0m\u001b[0;34m]\u001b[0m\u001b[0;34m\u001b[0m\u001b[0m\n\u001b[0m\u001b[1;32m    111\u001b[0m \u001b[0;34m\u001b[0m\u001b[0m\n\u001b[1;32m    112\u001b[0m         \u001b[0moptions\u001b[0m \u001b[0;34m=\u001b[0m \u001b[0mself\u001b[0m\u001b[0;34m.\u001b[0m\u001b[0moperator_descriptor\u001b[0m\u001b[0;34m.\u001b[0m\u001b[0moptions\u001b[0m\u001b[0;34m.\u001b[0m\u001b[0mcopy\u001b[0m\u001b[0;34m(\u001b[0m\u001b[0;34m)\u001b[0m\u001b[0;34m\u001b[0m\u001b[0m\n",
      "\u001b[0;31mIndexError\u001b[0m: tuple index out of range"
     ]
    }
   ],
   "source": [
    "far_field_grid = bempp.api.GridFunction(space_sphere,fun = far_field_fun)\n",
    "far_field_coeff = far_field_grid.coefficients"
   ]
  },
  {
   "cell_type": "code",
   "execution_count": 17,
   "metadata": {},
   "outputs": [],
   "source": [
    "@bempp.api.complex_callable\n",
    "def sph_harm(x,n,domain_index,result):\n",
    "    with objmode():\n",
    "        result[0] = normalized_spherical_harmonics(p,q,x)"
   ]
  },
  {
   "cell_type": "code",
   "execution_count": 18,
   "metadata": {},
   "outputs": [],
   "source": [
    "sph_harm_grid = bempp.api.GridFunction(space_sphere,fun = sph_harm) \n",
    "sph_harm_coeff = sph_harm_grid.coefficients"
   ]
  },
  {
   "cell_type": "code",
   "execution_count": 19,
   "metadata": {},
   "outputs": [],
   "source": [
    "mass_mat = bempp.api.operators.boundary.sparse.identity(space_sphere,space_sphere,space_sphere).weak_form().A"
   ]
  },
  {
   "cell_type": "code",
   "execution_count": 20,
   "metadata": {},
   "outputs": [],
   "source": [
    "# After we have the coefficients of the far field grid function and coefficients of the spherical harmonics grid function on the unit sphere, we can compute \n",
    "# the inner product to obtain the elements inside of the scattering matrix"
   ]
  },
  {
   "cell_type": "markdown",
   "metadata": {},
   "source": [
    "### Test the T-matrix "
   ]
  },
  {
   "cell_type": "markdown",
   "metadata": {},
   "source": [
    "We set the incident wave $u^{i}$ as a plain wave $e^{ikx}$ and the first task is to expand it with respect to the basis $\\tilde{e_{q}^{p}}$ and find the coefficients."
   ]
  },
  {
   "cell_type": "code",
   "execution_count": null,
   "metadata": {},
   "outputs": [],
   "source": [
    "# need to compute coff_inc here\n",
    "mass_mat = bempp.api.operators.boundary.sparse.identity(space,space,space).weak_form().A\n",
    "\n",
    "@bempp.api.complex_callable\n",
    "def inc_wave_fun(x,n,domain_index, result):\n",
    "    result[0] = np.exp(1j*k*x[0])\n",
    "\n",
    "inc_wave_grid_fun = bempp.api.GridFunction(space, fun = inc_wave_fun)\n",
    "\n",
    "inc_wave_grid_coeff = inc_wave_grid_fun.coefficients\n",
    "\n",
    "dirichlet_grid_coeff = []\n",
    "\n",
    "for q in range(1,deg+1):\n",
    "    for p in range(-q+1,q):\n",
    "        @bempp.api.complex_callable\n",
    "        def dirichlet_fun(x,n,domain_index,result):\n",
    "            with objmode():\n",
    "                result[0] = regular_spherical_wavefunctions(p,q,k,x)\n",
    "        \n",
    "        dirichlet_grid_fun = bempp.api.GridFunction(space, fun = dirichlet_fun)\n",
    "\n",
    "        dirichlet_grid_coeff.append(dirichlet_grid_fun.coefficients)"
   ]
  },
  {
   "cell_type": "code",
   "execution_count": null,
   "metadata": {},
   "outputs": [],
   "source": [
    "coeff_inc = np.zeros(deg**2, dtype = complex)\n",
    "for i in range(deg**2):\n",
    "    coeff_inc[i] = inc_wave_grid_coeff.T @ mass_mat @ dirichlet_grid_coeff[i]"
   ]
  },
  {
   "cell_type": "markdown",
   "metadata": {},
   "source": [
    "Use this incident wave to compute its corresponding scattered field's far field pattern"
   ]
  },
  {
   "cell_type": "code",
   "execution_count": null,
   "metadata": {},
   "outputs": [],
   "source": [
    "@bempp.api.complex_callable\n",
    "def dirichlet_fun_exact(x,n,domain_index,result):\n",
    "    result[0] = np.exp(1j * k * x[0])\n",
    "            \n",
    "@bempp.api.complex_callable\n",
    "def neumann_fun_exact(x, n, domain_index, result):\n",
    "    result[0] = 1j * k * n[0] * np.exp(1j * k * x[0])"
   ]
  },
  {
   "cell_type": "code",
   "execution_count": null,
   "metadata": {},
   "outputs": [],
   "source": [
    "dirichlet_grid_fun_exact = bempp.api.GridFunction(space, fun = dirichlet_fun_exact)\n",
    "neumann_grid_fun_exact = bempp.api.GridFunction(space, fun = neumann_fun_exact)\n",
    "\n",
    "rhs_fun_exact = dirichlet_grid_fun_exact + (1j/k)*neumann_grid_fun_exact"
   ]
  },
  {
   "cell_type": "code",
   "execution_count": null,
   "metadata": {},
   "outputs": [],
   "source": [
    "total_field_exact, info_exact, it_count_exact = bempp.api.linalg.gmres(burton_miller,rhs_fun_exact,use_strong_form=True, return_iteration_count=True)\n",
    "dlp_far_field_exact = bempp.api.operators.far_field.helmholtz.double_layer(space,vert,k)\n",
    "far_field_exact = dlp_far_field_exact * total_field_exact"
   ]
  },
  {
   "cell_type": "markdown",
   "metadata": {},
   "source": [
    "Compute the scattered field's coefficients using the T-matrix above"
   ]
  },
  {
   "cell_type": "code",
   "execution_count": null,
   "metadata": {},
   "outputs": [],
   "source": [
    "coeff_sca = T_matrix @ coeff_inc"
   ]
  },
  {
   "cell_type": "markdown",
   "metadata": {},
   "source": [
    "Use the formular $$u^{s}(\\boldsymbol{x}) = \\sum_{q = 0}^{\\infty}\\sum_{|p|\\leq q}a_{q}^{p}e_{q}^{p}(\\boldsymbol{x})$$ to construct scattered field "
   ]
  },
  {
   "cell_type": "code",
   "execution_count": null,
   "metadata": {},
   "outputs": [],
   "source": [
    "def sca_wave_appro(x):\n",
    "    wf_list = []\n",
    "    for q in range(1,deg+1):\n",
    "        for p in range(-q+1,q):\n",
    "            wf_list.append((1/k)*(-1j)**(q+1)*normalized_spherical_harmonics(p,q,x))\n",
    "    sca_wave_appro = np.inner(coeff_sca,wf_list)\n",
    "    return sca_wave_appro"
   ]
  },
  {
   "cell_type": "code",
   "execution_count": null,
   "metadata": {},
   "outputs": [],
   "source": [
    "far_field_approx_real_part = []\n",
    "for i in range(vert.shape[1]):\n",
    "    far_field_approx_real_part.append(sca_wave_appro(vert[:,i]).real)"
   ]
  },
  {
   "cell_type": "code",
   "execution_count": null,
   "metadata": {},
   "outputs": [],
   "source": [
    "%matplotlib inline\n",
    "x_axis = np.linspace(1,vert.shape[1],vert.shape[1])\n",
    "plt.plot(x_axis,far_field_approx_real_part)\n",
    "plt.plot(x_axis,np.squeeze(np.asarray(far_field_exact.real)))"
   ]
  },
  {
   "cell_type": "code",
   "execution_count": null,
   "metadata": {},
   "outputs": [],
   "source": []
  }
 ],
 "metadata": {
  "kernelspec": {
   "display_name": "Python 3",
   "language": "python",
   "name": "python3"
  },
  "language_info": {
   "codemirror_mode": {
    "name": "ipython",
    "version": 3
   },
   "file_extension": ".py",
   "mimetype": "text/x-python",
   "name": "python",
   "nbconvert_exporter": "python",
   "pygments_lexer": "ipython3",
   "version": "3.7.0"
  }
 },
 "nbformat": 4,
 "nbformat_minor": 2
}
