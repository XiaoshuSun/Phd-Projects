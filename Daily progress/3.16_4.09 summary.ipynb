{
 "cells": [
  {
   "cell_type": "markdown",
   "metadata": {},
   "source": [
    "# Summary"
   ]
  },
  {
   "cell_type": "markdown",
   "metadata": {},
   "source": [
    "1. The orthonormal property of the spherical harmonics function $Y_{n}^{m}$ is only on the unit sphere"
   ]
  },
  {
   "cell_type": "markdown",
   "metadata": {},
   "source": [
    "2. Learnt how to expand a function from one known basis numerically in another basis"
   ]
  },
  {
   "cell_type": "markdown",
   "metadata": {},
   "source": [
    "3. Analytical forms of incident wave $e^{ikx\\cdot d}$ into regular spherical wavefunctions (Jacobi-Anger expansion)"
   ]
  },
  {
   "cell_type": "markdown",
   "metadata": {},
   "source": [
    "4. Compare the numerical solution with analytical solution is a good way to debug; Find the properties of the item to prove the way that we construct it is correct."
   ]
  },
  {
   "cell_type": "markdown",
   "metadata": {},
   "source": [
    "5. When choosing the method to solve the Helmholtz problem, check the boundary considition."
   ]
  },
  {
   "cell_type": "markdown",
   "metadata": {},
   "source": [
    "6. The coupling parameter should be pure imaginary number, "
   ]
  },
  {
   "cell_type": "markdown",
   "metadata": {},
   "source": [
    "7. $u^{i} = e^{ikx\\cdot d} = \\sum_{n=0}^{\\infty}i^{n}(2n+1)j_{n}(k|x|)P_{n}(\\cos\\theta),$ where $P_{n}(x)$ follows the Bonnet's recurrence formula: $nP_{n}(x) = (2n-1)xP_{n-1}(x) - (n-1)P_{n-2}(x)$ is scattered by a sound-soft ball of radius $R$ with center at the origin, the boundary condition is: $u^{s} = -u^{i}$, then \n",
    "$$u^{s} = -\\sum_{n=0}^{\\infty}i^{n}(2n+1)\\frac{j_{n}kR}{h_{n}^{(1)}kR}h_{n}^{(1)}(k|x|)P_{n}(\\cos\\theta),$$ where $\\theta$ is the angle between $x$ and $d$.\n",
    "$$u_{\\infty} = \\frac{i}{k}\\sum_{n=0}^{\\infty}(2n+1)\\frac{j_{n}kR}{h_{n}^{(1)}kR}(\\cos\\theta)$$"
   ]
  },
  {
   "cell_type": "markdown",
   "metadata": {},
   "source": [
    "8. Method 1 of solving the scattered field with dirichlet B.C when $u^{s} = -\\int_{\\partial D}\\Phi(x,y)v(y)ds(y)$, $x\\in\\mathbb{R}^{3}\\backslash \\bar{D}$, where $v$ is the solution of $$[\\frac{1}{2}I - K' - i\\eta V]v = \\frac{\\partial u^{i}}{\\partial n} - i\\eta u^{i}$$ and $v = \\frac{\\partial u^{tot}}{\\partial n}$, $K'$ is the adjoint double layer boundary operator and $V$ is the single layer boundary operator."
   ]
  },
  {
   "cell_type": "markdown",
   "metadata": {},
   "source": [
    "9. Method 2 of solving above one for any incident field is $u^{s} = \\mathcal{K}v - i\\eta\\mathcal{V}v$, where $v$ is the solution of $$[\\frac{1}{2}I + K -i\\eta V]v = -u^{i},$$ where $K$ is the double layer boundary operator. "
   ]
  },
  {
   "cell_type": "code",
   "execution_count": null,
   "metadata": {},
   "outputs": [],
   "source": []
  }
 ],
 "metadata": {
  "kernelspec": {
   "display_name": "Python 3",
   "language": "python",
   "name": "python3"
  },
  "language_info": {
   "codemirror_mode": {
    "name": "ipython",
    "version": 3
   },
   "file_extension": ".py",
   "mimetype": "text/x-python",
   "name": "python",
   "nbconvert_exporter": "python",
   "pygments_lexer": "ipython3",
   "version": "3.7.0"
  }
 },
 "nbformat": 4,
 "nbformat_minor": 2
}
