{
 "cells": [
  {
   "cell_type": "markdown",
   "metadata": {},
   "source": [
    "# Expand the incident wave using sphercial wave functions"
   ]
  },
  {
   "cell_type": "code",
   "execution_count": 1,
   "metadata": {},
   "outputs": [],
   "source": [
    "import bempp.api\n",
    "import numpy as np\n",
    "import scipy\n",
    "from numba import objmode#\n",
    "import numba\n",
    "import math\n",
    "import matplotlib.pyplot as plt\n",
    "bempp.core.opencl_kernels.set_default_device(0,0)"
   ]
  },
  {
   "cell_type": "code",
   "execution_count": 147,
   "metadata": {},
   "outputs": [],
   "source": [
    "h = 0.2 # Size of the mesh\n",
    "d = [1,0,0] # wave's travel direction\n",
    "k = 0.2 # wavenumber"
   ]
  },
  {
   "cell_type": "code",
   "execution_count": 61,
   "metadata": {},
   "outputs": [],
   "source": [
    "def normalized_spherical_harmonics(p, q, x):\n",
    "    \"\"\"Spherical Harmonic function of degree q\"\"\"\n",
    "    azimuth = np.arctan2(x[1],x[0])\n",
    "    polar = np.arccos(x[2]/np.linalg.norm(x))\n",
    "    if p >= 0:\n",
    "        return ((-1)**p) * scipy.special.sph_harm(p,q,azimuth,polar)\n",
    "    else:\n",
    "        return scipy.special.sph_harm(-p,q,azimuth,polar)*np.exp(1j*2*p*azimuth)\n",
    "\n",
    "def spherical_bessel_function(q,x):\n",
    "    \"\"\"Spherical Bessel function of degree q\"\"\"\n",
    "    r = np.linalg.norm(x)\n",
    "    return np.sqrt(np.pi/(2*k*r))*scipy.special.jv(q+0.5, k*r)\n",
    "\n",
    "def regular_spherical_wavefunctions(p,q,x):\n",
    "    \"\"\"Regular Spherical Wavefunction\"\"\"\n",
    "    return spherical_bessel_function(q,x)*normalized_spherical_harmonics(p,q,x)"
   ]
  },
  {
   "cell_type": "code",
   "execution_count": 4,
   "metadata": {},
   "outputs": [],
   "source": [
    "def coeff_sph_expansion(p,q):\n",
    "    \"\"\"Analytical formula of the coefficients of the spherical expansions of plane waves\"\"\"\n",
    "    coeff = 4*np.pi*((1j)**q)*normalized_spherical_harmonics(-p,q,d)/(-1)**(abs(p))\n",
    "    return coeff"
   ]
  },
  {
   "cell_type": "code",
   "execution_count": 79,
   "metadata": {},
   "outputs": [],
   "source": [
    "dom_sphere = bempp.api.shapes.sphere(r = 1, origin=(0,0,0), h = h)\n",
    "vert_sphere = dom_sphere.vertices\n",
    "space_sphere = bempp.api.function_space(dom_sphere, 'P', 1)"
   ]
  },
  {
   "cell_type": "markdown",
   "metadata": {},
   "source": [
    "### Expand $u$ into known basis with known coefficient on the sphere"
   ]
  },
  {
   "cell_type": "markdown",
   "metadata": {},
   "source": [
    "#### $u = \\sum_{i}\\alpha_{i}\\phi_{i}$ and we set $(\\alpha_{i}) = \\alpha$"
   ]
  },
  {
   "cell_type": "code",
   "execution_count": 80,
   "metadata": {},
   "outputs": [],
   "source": [
    "@bempp.api.complex_callable\n",
    "def inc_wave_fun(x,n,domain_index, result):\n",
    "    result[0] = np.exp(1j*k*x[0])\n",
    "    \n",
    "inc_wave_grid_fun_sphere = bempp.api.GridFunction(space_sphere, fun = inc_wave_fun)\n",
    "inc_wave_grid_coeff_sphere = inc_wave_grid_fun_sphere.coefficients"
   ]
  },
  {
   "cell_type": "code",
   "execution_count": 81,
   "metadata": {},
   "outputs": [],
   "source": [
    "mass_mat = bempp.api.operators.boundary.sparse.identity(space_sphere,space_sphere,space_sphere).weak_form().A"
   ]
  },
  {
   "cell_type": "code",
   "execution_count": 82,
   "metadata": {},
   "outputs": [],
   "source": [
    "@bempp.api.complex_callable\n",
    "def test_fun(x,n,domain_index, result):\n",
    "    with objmode():\n",
    "        result[0] = 1*normalized_spherical_harmonics(1,2,x) + 2*normalized_spherical_harmonics(3,4,x)\n",
    "    \n",
    "test_grid_fun = bempp.api.GridFunction(space_sphere, fun = test_fun)\n",
    "test_fun_coeff = test_grid_fun.coefficients"
   ]
  },
  {
   "cell_type": "code",
   "execution_count": 35,
   "metadata": {},
   "outputs": [],
   "source": [
    "@bempp.api.complex_callable\n",
    "def basis_fun12(x,n,domain_index,result):\n",
    "    with objmode():\n",
    "        result[0] = normalized_spherical_harmonics(1,2,x)\n",
    "\n",
    "basis_grid12 = bempp.api.GridFunction(space_sphere,fun=basis_fun12)\n",
    "basis_coeff12 = basis_grid12.coefficients\n",
    "\n",
    "@bempp.api.complex_callable\n",
    "def basis_fun34(x,n,domain_index,result):\n",
    "    with objmode():\n",
    "        result[0] = normalized_spherical_harmonics(3,4,x)\n",
    "\n",
    "basis_grid34 = bempp.api.GridFunction(space_sphere,fun=basis_fun34)\n",
    "basis_coeff34 = basis_grid34.coefficients\n",
    "\n",
    "@bempp.api.complex_callable\n",
    "def basis_fun56(x,n,domain_index,result):\n",
    "    with objmode():\n",
    "        result[0] = normalized_spherical_harmonics(5,6,x)\n",
    "\n",
    "basis_grid56 = bempp.api.GridFunction(space_sphere,fun=basis_fun56)\n",
    "basis_coeff56 = basis_grid56.coefficients"
   ]
  },
  {
   "cell_type": "code",
   "execution_count": 67,
   "metadata": {},
   "outputs": [
    {
     "data": {
      "text/plain": [
       "(-0.765753524300927+2.0308074889490185e-08j)"
      ]
     },
     "execution_count": 67,
     "metadata": {},
     "output_type": "execute_result"
    }
   ],
   "source": [
    "(test_fun_coeff @ mass_mat @ np.conj(basis_coeff12))*normalized_spherical_harmonics(1,2,vert_sphere[:,55]) + (test_fun_coeff @ mass_mat @ np.conj(basis_coeff34))*normalized_spherical_harmonics(3,4,vert_sphere[:,55])"
   ]
  },
  {
   "cell_type": "code",
   "execution_count": 70,
   "metadata": {},
   "outputs": [
    {
     "data": {
      "text/plain": [
       "(-0.7770497895765304+2.3817851489619574e-16j)"
      ]
     },
     "execution_count": 70,
     "metadata": {},
     "output_type": "execute_result"
    }
   ],
   "source": [
    "1*normalized_spherical_harmonics(1,2,vert_sphere[:,55]) + 2*normalized_spherical_harmonics(3,4,vert_sphere[:,55])"
   ]
  },
  {
   "cell_type": "code",
   "execution_count": 83,
   "metadata": {},
   "outputs": [],
   "source": [
    "deg = 10\n",
    "coeff_sph_wf = []\n",
    "for q in range(deg+1):\n",
    "    for p in range(-q,q+1):\n",
    "        @bempp.api.complex_callable\n",
    "        def basis_fun(x,n,domain_index,result):\n",
    "            with objmode():\n",
    "                result[0] = normalized_spherical_harmonics(p,q,x)\n",
    "\n",
    "        basis_grid = bempp.api.GridFunction(space_sphere,fun=basis_fun)\n",
    "        basis_coeff = basis_grid.coefficients\n",
    "        coeff_sph_wf.append(basis_coeff)"
   ]
  },
  {
   "cell_type": "code",
   "execution_count": 148,
   "metadata": {},
   "outputs": [],
   "source": [
    "def spherical_bessel_function(q,x):\n",
    "    \"\"\"Spherical Bessel function of degree q\"\"\"\n",
    "    r = np.linalg.norm(x)\n",
    "    return np.sqrt(np.pi/(2*k*r))*scipy.special.jv(q+0.5, k*r)\n",
    "\n",
    "def spherical_hankel_function(q,x):\n",
    "    \"\"\"Spherical hankel function of degree q\"\"\"\n",
    "    r = np.linalg.norm(x)\n",
    "    return np.sqrt(np.pi/(2*k*r))*scipy.special.hankel1(q+0.5, k*r)\n",
    "\n",
    "def Legendre_poly(q, x):  \n",
    "    if(q == 0): \n",
    "        return 1 # P0 = 1 \n",
    "    elif(q == 1): \n",
    "        return x # P1 = x \n",
    "    else: \n",
    "        return ((2*q - 1) * x * Legendre_poly(q-1, x) - (q-1)*Legendre_poly(q - 2, x))/q \n",
    "\n",
    "def far_field(x):\n",
    "    field = 0\n",
    "    radius = 4\n",
    "    cosine_angle = x[0]/np.linalg.norm(x)\n",
    "    for i in range(20):\n",
    "        a = (1j/k) * (2*i+1) * spherical_bessel_function(i,[radius,0,0]) * Legendre_poly(i,cosine_angle) / spherical_hankel_function(i,[radius,0,0])\n",
    "        field += a\n",
    "    return field"
   ]
  },
  {
   "cell_type": "code",
   "execution_count": 149,
   "metadata": {},
   "outputs": [],
   "source": [
    "@bempp.api.complex_callable\n",
    "def far_fun(x,n,domain_index, result):\n",
    "    with objmode():\n",
    "        result[0] = far_field(x)\n",
    "    \n",
    "far_fun_sphere = bempp.api.GridFunction(space_sphere, fun = far_fun)\n",
    "far_grid_coeff_sphere = far_fun_sphere.coefficients"
   ]
  },
  {
   "cell_type": "code",
   "execution_count": 150,
   "metadata": {},
   "outputs": [],
   "source": [
    "appro_far_list = []\n",
    "for i in range(len(coeff_sph_wf)):\n",
    "    appro_far_list.append(far_grid_coeff_sphere @ mass_mat @ np.conj(coeff_sph_wf[i]))"
   ]
  },
  {
   "cell_type": "code",
   "execution_count": 84,
   "metadata": {},
   "outputs": [],
   "source": [
    "appro_list = []\n",
    "for i in range(len(coeff_sph_wf)):\n",
    "    appro_list.append(inc_wave_grid_coeff_sphere @ mass_mat @ np.conj(coeff_sph_wf[i]))"
   ]
  },
  {
   "cell_type": "code",
   "execution_count": 85,
   "metadata": {},
   "outputs": [],
   "source": [
    "def inc_field(x):\n",
    "    fun = 0\n",
    "    i = 0\n",
    "    for q in range(deg+1):\n",
    "        for p in range(-q,q+1):\n",
    "            fun += appro_list[i]* normalized_spherical_harmonics(p, q, x)\n",
    "            i +=1\n",
    "    return fun"
   ]
  },
  {
   "cell_type": "code",
   "execution_count": 151,
   "metadata": {},
   "outputs": [],
   "source": [
    "def far_field_appro(x):\n",
    "    fun = 0\n",
    "    i = 0\n",
    "    for q in range(deg+1):\n",
    "        for p in range(-q,q+1):\n",
    "            fun += appro_far_list[i]* normalized_spherical_harmonics(p, q, x)\n",
    "            i +=1\n",
    "    return fun"
   ]
  },
  {
   "cell_type": "code",
   "execution_count": 152,
   "metadata": {},
   "outputs": [
    {
     "data": {
      "text/plain": [
       "(-4.493267490841373+2.7936025635631014j)"
      ]
     },
     "execution_count": 152,
     "metadata": {},
     "output_type": "execute_result"
    }
   ],
   "source": [
    "far_field_appro([1,0,0])"
   ]
  },
  {
   "cell_type": "code",
   "execution_count": 153,
   "metadata": {},
   "outputs": [
    {
     "data": {
      "text/plain": [
       "(-4.517459973298983+2.8080790803114657j)"
      ]
     },
     "execution_count": 153,
     "metadata": {},
     "output_type": "execute_result"
    }
   ],
   "source": [
    "far_field([1,0,0])"
   ]
  },
  {
   "cell_type": "code",
   "execution_count": 135,
   "metadata": {},
   "outputs": [],
   "source": [
    "@bempp.api.complex_callable\n",
    "def bessel_fun(x,n,domain_index, result):\n",
    "    with objmode():\n",
    "        result[0] = spherical_hankel_function(1,x)\n",
    "    \n",
    "bessel_fun_sphere = bempp.api.GridFunction(space_sphere, fun = bessel_fun)\n",
    "bessel_grid_coeff_sphere = bessel_fun_sphere.coefficients"
   ]
  },
  {
   "cell_type": "code",
   "execution_count": 136,
   "metadata": {},
   "outputs": [],
   "source": [
    "appro_bessel_list = []\n",
    "for i in range(len(coeff_sph_wf)):\n",
    "    appro_bessel_list.append(bessel_grid_coeff_sphere @ mass_mat @ np.conj(coeff_sph_wf[i]))"
   ]
  },
  {
   "cell_type": "code",
   "execution_count": 137,
   "metadata": {},
   "outputs": [],
   "source": [
    "def bessel_appro(x):\n",
    "    fun = 0\n",
    "    i = 0\n",
    "    for q in range(deg+1):\n",
    "        for p in range(-q,q+1):\n",
    "            fun += appro_bessel_list[i]* normalized_spherical_harmonics(p, q, x)\n",
    "            i +=1\n",
    "    return fun"
   ]
  },
  {
   "cell_type": "code",
   "execution_count": 138,
   "metadata": {},
   "outputs": [
    {
     "data": {
      "text/plain": [
       "(-0.09199434488200976+0.18166934727027587j)"
      ]
     },
     "execution_count": 138,
     "metadata": {},
     "output_type": "execute_result"
    }
   ],
   "source": [
    "bessel_appro([4,0,0])"
   ]
  },
  {
   "cell_type": "code",
   "execution_count": 139,
   "metadata": {},
   "outputs": [
    {
     "data": {
      "text/plain": [
       "-0.018121739963850764"
      ]
     },
     "execution_count": 139,
     "metadata": {},
     "output_type": "execute_result"
    }
   ],
   "source": [
    "spherical_bessel_function(1,[4,0,0])"
   ]
  },
  {
   "cell_type": "code",
   "execution_count": null,
   "metadata": {},
   "outputs": [],
   "source": []
  }
 ],
 "metadata": {
  "kernelspec": {
   "display_name": "Python 3",
   "language": "python",
   "name": "python3"
  },
  "language_info": {
   "codemirror_mode": {
    "name": "ipython",
    "version": 3
   },
   "file_extension": ".py",
   "mimetype": "text/x-python",
   "name": "python",
   "nbconvert_exporter": "python",
   "pygments_lexer": "ipython3",
   "version": "3.7.0"
  }
 },
 "nbformat": 4,
 "nbformat_minor": 2
}
