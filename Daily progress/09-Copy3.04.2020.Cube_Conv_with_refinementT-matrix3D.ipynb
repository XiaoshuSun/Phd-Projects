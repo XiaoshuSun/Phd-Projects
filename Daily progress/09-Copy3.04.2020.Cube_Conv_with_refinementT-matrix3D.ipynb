{
 "cells": [
  {
   "cell_type": "markdown",
   "metadata": {},
   "source": [
    "# T-matrix computation for 3D acoustic scattering "
   ]
  },
  {
   "cell_type": "code",
   "execution_count": 2,
   "metadata": {},
   "outputs": [
    {
     "name": "stdout",
     "output_type": "stream",
     "text": [
      "0: Portable Computing Language\n",
      "    0: pthread-Intel(R) Xeon(R) W-2155 CPU @ 3.30GHz\n"
     ]
    }
   ],
   "source": [
    "import bempp.api\n",
    "import numpy as np\n",
    "import scipy\n",
    "from numba import objmode\n",
    "import numba\n",
    "import math\n",
    "import cmath\n",
    "%matplotlib inline\n",
    "import matplotlib.pyplot as plt\n",
    "from bempp.api.operators.far_field import helmholtz as helmholtz_farfield\n",
    "bempp.api.show_available_platforms_and_devices()\n",
    "bempp.api.set_default_device(0, 0)"
   ]
  },
  {
   "cell_type": "code",
   "execution_count": 9,
   "metadata": {},
   "outputs": [],
   "source": [
    "def normalized_spherical_harmonics(p, q, x):\n",
    "    \"\"\"Spherical Harmonic function of degree q\"\"\"\n",
    "    azimuth = np.arctan2(x[1],x[0])\n",
    "    polar = np.arccos(x[2]/np.linalg.norm(x))\n",
    "    if p >= 0:\n",
    "        return ((-1)**p) * scipy.special.sph_harm(p,q,azimuth,polar)\n",
    "    else:\n",
    "        return scipy.special.sph_harm(-p,q,azimuth,polar)*np.exp(1j*2*p*azimuth)\n",
    "\n",
    "def spherical_bessel_function(q,x,k):\n",
    "    \"\"\"Spherical Bessel function of degree q\"\"\"\n",
    "    r = np.linalg.norm(x)\n",
    "    return np.sqrt(np.pi/(2*k*r))*scipy.special.jv(q+0.5, k*r)\n",
    "\n",
    "def regular_spherical_wavefunctions(p,q,x,k):\n",
    "    \"\"\"Regular Spherical Wavefunction\"\"\"\n",
    "    return spherical_bessel_function(q,x,k)*normalized_spherical_harmonics(p,q,x)"
   ]
  },
  {
   "cell_type": "code",
   "execution_count": 4,
   "metadata": {},
   "outputs": [],
   "source": [
    "d = [1,0,0] # wave's travel direction\n",
    "deg = 10"
   ]
  },
  {
   "cell_type": "code",
   "execution_count": 20,
   "metadata": {},
   "outputs": [],
   "source": [
    "h = 0.2\n",
    "# far field points: unit sphere\n",
    "unit_sphere = bempp.api.shapes.sphere(r = 1, origin=(0,0,0), h = h)\n",
    "vert_sphere = unit_sphere.vertices\n",
    "space_sphere = bempp.api.function_space(unit_sphere, 'P', 1)\n",
    "\n",
    "# scatterer: sphere\n",
    "dom_cube = bempp.api.shapes.cube(length = 2/1.8, origin=(-1/1.8,-1/1.8,-1/1.8), h = h)\n",
    "vert_cube = dom_cube.vertices\n",
    "space_cube = bempp.api.function_space(dom_cube,'P',1)"
   ]
  },
  {
   "cell_type": "code",
   "execution_count": 33,
   "metadata": {},
   "outputs": [],
   "source": [
    "def KSSF(k):\n",
    "    eta = k\n",
    "\n",
    "    identity = bempp.api.operators.boundary.sparse.identity(space_cube, space_cube,space_cube)\n",
    "    slp = bempp.api.operators.boundary.helmholtz.single_layer(space_cube,space_cube,space_cube,k)\n",
    "    dlp = bempp.api.operators.boundary.helmholtz.double_layer(space_cube,space_cube,space_cube,k)\n",
    "    slp_far = helmholtz_farfield.single_layer(space_cube, vert_sphere, k)\n",
    "    dlp_far = helmholtz_farfield.double_layer(space_cube, vert_sphere,k)\n",
    "\n",
    "    lhs = 0.5 * identity + dlp - 1j* eta *slp\n",
    "\n",
    "    slp_far_field_coeff = []\n",
    "    sph_harm_coeff = []\n",
    "\n",
    "    for q in range(deg+1):\n",
    "        for p in range(-q,q+1):\n",
    "            @bempp.api.complex_callable\n",
    "            def dirichlet_fun(x,n,domain_index,result):\n",
    "                    with objmode():\n",
    "                        result[0] = - regular_spherical_wavefunctions(p,q,x,k)\n",
    "\n",
    "            rhs_fun = bempp.api.GridFunction(space_cube, fun = dirichlet_fun)\n",
    "            field, info = bempp.api.linalg.gmres(lhs, rhs_fun, tol=1E-8)\n",
    "            slp_far_field_coeff.append(dlp_far.evaluate(field) - 1j * eta * slp_far.evaluate(field))\n",
    "\n",
    "            @bempp.api.complex_callable\n",
    "            def sph_harm(x,n,domain_index,result):\n",
    "                with objmode():\n",
    "                    result[0] = normalized_spherical_harmonics(p,q,x)\n",
    "            sph_harm_grid = bempp.api.GridFunction(space_sphere,fun = sph_harm)\n",
    "            sph_harm_coeff.append(np.conj(sph_harm_grid.coefficients)/((-1j)**(q+1)))\n",
    "\n",
    "    mass_mat = bempp.api.operators.boundary.sparse.identity(space_sphere,space_sphere,space_sphere).weak_form().A\n",
    "    T_matrix = np.zeros(((deg+1)**2,(deg+1)**2),dtype = complex)\n",
    "    for i in range((deg+1)**2):\n",
    "        for j in range((deg+1)**2):\n",
    "            T_matrix[i,j] = (slp_far_field_coeff[j] @ mass_mat @ sph_harm_coeff[i])*k\n",
    "    P,L,U = scipy.linalg.lu(np.identity(T_matrix.shape[0]) + T_matrix)\n",
    "    logdet = 0\n",
    "    for i in range (T_matrix.shape[0]):\n",
    "        logdet += cmath.log(U[i,i])\n",
    "        \n",
    "    return logdet/(2*np.pi*1j)"
   ]
  },
  {
   "cell_type": "code",
   "execution_count": 34,
   "metadata": {},
   "outputs": [
    {
     "data": {
      "text/plain": [
       "(-1.5372302643453142+1.6429011071510724j)"
      ]
     },
     "execution_count": 34,
     "metadata": {},
     "output_type": "execute_result"
    }
   ],
   "source": [
    "KSSF(5)"
   ]
  },
  {
   "cell_type": "code",
   "execution_count": 38,
   "metadata": {},
   "outputs": [],
   "source": [
    "list_KSSF = []\n",
    "for k in [3,5,7,9,11]:\n",
    "    list_KSSF.append(KSSF(k))"
   ]
  },
  {
   "cell_type": "code",
   "execution_count": 41,
   "metadata": {},
   "outputs": [
    {
     "data": {
      "image/png": "[encoded data removed]",
      "text/plain": [
       "<Figure size 432x288 with 1 Axes>"
      ]
     },
     "metadata": {
      "needs_background": "light"
     },
     "output_type": "display_data"
    }
   ],
   "source": [
    "X = [x.real for x in list_KSSF]\n",
    "Y = [x.imag for x in list_KSSF]\n",
    "plt.scatter(X,Y, color='red')\n",
    "plt.show()"
   ]
  },
  {
   "cell_type": "code",
   "execution_count": 40,
   "metadata": {},
   "outputs": [
    {
     "data": {
      "text/plain": [
       "[(-0.686244502223044+0.46753590625624475j),\n",
       " (-1.5372302643453142+1.6429011071510724j),\n",
       " (-2.1409367635476984+3.624815472221511j),\n",
       " (-1.172289094354187+5.9917347981438525j),\n",
       " (-2.3338702715599564+7.348068559836775j)]"
      ]
     },
     "execution_count": 40,
     "metadata": {},
     "output_type": "execute_result"
    }
   ],
   "source": [
    "list_KSSF"
   ]
  },
  {
   "cell_type": "code",
   "execution_count": 51,
   "metadata": {},
   "outputs": [],
   "source": [
    "list_KSSF2 = [list_KSSF[0]*(2*np.pi*1j),list_KSSF[1]*(2*np.pi*1j),list_KSSF[2]*(2*np.pi*1j),list_KSSF[3]*(2*np.pi*1j),list_KSSF[4]*(2*np.pi*1j)]"
   ]
  },
  {
   "cell_type": "code",
   "execution_count": 52,
   "metadata": {},
   "outputs": [
    {
     "data": {
      "text/plain": [
       "[(-2.9376147367681296-4.311801373500599j),\n",
       " (-10.322652097600693-9.65870261068627j),\n",
       " (-22.775387316299433-13.451902416323515j),\n",
       " (-37.647180048214096-7.365709613413092j),\n",
       " (-46.169276411314684-14.664139399128748j)]"
      ]
     },
     "execution_count": 52,
     "metadata": {},
     "output_type": "execute_result"
    }
   ],
   "source": [
    "list_KSSF2"
   ]
  },
  {
   "cell_type": "code",
   "execution_count": 56,
   "metadata": {},
   "outputs": [],
   "source": [
    "list_KSSF2[0] = (list_KSSF2[0] + 2*np.pi*1j)/(2*np.pi*1j)\n",
    "list_KSSF2[1] = (list_KSSF2[1] + 4*np.pi*1j)/(2*np.pi*1j)\n",
    "list_KSSF2[2] = (list_KSSF2[2] + 5*np.pi*1j)/(2*np.pi*1j)\n",
    "list_KSSF2[3] = (list_KSSF2[3] + 3*np.pi*1j)/(2*np.pi*1j)\n",
    "list_KSSF2[4] = (list_KSSF2[4] + 5*np.pi*1j)/(2*np.pi*1j) "
   ]
  },
  {
   "cell_type": "code",
   "execution_count": 57,
   "metadata": {},
   "outputs": [
    {
     "data": {
      "text/plain": [
       "[(1.3137554977769559+0.46753590625624475j),\n",
       " (2.462769735654686+1.6429011071510724j),\n",
       " (2.8590632364523016+3.624815472221511j),\n",
       " (1.827710905645813+5.9917347981438525j),\n",
       " (2.6661297284400436+7.348068559836775j)]"
      ]
     },
     "execution_count": 57,
     "metadata": {},
     "output_type": "execute_result"
    }
   ],
   "source": [
    "list_KSSF2"
   ]
  },
  {
   "cell_type": "code",
   "execution_count": 58,
   "metadata": {},
   "outputs": [
    {
     "data": {
      "image/png": "[encoded data removed]",
      "text/plain": [
       "<Figure size 432x288 with 1 Axes>"
      ]
     },
     "metadata": {
      "needs_background": "light"
     },
     "output_type": "display_data"
    }
   ],
   "source": [
    "X2 = [x.real for x in list_KSSF2]\n",
    "Y2 = [x.imag for x in list_KSSF2]\n",
    "plt.scatter(X2,Y2, color='red')\n",
    "plt.show()"
   ]
  },
  {
   "cell_type": "code",
   "execution_count": null,
   "metadata": {},
   "outputs": [],
   "source": []
  }
 ],
 "metadata": {
  "kernelspec": {
   "display_name": "Python 3",
   "language": "python",
   "name": "python3"
  },
  "language_info": {
   "codemirror_mode": {
    "name": "ipython",
    "version": 3
   },
   "file_extension": ".py",
   "mimetype": "text/x-python",
   "name": "python",
   "nbconvert_exporter": "python",
   "pygments_lexer": "ipython3",
   "version": "3.7.0"
  }
 },
 "nbformat": 4,
 "nbformat_minor": 2
}
