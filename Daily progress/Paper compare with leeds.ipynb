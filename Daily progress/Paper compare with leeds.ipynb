{
 "cells": [
  {
   "cell_type": "code",
   "execution_count": 1,
   "metadata": {},
   "outputs": [],
   "source": [
    "import bempp.api\n",
    "from bempp.api.assembly.blocked_operator import BlockedOperator\n",
    "import math\n",
    "import numpy as np\n",
    "import scipy \n",
    "import cmath\n",
    "from numba import objmode\n",
    "from numpy.linalg import slogdet\n",
    "from bempp.api.operators.far_field import helmholtz as helmholtz_farfield\n",
    "import matplotlib.pyplot as plt\n",
    "import time"
   ]
  },
  {
   "cell_type": "code",
   "execution_count": 2,
   "metadata": {},
   "outputs": [],
   "source": [
    "N_wn = 20\n",
    "lbound_wn = 0\n",
    "ubound_wn = 10\n",
    "quad_points = np.linspace(np.exp(-ubound_wn), np.exp(-lbound_wn), N_wn)"
   ]
  },
  {
   "cell_type": "code",
   "execution_count": 3,
   "metadata": {},
   "outputs": [],
   "source": [
    "center_ = 2.0"
   ]
  },
  {
   "cell_type": "code",
   "execution_count": 4,
   "metadata": {},
   "outputs": [],
   "source": [
    "h0 = 0.03\n",
    "\n",
    "results = []\n",
    "\n",
    "sphere1 = bempp.api.shapes.sphere(h=h0, origin=(center_, 0, 0))\n",
    "sphere2 = bempp.api.shapes.sphere(h=h0, origin=(-center_, 0, 0))\n",
    "\n",
    "space_sphere1 = bempp.api.function_space(sphere1, \"P\", 1)\n",
    "space_sphere2 = bempp.api.function_space(sphere2, \"P\", 1)"
   ]
  },
  {
   "cell_type": "code",
   "execution_count": 5,
   "metadata": {},
   "outputs": [
    {
     "name": "stdout",
     "output_type": "stream",
     "text": [
      "0 4.5230486023228857e-13\n",
      "1 -2.9868473141785907e-07\n",
      "2 -4.976170613281056e-06\n",
      "3 -2.6041522625070455e-05\n",
      "4 -8.481050700328962e-05\n",
      "5 -0.0002130367561225327\n",
      "6 -0.00045421925923874826\n",
      "7 -0.0008651892419814217\n",
      "8 -0.0015180978015221687\n",
      "9 -0.0025029657649958386\n",
      "10 -0.003931019012311952\n",
      "11 -0.005939123746771846\n",
      "12 -0.008695770864929708\n",
      "13 -0.012409259495837814\n",
      "14 -0.01733903431739294\n",
      "15 -0.023811601565111917\n",
      "16 -0.03224319148179074\n",
      "17 -0.04317253916166107\n",
      "18 -0.057309168988975485\n",
      "19 -0.07560605851843825\n",
      "9044.07748246193\n"
     ]
    }
   ],
   "source": [
    "start = time.time()\n",
    "for index2, point2 in enumerate(quad_points):\n",
    "\n",
    "    wavenumber = -1j * np.log(point2)\n",
    "\n",
    "    slp11 = bempp.api.operators.boundary.helmholtz.single_layer(space_sphere1, space_sphere1, space_sphere1, wavenumber)\n",
    "    slp12 = bempp.api.operators.boundary.helmholtz.single_layer(space_sphere2 , space_sphere1, space_sphere1, wavenumber)\n",
    "    slp21 = bempp.api.operators.boundary.helmholtz.single_layer(space_sphere1, space_sphere2 , space_sphere2 , wavenumber)\n",
    "    slp22 = bempp.api.operators.boundary.helmholtz.single_layer(space_sphere2 , space_sphere2 , space_sphere2 , wavenumber)\n",
    "\n",
    "    mat11 = slp11.weak_form().A\n",
    "    mat12 = slp12.weak_form().A\n",
    "    mat21 = slp21.weak_form().A\n",
    "    mat22 = slp22.weak_form().A\n",
    "    mat12_zero = np.zeros((mat11.shape[0],mat12.shape[1]))\n",
    "    mat21_zero = np.zeros((mat22.shape[0],mat11.shape[1]))\n",
    "\n",
    "    mat = np.block([[mat11,mat12],[mat21,mat22]])  \n",
    "    mat2 = np.block([[mat11,mat12_zero],[mat21_zero,mat22]])\n",
    "\n",
    "    combined = np.linalg.inv(mat2).dot(mat)\n",
    "    sign, logdet = slogdet(combined)\n",
    "    \n",
    "    results.append(logdet)\n",
    "    print(index2, logdet)\n",
    "end = time.time()\n",
    "print(end - start)"
   ]
  },
  {
   "cell_type": "code",
   "execution_count": 6,
   "metadata": {},
   "outputs": [
    {
     "name": "stdout",
     "output_type": "stream",
     "text": [
      "0.0025318251812500112\n"
     ]
    }
   ],
   "source": [
    "print(np.trapz(-np.array(results)/quad_points, quad_points)/(2*np.pi))"
   ]
  },
  {
   "cell_type": "code",
   "execution_count": null,
   "metadata": {},
   "outputs": [],
   "source": [
    "N = 20 h = 0.03\n",
    "integral from 0 to 10\n",
    "center = 1.2 time is 11933.562218666077 and CasE is 0.07448533782808972\n",
    "center = 1.4 time is 7982.937509298325s   and CasE is 0.017155131855374216\n",
    "center = 1.6 time is  8041.89542889595s and CasE is 0.0074806214626398585\n",
    "center = 1.8 time is  7991.877442359924  and CasE is 0.004088635881154157\n",
    "center = 2.0 time is   9044.07748246193 and CasE is 0.0025318251812500112"
   ]
  }
 ],
 "metadata": {
  "kernelspec": {
   "display_name": "Python 3",
   "language": "python",
   "name": "python3"
  },
  "language_info": {
   "codemirror_mode": {
    "name": "ipython",
    "version": 3
   },
   "file_extension": ".py",
   "mimetype": "text/x-python",
   "name": "python",
   "nbconvert_exporter": "python",
   "pygments_lexer": "ipython3",
   "version": "3.7.0"
  }
 },
 "nbformat": 4,
 "nbformat_minor": 2
}
