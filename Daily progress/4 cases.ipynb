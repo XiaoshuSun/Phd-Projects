{
 "cells": [
  {
   "cell_type": "markdown",
   "metadata": {},
   "source": [
    "# T-matrix computation for 3D acoustic scattering "
   ]
  },
  {
   "cell_type": "code",
   "execution_count": 3,
   "metadata": {},
   "outputs": [],
   "source": [
    "import bempp.api\n",
    "import numpy as np\n",
    "import scipy\n",
    "from numba import objmode\n",
    "import numba\n",
    "import math\n",
    "%matplotlib inline\n",
    "import matplotlib.pyplot as plt\n",
    "from bempp.api.operators.far_field import helmholtz as helmholtz_farfield\n",
    "bempp.core.opencl_kernels.set_default_device(0,0)"
   ]
  },
  {
   "cell_type": "code",
   "execution_count": 2,
   "metadata": {},
   "outputs": [],
   "source": [
    "def normalized_spherical_harmonics(p, q, x):\n",
    "    \"\"\"Spherical Harmonic function of degree q\"\"\"\n",
    "    azimuth = np.arctan2(x[1],x[0])\n",
    "    polar = np.arccos(x[2]/np.linalg.norm(x))\n",
    "    if p >= 0:\n",
    "        return ((-1)**p) * scipy.special.sph_harm(p,q,azimuth,polar)\n",
    "    else:\n",
    "        return scipy.special.sph_harm(-p,q,azimuth,polar)*np.exp(1j*2*p*azimuth)\n",
    "\n",
    "def spherical_bessel_function(q,x):\n",
    "    \"\"\"Spherical Bessel function of degree q\"\"\"\n",
    "    r = np.linalg.norm(x)\n",
    "    return np.sqrt(np.pi/(2*k*r))*scipy.special.jv(q+0.5, k*r)\n",
    "\n",
    "def regular_spherical_wavefunctions(p,q,x):\n",
    "    \"\"\"Regular Spherical Wavefunction\"\"\"\n",
    "    return spherical_bessel_function(q,x)*normalized_spherical_harmonics(p,q,x)"
   ]
  },
  {
   "cell_type": "code",
   "execution_count": 3,
   "metadata": {},
   "outputs": [],
   "source": [
    "def coeff_sph_expansion(p,q):\n",
    "    \"\"\"Analytical formula of the coefficients of the spherical expansions of plane waves\"\"\"\n",
    "    coeff = 4*np.pi*(1j)**q*normalized_spherical_harmonics(-p,q,d)/(-1)**(abs(p))\n",
    "    return coeff"
   ]
  },
  {
   "cell_type": "code",
   "execution_count": 4,
   "metadata": {},
   "outputs": [],
   "source": [
    "def sca_far_field(x):\n",
    "    fun = 0\n",
    "    i = 0\n",
    "    for q in range(deg+1):\n",
    "        for p in range(-q,q+1):\n",
    "            fun += coeff_sca[i]*(1/k)*(-1j)**(q+1) * normalized_spherical_harmonics(p, q, x)\n",
    "            i +=1\n",
    "    return fun"
   ]
  },
  {
   "cell_type": "code",
   "execution_count": 5,
   "metadata": {},
   "outputs": [],
   "source": [
    "d = [1,0,0] # wave's travel direction\n",
    "k = 0.4 # wavenumber\n",
    "eta = k\n",
    "deg = 5"
   ]
  },
  {
   "cell_type": "code",
   "execution_count": null,
   "metadata": {},
   "outputs": [],
   "source": [
    "error_list = []\n",
    "\n",
    "for h in [0.1,0.09,0.08,0.07,0.06,0.05]:\n",
    "    # far field points: unit sphere\n",
    "    unit_sphere = bempp.api.shapes.sphere(r = 1, origin=(0,0,0), h = h)\n",
    "    vert_sphere = unit_sphere.vertices\n",
    "    space_sphere = bempp.api.function_space(unit_sphere, 'P', 1)\n",
    "\n",
    "    # scatterer: cube\n",
    "    dom_cube = bempp.api.shapes.cube(length = 2, origin=(2,-1,-1), h = h)\n",
    "    vert_cube = dom_cube.vertices\n",
    "    space_cube = bempp.api.function_space(dom_cube,'P',1)\n",
    "\n",
    "    identity = bempp.api.operators.boundary.sparse.identity(space_cube, space_cube,space_cube)\n",
    "    slp = bempp.api.operators.boundary.helmholtz.single_layer(space_cube,space_cube,space_cube,k)\n",
    "    dlp = bempp.api.operators.boundary.helmholtz.double_layer(space_cube,space_cube,space_cube,k)\n",
    "    slp_far = helmholtz_farfield.single_layer(space_cube, vert_sphere, k)\n",
    "    dlp_far = helmholtz_farfield.double_layer(space_cube, vert_sphere,k)\n",
    "\n",
    "    lhs = 0.5 * identity + dlp - 1j* eta *slp\n",
    "\n",
    "    slp_far_field_coeff = []\n",
    "    sph_harm_coeff = []\n",
    "\n",
    "    for q in range(deg+1):\n",
    "        for p in range(-q,q+1):\n",
    "            @bempp.api.complex_callable\n",
    "            def dirichlet_fun(x,n,domain_index,result):\n",
    "                    with objmode():\n",
    "                        result[0] = - regular_spherical_wavefunctions(p,q,x)\n",
    "\n",
    "            rhs_fun = bempp.api.GridFunction(space_cube, fun = dirichlet_fun)\n",
    "            field, info = bempp.api.linalg.gmres(lhs, rhs_fun, tol=1E-5)\n",
    "            slp_far_field_coeff.append(dlp_far.evaluate(field) - 1j * eta * slp_far.evaluate(field))\n",
    "\n",
    "            @bempp.api.complex_callable\n",
    "            def sph_harm(x,n,domain_index,result):\n",
    "                with objmode():\n",
    "                    result[0] = normalized_spherical_harmonics(p,q,x)\n",
    "            sph_harm_grid = bempp.api.GridFunction(space_sphere,fun = sph_harm)\n",
    "            sph_harm_coeff.append(np.conj(sph_harm_grid.coefficients)/((-1j)**(q+1)))\n",
    "\n",
    "    mass_mat = bempp.api.operators.boundary.sparse.identity(space_sphere,space_sphere,space_sphere).weak_form().A\n",
    "\n",
    "    T_matrix = np.zeros(((deg+1)**2,(deg+1)**2),dtype = complex)\n",
    "    for i in range((deg+1)**2):\n",
    "        for j in range((deg+1)**2):\n",
    "            T_matrix[i,j] = (slp_far_field_coeff[j] @ mass_mat @ sph_harm_coeff[i])*k\n",
    "\n",
    "    coeff_inc = []\n",
    "    for q in range(deg+1):\n",
    "        for p in range(-q, q+1):\n",
    "            coeff_inc.append(coeff_sph_expansion(p,q))\n",
    "\n",
    "    coeff_sca = T_matrix @ coeff_inc\n",
    "\n",
    "    far_list_test = []\n",
    "    for i in range(vert_sphere.shape[1]):\n",
    "        far_list_test.append(sca_far_field(vert_sphere[:,i]))\n",
    "\n",
    "    @bempp.api.complex_callable\n",
    "    def exact_data(x, n, domain_index, result):\n",
    "        result[0] = - np.exp(1j * k * x[0])\n",
    "\n",
    "    grid_fun = bempp.api.GridFunction(space_cube, fun=exact_data)\n",
    "    fun_exact, info_exact = bempp.api.linalg.gmres(lhs, grid_fun, tol=1E-5)\n",
    "    res_exact = dlp_far.evaluate(fun_exact) - 1j * eta * slp_far.evaluate(fun_exact)\n",
    "    err = np.sqrt((far_list_test - res_exact[0,:]) @ mass_mat @ np.conj(far_list_test - res_exact[0,:]))/np.sqrt(res_exact[0,:]@ mass_mat @ np.conj(res_exact[0,:]))\n",
    "    error_list.append(err)\n",
    "    print(h,deg,err)\n"
   ]
  },
  {
   "cell_type": "code",
   "execution_count": 6,
   "metadata": {},
   "outputs": [
    {
     "name": "stdout",
     "output_type": "stream",
     "text": [
      "0.1 5 (0.031387424944335184-3.8224860366484123e-19j)\n",
      "0.09 5 (0.0306942480028073+0j)\n",
      "0.08 5 (0.03020349958567636-5.880948134144827e-20j)\n",
      "0.07 5 (0.02970415670882703+4.603389714931466e-19j)\n",
      "0.06 5 (0.029265613487728253-2.0554417591259696e-22j)\n",
      "0.05 5 (0.028942942015575138-3.5900553985961272e-22j)\n"
     ]
    }
   ],
   "source": [
    "error_list_2items = []\n",
    "\n",
    "for h in [0.1,0.09,0.08,0.07,0.06,0.05]:\n",
    "    # far field points: unit sphere\n",
    "    unit_sphere = bempp.api.shapes.sphere(r = 1, origin=(0,0,0), h = h)\n",
    "    vert_sphere = unit_sphere.vertices\n",
    "    space_sphere = bempp.api.function_space(unit_sphere, 'P', 1)\n",
    "\n",
    "    # scatterer: cubes\n",
    "    cube1 = bempp.api.shapes.cube(length = 2, origin=(-8,-1,-1), h = h)\n",
    "    cube2 = bempp.api.shapes.cube(length = 2, origin=(2,-1,-1), h = h)\n",
    "    dom_cube = bempp.api.grid.grid.union([cube1,cube2])\n",
    "\n",
    "    vert_cube = dom_cube.vertices\n",
    "    space_cube = bempp.api.function_space(dom_cube,'P',1)\n",
    "\n",
    "    identity = bempp.api.operators.boundary.sparse.identity(space_cube, space_cube,space_cube)\n",
    "    slp = bempp.api.operators.boundary.helmholtz.single_layer(space_cube,space_cube,space_cube,k)\n",
    "    dlp = bempp.api.operators.boundary.helmholtz.double_layer(space_cube,space_cube,space_cube,k)\n",
    "    slp_far = helmholtz_farfield.single_layer(space_cube, vert_sphere, k)\n",
    "    dlp_far = helmholtz_farfield.double_layer(space_cube, vert_sphere,k)\n",
    "\n",
    "    lhs = 0.5 * identity + dlp - 1j* eta *slp\n",
    "\n",
    "    slp_far_field_coeff = []\n",
    "    sph_harm_coeff = []\n",
    "\n",
    "    for q in range(deg+1):\n",
    "        for p in range(-q,q+1):\n",
    "            @bempp.api.complex_callable\n",
    "            def dirichlet_fun(x,n,domain_index,result):\n",
    "                    with objmode():\n",
    "                        result[0] = - regular_spherical_wavefunctions(p,q,x)\n",
    "\n",
    "            rhs_fun = bempp.api.GridFunction(space_cube, fun = dirichlet_fun)\n",
    "            field, info = bempp.api.linalg.gmres(lhs, rhs_fun, tol=1E-5)\n",
    "            slp_far_field_coeff.append(dlp_far.evaluate(field) - 1j * eta * slp_far.evaluate(field))\n",
    "\n",
    "            @bempp.api.complex_callable\n",
    "            def sph_harm(x,n,domain_index,result):\n",
    "                with objmode():\n",
    "                    result[0] = normalized_spherical_harmonics(p,q,x)\n",
    "            sph_harm_grid = bempp.api.GridFunction(space_sphere,fun = sph_harm)\n",
    "            sph_harm_coeff.append(np.conj(sph_harm_grid.coefficients)/((-1j)**(q+1)))\n",
    "\n",
    "    mass_mat = bempp.api.operators.boundary.sparse.identity(space_sphere,space_sphere,space_sphere).weak_form().A\n",
    "\n",
    "    T_matrix = np.zeros(((deg+1)**2,(deg+1)**2),dtype = complex)\n",
    "    for i in range((deg+1)**2):\n",
    "        for j in range((deg+1)**2):\n",
    "            T_matrix[i,j] = (slp_far_field_coeff[j] @ mass_mat @ sph_harm_coeff[i])*k\n",
    "\n",
    "    coeff_inc = []\n",
    "    for q in range(deg+1):\n",
    "        for p in range(-q, q+1):\n",
    "            coeff_inc.append(coeff_sph_expansion(p,q))\n",
    "\n",
    "    coeff_sca = T_matrix @ coeff_inc\n",
    "\n",
    "    far_list_test = []\n",
    "    for i in range(vert_sphere.shape[1]):\n",
    "        far_list_test.append(sca_far_field(vert_sphere[:,i]))\n",
    "\n",
    "    @bempp.api.complex_callable\n",
    "    def exact_data(x, n, domain_index, result):\n",
    "        result[0] = - np.exp(1j * k * x[0])\n",
    "\n",
    "    grid_fun = bempp.api.GridFunction(space_cube, fun=exact_data)\n",
    "    fun_exact, info_exact = bempp.api.linalg.gmres(lhs, grid_fun, tol=1E-5)\n",
    "    res_exact = dlp_far.evaluate(fun_exact) - 1j * eta * slp_far.evaluate(fun_exact)\n",
    "    err = np.sqrt((far_list_test - res_exact[0,:]) @ mass_mat @ np.conj(far_list_test - res_exact[0,:]))/np.sqrt(res_exact[0,:]@ mass_mat @ np.conj(res_exact[0,:]))\n",
    "    error_list_2items.append(err)\n",
    "    print(h,deg,err)"
   ]
  },
  {
   "cell_type": "code",
   "execution_count": 8,
   "metadata": {},
   "outputs": [],
   "source": [
    "dom_cube = bempp.api.shapes.cube(length = 2, origin=(2,-1,-1), h = 0.1)"
   ]
  },
  {
   "cell_type": "code",
   "execution_count": 9,
   "metadata": {},
   "outputs": [],
   "source": [
    "bempp.api.export('cube.msh',grid = dom_cube)"
   ]
  },
  {
   "cell_type": "code",
   "execution_count": 1,
   "metadata": {},
   "outputs": [],
   "source": [
    "test_list_1cube = [0.0024261398858258145,0.0019030772254768806,0.0015271490949518949,0.001153365807478154,0.0008222656671002751,0.0005861053327622432]"
   ]
  },
  {
   "cell_type": "code",
   "execution_count": 6,
   "metadata": {},
   "outputs": [
    {
     "data": {
      "image/png": "[encoded data removed]",
      "text/plain": [
       "<Figure size 432x288 with 1 Axes>"
      ]
     },
     "metadata": {
      "needs_background": "light"
     },
     "output_type": "display_data"
    }
   ],
   "source": [
    "x_axis = [0.1,0.09,0.08,0.07,0.06,0.05]\n",
    "#fig = plt.figure()\n",
    "#ax.set_ylim(0.0004,0.001)\n",
    "plt.semilogy(x_axis,test_list_1cube,'k-*')\n",
    "\n",
    "plt.xlabel('Element diameter',fontsize = 15)\n",
    "plt.ylabel('Error by comparing the far fields',fontsize = 15)\n",
    "plt.title('T-matrix accuracy',fontsize = 15)\n",
    "plt.savefig('Converge by refining the grid-Cube deg5.pdf',bbox_inches='tight')"
   ]
  },
  {
   "cell_type": "code",
   "execution_count": null,
   "metadata": {},
   "outputs": [],
   "source": [
    "x_axis = np.linspace(0.03,0.1, num=8)\n",
    "y_axis = error_list2\n",
    "fig = plt.figure()\n",
    "ax = fig.add_subplot(111)\n",
    "ax.set_ylim(0.0005,0.007)\n",
    "plt.semilogy(x_axis,y_axis)\n",
    "for i,j in zip(x_axis,y_axis):\n",
    "    ax.annotate(str(j),xy=(i,j))\n",
    "plt.xlabel('Size of the elements on the mesh-Cube')\n",
    "plt.ylabel('Error by comparing the far fields' )\n",
    "plt.savefig('Converge by refining the grid-Cube.pdf')"
   ]
  },
  {
   "cell_type": "code",
   "execution_count": null,
   "metadata": {},
   "outputs": [],
   "source": []
  }
 ],
 "metadata": {
  "kernelspec": {
   "display_name": "Python 3",
   "language": "python",
   "name": "python3"
  },
  "language_info": {
   "codemirror_mode": {
    "name": "ipython",
    "version": 3
   },
   "file_extension": ".py",
   "mimetype": "text/x-python",
   "name": "python",
   "nbconvert_exporter": "python",
   "pygments_lexer": "ipython3",
   "version": "3.7.0"
  }
 },
 "nbformat": 4,
 "nbformat_minor": 2
}
