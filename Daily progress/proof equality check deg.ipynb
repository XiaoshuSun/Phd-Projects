{
 "cells": [
  {
   "cell_type": "code",
   "execution_count": 1,
   "metadata": {},
   "outputs": [],
   "source": [
    "import bempp.api\n",
    "from bempp.api.assembly.blocked_operator import BlockedOperator\n",
    "import math\n",
    "import numpy as np\n",
    "import scipy \n",
    "import cmath\n",
    "from numba import objmode\n",
    "from numpy.linalg import slogdet\n",
    "from bempp.api.operators.far_field import helmholtz as helmholtz_farfield\n",
    "import matplotlib.pyplot as plt\n",
    "bempp.core.opencl_kernels.set_default_device(0,0)"
   ]
  },
  {
   "cell_type": "code",
   "execution_count": 2,
   "metadata": {},
   "outputs": [],
   "source": [
    "wavenumber = 0.4\n",
    "deg = 10"
   ]
  },
  {
   "cell_type": "code",
   "execution_count": 3,
   "metadata": {},
   "outputs": [],
   "source": [
    "def normalized_spherical_harmonics(p, q, x):\n",
    "    \"\"\"Spherical Harmonic function of degree q\"\"\"\n",
    "    azimuth = np.arctan2(x[1],x[0])\n",
    "    polar = np.arccos(x[2]/np.linalg.norm(x))\n",
    "    if p >= 0:\n",
    "        return ((-1)**p) * scipy.special.sph_harm(p,q,azimuth,polar)\n",
    "    else:\n",
    "        return scipy.special.sph_harm(-p,q,azimuth,polar)*np.exp(1j*2*p*azimuth)\n",
    "\n",
    "def spherical_bessel_function(q,x):\n",
    "    \"\"\"Spherical Bessel function of degree q\"\"\"\n",
    "    r = np.linalg.norm(x)\n",
    "    return np.sqrt(np.pi/(2*wavenumber*r))*scipy.special.jv(q+0.5, wavenumber*r)\n",
    "\n",
    "def regular_spherical_wavefunctions(p,q,x):\n",
    "    \"\"\"Regular Spherical Wavefunction\"\"\"\n",
    "    return spherical_bessel_function(q,x)*normalized_spherical_harmonics(p,q,x)"
   ]
  },
  {
   "cell_type": "code",
   "execution_count": 4,
   "metadata": {},
   "outputs": [],
   "source": [
    "h = 0.08\n",
    "cube1 = bempp.api.shapes.cube(length = 2, origin=(-8,-1,-1), h = h)\n",
    "cube2 = bempp.api.shapes.cube(length = 2, origin=(2,-1,-1), h = h)\n",
    "combined_scatters = bempp.api.grid.grid.union([cube1,cube2])\n",
    "\n",
    "unit_sphere = bempp.api.shapes.sphere(r = 1, origin=(0,0,0), h = h)\n",
    "vert_unit_sphere = unit_sphere.vertices\n",
    "space_unit_sphere = bempp.api.function_space(unit_sphere, 'P', 1)\n",
    "\n",
    "space_cube1 = bempp.api.function_space(cube1, \"P\", 1)\n",
    "space_cube2 = bempp.api.function_space(cube2, \"P\", 1)\n",
    "space_combined = bempp.api.function_space(combined_scatters,'P',1)\n",
    "######################-------------set scatterers and spaces----------------#########################\n",
    "slp11 = bempp.api.operators.boundary.helmholtz.single_layer(space_cube1, space_cube1, space_cube1, wavenumber)\n",
    "slp12 = bempp.api.operators.boundary.helmholtz.single_layer(space_cube2, space_cube1, space_cube1, wavenumber)\n",
    "slp21 = bempp.api.operators.boundary.helmholtz.single_layer(space_cube1, space_cube2, space_cube2, wavenumber)\n",
    "slp22 = bempp.api.operators.boundary.helmholtz.single_layer(space_cube2, space_cube2, space_cube2, wavenumber)\n",
    "\n",
    "mat11 = slp11.weak_form().A\n",
    "mat12 = slp12.weak_form().A\n",
    "mat21 = slp21.weak_form().A\n",
    "mat22 = slp22.weak_form().A\n",
    "mat12_zero = np.zeros((mat11.shape[0],mat12.shape[1]))\n",
    "mat21_zero = np.zeros((mat22.shape[0],mat11.shape[1]))\n",
    "\n",
    "mat = np.block([[mat11,mat12],[mat21,mat22]])  \n",
    "mat2 = np.block([[mat11,mat12_zero],[mat21_zero,mat22]])\n",
    "\n",
    "p,l,u = scipy.linalg.lu(mat)\n",
    "logdet_mat = 0\n",
    "for i in range(u.shape[0]):\n",
    "    logdet_mat += cmath.log(u[i,i])\n",
    "\n",
    "p2,l2,u2 = scipy.linalg.lu(mat2)\n",
    "logdet_mat2 = 0\n",
    "for i in range(u2.shape[0]):\n",
    "    logdet_mat2 += cmath.log(u2[i,i])\n",
    "\n",
    "logdet = logdet_mat - logdet_mat2\n",
    "lhs_value = 2*np.imag(logdet)*1j"
   ]
  },
  {
   "cell_type": "code",
   "execution_count": 36,
   "metadata": {},
   "outputs": [],
   "source": [
    "eta = wavenumber\n",
    "\n",
    "identity1 = bempp.api.operators.boundary.sparse.identity(space_cube1, space_cube1, space_cube1)\n",
    "slp1 = bempp.api.operators.boundary.helmholtz.single_layer(space_cube1, space_cube1, space_cube1, wavenumber)\n",
    "dlp1 = bempp.api.operators.boundary.helmholtz.double_layer(space_cube1, space_cube1, space_cube1, wavenumber)\n",
    "slp_far1 = helmholtz_farfield.single_layer(space_cube1, vert_unit_sphere, wavenumber)\n",
    "dlp_far1 = helmholtz_farfield.double_layer(space_cube1, vert_unit_sphere, wavenumber)\n",
    "\n",
    "lhs1 = 0.5 * identity1 + dlp1 - 1j* eta *slp1\n",
    "\n",
    "identity2 = bempp.api.operators.boundary.sparse.identity(space_cube2, space_cube2, space_cube2)\n",
    "slp2 = bempp.api.operators.boundary.helmholtz.single_layer(space_cube2, space_cube2, space_cube2, wavenumber)\n",
    "dlp2 = bempp.api.operators.boundary.helmholtz.double_layer(space_cube2, space_cube2, space_cube2, wavenumber)\n",
    "slp_far2 = helmholtz_farfield.single_layer(space_cube2, vert_unit_sphere, wavenumber)\n",
    "dlp_far2 = helmholtz_farfield.double_layer(space_cube2, vert_unit_sphere, wavenumber)\n",
    "\n",
    "lhs2 = 0.5 * identity2 + dlp2 - 1j* eta *slp2\n",
    "\n",
    "identity = bempp.api.operators.boundary.sparse.identity(space_combined, space_combined, space_combined)\n",
    "slp = bempp.api.operators.boundary.helmholtz.single_layer(space_combined, space_combined, space_combined, wavenumber)\n",
    "dlp = bempp.api.operators.boundary.helmholtz.double_layer(space_combined, space_combined, space_combined, wavenumber)\n",
    "slp_far = helmholtz_farfield.single_layer(space_combined, vert_unit_sphere, wavenumber)\n",
    "dlp_far = helmholtz_farfield.double_layer(space_combined, vert_unit_sphere, wavenumber)\n",
    "\n",
    "lhs = 0.5 * identity + dlp - 1j* eta *slp\n",
    "\n",
    "sph_harm_coeff = []\n",
    "\n",
    "for q in range(deg+1):\n",
    "    for p in range(-q,q+1):\n",
    "        @bempp.api.complex_callable\n",
    "        def sph_harm(x,n,domain_index,result):\n",
    "            with objmode():\n",
    "                result[0] = normalized_spherical_harmonics(p,q,x)\n",
    "        sph_harm_grid = bempp.api.GridFunction(space_unit_sphere, fun = sph_harm)\n",
    "        sph_harm_coeff.append(np.conj(sph_harm_grid.coefficients)/((-1j)**(q+1)))\n",
    "\n",
    "mass_mat = bempp.api.operators.boundary.sparse.identity(space_unit_sphere, space_unit_sphere, space_unit_sphere).weak_form().A"
   ]
  },
  {
   "cell_type": "code",
   "execution_count": 37,
   "metadata": {},
   "outputs": [],
   "source": [
    "slp_far_field_coeff1 = []\n",
    "for q in range(deg+1):\n",
    "    for p in range(-q,q+1):\n",
    "        @bempp.api.complex_callable\n",
    "        def dirichlet_fun(x,n,domain_index,result):\n",
    "                with objmode():\n",
    "                    result[0] = - regular_spherical_wavefunctions(p,q,x)\n",
    "\n",
    "        rhs_fun1 = bempp.api.GridFunction(space_cube1, fun = dirichlet_fun)\n",
    "        field1, info1 = bempp.api.linalg.gmres(lhs1, rhs_fun1, tol=1E-8)\n",
    "        slp_far_field_coeff1.append(dlp_far1.evaluate(field1) - 1j * eta * slp_far1.evaluate(field1))"
   ]
  },
  {
   "cell_type": "code",
   "execution_count": 38,
   "metadata": {},
   "outputs": [],
   "source": [
    "slp_far_field_coeff2 = []\n",
    "for q in range(deg+1):\n",
    "    for p in range(-q,q+1):\n",
    "        @bempp.api.complex_callable\n",
    "        def dirichlet_fun(x,n,domain_index,result):\n",
    "                with objmode():\n",
    "                    result[0] = - regular_spherical_wavefunctions(p,q,x)\n",
    "        rhs_fun2 = bempp.api.GridFunction(space_cube2, fun = dirichlet_fun)\n",
    "        field2, info2 = bempp.api.linalg.gmres(lhs2, rhs_fun2, tol=1E-8)\n",
    "        slp_far_field_coeff2.append(dlp_far2.evaluate(field2) - 1j * eta * slp_far2.evaluate(field2))"
   ]
  },
  {
   "cell_type": "code",
   "execution_count": 39,
   "metadata": {},
   "outputs": [],
   "source": [
    "slp_far_field_coeff = []\n",
    "for q in range(deg+1):\n",
    "    for p in range(-q,q+1):\n",
    "        @bempp.api.complex_callable\n",
    "        def dirichlet_fun(x,n,domain_index,result):\n",
    "                with objmode():\n",
    "                    result[0] = - regular_spherical_wavefunctions(p,q,x)\n",
    "\n",
    "        rhs_fun = bempp.api.GridFunction(space_combined, fun = dirichlet_fun)\n",
    "        field, info = bempp.api.linalg.gmres(lhs, rhs_fun, tol=1E-8)\n",
    "        slp_far_field_coeff.append(dlp_far.evaluate(field) - 1j * eta * slp_far.evaluate(field))"
   ]
  },
  {
   "cell_type": "code",
   "execution_count": 40,
   "metadata": {},
   "outputs": [
    {
     "name": "stdout",
     "output_type": "stream",
     "text": [
      "0.08 10 0.004751715976007307\n"
     ]
    }
   ],
   "source": [
    "T_matrix1 = np.zeros(((deg+1)**2,(deg+1)**2),dtype = complex)\n",
    "for i in range((deg+1)**2):\n",
    "    for j in range((deg+1)**2):\n",
    "        T_matrix1[i,j] = (slp_far_field_coeff1[j] @ mass_mat @ sph_harm_coeff[i])*wavenumber\n",
    "\n",
    "T_matrix2 = np.zeros(((deg+1)**2,(deg+1)**2),dtype = complex)\n",
    "for i in range((deg+1)**2):\n",
    "    for j in range((deg+1)**2):\n",
    "        T_matrix2[i,j] = (slp_far_field_coeff2[j] @ mass_mat @ sph_harm_coeff[i])*wavenumber\n",
    "\n",
    "T_matrix = np.zeros(((deg+1)**2,(deg+1)**2),dtype = complex)\n",
    "for i in range((deg+1)**2):\n",
    "    for j in range((deg+1)**2):\n",
    "        T_matrix[i,j] = (slp_far_field_coeff[j] @ mass_mat @ sph_harm_coeff[i])*wavenumber\n",
    "\n",
    "S_matrix = np.identity(T_matrix.shape[0]) + 2*T_matrix\n",
    "S_matrix1 = np.identity(T_matrix1.shape[0]) + 2*T_matrix1\n",
    "S_matrix2 = np.identity(T_matrix2.shape[0]) + 2*T_matrix2\n",
    "\n",
    "rhs_value_S =  -(np.log(np.linalg.det(S_matrix))-(np.log(np.linalg.det(S_matrix1)) + np.log(np.linalg.det(S_matrix2))))\n",
    "\n",
    "err = np.linalg.norm((rhs_value_S - lhs_value)/lhs_value)\n",
    "print(h,deg,err)"
   ]
  },
  {
   "cell_type": "code",
   "execution_count": null,
   "metadata": {},
   "outputs": [],
   "source": [
    "0.05 5 0.0015152884285827039\n",
    "0.06 5 0.0023608329409344235\n",
    "0.07 5 0.0040233538222573025\n",
    "0.08 5 0.004636808980189945\n",
    "0.09 5 0.00770325537304249\n",
    "0.1 5 0.009538101721776717\n",
    "\n",
    "0.08 10 0.004751715976007307\n",
    "0.09 10 0.007828426053879806\n",
    "0.1 10 0.009640338861984494"
   ]
  },
  {
   "cell_type": "code",
   "execution_count": 78,
   "metadata": {},
   "outputs": [
    {
     "data": {
      "image/png": "[encoded data removed]",
      "text/plain": [
       "<Figure size 504x360 with 1 Axes>"
      ]
     },
     "metadata": {
      "needs_background": "light"
     },
     "output_type": "display_data"
    }
   ],
   "source": [
    "new_list = [0.009538101721776717, 0.00770325537304249, 0.004636808980189945, 0.0040233538222573025,  0.0023608329409344235, 0.0015152884285827039 ]\n",
    "x_list = [0.1, 0.09,0.08,0.07,0.06,0.05]\n",
    "plt.figure(figsize = (7,5))\n",
    "plt.semilogy(x_list,new_list, 'k-*')\n",
    "plt.xlabel('element size on the grid', fontsize = 18)\n",
    "plt.ylabel('relative difference between LHS & RHS', fontsize = 18)\n",
    "plt.title('2i*Im($E$) = logdet($S$) - logdet($S_{1}$) - logdet($S_{2}$)', fontsize = 15)\n",
    "plt.savefig('deg5 relative difference.pdf',bbox_inches='tight')"
   ]
  },
  {
   "cell_type": "code",
   "execution_count": null,
   "metadata": {},
   "outputs": [],
   "source": [
    "list_1 = [error_list[0],error_list[4],error_list[8],error_list[12],error_list[16],error_list[20]]\n",
    "list_2 = [error_list[1],error_list[5],error_list[9],error_list[13],error_list[17],error_list[21]]\n",
    "list_3 = [error_list[2],error_list[6],error_list[10],error_list[14],error_list[18],error_list[22]]\n",
    "list_4 = [error_list[3],error_list[7],error_list[11],error_list[15],error_list[19],error_list[23]]"
   ]
  },
  {
   "cell_type": "code",
   "execution_count": null,
   "metadata": {},
   "outputs": [],
   "source": [
    "x_axis = [5,7,9,11,13,15]\n",
    "fig = plt.figure()\n",
    "ax = fig.add_subplot(111)\n",
    "ax.set_ylim(0.004,0.1)\n",
    "plt.semilogy(x_axis,list_1,label='0.03')\n",
    "plt.semilogy(x_axis,list_2,label='0.05')\n",
    "plt.semilogy(x_axis,list_3,label='0.07')\n",
    "plt.semilogy(x_axis,list_4,label='0.09')\n",
    "plt.xlabel('Degree of spherical expansion-Cube')\n",
    "plt.ylabel('Error by comparing the far fields' )\n",
    "plt.legend()\n",
    "#plt.savefig('Converge by refining the grid3-Cube.pdf')"
   ]
  },
  {
   "cell_type": "code",
   "execution_count": null,
   "metadata": {},
   "outputs": [],
   "source": [
    "list_11 = error_list[0:4]\n",
    "list_22 = error_list[4:8]\n",
    "list_33 = error_list[8:12]\n",
    "list_44 = error_list[12:16]\n",
    "list_55 = error_list[16:20]\n",
    "list_66 = error_list[20:24]"
   ]
  },
  {
   "cell_type": "code",
   "execution_count": null,
   "metadata": {},
   "outputs": [],
   "source": [
    "x_axis_fix_deg = [0.03,0.05,0.07,0.09]\n",
    "fig = plt.figure()\n",
    "ax = fig.add_subplot(111)\n",
    "#ax.set_ylim(0.004,0.1)\n",
    "plt.semilogy(x_axis_fix_deg,list_33, 'r+-')\n",
    "#plt.semilogy(x_axis,list_2,label='0.05')\n",
    "#plt.semilogy(x_axis,list_3,label='0.07')\n",
    "#plt.semilogy(x_axis,list_4,label='0.09')\n",
    "plt.xlabel('refinment level')\n",
    "plt.ylabel('Error' )\n",
    "#plt.legend()\n",
    "#plt.savefig('Converge by refining the grid3-Cube.pdf')"
   ]
  },
  {
   "cell_type": "code",
   "execution_count": null,
   "metadata": {},
   "outputs": [],
   "source": [
    "0.1 5 0.006214741118359156"
   ]
  },
  {
   "cell_type": "code",
   "execution_count": null,
   "metadata": {},
   "outputs": [],
   "source": []
  }
 ],
 "metadata": {
  "kernelspec": {
   "display_name": "Python 3",
   "language": "python",
   "name": "python3"
  },
  "language_info": {
   "codemirror_mode": {
    "name": "ipython",
    "version": 3
   },
   "file_extension": ".py",
   "mimetype": "text/x-python",
   "name": "python",
   "nbconvert_exporter": "python",
   "pygments_lexer": "ipython3",
   "version": "3.7.0"
  }
 },
 "nbformat": 4,
 "nbformat_minor": 2
}
