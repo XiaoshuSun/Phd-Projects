{
 "cells": [
  {
   "cell_type": "markdown",
   "metadata": {},
   "source": [
    "# Complare the analytical and numerical solution of the Helmholtz problem with Dirichlet boundary condition"
   ]
  },
  {
   "cell_type": "code",
   "execution_count": 1,
   "metadata": {},
   "outputs": [],
   "source": [
    "import bempp.api\n",
    "import numpy as np\n",
    "import scipy\n",
    "from numba import objmode\n",
    "import numba\n",
    "import math\n",
    "%matplotlib inline\n",
    "import matplotlib.pyplot as plt\n",
    "bempp.core.opencl_kernels.set_default_device(0,0)"
   ]
  },
  {
   "cell_type": "code",
   "execution_count": 3,
   "metadata": {},
   "outputs": [],
   "source": [
    "d = [1,0,0] # wave's travel direction\n",
    "k = 0.4 # wavenumber\n",
    "radius = 2\n",
    "\n",
    "big_sphere = bempp.api.shapes.sphere(r = radius+0.2, origin = [0,0,0], h = h)\n",
    "vert_big_sphere = big_sphere.vertices"
   ]
  },
  {
   "cell_type": "code",
   "execution_count": 16,
   "metadata": {},
   "outputs": [
    {
     "name": "stdout",
     "output_type": "stream",
     "text": [
      "5 0.2 0.00526185562185891 0.005262169940553443\n",
      "5 0.1 0.0015148517149452128 0.0015147401883953775\n",
      "5 0.05 0.0004119371114077413 0.00041197086692920394\n",
      "10 0.2 0.0052618556533394955 0.005262169972036515\n",
      "10 0.1 0.00151485174656705 0.001514740220023193\n",
      "10 0.05 0.00041193714310318227 0.00041197089862817795\n",
      "15 0.2 0.0052618556533394955 0.005262169972036515\n",
      "15 0.1 0.00151485174656705 0.001514740220023193\n",
      "15 0.05 0.00041193714310318227 0.00041197089862817795\n",
      "20 0.2 0.0052618556533394955 0.005262169972036515\n",
      "20 0.1 0.00151485174656705 0.001514740220023193\n",
      "20 0.05 0.00041193714310318227 0.00041197089862817795\n",
      "25 0.2 0.0052618556533394955 0.005262169972036515\n",
      "25 0.1 0.00151485174656705 0.001514740220023193\n",
      "25 0.05 0.00041193714310318227 0.00041197089862817795\n",
      "30 0.2 0.0052618556533394955 0.005262169972036515\n",
      "30 0.1 0.00151485174656705 0.001514740220023193\n",
      "30 0.05 0.00041193714310318227 0.00041197089862817795\n"
     ]
    }
   ],
   "source": [
    "error_1 = []\n",
    "error_2 = []\n",
    "for num_of_truncate_term in [5,10,15,20,25,30]:\n",
    "    for h in [0.2,0.1,0.05]:\n",
    "        dom_sphere = bempp.api.shapes.sphere(r = radius, origin = [0,0,0], h = h)\n",
    "        space_sphere = bempp.api.function_space(dom_sphere, 'P', 1)\n",
    "        unit_sphere = bempp.api.shapes.sphere(r = 1, origin = [0,0,0], h = h)\n",
    "        vert_unit_sphere = unit_sphere.vertices\n",
    "        space_unit_sphere = bempp.api.function_space(unit_sphere,'P',1)\n",
    "        \n",
    "        eta = k\n",
    "        identity = bempp.api.operators.boundary.sparse.identity(space_sphere, space_sphere, space_sphere)\n",
    "        slp = bempp.api.operators.boundary.helmholtz.single_layer(space_sphere, space_sphere, space_sphere,k)\n",
    "        adlp = bempp.api.operators.boundary.helmholtz.adjoint_double_layer(space_sphere, space_sphere, space_sphere,k)\n",
    "        slp_far = bempp.api.operators.far_field.helmholtz.single_layer(space_sphere, vert_unit_sphere, k)\n",
    "\n",
    "        lhs = 0.5 * identity + adlp - 1j *eta* slp\n",
    "        \n",
    "        @bempp.api.complex_callable\n",
    "        def combined_data(x, n, domain_index, result):\n",
    "            result[0] = 1j * k * np.exp(1j * k * x[0]) * n[0] - 1j * eta * np.exp(1j * k * x[0])\n",
    "\n",
    "        grid_fun = bempp.api.GridFunction(space_sphere, fun=combined_data)\n",
    "        neumann_fun, info = bempp.api.linalg.gmres(lhs, grid_fun, tol=1E-5)\n",
    "\n",
    "        res_far = -slp_far.evaluate(neumann_fun)\n",
    "        err1 = np.linalg.norm(far_field(vert_unit_sphere[:,0]) - res_far[0,0])/np.linalg.norm(far_field(vert_unit_sphere[:,0]))\n",
    "        error_1.append(err1)\n",
    "        \n",
    "        eta2 = k\n",
    "        dlp = bempp.api.operators.boundary.helmholtz.double_layer(space_sphere,space_sphere,space_sphere,k)\n",
    "        dlp_far =  bempp.api.operators.far_field.helmholtz.double_layer(space_sphere, vert_unit_sphere,k)\n",
    "\n",
    "        lhs2 = 0.5 * identity + dlp - 1j* eta2 *slp\n",
    "        \n",
    "        @bempp.api.complex_callable\n",
    "        def data(x, n, domain_index, result):\n",
    "            result[0] = - np.exp(1j * k * x[0])\n",
    "\n",
    "        grid_fun2 = bempp.api.GridFunction(space_sphere, fun=data)\n",
    "        fun2, info2 = bempp.api.linalg.gmres(lhs2, grid_fun2, tol=1E-5)\n",
    "\n",
    "        res_far2 = dlp_far.evaluate(fun2) - 1j * eta2 * slp_far.evaluate(fun2)\n",
    "        err2 = np.linalg.norm(far_field(vert_unit_sphere[:,0]) - res_far2[0,0])/np.linalg.norm(far_field(vert_unit_sphere[:,0]))\n",
    "        error_2.append(err2)\n",
    "        print(num_of_truncate_term,h,err1,err2)"
   ]
  },
  {
   "cell_type": "code",
   "execution_count": 17,
   "metadata": {},
   "outputs": [
    {
     "data": {
      "text/plain": [
       "[0.00526185562185891,\n",
       " 0.0015148517149452128,\n",
       " 0.0004119371114077413,\n",
       " 0.0052618556533394955,\n",
       " 0.00151485174656705,\n",
       " 0.00041193714310318227,\n",
       " 0.0052618556533394955,\n",
       " 0.00151485174656705,\n",
       " 0.00041193714310318227,\n",
       " 0.0052618556533394955,\n",
       " 0.00151485174656705,\n",
       " 0.00041193714310318227,\n",
       " 0.0052618556533394955,\n",
       " 0.00151485174656705,\n",
       " 0.00041193714310318227,\n",
       " 0.0052618556533394955,\n",
       " 0.00151485174656705,\n",
       " 0.00041193714310318227]"
      ]
     },
     "execution_count": 17,
     "metadata": {},
     "output_type": "execute_result"
    }
   ],
   "source": [
    "error_1"
   ]
  },
  {
   "cell_type": "markdown",
   "metadata": {},
   "source": [
    "### Analytical solution of the scatterd field / far field pattern scattered by the incident plane wave $e^{ikx\\cdot d}$ on the unit sphere "
   ]
  },
  {
   "cell_type": "code",
   "execution_count": 12,
   "metadata": {},
   "outputs": [],
   "source": [
    "def spherical_bessel_function(q,x):\n",
    "    \"\"\"Spherical Bessel function of degree q\"\"\"\n",
    "    r = np.linalg.norm(x)\n",
    "    return np.sqrt(np.pi/(2*k*r))*scipy.special.jv(q+0.5, k*r)\n",
    "\n",
    "def spherical_hankel_function(q,x):\n",
    "    \"\"\"Spherical hankel function of degree q\"\"\"\n",
    "    r = np.linalg.norm(x)\n",
    "    return np.sqrt(np.pi/(2*k*r))*scipy.special.hankel1(q+0.5, k*r)\n",
    "\n",
    "def Legendre_poly(q, x):  \n",
    "    if(q == 0): \n",
    "        return 1 # P0 = 1 \n",
    "    elif(q == 1): \n",
    "        return x # P1 = x \n",
    "    else: \n",
    "        return ((2*q - 1) * x * Legendre_poly(q-1, x) - (q-1)*Legendre_poly(q - 2, x))/q "
   ]
  },
  {
   "cell_type": "markdown",
   "metadata": {},
   "source": [
    "#### Compare the scatterd field"
   ]
  },
  {
   "cell_type": "code",
   "execution_count": 4,
   "metadata": {},
   "outputs": [
    {
     "data": {
      "text/plain": [
       "(0.4548516231484017+0.8968920878502571j)"
      ]
     },
     "execution_count": 4,
     "metadata": {},
     "output_type": "execute_result"
    }
   ],
   "source": [
    "def scattered_field(x):\n",
    "    field = 0\n",
    "    cosine_angle = x[0]/np.linalg.norm(x)\n",
    "    for i in range(num_of_truncate_term):\n",
    "        a = -((1j)**i) * (2*i+1) * spherical_bessel_function(i,[radius,0,0]) * spherical_hankel_function(i,x) * Legendre_poly(i,cosine_angle) / spherical_hankel_function(i,[radius,0,0])\n",
    "        field += a\n",
    "    return field\n",
    "\n",
    "scattered_field(vert_big_sphere[:,0])"
   ]
  },
  {
   "cell_type": "markdown",
   "metadata": {},
   "source": [
    "#### Compare the far field"
   ]
  },
  {
   "cell_type": "code",
   "execution_count": 14,
   "metadata": {},
   "outputs": [
    {
     "data": {
      "text/plain": [
       "(-0.9341853203569978+0.3118077511365322j)"
      ]
     },
     "execution_count": 14,
     "metadata": {},
     "output_type": "execute_result"
    }
   ],
   "source": [
    "def far_field(x):\n",
    "    field = 0\n",
    "    cosine_angle = x[0]/np.linalg.norm(x)\n",
    "    for i in range(num_of_truncate_term):\n",
    "        a = (1j/k) * (2*i+1) * spherical_bessel_function(i,[radius,0,0]) * Legendre_poly(i,cosine_angle) / spherical_hankel_function(i,[radius,0,0])\n",
    "        field += a\n",
    "    return field\n",
    "\n",
    "far_field(vert_unit_sphere[:,0])"
   ]
  },
  {
   "cell_type": "code",
   "execution_count": 20,
   "metadata": {},
   "outputs": [],
   "source": [
    "@bempp.api.complex_callable\n",
    "def far_fun(x,n,domain_index,result):\n",
    "    with objmode():\n",
    "        result[0] = far_field(x)\n",
    "far_grid = bempp.api.GridFunction(space=space_unit_sphere, fun=far_fun)\n",
    "far_coeff = far_grid.coefficients"
   ]
  },
  {
   "cell_type": "code",
   "execution_count": 12,
   "metadata": {},
   "outputs": [],
   "source": [
    "deg = 5\n",
    "\n",
    "def normalized_spherical_harmonics(p, q, x):\n",
    "    \"\"\"Spherical Harmonic function of degree q\"\"\"\n",
    "    azimuth = np.arctan2(x[1],x[0])\n",
    "    polar = np.arccos(x[2]/np.linalg.norm(x))\n",
    "    if p >= 0:\n",
    "        return ((-1)**p) * scipy.special.sph_harm(p,q,azimuth,polar)\n",
    "    else:\n",
    "        return scipy.special.sph_harm(-p,q,azimuth,polar)*np.exp(1j*2*p*azimuth)\n",
    "\n",
    "sph_harm_coeff = []\n",
    "for q in range(deg+1):\n",
    "    for p in range(-q,q+1):\n",
    "        @bempp.api.complex_callable\n",
    "        def sph_harm(x,n,domain_index,result):\n",
    "            with objmode():\n",
    "                result[0] = normalized_spherical_harmonics(p,q,x)\n",
    "        sph_harm_grid = bempp.api.GridFunction(space_unit_sphere, fun = sph_harm)\n",
    "        sph_harm_coeff.append(np.conj(sph_harm_grid.coefficients)* k * ((1j)**(q+1)) )"
   ]
  },
  {
   "cell_type": "code",
   "execution_count": 21,
   "metadata": {},
   "outputs": [],
   "source": [
    "mass_mat = bempp.api.operators.boundary.sparse.identity(space_unit_sphere, space_unit_sphere, space_unit_sphere).weak_form().A\n",
    "\n",
    "test_list = []\n",
    "for i in range((deg+1)**2):\n",
    "    test_list.append(far_coeff @ mass_mat @ sph_harm_coeff[i])"
   ]
  },
  {
   "cell_type": "code",
   "execution_count": 22,
   "metadata": {},
   "outputs": [],
   "source": [
    "def sca_far_field_test(x):\n",
    "    fun = 0\n",
    "    i = 0\n",
    "    for q in range(deg+1):\n",
    "        for p in range(-q,q+1):\n",
    "            fun += test_list[i]*(1/k)*(-1j)**(q+1) * normalized_spherical_harmonics(p, q, x)\n",
    "            i +=1\n",
    "    return fun"
   ]
  },
  {
   "cell_type": "code",
   "execution_count": 23,
   "metadata": {},
   "outputs": [
    {
     "data": {
      "text/plain": [
       "(-1.347362922587048+2.1948262534192327j)"
      ]
     },
     "execution_count": 23,
     "metadata": {},
     "output_type": "execute_result"
    }
   ],
   "source": [
    "sca_far_field_test(vert_unit_sphere[:,0])"
   ]
  },
  {
   "cell_type": "markdown",
   "metadata": {},
   "source": [
    "#### Numerical experiment on finding the scattered field and far field"
   ]
  },
  {
   "cell_type": "markdown",
   "metadata": {},
   "source": [
    "Method 1"
   ]
  },
  {
   "cell_type": "code",
   "execution_count": 9,
   "metadata": {},
   "outputs": [],
   "source": [
    "eta = 0.5\n",
    "\n",
    "identity = bempp.api.operators.boundary.sparse.identity(space_sphere, space_sphere, space_sphere)\n",
    "slp = bempp.api.operators.boundary.helmholtz.single_layer(space_sphere, space_sphere, space_sphere,k)\n",
    "adlp = bempp.api.operators.boundary.helmholtz.adjoint_double_layer(space_sphere, space_sphere, space_sphere,k)\n",
    "\n",
    "slp_pot = bempp.api.operators.potential.helmholtz.single_layer(space_sphere, vert_big_sphere, k)\n",
    "slp_far = bempp.api.operators.far_field.helmholtz.single_layer(space_sphere, vert_unit_sphere, k)\n",
    "\n",
    "lhs = 0.5 * identity + adlp - 1j *eta* slp"
   ]
  },
  {
   "cell_type": "code",
   "execution_count": 10,
   "metadata": {},
   "outputs": [
    {
     "name": "stdout",
     "output_type": "stream",
     "text": [
      "(-0.7688451025888488-0.3051535820643964j) (-0.9297504949612159+0.30912696727427347j)\n"
     ]
    }
   ],
   "source": [
    "@bempp.api.complex_callable\n",
    "def combined_data(x, n, domain_index, result):\n",
    "    result[0] = 1j * k * np.exp(1j * k * x[0]) * n[0] - 1j * eta * np.exp(1j * k * x[0])\n",
    "\n",
    "grid_fun = bempp.api.GridFunction(space_sphere, fun=combined_data)\n",
    "neumann_fun, info = bempp.api.linalg.gmres(lhs, grid_fun, tol=1E-5)\n",
    "\n",
    "res_near = - slp_pot.evaluate(neumann_fun)\n",
    "res_far = -slp_far.evaluate(neumann_fun)\n",
    "\n",
    "print(res_near[0,0], res_far[0,0])"
   ]
  },
  {
   "cell_type": "code",
   "execution_count": 11,
   "metadata": {},
   "outputs": [
    {
     "data": {
      "text/plain": [
       "0.005261836889734651"
      ]
     },
     "execution_count": 11,
     "metadata": {},
     "output_type": "execute_result"
    }
   ],
   "source": [
    "np.linalg.norm(res_far[0,0] - far_field(vert_unit_sphere[:,0]))/np.linalg.norm(far_field(vert_unit_sphere[:,0]))"
   ]
  },
  {
   "cell_type": "markdown",
   "metadata": {},
   "source": [
    "Method 2 "
   ]
  },
  {
   "cell_type": "code",
   "execution_count": 117,
   "metadata": {},
   "outputs": [],
   "source": [
    "eta2 = k\n",
    "\n",
    "dlp = bempp.api.operators.boundary.helmholtz.double_layer(space_sphere,space_sphere,space_sphere,k)\n",
    "\n",
    "dlp_pot = bempp.api.operators.potential.helmholtz.double_layer(space_sphere, vert_big_sphere , k)\n",
    "dlp_far =  bempp.api.operators.far_field.helmholtz.double_layer(space_sphere, vert_unit_sphere,k)\n",
    "\n",
    "lhs2 = 0.5 * identity + dlp - 1j* eta2 *slp"
   ]
  },
  {
   "cell_type": "code",
   "execution_count": 118,
   "metadata": {},
   "outputs": [
    {
     "name": "stdout",
     "output_type": "stream",
     "text": [
      "(0.5414497471031161-0.8307398397007305j) (-9.817315335167095+45.125159140083056j)\n"
     ]
    }
   ],
   "source": [
    "@bempp.api.complex_callable\n",
    "def data(x, n, domain_index, result):\n",
    "    result[0] = - np.exp(1j * k * x[0])\n",
    "\n",
    "grid_fun2 = bempp.api.GridFunction(space_sphere, fun=data)\n",
    "fun2, info2 = bempp.api.linalg.gmres(lhs2, grid_fun2, tol=1E-5)\n",
    "\n",
    "res_near2 = dlp_pot.evaluate(fun2) - 1j * eta2 * slp_pot.evaluate(fun2)\n",
    "res_far2 = dlp_far.evaluate(fun2) - 1j * eta2 * slp_far.evaluate(fun2)\n",
    "\n",
    "print(res_near2[0,0], res_far2[0,0])"
   ]
  },
  {
   "cell_type": "markdown",
   "metadata": {},
   "source": [
    "### Compute T matrix and Check"
   ]
  },
  {
   "cell_type": "code",
   "execution_count": 78,
   "metadata": {},
   "outputs": [],
   "source": [
    "def normalized_spherical_harmonics(p, q, x):\n",
    "    \"\"\"Spherical Harmonic function of degree q\"\"\"\n",
    "    azimuth = np.arctan2(x[1],x[0])\n",
    "    polar = np.arccos(x[2]/np.linalg.norm(x))\n",
    "    if p >= 0:\n",
    "        return ((-1)**p) * scipy.special.sph_harm(p,q,azimuth,polar)\n",
    "    else:\n",
    "        return scipy.special.sph_harm(-p,q,azimuth,polar)*np.exp(1j*2*p*azimuth)\n",
    "\n",
    "def spherical_bessel_function(q,x):\n",
    "    \"\"\"Spherical Bessel function of degree q\"\"\"\n",
    "    r = np.linalg.norm(x)\n",
    "    return np.sqrt(np.pi/(2*k*r))*scipy.special.jv(q+0.5, k*r)\n",
    "\n",
    "def regular_spherical_wavefunctions(p,q,x):\n",
    "    \"\"\"Regular Spherical Wavefunction\"\"\"\n",
    "    return spherical_bessel_function(q,x)*normalized_spherical_harmonics(p,q,x)"
   ]
  },
  {
   "cell_type": "code",
   "execution_count": 79,
   "metadata": {},
   "outputs": [],
   "source": [
    "mass_mat = bempp.api.operators.boundary.sparse.identity(space_unit_sphere,space_unit_sphere,space_unit_sphere).weak_form().A"
   ]
  },
  {
   "cell_type": "code",
   "execution_count": 102,
   "metadata": {},
   "outputs": [],
   "source": [
    "deg = 10\n",
    "coeff_scattered_field = []\n",
    "for q in range(deg+1):\n",
    "    for p in range(-q,q+1):\n",
    "        @bempp.api.complex_callable\n",
    "        def sph_harm(x,n,domain_index,result):\n",
    "            with objmode():\n",
    "                result[0] = normalized_spherical_harmonics(p,q,x)\n",
    "        sph_harm_grid = bempp.api.GridFunction(space_unit_sphere,fun = sph_harm)\n",
    "        coeff_scattered_field.append(k* (1j**(q+1)) * (res_far2 @ mass_mat @ np.conj(sph_harm_grid.coefficients)))"
   ]
  },
  {
   "cell_type": "code",
   "execution_count": 81,
   "metadata": {},
   "outputs": [],
   "source": [
    "def coeff_sph_expansion(p,q):\n",
    "    \"\"\"Analytical formula of the coefficients of the spherical expansions of plane waves\"\"\"\n",
    "    coeff = 4*np.pi*(1j)**q*normalized_spherical_harmonics(-p,q,d)/(-1)**(abs(p))\n",
    "    return coeff"
   ]
  },
  {
   "cell_type": "code",
   "execution_count": 82,
   "metadata": {},
   "outputs": [],
   "source": [
    "coeff_inc = []\n",
    "for q in range(deg+1):\n",
    "    for p in range(-q, q+1):\n",
    "        coeff_inc.append(coeff_sph_expansion(p,q))"
   ]
  },
  {
   "cell_type": "code",
   "execution_count": 103,
   "metadata": {},
   "outputs": [],
   "source": [
    "slp_far_field_coeff = []\n",
    "sph_harm_coeff = []\n",
    "\n",
    "for q in range(deg+1):\n",
    "    for p in range(-q,q+1):\n",
    "        @bempp.api.complex_callable\n",
    "        def dirichlet_fun(x,n,domain_index,result):\n",
    "                with objmode():\n",
    "                    result[0] = - regular_spherical_wavefunctions(p,q,x)\n",
    "\n",
    "        rhs_fun = bempp.api.GridFunction(space_sphere, fun = dirichlet_fun)\n",
    "        field, info = bempp.api.linalg.gmres(lhs2, rhs_fun, tol=1E-5)\n",
    "        slp_far_field_coeff.append(dlp_far.evaluate(field) - 1j * eta * slp_far.evaluate(field))\n",
    "\n",
    "        @bempp.api.complex_callable\n",
    "        def sph_harm(x,n,domain_index,result):\n",
    "            with objmode():\n",
    "                result[0] = normalized_spherical_harmonics(p,q,x)\n",
    "        sph_harm_grid = bempp.api.GridFunction(space_unit_sphere,fun = sph_harm)\n",
    "        sph_harm_coeff.append(np.conj(sph_harm_grid.coefficients)/((-1j)**(q+1)))"
   ]
  },
  {
   "cell_type": "code",
   "execution_count": 104,
   "metadata": {},
   "outputs": [],
   "source": [
    "T_matrix = np.zeros(((deg+1)**2,(deg+1)**2),dtype = complex)\n",
    "for i in range((deg+1)**2):\n",
    "    for j in range((deg+1)**2):\n",
    "        T_matrix[i,j] = (slp_far_field_coeff[j] @ mass_mat @ sph_harm_coeff[i])*k"
   ]
  },
  {
   "cell_type": "code",
   "execution_count": 108,
   "metadata": {},
   "outputs": [],
   "source": [
    "def sca_far_field(x):\n",
    "    fun = 0\n",
    "    i = 0\n",
    "    for q in range(deg+1):\n",
    "        for p in range(-q,q+1):\n",
    "            fun += coeff_scattered_field[i]*(1/k)*(-1j)**(q+1) * normalized_spherical_harmonics(p, q, x)\n",
    "            i +=1\n",
    "    return fun"
   ]
  },
  {
   "cell_type": "code",
   "execution_count": 106,
   "metadata": {},
   "outputs": [],
   "source": [
    "coeff_sca = T_matrix@ coeff_inc"
   ]
  },
  {
   "cell_type": "code",
   "execution_count": 109,
   "metadata": {},
   "outputs": [
    {
     "data": {
      "text/plain": [
       "array([-0.90900834+12.12613233j])"
      ]
     },
     "execution_count": 109,
     "metadata": {},
     "output_type": "execute_result"
    }
   ],
   "source": [
    "sca_far_field(vert_unit_sphere[:,0])"
   ]
  },
  {
   "cell_type": "code",
   "execution_count": null,
   "metadata": {},
   "outputs": [],
   "source": [
    "T_matrix + np.matrix(T_matrix).getH() + 2* T_matrix @ np.matrix(T_matrix).getH()"
   ]
  },
  {
   "cell_type": "code",
   "execution_count": 110,
   "metadata": {},
   "outputs": [
    {
     "data": {
      "text/plain": [
       "(-0.1332425493384566+0.3375824005658579j)"
      ]
     },
     "execution_count": 110,
     "metadata": {},
     "output_type": "execute_result"
    }
   ],
   "source": [
    "T_matrix[3,3]"
   ]
  },
  {
   "cell_type": "code",
   "execution_count": 111,
   "metadata": {},
   "outputs": [
    {
     "data": {
      "text/plain": [
       "(-0.13324159798059848+0.3375823105443226j)"
      ]
     },
     "execution_count": 111,
     "metadata": {},
     "output_type": "execute_result"
    }
   ],
   "source": [
    "T_matrix[1,1]"
   ]
  },
  {
   "cell_type": "code",
   "execution_count": null,
   "metadata": {},
   "outputs": [],
   "source": []
  }
 ],
 "metadata": {
  "kernelspec": {
   "display_name": "Python 3",
   "language": "python",
   "name": "python3"
  },
  "language_info": {
   "codemirror_mode": {
    "name": "ipython",
    "version": 3
   },
   "file_extension": ".py",
   "mimetype": "text/x-python",
   "name": "python",
   "nbconvert_exporter": "python",
   "pygments_lexer": "ipython3",
   "version": "3.7.0"
  }
 },
 "nbformat": 4,
 "nbformat_minor": 2
}
