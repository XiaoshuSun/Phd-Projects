{
 "cells": [
  {
   "cell_type": "markdown",
   "metadata": {},
   "source": [
    "# T-matrix computation for 3D acoustic scattering "
   ]
  },
  {
   "cell_type": "code",
   "execution_count": 7,
   "metadata": {},
   "outputs": [
    {
     "name": "stdout",
     "output_type": "stream",
     "text": [
      "0: Portable Computing Language\n",
      "    0: pthread-Intel(R) Xeon(R) W-2155 CPU @ 3.30GHz\n"
     ]
    }
   ],
   "source": [
    "import bempp.api\n",
    "import numpy as np\n",
    "import scipy\n",
    "from numba import objmode\n",
    "import numba\n",
    "import math\n",
    "%matplotlib inline\n",
    "import matplotlib.pyplot as plt\n",
    "bempp.api.show_available_platforms_and_devices()\n",
    "bempp.api.set_default_device(0, 0)"
   ]
  },
  {
   "cell_type": "code",
   "execution_count": 8,
   "metadata": {},
   "outputs": [],
   "source": [
    "h = 0.05 # Size of the mesh\n",
    "d = [1,0,0] # wave's travel direction\n",
    "k = 5 # wavenumber\n",
    "\n",
    "# far field points: unit sphere\n",
    "unit_sphere = bempp.api.shapes.sphere(r = 1, origin=(0,0,0), h = h)\n",
    "vert_sphere = unit_sphere.vertices\n",
    "space_sphere = bempp.api.function_space(unit_sphere, 'P', 1)\n",
    "\n",
    "# scatterer: cube\n",
    "dom_cube = bempp.api.shapes.cube(length = 2/1.8, origin=(-1/1.8,-1/1.8,-1/1.8), h = h)\n",
    "vert_cube = dom_cube.vertices\n",
    "space_cube = bempp.api.function_space(dom_cube,'P',1)"
   ]
  },
  {
   "cell_type": "code",
   "execution_count": 9,
   "metadata": {},
   "outputs": [],
   "source": [
    "eta = k\n",
    "\n",
    "identity = bempp.api.operators.boundary.sparse.identity(space_cube, space_cube,space_cube)\n",
    "slp = bempp.api.operators.boundary.helmholtz.single_layer(space_cube,space_cube,space_cube,k)\n",
    "dlp = bempp.api.operators.boundary.helmholtz.double_layer(space_cube,space_cube,space_cube,k)\n",
    "from bempp.api.operators.far_field import helmholtz as helmholtz_farfield\n",
    "slp_far = helmholtz_farfield.single_layer(space_cube, vert_sphere, k)\n",
    "dlp_far = helmholtz_farfield.double_layer(space_cube, vert_sphere,k)\n",
    "\n",
    "lhs = 0.5 * identity + dlp - 1j* eta *slp"
   ]
  },
  {
   "cell_type": "code",
   "execution_count": 10,
   "metadata": {},
   "outputs": [],
   "source": [
    "def normalized_spherical_harmonics(p, q, x):\n",
    "    \"\"\"Spherical Harmonic function of degree q\"\"\"\n",
    "    azimuth = np.arctan2(x[1],x[0])\n",
    "    polar = np.arccos(x[2]/np.linalg.norm(x))\n",
    "    if p >= 0:\n",
    "        return ((-1)**p) * scipy.special.sph_harm(p,q,azimuth,polar)\n",
    "    else:\n",
    "        return scipy.special.sph_harm(-p,q,azimuth,polar)*np.exp(1j*2*p*azimuth)\n",
    "\n",
    "def spherical_bessel_function(q,x):\n",
    "    \"\"\"Spherical Bessel function of degree q\"\"\"\n",
    "    r = np.linalg.norm(x)\n",
    "    return np.sqrt(np.pi/(2*k*r))*scipy.special.jv(q+0.5, k*r)\n",
    "\n",
    "\n",
    "def spherical_hankel_function(q,x):\n",
    "    \"\"\"Spherical hankel function of degree q\"\"\"\n",
    "    r = np.linalg.norm(x)\n",
    "    return np.sqrt(np.pi/(2*k*r))*scipy.special.hankel1(q+0.5, k*r)\n",
    "\n",
    "def regular_spherical_wavefunctions(p,q,x):\n",
    "    \"\"\"Regular Spherical Wavefunction\"\"\"\n",
    "    return spherical_bessel_function(q,x)*normalized_spherical_harmonics(p,q,x)"
   ]
  },
  {
   "cell_type": "code",
   "execution_count": 11,
   "metadata": {},
   "outputs": [],
   "source": [
    "def coeff_sph_expansion(p,q):\n",
    "    \"\"\"Analytical formula of the coefficients of the spherical expansions of plane waves\"\"\"\n",
    "    coeff = 4*np.pi*(1j)**q*normalized_spherical_harmonics(-p,q,d)/(-1)**(abs(p))\n",
    "    return coeff"
   ]
  },
  {
   "cell_type": "code",
   "execution_count": 12,
   "metadata": {},
   "outputs": [],
   "source": [
    "def sca_far_field(x):\n",
    "    fun = 0\n",
    "    i = 0\n",
    "    for q in range(deg+1):\n",
    "        for p in range(-q,q+1):\n",
    "            fun += coeff_sca[i]*(1/k)*(-1j)**(q+1) * normalized_spherical_harmonics(p, q, x)\n",
    "            i +=1\n",
    "    return fun"
   ]
  },
  {
   "cell_type": "code",
   "execution_count": 13,
   "metadata": {},
   "outputs": [],
   "source": [
    "@bempp.api.complex_callable\n",
    "def exact_data(x, n, domain_index, result):\n",
    "    result[0] = - np.exp(1j * k * x[0])\n",
    "\n",
    "grid_fun = bempp.api.GridFunction(space_cube, fun=exact_data)\n",
    "fun_exact, info_exact = bempp.api.linalg.gmres(lhs, grid_fun, tol=1E-5)\n",
    "res_exact = dlp_far.evaluate(fun_exact) - 1j * eta * slp_far.evaluate(fun_exact)"
   ]
  },
  {
   "cell_type": "code",
   "execution_count": 15,
   "metadata": {},
   "outputs": [
    {
     "name": "stdout",
     "output_type": "stream",
     "text": [
      "3\n",
      "5\n",
      "7\n",
      "9\n",
      "11\n",
      "13\n",
      "15\n",
      "17\n",
      "19\n",
      "21\n"
     ]
    }
   ],
   "source": [
    "error_list = []\n",
    "for deg in [3,5,7,9,11,13,15,17,19,21]: \n",
    "\n",
    "    slp_far_field_coeff = []\n",
    "    sph_harm_coeff = []\n",
    "\n",
    "    for q in range(deg+1):\n",
    "        for p in range(-q,q+1):\n",
    "            @bempp.api.complex_callable\n",
    "            def dirichlet_fun(x,n,domain_index,result):\n",
    "                    with objmode():\n",
    "                        result[0] = - regular_spherical_wavefunctions(p,q,x)\n",
    "\n",
    "            rhs_fun = bempp.api.GridFunction(space_cube, fun = dirichlet_fun)\n",
    "            field, info = bempp.api.linalg.gmres(lhs, rhs_fun, tol=1E-5)\n",
    "            slp_far_field_coeff.append(dlp_far.evaluate(field) - 1j * eta * slp_far.evaluate(field))\n",
    "\n",
    "            @bempp.api.complex_callable\n",
    "            def sph_harm(x,n,domain_index,result):\n",
    "                with objmode():\n",
    "                    result[0] = normalized_spherical_harmonics(p,q,x)\n",
    "            sph_harm_grid = bempp.api.GridFunction(space_sphere,fun = sph_harm)\n",
    "            sph_harm_coeff.append(np.conj(sph_harm_grid.coefficients)/((-1j)**(q+1)))\n",
    "\n",
    "    mass_mat = bempp.api.operators.boundary.sparse.identity(space_sphere,space_sphere,space_sphere).weak_form().A\n",
    "\n",
    "    T_matrix = np.zeros(((deg+1)**2,(deg+1)**2),dtype = complex)\n",
    "    for i in range((deg+1)**2):\n",
    "        for j in range((deg+1)**2):\n",
    "            T_matrix[i,j] = (slp_far_field_coeff[j] @ mass_mat @ sph_harm_coeff[i])*k\n",
    "\n",
    "    coeff_inc = []\n",
    "    for q in range(deg+1):\n",
    "        for p in range(-q, q+1):\n",
    "            coeff_inc.append(coeff_sph_expansion(p,q))\n",
    "\n",
    "    coeff_sca = T_matrix @ coeff_inc\n",
    "\n",
    "    far_list_test = []\n",
    "    for i in range(vert_sphere.shape[1]):\n",
    "        far_list_test.append(sca_far_field(vert_sphere[:,i]))\n",
    "    error_list.append(np.sqrt((far_list_test - res_exact[0,:]) @ mass_mat @ np.conj(far_list_test - res_exact[0,:]))/np.sqrt(res_exact[0,:]@ mass_mat @ np.conj(res_exact[0,:])))\n",
    "    print(deg)"
   ]
  },
  {
   "cell_type": "code",
   "execution_count": 17,
   "metadata": {},
   "outputs": [
    {
     "data": {
      "text/plain": [
       "[(0.3683907976114885+1.036469014099597e-17j),\n",
       " (0.04260440518089696+3.167517038043295e-20j),\n",
       " (0.0031062925168209706-2.6907326503730494e-20j),\n",
       " (0.0017588338735571188-2.512966138699065e-24j),\n",
       " (0.001749872932361473-2.0275352088882487e-20j),\n",
       " (0.0017502672400866541-5.370184673591802e-21j),\n",
       " (0.0017505541888105085-1.5084196673692166e-21j),\n",
       " (0.0017508296694165805+4.5034701178785185e-21j),\n",
       " (0.001751186044701835+4.123503313526155e-21j),\n",
       " (0.001751568351955792-1.845691954522505e-20j)]"
      ]
     },
     "execution_count": 17,
     "metadata": {},
     "output_type": "execute_result"
    }
   ],
   "source": [
    "error_list"
   ]
  },
  {
   "cell_type": "code",
   "execution_count": 20,
   "metadata": {},
   "outputs": [],
   "source": [
    "error_list2 = [round(x,7) for x in np.real(error_list)]"
   ]
  },
  {
   "cell_type": "code",
   "execution_count": 21,
   "metadata": {},
   "outputs": [
    {
     "data": {
      "text/plain": [
       "[0.3683908,\n",
       " 0.0426044,\n",
       " 0.0031063,\n",
       " 0.0017588,\n",
       " 0.0017499,\n",
       " 0.0017503,\n",
       " 0.0017506,\n",
       " 0.0017508,\n",
       " 0.0017512,\n",
       " 0.0017516]"
      ]
     },
     "execution_count": 21,
     "metadata": {},
     "output_type": "execute_result"
    }
   ],
   "source": [
    "error_list2"
   ]
  },
  {
   "cell_type": "code",
   "execution_count": 23,
   "metadata": {},
   "outputs": [
    {
     "data": {
      "image/png": "[encoded data removed]",
      "text/plain": [
       "<Figure size 432x288 with 1 Axes>"
      ]
     },
     "metadata": {
      "needs_background": "light"
     },
     "output_type": "display_data"
    }
   ],
   "source": [
    "x_axis = [3,5,7,9,11,13,15,17,19,21]\n",
    "y_axis = error_list2\n",
    "fig = plt.figure()\n",
    "ax = fig.add_subplot(111)\n",
    "ax.set_ylim(0.00174,0.36)\n",
    "plt.semilogy(x_axis,y_axis)\n",
    "for i,j in zip(x_axis,y_axis):\n",
    "    ax.annotate(str(j),xy=(i,j))\n",
    "plt.xlabel('Degree of spherical expansion-Cube')\n",
    "plt.ylabel('Error by comparing the far fields' )\n",
    "plt.savefig('Converge by increasing the degree-Cube.pdf',bbox_inches = 'tight')"
   ]
  },
  {
   "cell_type": "code",
   "execution_count": 32,
   "metadata": {},
   "outputs": [
    {
     "data": {
      "image/png": "[encoded data removed]",
      "text/plain": [
       "<Figure size 432x288 with 1 Axes>"
      ]
     },
     "metadata": {
      "needs_background": "light"
     },
     "output_type": "display_data"
    }
   ],
   "source": [
    "x_axis = [3,5,7,9,11,13,15,17,19,21]\n",
    "y_axis = error_list2\n",
    "fig = plt.figure()\n",
    "ax = fig.add_subplot(111)\n",
    "ax.set_ylim(0.00174,0.36)\n",
    "plt.semilogy(x_axis,y_axis)\n",
    "plt.xlabel('Degree of spherical expansion-Cube')\n",
    "plt.ylabel('Error by comparing the far fields' )\n",
    "plt.savefig('Converge by increasing the degree-Cube1.pdf',bbox_inches = 'tight')"
   ]
  },
  {
   "cell_type": "code",
   "execution_count": null,
   "metadata": {},
   "outputs": [],
   "source": []
  }
 ],
 "metadata": {
  "kernelspec": {
   "display_name": "Python 3",
   "language": "python",
   "name": "python3"
  },
  "language_info": {
   "codemirror_mode": {
    "name": "ipython",
    "version": 3
   },
   "file_extension": ".py",
   "mimetype": "text/x-python",
   "name": "python",
   "nbconvert_exporter": "python",
   "pygments_lexer": "ipython3",
   "version": "3.7.0"
  }
 },
 "nbformat": 4,
 "nbformat_minor": 2
}
