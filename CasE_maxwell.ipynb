{
 "cells": [
  {
   "cell_type": "code",
   "execution_count": 1,
   "metadata": {},
   "outputs": [],
   "source": [
    "import bempp.api\n",
    "from bempp.api.assembly.blocked_operator import BlockedOperator\n",
    "import math\n",
    "import numpy as np\n",
    "import scipy ##\n",
    "import cmath\n",
    "from numba import objmode\n",
    "from numpy.linalg import slogdet\n",
    "from bempp.api.operators.far_field import helmholtz as helmholtz_farfield\n",
    "import matplotlib.pyplot as plt"
   ]
  },
  {
   "cell_type": "code",
   "execution_count": 2,
   "metadata": {},
   "outputs": [],
   "source": [
    "N_wn = 15\n",
    "lbound = .0008     # lower bound of k in ik\n",
    "ubound = 20   # upper bound of k in ik\n",
    "quad_points = np.linspace(np.exp(-ubound), np.exp(-lbound), N_wn)"
   ]
  },
  {
   "cell_type": "code",
   "execution_count": 4,
   "metadata": {},
   "outputs": [
    {
     "name": "stdout",
     "output_type": "stream",
     "text": [
      "-5.033088390560933e-10\n",
      "-0.01952483753663595\n",
      "-0.03647085061174629\n",
      "-0.05129071799043225\n",
      "-0.06409774828501812\n",
      "-0.0749521263262059\n",
      "-0.08392462805583249\n",
      "-0.09112700538534382\n",
      "-0.09672554855118716\n",
      "-0.10093784634613094\n",
      "-0.10401134682952871\n",
      "-0.1061863375124981\n",
      "-0.10765296153432607\n",
      "-0.10851941647798534\n",
      "-0.10881606535642255\n",
      "0.02962782239444412\n"
     ]
    }
   ],
   "source": [
    "dist = 0.5\n",
    "h = 0.2\n",
    "    \n",
    "result_ = []\n",
    "sphere1 = bempp.api.shapes.sphere(h=h, origin=((dist/2) + 1, 0, 0))\n",
    "sphere2 = bempp.api.shapes.sphere(h=h, origin=(-((dist/2) + 1), 0, 0))\n",
    "\n",
    "rwg1 = bempp.api.function_space(sphere1, \"RWG\", 0)\n",
    "rwg2 = bempp.api.function_space(sphere2, \"RWG\", 0)\n",
    "\n",
    "snc1 = bempp.api.function_space(sphere1, \"SNC\", 0)\n",
    "snc2 = bempp.api.function_space(sphere2, \"SNC\", 0)\n",
    "\n",
    "for index2, point2 in enumerate(quad_points):\n",
    "\n",
    "    wavenumber = -1j * np.log(point2)\n",
    "\n",
    "    op11 = bempp.api.operators.boundary.maxwell.electric_field(rwg1, rwg1, snc1, wavenumber)\n",
    "    op22 = bempp.api.operators.boundary.maxwell.electric_field(rwg2, rwg2, snc2, wavenumber)\n",
    "    op21 = bempp.api.operators.boundary.maxwell.electric_field(rwg1, rwg2, snc2, wavenumber)\n",
    "    op12 = bempp.api.operators.boundary.maxwell.electric_field(rwg2, rwg1, snc1, wavenumber)\n",
    "\n",
    "    mat11 = op11.weak_form().A\n",
    "    mat12 = op12.weak_form().A\n",
    "    mat21 = op21.weak_form().A\n",
    "    mat22 = op22.weak_form().A\n",
    "    mat12_zero = np.zeros((mat11.shape[0],mat12.shape[1]))\n",
    "    mat21_zero = np.zeros((mat22.shape[0],mat11.shape[1]))\n",
    "\n",
    "    mat = np.real(np.block([[mat11,mat12],[mat21,mat22]]))    \n",
    "\n",
    "    mat11_inv = scipy.linalg.lu_solve(scipy.linalg.lu_factor(mat11), np.eye(mat11.shape[0]))\n",
    "    mat22_inv = scipy.linalg.lu_solve(scipy.linalg.lu_factor(mat22), np.eye(mat22.shape[0]))\n",
    "\n",
    "    inv_free_mat2 = np.block([[mat11_inv,  mat12_zero],\n",
    "                          [mat21_zero, mat22_inv]])  \n",
    "\n",
    "    combined_inverse_free = inv_free_mat2.dot(mat)\n",
    "    sign, logdet = slogdet(combined_inverse_free)\n",
    "    print(logdet)\n",
    "    result_.append(logdet)\n",
    "\n",
    "\n",
    "print(np.trapz(-np.array(result_) / quad_points, quad_points) / (2 * np.pi))"
   ]
  },
  {
   "cell_type": "code",
   "execution_count": null,
   "metadata": {},
   "outputs": [],
   "source": [
    "CasE_05"
   ]
  },
  {
   "cell_type": "code",
   "execution_count": null,
   "metadata": {},
   "outputs": [],
   "source": [
    "CasE_15 = []\n",
    "dist = 1.5\n",
    "for h in [0.1, 0.2]:\n",
    "    \n",
    "    result_ = []\n",
    "    sphere1 = bempp.api.shapes.sphere(h=h, origin=((dist/2) + 1, 0, 0))\n",
    "    sphere2 = bempp.api.shapes.sphere(h=h, origin=(-((dist/2) + 1), 0, 0))\n",
    "\n",
    "    space_sphere1 = bempp.api.function_space(sphere1, \"P\", 1)\n",
    "    space_sphere2 = bempp.api.function_space(sphere2, \"P\", 1)\n",
    "    \n",
    "    rwg1 = bempp.api.function_space(sphere1, \"RWG\", 0)\n",
    "    rwg2 = bempp.api.function_space(sphere2, \"RWG\", 0)\n",
    "\n",
    "    snc1 = bempp.api.function_space(sphere1, \"SNC\", 0)\n",
    "    snc2 = bempp.api.function_space(sphere2, \"SNC\", 0)\n",
    "\n",
    "    for index2, point2 in enumerate(quad_points):\n",
    "        \n",
    "        wavenumber = -1j * np.log(point2)\n",
    "        \n",
    "        op11 = bempp.api.operators.boundary.maxwell.electric_field(rwg1, rwg1, snc1, wavenumber)\n",
    "        op22 = bempp.api.operators.boundary.maxwell.electric_field(rwg2, rwg2, snc2, wavenumber)\n",
    "        op21 = bempp.api.operators.boundary.maxwell.electric_field(rwg1, rwg2, snc2, wavenumber)\n",
    "        op12 = bempp.api.operators.boundary.maxwell.electric_field(rwg2, rwg1, snc1, wavenumber)\n",
    "\n",
    "        mat11 = op11.weak_form().A\n",
    "        mat12 = op12.weak_form().A\n",
    "        mat21 = op21.weak_form().A\n",
    "        mat22 = op22.weak_form().A\n",
    "        mat12_zero = np.zeros((mat11.shape[0],mat12.shape[1]))\n",
    "        mat21_zero = np.zeros((mat22.shape[0],mat11.shape[1]))\n",
    "\n",
    "        mat = np.real(np.block([[mat11,mat12],[mat21,mat22]]))    \n",
    "        \n",
    "        mat11_inv = scipy.linalg.lu_solve(scipy.linalg.lu_factor(mat11), np.eye(mat11.shape[0]))\n",
    "        mat22_inv = scipy.linalg.lu_solve(scipy.linalg.lu_factor(mat22), np.eye(mat22.shape[0]))\n",
    "\n",
    "        inv_free_mat2 = np.block([[mat11_inv,  mat12_zero],\n",
    "                              [mat21_zero, mat22_inv]])  \n",
    "\n",
    "        combined_inverse_free = inv_free_mat2.dot(mat)\n",
    "        sign, logdet = slogdet(combined_inverse_free)\n",
    "\n",
    "        result_.append(logdet)\n",
    "\n",
    "        \n",
    "    CasE_15.append(np.trapz(-np.array(result_) / quad_points, quad_points) / (2 * np.pi))"
   ]
  },
  {
   "cell_type": "code",
   "execution_count": 8,
   "metadata": {},
   "outputs": [],
   "source": [
    "CasE_30 = []\n",
    "dist = 3.0\n",
    "for h in [0.07, 0.1, 0.15, 0.2]:\n",
    "    \n",
    "    result_ = []\n",
    "    sphere1 = bempp.api.shapes.sphere(h=h, origin=((dist/2) + 1, 0, 0))\n",
    "    sphere2 = bempp.api.shapes.sphere(h=h, origin=(-((dist/2) + 1), 0, 0))\n",
    "\n",
    "    space_sphere1 = bempp.api.function_space(sphere1, \"P\", 1)\n",
    "    space_sphere2 = bempp.api.function_space(sphere2, \"P\", 1)\n",
    "    \n",
    "    rwg1 = bempp.api.function_space(sphere1, \"RWG\", 0)\n",
    "    rwg2 = bempp.api.function_space(sphere2, \"RWG\", 0)\n",
    "\n",
    "    snc1 = bempp.api.function_space(sphere1, \"SNC\", 0)\n",
    "    snc2 = bempp.api.function_space(sphere2, \"SNC\", 0)\n",
    "\n",
    "    for index2, point2 in enumerate(quad_points):\n",
    "        \n",
    "        wavenumber = -1j * np.log(point2)\n",
    "        \n",
    "        op11 = bempp.api.operators.boundary.maxwell.electric_field(rwg1, rwg1, snc1, wavenumber)\n",
    "        op22 = bempp.api.operators.boundary.maxwell.electric_field(rwg2, rwg2, snc2, wavenumber)\n",
    "        op21 = bempp.api.operators.boundary.maxwell.electric_field(rwg1, rwg2, snc2, wavenumber)\n",
    "        op12 = bempp.api.operators.boundary.maxwell.electric_field(rwg2, rwg1, snc1, wavenumber)\n",
    "\n",
    "        mat11 = op11.weak_form().A\n",
    "        mat12 = op12.weak_form().A\n",
    "        mat21 = op21.weak_form().A\n",
    "        mat22 = op22.weak_form().A\n",
    "        mat12_zero = np.zeros((mat11.shape[0],mat12.shape[1]))\n",
    "        mat21_zero = np.zeros((mat22.shape[0],mat11.shape[1]))\n",
    "\n",
    "        mat = np.real(np.block([[mat11,mat12],[mat21,mat22]]))    \n",
    "        \n",
    "        mat11_inv = scipy.linalg.lu_solve(scipy.linalg.lu_factor(mat11), np.eye(mat11.shape[0]))\n",
    "        mat22_inv = scipy.linalg.lu_solve(scipy.linalg.lu_factor(mat22), np.eye(mat22.shape[0]))\n",
    "\n",
    "        inv_free_mat2 = np.block([[mat11_inv,  mat12_zero],\n",
    "                              [mat21_zero, mat22_inv]])  \n",
    "\n",
    "        combined_inverse_free = inv_free_mat2.dot(mat)\n",
    "        sign, logdet = slogdet(combined_inverse_free)\n",
    "\n",
    "        result_.append(logdet)\n",
    "\n",
    "        \n",
    "    CasE_30.append(np.trapz(-np.array(result_) / quad_points, quad_points) / (2 * np.pi))"
   ]
  },
  {
   "cell_type": "code",
   "execution_count": 1,
   "metadata": {},
   "outputs": [],
   "source": [
    "h_007_no_comp = [0.03164283017966536, 0.0008871625716856583, 4.9183784701380487e-05]\n",
    "#h_007_comp = [0.03173806291109195, 0.000893054597962124, 4.977075078381659e-05]\n",
    "\n",
    "h_01_no_comp = [0.03136650979813624, 0.0008826770476095191, 4.837734373986177e-05]\n",
    "#h_01_comp = [0.031461118785463815, 0.0008885308319061468, 4.891414379588829e-05]\n",
    "\n",
    "h_015_no_comp = [0.030814697139107713, 0.0008739924571285974, 4.8020779241524095e-05]\n",
    "#h_015_comp = [0.030908081727642547, 0.0008797890300503931, 4.8556448360627624e-05]\n",
    "\n",
    "h_02_no_comp = [0.029898383316424543, 0.0008594678680767815, 4.7740656387931184e-05]\n",
    "#h_02_comp = [0.02998972964856685, 0.0008651752374962216, 4.8267591870668514e-05]"
   ]
  },
  {
   "cell_type": "code",
   "execution_count": 9,
   "metadata": {},
   "outputs": [
    {
     "data": {
      "text/plain": [
       "[4.909513650504551e-05,\n",
       " 4.8498725248225775e-05,\n",
       " 4.7979955232607216e-05,\n",
       " 4.7335025058883184e-05]"
      ]
     },
     "execution_count": 9,
     "metadata": {},
     "output_type": "execute_result"
    }
   ],
   "source": [
    "CasE_30"
   ]
  },
  {
   "cell_type": "code",
   "execution_count": 2,
   "metadata": {},
   "outputs": [],
   "source": [
    "CasE_05 = [0.03164283017966536, 0.03136650979813624, 0.030814697139107713, 0.029898383316424543]\n",
    "CasE_15 = [0.0008871625716856583, 0.0008826770476095191, 0.0008739924571285974, 0.0008594678680767815]\n",
    "#CasE_30 = [4.909513650504551e-05, 4.8498725248225775e-05, 4.7979955232607216e-05, 4.7335025058883184e-05]\n",
    "#CasE_30 = [4.977075078381659e-05,  4.891414379588829e-05, 4.8556448360627624e-05, 4.8267591870668514e-05]\n",
    "CasE_30 = [4.9183784701380487e-05, 4.837734373986177e-05, 4.8020779241524095e-05, 4.7740656387931184e-05]"
   ]
  },
  {
   "cell_type": "code",
   "execution_count": 3,
   "metadata": {},
   "outputs": [],
   "source": [
    "Rel_err_05 = [abs(CasE_05[0] - CasE_05[1])/CasE_05[0], abs(CasE_05[0] - CasE_05[2])/CasE_05[0], abs(CasE_05[0] - CasE_05[3])/CasE_05[0]]\n",
    "Rel_err_15 = [abs(CasE_15[0] - CasE_15[1])/CasE_15[0], abs(CasE_15[0] - CasE_15[2])/CasE_15[0], abs(CasE_15[0] - CasE_15[3])/CasE_15[0]]\n",
    "Rel_err_30 = [abs(CasE_30[0] - CasE_30[1])/CasE_30[0], abs(CasE_30[0] - CasE_30[2])/CasE_30[0], abs(CasE_30[0] - CasE_30[3])/CasE_30[0]]"
   ]
  },
  {
   "cell_type": "code",
   "execution_count": 8,
   "metadata": {},
   "outputs": [
    {
     "data": {
      "image/png": "[encoded data removed]",
      "text/plain": [
       "<Figure size 1080x432 with 2 Axes>"
      ]
     },
     "metadata": {
      "needs_background": "light"
     },
     "output_type": "display_data"
    }
   ],
   "source": [
    "fig, (ax1, ax2) = plt.subplots(1, 2, figsize=(15, 6))\n",
    "ax1.plot([0.1, 0.15, 0.2], Rel_err_05,'*-')\n",
    "ax1.set_xlabel('Grid size $h$', fontsize = 20)\n",
    "ax1.set_ylabel('Relative error', fontsize = 15)\n",
    "ax1.set_title('dist = 0.5', fontsize = 20)\n",
    "\n",
    "ax2.plot([0.1, 0.15, 0.2], Rel_err_15,'*-')\n",
    "ax2.set_xlabel('Grid size $h$', fontsize = 20)\n",
    "ax2.set_ylabel('Relative error', fontsize = 15)\n",
    "ax2.set_title('dist = 1.5', fontsize = 20)\n",
    "\n",
    "fig.tight_layout()\n",
    "fig.suptitle('Relative error in the vector case', fontsize = 25)\n",
    "fig.subplots_adjust(top=0.85)\n",
    "fig.savefig('CasE_vector.pdf')"
   ]
  },
  {
   "cell_type": "code",
   "execution_count": null,
   "metadata": {},
   "outputs": [],
   "source": []
  }
 ],
 "metadata": {
  "kernelspec": {
   "display_name": "Python 3",
   "language": "python",
   "name": "python3"
  },
  "language_info": {
   "codemirror_mode": {
    "name": "ipython",
    "version": 3
   },
   "file_extension": ".py",
   "mimetype": "text/x-python",
   "name": "python",
   "nbconvert_exporter": "python",
   "pygments_lexer": "ipython3",
   "version": "3.7.0"
  }
 },
 "nbformat": 4,
 "nbformat_minor": 2
}
