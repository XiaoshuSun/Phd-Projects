{
 "cells": [
  {
   "cell_type": "markdown",
   "metadata": {},
   "source": [
    "# Use two efficient approaches on computing Casimir energy"
   ]
  },
  {
   "cell_type": "code",
   "execution_count": 1,
   "metadata": {},
   "outputs": [],
   "source": [
    "import bempp.api\n",
    "from bempp.api.assembly.blocked_operator import BlockedOperator\n",
    "import math\n",
    "import numpy as np\n",
    "import scipy \n",
    "import cmath\n",
    "from numba import objmode\n",
    "from numpy.linalg import slogdet\n",
    "import matplotlib.pyplot as plt\n",
    "import krypy"
   ]
  },
  {
   "cell_type": "markdown",
   "metadata": {},
   "source": [
    "## Standard Arnoldi method"
   ]
  },
  {
   "cell_type": "code",
   "execution_count": 4,
   "metadata": {},
   "outputs": [],
   "source": [
    "N_wn = 20\n",
    "lbound_wn = 0\n",
    "ubound_wn = 10\n",
    "quad_points = np.linspace(np.exp(-ubound_wn), np.exp(-lbound_wn), N_wn)\n",
    "\n",
    "h = 0.1\n",
    "m = 20 # dimension of the Krylov subspace"
   ]
  },
  {
   "cell_type": "code",
   "execution_count": 5,
   "metadata": {},
   "outputs": [
    {
     "name": "stdout",
     "output_type": "stream",
     "text": [
      "(0.02428258295892194+0j)\n",
      "(0.012842834298928733+0j)\n",
      "0.007160325201778342\n",
      "(0.004460986722752892+0j)\n",
      "(0.00301833223938047+0j)\n",
      "(0.00214973140008303+0j)\n",
      "(0.0015950855620079191+0j)\n",
      "(0.0012209425782680166+0j)\n",
      "0.0009581108995228483\n",
      "0.0007677144605633957\n",
      "(0.0006265539521859659+0j)\n"
     ]
    }
   ],
   "source": [
    "for dist in np.linspace(0.5, 3, 11):\n",
    "    results = []\n",
    "\n",
    "    sphere1 = bempp.api.shapes.sphere(r = 0.5, h=h, origin=((dist/2) + 0.5, 0, 0))\n",
    "    sphere2 = bempp.api.shapes.sphere(r = 1, h=h, origin=(-((dist/2) + 1), 0, 0))\n",
    "\n",
    "    space_sphere1 = bempp.api.function_space(sphere1, \"P\", 1)\n",
    "    space_sphere2 = bempp.api.function_space(sphere2, \"P\", 1)\n",
    "\n",
    "    for index2, point2 in enumerate(quad_points):\n",
    "\n",
    "            wavenumber = -1j * np.log(point2)\n",
    "\n",
    "            slp11 = bempp.api.operators.boundary.helmholtz.single_layer(space_sphere1, space_sphere1, space_sphere1, wavenumber)\n",
    "            slp12 = bempp.api.operators.boundary.helmholtz.single_layer(space_sphere2 , space_sphere1, space_sphere1, wavenumber)\n",
    "            slp21 = bempp.api.operators.boundary.helmholtz.single_layer(space_sphere1, space_sphere2 , space_sphere2 , wavenumber)\n",
    "            slp22 = bempp.api.operators.boundary.helmholtz.single_layer(space_sphere2 , space_sphere2 , space_sphere2 , wavenumber)\n",
    "\n",
    "            mat11 = slp11.weak_form().A\n",
    "            mat12 = slp12.weak_form().A\n",
    "            mat21 = slp21.weak_form().A\n",
    "            mat22 = slp22.weak_form().A\n",
    "            mat12_zero = np.zeros((mat11.shape[0],mat12.shape[1]))\n",
    "            mat21_zero = np.zeros((mat22.shape[0],mat11.shape[1]))\n",
    "\n",
    "            mat = np.block([[mat11,mat12],[mat21,mat22]])  \n",
    "            mat11_inv = scipy.linalg.lu_solve(scipy.linalg.lu_factor(mat11), np.eye(mat11.shape[0]))\n",
    "            mat22_inv = scipy.linalg.lu_solve(scipy.linalg.lu_factor(mat22), np.eye(mat22.shape[0]))\n",
    "\n",
    "            inv_free_mat2 = np.block([[mat11_inv,  mat12_zero],\n",
    "                                  [mat21_zero, mat22_inv]])  \n",
    "\n",
    "            combined_inverse_free = inv_free_mat2.dot(mat)\n",
    "            evals_inv_free, evect_inv_free = np.linalg.eig(combined_inverse_free)\n",
    "            n = mat.shape[0]\n",
    "            X_combined, H_combined = krypy.utils.arnoldi(combined_inverse_free, (np.ones(n)/np.linalg.norm(np.ones(n))).reshape((n,1)), maxiter = m,  ortho='dmgs')\n",
    "            evals_H, evect_H = np.linalg.eig(H_combined[0:m, :])  \n",
    "\n",
    "            method1_logdet = 0\n",
    "            for i in range(len(evals_H)):\n",
    "                method1_logdet += np.log(evals_H[i])\n",
    "\n",
    "            results.append(method1_logdet)\n",
    "\n",
    "    print(np.trapz(-np.array(results)/quad_points, quad_points)/(2*np.pi))"
   ]
  }
 ],
 "metadata": {
  "kernelspec": {
   "display_name": "Python 3",
   "language": "python",
   "name": "python3"
  },
  "language_info": {
   "codemirror_mode": {
    "name": "ipython",
    "version": 3
   },
   "file_extension": ".py",
   "mimetype": "text/x-python",
   "name": "python",
   "nbconvert_exporter": "python",
   "pygments_lexer": "ipython3",
   "version": "3.7.0"
  }
 },
 "nbformat": 4,
 "nbformat_minor": 2
}
