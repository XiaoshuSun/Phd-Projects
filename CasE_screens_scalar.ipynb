{
 "cells": [
  {
   "cell_type": "code",
   "execution_count": 1,
   "metadata": {},
   "outputs": [],
   "source": [
    "import bempp.api\n",
    "from bempp.api.assembly.blocked_operator import BlockedOperator\n",
    "import math\n",
    "import numpy as np\n",
    "import scipy \n",
    "import cmath\n",
    "from numba import objmode\n",
    "from numpy.linalg import slogdet\n",
    "import matplotlib.pyplot as plt"
   ]
  },
  {
   "cell_type": "code",
   "execution_count": 19,
   "metadata": {},
   "outputs": [],
   "source": [
    "bempp.api.GLOBAL_PARAMETERS.quadrature.regular = 1"
   ]
  },
  {
   "cell_type": "code",
   "execution_count": 24,
   "metadata": {},
   "outputs": [],
   "source": [
    "length_ = 1 # length of each screen\n",
    "width_ = 1  # width of each screen\n",
    "dist_ = 0.25 # distance between the screens\n",
    "h = 0.05 # grid size\n",
    "\n",
    "corners1 = np.array([ [-0.5*width_, -0.5*length_, 0.5*dist_],\n",
    "                     [-0.5*width_,  0.5*length_, 0.5*dist_],\n",
    "                     [0.5*width_,   0.5*length_, 0.5*dist_],\n",
    "                     [0.5*width_,  -0.5*length_, 0.5*dist_]])\n",
    "corners2 = np.array([ [-0.5*width_, -0.5*length_, -0.5*dist_],\n",
    "                     [-0.5*width_,  0.5*length_, -0.5*dist_],\n",
    "                     [0.5*width_,   0.5*length_, -0.5*dist_],\n",
    "                     [0.5*width_,  -0.5*length_, -0.5*dist_]])\n",
    "grid1 = bempp.api.shapes.screen(corners1, h = h)\n",
    "grid2 = bempp.api.shapes.screen(corners2, h = h)\n",
    "\n",
    "space1 = bempp.api.function_space(grid1, \"P\", 1)\n",
    "space2 = bempp.api.function_space(grid2, \"P\", 1)"
   ]
  },
  {
   "cell_type": "code",
   "execution_count": 25,
   "metadata": {},
   "outputs": [],
   "source": [
    "N_wn = 15\n",
    "lbound_wn = 0\n",
    "ubound_wn = 30\n",
    "quad_points = np.linspace(np.exp(-ubound_wn), np.exp(-lbound_wn), N_wn)\n",
    "results = np.empty(N_wn, dtype='float64')"
   ]
  },
  {
   "cell_type": "code",
   "execution_count": 26,
   "metadata": {},
   "outputs": [
    {
     "name": "stdout",
     "output_type": "stream",
     "text": [
      "-1.0244989346971554\n"
     ]
    }
   ],
   "source": [
    "#wavenumber = 1j * (-np.log(quad_points[0]))\n",
    "wavenumber = 0 * 1j\n",
    "\n",
    "slp11 = bempp.api.operators.boundary.helmholtz.single_layer(space1, space1, space1, wavenumber)\n",
    "slp12 = bempp.api.operators.boundary.helmholtz.single_layer(space2, space1, space1, wavenumber)\n",
    "slp21 = bempp.api.operators.boundary.helmholtz.single_layer(space1, space2, space2, wavenumber)\n",
    "slp22 = bempp.api.operators.boundary.helmholtz.single_layer(space2, space2, space2, wavenumber)\n",
    "\n",
    "mat11 = slp11.weak_form().A\n",
    "mat12 = slp12.weak_form().A\n",
    "mat21 = slp21.weak_form().A\n",
    "mat22 = slp22.weak_form().A\n",
    "mat12_zero = np.zeros((mat11.shape[0],mat12.shape[1]))\n",
    "mat21_zero = np.zeros((mat22.shape[0],mat11.shape[1]))\n",
    "\n",
    "mat = np.block([[mat11,mat12],[mat21,mat22]])  \n",
    "mat11_inv = scipy.linalg.lu_solve(scipy.linalg.lu_factor(mat11), np.eye(mat11.shape[0]))\n",
    "mat22_inv = scipy.linalg.lu_solve(scipy.linalg.lu_factor(mat22), np.eye(mat22.shape[0]))\n",
    "\n",
    "inv_free_mat2 = np.block([[mat11_inv,  mat12_zero],\n",
    "                      [mat21_zero, mat22_inv]])  \n",
    "\n",
    "combined_inverse_free = inv_free_mat2.dot(mat)\n",
    "sign, logdet = slogdet(combined_inverse_free)\n",
    "\n",
    "print(logdet)"
   ]
  },
  {
   "cell_type": "code",
   "execution_count": 28,
   "metadata": {},
   "outputs": [
    {
     "data": {
      "text/plain": [
       "array([[9.49070704e-07, 4.28260506e-07, 3.77385671e-07, ...,\n",
       "        1.92586801e-07, 5.94107014e-07, 1.77742437e-07],\n",
       "       [4.28260506e-07, 1.47275882e-06, 6.49067151e-07, ...,\n",
       "        2.62630080e-07, 3.46569538e-07, 3.30680949e-07],\n",
       "       [3.77385671e-07, 6.49067151e-07, 2.10509865e-06, ...,\n",
       "        7.40049696e-07, 2.68411433e-07, 9.28410553e-07],\n",
       "       ...,\n",
       "       [1.92586801e-07, 2.62630080e-07, 7.40049696e-07, ...,\n",
       "        5.35759481e-07, 1.31829832e-07, 2.95714765e-07],\n",
       "       [5.94107014e-07, 3.46569538e-07, 2.68411433e-07, ...,\n",
       "        1.31829832e-07, 4.68737290e-07, 1.27932206e-07],\n",
       "       [1.77742437e-07, 3.30680949e-07, 9.28410553e-07, ...,\n",
       "        2.95714765e-07, 1.27932206e-07, 4.50504667e-07]])"
      ]
     },
     "execution_count": 28,
     "metadata": {},
     "output_type": "execute_result"
    }
   ],
   "source": [
    "mat12"
   ]
  },
  {
   "cell_type": "code",
   "execution_count": 18,
   "metadata": {},
   "outputs": [
    {
     "data": {
      "text/plain": [
       "array([[4.78336772e-07, 3.63576637e-07, 3.43142421e-07, ...,\n",
       "        1.74567324e-07, 3.25101853e-07, 1.60907783e-07],\n",
       "       [3.63576637e-07, 7.44186162e-07, 5.49207300e-07, ...,\n",
       "        2.34216080e-07, 2.81641063e-07, 2.71133892e-07],\n",
       "       [3.43142421e-07, 5.49207300e-07, 1.06630958e-06, ...,\n",
       "        4.75260899e-07, 2.43644750e-07, 4.85258865e-07],\n",
       "       ...,\n",
       "       [1.74567324e-07, 2.34216080e-07, 4.75260899e-07, ...,\n",
       "        2.69509352e-07, 1.20107187e-07, 2.05500161e-07],\n",
       "       [3.25101853e-07, 2.81641063e-07, 2.43644750e-07, ...,\n",
       "        1.20107187e-07, 2.35702383e-07, 1.15345207e-07],\n",
       "       [1.60907783e-07, 2.71133892e-07, 4.85258865e-07, ...,\n",
       "        2.05500161e-07, 1.15345207e-07, 2.26512671e-07]])"
      ]
     },
     "execution_count": 18,
     "metadata": {},
     "output_type": "execute_result"
    }
   ],
   "source": [
    "mat12"
   ]
  },
  {
   "cell_type": "markdown",
   "metadata": {},
   "source": [
    "ik = 0i\n",
    "h = 0.05\n",
    "4  -0.31670537174582625\n",
    "6  -0.31670501857400957\n",
    "8  -0.3167050124858009\n",
    "10 -0.31670501148067065\n",
    "\n",
    "ik = 0.8i\n",
    "h = 0.05\n",
    "4  -0.17746836634342386\n",
    "6  -0.17746812644927373\n",
    "8  -0.1774681224783512\n",
    "10 -0.1774681218836629\n",
    "\n",
    "ik = 20i\n",
    "4  -5.906269362518298e-09\n",
    "6  -5.90619908540084e-09\n",
    "8  -5.906164557464773e-09\n",
    "10 -5.906174438449691e-09"
   ]
  },
  {
   "cell_type": "code",
   "execution_count": 188,
   "metadata": {},
   "outputs": [
    {
     "name": "stdout",
     "output_type": "stream",
     "text": [
      "Log Determinant: 0: 4.629630012686902e-13\n",
      "Log Determinant: 1: -0.04414939776395672\n",
      "Log Determinant: 2: -0.0764628930180869\n",
      "Log Determinant: 3: -0.1046254984526845\n",
      "Log Determinant: 4: -0.13020693566035788\n",
      "Log Determinant: 5: -0.15393788032498343\n",
      "Log Determinant: 6: -0.1762421645315886\n",
      "Log Determinant: 7: -0.19739650241583712\n",
      "Log Determinant: 8: -0.21759575223036548\n",
      "Log Determinant: 9: -0.23698462739180012\n",
      "Log Determinant: 10: -0.25567496742702517\n",
      "Log Determinant: 11: -0.2737559454977187\n",
      "Log Determinant: 12: -0.29130048596450014\n",
      "Log Determinant: 13: -0.30836950005878666\n",
      "Log Determinant: 14: -0.32501479364147284\n"
     ]
    }
   ],
   "source": [
    "for index, point in enumerate(quad_points):\n",
    "\n",
    "    wavenumber = -1j * np.log(point)\n",
    "\n",
    "    slp11 = bempp.api.operators.boundary.helmholtz.single_layer(space1, space1, space1, wavenumber)\n",
    "    slp12 = bempp.api.operators.boundary.helmholtz.single_layer(space2, space1, space1, wavenumber)\n",
    "    slp21 = bempp.api.operators.boundary.helmholtz.single_layer(space1, space2, space2, wavenumber)\n",
    "    slp22 = bempp.api.operators.boundary.helmholtz.single_layer(space2, space2, space2, wavenumber)\n",
    "\n",
    "    mat11 = slp11.weak_form().A\n",
    "    mat12 = slp12.weak_form().A\n",
    "    mat21 = slp21.weak_form().A\n",
    "    mat22 = slp22.weak_form().A\n",
    "    mat12_zero = np.zeros((mat11.shape[0],mat12.shape[1]))\n",
    "    mat21_zero = np.zeros((mat22.shape[0],mat11.shape[1]))\n",
    "\n",
    "    mat = np.block([[mat11,mat12],[mat21,mat22]])  \n",
    "    mat11_inv = scipy.linalg.lu_solve(scipy.linalg.lu_factor(mat11), np.eye(mat11.shape[0]))\n",
    "    mat22_inv = scipy.linalg.lu_solve(scipy.linalg.lu_factor(mat22), np.eye(mat22.shape[0]))\n",
    "\n",
    "    inv_free_mat2 = np.block([[mat11_inv,  mat12_zero],\n",
    "                          [mat21_zero, mat22_inv]])  \n",
    "\n",
    "    combined_inverse_free = inv_free_mat2.dot(mat)\n",
    "    sign, logdet = slogdet(combined_inverse_free)\n",
    "    \n",
    "    results[index] = logdet\n",
    "    print(f\"Log Determinant: {index}: {logdet}\")"
   ]
  },
  {
   "cell_type": "code",
   "execution_count": 189,
   "metadata": {},
   "outputs": [
    {
     "data": {
      "image/png": "[encoded data removed]",
      "text/plain": [
       "<Figure size 432x288 with 2 Axes>"
      ]
     },
     "metadata": {
      "needs_background": "light"
     },
     "output_type": "display_data"
    }
   ],
   "source": [
    "%matplotlib inline\n",
    "from matplotlib.pyplot import figure\n",
    "\n",
    "fig = figure()\n",
    "ax1 = fig.add_subplot(121)\n",
    "ax1.set_xlabel('1j * k')\n",
    "ax2 = fig.add_subplot(122)\n",
    "ax2.set_xlabel('exp(-k)')\n",
    "ax1.plot(-np.log(quad_points), -results, '*')\n",
    "ax2.plot(quad_points, -results)\n",
    "fig.tight_layout()"
   ]
  },
  {
   "cell_type": "code",
   "execution_count": 190,
   "metadata": {},
   "outputs": [
    {
     "name": "stdout",
     "output_type": "stream",
     "text": [
      "The normalized Casimir Energy is: 0.03581990216858237\n",
      "The normalized Casimir Energy per unit area is: 0.03581990216858237\n"
     ]
    }
   ],
   "source": [
    "casimir_energy = np.trapz(-results / quad_points, quad_points) / (2 * np.pi)\n",
    "print(f\"The normalized Casimir Energy is: {casimir_energy}\")\n",
    "\n",
    "area_ = length_ * width_\n",
    "casimir_energy_unit_area = casimir_energy/area_\n",
    "print(f\"The normalized Casimir Energy per unit area is: {casimir_energy_unit_area}\")"
   ]
  },
  {
   "cell_type": "markdown",
   "metadata": {},
   "source": [
    "The following paper states the Casimir energy between two perfectly conducting plates at a distance $a$ is:\n",
    "\n",
    "$$\\mathcal{E}_{\\text{per unit area}}(a) = \\frac{1}{2}\\frac{\\pi^{2}}{720}\\frac{1}{a^{3}}$$\n",
    "\n",
    "https://iopscience.iop.org/article/10.1088/1126-6708/2003/06/018/pdf?casa_token=lsiQlkbo0DQAAAAA:sDu0bRRkVhtihAFr3TrMvPw5yHmJeTAKXwWN59jyzKqZqh0PCE1-QuGkebrkYN13rHwq40nP"
   ]
  },
  {
   "cell_type": "code",
   "execution_count": 191,
   "metadata": {},
   "outputs": [
    {
     "name": "stdout",
     "output_type": "stream",
     "text": [
      "0.03581990216858237 0.05483113556160754\n"
     ]
    }
   ],
   "source": [
    "ref_ = 0.5 * (np.pi**2) /(720*(dist_**3))\n",
    "print(casimir_energy_unit_area, ref_)"
   ]
  },
  {
   "cell_type": "code",
   "execution_count": 192,
   "metadata": {},
   "outputs": [
    {
     "name": "stdout",
     "output_type": "stream",
     "text": [
      "0.3467233205787686\n"
     ]
    }
   ],
   "source": [
    "err_ = abs(casimir_energy_unit_area - ref_)/ref_\n",
    "print(err_)"
   ]
  },
  {
   "cell_type": "markdown",
   "metadata": {},
   "source": [
    "    length * width    distance       grid size     exact                       Approx                        error\n",
    "\n",
    "      1*1              1.5             0.1    0.002030782798578057      0.002814171205065016           0.38575686530114556\n",
    "      3*3              1.5             0.1                              0.0025375789874001763          0.24955706202405062\n",
    "      5*5              1.5             0.1                              0.0023586152885156143          0.16143158695607612\n",
    "      7*7              1.5             0.1                              0.002271237346129418           0.11840485733862122\n",
    "      10*10            1.5             0.1                              0.0022016075259544284          0.08411767496552654\n",
    "      \n",
    "      1*1              1.5             0.05                             0.0030144312624035443          0.4843691134838411\n",
    "      3*3              1.5             0.05                             0.002594527382902751           0.27759964518087543\n",
    "      5*5              1.5             0.05                             0.0023925234828681605          0.17812869231677178\n",
    "      7*7              1.5             0.05                             0.0022945624595855432          0.12989063192389813          \n",
    "\n",
    "      \n",
    "      1*1              0.5             0.1    0.05483113556160754       0.07362666026678472            0.3427892658553236\n",
    "      3*3              0.5             0.1                              0.07102641709570322            0.2953665170019846\n",
    "      5*5              0.5             0.1                              0.07017040835847826            0.2797547896784979\n",
    "      7*7              0.5             0.1                              0.06981345844640315            0.2732448039118516\n",
    "      10*10            0.5             0.1                              0.06952916524473379            0.268059917646822\n",
    "      \n",
    "      1*1              0.5             0.05                             0.07846145209164035            0.43096529531988437\n",
    "      3*3              0.5             0.05                             0.07262476226525072            0.3245168374025465\n",
    "      \n",
    "      "
   ]
  },
  {
   "cell_type": "code",
   "execution_count": null,
   "metadata": {},
   "outputs": [],
   "source": [
    "Log Determinant: 0: -5.906278133280193e-09\n",
    "Log Determinant: 1: -0.04283687908115191\n",
    "Log Determinant: 2: -0.07423348819106923\n",
    "Log Determinant: 3: -0.10162196420032935\n",
    "Log Determinant: 4: -0.1265193992861447\n",
    "Log Determinant: 5: -0.14963184542838487\n",
    "Log Determinant: 6: -0.17136880172596944\n",
    "Log Determinant: 7: -0.1919975952174648\n",
    "Log Determinant: 8: -0.21170645138606625\n",
    "Log Determinant: 9: -0.23063513736569127\n",
    "Log Determinant: 10: -0.24889164987237247\n",
    "Log Determinant: 11: -0.26656207731487164\n",
    "Log Determinant: 12: -0.2837167996079831\n",
    "Log Determinant: 13: -0.3004145796603663\n",
    "Log Determinant: 14: -0.3167053717458566"
   ]
  },
  {
   "cell_type": "code",
   "execution_count": 104,
   "metadata": {},
   "outputs": [
    {
     "data": {
      "text/plain": [
       "array([20.        ,  2.6390573 ,  1.94591014,  1.54044503,  1.25276296,\n",
       "        1.02961941,  0.84729786,  0.69314718,  0.55961579,  0.44183275,\n",
       "        0.33647224,  0.24116206,  0.15415068,  0.07410797, -0.        ])"
      ]
     },
     "execution_count": 104,
     "metadata": {},
     "output_type": "execute_result"
    }
   ],
   "source": [
    "-np.log(quad_points)"
   ]
  },
  {
   "cell_type": "code",
   "execution_count": null,
   "metadata": {},
   "outputs": [],
   "source": [
    "Log Determinant: 0: -7.593925488436077e-14\n",
    "Log Determinant: 1: -0.042836878158210315\n",
    "Log Determinant: 2: -0.07423348747347289\n",
    "Log Determinant: 3: -0.10162196361114673\n",
    "Log Determinant: 4: -0.12651939879315516\n",
    "Log Determinant: 5: -0.14963184501329477\n",
    "Log Determinant: 6: -0.17136880137733604\n",
    "Log Determinant: 7: -0.19199759492680069\n",
    "Log Determinant: 8: -0.21170645114754078\n",
    "Log Determinant: 9: -0.23063513717410303\n",
    "Log Determinant: 10: -0.24889164972440697\n",
    "Log Determinant: 11: -0.26656207720723546\n",
    "Log Determinant: 12: -0.28371679953827533\n",
    "Log Determinant: 13: -0.30041457962639867\n",
    "Log Determinant: 14: -0.3167053717458566"
   ]
  },
  {
   "cell_type": "code",
   "execution_count": 109,
   "metadata": {},
   "outputs": [
    {
     "data": {
      "text/plain": [
       "array([40.        ,  2.63905733,  1.94591015,  1.54044504,  1.25276297,\n",
       "        1.02961942,  0.84729786,  0.69314718,  0.55961579,  0.44183275,\n",
       "        0.33647224,  0.24116206,  0.15415068,  0.07410797, -0.        ])"
      ]
     },
     "execution_count": 109,
     "metadata": {},
     "output_type": "execute_result"
    }
   ],
   "source": [
    "-np.log(quad_points)"
   ]
  },
  {
   "cell_type": "code",
   "execution_count": 121,
   "metadata": {},
   "outputs": [
    {
     "data": {
      "text/plain": [
       "-0.1180897189424382"
      ]
     },
     "execution_count": 121,
     "metadata": {},
     "output_type": "execute_result"
    }
   ],
   "source": [
    "np.trapz(-np.array([-5.906278133280193e-09, -0.04283687908115191, -0.07423348819106923, -0.10162196420032935, -0.1265193992861447, \n",
    "         -0.14963184542838487, -0.17136880172596944, -0.1919975952174648, -0.21170645138606625,  -0.23063513736569127,\n",
    "         -0.24889164987237247, -0.26656207731487164, -0.2837167996079831, -0.3004145796603663, -0.3167053717458566]), \n",
    "         x=[20.        ,  2.6390573 ,  1.94591014,  1.54044503,  1.25276296,\n",
    "        1.02961941,  0.84729786,  0.69314718,  0.55961579,  0.44183275,\n",
    "        0.33647224,  0.24116206,  0.15415068,  0.07410797, -0.        ])/(2*np.pi)"
   ]
  },
  {
   "cell_type": "code",
   "execution_count": null,
   "metadata": {},
   "outputs": [],
   "source": []
  },
  {
   "cell_type": "code",
   "execution_count": 127,
   "metadata": {},
   "outputs": [
    {
     "data": {
      "text/plain": [
       "0.18626672130685623"
      ]
     },
     "execution_count": 127,
     "metadata": {},
     "output_type": "execute_result"
    }
   ],
   "source": [
    "np.trapz([-7.593925488436077e-14, -0.04283687908115191, -0.07423348819106923, -0.10162196420032935, -0.1265193992861447, \n",
    "         -0.14963184542838487, -0.17136880172596944, -0.1919975952174648, -0.21170645138606625,  -0.23063513736569127,\n",
    "         -0.24889164987237247, -0.26656207731487164, -0.2837167996079831, -0.3004145796603663, -0.3167053717458566], \n",
    "         [40.        ,  2.6390573 ,  1.94591014,  1.54044503,  1.25276296,\n",
    "        1.02961941,  0.84729786,  0.69314718,  0.55961579,  0.44183275,\n",
    "        0.33647224,  0.24116206,  0.15415068,  0.07410797, -0.        ])/(2*np.pi)"
   ]
  },
  {
   "cell_type": "code",
   "execution_count": 122,
   "metadata": {},
   "outputs": [
    {
     "data": {
      "text/plain": [
       "[<matplotlib.lines.Line2D at 0x7f95121ee4e0>]"
      ]
     },
     "execution_count": 122,
     "metadata": {},
     "output_type": "execute_result"
    },
    {
     "data": {
      "image/png": "[encoded data removed]",
      "text/plain": [
       "<Figure size 432x288 with 1 Axes>"
      ]
     },
     "metadata": {
      "needs_background": "light"
     },
     "output_type": "display_data"
    }
   ],
   "source": [
    "plt.plot([40.        ,  2.6390573 ,  1.94591014,  1.54044503,  1.25276296,\n",
    "        1.02961941,  0.84729786,  0.69314718,  0.55961579,  0.44183275,\n",
    "        0.33647224,  0.24116206,  0.15415068,  0.07410797, -0.        ], [-7.593925488436077e-14, -0.04283687908115191, -0.07423348819106923, -0.10162196420032935, -0.1265193992861447, \n",
    "         -0.14963184542838487, -0.17136880172596944, -0.1919975952174648, -0.21170645138606625,  -0.23063513736569127,\n",
    "         -0.24889164987237247, -0.26656207731487164, -0.2837167996079831, -0.3004145796603663, -0.3167053717458566])"
   ]
  },
  {
   "cell_type": "code",
   "execution_count": 125,
   "metadata": {},
   "outputs": [
    {
     "data": {
      "text/plain": [
       "-4.0"
      ]
     },
     "execution_count": 125,
     "metadata": {},
     "output_type": "execute_result"
    }
   ],
   "source": [
    "np.trapz([-1,-2,-3], [1,2,3])"
   ]
  },
  {
   "cell_type": "code",
   "execution_count": 129,
   "metadata": {},
   "outputs": [
    {
     "data": {
      "text/plain": [
       "0.12735786918235795"
      ]
     },
     "execution_count": 129,
     "metadata": {},
     "output_type": "execute_result"
    }
   ],
   "source": [
    "np.trapz([-7.593925488436077e-14, -0.04283687908115191], \n",
    "         [40.        ,  2.6390573 ])/(2*np.pi)"
   ]
  },
  {
   "cell_type": "code",
   "execution_count": 131,
   "metadata": {},
   "outputs": [
    {
     "data": {
      "text/plain": [
       "array([2.06115362e-09, 9.99999973e-01, 9.99999988e-01, 9.99999992e-01,\n",
       "       9.99999995e-01, 9.99999996e-01, 9.99999997e-01, 9.99999998e-01,\n",
       "       9.99999998e-01, 9.99999999e-01, 9.99999999e-01, 9.99999999e-01,\n",
       "       1.00000000e+00, 1.00000000e+00, 1.00000000e+00])"
      ]
     },
     "execution_count": 131,
     "metadata": {},
     "output_type": "execute_result"
    }
   ],
   "source": [
    "results/quad_points"
   ]
  },
  {
   "cell_type": "code",
   "execution_count": 147,
   "metadata": {},
   "outputs": [
    {
     "data": {
      "text/plain": [
       "array([4.24835426e-18, 7.14285714e-02, 1.42857143e-01, 2.14285714e-01,\n",
       "       2.85714286e-01, 3.57142857e-01, 4.28571429e-01, 5.00000000e-01,\n",
       "       5.71428571e-01, 6.42857143e-01, 7.14285714e-01, 7.85714286e-01,\n",
       "       8.57142857e-01, 9.28571429e-01, 1.00000000e+00])"
      ]
     },
     "execution_count": 147,
     "metadata": {},
     "output_type": "execute_result"
    }
   ],
   "source": [
    "quad_points"
   ]
  },
  {
   "cell_type": "code",
   "execution_count": 146,
   "metadata": {},
   "outputs": [
    {
     "data": {
      "text/plain": [
       "array([-7.59392549e-14, -4.28368782e-02, -7.42334875e-02, -1.01621964e-01,\n",
       "       -1.26519399e-01, -1.49631845e-01, -1.71368801e-01, -1.91997595e-01,\n",
       "       -2.11706451e-01, -2.30635137e-01, -2.48891650e-01, -2.66562077e-01,\n",
       "       -2.83716800e-01, -3.00414580e-01, -3.16705372e-01])"
      ]
     },
     "execution_count": 146,
     "metadata": {},
     "output_type": "execute_result"
    }
   ],
   "source": [
    "results"
   ]
  },
  {
   "cell_type": "code",
   "execution_count": 149,
   "metadata": {},
   "outputs": [],
   "source": [
    "result_20 = np.array([-5.90627813e-09, -4.28368791e-02, -7.42334882e-02, -1.01621964e-01,\n",
    "       -1.26519399e-01, -1.49631845e-01, -1.71368802e-01, -1.91997595e-01,\n",
    "       -2.11706451e-01, -2.30635137e-01, -2.48891650e-01, -2.66562077e-01,\n",
    "       -2.83716800e-01, -3.00414580e-01, -3.16705372e-01])\n",
    "quad_points_20 = np.array([2.06115362e-09, 7.14285733e-02, 1.42857145e-01, 2.14285716e-01,\n",
    "       2.85714287e-01, 3.57142858e-01, 4.28571430e-01, 5.00000001e-01,\n",
    "       5.71428572e-01, 6.42857144e-01, 7.14285715e-01, 7.85714286e-01,\n",
    "       8.57142857e-01, 9.28571429e-01, 1.00000000e+00])"
   ]
  },
  {
   "cell_type": "code",
   "execution_count": 148,
   "metadata": {},
   "outputs": [],
   "source": [
    "results_40 = np.array([-7.59392549e-14, -4.28368782e-02, -7.42334875e-02, -1.01621964e-01,\n",
    "       -1.26519399e-01, -1.49631845e-01, -1.71368801e-01, -1.91997595e-01,\n",
    "       -2.11706451e-01, -2.30635137e-01, -2.48891650e-01, -2.66562077e-01,\n",
    "       -2.83716800e-01, -3.00414580e-01, -3.16705372e-01])\n",
    "quad_points_40 = np.array([4.24835426e-18, 7.14285714e-02, 1.42857143e-01, 2.14285714e-01,\n",
    "       2.85714286e-01, 3.57142857e-01, 4.28571429e-01, 5.00000000e-01,\n",
    "       5.71428571e-01, 6.42857143e-01, 7.14285714e-01, 7.85714286e-01,\n",
    "       8.57142857e-01, 9.28571429e-01, 1.00000000e+00])"
   ]
  },
  {
   "cell_type": "code",
   "execution_count": 150,
   "metadata": {},
   "outputs": [
    {
     "data": {
      "text/plain": [
       "array([-2.86552059, -0.59971629, -0.51963441, -0.47423583, -0.44281789,\n",
       "       -0.41896916, -0.39986054, -0.38399519, -0.37048629, -0.35876577,\n",
       "       -0.34844831, -0.33926083, -0.33100293, -0.32352339, -0.31670537])"
      ]
     },
     "execution_count": 150,
     "metadata": {},
     "output_type": "execute_result"
    }
   ],
   "source": [
    "result_20/quad_points_20"
   ]
  },
  {
   "cell_type": "code",
   "execution_count": 151,
   "metadata": {},
   "outputs": [
    {
     "data": {
      "text/plain": [
       "array([-1.78749818e+04, -5.99716295e-01, -5.19634412e-01, -4.74235833e-01,\n",
       "       -4.42817896e-01, -4.18969166e-01, -3.99860535e-01, -3.83995190e-01,\n",
       "       -3.70486290e-01, -3.58765769e-01, -3.48448310e-01, -3.39260825e-01,\n",
       "       -3.31002933e-01, -3.23523394e-01, -3.16705372e-01])"
      ]
     },
     "execution_count": 151,
     "metadata": {},
     "output_type": "execute_result"
    }
   ],
   "source": [
    "results_40/quad_points_40"
   ]
  },
  {
   "cell_type": "code",
   "execution_count": null,
   "metadata": {},
   "outputs": [],
   "source": []
  }
 ],
 "metadata": {
  "kernelspec": {
   "display_name": "Python 3",
   "language": "python",
   "name": "python3"
  },
  "language_info": {
   "codemirror_mode": {
    "name": "ipython",
    "version": 3
   },
   "file_extension": ".py",
   "mimetype": "text/x-python",
   "name": "python",
   "nbconvert_exporter": "python",
   "pygments_lexer": "ipython3",
   "version": "3.7.0"
  }
 },
 "nbformat": 4,
 "nbformat_minor": 2
}
