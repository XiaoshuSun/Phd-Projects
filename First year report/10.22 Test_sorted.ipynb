{
 "cells": [
  {
   "cell_type": "code",
   "execution_count": 2,
   "metadata": {},
   "outputs": [],
   "source": [
    "import bempp.api\n",
    "import numpy as np\n",
    "import scipy\n",
    "import math\n",
    "import time\n",
    "import scipy.linalg \n",
    "import scipy.linalg.interpolative as sli\n",
    "%matplotlib inline\n",
    "from matplotlib import pyplot as plt\n",
    "import seaborn as sns\n",
    "\n",
    "from bempp.api.assembly.blocked_operator import BlockedOperator\n",
    "from numpy.linalg import slogdet\n",
    "#bempp.api.enable_console_logging()\n",
    "bempp.api.set_default_device(0, 0)"
   ]
  },
  {
   "cell_type": "markdown",
   "metadata": {},
   "source": [
    "Sphere-Sphere case "
   ]
  },
  {
   "cell_type": "code",
   "execution_count": 3,
   "metadata": {},
   "outputs": [],
   "source": [
    "h = .2   # size of the mesh (element)\n",
    "center1 = (1.25, 0, 0) # center of one sphere\n",
    "center2 = (-1.25, 0, 0) # center of the other sphere\n",
    "\n",
    "sphere1 = bempp.api.shapes.sphere(h=h, origin=center1)\n",
    "sphere2 = bempp.api.shapes.sphere(h=h, origin=center2)"
   ]
  },
  {
   "cell_type": "code",
   "execution_count": 4,
   "metadata": {},
   "outputs": [],
   "source": [
    "rwg1_ss = bempp.api.function_space(sphere1, \"RWG\", 0)\n",
    "rwg2_ss = bempp.api.function_space(sphere2, \"RWG\", 0)\n",
    "\n",
    "snc1_ss = bempp.api.function_space(sphere1, \"SNC\", 0)\n",
    "snc2_ss = bempp.api.function_space(sphere2, \"SNC\", 0)"
   ]
  },
  {
   "cell_type": "code",
   "execution_count": 5,
   "metadata": {},
   "outputs": [],
   "source": [
    "from bempp.api.utils import Octree\n",
    "box = sphere1.bounding_box\n",
    "vertices = np.empty((3,rwg1_ss.global_dof_count),np.float64)\n",
    "for index in range(rwg1_ss.global_dof_count):\n",
    "    elem,local_id = rwg1_ss.global2local[index][0]\n",
    "    edge_id = sphere1.element_edges[local_id,elem]\n",
    "    vertices[:,index] = .5*(sphere1.vertices[:,sphere1.edges[0,edge_id]] + sphere1.vertices[:,sphere1.edges[0,edge_id]])\n",
    "tree = Octree(box[:,0],box[:,1], 2,vertices)\n",
    "sorted_indices = tree.sorted_indices"
   ]
  },
  {
   "cell_type": "code",
   "execution_count": 6,
   "metadata": {},
   "outputs": [],
   "source": [
    "N = 10\n",
    "lbound = .05\n",
    "ubound = 4\n",
    "\n",
    "# We use an exponentially adapted trapezoid rule.\n",
    "quad_points = np.linspace(np.exp(-ubound), np.exp(-lbound), N)\n",
    "results = np.empty(N, dtype='float64')\n",
    "matrices = []\n",
    "\n",
    "for index, point in enumerate(quad_points):\n",
    "\n",
    "\n",
    "    wavenumber = -1j * np.log(point)\n",
    "\n",
    "    op11 = bempp.api.operators.boundary.maxwell.electric_field(rwg1_ss, rwg1_ss, snc1_ss, wavenumber)\n",
    "    op22 = bempp.api.operators.boundary.maxwell.electric_field(rwg2_ss, rwg2_ss, snc2_ss, wavenumber)\n",
    "    op21 = bempp.api.operators.boundary.maxwell.electric_field(rwg1_ss, rwg2_ss, snc2_ss, wavenumber)\n",
    "    op12 = bempp.api.operators.boundary.maxwell.electric_field(rwg2_ss, rwg1_ss, snc1_ss, wavenumber)\n",
    "\n",
    "    mat11 = np.real(op11.weak_form().A)\n",
    "    mat12 = np.real(op12.weak_form().A)\n",
    "    mat21 = np.real(op21.weak_form().A)\n",
    "    mat22 = np.real(op22.weak_form().A)\n",
    "    ident_mat = np.identity(mat11.shape[0])\n",
    "    sorted_mat11 = mat11[:, sorted_indices][sorted_indices, :]\n",
    "    sorted_mat12 = mat12[:, sorted_indices][sorted_indices, :]\n",
    "    sorted_mat22 = mat22[:, sorted_indices][sorted_indices, :]\n",
    "    sorted_mat21 = mat21[:, sorted_indices][sorted_indices, :]\n",
    "\n",
    "    A = ident_mat - np.linalg.inv(sorted_mat11)@sorted_mat12@np.linalg.inv(sorted_mat22)@sorted_mat21\n",
    "\n",
    "    sign, logdet = slogdet(A)\n",
    "    results[index] = logdet\n",
    "    matrices.append(A)"
   ]
  },
  {
   "cell_type": "code",
   "execution_count": 7,
   "metadata": {},
   "outputs": [
    {
     "name": "stdout",
     "output_type": "stream",
     "text": [
      "1269\n"
     ]
    }
   ],
   "source": [
    "n = matrices[0].shape[0]\n",
    "print(n)"
   ]
  },
  {
   "cell_type": "code",
   "execution_count": 8,
   "metadata": {},
   "outputs": [],
   "source": [
    "nboxes = 27\n",
    "size = n//nboxes"
   ]
  },
  {
   "cell_type": "code",
   "execution_count": 9,
   "metadata": {},
   "outputs": [],
   "source": [
    "def get_box(nx, ny, A, nboxes, n):\n",
    "    \"\"\"Return the content of a given box\"\"\"\n",
    "    size = n // nboxes\n",
    "    xrange = [nx * size, (1 + nx) * size] \n",
    "    yrange = [ny * size, (1 + ny) * size] \n",
    "    return A[xrange[0]:xrange[1], yrange[0]:yrange[1]] "
   ]
  },
  {
   "cell_type": "code",
   "execution_count": 10,
   "metadata": {},
   "outputs": [],
   "source": [
    "def get_con_box(i,A,nboxes,n):\n",
    "    \"\"\"Return Ai\"\"\"\n",
    "    BB = A[i * size : (i + 1) * size, :]\n",
    "    B = np.delete(BB, np.s_[i*size : (i+1)*size], axis = 1)\n",
    "    \n",
    "    CC = np.transpose(A[:, i * size : (i + 1) * size])\n",
    "    C = np.delete(CC, np.s_[i*size : (i+1)*size], axis = 1)\n",
    "    return np.hstack((B,C))"
   ]
  },
  {
   "cell_type": "code",
   "execution_count": 11,
   "metadata": {},
   "outputs": [],
   "source": [
    "def plot_box_ranks(A, nboxes, n, tol=1E-8):\n",
    "    \"\"\"Plot rank of the boxes.\"\"\"\n",
    "    from scipy.linalg import svdvals\n",
    "    ranks = np.zeros((nboxes,nboxes),dtype='int32')\n",
    "    for i in range(nboxes):\n",
    "        for j in range(nboxes):\n",
    "            m = get_box(i, j, A, nboxes, n)\n",
    "            s = svdvals(m)\n",
    "            ranks[i,j] = np.sum(s>tol)\n",
    "    plt.imshow(ranks, cmap='Blues')\n",
    "    #plt.colorbar()\n",
    "    clb = plt.colorbar()\n",
    "    clb.ax.set_title('Rank')"
   ]
  },
  {
   "cell_type": "code",
   "execution_count": 13,
   "metadata": {},
   "outputs": [
    {
     "data": {
      "text/plain": [
       "<Figure size 432x288 with 0 Axes>"
      ]
     },
     "metadata": {},
     "output_type": "display_data"
    },
    {
     "data": {
      "image/png": "[encoded data removed]",
      "text/plain": [
       "<Figure size 1440x360 with 6 Axes>"
      ]
     },
     "metadata": {
      "needs_background": "light"
     },
     "output_type": "display_data"
    }
   ],
   "source": [
    "fig = plt.figure()\n",
    "plt.figure(figsize = (20,5))\n",
    "plt.subplot(1,3,1)\n",
    "plot_box_ranks(matrices[9],nboxes,n)\n",
    "plt.xlabel('Index of the block', fontsize = 18)\n",
    "plt.ylabel('Index of the block', fontsize = 18)\n",
    "plt.title('ik = %.2fi' % (-1 * np.log(quad_points[9])),fontsize = 25)\n",
    "\n",
    "plt.subplot(1,3,2)\n",
    "plot_box_ranks(matrices[4],nboxes,n)\n",
    "plt.xlabel('Index of the block', fontsize = 18)\n",
    "plt.ylabel('Index of the block', fontsize = 18)\n",
    "plt.title('ik = %.2fi' % (-1 * np.log(quad_points[4])), fontsize = 25)\n",
    "\n",
    "plt.subplot(1,3,3)\n",
    "plot_box_ranks(matrices[1],nboxes,n)\n",
    "plt.xlabel('Index of the block', fontsize = 18)\n",
    "plt.ylabel('Index of the block', fontsize = 18)\n",
    "plt.title('ik = %.2fi' % (-1 * np.log(quad_points[1])), fontsize = 25)\n",
    "plt.savefig('sorted_rank h=0.2,Z=0.5.pdf')\n",
    "plt.show()"
   ]
  },
  {
   "cell_type": "code",
   "execution_count": 14,
   "metadata": {},
   "outputs": [],
   "source": [
    "def L(i,k,A,nboxes,n):\n",
    "    idx1,proj1 = sli.interp_decomp(get_con_box(i,A,nboxes,n), k, rand = False)\n",
    "    B1 = sli.reconstruct_skel_matrix(get_con_box(i,A,nboxes,n),k,idx1)\n",
    "    B1_trans = np.transpose(B1)\n",
    "    \n",
    "    idx2,proj2 = sli.interp_decomp(B1_trans, k, rand = False)\n",
    "    P2_trans = sli.reconstruct_interp_matrix(idx2,proj2)\n",
    "\n",
    "    P2 = np.transpose(P2_trans)\n",
    "    return P2,idx2"
   ]
  },
  {
   "cell_type": "code",
   "execution_count": 15,
   "metadata": {},
   "outputs": [],
   "source": [
    "def index_set(k,A,nboxes,n):\n",
    "    l = []\n",
    "    for i in range(nboxes):\n",
    "        l.append(L(i,k,A,nboxes,n)[1][0:k])\n",
    "    return l"
   ]
  },
  {
   "cell_type": "code",
   "execution_count": 16,
   "metadata": {},
   "outputs": [],
   "source": [
    "def SSS(k,A,nboxes,n):\n",
    "    ll = index_set(k,A,nboxes,n)\n",
    "    mat = np.zeros((k*nboxes,k*nboxes))\n",
    "    for i in range(nboxes):\n",
    "        for j in range(nboxes):\n",
    "            if i != j:\n",
    "                mat_ =  get_box(i,j,A,nboxes,n)[ll[i],:]\n",
    "                mat[i*k:(i+1)*k,j*k:(j+1)*k] = mat_[:,ll[j]]\n",
    "    return mat"
   ]
  },
  {
   "cell_type": "code",
   "execution_count": 17,
   "metadata": {},
   "outputs": [],
   "source": [
    "def R(i,k,A,nboxes,n):\n",
    "    RR = np.transpose(L(i,k,A,nboxes,n)[0])\n",
    "    return RR"
   ]
  },
  {
   "cell_type": "code",
   "execution_count": 18,
   "metadata": {},
   "outputs": [],
   "source": [
    "def new_S(k,A,nboxes,n):\n",
    "    mat_ = SSS(k,A,nboxes,n)\n",
    "    for i in range(nboxes):\n",
    "        mat_[i*k:(i+1)*k,i*k:(i+1)*k] = np.linalg.inv(R(i,k,A,nboxes,n) @ np.linalg.inv(get_box(i,i,A,nboxes,n)) @ L(i,k,A,nboxes,n)[0])\n",
    "    return mat_"
   ]
  },
  {
   "cell_type": "code",
   "execution_count": 19,
   "metadata": {},
   "outputs": [],
   "source": [
    "def logdet_method2(k,A,nboxes,n):\n",
    "    a1 = 0\n",
    "    p1,l1,u1 = scipy.linalg.lu(new_S(k,A,nboxes,n))\n",
    "    for i in range(k*nboxes):\n",
    "        a1 += math.log(abs(u1[i,i]))\n",
    "        \n",
    "    a2 = 0\n",
    "    for i in range (nboxes):\n",
    "        p2,l2,u2 = scipy.linalg.lu(get_box(i,i,A,nboxes,n))\n",
    "        for j in range(size):\n",
    "            a2 +=math.log(abs(u2[j,j]))\n",
    "            \n",
    "    a3 = 0\n",
    "    for i in range(nboxes):\n",
    "        p3,l3,u3 = scipy.linalg.lu(-R(i,k,A,nboxes,n)@np.linalg.inv(get_box(i,i,A,nboxes,n)) @L(i,k,A,nboxes,n)[0] )\n",
    "        for j in range(k):\n",
    "            a3 += math.log(abs(u3[j,j]))\n",
    "    return a1 + a2 + a3"
   ]
  },
  {
   "cell_type": "code",
   "execution_count": 20,
   "metadata": {},
   "outputs": [],
   "source": [
    "wn_logdet = np.empty((N,size))\n",
    "for i in range(N):\n",
    "    for j in range(1,size+1):\n",
    "        wn_logdet[i,j-1] = logdet_method2(j,matrices[i],nboxes,n)"
   ]
  },
  {
   "cell_type": "code",
   "execution_count": 21,
   "metadata": {},
   "outputs": [],
   "source": [
    "wn_err = np.empty((N,size))\n",
    "for i in range(N):\n",
    "    for j in range(size):\n",
    "        wn_err[i,j] = abs((results[i] - wn_logdet[i,j])/results[i])"
   ]
  },
  {
   "cell_type": "code",
   "execution_count": 22,
   "metadata": {},
   "outputs": [
    {
     "data": {
      "image/png": "[encoded data removed]",
      "text/plain": [
       "<Figure size 432x288 with 1 Axes>"
      ]
     },
     "metadata": {
      "needs_background": "light"
     },
     "output_type": "display_data"
    }
   ],
   "source": [
    "rk = np.linspace(1,size-1,size-1)\n",
    "\n",
    "vocabulary = [1 , 2 , 3 ]\n",
    "my_colors = {1:'darkred',2:'red',3:'lightcoral'}\n",
    "plt.semilogy(rk , wn_err[9,0:size-1], color = my_colors.get(vocabulary[2]), linestyle='--')\n",
    "plt.semilogy(rk , wn_err[4,0:size-1], color = my_colors.get(vocabulary[1]), linestyle='--')\n",
    "plt.semilogy(rk , wn_err[1,0:size-1], color = my_colors.get(vocabulary[0]), linestyle='--')\n",
    "\n",
    "plt.legend(['ik = 0.05i','ik = 0.84i','ik = 2.10i'])\n",
    "plt.xlabel('Approximation rank')\n",
    "plt.ylabel('Relative error of approximating logdet')\n",
    "plt.savefig('sorted_h=0.2,Z=0.5.pdf')"
   ]
  },
  {
   "cell_type": "code",
   "execution_count": null,
   "metadata": {},
   "outputs": [],
   "source": []
  },
  {
   "cell_type": "code",
   "execution_count": null,
   "metadata": {},
   "outputs": [],
   "source": []
  },
  {
   "cell_type": "code",
   "execution_count": null,
   "metadata": {},
   "outputs": [],
   "source": []
  }
 ],
 "metadata": {
  "kernelspec": {
   "display_name": "Python 3",
   "language": "python",
   "name": "python3"
  },
  "language_info": {
   "codemirror_mode": {
    "name": "ipython",
    "version": 3
   },
   "file_extension": ".py",
   "mimetype": "text/x-python",
   "name": "python",
   "nbconvert_exporter": "python",
   "pygments_lexer": "ipython3",
   "version": "3.7.0"
  }
 },
 "nbformat": 4,
 "nbformat_minor": 2
}
