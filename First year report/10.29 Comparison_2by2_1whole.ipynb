{
 "cells": [
  {
   "cell_type": "code",
   "execution_count": 2,
   "metadata": {},
   "outputs": [],
   "source": [
    "import bempp.api\n",
    "import numpy as np\n",
    "import scipy\n",
    "import math\n",
    "import time\n",
    "import scipy.linalg \n",
    "import scipy.linalg.interpolative as sli\n",
    "%matplotlib inline\n",
    "from matplotlib import pyplot as plt\n",
    "import seaborn as sns\n",
    "\n",
    "from bempp.api.assembly.blocked_operator import BlockedOperator\n",
    "from numpy.linalg import slogdet\n",
    "bempp.api.set_default_device(0, 0)\n",
    "#bempp.api.enable_console_logging()"
   ]
  },
  {
   "cell_type": "markdown",
   "metadata": {},
   "source": [
    "Sphere-Sphere case "
   ]
  },
  {
   "cell_type": "code",
   "execution_count": 3,
   "metadata": {},
   "outputs": [],
   "source": [
    "h = .2   # size of the mesh (element)\n",
    "center1 = (1.5, 0, 0) # center of one sphere\n",
    "center2 = (-1.5, 0, 0) # center of the other sphere\n",
    "\n",
    "sphere1 = bempp.api.shapes.sphere(h=h, origin=center1)\n",
    "sphere2 = bempp.api.shapes.sphere(h=h, origin=center2)"
   ]
  },
  {
   "cell_type": "code",
   "execution_count": 4,
   "metadata": {},
   "outputs": [],
   "source": [
    "rwg1_ss = bempp.api.function_space(sphere1, \"RWG\", 0)\n",
    "rwg2_ss = bempp.api.function_space(sphere2, \"RWG\", 0)\n",
    "\n",
    "snc1_ss = bempp.api.function_space(sphere1, \"SNC\", 0)\n",
    "snc2_ss = bempp.api.function_space(sphere2, \"SNC\", 0)"
   ]
  },
  {
   "cell_type": "markdown",
   "metadata": {},
   "source": [
    "#### Construct $A_{1} = \\begin{bmatrix}\n",
    "I & M_{11}^{-1}M_{12}\\\\\n",
    "M_{22}^{-1} & I\n",
    "\\end{bmatrix}$   and $A_{2} = I - M_{11}^{-1}M_{12}M_{22}^{-1}M_{21}$. The relation $\\det(A_{1}) = \\det(A_{2})$ holds. We calculate the $\\log\\det$ of these two matrices and compare the relative error with different approximaton ranks."
   ]
  },
  {
   "cell_type": "code",
   "execution_count": 23,
   "metadata": {},
   "outputs": [],
   "source": [
    "wavenumber = 1j * 2\n",
    "\n",
    "op11 = bempp.api.operators.boundary.maxwell.electric_field(rwg1_ss, rwg1_ss, snc1_ss, wavenumber)\n",
    "op22 = bempp.api.operators.boundary.maxwell.electric_field(rwg2_ss, rwg2_ss, snc2_ss, wavenumber)\n",
    "op21 = bempp.api.operators.boundary.maxwell.electric_field(rwg1_ss, rwg2_ss, snc2_ss, wavenumber)\n",
    "op12 = bempp.api.operators.boundary.maxwell.electric_field(rwg2_ss, rwg1_ss, snc1_ss, wavenumber)\n",
    "\n",
    "mat11 = np.real(op11.weak_form().A)\n",
    "mat12 = np.real(op12.weak_form().A)\n",
    "mat21 = np.real(op21.weak_form().A)\n",
    "mat22 = np.real(op22.weak_form().A)\n",
    "ident_mat = np.identity(mat11.shape[0])\n",
    "\n",
    "A1 = ident_mat - np.linalg.inv(mat11)@mat12@np.linalg.inv(mat22)@mat21 #-------------This is A1----------------------\n",
    "\n",
    "sign1, logdet1 = slogdet(A1)\n",
    "result1 = logdet1\n",
    "\n",
    "mat12_zero = np.zeros((mat11.shape[0],mat12.shape[1]))\n",
    "mat21_zero = np.zeros((mat22.shape[0],mat11.shape[1]))\n",
    "\n",
    "mat1 = np.real(np.block([[mat11,mat12],[mat21,mat22]]))    \n",
    "mat2 = np.real(np.block([[mat11,mat12_zero],[mat21_zero,mat22]]))\n",
    "\n",
    "A2 = np.linalg.inv(mat2).dot(mat1) #-------------------This is A2--------------------------------\n",
    "\n",
    "sign2, logdet2 = slogdet(A2)\n",
    "result2 = logdet2"
   ]
  },
  {
   "cell_type": "code",
   "execution_count": 27,
   "metadata": {},
   "outputs": [
    {
     "data": {
      "text/plain": [
       "-0.001850107730125435"
      ]
     },
     "execution_count": 27,
     "metadata": {},
     "output_type": "execute_result"
    }
   ],
   "source": [
    "result1"
   ]
  },
  {
   "cell_type": "code",
   "execution_count": 28,
   "metadata": {},
   "outputs": [
    {
     "data": {
      "text/plain": [
       "-0.0018501077299057425"
      ]
     },
     "execution_count": 28,
     "metadata": {},
     "output_type": "execute_result"
    }
   ],
   "source": [
    "result2"
   ]
  },
  {
   "cell_type": "code",
   "execution_count": 24,
   "metadata": {},
   "outputs": [],
   "source": [
    "n1 = A1.shape[0]\n",
    "n2 = A2.shape[0]"
   ]
  },
  {
   "cell_type": "code",
   "execution_count": 25,
   "metadata": {},
   "outputs": [
    {
     "name": "stdout",
     "output_type": "stream",
     "text": [
      "1269 2538\n"
     ]
    }
   ],
   "source": [
    "print(n1,n2)"
   ]
  },
  {
   "cell_type": "code",
   "execution_count": 26,
   "metadata": {},
   "outputs": [],
   "source": [
    "nboxes1 = 27\n",
    "nboxes2 = 47\n",
    "size1 = n1//nboxes1\n",
    "size2 = n2//nboxes2"
   ]
  },
  {
   "cell_type": "code",
   "execution_count": 29,
   "metadata": {},
   "outputs": [],
   "source": [
    "def get_box(nx, ny, A, nboxes, n):\n",
    "    \"\"\"Return the content of a given box\"\"\"\n",
    "    size = n // nboxes\n",
    "    xrange = [nx * size, (1 + nx) * size] \n",
    "    yrange = [ny * size, (1 + ny) * size] \n",
    "    return A[xrange[0]:xrange[1], yrange[0]:yrange[1]] "
   ]
  },
  {
   "cell_type": "code",
   "execution_count": 30,
   "metadata": {},
   "outputs": [],
   "source": [
    "def get_con_box(i,A,nboxes,n):\n",
    "    \"\"\"Return Ai\"\"\"\n",
    "    size = n // nboxes\n",
    "    BB = A[i * size : (i + 1) * size, :]\n",
    "    B = np.delete(BB, np.s_[i*size : (i+1)*size], axis = 1)\n",
    "    \n",
    "    CC = np.transpose(A[:, i * size : (i + 1) * size])\n",
    "    C = np.delete(CC, np.s_[i*size : (i+1)*size], axis = 1)\n",
    "    return np.hstack((B,C))"
   ]
  },
  {
   "cell_type": "code",
   "execution_count": 31,
   "metadata": {},
   "outputs": [],
   "source": [
    "def plot_box_ranks(A, nboxes, n, tol=1E-8):\n",
    "    \"\"\"Plot rank of the boxes.\"\"\"\n",
    "    from scipy.linalg import svdvals\n",
    "    ranks = np.zeros((nboxes,nboxes),dtype='int32')\n",
    "    for i in range(nboxes):\n",
    "        for j in range(nboxes):\n",
    "            m = get_box(i, j, A, nboxes, n)\n",
    "            s = svdvals(m)\n",
    "            ranks[i,j] = np.sum(s>tol)\n",
    "    plt.imshow(ranks, cmap='Accent')\n",
    "    plt.colorbar()"
   ]
  },
  {
   "cell_type": "code",
   "execution_count": 32,
   "metadata": {},
   "outputs": [
    {
     "data": {
      "text/plain": [
       "<Figure size 432x288 with 0 Axes>"
      ]
     },
     "metadata": {},
     "output_type": "display_data"
    },
    {
     "data": {
      "image/png": "[encoded data removed]",
      "text/plain": [
       "<Figure size 1080x360 with 4 Axes>"
      ]
     },
     "metadata": {
      "needs_background": "light"
     },
     "output_type": "display_data"
    }
   ],
   "source": [
    "fig = plt.figure()\n",
    "plt.figure(figsize = (15,5))\n",
    "plt.subplot(1,2,1)\n",
    "plot_box_ranks(A1,nboxes1,n1)\n",
    "plt.xlabel('wn:%.2fj' % (2))\n",
    "\n",
    "plt.subplot(1,2,2)\n",
    "plot_box_ranks(A2,nboxes2,n2)\n",
    "plt.xlabel('wn:%.2fj' % (2))\n",
    "\n",
    "plt.show()"
   ]
  },
  {
   "cell_type": "code",
   "execution_count": 33,
   "metadata": {},
   "outputs": [],
   "source": [
    "def L(i,k,A,nboxes,n):\n",
    "    idx1,proj1 = sli.interp_decomp(get_con_box(i,A,nboxes,n), k, rand = False)\n",
    "    B1 = sli.reconstruct_skel_matrix(get_con_box(i,A,nboxes,n),k,idx1)\n",
    "    B1_trans = np.transpose(B1)\n",
    "    \n",
    "    idx2,proj2 = sli.interp_decomp(B1_trans, k, rand = False)\n",
    "    P2_trans = sli.reconstruct_interp_matrix(idx2,proj2)\n",
    "\n",
    "    P2 = np.transpose(P2_trans)\n",
    "    return P2,idx2"
   ]
  },
  {
   "cell_type": "code",
   "execution_count": 34,
   "metadata": {},
   "outputs": [],
   "source": [
    "def index_set(k,A,nboxes,n):\n",
    "    l = []\n",
    "    for i in range(nboxes):\n",
    "        l.append(L(i,k,A,nboxes,n)[1][0:k])\n",
    "    return l"
   ]
  },
  {
   "cell_type": "code",
   "execution_count": 35,
   "metadata": {},
   "outputs": [],
   "source": [
    "def SSS(k,A,nboxes,n):\n",
    "    ll = index_set(k,A,nboxes,n)\n",
    "    mat = np.zeros((k*nboxes,k*nboxes))\n",
    "    for i in range(nboxes):\n",
    "        for j in range(nboxes):\n",
    "            if i != j:\n",
    "                mat_ =  get_box(i,j,A,nboxes,n)[ll[i],:]\n",
    "                mat[i*k:(i+1)*k,j*k:(j+1)*k] = mat_[:,ll[j]]\n",
    "    return mat"
   ]
  },
  {
   "cell_type": "code",
   "execution_count": 36,
   "metadata": {},
   "outputs": [],
   "source": [
    "def R(i,k,A,nboxes,n):\n",
    "    RR = np.transpose(L(i,k,A,nboxes,n)[0])\n",
    "    return RR"
   ]
  },
  {
   "cell_type": "code",
   "execution_count": 37,
   "metadata": {},
   "outputs": [],
   "source": [
    "def new_S(k,A,nboxes,n):\n",
    "    mat_ = SSS(k,A,nboxes,n)\n",
    "    for i in range(nboxes):\n",
    "        mat_[i*k:(i+1)*k,i*k:(i+1)*k] = np.linalg.inv(R(i,k,A,nboxes,n) @ np.linalg.inv(get_box(i,i,A,nboxes,n)) @ L(i,k,A,nboxes,n)[0])\n",
    "    return mat_"
   ]
  },
  {
   "cell_type": "code",
   "execution_count": 38,
   "metadata": {},
   "outputs": [],
   "source": [
    "def logdet_method2(k,A,nboxes,n):\n",
    "    size = n//nboxes\n",
    "    a1 = 0\n",
    "    p1,l1,u1 = scipy.linalg.lu(new_S(k,A,nboxes,n))\n",
    "    for i in range(k*nboxes):\n",
    "        a1 += math.log(abs(u1[i,i]))\n",
    "        \n",
    "    a2 = 0\n",
    "    for i in range (nboxes):\n",
    "        p2,l2,u2 = scipy.linalg.lu(get_box(i,i,A,nboxes,n))\n",
    "        for j in range(size):\n",
    "            a2 +=math.log(abs(u2[j,j]))\n",
    "            \n",
    "    a3 = 0\n",
    "    for i in range(nboxes):\n",
    "        p3,l3,u3 = scipy.linalg.lu(-R(i,k,A,nboxes,n)@np.linalg.inv(get_box(i,i,A,nboxes,n)) @L(i,k,A,nboxes,n)[0] )\n",
    "        for j in range(k):\n",
    "            a3 += math.log(abs(u3[j,j]))\n",
    "    return a1 + a2 + a3"
   ]
  },
  {
   "cell_type": "code",
   "execution_count": 39,
   "metadata": {},
   "outputs": [],
   "source": [
    "wn_logdet1 = np.empty(size1)\n",
    "for i in range(1,size1 + 1 ):\n",
    "    wn_logdet1[i-1] = logdet_method2(i,A1,nboxes1,n1)"
   ]
  },
  {
   "cell_type": "code",
   "execution_count": 40,
   "metadata": {},
   "outputs": [],
   "source": [
    "wn_err1 = np.empty(size1)\n",
    "for i in range(size1):\n",
    "    wn_err1[i] = abs((result1 - wn_logdet1[i])/result1)"
   ]
  },
  {
   "cell_type": "code",
   "execution_count": 41,
   "metadata": {},
   "outputs": [
    {
     "data": {
      "text/plain": [
       "array([1.40407096e-04, 8.65896281e-05, 4.26600048e-05, 7.18403431e-06,\n",
       "       9.45171778e-07, 8.38290572e-08, 7.46216035e-07, 4.80803450e-07,\n",
       "       4.32243563e-07, 4.27505568e-08, 1.07829645e-07, 3.02813020e-08,\n",
       "       3.73059018e-09, 3.79316734e-08, 3.61253740e-09, 9.56822299e-09,\n",
       "       9.84958719e-09, 2.90587659e-09, 4.56499328e-09, 3.55752784e-10,\n",
       "       4.17201550e-10, 1.05112964e-10, 1.40682101e-10, 4.36641980e-11,\n",
       "       2.58734880e-10, 3.81632413e-10, 3.86477167e-10, 2.63579634e-10,\n",
       "       7.43885812e-11, 4.36641980e-11, 2.32855251e-10, 4.47925933e-10,\n",
       "       4.85089516e-11, 1.35837348e-10, 7.92333348e-11, 4.36641980e-11,\n",
       "       5.90263896e-11, 4.36641980e-11, 9.45955264e-11, 1.40682101e-10,\n",
       "       7.43885812e-11, 1.77845684e-11, 1.51199539e-10, 1.05112964e-10,\n",
       "       1.77845684e-11, 2.42237683e-12, 9.56339558e-12])"
      ]
     },
     "execution_count": 41,
     "metadata": {},
     "output_type": "execute_result"
    }
   ],
   "source": [
    "wn_err1"
   ]
  },
  {
   "cell_type": "code",
   "execution_count": 42,
   "metadata": {},
   "outputs": [],
   "source": [
    "wn_logdet2 = np.empty(size2)\n",
    "for i in range(1,size2 + 1 ):\n",
    "    wn_logdet2[i-1] = logdet_method2(i,A2,nboxes2,n2)"
   ]
  },
  {
   "cell_type": "code",
   "execution_count": 43,
   "metadata": {},
   "outputs": [],
   "source": [
    "wn_err2 = np.empty(size2)\n",
    "for i in range(size2):\n",
    "    wn_err2[i] = abs((result2 - wn_logdet2[i])/result2)"
   ]
  },
  {
   "cell_type": "code",
   "execution_count": 44,
   "metadata": {},
   "outputs": [
    {
     "data": {
      "text/plain": [
       "array([6.53405219e-01, 5.59969925e-02, 1.21454617e-02, 1.40334961e-02,\n",
       "       2.30430368e-02, 1.20764252e-02, 9.11701132e-03, 5.33315623e-03,\n",
       "       5.49336741e-04, 1.83674785e-03, 3.88645720e-03, 3.45933700e-03,\n",
       "       2.03096877e-04, 2.95937544e-04, 5.67614997e-04, 3.32356797e-04,\n",
       "       4.44456079e-04, 1.65527593e-04, 4.38177042e-04, 9.87938021e-05,\n",
       "       5.05328223e-08, 4.03120104e-05, 8.44026854e-05, 2.81393960e-05,\n",
       "       6.25913228e-05, 2.63300195e-05, 2.54218858e-05, 9.80202191e-06,\n",
       "       9.17206673e-06, 7.09645030e-06, 1.13488103e-05, 1.98518578e-06,\n",
       "       9.92872927e-06, 5.43475276e-06, 3.89976257e-06, 1.75358538e-06,\n",
       "       5.01553170e-06, 2.38720119e-06, 1.95102027e-06, 2.40991966e-06,\n",
       "       7.57500880e-07, 2.32794700e-06, 4.60321497e-07, 1.41613948e-06,\n",
       "       6.04391540e-09, 2.90538556e-07, 3.09262853e-07, 2.30362637e-07,\n",
       "       3.51136777e-09, 1.54934276e-07, 1.29709558e-07, 8.05121392e-08,\n",
       "       1.68204928e-08, 1.21142282e-12])"
      ]
     },
     "execution_count": 44,
     "metadata": {},
     "output_type": "execute_result"
    }
   ],
   "source": [
    "wn_err2"
   ]
  },
  {
   "cell_type": "code",
   "execution_count": 45,
   "metadata": {},
   "outputs": [
    {
     "data": {
      "image/png": "[encoded data removed]",
      "text/plain": [
       "<Figure size 432x288 with 1 Axes>"
      ]
     },
     "metadata": {
      "needs_background": "light"
     },
     "output_type": "display_data"
    }
   ],
   "source": [
    "rk = np.linspace(1,size1-1,size1-1)\n",
    "\n",
    "vocabulary = [1 , 2 , 3 ]\n",
    "my_colors = {1:'darkred',2:'red',3:'lightcoral'}\n",
    "\n",
    "plt.semilogy(rk , wn_err1[0:size1-1], color = my_colors.get(vocabulary[0]), linestyle='--')\n",
    "plt.semilogy(rk , wn_err2[0:size1-1], color = my_colors.get(vocabulary[2]), linestyle='--')\n",
    "plt.legend(['1 whole block case','2 by 2 block case'])\n",
    "plt.xlabel('Approximation rank')\n",
    "plt.ylabel('Relative error of approximating logdet')\n",
    "plt.savefig('Compare h=0.2,Z=1.0.pdf')"
   ]
  },
  {
   "cell_type": "code",
   "execution_count": null,
   "metadata": {},
   "outputs": [],
   "source": []
  }
 ],
 "metadata": {
  "kernelspec": {
   "display_name": "Python 3",
   "language": "python",
   "name": "python3"
  },
  "language_info": {
   "codemirror_mode": {
    "name": "ipython",
    "version": 3
   },
   "file_extension": ".py",
   "mimetype": "text/x-python",
   "name": "python",
   "nbconvert_exporter": "python",
   "pygments_lexer": "ipython3",
   "version": "3.7.0"
  }
 },
 "nbformat": 4,
 "nbformat_minor": 2
}
