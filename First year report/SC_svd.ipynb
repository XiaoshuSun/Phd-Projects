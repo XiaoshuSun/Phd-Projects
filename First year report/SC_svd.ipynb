{
 "cells": [
  {
   "cell_type": "code",
   "execution_count": 1,
   "metadata": {},
   "outputs": [],
   "source": [
    "import bempp.api\n",
    "from bempp.api.assembly.blocked_operator import BlockedOperator\n",
    "import numpy as np\n",
    "from numpy.linalg import slogdet\n",
    "import matplotlib.pyplot as plt\n",
    "\n",
    "#bempp.api.enable_console_logging()"
   ]
  },
  {
   "cell_type": "markdown",
   "metadata": {},
   "source": [
    "Sphere-Sphere case "
   ]
  },
  {
   "cell_type": "code",
   "execution_count": 2,
   "metadata": {},
   "outputs": [],
   "source": [
    "h = .2   # size of the mesh (element)\n",
    "center1 = (2, 0, 0) # center of one sphere\n",
    "\n",
    "sphere1 = bempp.api.shapes.sphere(h=h, origin=center1)\n",
    "cube2 = bempp.api.shapes.cube(length=2, origin=(-3,-1,-1))"
   ]
  },
  {
   "cell_type": "code",
   "execution_count": 3,
   "metadata": {},
   "outputs": [],
   "source": [
    "rwg1_sc = bempp.api.function_space(sphere1, \"RWG\", 0)\n",
    "rwg2_sc = bempp.api.function_space(cube2, \"RWG\", 0)\n",
    "\n",
    "snc1_sc = bempp.api.function_space(sphere1, \"SNC\", 0)\n",
    "snc2_sc = bempp.api.function_space(cube2, \"SNC\", 0)"
   ]
  },
  {
   "cell_type": "code",
   "execution_count": 4,
   "metadata": {},
   "outputs": [],
   "source": [
    "wavenumber = 1j*0.5"
   ]
  },
  {
   "cell_type": "code",
   "execution_count": 5,
   "metadata": {},
   "outputs": [],
   "source": [
    "op11_sc = bempp.api.operators.boundary.maxwell.electric_field(rwg1_sc, rwg1_sc, snc1_sc, wavenumber)\n",
    "op22_sc = bempp.api.operators.boundary.maxwell.electric_field(rwg2_sc, rwg2_sc, snc2_sc, wavenumber)\n",
    "op21_sc = bempp.api.operators.boundary.maxwell.electric_field(rwg1_sc, rwg2_sc, snc2_sc, wavenumber)\n",
    "op12_sc = bempp.api.operators.boundary.maxwell.electric_field(rwg2_sc, rwg1_sc, snc1_sc, wavenumber)"
   ]
  },
  {
   "cell_type": "code",
   "execution_count": 6,
   "metadata": {},
   "outputs": [],
   "source": [
    "mat11_sc = np.real(bempp.api.as_matrix(op11_sc.weak_form()))\n",
    "mat12_sc = np.real(bempp.api.as_matrix(op12_sc.weak_form()))\n",
    "mat21_sc = np.real(bempp.api.as_matrix(op21_sc.weak_form()))\n",
    "mat22_sc = np.real(bempp.api.as_matrix(op22_sc.weak_form()))"
   ]
  },
  {
   "cell_type": "code",
   "execution_count": 7,
   "metadata": {},
   "outputs": [],
   "source": [
    "def plot_singular_values(mat):\n",
    "    \"\"\"Plot singular values of a matrix.\"\"\"\n",
    "    from scipy.linalg import svdvals\n",
    "    s = svdvals(mat)\n",
    "    plt.semilogy(s)\n",
    "    plt.xlabel('k')\n",
    "    plt.ylabel('sigma_k')"
   ]
  },
  {
   "cell_type": "code",
   "execution_count": 8,
   "metadata": {},
   "outputs": [
    {
     "data": {
      "image/png": "[encoded data removed]",
      "text/plain": [
       "<Figure size 432x288 with 1 Axes>"
      ]
     },
     "metadata": {
      "needs_background": "light"
     },
     "output_type": "display_data"
    }
   ],
   "source": [
    "plot_singular_values(np.linalg.inv(mat11_sc)@mat12_sc)"
   ]
  },
  {
   "cell_type": "code",
   "execution_count": null,
   "metadata": {},
   "outputs": [],
   "source": []
  }
 ],
 "metadata": {
  "kernelspec": {
   "display_name": "Python 3",
   "language": "python",
   "name": "python3"
  },
  "language_info": {
   "codemirror_mode": {
    "name": "ipython",
    "version": 3
   },
   "file_extension": ".py",
   "mimetype": "text/x-python",
   "name": "python",
   "nbconvert_exporter": "python",
   "pygments_lexer": "ipython3",
   "version": "3.7.0"
  }
 },
 "nbformat": 4,
 "nbformat_minor": 2
}
