{
 "cells": [
  {
   "cell_type": "code",
   "execution_count": 1,
   "metadata": {},
   "outputs": [],
   "source": [
    "import bempp.api\n",
    "from bempp.api.assembly.blocked_operator import BlockedOperator\n",
    "import numpy as np\n",
    "from numpy.linalg import slogdet\n",
    "import matplotlib.pyplot as plt\n",
    "import math\n",
    "import scipy\n",
    "import scipy.linalg as sl\n",
    "import scipy.linalg.interpolative as sli\n",
    "\n",
    "#bempp.api.enable_console_logging()"
   ]
  },
  {
   "cell_type": "code",
   "execution_count": 2,
   "metadata": {},
   "outputs": [],
   "source": [
    "center1 = (1.5, 0, 0) # center of one sphere\n",
    "center2 = (-1.5, 0, 0) \n",
    "h = 0.2\n",
    "\n",
    "wavenumber = 1j*2\n",
    "\n",
    "sphere1 = bempp.api.shapes.sphere(h=h, origin=center1)\n",
    "sphere2 = bempp.api.shapes.sphere(h=h, origin=center2)\n",
    "\n",
    "rwg1_ss = bempp.api.function_space(sphere1, \"RWG\", 0)\n",
    "rwg2_ss = bempp.api.function_space(sphere2, \"RWG\", 0)\n",
    "\n",
    "snc1_ss = bempp.api.function_space(sphere1, \"SNC\", 0)\n",
    "snc2_ss = bempp.api.function_space(sphere2, \"SNC\", 0)"
   ]
  },
  {
   "cell_type": "code",
   "execution_count": 3,
   "metadata": {},
   "outputs": [],
   "source": [
    "op11 = bempp.api.operators.boundary.maxwell.electric_field(rwg1_ss, rwg1_ss, snc1_ss, wavenumber)\n",
    "op22 = bempp.api.operators.boundary.maxwell.electric_field(rwg2_ss, rwg2_ss, snc2_ss, wavenumber)\n",
    "op21 = bempp.api.operators.boundary.maxwell.electric_field(rwg1_ss, rwg2_ss, snc2_ss, wavenumber)\n",
    "op12 = bempp.api.operators.boundary.maxwell.electric_field(rwg2_ss, rwg1_ss, snc1_ss, wavenumber)\n",
    "\n",
    "mat11 = np.real(bempp.api.as_matrix(op11.weak_form()))\n",
    "mat12 = np.real(bempp.api.as_matrix(op12.weak_form()))\n",
    "mat21 = np.real(bempp.api.as_matrix(op21.weak_form()))\n",
    "mat22 = np.real(bempp.api.as_matrix(op22.weak_form()))\n",
    "ident_mat = np.identity(mat11.shape[0])\n",
    "\n",
    "A1 = ident_mat - np.linalg.inv(mat11)@mat12@np.linalg.inv(mat22)@mat21"
   ]
  },
  {
   "cell_type": "markdown",
   "metadata": {},
   "source": [
    "#### Single level scheme"
   ]
  },
  {
   "cell_type": "code",
   "execution_count": 4,
   "metadata": {},
   "outputs": [],
   "source": [
    "def get_box1(nx, ny, A, nboxes, n):\n",
    "    \"\"\"Return the content of a given box\"\"\"\n",
    "    size = n // nboxes\n",
    "    xrange = [nx * size, (1 + nx) * size] \n",
    "    yrange = [ny * size, (1 + ny) * size] \n",
    "    return A[xrange[0]:xrange[1], yrange[0]:yrange[1]] "
   ]
  },
  {
   "cell_type": "code",
   "execution_count": 5,
   "metadata": {},
   "outputs": [],
   "source": [
    "def plot_box_ranks1(A, nboxes, n, tol=1E-8):\n",
    "    \"\"\"Plot rank of the boxes.\"\"\"\n",
    "    from scipy.linalg import svdvals\n",
    "    ranks = np.zeros((nboxes,nboxes),dtype='int32')\n",
    "    for i in range(nboxes):\n",
    "        for j in range(nboxes):\n",
    "            m = get_box1(i, j, A, nboxes, n)\n",
    "            s = svdvals(m)\n",
    "            ranks[i,j] = np.sum(s>tol)\n",
    "    plt.imshow(ranks, cmap='Accent')\n",
    "    plt.colorbar()"
   ]
  },
  {
   "cell_type": "code",
   "execution_count": 6,
   "metadata": {},
   "outputs": [],
   "source": [
    "n = A1.shape[0]\n",
    "nboxes = 24\n",
    "size = n//nboxes"
   ]
  },
  {
   "cell_type": "code",
   "execution_count": 7,
   "metadata": {},
   "outputs": [
    {
     "data": {
      "image/png": "[encoded data removed]",
      "text/plain": [
       "<Figure size 432x288 with 2 Axes>"
      ]
     },
     "metadata": {
      "needs_background": "light"
     },
     "output_type": "display_data"
    }
   ],
   "source": [
    "plot_box_ranks1(A1,nboxes,n)"
   ]
  },
  {
   "cell_type": "code",
   "execution_count": 8,
   "metadata": {},
   "outputs": [],
   "source": [
    "def get_con_box1(i,A,nboxes,n):\n",
    "    \"\"\"Return Ai\"\"\"\n",
    "    BB = A[i * size : (i + 1) * size, :]\n",
    "    B = np.delete(BB, np.s_[i*size : (i+1)*size], axis = 1)\n",
    "    \n",
    "    CC = np.transpose(A[:, i * size : (i + 1) * size])\n",
    "    C = np.delete(CC, np.s_[i*size : (i+1)*size], axis = 1)\n",
    "    return np.hstack((B,C))"
   ]
  },
  {
   "cell_type": "code",
   "execution_count": 9,
   "metadata": {},
   "outputs": [],
   "source": [
    "def L_1(i,k,A,nboxes,n):\n",
    "    idx1,proj1 = sli.interp_decomp(get_con_box1(i,A,nboxes,n), k, rand = False)\n",
    "    B1 = sli.reconstruct_skel_matrix(get_con_box1(i,A,nboxes,n),k,idx1)\n",
    "    B1_trans = np.transpose(B1)\n",
    "    \n",
    "    idx2,proj2 = sli.interp_decomp(B1_trans, k, rand = False)\n",
    "    P2_trans = sli.reconstruct_interp_matrix(idx2,proj2)\n",
    "\n",
    "    P2 = np.transpose(P2_trans)\n",
    "    return P2,idx2"
   ]
  },
  {
   "cell_type": "code",
   "execution_count": 10,
   "metadata": {},
   "outputs": [],
   "source": [
    "def index_set1(k,A,nboxes,n):\n",
    "    l = []\n",
    "    for i in range(nboxes):\n",
    "        l.append(L_1(i,k,A,nboxes,n)[1][0:k])\n",
    "    return l"
   ]
  },
  {
   "cell_type": "code",
   "execution_count": 11,
   "metadata": {},
   "outputs": [],
   "source": [
    "def S_1(k,A,nboxes,n):\n",
    "    ll = index_set1(k,A,nboxes,n)\n",
    "    mat = np.zeros((k*nboxes,k*nboxes))\n",
    "    for i in range(nboxes):\n",
    "        for j in range(nboxes):\n",
    "            if i != j:\n",
    "                mat_ =  get_box1(i,j,A,nboxes,n)[ll[i],:]\n",
    "                mat[i*k:(i+1)*k,j*k:(j+1)*k] = mat_[:,ll[j]]\n",
    "    return mat"
   ]
  },
  {
   "cell_type": "code",
   "execution_count": 12,
   "metadata": {},
   "outputs": [],
   "source": [
    "def R_1(i,k,A,nboxes,n):\n",
    "    RR = np.transpose(L_1(i,k,A,nboxes,n)[0])\n",
    "    return RR"
   ]
  },
  {
   "cell_type": "code",
   "execution_count": 13,
   "metadata": {},
   "outputs": [],
   "source": [
    "def new_S_1(k,A,nboxes,n):\n",
    "    mat_ = S_1(k,A,nboxes,n)\n",
    "    for i in range(nboxes):\n",
    "        mat_[i*k:(i+1)*k,i*k:(i+1)*k] = np.linalg.inv(R_1(i,k,A,nboxes,n) @ np.linalg.inv(get_box1(i,i,A,nboxes,n)) @ L_1(i,k,A,nboxes,n)[0])\n",
    "    return mat_"
   ]
  },
  {
   "cell_type": "code",
   "execution_count": 14,
   "metadata": {},
   "outputs": [],
   "source": [
    "def logdet_level1(k,A,nboxes,n):\n",
    "    a1 = 0\n",
    "    p1,l1,u1 = scipy.linalg.lu(new_S_1(k,A,nboxes,n))\n",
    "    for i in range(k*nboxes):\n",
    "        a1 += math.log(abs(u1[i,i]))\n",
    "        \n",
    "    a2 = 0\n",
    "    for i in range (nboxes):\n",
    "        p2,l2,u2 = scipy.linalg.lu(get_box1(i,i,A,nboxes,n))\n",
    "        for j in range(size):\n",
    "            a2 +=math.log(abs(u2[j,j]))\n",
    "            \n",
    "    a3 = 0\n",
    "    for i in range(nboxes):\n",
    "        p3,l3,u3 = scipy.linalg.lu(-R_1(i,k,A,nboxes,n)@np.linalg.inv(get_box1(i,i,A,nboxes,n)) @L_1(i,k,A,nboxes,n)[0])\n",
    "        for j in range(k):\n",
    "            a3 += math.log(abs(u3[j,j]))\n",
    "    return a1 + a2 + a3"
   ]
  },
  {
   "cell_type": "code",
   "execution_count": 15,
   "metadata": {},
   "outputs": [
    {
     "name": "stdout",
     "output_type": "stream",
     "text": [
      "-0.001850630649946738\n"
     ]
    }
   ],
   "source": [
    "sign, logdet = slogdet(A1)\n",
    "print(logdet)"
   ]
  },
  {
   "cell_type": "code",
   "execution_count": 16,
   "metadata": {},
   "outputs": [],
   "source": [
    "relative_error_level1 = []\n",
    "for i in range(1,size+1):\n",
    "    relative_error_level1.append(abs((logdet_level1(i,A1,nboxes,n) - logdet)/logdet))"
   ]
  },
  {
   "cell_type": "code",
   "execution_count": 17,
   "metadata": {},
   "outputs": [
    {
     "data": {
      "text/plain": [
       "[<matplotlib.lines.Line2D at 0x7fadf0ce6748>]"
      ]
     },
     "execution_count": 17,
     "metadata": {},
     "output_type": "execute_result"
    },
    {
     "data": {
      "image/png": "[encoded data removed]",
      "text/plain": [
       "<Figure size 432x288 with 1 Axes>"
      ]
     },
     "metadata": {
      "needs_background": "light"
     },
     "output_type": "display_data"
    }
   ],
   "source": [
    "plt.semilogy(np.linspace(1,size,size), relative_error_level1)"
   ]
  },
  {
   "cell_type": "markdown",
   "metadata": {},
   "source": [
    "#### Second level scheme"
   ]
  },
  {
   "cell_type": "code",
   "execution_count": 18,
   "metadata": {},
   "outputs": [],
   "source": [
    "def plot_box_rank2(k, nboxes, n, tol=1E-8):\n",
    "    \"\"\"Plot rank of the boxes in level 2.\"\"\"\n",
    "    from scipy.linalg import svdvals\n",
    "    ranks = np.zeros((nboxes//2,nboxes//2),dtype='int32')\n",
    "    mat = S_1(k,A1,nboxes,n)\n",
    "    for i in range(nboxes//2):\n",
    "        for j in range(nboxes//2):\n",
    "            m = mat[k*2*i:k*2*(i+1),k*2*j:k*2*(j+1)]\n",
    "            s = svdvals(m)\n",
    "            ranks[i,j] = np.sum(s>tol)\n",
    "    print(ranks)\n",
    "    plt.imshow(ranks, cmap='Accent')\n",
    "    plt.colorbar()"
   ]
  },
  {
   "cell_type": "code",
   "execution_count": 19,
   "metadata": {},
   "outputs": [
    {
     "name": "stdout",
     "output_type": "stream",
     "text": [
      "[[16 10 10  7  8 10  8  8  9  8  6  6]\n",
      " [10 16 10  8  9 10  9  9 10  9  6  6]\n",
      " [10 10 16  8  8 10  8  9 10  8  6  6]\n",
      " [ 7  8  8  6  6  8  6  6  8  6  4  4]\n",
      " [ 8  9  8  6  8  9  7  7  8  7  4  4]\n",
      " [10  9  8  8  8 16  9  9 10  8  6  6]\n",
      " [ 9 10  8  7  7 10  8  7  8  8  6  6]\n",
      " [ 8  8  8  6  7  8  7  8  9  6  5  5]\n",
      " [ 9 10 10  7  9 10  9  9 16  8  6  6]\n",
      " [ 9  9  7  7  7  8  7  7  7  8  5  5]\n",
      " [ 5  6  6  4  4  5  4  4  6  4  4  2]\n",
      " [ 4  4  4  3  4  5  4  4  4  4  2  4]]\n"
     ]
    },
    {
     "data": {
      "image/png": "[encoded data removed]",
      "text/plain": [
       "<Figure size 432x288 with 2 Axes>"
      ]
     },
     "metadata": {
      "needs_background": "light"
     },
     "output_type": "display_data"
    }
   ],
   "source": [
    "plot_box_rank2(10,nboxes,n)"
   ]
  },
  {
   "cell_type": "code",
   "execution_count": 18,
   "metadata": {},
   "outputs": [],
   "source": [
    "def get_box2(i,j,k,A,nboxes,n): \n",
    "    '''Get boxes from S matrix in single level scheme'''\n",
    "    return S_1(k,A,nboxes,n)[i*2*k:(i+1)*2*k,j*2*k:(j+1)*2*k]"
   ]
  },
  {
   "cell_type": "code",
   "execution_count": 25,
   "metadata": {},
   "outputs": [],
   "source": [
    "def get_con_box2(i,k,A,nboxes,n):\n",
    "    \"\"\"Return Ai in the second level\"\"\"\n",
    "    BB = S_1(k,A,nboxes,n)[i*2*k : (i+1)*2*k, :]\n",
    "    B = np.delete(BB, np.s_[i*2*k : (i+1)*2*k], axis = 1)\n",
    "    \n",
    "    CC = np.transpose(S_1(k,A,nboxes,n)[:, i*2*k : (i+1)*2*k])\n",
    "    C = np.delete(CC, np.s_[i*2*k : (i+1)*2*k], axis = 1)\n",
    "    return np.hstack((B,C))"
   ]
  },
  {
   "cell_type": "code",
   "execution_count": 34,
   "metadata": {},
   "outputs": [],
   "source": [
    "def L_2(i,k,k2,A,nboxes,n):\n",
    "    idx1,proj1 = sli.interp_decomp(get_con_box2(i,k,A,nboxes,n), k2, rand = False)\n",
    "    B1 = sli.reconstruct_skel_matrix(get_con_box2(i,k,A,nboxes,n),k2,idx1)\n",
    "    B1_trans = np.transpose(B1)\n",
    "    \n",
    "    idx2,proj2 = sli.interp_decomp(B1_trans, k2, rand = False)\n",
    "    P2_trans = sli.reconstruct_interp_matrix(idx2,proj2)\n",
    "\n",
    "    P2 = np.transpose(P2_trans)\n",
    "    return P2,idx2"
   ]
  },
  {
   "cell_type": "code",
   "execution_count": 27,
   "metadata": {},
   "outputs": [],
   "source": [
    "def index_set2(k,k2,A,nboxes,n):\n",
    "    l = []\n",
    "    for i in range(nboxes//2):\n",
    "        l.append(L_2(i,k,k2,A,nboxes,n)[1][0:k2])\n",
    "    return l"
   ]
  },
  {
   "cell_type": "code",
   "execution_count": 28,
   "metadata": {},
   "outputs": [],
   "source": [
    "def S_2(k,k2,A,nboxes,n):\n",
    "    ll = index_set2(k,k2,A,nboxes,n)\n",
    "    mat = np.zeros((k2*(nboxes//2),k2*(nboxes//2)))\n",
    "    for i in range(nboxes//2):\n",
    "        for j in range(nboxes//2):\n",
    "            if i != j:\n",
    "                mat_ =  S_1(k,A,nboxes,n)[i*2*k:(i+1)*2*k,j*2*k:(j+1)*2*k][ll[i],:]\n",
    "                mat[i*k2:(i+1)*k2,j*k2:(j+1)*k2] = mat_[:,ll[j]]\n",
    "    return mat"
   ]
  },
  {
   "cell_type": "code",
   "execution_count": 29,
   "metadata": {},
   "outputs": [],
   "source": [
    "def R_2(i,k,k2,A,nboxes,n):\n",
    "    RR = np.transpose(L_2(i,k,k2,A,nboxes,n)[0])\n",
    "    return RR"
   ]
  },
  {
   "cell_type": "code",
   "execution_count": 45,
   "metadata": {},
   "outputs": [],
   "source": [
    "def new_S_2(k,k2,A,nboxes,n):\n",
    "    mat_ = S_2(k,k2,A,nboxes,n)\n",
    "    for i in range(nboxes//2):\n",
    "        mat_[k2*i:k2*(i+1),k2*i:k2*(i+1)] = np.linalg.inv(R_2(i,k,k2,A,nboxes,n)@np.linalg.inv(new_S_1(k,A,nboxes,n)[2*k*i:2*k*(i+1),2*k*i:2*k*(i+1)])@L_2(i,k,k2,A,nboxes,n)[0])\n",
    "    return mat_ "
   ]
  },
  {
   "cell_type": "code",
   "execution_count": 47,
   "metadata": {},
   "outputs": [],
   "source": [
    "def logdet_level2(k,k2,A,nboxes,n):\n",
    "    \n",
    "    a1 = 0                   #========================== D1 =============================tick\n",
    "    for i in range (nboxes):\n",
    "        p1,l1,u1 = scipy.linalg.lu(get_box1(i,i,A,nboxes,n))\n",
    "        for j in range(size):\n",
    "            a1 +=math.log(abs(u1[j,j]))\n",
    "            \n",
    "    a2 = 0     \n",
    "    for i in range(nboxes//2):\n",
    "        p2,l2,u2 = scipy.linalg.lu(np.identity(k) - R_1(i,k,A,nboxes,n)@np.linalg.inv(get_box1(i,i,A,nboxes,n)) @L_1(i,k,A,nboxes,n)[0]@ S_1(k,A,nboxes,n)[i*k:(i+1)*k,(i+1)*k:(i+2)*k]\\\n",
    "                                   @ R_1(i+1,k,A,nboxes,n)@np.linalg.inv(get_box1(i+1,i+1,A,nboxes,n)) @L_1(i+1,k,A,nboxes,n)[0] @ S_1(k,A,nboxes,n)[(i+1)*k:(i+2)*k,i*k:(i+1)*k] )\n",
    "        for j in range(2*k):\n",
    "            a2 += math.log(abs(u2[j,j]))\n",
    "            \n",
    "\n",
    "    a3 = 0                  #================= -R2.inv(X)L2 ===============================\n",
    "    for i in range(nboxes//2):\n",
    "        p3,l3,u3 = scipy.linalg.lu(new_S_2(k,k2,A,nboxes,n))\n",
    "        for j in range(k2):\n",
    "            a5 += math.log(abs(u3[j,j]))            \n",
    "            \n",
    "    return a1  + a2 +  a3 "
   ]
  },
  {
   "cell_type": "code",
   "execution_count": 50,
   "metadata": {},
   "outputs": [],
   "source": [
    "a2 = 0     \n",
    "for i in range(nboxes//2):\n",
    "    p2,l2,u2 = scipy.linalg.lu(np.identity(k) - R_1(i,k,A1,nboxes,n)@np.linalg.inv(get_box1(i,i,A1,nboxes,n)) @L_1(i,k,A1,nboxes,n)[0]@ S_1(k,A1,nboxes,n)[i*k:(i+1)*k,(i+1)*k:(i+2)*k]\\\n",
    "                               @ R_1(i+1,k,A,nboxes,n)@np.linalg.inv(get_box1(i+1,i+1,A,nboxes,n)) @L_1(i+1,k,A,nboxes,n)[0] @ S_1(k,A,nboxes,n)[(i+1)*k:(i+2)*k,i*k:(i+1)*k] )\n",
    "    for j in range(2*k):\n",
    "        a2 += math.log(abs(u2[j,j]))"
   ]
  },
  {
   "cell_type": "code",
   "execution_count": null,
   "metadata": {},
   "outputs": [],
   "source": []
  },
  {
   "cell_type": "code",
   "execution_count": null,
   "metadata": {},
   "outputs": [],
   "source": []
  }
 ],
 "metadata": {
  "kernelspec": {
   "display_name": "Python 3",
   "language": "python",
   "name": "python3"
  },
  "language_info": {
   "codemirror_mode": {
    "name": "ipython",
    "version": 3
   },
   "file_extension": ".py",
   "mimetype": "text/x-python",
   "name": "python",
   "nbconvert_exporter": "python",
   "pygments_lexer": "ipython3",
   "version": "3.7.0"
  }
 },
 "nbformat": 4,
 "nbformat_minor": 2
}
