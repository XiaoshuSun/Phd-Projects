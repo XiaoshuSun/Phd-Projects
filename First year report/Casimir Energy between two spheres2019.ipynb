{
 "cells": [
  {
   "cell_type": "code",
   "execution_count": 3,
   "metadata": {},
   "outputs": [],
   "source": [
    "import bempp.api\n",
    "from bempp.api.assembly.blocked_operator import BlockedOperator\n",
    "import math\n",
    "import numpy as np\n",
    "import scipy \n",
    "import cmath\n",
    "from numba import objmode\n",
    "from numpy.linalg import slogdet\n",
    "from bempp.api.operators.far_field import helmholtz as helmholtz_farfield\n",
    "import matplotlib.pyplot as plt"
   ]
  },
  {
   "cell_type": "code",
   "execution_count": 7,
   "metadata": {},
   "outputs": [],
   "source": [
    "h = 0.15\n",
    "center1 = (1.75, 0, 0)\n",
    "center2 = (-1.75, 0, 0)\n",
    "\n",
    "sphere1 = bempp.api.shapes.sphere(h=h, origin=center1)\n",
    "sphere2 = bempp.api.shapes.sphere(h=h, origin=center2)\n",
    "\n",
    "rwg1 = bempp.api.function_space(sphere1, \"RWG\", 0)\n",
    "rwg2 = bempp.api.function_space(sphere2, \"RWG\", 0)\n",
    "\n",
    "snc1 = bempp.api.function_space(sphere1, \"SNC\", 0)\n",
    "snc2 = bempp.api.function_space(sphere2, \"SNC\", 0)"
   ]
  },
  {
   "cell_type": "code",
   "execution_count": 8,
   "metadata": {},
   "outputs": [],
   "source": [
    "N = 20  # number of quadrature points\n",
    "lbound = .005\n",
    "ubound = 10\n",
    "\n",
    "# We use an exponentially adapted trapezoid rule.\n",
    "quad_points = np.linspace(np.exp(-ubound), np.exp(-lbound), N)\n",
    "results = np.empty(N, dtype='float64')"
   ]
  },
  {
   "cell_type": "markdown",
   "metadata": {},
   "source": [
    "We are defining an exponentially adapted trapezoid rule and choose the quadrature points accordingly."
   ]
  },
  {
   "cell_type": "code",
   "execution_count": 9,
   "metadata": {
    "scrolled": true
   },
   "outputs": [
    {
     "name": "stdout",
     "output_type": "stream",
     "text": [
      "Log Determinant: 0: 6.692424392440443e-13\n",
      "Log Determinant: 1: -9.518597271303642e-06\n",
      "Log Determinant: 2: -6.956477937820622e-05\n",
      "Log Determinant: 3: -0.00021604335504805976\n",
      "Log Determinant: 4: -0.0004711469502304588\n",
      "Log Determinant: 5: -0.0008438372877825626\n",
      "Log Determinant: 6: -0.001330200028322496\n",
      "Log Determinant: 7: -0.0019142500965479464\n",
      "Log Determinant: 8: -0.0025695342380566387\n",
      "Log Determinant: 9: -0.003261755447084207\n",
      "Log Determinant: 10: -0.003952472013281915\n",
      "Log Determinant: 11: -0.004603673341495227\n",
      "Log Determinant: 12: -0.005182722812006864\n",
      "Log Determinant: 13: -0.0056668419824795245\n",
      "Log Determinant: 14: -0.0060460931653498655\n",
      "Log Determinant: 15: -0.006323828278902894\n",
      "Log Determinant: 16: -0.006513952339566303\n",
      "Log Determinant: 17: -0.006635194055345141\n",
      "Log Determinant: 18: -0.006703927222194892\n",
      "Log Determinant: 19: -0.006728912663845932\n"
     ]
    }
   ],
   "source": [
    "for index, point in enumerate(quad_points):\n",
    "    \n",
    "    wavenumber = -1j * np.log(point)\n",
    "\n",
    "    op11 = bempp.api.operators.boundary.maxwell.electric_field(rwg1, rwg1, snc1, wavenumber)\n",
    "    op22 = bempp.api.operators.boundary.maxwell.electric_field(rwg2, rwg2, snc2, wavenumber)\n",
    "    op21 = bempp.api.operators.boundary.maxwell.electric_field(rwg1, rwg2, snc2, wavenumber)\n",
    "    op12 = bempp.api.operators.boundary.maxwell.electric_field(rwg2, rwg1, snc1, wavenumber)\n",
    "    \n",
    "    mat11 = op11.weak_form().A\n",
    "    mat12 = op12.weak_form().A\n",
    "    mat21 = op21.weak_form().A\n",
    "    mat22 = op22.weak_form().A\n",
    "    mat12_zero = np.zeros((mat11.shape[0],mat12.shape[1]))\n",
    "    mat21_zero = np.zeros((mat22.shape[0],mat11.shape[1]))\n",
    "\n",
    "    mat = np.block([[mat11,mat12],[mat21,mat22]])  \n",
    "    mat11_inv = scipy.linalg.lu_solve(scipy.linalg.lu_factor(mat11), np.eye(mat11.shape[0]))\n",
    "    mat22_inv = scipy.linalg.lu_solve(scipy.linalg.lu_factor(mat22), np.eye(mat22.shape[0]))\n",
    "\n",
    "    inv_free_mat2 = np.block([[mat11_inv,  mat12_zero],\n",
    "                          [mat21_zero, mat22_inv]])  \n",
    "\n",
    "    combined_inverse_free = inv_free_mat2.dot(mat)\n",
    "    sign, logdet = slogdet(combined_inverse_free)\n",
    "    results[index] = logdet\n",
    "    print(f\"Log Determinant: {index}: {logdet}\")"
   ]
  },
  {
   "cell_type": "markdown",
   "metadata": {},
   "source": [
    "The left plot shows the relative log determinant with increasing imaginary wavenumber. The right plot uses a scale appropriate for the trapezoid quadrature rule."
   ]
  },
  {
   "cell_type": "code",
   "execution_count": 10,
   "metadata": {},
   "outputs": [
    {
     "data": {
      "image/png": "[encoded data removed]",
      "text/plain": [
       "<Figure size 432x288 with 2 Axes>"
      ]
     },
     "metadata": {
      "needs_background": "light"
     },
     "output_type": "display_data"
    }
   ],
   "source": [
    "%matplotlib inline\n",
    "from matplotlib.pyplot import figure\n",
    "\n",
    "fig = figure()\n",
    "ax1 = fig.add_subplot(121)\n",
    "ax1.set_xlabel('1j * k')\n",
    "ax2 = fig.add_subplot(122)\n",
    "ax2.set_xlabel('exp(-k)')\n",
    "ax1.semilogy(-np.log(quad_points), -results)\n",
    "ax2.plot(quad_points, -results)\n",
    "fig.tight_layout()"
   ]
  },
  {
   "cell_type": "code",
   "execution_count": 11,
   "metadata": {},
   "outputs": [
    {
     "name": "stdout",
     "output_type": "stream",
     "text": [
      "The normalized Casimir Energy is: 0.0008694834909084946\n"
     ]
    }
   ],
   "source": [
    "casimir_energy = np.trapz(-results / quad_points, quad_points) / (2 * np.pi)\n",
    "print(f\"The normalized Casimir Energy is: {casimir_energy}\")"
   ]
  },
  {
   "cell_type": "code",
   "execution_count": null,
   "metadata": {},
   "outputs": [],
   "source": []
  }
 ],
 "metadata": {
  "kernelspec": {
   "display_name": "Python 3",
   "language": "python",
   "name": "python3"
  },
  "language_info": {
   "codemirror_mode": {
    "name": "ipython",
    "version": 3
   },
   "file_extension": ".py",
   "mimetype": "text/x-python",
   "name": "python",
   "nbconvert_exporter": "python",
   "pygments_lexer": "ipython3",
   "version": "3.7.0"
  }
 },
 "nbformat": 4,
 "nbformat_minor": 4
}
