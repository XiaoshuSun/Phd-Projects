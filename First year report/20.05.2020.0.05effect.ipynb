{
 "cells": [
  {
   "cell_type": "code",
   "execution_count": 2,
   "metadata": {},
   "outputs": [
    {
     "name": "stdout",
     "output_type": "stream",
     "text": [
      "0: Portable Computing Language\n",
      "    0: pthread-Intel(R) Xeon(R) W-2155 CPU @ 3.30GHz\n"
     ]
    }
   ],
   "source": [
    "import bempp.api\n",
    "from bempp.api.assembly.blocked_operator import BlockedOperator\n",
    "import math\n",
    "import numpy as np\n",
    "from numpy.linalg import slogdet\n",
    "import matplotlib.pyplot as plt\n",
    "bempp.api.show_available_platforms_and_devices()\n",
    "bempp.api.set_default_device(0, 0)"
   ]
  },
  {
   "cell_type": "code",
   "execution_count": 3,
   "metadata": {},
   "outputs": [],
   "source": [
    "N_wn = 5\n",
    "lbound_wn = .005    \n",
    "ubound_wn = 4      \n",
    "quad_points = np.linspace(np.exp(-ubound_wn), np.exp(-lbound_wn), N_wn)\n",
    "\n",
    "results_04 = np.empty(N_wn, dtype='float64')\n",
    "results_02 = np.empty(N_wn, dtype='float64')\n",
    "results_01 = np.empty(N_wn, dtype='float64')\n",
    "results_005 = np.empty(N_wn, dtype='float64')\n",
    "\n",
    "results_03 = np.empty(N_wn, dtype='float64')\n",
    "\n",
    "\n",
    "\n",
    "N_Z = 15\n",
    "lbound_Z = 0.5  # lower bound of Z\n",
    "ubound_Z = 4.0  # upper bound of Z\n",
    "surf_dist = np.linspace(lbound_Z, ubound_Z, N_Z)\n",
    "\n",
    "casimir_energy_04 = np.empty(N_Z, dtype='float64')\n",
    "casimir_energy_02 = np.empty(N_Z, dtype='float64')\n",
    "casimir_energy_01 = np.empty(N_Z, dtype='float64')\n",
    "casimir_energy_005 = np.empty(N_Z, dtype='float64')\n",
    "\n",
    "casimir_energy_03 = np.empty(N_Z, dtype='float64')"
   ]
  },
  {
   "cell_type": "code",
   "execution_count": null,
   "metadata": {},
   "outputs": [],
   "source": [
    "h1 = 0.4 \n",
    "\n",
    "sphere1 = bempp.api.shapes.sphere(h=h1, origin=((1.5/2) + 1, 0, 0))\n",
    "sphere2 = bempp.api.shapes.sphere(h=h1, origin=(-((1.5/2) + 1), 0, 0))\n",
    "\n",
    "rwg1 = bempp.api.function_space(sphere1, \"RWG\", 0)\n",
    "rwg2 = bempp.api.function_space(sphere2, \"RWG\", 0)\n",
    "\n",
    "snc1 = bempp.api.function_space(sphere1, \"SNC\", 0)\n",
    "snc2 = bempp.api.function_space(sphere2, \"SNC\", 0)\n",
    "\n",
    "for index2, point2 in enumerate(quad_points):\n",
    "\n",
    "    wavenumber = -1j * np.log(point2)\n",
    "\n",
    "    op11 = bempp.api.operators.boundary.maxwell.electric_field(rwg1, rwg1, snc1, wavenumber)\n",
    "    op22 = bempp.api.operators.boundary.maxwell.electric_field(rwg2, rwg2, snc2, wavenumber)\n",
    "    op21 = bempp.api.operators.boundary.maxwell.electric_field(rwg1, rwg2, snc2, wavenumber)\n",
    "    op12 = bempp.api.operators.boundary.maxwell.electric_field(rwg2, rwg1, snc1, wavenumber)\n",
    "\n",
    "    mat11 = op11.weak_form().A\n",
    "    mat12 = op12.weak_form().A\n",
    "    mat21 = op21.weak_form().A\n",
    "    mat22 = op22.weak_form().A\n",
    "    mat12_zero = np.zeros((mat11.shape[0],mat12.shape[1]))\n",
    "    mat21_zero = np.zeros((mat22.shape[0],mat11.shape[1]))\n",
    "\n",
    "    mat = np.real(np.block([[mat11,mat12],[mat21,mat22]]))    \n",
    "    mat2 = np.real(np.block([[mat11,mat12_zero],[mat21_zero,mat22]]))\n",
    "    combined = np.linalg.inv(mat2).dot(mat)\n",
    "    sign, logdet = slogdet(combined)\n",
    "    results_04[index2] = logdet\n",
    "\n",
    "casimir_energy_04 = np.trapz(-results_04 / quad_points, quad_points) / (2 * np.pi)\n",
    "print(casimir_energy_04)\n"
   ]
  },
  {
   "cell_type": "code",
   "execution_count": null,
   "metadata": {},
   "outputs": [],
   "source": [
    "h2 = 0.2\n",
    "\n",
    "sphere1 = bempp.api.shapes.sphere(h=h2, origin=((1.5/2) + 1, 0, 0))\n",
    "sphere2 = bempp.api.shapes.sphere(h=h2, origin=(-((1.5/2) + 1), 0, 0))\n",
    "\n",
    "rwg1 = bempp.api.function_space(sphere1, \"RWG\", 0)\n",
    "rwg2 = bempp.api.function_space(sphere2, \"RWG\", 0)\n",
    "\n",
    "snc1 = bempp.api.function_space(sphere1, \"SNC\", 0)\n",
    "snc2 = bempp.api.function_space(sphere2, \"SNC\", 0)\n",
    "\n",
    "for index2, point2 in enumerate(quad_points):\n",
    "\n",
    "    wavenumber = -1j * np.log(point2)\n",
    "\n",
    "    op11 = bempp.api.operators.boundary.maxwell.electric_field(rwg1, rwg1, snc1, wavenumber)\n",
    "    op22 = bempp.api.operators.boundary.maxwell.electric_field(rwg2, rwg2, snc2, wavenumber)\n",
    "    op21 = bempp.api.operators.boundary.maxwell.electric_field(rwg1, rwg2, snc2, wavenumber)\n",
    "    op12 = bempp.api.operators.boundary.maxwell.electric_field(rwg2, rwg1, snc1, wavenumber)\n",
    "\n",
    "    mat11 = op11.weak_form().A\n",
    "    mat12 = op12.weak_form().A\n",
    "    mat21 = op21.weak_form().A\n",
    "    mat22 = op22.weak_form().A\n",
    "    mat12_zero = np.zeros((mat11.shape[0],mat12.shape[1]))\n",
    "    mat21_zero = np.zeros((mat22.shape[0],mat11.shape[1]))\n",
    "\n",
    "    mat = np.real(np.block([[mat11,mat12],[mat21,mat22]]))    \n",
    "    mat2 = np.real(np.block([[mat11,mat12_zero],[mat21_zero,mat22]]))\n",
    "    combined = np.linalg.inv(mat2).dot(mat)\n",
    "    sign, logdet = slogdet(combined)\n",
    "    results_02[index2] = logdet\n",
    "\n",
    "casimir_energy_02 = np.trapz(-results_02 / quad_points, quad_points) / (2 * np.pi)\n",
    "print(casimir_energy_02)"
   ]
  },
  {
   "cell_type": "code",
   "execution_count": null,
   "metadata": {},
   "outputs": [],
   "source": [
    "h3 = 0.1 \n",
    "\n",
    "sphere1 = bempp.api.shapes.sphere(h=h3, origin=((1.5/2) + 1, 0, 0))\n",
    "sphere2 = bempp.api.shapes.sphere(h=h3, origin=(-((1.5/2) + 1), 0, 0))\n",
    "\n",
    "rwg1 = bempp.api.function_space(sphere1, \"RWG\", 0)\n",
    "rwg2 = bempp.api.function_space(sphere2, \"RWG\", 0)\n",
    "\n",
    "snc1 = bempp.api.function_space(sphere1, \"SNC\", 0)\n",
    "snc2 = bempp.api.function_space(sphere2, \"SNC\", 0)\n",
    "\n",
    "for index2, point2 in enumerate(quad_points):\n",
    "\n",
    "    wavenumber = -1j * np.log(point2)\n",
    "\n",
    "    op11 = bempp.api.operators.boundary.maxwell.electric_field(rwg1, rwg1, snc1, wavenumber)\n",
    "    op22 = bempp.api.operators.boundary.maxwell.electric_field(rwg2, rwg2, snc2, wavenumber)\n",
    "    op21 = bempp.api.operators.boundary.maxwell.electric_field(rwg1, rwg2, snc2, wavenumber)\n",
    "    op12 = bempp.api.operators.boundary.maxwell.electric_field(rwg2, rwg1, snc1, wavenumber)\n",
    "\n",
    "    mat11 = op11.weak_form().A\n",
    "    mat12 = op12.weak_form().A\n",
    "    mat21 = op21.weak_form().A\n",
    "    mat22 = op22.weak_form().A\n",
    "    mat12_zero = np.zeros((mat11.shape[0],mat12.shape[1]))\n",
    "    mat21_zero = np.zeros((mat22.shape[0],mat11.shape[1]))\n",
    "\n",
    "    mat = np.real(np.block([[mat11,mat12],[mat21,mat22]]))    \n",
    "    mat2 = np.real(np.block([[mat11,mat12_zero],[mat21_zero,mat22]]))\n",
    "    combined = np.linalg.inv(mat2).dot(mat)\n",
    "    sign, logdet = slogdet(combined)\n",
    "    results_01[index2] = logdet\n",
    "\n",
    "casimir_energy_01 = np.trapz(-results_01 / quad_points, quad_points) / (2 * np.pi)\n",
    "print(casimir_energy_01)"
   ]
  },
  {
   "cell_type": "code",
   "execution_count": 4,
   "metadata": {},
   "outputs": [
    {
     "name": "stdout",
     "output_type": "stream",
     "text": [
      "0.0008768748563855567\n"
     ]
    }
   ],
   "source": [
    "h4 = 0.05\n",
    "\n",
    "sphere1 = bempp.api.shapes.sphere(h=h4, origin=((1.5/2) + 1, 0, 0))\n",
    "sphere2 = bempp.api.shapes.sphere(h=h4, origin=(-((1.5/2) + 1), 0, 0))\n",
    "\n",
    "rwg1 = bempp.api.function_space(sphere1, \"RWG\", 0)\n",
    "rwg2 = bempp.api.function_space(sphere2, \"RWG\", 0)\n",
    "\n",
    "snc1 = bempp.api.function_space(sphere1, \"SNC\", 0)\n",
    "snc2 = bempp.api.function_space(sphere2, \"SNC\", 0)\n",
    "\n",
    "for index2, point2 in enumerate(quad_points):\n",
    "\n",
    "    wavenumber = -1j * np.log(point2)\n",
    "\n",
    "    op11 = bempp.api.operators.boundary.maxwell.electric_field(rwg1, rwg1, snc1, wavenumber)\n",
    "    op22 = bempp.api.operators.boundary.maxwell.electric_field(rwg2, rwg2, snc2, wavenumber)\n",
    "    op21 = bempp.api.operators.boundary.maxwell.electric_field(rwg1, rwg2, snc2, wavenumber)\n",
    "    op12 = bempp.api.operators.boundary.maxwell.electric_field(rwg2, rwg1, snc1, wavenumber)\n",
    "\n",
    "    mat11 = op11.weak_form().A\n",
    "    mat12 = op12.weak_form().A\n",
    "    mat21 = op21.weak_form().A\n",
    "    mat22 = op22.weak_form().A\n",
    "    mat12_zero = np.zeros((mat11.shape[0],mat12.shape[1]))\n",
    "    mat21_zero = np.zeros((mat22.shape[0],mat11.shape[1]))\n",
    "\n",
    "    mat = np.real(np.block([[mat11,mat12],[mat21,mat22]]))    \n",
    "    mat2 = np.real(np.block([[mat11,mat12_zero],[mat21_zero,mat22]]))\n",
    "    combined = np.linalg.inv(mat2).dot(mat)\n",
    "    sign, logdet = slogdet(combined)\n",
    "    results_005[index2] = logdet\n",
    "\n",
    "casimir_energy_005 = np.trapz(-results_005 / quad_points, quad_points) / (2 * np.pi)\n",
    "print(casimir_energy_005)"
   ]
  },
  {
   "cell_type": "code",
   "execution_count": null,
   "metadata": {},
   "outputs": [],
   "source": [
    "plt.plot(surf_dist,casimir_energy_04, 'r*-')\n",
    "plt.plot(surf_dist,casimir_energy_02, 'g*-')\n",
    "plt.plot(surf_dist,casimir_energy_01, 'b*-')\n",
    "plt.plot(surf_dist,casimir_energy_005, 'c*-')\n",
    "\n",
    "plt.xlabel('Distance between two spheres: the ratio Z/R')\n",
    "plt.ylabel('Normalized Casimir energy')\n",
    "plt.legend(['h=0.4', 'h=0.2', 'h=0.1','h=0.05'])\n",
    "plt.savefig('Casimir_with_refinement.pdf',bbox_inches='tight')"
   ]
  },
  {
   "cell_type": "code",
   "execution_count": null,
   "metadata": {},
   "outputs": [],
   "source": [
    "casimir_energy_005"
   ]
  },
  {
   "cell_type": "code",
   "execution_count": null,
   "metadata": {},
   "outputs": [],
   "source": [
    "casimir_energy_03"
   ]
  },
  {
   "cell_type": "code",
   "execution_count": null,
   "metadata": {},
   "outputs": [],
   "source": [
    "casimir_energy_04"
   ]
  },
  {
   "cell_type": "code",
   "execution_count": null,
   "metadata": {},
   "outputs": [],
   "source": [
    "casimir_energy_02"
   ]
  },
  {
   "cell_type": "code",
   "execution_count": null,
   "metadata": {},
   "outputs": [],
   "source": [
    "casimir_energy_01"
   ]
  },
  {
   "cell_type": "code",
   "execution_count": null,
   "metadata": {},
   "outputs": [],
   "source": [
    "plt.plot(surf_dist[0:5],casimir_energy_04[0:5], 'r*-')\n",
    "plt.plot(surf_dist[0:5],casimir_energy_02[0:5], 'g*-')\n",
    "plt.plot(surf_dist[0:5],casimir_energy_01[0:5], 'b*-')\n",
    "plt.plot(surf_dist[0:5],casimir_energy_005[0:5], 'c*-')\n",
    "\n",
    "plt.xlabel('Distance between two spheres: the ratio Z/R')\n",
    "plt.ylabel('Normalized Casimir energy')\n",
    "plt.legend(['h=0.4', 'h=0.2', 'h=0.1', 'h=0.05'])\n",
    "plt.savefig('Casimir_with_refinement1.pdf',bbox_inches='tight')"
   ]
  },
  {
   "cell_type": "code",
   "execution_count": null,
   "metadata": {},
   "outputs": [],
   "source": [
    "plt.plot(surf_dist[5:10],casimir_energy_04[5:10], 'r*-')\n",
    "plt.plot(surf_dist[5:10],casimir_energy_02[5:10], 'g*-')\n",
    "plt.plot(surf_dist[5:10],casimir_energy_01[5:10], 'b*-')\n",
    "plt.plot(surf_dist[5:10],casimir_energy_005[5:10], 'c*-')\n",
    "\n",
    "plt.xlabel('Distance between two spheres: the ratio Z/R')\n",
    "plt.ylabel('Normalized Casimir energy')\n",
    "plt.legend(['h=0.4', 'h=0.2', 'h=0.1','h=0.05'])\n",
    "plt.savefig('Casimir_with_refinement2.pdf',bbox_inches='tight')"
   ]
  },
  {
   "cell_type": "code",
   "execution_count": null,
   "metadata": {},
   "outputs": [],
   "source": [
    "plt.plot(surf_dist[10:],casimir_energy_04[10:], 'r*-')\n",
    "plt.plot(surf_dist[10:],casimir_energy_02[10:], 'g*-')\n",
    "plt.plot(surf_dist[10:],casimir_energy_01[10:], 'b*-')\n",
    "plt.plot(surf_dist[10:],casimir_energy_005[10:], 'c*-')\n",
    "\n",
    "plt.xlabel('Distance between two spheres: the ratio Z/R')\n",
    "plt.ylabel('Normalized Casimir energy')\n",
    "plt.legend(['h=0.4', 'h=0.2', 'h=0.1','h=0.05'])\n",
    "plt.savefig('Casimir_with_refinement3.pdf',bbox_inches='tight')"
   ]
  },
  {
   "cell_type": "code",
   "execution_count": null,
   "metadata": {},
   "outputs": [],
   "source": [
    "ce_005 = [3.01070367e-02, 8.78990826e-03, 3.49519045e-03, 1.62156316e-03,\n",
    "       8.28186280e-04, 4.53832624e-04, 2.62921398e-04, 1.59400732e-04,\n",
    "       1.00365052e-04, 6.52442808e-05, 4.35850103e-05, 2.98142403e-05,\n",
    "       2.08208543e-05, 1.48075867e-05, 1.07048111e-05]\n",
    "ce_01 = [2.97387886e-02, 8.70890931e-03, 3.46742512e-03, 1.60973515e-03,\n",
    "       8.22549982e-04, 4.50869443e-04, 2.61257482e-04, 1.58417285e-04,\n",
    "       9.97564184e-05, 6.48524959e-05, 4.33256452e-05, 2.96360799e-05,\n",
    "       2.06949102e-05, 1.47176376e-05, 1.06388215e-05]\n",
    "ce_02 = [2.83836736e-02, 8.40653065e-03, 3.36327793e-03, 1.56573714e-03,\n",
    "       8.01028661e-04, 4.39563872e-04, 2.54927375e-04, 1.54714501e-04,\n",
    "       9.74735517e-05, 6.33936732e-05, 4.23623031e-05, 2.89855803e-05,\n",
    "       2.02470226e-05, 1.44003978e-05, 1.04110759e-05]\n",
    "ce_04 = [2.33769652e-02, 7.27765513e-03, 2.97035751e-03, 1.39653942e-03,\n",
    "       7.19312823e-04, 3.96566332e-04, 2.30730983e-04, 1.40379487e-04,\n",
    "       8.86340446e-05, 5.77451401e-05, 3.86453044e-05, 2.64724110e-05,\n",
    "       1.85079480e-05, 1.31757091e-05, 9.53233517e-06]\n",
    "\n",
    "ce_03 = [2.71209993e-02, 8.12598412e-03, 3.26542484e-03, 1.52298981e-03,\n",
    "       7.80381734e-04, 4.28654511e-04, 2.48793147e-04, 1.51042068e-04,\n",
    "       9.51998788e-05, 6.19415296e-05, 4.14077529e-05, 2.83382021e-05,\n",
    "       1.97931311e-05, 1.40818843e-05, 1.01819771e-05]"
   ]
  },
  {
   "cell_type": "code",
   "execution_count": null,
   "metadata": {},
   "outputs": [],
   "source": [
    "alpha = []\n",
    "for i in range(len(ce_005)):\n",
    "    alpha.append( math.log(abs(ce_005[i] - ce_02[i])/abs(ce_005[i] - ce_01[i]), 2))"
   ]
  },
  {
   "cell_type": "code",
   "execution_count": null,
   "metadata": {},
   "outputs": [],
   "source": [
    "alpha"
   ]
  },
  {
   "cell_type": "code",
   "execution_count": null,
   "metadata": {},
   "outputs": [],
   "source": [
    "beta = []\n",
    "for i in range(len(ce_005)):\n",
    "    beta.append( math.log(abs(ce_005[i] - ce_04[i])/abs(ce_005[i] - ce_02[i]), 2))"
   ]
  },
  {
   "cell_type": "code",
   "execution_count": null,
   "metadata": {},
   "outputs": [],
   "source": [
    "beta"
   ]
  },
  {
   "cell_type": "code",
   "execution_count": null,
   "metadata": {},
   "outputs": [],
   "source": [
    "alpha_04 = []\n",
    "for i in range(len(ce_005)):\n",
    "    alpha_04.append(abs(ce_005[i] - ce_04[i]))\n",
    "    \n",
    "alpha_02 = []\n",
    "for i in range(len(ce_005)):\n",
    "    alpha_02.append(abs(ce_005[i] - ce_02[i]))\n",
    "    \n",
    "    \n",
    "alpha_03 = []\n",
    "for i in range(len(ce_005)):\n",
    "    alpha_03.append(abs(ce_005[i] - ce_03[i]))\n",
    "    \n",
    "alpha_01 = []\n",
    "for i in range(len(ce_005)):\n",
    "    alpha_01.append(abs(ce_005[i] - ce_01[i]))"
   ]
  },
  {
   "cell_type": "code",
   "execution_count": null,
   "metadata": {},
   "outputs": [],
   "source": [
    "x_axis = [0.1, 0.2, 0.4]\n",
    "plt.loglog(x_axis, [alpha_01[2], alpha_02[2], alpha_04[2]], 'r*-')\n",
    "plt.loglog(x_axis, [alpha_01[6], alpha_02[6], alpha_04[6]], 'g*-')\n",
    "plt.loglog(x_axis, [alpha_01[10], alpha_02[10],  alpha_04[10]], 'b*-')\n",
    "plt.loglog(x_axis, [alpha_01[14], alpha_02[14],  alpha_04[14]], 'c*-')\n",
    "plt.legend(['Z/R = 1', 'Z/R = 2','Z/R = 3', 'Z/R = 4'])\n",
    "plt.xlabel('h')\n",
    "plt.ylabel('E(h)')\n",
    "plt.savefig('Rate of convergence.pdf')"
   ]
  },
  {
   "cell_type": "code",
   "execution_count": null,
   "metadata": {},
   "outputs": [],
   "source": []
  }
 ],
 "metadata": {
  "kernelspec": {
   "display_name": "Python 3",
   "language": "python",
   "name": "python3"
  },
  "language_info": {
   "codemirror_mode": {
    "name": "ipython",
    "version": 3
   },
   "file_extension": ".py",
   "mimetype": "text/x-python",
   "name": "python",
   "nbconvert_exporter": "python",
   "pygments_lexer": "ipython3",
   "version": "3.7.0"
  }
 },
 "nbformat": 4,
 "nbformat_minor": 4
}
