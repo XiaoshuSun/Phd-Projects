{
 "cells": [
  {
   "cell_type": "code",
   "execution_count": 2,
   "metadata": {},
   "outputs": [
    {
     "name": "stdout",
     "output_type": "stream",
     "text": [
      "0: Portable Computing Language\n",
      "    0: pthread-Intel(R) Xeon(R) W-2155 CPU @ 3.30GHz\n"
     ]
    }
   ],
   "source": [
    "import bempp.api\n",
    "from bempp.api.assembly.blocked_operator import BlockedOperator\n",
    "import numpy as np\n",
    "from numpy.linalg import slogdet\n",
    "import matplotlib.pyplot as plt\n",
    "bempp.api.show_available_platforms_and_devices()\n",
    "bempp.api.set_default_device(0, 0)"
   ]
  },
  {
   "cell_type": "markdown",
   "metadata": {},
   "source": [
    "Setting the size of the element of the mesh and the center of the two spheres. The radius of the sphere is 1 and the length of the cube is 1 by default."
   ]
  },
  {
   "cell_type": "code",
   "execution_count": 85,
   "metadata": {},
   "outputs": [],
   "source": [
    "h = 0.2  # size of the mesh (element)\n",
    "center1 = (3, 0, 0) # center of one sphere\n",
    "center2 = (-3, 0, 0)\n",
    "sphere1 = bempp.api.shapes.sphere(h=h, origin=center1) # construct the spheres\n",
    "sphere2 =  bempp.api.shapes.sphere(h=h, origin=center2)"
   ]
  },
  {
   "cell_type": "markdown",
   "metadata": {},
   "source": [
    "Construct RWG and SNC in difference spaces."
   ]
  },
  {
   "cell_type": "code",
   "execution_count": 86,
   "metadata": {},
   "outputs": [],
   "source": [
    "rwg1 = bempp.api.function_space(sphere1, \"RWG\", 0)\n",
    "rwg2 = bempp.api.function_space(sphere2, \"RWG\", 0)\n",
    "\n",
    "snc1 = bempp.api.function_space(sphere1, \"SNC\", 0)\n",
    "snc2 = bempp.api.function_space(sphere2, \"SNC\", 0)"
   ]
  },
  {
   "cell_type": "code",
   "execution_count": 87,
   "metadata": {},
   "outputs": [
    {
     "name": "stdout",
     "output_type": "stream",
     "text": [
      "-0.0001813685212522184\n"
     ]
    }
   ],
   "source": [
    "wavenumber = 1j * 0.05\n",
    "\n",
    "op11 = bempp.api.operators.boundary.maxwell.electric_field(rwg1, rwg1, snc1, wavenumber)\n",
    "op22 = bempp.api.operators.boundary.maxwell.electric_field(rwg2, rwg2, snc2, wavenumber)\n",
    "op21 = bempp.api.operators.boundary.maxwell.electric_field(rwg1, rwg2, snc2, wavenumber)\n",
    "op12 = bempp.api.operators.boundary.maxwell.electric_field(rwg2, rwg1, snc1, wavenumber)\n",
    "\n",
    "mat11 = op11.weak_form().A\n",
    "mat12 = op12.weak_form().A\n",
    "mat21 = op21.weak_form().A\n",
    "mat22 = op22.weak_form().A\n",
    "mat12_zero = np.zeros((mat11.shape[0],mat12.shape[1]))\n",
    "mat21_zero = np.zeros((mat22.shape[0],mat11.shape[1]))\n",
    "\n",
    "mat = np.real(np.block([[mat11,mat12],[mat21,mat22]]))    \n",
    "mat2 = np.real(np.block([[mat11,mat12_zero],[mat21_zero,mat22]]))\n",
    "combined = np.linalg.inv(mat2).dot(mat)\n",
    "sign, logdet = slogdet(combined)\n",
    "print(logdet)"
   ]
  },
  {
   "cell_type": "code",
   "execution_count": 88,
   "metadata": {},
   "outputs": [],
   "source": [
    "from bempp.api.utils import Octree\n",
    "box = sphere1.bounding_box\n",
    "vertices = np.empty((3,rwg1.global_dof_count),np.float64)\n",
    "for index in range(rwg1.global_dof_count):\n",
    "    elem,local_id = rwg1.global2local[index][0]\n",
    "    edge_id = sphere1.element_edges[local_id,elem]\n",
    "    vertices[:,index] = .5*(sphere1.vertices[:,sphere1.edges[0,edge_id]] + sphere1.vertices[:,sphere1.edges[0,edge_id]])\n",
    "tree = Octree(box[:,0],box[:,1], 2,vertices)"
   ]
  },
  {
   "cell_type": "code",
   "execution_count": 89,
   "metadata": {},
   "outputs": [],
   "source": [
    "sorted_indices = tree.sorted_indices"
   ]
  },
  {
   "cell_type": "code",
   "execution_count": 90,
   "metadata": {},
   "outputs": [],
   "source": [
    "sorted_mat11 = mat11[:, sorted_indices][sorted_indices, :]\n",
    "sorted_mat12 = mat12[:, sorted_indices][sorted_indices, :]"
   ]
  },
  {
   "cell_type": "code",
   "execution_count": 93,
   "metadata": {},
   "outputs": [],
   "source": [
    "box2 = sphere2.bounding_box\n",
    "vertices2 = np.empty((3,rwg2.global_dof_count),np.float64)\n",
    "for index in range(rwg2.global_dof_count):\n",
    "    elem,local_id = rwg2.global2local[index][0]\n",
    "    edge_id = sphere2.element_edges[local_id,elem]\n",
    "    vertices2[:,index] = .5*(sphere2.vertices[:,sphere2.edges[0,edge_id]] + sphere2.vertices[:,sphere2.edges[0,edge_id]])\n",
    "tree2 = Octree(box[:,0],box[:,1], 2,vertices2)"
   ]
  },
  {
   "cell_type": "code",
   "execution_count": 94,
   "metadata": {},
   "outputs": [],
   "source": [
    "sorted_indices2 = tree2.sorted_indices"
   ]
  },
  {
   "cell_type": "code",
   "execution_count": 124,
   "metadata": {},
   "outputs": [],
   "source": [
    "sorted_mat22 = mat22[:, sorted_indices2][sorted_indices2, :]\n",
    "sorted_mat21 = mat21[:, sorted_indices2][sorted_indices2, :]"
   ]
  },
  {
   "cell_type": "code",
   "execution_count": 129,
   "metadata": {},
   "outputs": [
    {
     "name": "stdout",
     "output_type": "stream",
     "text": [
      "7.14559011053717e-07\n"
     ]
    }
   ],
   "source": [
    "sorted_mat = np.real(np.block([[sorted_mat11,sorted_mat12],[sorted_mat21,sorted_mat22]]))    \n",
    "sorted_mat2 = np.real(np.block([[sorted_mat11,mat12_zero],[mat21_zero,sorted_mat22]]))\n",
    "sorted_combined = np.linalg.inv(sorted_mat2).dot(sorted_mat)\n",
    "sign2, logdet2 = slogdet(sorted_combined)\n",
    "print(logdet2)"
   ]
  },
  {
   "cell_type": "code",
   "execution_count": 126,
   "metadata": {},
   "outputs": [],
   "source": [
    "def get_box(nx, ny, sorted_mat, nboxes, n):\n",
    "    \"\"\"Return the content of a given box\"\"\"\n",
    "    size = n//nboxes\n",
    "    xrange = [nx * size, (1 + nx) * size] \n",
    "    yrange = [ny * size, (1 + ny) * size] \n",
    "    return sorted_mat[xrange[0]:xrange[1], yrange[0]:yrange[1]] "
   ]
  },
  {
   "cell_type": "code",
   "execution_count": 127,
   "metadata": {},
   "outputs": [],
   "source": [
    "def plot_box_ranks(A, nboxes, n, tol=1E-11):\n",
    "    \"\"\"Plot rank of the boxes.\"\"\"\n",
    "    from scipy.linalg import svdvals\n",
    "    ranks = np.zeros((nboxes,nboxes),dtype='int32')\n",
    "    for i in range(nboxes):\n",
    "        for j in range(nboxes):\n",
    "            m = get_box(i, j, A, nboxes, n)\n",
    "            s = svdvals(m)\n",
    "            ranks[i,j] = np.sum(s>tol)\n",
    "    plt.imshow(ranks, cmap='Blues')\n",
    "    clb = plt.colorbar()\n",
    "    clb.ax.set_title('Rank')"
   ]
  },
  {
   "cell_type": "code",
   "execution_count": 128,
   "metadata": {},
   "outputs": [
    {
     "data": {
      "image/png": "[encoded data removed]",
      "text/plain": [
       "<Figure size 432x288 with 2 Axes>"
      ]
     },
     "metadata": {
      "needs_background": "light"
     },
     "output_type": "display_data"
    }
   ],
   "source": [
    "plot_box_ranks(sorted_combined,nboxes =27, n= sorted_combined.shape[0])"
   ]
  },
  {
   "cell_type": "code",
   "execution_count": null,
   "metadata": {},
   "outputs": [],
   "source": []
  },
  {
   "cell_type": "code",
   "execution_count": null,
   "metadata": {},
   "outputs": [],
   "source": []
  }
 ],
 "metadata": {
  "kernelspec": {
   "display_name": "Python 3",
   "language": "python",
   "name": "python3"
  },
  "language_info": {
   "codemirror_mode": {
    "name": "ipython",
    "version": 3
   },
   "file_extension": ".py",
   "mimetype": "text/x-python",
   "name": "python",
   "nbconvert_exporter": "python",
   "pygments_lexer": "ipython3",
   "version": "3.7.0"
  }
 },
 "nbformat": 4,
 "nbformat_minor": 4
}
