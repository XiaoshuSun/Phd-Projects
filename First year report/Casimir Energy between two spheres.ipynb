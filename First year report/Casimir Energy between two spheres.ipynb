{
 "cells": [
  {
   "cell_type": "code",
   "execution_count": 28,
   "metadata": {},
   "outputs": [
    {
     "name": "stderr",
     "output_type": "stream",
     "text": [
      "bempp:HOST:INFO: Default device: pthread-Intel(R) Xeon(R) W-2155 CPU @ 3.30GHz. Device Type: cpu. Native vector width: 16 (single) / 8 (double).\n"
     ]
    },
    {
     "name": "stdout",
     "output_type": "stream",
     "text": [
      "0: Portable Computing Language\n",
      "    0: pthread-Intel(R) Xeon(R) W-2155 CPU @ 3.30GHz\n"
     ]
    }
   ],
   "source": [
    "import bempp.api\n",
    "from bempp.api.assembly.blocked_operator import BlockedOperator\n",
    "import numpy as np\n",
    "from numpy.linalg import slogdet\n",
    "import matplotlib.pyplot as plt\n",
    "\n",
    "bempp.api.enable_console_logging()\n",
    "bempp.api.show_available_platforms_and_devices()\n",
    "bempp.api.set_default_device(0, 0)"
   ]
  },
  {
   "cell_type": "markdown",
   "metadata": {},
   "source": [
    "Setting the size of the element of the mesh and the center of the two spheres. The radius of the sphere is 1 and the length of the cube is 1 by default."
   ]
  },
  {
   "cell_type": "code",
   "execution_count": 22,
   "metadata": {},
   "outputs": [
    {
     "name": "stderr",
     "output_type": "stream",
     "text": [
      "bempp:HOST:INFO: Created grid with id 1aa9b993-9801-4e60-a547-d898fe7add79. Elements: 3214. Edges: 4821. Vertices: 1609\n",
      "bempp:HOST:INFO: Created grid with id 6adb3296-1a3e-48f1-a917-c8523a9d1fc3. Elements: 3212. Edges: 4818. Vertices: 1608\n",
      "bempp:HOST:INFO: Created grid with id 8f06c5f1-e318-45d9-bb86-945e06e0d357. Elements: 1476. Edges: 2214. Vertices: 740\n",
      "bempp:HOST:INFO: Created grid with id 04142010-a399-42aa-b074-7f437884a184. Elements: 1478. Edges: 2217. Vertices: 741\n"
     ]
    }
   ],
   "source": [
    "h = 0.1   # size of the mesh (element)\n",
    "center1 = (2, 0, 0) # center of one sphere\n",
    "center2 = (-2, 0, 0) # center of the other sphere\n",
    "\n",
    "sphere1 = bempp.api.shapes.sphere(h=h, origin=center1) # construct the spheres\n",
    "sphere2 = bempp.api.shapes.sphere(h=h, origin=center2)\n",
    "\n",
    "cube1 = bempp.api.shapes.cube(h=h, origin=center1)\n",
    "cube2 = bempp.api.shapes.cube(h=h, origin=center2)"
   ]
  },
  {
   "cell_type": "markdown",
   "metadata": {},
   "source": [
    "Construct RWG and SNC in difference spaces."
   ]
  },
  {
   "cell_type": "code",
   "execution_count": 23,
   "metadata": {},
   "outputs": [],
   "source": [
    "rwg1 = bempp.api.function_space(sphere1, \"RWG\", 0)\n",
    "rwg2 = bempp.api.function_space(sphere2, \"RWG\", 0)\n",
    "\n",
    "snc1 = bempp.api.function_space(sphere1, \"SNC\", 0)\n",
    "snc2 = bempp.api.function_space(sphere2, \"SNC\", 0)"
   ]
  },
  {
   "cell_type": "markdown",
   "metadata": {},
   "source": [
    "We are defining an exponentially adapted trapezoid rule and choose the quadrature points accordingly."
   ]
  },
  {
   "cell_type": "code",
   "execution_count": 36,
   "metadata": {
    "scrolled": true
   },
   "outputs": [
    {
     "ename": "LinAlgError",
     "evalue": "0-dimensional array given. Array must be at least two-dimensional",
     "output_type": "error",
     "traceback": [
      "\u001b[0;31m---------------------------------------------------------------------------\u001b[0m",
      "\u001b[0;31mLinAlgError\u001b[0m                               Traceback (most recent call last)",
      "\u001b[0;32m<ipython-input-36-a0270e4265c0>\u001b[0m in \u001b[0;36m<module>\u001b[0;34m\u001b[0m\n\u001b[1;32m     28\u001b[0m     \u001b[0mmat\u001b[0m \u001b[0;34m=\u001b[0m \u001b[0mnp\u001b[0m\u001b[0;34m.\u001b[0m\u001b[0mreal\u001b[0m\u001b[0;34m(\u001b[0m\u001b[0mblocked_op\u001b[0m\u001b[0;34m.\u001b[0m\u001b[0mweak_form\u001b[0m\u001b[0;34m(\u001b[0m\u001b[0;34m)\u001b[0m\u001b[0;34m)\u001b[0m\u001b[0;34m\u001b[0m\u001b[0m\n\u001b[1;32m     29\u001b[0m     \u001b[0mmat2\u001b[0m \u001b[0;34m=\u001b[0m \u001b[0mnp\u001b[0m\u001b[0;34m.\u001b[0m\u001b[0mreal\u001b[0m\u001b[0;34m(\u001b[0m\u001b[0mblocked_diag\u001b[0m\u001b[0;34m.\u001b[0m\u001b[0mweak_form\u001b[0m\u001b[0;34m(\u001b[0m\u001b[0;34m)\u001b[0m\u001b[0;34m)\u001b[0m\u001b[0;34m\u001b[0m\u001b[0m\n\u001b[0;32m---> 30\u001b[0;31m     \u001b[0mcombined\u001b[0m \u001b[0;34m=\u001b[0m \u001b[0mnp\u001b[0m\u001b[0;34m.\u001b[0m\u001b[0mlinalg\u001b[0m\u001b[0;34m.\u001b[0m\u001b[0minv\u001b[0m\u001b[0;34m(\u001b[0m\u001b[0mmat2\u001b[0m\u001b[0;34m)\u001b[0m\u001b[0;34m.\u001b[0m\u001b[0mdot\u001b[0m\u001b[0;34m(\u001b[0m\u001b[0mmat\u001b[0m\u001b[0;34m)\u001b[0m\u001b[0;34m\u001b[0m\u001b[0m\n\u001b[0m\u001b[1;32m     31\u001b[0m     \u001b[0msign\u001b[0m\u001b[0;34m,\u001b[0m \u001b[0mlogdet\u001b[0m \u001b[0;34m=\u001b[0m \u001b[0mslogdet\u001b[0m\u001b[0;34m(\u001b[0m\u001b[0mcombined\u001b[0m\u001b[0;34m)\u001b[0m\u001b[0;34m\u001b[0m\u001b[0m\n\u001b[1;32m     32\u001b[0m     \u001b[0mresults\u001b[0m\u001b[0;34m[\u001b[0m\u001b[0mindex\u001b[0m\u001b[0;34m]\u001b[0m \u001b[0;34m=\u001b[0m \u001b[0mlogdet\u001b[0m\u001b[0;34m\u001b[0m\u001b[0m\n",
      "\u001b[0;32m~/.conda/envs/opencl/lib/python3.7/site-packages/numpy/linalg/linalg.py\u001b[0m in \u001b[0;36minv\u001b[0;34m(a)\u001b[0m\n\u001b[1;32m    543\u001b[0m     \"\"\"\n\u001b[1;32m    544\u001b[0m     \u001b[0ma\u001b[0m\u001b[0;34m,\u001b[0m \u001b[0mwrap\u001b[0m \u001b[0;34m=\u001b[0m \u001b[0m_makearray\u001b[0m\u001b[0;34m(\u001b[0m\u001b[0ma\u001b[0m\u001b[0;34m)\u001b[0m\u001b[0;34m\u001b[0m\u001b[0m\n\u001b[0;32m--> 545\u001b[0;31m     \u001b[0m_assertRankAtLeast2\u001b[0m\u001b[0;34m(\u001b[0m\u001b[0ma\u001b[0m\u001b[0;34m)\u001b[0m\u001b[0;34m\u001b[0m\u001b[0m\n\u001b[0m\u001b[1;32m    546\u001b[0m     \u001b[0m_assertNdSquareness\u001b[0m\u001b[0;34m(\u001b[0m\u001b[0ma\u001b[0m\u001b[0;34m)\u001b[0m\u001b[0;34m\u001b[0m\u001b[0m\n\u001b[1;32m    547\u001b[0m     \u001b[0mt\u001b[0m\u001b[0;34m,\u001b[0m \u001b[0mresult_t\u001b[0m \u001b[0;34m=\u001b[0m \u001b[0m_commonType\u001b[0m\u001b[0;34m(\u001b[0m\u001b[0ma\u001b[0m\u001b[0;34m)\u001b[0m\u001b[0;34m\u001b[0m\u001b[0m\n",
      "\u001b[0;32m~/.conda/envs/opencl/lib/python3.7/site-packages/numpy/linalg/linalg.py\u001b[0m in \u001b[0;36m_assertRankAtLeast2\u001b[0;34m(*arrays)\u001b[0m\n\u001b[1;32m    205\u001b[0m         \u001b[0;32mif\u001b[0m \u001b[0ma\u001b[0m\u001b[0;34m.\u001b[0m\u001b[0mndim\u001b[0m \u001b[0;34m<\u001b[0m \u001b[0;36m2\u001b[0m\u001b[0;34m:\u001b[0m\u001b[0;34m\u001b[0m\u001b[0m\n\u001b[1;32m    206\u001b[0m             raise LinAlgError('%d-dimensional array given. Array must be '\n\u001b[0;32m--> 207\u001b[0;31m                     'at least two-dimensional' % a.ndim)\n\u001b[0m\u001b[1;32m    208\u001b[0m \u001b[0;34m\u001b[0m\u001b[0m\n\u001b[1;32m    209\u001b[0m \u001b[0;32mdef\u001b[0m \u001b[0m_assertNdSquareness\u001b[0m\u001b[0;34m(\u001b[0m\u001b[0;34m*\u001b[0m\u001b[0marrays\u001b[0m\u001b[0;34m)\u001b[0m\u001b[0;34m:\u001b[0m\u001b[0;34m\u001b[0m\u001b[0m\n",
      "\u001b[0;31mLinAlgError\u001b[0m: 0-dimensional array given. Array must be at least two-dimensional"
     ]
    }
   ],
   "source": [
    "N = 10\n",
    "lbound = .05\n",
    "ubound = 4\n",
    "\n",
    "# We use an exponentially adapted trapezoid rule.\n",
    "quad_points = np.linspace(np.exp(-ubound), np.exp(-lbound), N)\n",
    "results = np.empty(N, dtype='float64')\n",
    "\n",
    "for index, point in enumerate(quad_points):\n",
    "    \n",
    "    wavenumber = -1j * np.log(point)\n",
    "\n",
    "    op11 = bempp.api.operators.boundary.maxwell.electric_field(rwg1, rwg1, snc1, wavenumber)\n",
    "    op22 = bempp.api.operators.boundary.maxwell.electric_field(rwg2, rwg2, snc2, wavenumber)\n",
    "    op21 = bempp.api.operators.boundary.maxwell.electric_field(rwg1, rwg2, snc2, wavenumber)\n",
    "    op12 = bempp.api.operators.boundary.maxwell.electric_field(rwg2, rwg1, snc1, wavenumber)\n",
    "\n",
    "    mat11 = op11.weak_form().A\n",
    "    mat22 = op22.weak_form().A\n",
    "    \n",
    "    mat = np.real(blocked_op.weak_form().A)\n",
    "    mat2 = \n",
    "    combined = np.linalg.inv(mat2).dot(mat)\n",
    "    sign, logdet = slogdet(combined)\n",
    "    results[index] = logdet\n",
    "    print(f\"Log Determinant: {index}: {logdet}\")\n",
    "    "
   ]
  },
  {
   "cell_type": "code",
   "execution_count": 8,
   "metadata": {},
   "outputs": [],
   "source": [
    "%matplotlib inline\n",
    "from matplotlib.pyplot import figure"
   ]
  },
  {
   "cell_type": "markdown",
   "metadata": {},
   "source": [
    "The left plot shows the relative log determinant with increasing imaginary wavenumber. The right plot uses a scale appropriate for the trapezoid quadrature rule."
   ]
  },
  {
   "cell_type": "code",
   "execution_count": 17,
   "metadata": {},
   "outputs": [
    {
     "data": {
      "image/png": "[encoded data removed]",
      "text/plain": [
       "<Figure size 432x288 with 2 Axes>"
      ]
     },
     "metadata": {
      "needs_background": "light"
     },
     "output_type": "display_data"
    }
   ],
   "source": [
    "%matplotlib inline\n",
    "from matplotlib.pyplot import figure\n",
    "\n",
    "fig = figure()\n",
    "ax1 = fig.add_subplot(121)\n",
    "ax1.set_xlabel('1j * k')\n",
    "ax2 = fig.add_subplot(122)\n",
    "ax2.set_xlabel('exp(-k)')\n",
    "ax1.semilogy(-np.log(quad_points), -results)\n",
    "ax2.plot(quad_points, -results)\n",
    "fig.tight_layout()"
   ]
  },
  {
   "cell_type": "code",
   "execution_count": 18,
   "metadata": {},
   "outputs": [
    {
     "name": "stdout",
     "output_type": "stream",
     "text": [
      "The normalized Casimir Energy is: 0.00025636676197413484\n"
     ]
    }
   ],
   "source": [
    "casimir_energy = np.trapz(-results / quad_points, quad_points) / (2 * np.pi)\n",
    "print(f\"The normalized Casimir Energy is: {casimir_energy}\")"
   ]
  },
  {
   "cell_type": "code",
   "execution_count": null,
   "metadata": {},
   "outputs": [],
   "source": []
  }
 ],
 "metadata": {
  "kernelspec": {
   "display_name": "Python 3",
   "language": "python",
   "name": "python3"
  },
  "language_info": {
   "codemirror_mode": {
    "name": "ipython",
    "version": 3
   },
   "file_extension": ".py",
   "mimetype": "text/x-python",
   "name": "python",
   "nbconvert_exporter": "python",
   "pygments_lexer": "ipython3",
   "version": "3.7.0"
  }
 },
 "nbformat": 4,
 "nbformat_minor": 4
}
