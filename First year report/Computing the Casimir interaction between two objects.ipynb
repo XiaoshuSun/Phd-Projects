{
 "cells": [
  {
   "cell_type": "markdown",
   "metadata": {},
   "source": [
    "## Computing the Casimir energy between two cubes"
   ]
  },
  {
   "cell_type": "markdown",
   "metadata": {},
   "source": [
    "### Background"
   ]
  },
  {
   "cell_type": "markdown",
   "metadata": {},
   "source": [
    "In this tutorial, we are going to compute the Casmir energy between two cubes. \n",
    "\n",
    "The formula of computing the Casimir energy $\\mathcal{E}$ between two objects can be written as \n",
    "$$  \\mathcal{E} = -\\frac{\\hbar c}{2\\pi}\\int_{0}^{\\infty}dk\\log\\frac{\\det M(\\mathrm{i}k)}{\\det M_{\\infty}(\\mathrm{i}k)}, $$\n",
    "where $$M(\\mathrm{i}k) = \n",
    "        \\begin{bmatrix}\n",
    "            M_{11}(\\mathrm{i}k) & M_{12}(\\mathrm{i}k) \\\\\n",
    "            M_{21}(\\mathrm{i}k) & M_{22}(\\mathrm{i}k) \n",
    "        \\end{bmatrix}$$\n",
    "is a two by two block matrix with its elements defined as\n",
    "$$ M_{11}^{(m,n)}(\\mathrm{i}k)\n",
    " = \\int\\int \\mathbf{f}_{m}(\\mathbf{x})\\cdot\\mathbf{G}_{\\mathrm{i}k}(\\mathbf{x},\\mathbf{y})\\cdot\\mathbf{f}_{n}(\\mathbf{y})d\\mathbf{x}d\\mathbf{y},    \\\\\n",
    "M_{12}^{(m,n)}(\\mathrm{i}k) = \\int\\int \\mathbf{f}_{m}(\\mathbf{x})\\cdot\\mathbf{G}_{\\mathrm{i}k}(\\mathbf{x},\\mathbf{y})\\cdot\\mathbf{g}_{n}(\\mathbf{y})d\\mathbf{x}d\\mathbf{y},\\\\\n",
    "    M_{21}^{(m,n)}(\\mathrm{i}k) = \\int\\int \\mathbf{g}_{m}(\\mathbf{x})\\cdot\\mathbf{G}_{\\mathrm{i}k}(\\mathbf{x},\\mathbf{y})\\cdot\\mathbf{f}_{n}(\\mathbf{y})d\\mathbf{x}d\\mathbf{y}, \\\\\n",
    "    M_{22}^{(m,n)}(\\mathrm{i}k) = \\int\\int \\mathbf{g}_{m}(\\mathbf{x})\\cdot\\mathbf{G}_{\\mathrm{i}k}(\\mathbf{x},\\mathbf{y})\\cdot\\mathbf{g}_{n}(\\mathbf{y})d\\mathbf{x}d\\mathbf{y}$$\n",
    "and each block $M_{ij}$, for $i,j$ = 1 or 2 shares the same expression with the Maxwell electric field boundary operator.\n",
    "\n",
    "Here, $\\{\\mathbf{f}_{i}(\\mathbf{x})\\}_{i}$ and $\\{\\mathbf{g}_{i}(\\mathbf{x})\\}_{i}$ are the basis functions defined on different objects and $\\mathbf{G}_{\\mathrm{i}k}(\\mathbf{x},\\mathbf{y})$ is the Wick-rotated dyadic/tensor Green's function given by\n",
    "$$ \\mathbf{G}_{\\mathrm{i}k}(\\boldsymbol{x},\\boldsymbol{y}) = \\left[1 - \\frac{1}{k^{2}}\\nabla_{\\boldsymbol{x}}\\otimes\\nabla_{\\boldsymbol{y}}\\right]\\frac{e^{-k|\\mathbf{x} - \\mathbf{y}|}}{4\\pi|\\mathbf{x} - \\mathbf{y}|}.$$\n",
    "\n",
    "Additionally, $M_{\\infty}(\\mathrm{i}k)$ is the diagonal part of \n",
    "$M(\\mathrm{i}k)$:\n",
    "$$ M_{\\infty}(\\mathrm{i}k) = \\begin{bmatrix}\n",
    "        M_{11}(\\mathrm{i}k) & 0  \\\\\n",
    "        0 & M_{22}(\\mathrm{i}k)  \\\\\n",
    "    \\end{bmatrix}.$$\n",
    "\n",
    "More details of the Casimir energy formulation can be found in the article [Reid M.T.Homer et al(2009)](https://journals.aps.org/prl/pdf/10.1103/PhysRevLett.103.040401)."
   ]
  },
  {
   "cell_type": "markdown",
   "metadata": {},
   "source": [
    "## Implementation"
   ]
  },
  {
   "cell_type": "markdown",
   "metadata": {},
   "source": [
    "We start with the usual imports and set default device."
   ]
  },
  {
   "cell_type": "code",
   "execution_count": 1,
   "metadata": {},
   "outputs": [],
   "source": [
    "import bempp.api\n",
    "import math\n",
    "import numpy as np\n",
    "from numpy.linalg import slogdet\n",
    "from bempp.api.assembly.blocked_operator import BlockedOperator\n",
    "bempp.core.opencl_kernels.set_default_device(0,0)"
   ]
  },
  {
   "cell_type": "markdown",
   "metadata": {},
   "source": [
    "We use the following commands to set the value of the element diameter on the mesh and create two cubes. Note that the center of a cube in Bempp is the coordinate of the cube's bottom left corner. "
   ]
  },
  {
   "cell_type": "code",
   "execution_count": 3,
   "metadata": {},
   "outputs": [],
   "source": [
    "h = 0.2   \n",
    "center1 = (2, 0, 0) \n",
    "center2 = (-2, 0, 0)\n",
    "\n",
    "cube1 = bempp.api.shapes.cube(length=2, origin=center1, h=h)\n",
    "cube2 = bempp.api.shapes.cube(length=2, origin=center2, h=h)"
   ]
  },
  {
   "cell_type": "markdown",
   "metadata": {},
   "source": [
    "Construct the RWG and SNC function spaces on different cubes."
   ]
  },
  {
   "cell_type": "code",
   "execution_count": 4,
   "metadata": {},
   "outputs": [],
   "source": [
    "rwg1 = bempp.api.function_space(cube1, \"RWG\", 0)\n",
    "rwg2 = bempp.api.function_space(cube2, \"RWG\", 0)\n",
    "\n",
    "snc1 = bempp.api.function_space(cube1, \"SNC\", 0)\n",
    "snc2 = bempp.api.function_space(cube2, \"SNC\", 0)"
   ]
  },
  {
   "cell_type": "markdown",
   "metadata": {},
   "source": [
    "The integrand inside the Casimir energy formula exponentially decays as the value of the wavenumber increases (see the graphs below) and we would like to use an exponentially adapted trapezoid rule to compute this integral and choose the quadrature points accordingly."
   ]
  },
  {
   "cell_type": "code",
   "execution_count": 5,
   "metadata": {},
   "outputs": [
    {
     "name": "stdout",
     "output_type": "stream",
     "text": [
      "Log Determinant: 0: -1.06257576308938e-07\n",
      "Log Determinant: 1: -0.0001016142934194438\n",
      "Log Determinant: 2: -0.0007937864706995816\n",
      "Log Determinant: 3: -0.0025289392827800906\n",
      "Log Determinant: 4: -0.005338955471772741\n",
      "Log Determinant: 5: -0.008766020061949141\n",
      "Log Determinant: 6: -0.012024155357456412\n",
      "Log Determinant: 7: -0.01437869644925735\n",
      "Log Determinant: 8: -0.015587851488385306\n",
      "Log Determinant: 9: -0.015987875086772522\n"
     ]
    }
   ],
   "source": [
    "N = 10        # number of quadrature points\n",
    "lbound = .05  # lowerbound of the wavenumber \n",
    "ubound = 4    # upperbound of the wavenumber\n",
    "\n",
    "# We use an exponentially adapted trapezoid rule.\n",
    "quad_points = np.linspace(np.exp(-ubound), np.exp(-lbound), N)\n",
    "results = np.empty(N, dtype='float64') \n",
    "\n",
    "for index, point in enumerate(quad_points):\n",
    "    \n",
    "    wavenumber = -1j * np.log(point)\n",
    "\n",
    "    op11 = bempp.api.operators.boundary.maxwell.electric_field(rwg1, rwg1, snc1, wavenumber)\n",
    "    op22 = bempp.api.operators.boundary.maxwell.electric_field(rwg2, rwg2, snc2, wavenumber)\n",
    "    op21 = bempp.api.operators.boundary.maxwell.electric_field(rwg1, rwg2, snc2, wavenumber)\n",
    "    op12 = bempp.api.operators.boundary.maxwell.electric_field(rwg2, rwg1, snc1, wavenumber)\n",
    "\n",
    "    blocked_op = BlockedOperator(2, 2)\n",
    "    blocked_op[0, 0] = op11\n",
    "    blocked_op[0, 1] = op12\n",
    "    blocked_op[1, 0] = op21\n",
    "    blocked_op[1, 1] = op22\n",
    "\n",
    "    blocked_diag = BlockedOperator(2, 2)\n",
    "    blocked_diag[0, 0] = op11\n",
    "    blocked_diag[1, 1] = op22\n",
    "    \n",
    "\n",
    "    mat11 = op11.weak_form().A\n",
    "    mat22 = op22.weak_form().A\n",
    "    \n",
    "    mat1 = np.real(bempp.api.as_matrix(blocked_op.weak_form()))  # matrix M\n",
    "    mat2 = np.real(bempp.api.as_matrix(blocked_diag.weak_form())) # matrix M_{infty}\n",
    "    combined = np.linalg.inv(mat2).dot(mat1)\n",
    "    sign, logdet = slogdet(combined)\n",
    "    results[index] = logdet\n",
    "    print(f\"Log Determinant: {index}: {logdet}\")"
   ]
  },
  {
   "cell_type": "markdown",
   "metadata": {},
   "source": [
    "Finally, we can compute the normalized Casimir energy (neglect $\\hbar c$)."
   ]
  },
  {
   "cell_type": "code",
   "execution_count": 6,
   "metadata": {},
   "outputs": [
    {
     "name": "stdout",
     "output_type": "stream",
     "text": [
      "The normalized Casimir Energy is: 0.0017422326776127025\n"
     ]
    }
   ],
   "source": [
    "casimir_energy = np.trapz(-results / quad_points, quad_points) / (2 * np.pi)\n",
    "print(f\"The normalized Casimir Energy is: {casimir_energy}\")"
   ]
  },
  {
   "cell_type": "markdown",
   "metadata": {},
   "source": [
    "The left plot shows the relative log determinant with increasing imaginary wavenumber. The right plot uses a scale appropriate for the trapezoid quadrature rule."
   ]
  },
  {
   "cell_type": "code",
   "execution_count": 14,
   "metadata": {},
   "outputs": [
    {
     "data": {
      "image/png": "[encoded data removed]",
      "text/plain": [
       "<Figure size 432x288 with 2 Axes>"
      ]
     },
     "metadata": {
      "needs_background": "light"
     },
     "output_type": "display_data"
    }
   ],
   "source": [
    "%matplotlib inline\n",
    "from matplotlib.pyplot import figure\n",
    "\n",
    "fig = figure()\n",
    "ax1 = fig.add_subplot(121)\n",
    "ax1.set_xlabel('1j * k', fontsize = 15)\n",
    "ax1.set_ylabel('Integrand function value', fontsize = 15)\n",
    "ax1.semilogy(-np.log(quad_points), -results)\n",
    "\n",
    "ax2 = fig.add_subplot(122)\n",
    "ax2.set_xlabel('exp(-k)', fontsize = 15)\n",
    "ax2.plot(quad_points, -results)\n",
    "ax2.set_ylabel('Integrand function value',fontsize = 15)\n",
    "fig.tight_layout()"
   ]
  },
  {
   "cell_type": "code",
   "execution_count": null,
   "metadata": {},
   "outputs": [],
   "source": []
  }
 ],
 "metadata": {
  "kernelspec": {
   "display_name": "Python 3",
   "language": "python",
   "name": "python3"
  },
  "language_info": {
   "codemirror_mode": {
    "name": "ipython",
    "version": 3
   },
   "file_extension": ".py",
   "mimetype": "text/x-python",
   "name": "python",
   "nbconvert_exporter": "python",
   "pygments_lexer": "ipython3",
   "version": "3.7.0"
  }
 },
 "nbformat": 4,
 "nbformat_minor": 4
}
