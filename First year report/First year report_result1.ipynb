{
 "cells": [
  {
   "cell_type": "code",
   "execution_count": 2,
   "metadata": {},
   "outputs": [],
   "source": [
    "import bempp.api\n",
    "from bempp.api.assembly.blocked_operator import BlockedOperator\n",
    "import numpy as np\n",
    "from numpy.linalg import slogdet\n",
    "import matplotlib.pyplot as plt\n",
    "bempp.api.set_default_device(0, 0)\n",
    "#bempp.api.enable_console_logging()"
   ]
  },
  {
   "cell_type": "markdown",
   "metadata": {},
   "source": [
    "Compute the ratio $\\frac{Z}{R}$, where $Z$ is the surface-surface distance between two spheres, and $R = 1$. "
   ]
  },
  {
   "cell_type": "code",
   "execution_count": 3,
   "metadata": {},
   "outputs": [],
   "source": [
    "NZ = 15\n",
    "lower_bd = 0.5  # lower bound of Z\n",
    "upper_bd = 4.0  # upper bound of Z\n",
    "surf_dist = np.linspace(lower_bd, upper_bd, NZ)\n",
    "\n",
    "Nk = 15\n",
    "lbound = .05    # lower bound of k in ik\n",
    "ubound = 4      # upper bound of k in ik\n",
    "quad_points = np.linspace(np.exp(-ubound), np.exp(-lbound), Nk)\n",
    "\n",
    "h = .2   # size of the mesh (element)"
   ]
  },
  {
   "cell_type": "code",
   "execution_count": 4,
   "metadata": {},
   "outputs": [
    {
     "name": "stdout",
     "output_type": "stream",
     "text": [
      "Log Determinant: 0: 0.028221717339497382\n",
      "Log Determinant: 1: 0.00871642132314405\n",
      "Log Determinant: 2: 0.0034527447374853026\n",
      "Log Determinant: 3: 0.001587812867319775\n",
      "Log Determinant: 4: 0.0008073195007668241\n",
      "Log Determinant: 5: 0.00044217920875382435\n",
      "Log Determinant: 6: 0.000256455693168467\n",
      "Log Determinant: 7: 0.00015574346142413332\n",
      "Log Determinant: 8: 9.819243039319648e-05\n",
      "Log Determinant: 9: 6.390251899114196e-05\n",
      "Log Determinant: 10: 4.272758015796292e-05\n",
      "Log Determinant: 11: 2.9252658845743262e-05\n",
      "Log Determinant: 12: 2.044654147072235e-05\n",
      "Log Determinant: 13: 1.4552680518201271e-05\n",
      "Log Determinant: 14: 1.052967550203955e-05\n"
     ]
    }
   ],
   "source": [
    "# Two unit spheres' case\n",
    "result_k_sphere_sphere = np.empty(Nk, dtype='float64')\n",
    "Casimir_energy_sphere_sphere = np.empty(NZ, dtype='float64')\n",
    "for index1, point1 in enumerate(surf_dist):\n",
    "    \n",
    "    center1 = ((point1/2) + 1, 0, 0)\n",
    "    center2 = (-((point1/2) + 1), 0, 0)\n",
    "\n",
    "    sphere1 = bempp.api.shapes.sphere(h=h, origin=center1)\n",
    "    sphere2 = bempp.api.shapes.sphere(h=h, origin=center2)\n",
    "    \n",
    "    rwg1 = bempp.api.function_space(sphere1, \"RWG\", 0)\n",
    "    rwg2 = bempp.api.function_space(sphere2, \"RWG\", 0)\n",
    "\n",
    "    snc1 = bempp.api.function_space(sphere1, \"SNC\", 0)\n",
    "    snc2 = bempp.api.function_space(sphere2, \"SNC\", 0)\n",
    "    \n",
    "    for index2, point2 in enumerate(quad_points):\n",
    "    \n",
    "        wavenumber = -1j * np.log(point2)\n",
    "\n",
    "        op11 = bempp.api.operators.boundary.maxwell.electric_field(rwg1, rwg1, snc1, wavenumber)\n",
    "        op22 = bempp.api.operators.boundary.maxwell.electric_field(rwg2, rwg2, snc2, wavenumber)\n",
    "        op21 = bempp.api.operators.boundary.maxwell.electric_field(rwg1, rwg2, snc2, wavenumber)\n",
    "        op12 = bempp.api.operators.boundary.maxwell.electric_field(rwg2, rwg1, snc1, wavenumber)\n",
    "\n",
    "        mat11 = op11.weak_form().A\n",
    "        mat12 = op12.weak_form().A\n",
    "        mat21 = op21.weak_form().A\n",
    "        mat22 = op22.weak_form().A\n",
    "        mat12_zero = np.zeros((mat11.shape[0],mat12.shape[1]))\n",
    "        mat21_zero = np.zeros((mat22.shape[0],mat11.shape[1]))\n",
    "\n",
    "        mat = np.real(np.block([[mat11,mat12],[mat21,mat22]]))    \n",
    "        mat2 = np.real(np.block([[mat11,mat12_zero],[mat21_zero,mat22]]))\n",
    "        combined = np.linalg.inv(mat2).dot(mat)\n",
    "        sign, logdet = slogdet(combined)\n",
    "        result_k_sphere_sphere[index2] = logdet\n",
    "        \n",
    "    Casimir_energy_sphere_sphere[index1] = np.trapz(-result_k_sphere_sphere / quad_points, quad_points) / (2 * np.pi)\n",
    "    print(f\"Log Determinant: {index1}: {Casimir_energy_sphere_sphere[index1]}\")"
   ]
  },
  {
   "cell_type": "code",
   "execution_count": 5,
   "metadata": {},
   "outputs": [
    {
     "name": "stdout",
     "output_type": "stream",
     "text": [
      "Log Determinant: 0: 0.31191440621883293\n",
      "Log Determinant: 1: 0.08098655992107945\n",
      "Log Determinant: 2: 0.028862533371736984\n",
      "Log Determinant: 3: 0.01233898014951829\n",
      "Log Determinant: 4: 0.005942183644217376\n",
      "Log Determinant: 5: 0.0031160265055188248\n",
      "Log Determinant: 6: 0.0017437390725460779\n",
      "Log Determinant: 7: 0.001027505888256232\n",
      "Log Determinant: 8: 0.0006315034415315203\n",
      "Log Determinant: 9: 0.00040215425015841866\n",
      "Log Determinant: 10: 0.0002638943881288895\n",
      "Log Determinant: 11: 0.00017774782909101613\n",
      "Log Determinant: 12: 0.00012247446503355427\n",
      "Log Determinant: 13: 8.609993782116883e-05\n",
      "Log Determinant: 14: 6.161862449872039e-05\n"
     ]
    }
   ],
   "source": [
    "# Two length-2 cubes' case\n",
    "Casimir_energy_cube_cube = np.empty(NZ, dtype='float64')\n",
    "result_k_cube_cube = np.empty(Nk, dtype='float64')\n",
    "length_cube = 2\n",
    "\n",
    "for index1, point1 in enumerate(surf_dist):\n",
    "    \n",
    "    center1 = ((point1/2) + 1, 0, 0)\n",
    "    center2 = (-((point1/2) + 1), 0, 0)\n",
    "\n",
    "    cube1 = bempp.api.shapes.cube(length = length_cube, h=h, origin=(point1/2,-1,-1))\n",
    "    cube2 = bempp.api.shapes.cube(length = length_cube, h=h, origin=(-((point1/2) + 2),-1,-1))\n",
    "    \n",
    "    rwg1 = bempp.api.function_space(cube1, \"RWG\", 0)\n",
    "    rwg2 = bempp.api.function_space(cube2, \"RWG\", 0)\n",
    "\n",
    "    snc1 = bempp.api.function_space(cube1, \"SNC\", 0)\n",
    "    snc2 = bempp.api.function_space(cube2, \"SNC\", 0)\n",
    "    \n",
    "    for index2, point2 in enumerate(quad_points):\n",
    "    \n",
    "        wavenumber = -1j * np.log(point2)\n",
    "\n",
    "        op11 = bempp.api.operators.boundary.maxwell.electric_field(rwg1, rwg1, snc1, wavenumber)\n",
    "        op22 = bempp.api.operators.boundary.maxwell.electric_field(rwg2, rwg2, snc2, wavenumber)\n",
    "        op21 = bempp.api.operators.boundary.maxwell.electric_field(rwg1, rwg2, snc2, wavenumber)\n",
    "        op12 = bempp.api.operators.boundary.maxwell.electric_field(rwg2, rwg1, snc1, wavenumber)\n",
    "\n",
    "        mat11 = op11.weak_form().A\n",
    "        mat12 = op12.weak_form().A\n",
    "        mat21 = op21.weak_form().A\n",
    "        mat22 = op22.weak_form().A\n",
    "        mat12_zero = np.zeros((mat11.shape[0],mat12.shape[1]))\n",
    "        mat21_zero = np.zeros((mat22.shape[0],mat11.shape[1]))\n",
    "\n",
    "        mat = np.real(np.block([[mat11,mat12],[mat21,mat22]]))    \n",
    "        mat2 = np.real(np.block([[mat11,mat12_zero],[mat21_zero,mat22]]))\n",
    "        combined = np.linalg.inv(mat2).dot(mat)\n",
    "        sign, logdet = slogdet(combined)\n",
    "        result_k_cube_cube[index2] = logdet\n",
    "        \n",
    "    Casimir_energy_cube_cube[index1] = np.trapz(-result_k_cube_cube / quad_points, quad_points) / (2 * np.pi)\n",
    "    print(f\"Log Determinant: {index1}: {Casimir_energy_cube_cube[index1]}\")"
   ]
  },
  {
   "cell_type": "code",
   "execution_count": 6,
   "metadata": {},
   "outputs": [
    {
     "name": "stdout",
     "output_type": "stream",
     "text": [
      "Log Determinant: 0: 0.07442001326649997\n",
      "Log Determinant: 1: 0.023148579414002876\n",
      "Log Determinant: 2: 0.009125364444603304\n",
      "Log Determinant: 3: 0.004156384227614213\n",
      "Log Determinant: 4: 0.002090171074795811\n",
      "Log Determinant: 5: 0.00113219152890534\n",
      "Log Determinant: 6: 0.0006498276035932972\n",
      "Log Determinant: 7: 0.0003908385810466827\n",
      "Log Determinant: 8: 0.00024429560654615776\n",
      "Log Determinant: 9: 0.0001577722765851639\n",
      "Log Determinant: 10: 0.00010477988288853525\n",
      "Log Determinant: 11: 7.129808085458882e-05\n",
      "Log Determinant: 12: 4.956001245314013e-05\n",
      "Log Determinant: 13: 3.5104946516727004e-05\n",
      "Log Determinant: 14: 2.5290266516292264e-05\n"
     ]
    }
   ],
   "source": [
    "# One unit sphere and one length-2 cube case\n",
    "Casimir_energy_sphere_cube = np.empty(NZ, dtype='float64')\n",
    "result_k_sphere_cube = np.empty(Nk, dtype='float64')\n",
    "length_cube = 2\n",
    "\n",
    "for index1, point1 in enumerate(surf_dist):\n",
    "    \n",
    "    center1 = ((point1/2) + 1, 0, 0)\n",
    "    center2 = (-((point1/2) + 1), 0, 0)\n",
    "\n",
    "    cube1 = bempp.api.shapes.cube(length = length_cube, h=h, origin=(point1/2,-1,-1))\n",
    "    sphere2 = bempp.api.shapes.sphere(h=h, origin=center2)\n",
    "    \n",
    "    rwg1 = bempp.api.function_space(cube1, \"RWG\", 0)\n",
    "    rwg2 = bempp.api.function_space(sphere2, \"RWG\", 0)\n",
    "\n",
    "    snc1 = bempp.api.function_space(cube1, \"SNC\", 0)\n",
    "    snc2 = bempp.api.function_space(sphere2, \"SNC\", 0)\n",
    "    \n",
    "    for index2, point2 in enumerate(quad_points):\n",
    "    \n",
    "        wavenumber = -1j * np.log(point2)\n",
    "\n",
    "        op11 = bempp.api.operators.boundary.maxwell.electric_field(rwg1, rwg1, snc1, wavenumber)\n",
    "        op22 = bempp.api.operators.boundary.maxwell.electric_field(rwg2, rwg2, snc2, wavenumber)\n",
    "        op21 = bempp.api.operators.boundary.maxwell.electric_field(rwg1, rwg2, snc2, wavenumber)\n",
    "        op12 = bempp.api.operators.boundary.maxwell.electric_field(rwg2, rwg1, snc1, wavenumber)\n",
    "\n",
    "        mat11 = op11.weak_form().A\n",
    "        mat12 = op12.weak_form().A\n",
    "        mat21 = op21.weak_form().A\n",
    "        mat22 = op22.weak_form().A\n",
    "        mat12_zero = np.zeros((mat11.shape[0],mat12.shape[1]))\n",
    "        mat21_zero = np.zeros((mat22.shape[0],mat11.shape[1]))\n",
    "\n",
    "        mat = np.real(np.block([[mat11,mat12],[mat21,mat22]]))    \n",
    "        mat2 = np.real(np.block([[mat11,mat12_zero],[mat21_zero,mat22]]))\n",
    "        combined = np.linalg.inv(mat2).dot(mat)\n",
    "        sign, logdet = slogdet(combined)\n",
    "        result_k_sphere_cube[index2] = logdet\n",
    "        \n",
    "    Casimir_energy_sphere_cube[index1] = np.trapz(-result_k_sphere_cube / quad_points, quad_points) / (2 * np.pi)\n",
    "    print(f\"Log Determinant: {index1}: {Casimir_energy_sphere_cube[index1]}\")"
   ]
  },
  {
   "cell_type": "code",
   "execution_count": 25,
   "metadata": {},
   "outputs": [
    {
     "data": {
      "image/png": "[encoded data removed]",
      "text/plain": [
       "<Figure size 432x288 with 1 Axes>"
      ]
     },
     "metadata": {
      "needs_background": "light"
     },
     "output_type": "display_data"
    }
   ],
   "source": [
    "%matplotlib inline\n",
    "import matplotlib.pyplot as plt\n",
    "\n",
    "ref_x = [0.5,1,1.5,2,2.5,3,3.5]\n",
    "ref_y = [0.03953125, 0.0038125, 0.000775 , 0.0003953125, 0.0001, 0.000055,0.0000325]\n",
    "plt.semilogy(surf_dist, Casimir_energy_sphere_sphere, color = 'salmon', linestyle = '-', marker = 'o')\n",
    "plt.semilogy(surf_dist, Casimir_energy_sphere_cube, color = 'indianred', linestyle = '-', marker = 'o')\n",
    "plt.semilogy(surf_dist, Casimir_energy_cube_cube, color = 'darkred', linestyle = '-', marker = 'o')\n",
    "plt.scatter(ref_x, ref_y, s=100, facecolors='none', edgecolors='g')\n",
    "\n",
    "plt.ylabel('Normalized Casimir Energy h=0.2')\n",
    "plt.legend(['Sphere-Sphere','Sphere-Cube','Cube-Cube'])\n",
    "plt.xlabel('The ratio Z/R')\n",
    "plt.savefig('Casimir energy in three cases.pdf')"
   ]
  },
  {
   "cell_type": "code",
   "execution_count": 18,
   "metadata": {},
   "outputs": [
    {
     "data": {
      "text/plain": [
       "2.9252658845743262e-05"
      ]
     },
     "execution_count": 18,
     "metadata": {},
     "output_type": "execute_result"
    }
   ],
   "source": [
    "Casimir_energy_sphere_sphere[11]"
   ]
  },
  {
   "cell_type": "code",
   "execution_count": 15,
   "metadata": {},
   "outputs": [
    {
     "data": {
      "text/plain": [
       "array([0.5 , 0.75, 1.  , 1.25, 1.5 , 1.75, 2.  , 2.25, 2.5 , 2.75, 3.  ,\n",
       "       3.25, 3.5 , 3.75, 4.  ])"
      ]
     },
     "execution_count": 15,
     "metadata": {},
     "output_type": "execute_result"
    }
   ],
   "source": [
    "np.linspace(0.5,4,15)"
   ]
  },
  {
   "cell_type": "code",
   "execution_count": null,
   "metadata": {},
   "outputs": [],
   "source": []
  }
 ],
 "metadata": {
  "kernelspec": {
   "display_name": "Python 3",
   "language": "python",
   "name": "python3"
  },
  "language_info": {
   "codemirror_mode": {
    "name": "ipython",
    "version": 3
   },
   "file_extension": ".py",
   "mimetype": "text/x-python",
   "name": "python",
   "nbconvert_exporter": "python",
   "pygments_lexer": "ipython3",
   "version": "3.7.0"
  }
 },
 "nbformat": 4,
 "nbformat_minor": 2
}
