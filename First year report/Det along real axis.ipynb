{
 "cells": [
  {
   "cell_type": "code",
   "execution_count": 2,
   "metadata": {},
   "outputs": [
    {
     "name": "stdout",
     "output_type": "stream",
     "text": [
      "0: Portable Computing Language\n",
      "    0: pthread-Intel(R) Xeon(R) W-2155 CPU @ 3.30GHz\n"
     ]
    }
   ],
   "source": [
    "import bempp.api\n",
    "from bempp.api.assembly.blocked_operator import BlockedOperator\n",
    "import numpy as np\n",
    "import scipy\n",
    "from numpy.linalg import slogdet\n",
    "import matplotlib.pyplot as plt\n",
    "bempp.api.show_available_platforms_and_devices()\n",
    "bempp.api.set_default_device(0, 0)"
   ]
  },
  {
   "cell_type": "markdown",
   "metadata": {},
   "source": [
    "Setting the size of the element of the mesh and the center of the two spheres. The radius of the sphere is 1 and the length of the cube is 1 by default."
   ]
  },
  {
   "cell_type": "code",
   "execution_count": 3,
   "metadata": {},
   "outputs": [],
   "source": [
    "h = 0.2   # size of the mesh (element)\n",
    "center1 = (2, 0, 0) # center of one sphere\n",
    "center2 = (-2, 0, 0) # center of the other sphere\n",
    "\n",
    "sphere1 = bempp.api.shapes.sphere(h=h, origin=center1) # construct the spheres\n",
    "sphere2 = bempp.api.shapes.sphere(h=h, origin=center2)"
   ]
  },
  {
   "cell_type": "markdown",
   "metadata": {},
   "source": [
    "Construct RWG and SNC in difference spaces."
   ]
  },
  {
   "cell_type": "code",
   "execution_count": 4,
   "metadata": {},
   "outputs": [],
   "source": [
    "rwg1 = bempp.api.function_space(sphere1, \"RWG\", 0)\n",
    "rwg2 = bempp.api.function_space(sphere2, \"RWG\", 0)\n",
    "\n",
    "snc1 = bempp.api.function_space(sphere1, \"SNC\", 0)\n",
    "snc2 = bempp.api.function_space(sphere2, \"SNC\", 0)"
   ]
  },
  {
   "cell_type": "code",
   "execution_count": 6,
   "metadata": {},
   "outputs": [],
   "source": [
    "N = 10\n",
    "lbound = 0.05\n",
    "ubound = 4"
   ]
  },
  {
   "cell_type": "code",
   "execution_count": 7,
   "metadata": {},
   "outputs": [],
   "source": [
    "wavenumber = 1j* 0.05\n",
    "\n",
    "op11 = bempp.api.operators.boundary.maxwell.electric_field(rwg1, rwg1, snc1, wavenumber)\n",
    "op22 = bempp.api.operators.boundary.maxwell.electric_field(rwg2, rwg2, snc2, wavenumber)\n",
    "op21 = bempp.api.operators.boundary.maxwell.electric_field(rwg1, rwg2, snc2, wavenumber)\n",
    "op12 = bempp.api.operators.boundary.maxwell.electric_field(rwg2, rwg1, snc1, wavenumber)\n",
    "\n",
    "mat11 = op11.weak_form().A\n",
    "mat12 = op12.weak_form().A\n",
    "mat21 = op21.weak_form().A\n",
    "mat22 = op22.weak_form().A\n",
    "\n",
    "mat = np.linalg.inv(mat11) @ mat12 @ np.linalg.inv(mat22) @ mat21"
   ]
  },
  {
   "cell_type": "code",
   "execution_count": 11,
   "metadata": {},
   "outputs": [],
   "source": [
    "Eigs,evals = np.linalg.eig(mat)"
   ]
  },
  {
   "cell_type": "code",
   "execution_count": 13,
   "metadata": {},
   "outputs": [],
   "source": [
    "Eigs1,evals1 = np.linalg.eig(mat12@mat21)"
   ]
  },
  {
   "cell_type": "code",
   "execution_count": 15,
   "metadata": {},
   "outputs": [],
   "source": [
    "Eigs2,evals2 = np.linalg.eig(mat11@mat22)"
   ]
  },
  {
   "cell_type": "code",
   "execution_count": 22,
   "metadata": {},
   "outputs": [
    {
     "data": {
      "text/plain": [
       "array([ 1.25370829e-03,  3.84706834e-04,  3.84821093e-04, ...,\n",
       "       -1.25242845e-20, -1.25242845e-20,  1.31189166e-20])"
      ]
     },
     "execution_count": 22,
     "metadata": {},
     "output_type": "execute_result"
    }
   ],
   "source": [
    "np.real(Eigs)"
   ]
  },
  {
   "cell_type": "code",
   "execution_count": 24,
   "metadata": {},
   "outputs": [
    {
     "data": {
      "text/plain": [
       "array([ 1.24457284e-04,  3.75749208e-05,  3.69707031e-05, ...,\n",
       "       -1.38565290e-23, -1.69101931e-23, -1.38565290e-23])"
      ]
     },
     "execution_count": 24,
     "metadata": {},
     "output_type": "execute_result"
    }
   ],
   "source": [
    "np.real(Eigs1)"
   ]
  },
  {
   "cell_type": "code",
   "execution_count": 23,
   "metadata": {},
   "outputs": [
    {
     "data": {
      "text/plain": [
       "array([1.01199750e+01, 1.00148227e+01, 9.92297543e+00, ...,\n",
       "       6.18685523e-10, 6.02721594e-10, 5.99548839e-10])"
      ]
     },
     "execution_count": 23,
     "metadata": {},
     "output_type": "execute_result"
    }
   ],
   "source": [
    "np.real(Eigs2)"
   ]
  },
  {
   "cell_type": "code",
   "execution_count": 71,
   "metadata": {},
   "outputs": [],
   "source": [
    "%matplotlib inline\n",
    "from matplotlib.pyplot import figure"
   ]
  },
  {
   "cell_type": "markdown",
   "metadata": {},
   "source": [
    "The left plot shows the relative log determinant with increasing imaginary wavenumber. The right plot uses a scale appropriate for the trapezoid quadrature rule."
   ]
  },
  {
   "cell_type": "code",
   "execution_count": 104,
   "metadata": {},
   "outputs": [
    {
     "data": {
      "text/plain": [
       "[<matplotlib.lines.Line2D at 0x7ff24a422f60>]"
      ]
     },
     "execution_count": 104,
     "metadata": {},
     "output_type": "execute_result"
    },
    {
     "data": {
      "image/png": "[encoded data removed]",
      "text/plain": [
       "<Figure size 720x360 with 1 Axes>"
      ]
     },
     "metadata": {
      "needs_background": "light"
     },
     "output_type": "display_data"
    }
   ],
   "source": [
    "%matplotlib inline\n",
    "from matplotlib.pyplot import figure\n",
    "plt.figure(figsize=(10,5))\n",
    "plt.xticks(fontsize=14)\n",
    "plt.yticks(fontsize=14)\n",
    "plt.xlabel('wavenumber', fontsize = 20)\n",
    "plt.ylabel('determinant of $M_{\\infty}^{-1}M$', fontsize = 20)\n",
    "plt.semilogy(-np.log(quad_points),determinant_list, '*')"
   ]
  },
  {
   "cell_type": "code",
   "execution_count": 74,
   "metadata": {},
   "outputs": [
    {
     "data": {
      "text/plain": [
       "array([4.        , 2.10395782, 1.48885962, 1.11082587, 0.83714692,\n",
       "       0.62250034, 0.4458838 , 0.29582816, 0.16537909, 0.05      ])"
      ]
     },
     "execution_count": 74,
     "metadata": {},
     "output_type": "execute_result"
    }
   ],
   "source": [
    "-np.log(quad_points)"
   ]
  },
  {
   "cell_type": "code",
   "execution_count": 78,
   "metadata": {},
   "outputs": [
    {
     "data": {
      "text/plain": [
       "[4.3687710816538344e-113,\n",
       " 2.228871481131103e-142,\n",
       " -1.4586943100488628e-149,\n",
       " -4.117853124037817e-118,\n",
       " 2.568363841124581e-94,\n",
       " -7.558091351502552e-92,\n",
       " 3.427049567016164e-53,\n",
       " 7.380409967732699e-06,\n",
       " 5.330748683251814e+286,\n",
       " -5.0139335631167644e+287]"
      ]
     },
     "execution_count": 78,
     "metadata": {},
     "output_type": "execute_result"
    }
   ],
   "source": [
    "determinant_list"
   ]
  },
  {
   "cell_type": "code",
   "execution_count": 97,
   "metadata": {},
   "outputs": [],
   "source": [
    "a,b = slogdet([[-1,0],[0,1]])"
   ]
  },
  {
   "cell_type": "code",
   "execution_count": 98,
   "metadata": {},
   "outputs": [
    {
     "data": {
      "text/plain": [
       "-1.0"
      ]
     },
     "execution_count": 98,
     "metadata": {},
     "output_type": "execute_result"
    }
   ],
   "source": [
    "a"
   ]
  },
  {
   "cell_type": "code",
   "execution_count": 99,
   "metadata": {},
   "outputs": [
    {
     "data": {
      "text/plain": [
       "0.0"
      ]
     },
     "execution_count": 99,
     "metadata": {},
     "output_type": "execute_result"
    }
   ],
   "source": [
    "b"
   ]
  },
  {
   "cell_type": "code",
   "execution_count": 7,
   "metadata": {},
   "outputs": [
    {
     "data": {
      "text/plain": [
       "array([0.00325  , 0.0038125, 0.004375 , 0.0049375, 0.0055   ])"
      ]
     },
     "execution_count": 7,
     "metadata": {},
     "output_type": "execute_result"
    }
   ],
   "source": [
    "np.linspace(0.00325,0.0055, 5)"
   ]
  },
  {
   "cell_type": "code",
   "execution_count": null,
   "metadata": {},
   "outputs": [],
   "source": []
  }
 ],
 "metadata": {
  "kernelspec": {
   "display_name": "Python 3",
   "language": "python",
   "name": "python3"
  },
  "language_info": {
   "codemirror_mode": {
    "name": "ipython",
    "version": 3
   },
   "file_extension": ".py",
   "mimetype": "text/x-python",
   "name": "python",
   "nbconvert_exporter": "python",
   "pygments_lexer": "ipython3",
   "version": "3.7.0"
  }
 },
 "nbformat": 4,
 "nbformat_minor": 4
}
