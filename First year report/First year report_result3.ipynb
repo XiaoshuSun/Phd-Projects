{
 "cells": [
  {
   "cell_type": "code",
   "execution_count": 1,
   "metadata": {},
   "outputs": [],
   "source": [
    "import bempp.api\n",
    "import numpy as np\n",
    "import scipy\n",
    "import math\n",
    "import time\n",
    "import scipy.linalg \n",
    "import scipy.linalg.interpolative as sli\n",
    "%matplotlib inline\n",
    "from matplotlib import pyplot as plt\n",
    "\n",
    "from bempp.api.assembly.blocked_operator import BlockedOperator\n",
    "from numpy.linalg import slogdet\n",
    "#bempp.api.enable_console_logging()"
   ]
  },
  {
   "cell_type": "code",
   "execution_count": 2,
   "metadata": {},
   "outputs": [],
   "source": [
    "def get_box(nx, ny, mat, nboxes, n):\n",
    "    \"\"\"Return the content of a given box\"\"\"\n",
    "    xrange = [nx * size, (1 + nx) * size] \n",
    "    yrange = [ny * size, (1 + ny) * size] \n",
    "    return mat[xrange[0]:xrange[1], yrange[0]:yrange[1]] "
   ]
  },
  {
   "cell_type": "code",
   "execution_count": 3,
   "metadata": {},
   "outputs": [],
   "source": [
    "def get_con_box(i,mat,nboxes,n):\n",
    "    BB = mat[i * size : (i + 1) * size, :]\n",
    "    B = np.delete(BB, np.s_[i*size : (i+1)*size], axis = 1)\n",
    "    \n",
    "    CC = np.transpose(mat[:, i * size : (i + 1) * size])\n",
    "    C = np.delete(CC, np.s_[i*size : (i+1)*size], axis = 1)\n",
    "    return np.hstack((B,C))"
   ]
  },
  {
   "cell_type": "code",
   "execution_count": 4,
   "metadata": {},
   "outputs": [],
   "source": [
    "def L(i,k,mat,nboxes,n):\n",
    "    idx1,proj1 = sli.interp_decomp(get_con_box(i,mat,nboxes,n), k, rand = False)\n",
    "    B1 = sli.reconstruct_skel_matrix(get_con_box(i,mat,nboxes,n),k,idx1)\n",
    "    B1_trans = np.transpose(B1)\n",
    "    \n",
    "    idx2,proj2 = sli.interp_decomp(B1_trans, k, rand = False)\n",
    "    P2_trans = sli.reconstruct_interp_matrix(idx2,proj2)\n",
    "\n",
    "    P2 = np.transpose(P2_trans)\n",
    "    return P2,idx2"
   ]
  },
  {
   "cell_type": "code",
   "execution_count": 5,
   "metadata": {},
   "outputs": [],
   "source": [
    "def index_set(k,mat,nboxes,n):\n",
    "    l = []\n",
    "    for i in range(nboxes):\n",
    "        l.append(L(i,k,mat,nboxes,n)[1][0:k])\n",
    "    return l"
   ]
  },
  {
   "cell_type": "code",
   "execution_count": 6,
   "metadata": {},
   "outputs": [],
   "source": [
    "def S(k,mat,nboxes,n):\n",
    "    ll = index_set(k,mat,nboxes,n)\n",
    "    mat__ = np.zeros((k*nboxes,k*nboxes))\n",
    "    for i in range(nboxes):\n",
    "        for j in range(nboxes):\n",
    "            if i != j:\n",
    "                mat_ = get_box(i,j,mat,nboxes,n)[ll[i],:]\n",
    "                mat__[i*k:(i+1)*k,j*k:(j+1)*k] = mat_[:,ll[j]]\n",
    "    return mat__"
   ]
  },
  {
   "cell_type": "code",
   "execution_count": 7,
   "metadata": {},
   "outputs": [],
   "source": [
    "def R(i,k,mat,nboxes,n):\n",
    "    RR = np.transpose(L(i,k,mat,nboxes,n)[0])\n",
    "    return RR"
   ]
  },
  {
   "cell_type": "code",
   "execution_count": 8,
   "metadata": {},
   "outputs": [],
   "source": [
    "def new_S(k,mat,nboxes,n):\n",
    "    mat_ = S(k,mat,nboxes,n)\n",
    "    for i in range(nboxes):\n",
    "        mat_[i*k:(i+1)*k,i*k:(i+1)*k] = np.linalg.inv(R(i,k,mat,nboxes,n) @ np.linalg.inv(get_box(i,i,mat,nboxes,n)) @ L(i,k,mat,nboxes,n)[0])\n",
    "    return mat_"
   ]
  },
  {
   "cell_type": "code",
   "execution_count": 9,
   "metadata": {},
   "outputs": [],
   "source": [
    "def logdet_(k,mat,nboxes,n):\n",
    "    a1 = 0\n",
    "    p1,l1,u1 = scipy.linalg.lu(new_S(k,mat,nboxes,n))\n",
    "    for i in range(k*nboxes):\n",
    "        a1 += math.log(abs(u1[i,i]))\n",
    "        \n",
    "    a2 = 0\n",
    "    for i in range (nboxes):\n",
    "        p2,l2,u2 = scipy.linalg.lu(get_box(i,i,mat,nboxes,n))\n",
    "        for j in range(size):\n",
    "            a2 +=math.log(abs(u2[j,j]))\n",
    "            \n",
    "    a3 = 0\n",
    "    for i in range(nboxes):\n",
    "        p3,l3,u3 = scipy.linalg.lu(-R(i,k,mat,nboxes,n)@np.linalg.inv(get_box(i,i,mat,nboxes,n)) @L(i,k,mat,nboxes,n)[0] )\n",
    "        for j in range(k):\n",
    "            a3 += math.log(abs(u3[j,j]))\n",
    "    return a1 + a2 + a3"
   ]
  },
  {
   "cell_type": "code",
   "execution_count": 10,
   "metadata": {},
   "outputs": [],
   "source": [
    "NZ = 15\n",
    "lower_bd = 0.5  # lower bound of Z\n",
    "upper_bd = 4.0  # upper bound of Z\n",
    "surf_dist = np.linspace(lower_bd, upper_bd, NZ)\n",
    "\n",
    "Nk = 15\n",
    "lbound = .05    # lower bound of k in ik\n",
    "ubound = 4      # upper bound of k in ik\n",
    "quad_points = np.linspace(np.exp(-ubound), np.exp(-lbound), Nk)\n",
    "result_k = np.empty(Nk, dtype='float64')\n",
    "result_rk = np.empty(Nk, dtype='float64')\n",
    "\n",
    "\n",
    "Casimir_energy = np.empty(NZ, dtype='float64')\n",
    "Casimir_energy_appro = np.empty(NZ, dtype='float64')\n",
    "\n",
    "h = .2   # size of the mesh (element)"
   ]
  },
  {
   "cell_type": "code",
   "execution_count": 11,
   "metadata": {},
   "outputs": [],
   "source": [
    "# Two unit spheres' case\n",
    "for index1, point1 in enumerate(surf_dist):\n",
    "    \n",
    "    center1 = ((point1/2) + 1, 0, 0)\n",
    "    center2 = (-((point1/2) + 1), 0, 0)\n",
    "\n",
    "    sphere1 = bempp.api.shapes.sphere(h=h, origin=center1)\n",
    "    sphere2 = bempp.api.shapes.sphere(h=h, origin=center2)\n",
    "    \n",
    "    rwg1 = bempp.api.function_space(sphere1, \"RWG\", 0)\n",
    "    rwg2 = bempp.api.function_space(sphere2, \"RWG\", 0)\n",
    "\n",
    "    snc1 = bempp.api.function_space(sphere1, \"SNC\", 0)\n",
    "    snc2 = bempp.api.function_space(sphere2, \"SNC\", 0)\n",
    "    \n",
    "    for index2, point2 in enumerate(quad_points):\n",
    "    \n",
    "        wavenumber = -1j * np.log(point2)\n",
    "\n",
    "        op11 = bempp.api.operators.boundary.maxwell.electric_field(rwg1, rwg1, snc1, wavenumber)\n",
    "        op22 = bempp.api.operators.boundary.maxwell.electric_field(rwg2, rwg2, snc2, wavenumber)\n",
    "        op21 = bempp.api.operators.boundary.maxwell.electric_field(rwg1, rwg2, snc2, wavenumber)\n",
    "        op12 = bempp.api.operators.boundary.maxwell.electric_field(rwg2, rwg1, snc1, wavenumber)\n",
    "\n",
    "        blocked_op = BlockedOperator(2, 2)\n",
    "        blocked_op[0, 0] = op11\n",
    "        blocked_op[0, 1] = op12\n",
    "        blocked_op[1, 0] = op21\n",
    "        blocked_op[1, 1] = op22\n",
    "\n",
    "        blocked_diag = BlockedOperator(2, 2)\n",
    "        blocked_diag[0, 0] = op11\n",
    "        blocked_diag[1, 1] = op22\n",
    "\n",
    "        mat = np.real(bempp.api.as_matrix(blocked_op.weak_form()))\n",
    "        mat2 = np.real(bempp.api.as_matrix(blocked_diag.weak_form()))\n",
    "        combined = np.linalg.inv(mat2).dot(mat)\n",
    "        sign, logdet = slogdet(combined)\n",
    "        result_k[index2] = logdet\n",
    "        \n",
    "        n = combined.shape[0]\n",
    "        nboxes = 33\n",
    "        size = n//nboxes\n",
    "        k = 20\n",
    "        result_rk[index2] = logdet_(k,combined,nboxes,n)\n",
    "        \n",
    "    Casimir_energy[index1] = np.trapz(-result_k / surf_dist, surf_dist) / (2 * np.pi)\n",
    "    Casimir_energy_appro[index1] = np.trapz(-result_rk / surf_dist, surf_dist) / (2 * np.pi)"
   ]
  },
  {
   "cell_type": "code",
   "execution_count": 12,
   "metadata": {},
   "outputs": [
    {
     "data": {
      "text/plain": [
       "[<matplotlib.lines.Line2D at 0x7fb51a002160>]"
      ]
     },
     "execution_count": 12,
     "metadata": {},
     "output_type": "execute_result"
    },
    {
     "data": {
      "image/png": "[encoded data removed]",
      "text/plain": [
       "<Figure size 432x288 with 1 Axes>"
      ]
     },
     "metadata": {
      "needs_background": "light"
     },
     "output_type": "display_data"
    }
   ],
   "source": [
    "plt.semilogy(surf_dist,Casimir_energy)\n",
    "plt.semilogy(surf_dist,Casimir_energy_appro)"
   ]
  },
  {
   "cell_type": "code",
   "execution_count": 13,
   "metadata": {},
   "outputs": [],
   "source": [
    "relative_error = np.empty(NZ,dtype='float64')\n",
    "for i in range(NZ):\n",
    "    relative_error[i] = (Casimir_energy[i]-Casimir_energy_appro[i])/Casimir_energy[i]"
   ]
  },
  {
   "cell_type": "code",
   "execution_count": 14,
   "metadata": {},
   "outputs": [
    {
     "data": {
      "text/plain": [
       "[<matplotlib.lines.Line2D at 0x7fb51885cfd0>]"
      ]
     },
     "execution_count": 14,
     "metadata": {},
     "output_type": "execute_result"
    },
    {
     "data": {
      "image/png": "[encoded data removed]",
      "text/plain": [
       "<Figure size 432x288 with 1 Axes>"
      ]
     },
     "metadata": {
      "needs_background": "light"
     },
     "output_type": "display_data"
    }
   ],
   "source": [
    "plt.semilogy(surf_dist, abs(relative_error))"
   ]
  },
  {
   "cell_type": "code",
   "execution_count": 15,
   "metadata": {},
   "outputs": [
    {
     "data": {
      "text/plain": [
       "array([ 6.23428266e-04,  9.40067239e-05,  2.06947469e-03,  2.73428896e-03,\n",
       "        3.46774861e-03,  3.12117383e-03, -2.98120663e-04,  4.01753551e-02,\n",
       "        5.40242561e-02,  4.85559881e-02,  4.20055173e-03,  4.86049730e-03,\n",
       "        5.33446791e-04,  5.46808252e-02,  5.73566431e-02])"
      ]
     },
     "execution_count": 15,
     "metadata": {},
     "output_type": "execute_result"
    }
   ],
   "source": [
    "relative_error"
   ]
  },
  {
   "cell_type": "code",
   "execution_count": null,
   "metadata": {},
   "outputs": [],
   "source": []
  }
 ],
 "metadata": {
  "kernelspec": {
   "display_name": "Python 3",
   "language": "python",
   "name": "python3"
  },
  "language_info": {
   "codemirror_mode": {
    "name": "ipython",
    "version": 3
   },
   "file_extension": ".py",
   "mimetype": "text/x-python",
   "name": "python",
   "nbconvert_exporter": "python",
   "pygments_lexer": "ipython3",
   "version": "3.7.0"
  }
 },
 "nbformat": 4,
 "nbformat_minor": 2
}
