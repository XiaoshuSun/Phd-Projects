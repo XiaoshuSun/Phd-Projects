{
 "cells": [
  {
   "cell_type": "code",
   "execution_count": 3,
   "metadata": {},
   "outputs": [],
   "source": [
    "import bempp.api\n",
    "from bempp.api.assembly.blocked_operator import BlockedOperator\n",
    "import numpy as np\n",
    "from numpy.linalg import slogdet\n",
    "import matplotlib.pyplot as plt\n",
    "bempp.core.opencl_kernels.set_default_device(0,0)#bempp.api.enable_console_logging()"
   ]
  },
  {
   "cell_type": "markdown",
   "metadata": {},
   "source": [
    "Setting the size of the element of the mesh and the center of the two spheres. The radius of the sphere is 1 and the distance between the boundary of them if 1. (Z/R=1)"
   ]
  },
  {
   "cell_type": "code",
   "execution_count": 6,
   "metadata": {},
   "outputs": [],
   "source": [
    "h = 0.1\n",
    "center1 = (1.75, 0, 0) # center of one sphere\n",
    "center2 = (-1.75, 0, 0) \n",
    "\n",
    "sphere1 = bempp.api.shapes.sphere(h = h, origin = center1)\n",
    "sphere2 = bempp.api.shapes.sphere(h = h, origin = center2)"
   ]
  },
  {
   "cell_type": "markdown",
   "metadata": {},
   "source": [
    "Construct RWG and SNC in difference spaces."
   ]
  },
  {
   "cell_type": "code",
   "execution_count": 7,
   "metadata": {},
   "outputs": [],
   "source": [
    "rwg1 = bempp.api.function_space(sphere1, \"RWG\", 0)\n",
    "rwg2 = bempp.api.function_space(sphere2, \"RWG\", 0)\n",
    "\n",
    "snc1 = bempp.api.function_space(sphere1, \"SNC\", 0)\n",
    "snc2 = bempp.api.function_space(sphere2, \"SNC\", 0)"
   ]
  },
  {
   "cell_type": "markdown",
   "metadata": {},
   "source": [
    "We are defining an exponentially adapted trapezoid rule and choose the quadrature points accordingly."
   ]
  },
  {
   "cell_type": "code",
   "execution_count": 14,
   "metadata": {
    "scrolled": true
   },
   "outputs": [
    {
     "name": "stdout",
     "output_type": "stream",
     "text": [
      "6.89004409082371e-13\n",
      "-2.3405140950316906e-05\n",
      "-0.00016622762439217782\n",
      "-0.0005001998699049221\n",
      "-0.0010511806833187157\n",
      "-0.0018014067148592575\n",
      "-0.0026943625693405856\n",
      "-0.003645137320911288\n",
      "-0.004557238564308102\n",
      "-0.0053441482306812735\n",
      "-0.005950440442467621\n",
      "-0.006364397391848925\n",
      "-0.006614149750557726\n",
      "-0.0067451375210862575\n",
      "-0.00679174350467729\n"
     ]
    }
   ],
   "source": [
    "N = 15\n",
    "lbound = .005\n",
    "ubound = 10\n",
    "quad_points = np.linspace(np.exp(-ubound), np.exp(-lbound), N)\n",
    "results = np.empty(N, dtype='float64')\n",
    "    \n",
    "for index2, point in enumerate(quad_points):\n",
    "\n",
    "    wavenumber = -1j * np.log(point)\n",
    "\n",
    "    op11 = bempp.api.operators.boundary.maxwell.electric_field(rwg1, rwg1, snc1, wavenumber)\n",
    "    op22 = bempp.api.operators.boundary.maxwell.electric_field(rwg2, rwg2, snc2, wavenumber)\n",
    "    op21 = bempp.api.operators.boundary.maxwell.electric_field(rwg1, rwg2, snc2, wavenumber)\n",
    "    op12 = bempp.api.operators.boundary.maxwell.electric_field(rwg2, rwg1, snc1, wavenumber)\n",
    "\n",
    "    mat11 = op11.weak_form().A\n",
    "    mat12 = op12.weak_form().A\n",
    "    mat21 = op21.weak_form().A\n",
    "    mat22 = op22.weak_form().A\n",
    "    mat12_zero = np.zeros((mat11.shape[0],mat12.shape[1]))\n",
    "    mat21_zero = np.zeros((mat22.shape[0],mat11.shape[1]))\n",
    "\n",
    "    mat = np.real(np.block([[mat11,mat12],[mat21,mat22]]))    \n",
    "    mat2 = np.real(np.block([[mat11,mat12_zero],[mat21_zero,mat22]]))\n",
    "\n",
    "    A = np.linalg.inv(mat2).dot(mat)\n",
    "\n",
    "    sign, logdet = slogdet(A)\n",
    "    results[index2] = logdet\n",
    "    print(logdet)"
   ]
  },
  {
   "cell_type": "code",
   "execution_count": 15,
   "metadata": {},
   "outputs": [
    {
     "name": "stdout",
     "output_type": "stream",
     "text": [
      "The normalized Casimir Energy is: 0.0008777888430670014\n"
     ]
    }
   ],
   "source": [
    "casimir_energy = np.trapz(-results / quad_points, quad_points) / (2 * np.pi)\n",
    "print(f\"The normalized Casimir Energy is: {casimir_energy}\")"
   ]
  },
  {
   "cell_type": "code",
   "execution_count": 1,
   "metadata": {},
   "outputs": [],
   "source": [
    "%matplotlib inline\n",
    "from matplotlib.pyplot import figure"
   ]
  },
  {
   "cell_type": "code",
   "execution_count": 16,
   "metadata": {},
   "outputs": [
    {
     "data": {
      "text/plain": [
       "Text(0, 0.5, 'The value of the integrand')"
      ]
     },
     "execution_count": 16,
     "metadata": {},
     "output_type": "execute_result"
    },
    {
     "data": {
      "image/png": "[encoded data removed]",
      "text/plain": [
       "<Figure size 864x432 with 2 Axes>"
      ]
     },
     "metadata": {
      "needs_background": "light"
     },
     "output_type": "display_data"
    }
   ],
   "source": [
    "fig = figure(figsize=(12,6))\n",
    "ax1 = fig.add_subplot(121)\n",
    "ax1.set_xlabel('$\\mathrm{i}$k')\n",
    "ax1.set_ylabel('The value of the integrand')\n",
    "ax2 = fig.add_subplot(122)\n",
    "ax2.set_xlabel('exp(-k)')\n",
    "ax1.semilogy(-np.log(quad_points), -results, '*-')\n",
    "ax2.plot(quad_points, -results, '*-')\n",
    "ax2.set_ylabel('The value of the integrand')\n",
    "#fig.tight_layout()\n",
    "#the relative log determinant with increasing imaginary wavenumber. The right plot uses a scale appropriate for the trapezoid quadrature rule."
   ]
  },
  {
   "cell_type": "code",
   "execution_count": 17,
   "metadata": {},
   "outputs": [
    {
     "name": "stdout",
     "output_type": "stream",
     "text": [
      "5.404697754908313e-06\n"
     ]
    }
   ],
   "source": [
    "compensation1 = (results[-1] * np.log(quad_points[-1]))/(2*np.pi)\n",
    "print(compensation1)"
   ]
  },
  {
   "cell_type": "code",
   "execution_count": 18,
   "metadata": {},
   "outputs": [
    {
     "data": {
      "text/plain": [
       "0.0008831935408219097"
      ]
     },
     "execution_count": 18,
     "metadata": {},
     "output_type": "execute_result"
    }
   ],
   "source": [
    "casimir_energy + compensation1"
   ]
  },
  {
   "cell_type": "code",
   "execution_count": 27,
   "metadata": {},
   "outputs": [
    {
     "data": {
      "text/plain": [
       "0.00011988167627856935"
      ]
     },
     "execution_count": 27,
     "metadata": {},
     "output_type": "execute_result"
    }
   ],
   "source": [
    "np.exp(2*1.5*np.log(quad_points[1]))/3"
   ]
  },
  {
   "cell_type": "code",
   "execution_count": 20,
   "metadata": {},
   "outputs": [
    {
     "data": {
      "image/png": "[encoded data removed]",
      "text/plain": [
       "<Figure size 432x288 with 1 Axes>"
      ]
     },
     "metadata": {
      "needs_background": "light"
     },
     "output_type": "display_data"
    }
   ],
   "source": [
    "#results_test = np.exp(2*np.log(quad_points))\n",
    "#plt.figure(figsize=(10,6))\n",
    "plt.semilogy(-np.log(quad_points), -results, '*-')\n",
    "plt.semilogy(-np.log(quad_points), 0.1*np.exp(2*1.5*np.log(quad_points)), '*-')\n",
    "#plt.semilogy(-np.log(quad_points), results_test, '*-')\n",
    "plt.xlabel(' ik',fontsize = 15)\n",
    "plt.ylabel('Integrand function value',fontsize = 15)\n",
    "plt.savefig('integrand_value_decay2.pdf',bbox_inches='tight')"
   ]
  },
  {
   "cell_type": "code",
   "execution_count": 21,
   "metadata": {},
   "outputs": [
    {
     "data": {
      "image/png": "[encoded data removed]",
      "text/plain": [
       "<Figure size 432x288 with 1 Axes>"
      ]
     },
     "metadata": {
      "needs_background": "light"
     },
     "output_type": "display_data"
    }
   ],
   "source": [
    "plt.semilogy(quad_points, -results, '*-')\n",
    "plt.xlabel('exp(-k)', fontsize = 15)\n",
    "plt.ylabel('Integrand function value', fontsize = 15)\n",
    "plt.savefig('integrand_value_not_decay.pdf',bbox_inches='tight')"
   ]
  },
  {
   "cell_type": "code",
   "execution_count": 38,
   "metadata": {},
   "outputs": [
    {
     "name": "stdout",
     "output_type": "stream",
     "text": [
      "-2.0152150720391\n"
     ]
    }
   ],
   "source": [
    "op11 = bempp.api.operators.boundary.maxwell.electric_field(rwg1, rwg1, snc1, 0.000005*1j)\n",
    "op22 = bempp.api.operators.boundary.maxwell.electric_field(rwg2, rwg2, snc2, 0.000005*1j)\n",
    "op21 = bempp.api.operators.boundary.maxwell.electric_field(rwg1, rwg2, snc2, 0.000005*1j)\n",
    "op12 = bempp.api.operators.boundary.maxwell.electric_field(rwg2, rwg1, snc1, 0.000005*1j)\n",
    "\n",
    "mat11 = op11.weak_form().A\n",
    "mat12 = op12.weak_form().A\n",
    "mat21 = op21.weak_form().A\n",
    "mat22 = op22.weak_form().A\n",
    "mat12_zero = np.zeros((mat11.shape[0],mat12.shape[1]))\n",
    "mat21_zero = np.zeros((mat22.shape[0],mat11.shape[1]))\n",
    "\n",
    "mat = np.real(np.block([[mat11,mat12],[mat21,mat22]]))    \n",
    "mat2 = np.real(np.block([[mat11,mat12_zero],[mat21_zero,mat22]]))\n",
    "\n",
    "A = np.linalg.inv(mat2).dot(mat)\n",
    "\n",
    "sign, logdet = slogdet(A)\n",
    "print(logdet)"
   ]
  },
  {
   "cell_type": "code",
   "execution_count": 39,
   "metadata": {},
   "outputs": [
    {
     "data": {
      "text/plain": [
       "0.8294"
      ]
     },
     "execution_count": 39,
     "metadata": {},
     "output_type": "execute_result"
    }
   ],
   "source": [
    "6.38 * 0.13"
   ]
  },
  {
   "cell_type": "code",
   "execution_count": null,
   "metadata": {},
   "outputs": [],
   "source": [
    "0.006791591024078004 k = 0.005\n",
    "0.006844663855577464 k = 0.0005\n",
    "0.026719433639992886 k = 0.00005\n",
    "2.0152150720391 k = 0.000005"
   ]
  }
 ],
 "metadata": {
  "kernelspec": {
   "display_name": "Python 3",
   "language": "python",
   "name": "python3"
  },
  "language_info": {
   "codemirror_mode": {
    "name": "ipython",
    "version": 3
   },
   "file_extension": ".py",
   "mimetype": "text/x-python",
   "name": "python",
   "nbconvert_exporter": "python",
   "pygments_lexer": "ipython3",
   "version": "3.7.0"
  }
 },
 "nbformat": 4,
 "nbformat_minor": 4
}
