{
 "cells": [
  {
   "cell_type": "code",
   "execution_count": 1,
   "metadata": {},
   "outputs": [],
   "source": [
    "import bempp.api\n",
    "import numpy as np\n",
    "import scipy\n",
    "import math\n",
    "import time\n",
    "import scipy.linalg \n",
    "import scipy.linalg.interpolative as sli\n",
    "%matplotlib inline\n",
    "from matplotlib import pyplot as plt\n",
    "\n",
    "from bempp.api.assembly.blocked_operator import BlockedOperator\n",
    "from numpy.linalg import slogdet\n",
    "#bempp.api.enable_console_logging()"
   ]
  },
  {
   "cell_type": "code",
   "execution_count": 2,
   "metadata": {},
   "outputs": [],
   "source": [
    "def get_box(nx, ny, mat, nboxes, n):\n",
    "    \"\"\"Return the content of a given box\"\"\"\n",
    "    xrange = [nx * size, (1 + nx) * size] \n",
    "    yrange = [ny * size, (1 + ny) * size] \n",
    "    return mat[xrange[0]:xrange[1], yrange[0]:yrange[1]] "
   ]
  },
  {
   "cell_type": "code",
   "execution_count": 3,
   "metadata": {},
   "outputs": [],
   "source": [
    "def get_con_box(i,mat,nboxes,n):\n",
    "    BB = mat[i * size : (i + 1) * size, :]\n",
    "    B = np.delete(BB, np.s_[i*size : (i+1)*size], axis = 1)\n",
    "    \n",
    "    CC = np.transpose(mat[:, i * size : (i + 1) * size])\n",
    "    C = np.delete(CC, np.s_[i*size : (i+1)*size], axis = 1)\n",
    "    return np.hstack((B,C))"
   ]
  },
  {
   "cell_type": "code",
   "execution_count": 4,
   "metadata": {},
   "outputs": [],
   "source": [
    "def L(i,k,mat,nboxes,n):\n",
    "    idx1,proj1 = sli.interp_decomp(get_con_box(i,mat,nboxes,n), k, rand = False)\n",
    "    B1 = sli.reconstruct_skel_matrix(get_con_box(i,mat,nboxes,n),k,idx1)\n",
    "    B1_trans = np.transpose(B1)\n",
    "    \n",
    "    idx2,proj2 = sli.interp_decomp(B1_trans, k, rand = False)\n",
    "    P2_trans = sli.reconstruct_interp_matrix(idx2,proj2)\n",
    "\n",
    "    P2 = np.transpose(P2_trans)\n",
    "    return P2,idx2"
   ]
  },
  {
   "cell_type": "code",
   "execution_count": 5,
   "metadata": {},
   "outputs": [],
   "source": [
    "def index_set(k,mat,nboxes,n):\n",
    "    l = []\n",
    "    for i in range(nboxes):\n",
    "        l.append(L(i,k,mat,nboxes,n)[1][0:k])\n",
    "    return l"
   ]
  },
  {
   "cell_type": "code",
   "execution_count": 6,
   "metadata": {},
   "outputs": [],
   "source": [
    "def S(k,mat,nboxes,n):\n",
    "    ll = index_set(k,mat,nboxes,n)\n",
    "    mat__ = np.zeros((k*nboxes,k*nboxes))\n",
    "    for i in range(nboxes):\n",
    "        for j in range(nboxes):\n",
    "            if i != j:\n",
    "                mat_ = get_box(i,j,mat,nboxes,n)[ll[i],:]\n",
    "                mat__[i*k:(i+1)*k,j*k:(j+1)*k] = mat_[:,ll[j]]\n",
    "    return mat__"
   ]
  },
  {
   "cell_type": "code",
   "execution_count": 7,
   "metadata": {},
   "outputs": [],
   "source": [
    "def R(i,k,mat,nboxes,n):\n",
    "    RR = np.transpose(L(i,k,mat,nboxes,n)[0])\n",
    "    return RR"
   ]
  },
  {
   "cell_type": "code",
   "execution_count": 8,
   "metadata": {},
   "outputs": [],
   "source": [
    "def new_S(k,mat,nboxes,n):\n",
    "    mat_ = S(k,mat,nboxes,n)\n",
    "    for i in range(nboxes):\n",
    "        mat_[i*k:(i+1)*k,i*k:(i+1)*k] = np.linalg.inv(R(i,k,mat,nboxes,n) @ np.linalg.inv(get_box(i,i,mat,nboxes,n)) @ L(i,k,mat,nboxes,n)[0])\n",
    "    return mat_"
   ]
  },
  {
   "cell_type": "code",
   "execution_count": 9,
   "metadata": {},
   "outputs": [],
   "source": [
    "def logdet_(k,mat,nboxes,n):\n",
    "    a1 = 0\n",
    "    p1,l1,u1 = scipy.linalg.lu(new_S(k,mat,nboxes,n))\n",
    "    for i in range(k*nboxes):\n",
    "        a1 += math.log(abs(u1[i,i]))\n",
    "        \n",
    "    a2 = 0\n",
    "    for i in range (nboxes):\n",
    "        p2,l2,u2 = scipy.linalg.lu(get_box(i,i,mat,nboxes,n))\n",
    "        for j in range(size):\n",
    "            a2 +=math.log(abs(u2[j,j]))\n",
    "            \n",
    "    a3 = 0\n",
    "    for i in range(nboxes):\n",
    "        p3,l3,u3 = scipy.linalg.lu(-R(i,k,mat,nboxes,n)@np.linalg.inv(get_box(i,i,mat,nboxes,n)) @L(i,k,mat,nboxes,n)[0] )\n",
    "        for j in range(k):\n",
    "            a3 += math.log(abs(u3[j,j]))\n",
    "    return a1 + a2 + a3"
   ]
  },
  {
   "cell_type": "code",
   "execution_count": 10,
   "metadata": {},
   "outputs": [],
   "source": [
    "h = .2   # size of the mesh (element)\n",
    "center1 = (3, 0, 0) # center of one sphere\n",
    "center2 = (-3, 0, 0) # center of the other sphere\n",
    "\n",
    "sphere1 = bempp.api.shapes.sphere(h=h, origin=center1) # construct the spheres\n",
    "sphere2 = bempp.api.shapes.sphere(h=h, origin=center2)"
   ]
  },
  {
   "cell_type": "code",
   "execution_count": 11,
   "metadata": {},
   "outputs": [],
   "source": [
    "rwg1 = bempp.api.function_space(sphere1, \"RWG\", 0)\n",
    "rwg2 = bempp.api.function_space(sphere2, \"RWG\", 0)\n",
    "\n",
    "snc1 = bempp.api.function_space(sphere1, \"SNC\", 0)\n",
    "snc2 = bempp.api.function_space(sphere2, \"SNC\", 0)"
   ]
  },
  {
   "cell_type": "code",
   "execution_count": 12,
   "metadata": {},
   "outputs": [],
   "source": [
    "N = 10\n",
    "lbound = .05\n",
    "ubound = 4\n",
    "\n",
    "# We use an exponentially adapted trapezoid rule.\n",
    "quad_points = np.linspace(np.exp(-ubound), np.exp(-lbound), N)\n",
    "results = np.empty(N, dtype='float64')\n",
    "results_appro1 = []\n",
    "\n",
    "for index, point in enumerate(quad_points):\n",
    "    \n",
    "    wavenumber = -1j * np.log(point)\n",
    "\n",
    "    op11 = bempp.api.operators.boundary.maxwell.electric_field(rwg1, rwg1, snc1, wavenumber)\n",
    "    op22 = bempp.api.operators.boundary.maxwell.electric_field(rwg2, rwg2, snc2, wavenumber)\n",
    "    op21 = bempp.api.operators.boundary.maxwell.electric_field(rwg1, rwg2, snc2, wavenumber)\n",
    "    op12 = bempp.api.operators.boundary.maxwell.electric_field(rwg2, rwg1, snc1, wavenumber)\n",
    "\n",
    "    blocked_op = BlockedOperator(2, 2)\n",
    "    blocked_op[0, 0] = op11\n",
    "    blocked_op[0, 1] = op12\n",
    "    blocked_op[1, 0] = op21\n",
    "    blocked_op[1, 1] = op22\n",
    "\n",
    "    blocked_diag = BlockedOperator(2, 2)\n",
    "    blocked_diag[0, 0] = op11\n",
    "    blocked_diag[1, 1] = op22\n",
    "    \n",
    "    mat1 = np.real(bempp.api.as_matrix(blocked_op.weak_form()))\n",
    "    mat2 = np.real(bempp.api.as_matrix(blocked_diag.weak_form()))\n",
    "    combined = np.linalg.inv(mat2).dot(mat1)\n",
    "    sign, logdet = slogdet(combined)\n",
    "    results[index] = logdet\n",
    "    \n",
    "    n = combined.shape[0]\n",
    "    nboxes = 33\n",
    "    size = n//nboxes\n",
    "    for k in range(1,21):\n",
    "        results_appro1.append(logdet_(k,combined,nboxes,n))"
   ]
  },
  {
   "cell_type": "code",
   "execution_count": 13,
   "metadata": {},
   "outputs": [
    {
     "name": "stdout",
     "output_type": "stream",
     "text": [
      "1.051807971670753e-05\n"
     ]
    }
   ],
   "source": [
    "casimir_energy = np.trapz(-results / quad_points, quad_points) / (2 * np.pi)\n",
    "print (casimir_energy)"
   ]
  },
  {
   "cell_type": "code",
   "execution_count": 14,
   "metadata": {},
   "outputs": [],
   "source": [
    "Size2 = int(len(results_appro1)/N)\n",
    "\n",
    "results_appro = np.empty([Size2,N], dtype = 'float64')\n",
    "casimir_energy_appro = np.empty(Size2, dtype='float64')\n",
    "relative_error_ss_4 = np.empty(Size2, dtype='float64')"
   ]
  },
  {
   "cell_type": "code",
   "execution_count": 15,
   "metadata": {},
   "outputs": [],
   "source": [
    "for i in range(Size2):\n",
    "    for j in range(N):\n",
    "        results_appro[i,j] = results_appro1[i+j*Size2] \n",
    "        \n",
    "for p in range(Size2):\n",
    "    casimir_energy_appro[p] = np.trapz(-results_appro[p,:] / quad_points, quad_points) / (2 * np.pi)   \n",
    "    \n",
    "for s in range(Size2):\n",
    "    relative_error_ss_4[s] = (casimir_energy_appro[s]-casimir_energy)/casimir_energy"
   ]
  },
  {
   "cell_type": "code",
   "execution_count": 16,
   "metadata": {},
   "outputs": [
    {
     "data": {
      "text/plain": [
       "Text(0.5, 0, 'Rank')"
      ]
     },
     "execution_count": 16,
     "metadata": {},
     "output_type": "execute_result"
    },
    {
     "data": {
      "image/png": "[encoded data removed]",
      "text/plain": [
       "<Figure size 432x288 with 1 Axes>"
      ]
     },
     "metadata": {
      "needs_background": "light"
     },
     "output_type": "display_data"
    }
   ],
   "source": [
    "rank = np.linspace(1,Size2, Size2)\n",
    "plt.semilogy(rank, abs(relative_error_ss_4),'r*')\n",
    "plt.ylabel('Relative error (Z/R = 4)')\n",
    "plt.xlabel('Rank')\n",
    "# From the graph, if we just want a four digits approximation, we can just set the rank around 20 or above."
   ]
  },
  {
   "cell_type": "code",
   "execution_count": 20,
   "metadata": {},
   "outputs": [
    {
     "name": "stdout",
     "output_type": "stream",
     "text": [
      "Stored 'relative_error_ss_4' (ndarray)\n"
     ]
    }
   ],
   "source": [
    "%store relative_error_ss_4"
   ]
  },
  {
   "cell_type": "code",
   "execution_count": null,
   "metadata": {},
   "outputs": [],
   "source": []
  }
 ],
 "metadata": {
  "kernelspec": {
   "display_name": "Python 3",
   "language": "python",
   "name": "python3"
  },
  "language_info": {
   "codemirror_mode": {
    "name": "ipython",
    "version": 3
   },
   "file_extension": ".py",
   "mimetype": "text/x-python",
   "name": "python",
   "nbconvert_exporter": "python",
   "pygments_lexer": "ipython3",
   "version": "3.7.0"
  }
 },
 "nbformat": 4,
 "nbformat_minor": 2
}
