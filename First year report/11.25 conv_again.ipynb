{
 "cells": [
  {
   "cell_type": "code",
   "execution_count": 1,
   "metadata": {},
   "outputs": [],
   "source": [
    "import bempp.api\n",
    "from bempp.api.assembly.blocked_operator import BlockedOperator\n",
    "import numpy as np\n",
    "from numpy.linalg import slogdet\n",
    "import matplotlib.pyplot as plt\n",
    "import scipy\n",
    "import scipy.linalg as sl\n",
    "\n",
    "#bempp.api.enable_console_logging()"
   ]
  },
  {
   "cell_type": "markdown",
   "metadata": {},
   "source": [
    "Setting the size of the element of the mesh and the center of the two spheres. The radius of the sphere is 1 and the distance between the boundary of them if 1. (Z/R=1)"
   ]
  },
  {
   "cell_type": "code",
   "execution_count": 2,
   "metadata": {},
   "outputs": [],
   "source": [
    "center1 = (1.5, 0, 0) # center of one sphere\n",
    "center2 = (-1.5, 0, 0) "
   ]
  },
  {
   "cell_type": "markdown",
   "metadata": {},
   "source": [
    "We are defining an exponentially adapted trapezoid rule and choose the quadrature points accordingly."
   ]
  },
  {
   "cell_type": "code",
   "execution_count": 3,
   "metadata": {
    "scrolled": true
   },
   "outputs": [
    {
     "name": "stdout",
     "output_type": "stream",
     "text": [
      "-3.089653860956003e-05 -3.089653705501405e-05 -3.0896538750546654e-05 0 0\n",
      "-0.00480595766176407 -0.004805957661801585 -0.004805957660890314 0 1\n",
      "-0.012706191373751754 -0.012706191374149967 -0.012706191374659781 0 2\n",
      "-0.01778690425148135 -0.01778690425089735 -0.017786904252195868 0 3\n",
      "-0.019255395389527624 -0.01925539533783649 -0.019255395218539917 0 4\n",
      "-3.5430195659594366e-05 -3.5430199659458594e-05 -3.5430196359431676e-05 1 0\n",
      "-0.005131178653844941 -0.005131178653073221 -0.0051311786533068116 1 1\n",
      "-0.01340356337293151 -0.013403563375277372 -0.013403563371649163 1 2\n",
      "-0.01869839164187794 -0.018698391641464696 -0.018698391643692247 1 3\n",
      "-0.020233929045081842 -0.02023392899764076 -0.020233929688314944 1 4\n",
      "-3.775941222725181e-05 -3.77594069504994e-05 -3.775941052230891e-05 2 0\n",
      "-0.005288397701801114 -0.005288397700496716 -0.005288397702641667 2 1\n",
      "-0.01373697560783218 -0.01373697560347864 -0.013736975609601743 2 2\n",
      "-0.019132940928371783 -0.019132940930830955 -0.019132940918466623 2 3\n",
      "-0.020700703662316026 -0.0207007035053266 -0.020700703666955533 2 4\n",
      "-3.934031917642592e-05 -3.934032793040387e-05 -3.934031715946418e-05 3 0\n",
      "-0.005400258189078725 -0.0054002581900931546 -0.005400258185974671 3 1\n",
      "-0.013977415616853419 -0.013977415606859722 -0.01397741561968946 3 2\n",
      "-0.019445859008661116 -0.019445859005827515 -0.019445858998604848 3 3\n",
      "-0.021035181760719942 -0.021035181827755878 -0.021035181731043906 3 4\n",
      "-4.029273987218867e-05 -4.029272804473294e-05 -4.029273789285526e-05 4 0\n",
      "-0.005477755976387984 -0.005477755998072098 -0.005477755977087995 4 1\n",
      "-0.01414705304166462 -0.014147053027954826 -0.014147053057571135 4 2\n",
      "-0.01966554199218449 -0.01966554200680548 -0.019665541972930356 4 3\n",
      "-0.0212684536417984 -0.02126845483235229 -0.02126845438477787 4 4\n",
      "-4.210490824778638e-05 -4.2104915337404236e-05 -4.210490393230515e-05 5 0\n",
      "-0.00560249817012664 -0.00560249818227021 -0.005602498152467383 5 1\n",
      "-0.014411535006424545 -0.014411534955797833 -0.014411534990060204 5 2\n",
      "-0.02000930483681872 -0.020009304871564382 -0.020009304797488525 5 3\n",
      "-0.021636706523934412 -0.02163670557547448 -0.021636710049966368 5 4\n",
      "-4.315351366861019e-05 -4.315347905503586e-05 -4.3153513971105895e-05 6 0\n",
      "-0.005675467905375243 -0.005675467949913582 -0.005675467902504394 6 1\n",
      "-0.0145669562798498 -0.014566956484486582 -0.014566956167763934 6 2\n",
      "-0.020211046194943034 -0.020211046274198452 -0.020211046419492007 6 3\n",
      "-0.02185242866253789 -0.021852429665159434 -0.021852426420041482 6 4\n"
     ]
    }
   ],
   "source": [
    "size_mesh = [0.4,0.35,0.3,0.25,0.2,0.15,0.1]\n",
    "N = 5\n",
    "lbound = .05\n",
    "ubound = 4\n",
    "quad_points = np.linspace(np.exp(-ubound), np.exp(-lbound), N)\n",
    "result_ratio1 = np.empty((len(size_mesh),N), dtype='float64')\n",
    "result2_ratio1 = np.empty((len(size_mesh),N), dtype='float64')\n",
    "result3_ratio1 = np.empty((len(size_mesh),N), dtype='float64')\n",
    "\n",
    "\n",
    "\n",
    "for index1, h in enumerate(size_mesh):\n",
    "    sphere1 = bempp.api.shapes.sphere(h=h, origin=center1) # construct the spheres\n",
    "    sphere2 = bempp.api.shapes.sphere(h=h, origin=center2)\n",
    "    \n",
    "    rwg1 = bempp.api.function_space(sphere1, \"RWG\", 0)\n",
    "    rwg2 = bempp.api.function_space(sphere2, \"RWG\", 0)\n",
    "\n",
    "    snc1 = bempp.api.function_space(sphere1, \"SNC\", 0)\n",
    "    snc2 = bempp.api.function_space(sphere2, \"SNC\", 0)\n",
    "    for index2, point in enumerate(quad_points):\n",
    "    \n",
    "        wavenumber = -1j * np.log(point)\n",
    "\n",
    "        op11 = bempp.api.operators.boundary.maxwell.electric_field(rwg1, rwg1, snc1, wavenumber)\n",
    "        op22 = bempp.api.operators.boundary.maxwell.electric_field(rwg2, rwg2, snc2, wavenumber)\n",
    "        op21 = bempp.api.operators.boundary.maxwell.electric_field(rwg1, rwg2, snc2, wavenumber)\n",
    "        op12 = bempp.api.operators.boundary.maxwell.electric_field(rwg2, rwg1, snc1, wavenumber)\n",
    "\n",
    "        blocked_op = BlockedOperator(2, 2)\n",
    "        blocked_op[0, 0] = op11\n",
    "        blocked_op[0, 1] = op12\n",
    "        blocked_op[1, 0] = op21\n",
    "        blocked_op[1, 1] = op22\n",
    "\n",
    "        blocked_diag = BlockedOperator(2, 2)\n",
    "        blocked_diag[0, 0] = op11\n",
    "        blocked_diag[1, 1] = op22\n",
    "\n",
    "        mat = np.real(bempp.api.as_matrix(blocked_op.weak_form()))\n",
    "        mat2 = np.real(bempp.api.as_matrix(blocked_diag.weak_form()))\n",
    "        combined = np.linalg.inv(mat2).dot(mat)\n",
    "        sign, logdet = slogdet(combined)\n",
    "        result_ratio1[index1,index2] = logdet \n",
    "#===================================================================================================\n",
    "        P1,L1,U1 = sl.lu(mat)\n",
    "        logdet1 = 0\n",
    "        for i in range(mat.shape[0]):\n",
    "            logdet1 += np.log(abs(U1[i,i]))\n",
    "\n",
    "        P2,L2,U2 = sl.lu(np.real(bempp.api.as_matrix(op11.weak_form())))\n",
    "        logdet2 = 0\n",
    "        a = np.real(bempp.api.as_matrix(op11.weak_form())).shape[0]\n",
    "        for i in range(a):\n",
    "            logdet2 += np.log(abs(U2[i,i]))\n",
    "\n",
    "        P3,L3,U3 = sl.lu(np.real(bempp.api.as_matrix(op22.weak_form())))\n",
    "        logdet3 = 0\n",
    "        b = np.real(bempp.api.as_matrix(op22.weak_form())).shape[0]\n",
    "        for i in range(b):\n",
    "            logdet3 += np.log(abs(U3[i,i]))\n",
    "        result2 = logdet1 - logdet2 - logdet3\n",
    "        result2_ratio1[index1,index2] = result2\n",
    "#===================================================================================================\n",
    "        w1,v1 = np.linalg.eig(mat)\n",
    "        w2,v2 = np.linalg.eig(mat2)\n",
    "        result3 = 0\n",
    "        for i in range(mat.shape[0]):\n",
    "            result3 += np.log(abs(w1[i])) - np.log(abs(w2[i]))\n",
    "        result3_ratio1[index1,index2] = result3\n",
    "        print( result_ratio1[index1,index2], result2_ratio1[index1,index2], result3_ratio1[index1,index2] , index1, index2)"
   ]
  },
  {
   "cell_type": "code",
   "execution_count": 4,
   "metadata": {},
   "outputs": [],
   "source": [
    "%matplotlib inline\n",
    "from matplotlib.pyplot import figure"
   ]
  },
  {
   "cell_type": "markdown",
   "metadata": {},
   "source": [
    "The left plot shows the relative log determinant with increasing imaginary wavenumber. The right plot uses a scale appropriate for the trapezoid quadrature rule."
   ]
  },
  {
   "cell_type": "code",
   "execution_count": 5,
   "metadata": {},
   "outputs": [],
   "source": [
    "Casimir_energy1 = []\n",
    "for i in range(len(size_mesh)):\n",
    "    Casimir_energy1.append(np.trapz(-result_ratio1[i,:] / quad_points, quad_points) / (2 * np.pi))\n",
    "    \n",
    "Casimir_energy2 = []\n",
    "for i in range(len(size_mesh)):\n",
    "    Casimir_energy2.append(np.trapz(-result2_ratio1[i,:] / quad_points, quad_points) / (2 * np.pi))\n",
    "    \n",
    "Casimir_energy3 = []\n",
    "for i in range(len(size_mesh)):\n",
    "    Casimir_energy3.append(np.trapz(-result3_ratio1[i,:] / quad_points, quad_points) / (2 * np.pi))"
   ]
  },
  {
   "cell_type": "code",
   "execution_count": 12,
   "metadata": {},
   "outputs": [
    {
     "data": {
      "text/plain": [
       "[0.003008681940325356,\n",
       " 0.003180880961470681,\n",
       " 0.0032635440009760167,\n",
       " 0.0033227669826967027,\n",
       " 0.003364066139898666,\n",
       " 0.003429518899475958,\n",
       " 0.0034678888208614037]"
      ]
     },
     "execution_count": 12,
     "metadata": {},
     "output_type": "execute_result"
    }
   ],
   "source": [
    "Casimir_energy1 #slogdet"
   ]
  },
  {
   "cell_type": "code",
   "execution_count": 13,
   "metadata": {},
   "outputs": [
    {
     "data": {
      "text/plain": [
       "[0.0030086819377473663,\n",
       " 0.0031808809646425946,\n",
       " 0.003263543992167167,\n",
       " 0.00332276699211328,\n",
       " 0.0033640661540488073,\n",
       " 0.0034295188878661086,\n",
       " 0.00346788883168795]"
      ]
     },
     "execution_count": 13,
     "metadata": {},
     "output_type": "execute_result"
    }
   ],
   "source": [
    "Casimir_energy2 #thesis"
   ]
  },
  {
   "cell_type": "code",
   "execution_count": 14,
   "metadata": {},
   "outputs": [
    {
     "data": {
      "text/plain": [
       "[0.0030086819371095584,\n",
       " 0.0031808809746463607,\n",
       " 0.0032635439990863283,\n",
       " 0.0033227669793130543,\n",
       " 0.003364066152715323,\n",
       " 0.0034295189580082082,\n",
       " 0.003467888780016548]"
      ]
     },
     "execution_count": 14,
     "metadata": {},
     "output_type": "execute_result"
    }
   ],
   "source": [
    "Casimir_energy3 #eigenvalue"
   ]
  },
  {
   "cell_type": "code",
   "execution_count": 25,
   "metadata": {},
   "outputs": [
    {
     "data": {
      "text/plain": [
       "[0.0030086819407810234,\n",
       " 0.00318088096152051,\n",
       " 0.0032635439976815275,\n",
       " 0.0033227669847835754,\n",
       " 0.0033640661548929368,\n",
       " 0.0034295188921304805,\n",
       " 0.0034678888766351518]"
      ]
     },
     "execution_count": 25,
     "metadata": {},
     "output_type": "execute_result"
    }
   ],
   "source": [
    "Casimir_energy4 #H-lu"
   ]
  },
  {
   "cell_type": "code",
   "execution_count": 33,
   "metadata": {},
   "outputs": [
    {
     "data": {
      "image/png": "[encoded data removed]",
      "text/plain": [
       "<Figure size 432x288 with 1 Axes>"
      ]
     },
     "metadata": {
      "needs_background": "light"
     },
     "output_type": "display_data"
    }
   ],
   "source": [
    "from matplotlib.ticker import FormatStrFormatter\n",
    "\n",
    "fig, ax = plt.subplots()\n",
    "\n",
    "ax.yaxis.set_major_formatter(FormatStrFormatter('%.10f'))\n",
    "plt.semilogy(size_mesh,Casimir_energy1,'*')\n",
    "plt.semilogy(size_mesh,(Casimir_energy4[2],Casimir_energy4[2],Casimir_energy4[2],Casimir_energy4[2],Casimir_energy4[2],Casimir_energy4[2],Casimir_energy4[2]),'*')\n",
    "\n",
    "plt.legend(['Exact value', 'Data in 2009'])\n",
    "\n",
    "plt.xlabel('size of the element of the mesh')\n",
    "plt.ylabel('Casimir energy')\n",
    "plt.savefig('Convergence_ratio1.pdf',bbox_inches='tight')"
   ]
  },
  {
   "cell_type": "code",
   "execution_count": 11,
   "metadata": {},
   "outputs": [],
   "source": [
    "rate_conv1 = [] #linearly convergence\n",
    "for i in range(6):\n",
    "    rate_conv1.append(abs((Casimir_energy1[i+2]-Casimir_energy1[0]))/abs((Casimir_energy1[i+1]-Casimir_energy1[0])))"
   ]
  },
  {
   "cell_type": "code",
   "execution_count": 12,
   "metadata": {},
   "outputs": [
    {
     "data": {
      "text/plain": [
       "[1.480043608584589,\n",
       " 1.2323726865014357,\n",
       " 1.131490366080964,\n",
       " 1.1841746472011903,\n",
       " 1.0911752652687392,\n",
       " 1.0594785331479726]"
      ]
     },
     "execution_count": 12,
     "metadata": {},
     "output_type": "execute_result"
    }
   ],
   "source": [
    "rate_conv1"
   ]
  },
  {
   "cell_type": "code",
   "execution_count": 22,
   "metadata": {},
   "outputs": [
    {
     "name": "stdout",
     "output_type": "stream",
     "text": [
      "-3.0896538625769295e-05 0 0\n",
      "-0.00480595766174892 0 1\n",
      "-0.012706191373751967 0 2\n",
      "-0.017786904250835598 0 3\n",
      "-0.01925539541386459 0 4\n",
      "-3.543019566081562e-05 1 0\n",
      "-0.005131178653900343 1 1\n",
      "-0.013403563372935488 1 2\n",
      "-0.01869839164174094 1 3\n",
      "-0.020233929047500637 1 4\n",
      "-3.775941221459528e-05 2 0\n",
      "-0.005288397701874605 2 1\n",
      "-0.013736975606937697 2 2\n",
      "-0.019132940930271333 2 3\n",
      "-0.020700703492044493 2 4\n",
      "-3.934031906351623e-05 3 0\n",
      "-0.005400258189295556 3 1\n",
      "-0.013977415615051156 3 2\n",
      "-0.019445859004223 3 3\n",
      "-0.021035181890733518 3 4\n",
      "-4.029273993502729e-05 4 0\n",
      "-0.0054777559764559326 4 1\n",
      "-0.014147053045213069 4 2\n",
      "-0.019665542000569837 4 3\n",
      "-0.021268454370368287 4 4\n",
      "-4.210490844929186e-05 5 0\n",
      "-0.005602498173443653 5 1\n",
      "-0.014411535005832914 5 2\n",
      "-0.020009304832418404 5 3\n",
      "-0.021636706125890495 5 4\n",
      "-4.315351398180416e-05 6 0\n",
      "-0.00567546791083844 6 1\n",
      "-0.014566956262491437 6 2\n",
      "-0.02021104625900877 6 3\n",
      "-0.02185243136185712 6 4\n"
     ]
    }
   ],
   "source": [
    "result4_ratio1 = np.empty((len(size_mesh),N), dtype='float64')\n",
    "\n",
    "for index1, h in enumerate(size_mesh):\n",
    "    sphere1 = bempp.api.shapes.sphere(h=h, origin=center1) # construct the spheres\n",
    "    sphere2 = bempp.api.shapes.sphere(h=h, origin=center2)\n",
    "    \n",
    "    rwg1 = bempp.api.function_space(sphere1, \"RWG\", 0)\n",
    "    rwg2 = bempp.api.function_space(sphere2, \"RWG\", 0)\n",
    "\n",
    "    snc1 = bempp.api.function_space(sphere1, \"SNC\", 0)\n",
    "    snc2 = bempp.api.function_space(sphere2, \"SNC\", 0)\n",
    "    for index2, point in enumerate(quad_points):\n",
    "    \n",
    "        wavenumber = -1j * np.log(point)\n",
    "\n",
    "        op11 = bempp.api.operators.boundary.maxwell.electric_field(rwg1, rwg1, snc1, wavenumber)\n",
    "        op22 = bempp.api.operators.boundary.maxwell.electric_field(rwg2, rwg2, snc2, wavenumber)\n",
    "        op21 = bempp.api.operators.boundary.maxwell.electric_field(rwg1, rwg2, snc2, wavenumber)\n",
    "        op12 = bempp.api.operators.boundary.maxwell.electric_field(rwg2, rwg1, snc1, wavenumber)\n",
    "\n",
    "        mat11 = np.real(bempp.api.as_matrix(op11.weak_form()))\n",
    "        mat12 = np.real(bempp.api.as_matrix(op12.weak_form()))\n",
    "        mat21 = np.real(bempp.api.as_matrix(op21.weak_form()))\n",
    "        mat22 = np.real(bempp.api.as_matrix(op22.weak_form()))\n",
    "\n",
    "        a22 = np.identity(mat22.shape[0])\n",
    "        a12 = np.linalg.inv(mat11) @ mat12\n",
    "        a21 = np.linalg.inv(mat22) @ mat21\n",
    "\n",
    "        P22,L22,U22 = sl.lu(a22 - a21 @ a12) \n",
    "\n",
    "        result4 = 0\n",
    "        for i in range(L22.shape[0]):\n",
    "            result4 += np.log(abs(L22[i,i]))\n",
    "        for j in range(U22.shape[0]):\n",
    "            result4 +=np.log(abs(U22[j,j]))\n",
    "        result4_ratio1[index1,index2] = result4\n",
    "\n",
    "        print( result4_ratio1[index1,index2], index1, index2)"
   ]
  },
  {
   "cell_type": "code",
   "execution_count": 23,
   "metadata": {},
   "outputs": [],
   "source": [
    "Casimir_energy4 = []\n",
    "for i in range(len(size_mesh)):\n",
    "    Casimir_energy4.append(np.trapz(-result4_ratio1[i,:] / quad_points, quad_points) / (2 * np.pi))"
   ]
  },
  {
   "cell_type": "code",
   "execution_count": null,
   "metadata": {},
   "outputs": [],
   "source": []
  }
 ],
 "metadata": {
  "kernelspec": {
   "display_name": "Python 3",
   "language": "python",
   "name": "python3"
  },
  "language_info": {
   "codemirror_mode": {
    "name": "ipython",
    "version": 3
   },
   "file_extension": ".py",
   "mimetype": "text/x-python",
   "name": "python",
   "nbconvert_exporter": "python",
   "pygments_lexer": "ipython3",
   "version": "3.7.0"
  }
 },
 "nbformat": 4,
 "nbformat_minor": 4
}
