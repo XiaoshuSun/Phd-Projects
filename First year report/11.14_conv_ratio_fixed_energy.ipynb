{
 "cells": [
  {
   "cell_type": "code",
   "execution_count": 1,
   "metadata": {},
   "outputs": [],
   "source": [
    "import bempp.api\n",
    "from bempp.api.assembly.blocked_operator import BlockedOperator\n",
    "import numpy as np\n",
    "from numpy.linalg import slogdet\n",
    "import matplotlib.pyplot as plt\n",
    "\n",
    "#bempp.api.enable_console_logging()"
   ]
  },
  {
   "cell_type": "markdown",
   "metadata": {},
   "source": [
    "Setting the size of the element of the mesh and the center of the two spheres. The radius of the sphere is 1 and the distance between the boundary of them if 1. (Z/R=1)"
   ]
  },
  {
   "cell_type": "code",
   "execution_count": 2,
   "metadata": {},
   "outputs": [],
   "source": [
    "center1 = (1.5, 0, 0) # center of one sphere\n",
    "center2 = (-1.5, 0, 0) "
   ]
  },
  {
   "cell_type": "markdown",
   "metadata": {},
   "source": [
    "Construct RWG and SNC in difference spaces."
   ]
  },
  {
   "cell_type": "markdown",
   "metadata": {},
   "source": [
    "We are defining an exponentially adapted trapezoid rule and choose the quadrature points accordingly."
   ]
  },
  {
   "cell_type": "code",
   "execution_count": 5,
   "metadata": {
    "scrolled": true
   },
   "outputs": [],
   "source": [
    "size_mesh = [0.4,0.35,0.3,0.25,0.2,0.15,0.1,0.05]\n",
    "N = 5\n",
    "lbound = .05\n",
    "ubound = 4\n",
    "quad_points = np.linspace(np.exp(-ubound), np.exp(-lbound), N)\n",
    "result_ratio1 = np.empty((len(size_mesh),N), dtype='float64')\n",
    "\n",
    "\n",
    "for index1, h in enumerate(size_mesh):\n",
    "    sphere1 = bempp.api.shapes.sphere(h=h, origin=center1) # construct the spheres\n",
    "    sphere2 = bempp.api.shapes.sphere(h=h, origin=center2)\n",
    "    \n",
    "    rwg1 = bempp.api.function_space(sphere1, \"RWG\", 0)\n",
    "    rwg2 = bempp.api.function_space(sphere2, \"RWG\", 0)\n",
    "\n",
    "    snc1 = bempp.api.function_space(sphere1, \"SNC\", 0)\n",
    "    snc2 = bempp.api.function_space(sphere2, \"SNC\", 0)\n",
    "    for index2, point in enumerate(quad_points):\n",
    "    \n",
    "        wavenumber = -1j * np.log(point)\n",
    "\n",
    "        op11 = bempp.api.operators.boundary.maxwell.electric_field(rwg1, rwg1, snc1, wavenumber)\n",
    "        op22 = bempp.api.operators.boundary.maxwell.electric_field(rwg2, rwg2, snc2, wavenumber)\n",
    "        op21 = bempp.api.operators.boundary.maxwell.electric_field(rwg1, rwg2, snc2, wavenumber)\n",
    "        op12 = bempp.api.operators.boundary.maxwell.electric_field(rwg2, rwg1, snc1, wavenumber)\n",
    "\n",
    "        blocked_op = BlockedOperator(2, 2)\n",
    "        blocked_op[0, 0] = op11\n",
    "        blocked_op[0, 1] = op12\n",
    "        blocked_op[1, 0] = op21\n",
    "        blocked_op[1, 1] = op22\n",
    "\n",
    "        blocked_diag = BlockedOperator(2, 2)\n",
    "        blocked_diag[0, 0] = op11\n",
    "        blocked_diag[1, 1] = op22\n",
    "\n",
    "        mat = np.real(bempp.api.as_matrix(blocked_op.weak_form()))\n",
    "        mat2 = np.real(bempp.api.as_matrix(blocked_diag.weak_form()))\n",
    "        combined = np.linalg.inv(mat2).dot(mat)\n",
    "        sign, logdet = slogdet(combined)\n",
    "        result_ratio1[index1,index2] = logdet "
   ]
  },
  {
   "cell_type": "code",
   "execution_count": 6,
   "metadata": {},
   "outputs": [],
   "source": [
    "%matplotlib inline\n",
    "from matplotlib.pyplot import figure"
   ]
  },
  {
   "cell_type": "markdown",
   "metadata": {},
   "source": [
    "The left plot shows the relative log determinant with increasing imaginary wavenumber. The right plot uses a scale appropriate for the trapezoid quadrature rule."
   ]
  },
  {
   "cell_type": "code",
   "execution_count": 9,
   "metadata": {},
   "outputs": [],
   "source": [
    "Casimir_energy1 = []\n",
    "for i in range(len(size_mesh)):\n",
    "    Casimir_energy1.append(np.trapz(-result_ratio1[i,:] / quad_points, quad_points) / (2 * np.pi))"
   ]
  },
  {
   "cell_type": "code",
   "execution_count": 21,
   "metadata": {},
   "outputs": [
    {
     "data": {
      "image/png": "[encoded data removed]",
      "text/plain": [
       "<Figure size 432x288 with 1 Axes>"
      ]
     },
     "metadata": {
      "needs_background": "light"
     },
     "output_type": "display_data"
    }
   ],
   "source": [
    "plt.plot(size_mesh,Casimir_energy1,'k*')\n",
    "plt.plot(size_mesh, [0.00306,0.00306,0.00306,0.00306,0.00306,0.00306,0.00306,0.00306], 'r*')\n",
    "plt.xlabel('size of the element of the mesh')\n",
    "plt.ylabel('Casimir energy')\n",
    "plt.savefig('Convergence_ratio1.pdf',bbox_inches='tight')"
   ]
  },
  {
   "cell_type": "code",
   "execution_count": 11,
   "metadata": {},
   "outputs": [],
   "source": [
    "rate_conv1 = [] #linearly convergence\n",
    "for i in range(6):\n",
    "    rate_conv1.append(abs((Casimir_energy1[i+2]-Casimir_energy1[0]))/abs((Casimir_energy1[i+1]-Casimir_energy1[0])))"
   ]
  },
  {
   "cell_type": "code",
   "execution_count": 12,
   "metadata": {},
   "outputs": [
    {
     "data": {
      "text/plain": [
       "[1.480043608584589,\n",
       " 1.2323726865014357,\n",
       " 1.131490366080964,\n",
       " 1.1841746472011903,\n",
       " 1.0911752652687392,\n",
       " 1.0594785331479726]"
      ]
     },
     "execution_count": 12,
     "metadata": {},
     "output_type": "execute_result"
    }
   ],
   "source": [
    "rate_conv1"
   ]
  },
  {
   "cell_type": "code",
   "execution_count": null,
   "metadata": {},
   "outputs": [],
   "source": []
  }
 ],
 "metadata": {
  "kernelspec": {
   "display_name": "Python 3",
   "language": "python",
   "name": "python3"
  },
  "language_info": {
   "codemirror_mode": {
    "name": "ipython",
    "version": 3
   },
   "file_extension": ".py",
   "mimetype": "text/x-python",
   "name": "python",
   "nbconvert_exporter": "python",
   "pygments_lexer": "ipython3",
   "version": "3.7.0"
  }
 },
 "nbformat": 4,
 "nbformat_minor": 4
}
