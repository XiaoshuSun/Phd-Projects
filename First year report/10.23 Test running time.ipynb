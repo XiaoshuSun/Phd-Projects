{
 "cells": [
  {
   "cell_type": "code",
   "execution_count": 1,
   "metadata": {},
   "outputs": [],
   "source": [
    "import bempp.api\n",
    "import numpy as np\n",
    "import scipy\n",
    "import math\n",
    "import time\n",
    "import scipy.linalg \n",
    "import scipy.linalg.interpolative as sli\n",
    "%matplotlib inline\n",
    "from matplotlib import pyplot as plt\n",
    "import seaborn as sns\n",
    "\n",
    "from bempp.api.assembly.blocked_operator import BlockedOperator\n",
    "from numpy.linalg import slogdet\n",
    "#bempp.api.enable_console_logging()"
   ]
  },
  {
   "cell_type": "markdown",
   "metadata": {},
   "source": [
    "Sphere-Sphere case "
   ]
  },
  {
   "cell_type": "code",
   "execution_count": 2,
   "metadata": {},
   "outputs": [],
   "source": [
    "h = .2   # size of the mesh (element)\n",
    "center1 = (1.25, 0, 0) # center of one sphere\n",
    "center2 = (-1.25, 0, 0) # center of the other sphere\n",
    "\n",
    "sphere1 = bempp.api.shapes.sphere(h=h, origin=center1)\n",
    "sphere2 = bempp.api.shapes.sphere(h=h, origin=center2)"
   ]
  },
  {
   "cell_type": "code",
   "execution_count": 3,
   "metadata": {},
   "outputs": [],
   "source": [
    "rwg1_ss = bempp.api.function_space(sphere1, \"RWG\", 0)\n",
    "rwg2_ss = bempp.api.function_space(sphere2, \"RWG\", 0)\n",
    "\n",
    "snc1_ss = bempp.api.function_space(sphere1, \"SNC\", 0)\n",
    "snc2_ss = bempp.api.function_space(sphere2, \"SNC\", 0)"
   ]
  },
  {
   "cell_type": "code",
   "execution_count": 7,
   "metadata": {},
   "outputs": [
    {
     "name": "stdout",
     "output_type": "stream",
     "text": [
      "The running time is 0.012150 and the logdet is -0.005333\n"
     ]
    }
   ],
   "source": [
    "wavenumber = 1j*4\n",
    "\n",
    "op11 = bempp.api.operators.boundary.maxwell.electric_field(rwg1_ss, rwg1_ss, snc1_ss, wavenumber)\n",
    "op22 = bempp.api.operators.boundary.maxwell.electric_field(rwg2_ss, rwg2_ss, snc2_ss, wavenumber)\n",
    "op21 = bempp.api.operators.boundary.maxwell.electric_field(rwg1_ss, rwg2_ss, snc2_ss, wavenumber)\n",
    "op12 = bempp.api.operators.boundary.maxwell.electric_field(rwg2_ss, rwg1_ss, snc1_ss, wavenumber)\n",
    "\n",
    "mat11 = np.real(bempp.api.as_matrix(op11.weak_form()))\n",
    "mat12 = np.real(bempp.api.as_matrix(op12.weak_form()))\n",
    "mat21 = np.real(bempp.api.as_matrix(op21.weak_form()))\n",
    "mat22 = np.real(bempp.api.as_matrix(op22.weak_form()))\n",
    "ident_mat = np.identity(mat11.shape[0])\n",
    "\n",
    "A = ident_mat - np.linalg.inv(mat11)@mat12@np.linalg.inv(mat22)@mat21\n",
    "\n",
    "start_exact = time.time()\n",
    "sign, logdet = slogdet(A)\n",
    "results = logdet\n",
    "end_exact = time.time()\n",
    "\n",
    "running_time_exact = end_exact - start_exact\n",
    "print(\"The running time is %f and the logdet is %f\" %(running_time_exact,results))"
   ]
  },
  {
   "cell_type": "code",
   "execution_count": 8,
   "metadata": {},
   "outputs": [
    {
     "name": "stdout",
     "output_type": "stream",
     "text": [
      "1272\n"
     ]
    }
   ],
   "source": [
    "n = A.shape[0]\n",
    "print(n)"
   ]
  },
  {
   "cell_type": "code",
   "execution_count": 9,
   "metadata": {},
   "outputs": [],
   "source": [
    "nboxes = 24\n",
    "size = n//nboxes"
   ]
  },
  {
   "cell_type": "code",
   "execution_count": 10,
   "metadata": {},
   "outputs": [],
   "source": [
    "def get_box(nx, ny, A, nboxes, n):\n",
    "    \"\"\"Return the content of a given box\"\"\"\n",
    "    size = n // nboxes\n",
    "    xrange = [nx * size, (1 + nx) * size] \n",
    "    yrange = [ny * size, (1 + ny) * size] \n",
    "    return A[xrange[0]:xrange[1], yrange[0]:yrange[1]] "
   ]
  },
  {
   "cell_type": "code",
   "execution_count": 11,
   "metadata": {},
   "outputs": [],
   "source": [
    "def get_con_box(i,A,nboxes,n):\n",
    "    \"\"\"Return Ai\"\"\"\n",
    "    BB = A[i * size : (i + 1) * size, :]\n",
    "    B = np.delete(BB, np.s_[i*size : (i+1)*size], axis = 1)\n",
    "    \n",
    "    CC = np.transpose(A[:, i * size : (i + 1) * size])\n",
    "    C = np.delete(CC, np.s_[i*size : (i+1)*size], axis = 1)\n",
    "    return np.hstack((B,C))"
   ]
  },
  {
   "cell_type": "code",
   "execution_count": 12,
   "metadata": {},
   "outputs": [],
   "source": [
    "def plot_box_ranks(A, nboxes, n, tol=1E-8):\n",
    "    \"\"\"Plot rank of the boxes.\"\"\"\n",
    "    from scipy.linalg import svdvals\n",
    "    ranks = np.zeros((nboxes,nboxes),dtype='int32')\n",
    "    for i in range(nboxes):\n",
    "        for j in range(nboxes):\n",
    "            m = get_box(i, j, A, nboxes, n)\n",
    "            s = svdvals(m)\n",
    "            ranks[i,j] = np.sum(s>tol)\n",
    "    plt.imshow(ranks, cmap='Accent')\n",
    "    plt.colorbar()"
   ]
  },
  {
   "cell_type": "code",
   "execution_count": 14,
   "metadata": {},
   "outputs": [],
   "source": [
    "def L(i,k,A,nboxes,n):\n",
    "    idx1,proj1 = sli.interp_decomp(get_con_box(i,A,nboxes,n), k, rand = False)\n",
    "    B1 = sli.reconstruct_skel_matrix(get_con_box(i,A,nboxes,n),k,idx1)\n",
    "    B1_trans = np.transpose(B1)\n",
    "    \n",
    "    idx2,proj2 = sli.interp_decomp(B1_trans, k, rand = False)\n",
    "    P2_trans = sli.reconstruct_interp_matrix(idx2,proj2)\n",
    "\n",
    "    P2 = np.transpose(P2_trans)\n",
    "    return P2,idx2"
   ]
  },
  {
   "cell_type": "code",
   "execution_count": 15,
   "metadata": {},
   "outputs": [],
   "source": [
    "def index_set(k,A,nboxes,n):\n",
    "    l = []\n",
    "    for i in range(nboxes):\n",
    "        l.append(L(i,k,A,nboxes,n)[1][0:k])\n",
    "    return l"
   ]
  },
  {
   "cell_type": "code",
   "execution_count": 16,
   "metadata": {},
   "outputs": [],
   "source": [
    "def SSS(k,A,nboxes,n):\n",
    "    ll = index_set(k,A,nboxes,n)\n",
    "    mat = np.zeros((k*nboxes,k*nboxes))\n",
    "    for i in range(nboxes):\n",
    "        for j in range(nboxes):\n",
    "            if i != j:\n",
    "                mat_ =  get_box(i,j,A,nboxes,n)[ll[i],:]\n",
    "                mat[i*k:(i+1)*k,j*k:(j+1)*k] = mat_[:,ll[j]]\n",
    "    return mat"
   ]
  },
  {
   "cell_type": "code",
   "execution_count": 17,
   "metadata": {},
   "outputs": [],
   "source": [
    "def R(i,k,A,nboxes,n):\n",
    "    RR = np.transpose(L(i,k,A,nboxes,n)[0])\n",
    "    return RR"
   ]
  },
  {
   "cell_type": "code",
   "execution_count": 18,
   "metadata": {},
   "outputs": [],
   "source": [
    "def new_S(k,A,nboxes,n):\n",
    "    mat_ = SSS(k,A,nboxes,n)\n",
    "    for i in range(nboxes):\n",
    "        mat_[i*k:(i+1)*k,i*k:(i+1)*k] = np.linalg.inv(R(i,k,A,nboxes,n) @ np.linalg.inv(get_box(i,i,A,nboxes,n)) @ L(i,k,A,nboxes,n)[0])\n",
    "    return mat_"
   ]
  },
  {
   "cell_type": "code",
   "execution_count": 19,
   "metadata": {},
   "outputs": [],
   "source": [
    "def logdet_method2(k,A,nboxes,n):\n",
    "    a1 = 0\n",
    "    p1,l1,u1 = scipy.linalg.lu(new_S(k,A,nboxes,n))\n",
    "    for i in range(k*nboxes):\n",
    "        a1 += math.log(abs(u1[i,i]))\n",
    "        \n",
    "    a2 = 0\n",
    "    for i in range (nboxes):\n",
    "        p2,l2,u2 = scipy.linalg.lu(get_box(i,i,A,nboxes,n))\n",
    "        for j in range(size):\n",
    "            a2 +=math.log(abs(u2[j,j]))\n",
    "            \n",
    "    a3 = 0\n",
    "    for i in range(nboxes):\n",
    "        p3,l3,u3 = scipy.linalg.lu(-R(i,k,A,nboxes,n)@np.linalg.inv(get_box(i,i,A,nboxes,n)) @L(i,k,A,nboxes,n)[0] )\n",
    "        for j in range(k):\n",
    "            a3 += math.log(abs(u3[j,j]))\n",
    "    return a1 + a2 + a3"
   ]
  },
  {
   "cell_type": "code",
   "execution_count": 20,
   "metadata": {},
   "outputs": [],
   "source": [
    "wn_logdet = np.empty(size)\n",
    "running_time_appro = []\n",
    "for j in range(1,size+1):\n",
    "    start_appro = time.time()\n",
    "    wn_logdet[j-1] = logdet_method2(j,A,nboxes,n)\n",
    "    end_appro = time.time()\n",
    "    running_time_appro.append(end_appro - start_appro)"
   ]
  },
  {
   "cell_type": "code",
   "execution_count": 22,
   "metadata": {},
   "outputs": [],
   "source": [
    "wn_err = np.empty(size)\n",
    "for j in range(size):\n",
    "    wn_err[j] = abs((results - wn_logdet[j])/results)"
   ]
  },
  {
   "cell_type": "code",
   "execution_count": 32,
   "metadata": {},
   "outputs": [
    {
     "data": {
      "image/png": "[encoded data removed]",
      "text/plain": [
       "<Figure size 432x288 with 1 Axes>"
      ]
     },
     "metadata": {
      "needs_background": "light"
     },
     "output_type": "display_data"
    }
   ],
   "source": [
    "rk = np.linspace(1,size-1,size-1)\n",
    "\n",
    "running_time = []\n",
    "for i in range(size-1):\n",
    "    running_time.append(running_time_exact)\n",
    "\n",
    "vocabulary = [1 , 2 , 3 ]\n",
    "my_colors = {1:'darkred',2:'red',3:'lightcoral'}\n",
    "\n",
    "#plt.semilogy(rk , wn_err[0:size-1], color = my_colors.get(vocabulary[0]), linestyle='--')\n",
    "plt.semilogy(rk , running_time, color = my_colors.get(vocabulary[1]), linestyle='--')\n",
    "plt.semilogy(rk , running_time_appro[0:size-1], color = my_colors.get(vocabulary[2]), linestyle='--')\n",
    "\n",
    "plt.legend(['exact time','appro time'])\n",
    "plt.xlabel('Rank')\n",
    "plt.ylabel('Relative error of approximating logdet')\n",
    "plt.savefig('h=0.2,Z=0.5.pdf')"
   ]
  },
  {
   "cell_type": "code",
   "execution_count": 29,
   "metadata": {},
   "outputs": [
    {
     "data": {
      "text/plain": [
       "[0.1432812213897705,\n",
       " 0.1531381607055664,\n",
       " 0.1729729175567627,\n",
       " 0.19346165657043457,\n",
       " 0.21504688262939453,\n",
       " 0.23554420471191406,\n",
       " 0.25684070587158203,\n",
       " 0.27667999267578125,\n",
       " 0.297637939453125,\n",
       " 0.3197450637817383,\n",
       " 0.3408641815185547,\n",
       " 0.3632524013519287,\n",
       " 0.3859291076660156,\n",
       " 0.40750861167907715,\n",
       " 0.4292914867401123,\n",
       " 0.45020008087158203,\n",
       " 0.4718647003173828,\n",
       " 0.4936211109161377,\n",
       " 0.5145347118377686,\n",
       " 0.536360502243042,\n",
       " 0.557762622833252,\n",
       " 0.5791130065917969,\n",
       " 0.5999624729156494,\n",
       " 0.6195812225341797,\n",
       " 0.6394946575164795,\n",
       " 0.6597390174865723,\n",
       " 0.6796386241912842,\n",
       " 0.6992254257202148,\n",
       " 0.7192902565002441,\n",
       " 0.738990306854248,\n",
       " 0.7588763236999512,\n",
       " 0.7791261672973633,\n",
       " 0.7965121269226074,\n",
       " 0.8158533573150635,\n",
       " 0.8354015350341797,\n",
       " 0.854987382888794,\n",
       " 0.8745942115783691,\n",
       " 0.8927056789398193,\n",
       " 0.911186933517456,\n",
       " 0.9301996231079102,\n",
       " 0.949084997177124,\n",
       " 0.9666953086853027,\n",
       " 0.9881272315979004,\n",
       " 1.0041325092315674,\n",
       " 1.0230598449707031,\n",
       " 1.042083740234375,\n",
       " 1.061568021774292,\n",
       " 1.0816895961761475,\n",
       " 1.099062204360962,\n",
       " 1.1170952320098877,\n",
       " 1.1389994621276855,\n",
       " 1.1561012268066406,\n",
       " 1.1734490394592285]"
      ]
     },
     "execution_count": 29,
     "metadata": {},
     "output_type": "execute_result"
    }
   ],
   "source": [
    "running_time_appro"
   ]
  },
  {
   "cell_type": "code",
   "execution_count": null,
   "metadata": {},
   "outputs": [],
   "source": []
  },
  {
   "cell_type": "code",
   "execution_count": null,
   "metadata": {},
   "outputs": [],
   "source": []
  }
 ],
 "metadata": {
  "kernelspec": {
   "display_name": "Python 3",
   "language": "python",
   "name": "python3"
  },
  "language_info": {
   "codemirror_mode": {
    "name": "ipython",
    "version": 3
   },
   "file_extension": ".py",
   "mimetype": "text/x-python",
   "name": "python",
   "nbconvert_exporter": "python",
   "pygments_lexer": "ipython3",
   "version": "3.7.0"
  }
 },
 "nbformat": 4,
 "nbformat_minor": 2
}
