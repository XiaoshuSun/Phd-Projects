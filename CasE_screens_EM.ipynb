{
 "cells": [
  {
   "cell_type": "code",
   "execution_count": 1,
   "metadata": {},
   "outputs": [],
   "source": [
    "import bempp.api\n",
    "from bempp.api.assembly.blocked_operator import BlockedOperator\n",
    "import math\n",
    "import numpy as np\n",
    "import scipy \n",
    "import cmath\n",
    "from numba import objmode\n",
    "from numpy.linalg import slogdet\n",
    "import matplotlib.pyplot as plt"
   ]
  },
  {
   "cell_type": "code",
   "execution_count": 48,
   "metadata": {},
   "outputs": [],
   "source": [
    "length_ = 10 # length of each screen\n",
    "width_ = 10  # width of each screen\n",
    "dist_ = 2 # distance between the screens\n",
    "h = 0.1 # grid size"
   ]
  },
  {
   "cell_type": "code",
   "execution_count": 49,
   "metadata": {},
   "outputs": [],
   "source": [
    "corners1 = np.array([ [-0.5*width_, -0.5*length_, 0.5*dist_],\n",
    "                     [-0.5*width_,  0.5*length_, 0.5*dist_],\n",
    "                     [0.5*width_,   0.5*length_, 0.5*dist_],\n",
    "                     [0.5*width_,  -0.5*length_, 0.5*dist_]])\n",
    "corners2 = np.array([ [-0.5*width_, -0.5*length_, -0.5*dist_],\n",
    "                     [-0.5*width_,  0.5*length_, -0.5*dist_],\n",
    "                     [0.5*width_,   0.5*length_, -0.5*dist_],\n",
    "                     [0.5*width_,  -0.5*length_, -0.5*dist_]])\n",
    "grid1 = bempp.api.shapes.screen(corners1, h = h)\n",
    "grid2 = bempp.api.shapes.screen(corners2, h = h)"
   ]
  },
  {
   "cell_type": "code",
   "execution_count": 50,
   "metadata": {},
   "outputs": [],
   "source": [
    "rwg1 = bempp.api.function_space(grid1, \"RWG\", 0)\n",
    "rwg2 = bempp.api.function_space(grid2, \"RWG\", 0)\n",
    "\n",
    "snc1 = bempp.api.function_space(grid1, \"SNC\", 0)\n",
    "snc2 = bempp.api.function_space(grid2, \"SNC\", 0)"
   ]
  },
  {
   "cell_type": "code",
   "execution_count": 51,
   "metadata": {},
   "outputs": [],
   "source": [
    "N_wn = 15\n",
    "lbound_wn = 0.0008\n",
    "ubound_wn = 20\n",
    "quad_points = np.linspace(np.exp(-ubound_wn), np.exp(-lbound_wn), N_wn)\n",
    "results = np.empty(N_wn, dtype='float64')"
   ]
  },
  {
   "cell_type": "code",
   "execution_count": null,
   "metadata": {},
   "outputs": [],
   "source": [
    "for index, point in enumerate(quad_points):\n",
    "\n",
    "    wavenumber = -1j * np.log(point)\n",
    "\n",
    "    op11 = bempp.api.operators.boundary.maxwell.electric_field(rwg1, rwg1, snc1, wavenumber)\n",
    "    op22 = bempp.api.operators.boundary.maxwell.electric_field(rwg2, rwg2, snc2, wavenumber)\n",
    "    op21 = bempp.api.operators.boundary.maxwell.electric_field(rwg1, rwg2, snc2, wavenumber)\n",
    "    op12 = bempp.api.operators.boundary.maxwell.electric_field(rwg2, rwg1, snc1, wavenumber)\n",
    "\n",
    "    mat11 = op11.weak_form().A\n",
    "    mat12 = op12.weak_form().A\n",
    "    mat21 = op21.weak_form().A\n",
    "    mat22 = op22.weak_form().A\n",
    "    mat12_zero = np.zeros((mat11.shape[0],mat12.shape[1]))\n",
    "    mat21_zero = np.zeros((mat22.shape[0],mat11.shape[1]))\n",
    "\n",
    "    mat = np.real(np.block([[mat11,mat12],[mat21,mat22]]))    \n",
    "\n",
    "    mat11_inv = scipy.linalg.lu_solve(scipy.linalg.lu_factor(mat11), np.eye(mat11.shape[0]))\n",
    "    mat22_inv = scipy.linalg.lu_solve(scipy.linalg.lu_factor(mat22), np.eye(mat22.shape[0]))\n",
    "\n",
    "    inv_free_mat2 = np.block([[mat11_inv,  mat12_zero],\n",
    "                          [mat21_zero, mat22_inv]])  \n",
    "\n",
    "    combined_inverse_free = inv_free_mat2.dot(mat)\n",
    "    sign, logdet = slogdet(combined_inverse_free)\n",
    "    \n",
    "    results[index] = logdet\n",
    "    print(f\"Log Determinant: {index}: {logdet}\")"
   ]
  },
  {
   "cell_type": "code",
   "execution_count": null,
   "metadata": {},
   "outputs": [],
   "source": [
    "%matplotlib inline\n",
    "from matplotlib.pyplot import figure\n",
    "\n",
    "fig = figure()\n",
    "ax1 = fig.add_subplot(121)\n",
    "ax1.set_xlabel('1j * k')\n",
    "ax2 = fig.add_subplot(122)\n",
    "ax2.set_xlabel('exp(-k)')\n",
    "ax1.semilogy(-np.log(quad_points), -results)\n",
    "ax2.plot(quad_points, -results)\n",
    "fig.tight_layout()"
   ]
  },
  {
   "cell_type": "code",
   "execution_count": null,
   "metadata": {},
   "outputs": [],
   "source": [
    "casimir_energy = np.trapz(-results / quad_points, quad_points) / (2 * np.pi)\n",
    "print(f\"The normalized Casimir Energy is: {casimir_energy}\")\n",
    "\n",
    "area_ = length_ * width_\n",
    "casimir_energy_unit_area = casimir_energy/area_\n",
    "print(f\"The normalized Casimir Energy per unit area is: {casimir_energy_unit_area}\")"
   ]
  },
  {
   "cell_type": "code",
   "execution_count": null,
   "metadata": {},
   "outputs": [],
   "source": []
  },
  {
   "cell_type": "code",
   "execution_count": null,
   "metadata": {},
   "outputs": [],
   "source": []
  }
 ],
 "metadata": {
  "kernelspec": {
   "display_name": "Python 3",
   "language": "python",
   "name": "python3"
  },
  "language_info": {
   "codemirror_mode": {
    "name": "ipython",
    "version": 3
   },
   "file_extension": ".py",
   "mimetype": "text/x-python",
   "name": "python",
   "nbconvert_exporter": "python",
   "pygments_lexer": "ipython3",
   "version": "3.7.0"
  }
 },
 "nbformat": 4,
 "nbformat_minor": 2
}
