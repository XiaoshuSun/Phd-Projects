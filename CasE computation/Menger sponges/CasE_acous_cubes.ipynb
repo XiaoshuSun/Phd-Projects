{
 "cells": [
  {
   "cell_type": "code",
   "execution_count": 1,
   "metadata": {},
   "outputs": [],
   "source": [
    "import bempp.api\n",
    "from bempp.api.assembly.blocked_operator import BlockedOperator\n",
    "import math\n",
    "import numpy as np\n",
    "import scipy \n",
    "import cmath\n",
    "from numba import objmode\n",
    "from numpy.linalg import slogdet\n",
    "from bempp.api.operators.far_field import helmholtz as helmholtz_farfield\n",
    "import matplotlib.pyplot as plt\n",
    "import bempp.api.shapes.fractals"
   ]
  },
  {
   "cell_type": "code",
   "execution_count": 2,
   "metadata": {},
   "outputs": [],
   "source": [
    "N_wn = 20\n",
    "lbound_wn = 0\n",
    "ubound_wn = 10\n",
    "quad_points = np.linspace(np.exp(-ubound_wn), np.exp(-lbound_wn), N_wn)"
   ]
  },
  {
   "cell_type": "code",
   "execution_count": 5,
   "metadata": {},
   "outputs": [
    {
     "name": "stdout",
     "output_type": "stream",
     "text": [
      "0.5 0.08344738809037242\n",
      "0.75 0.027339888950927094\n",
      "1.0 0.013045483033998308\n",
      "1.25 0.007355040966986678\n",
      "1.5 0.004605357222520099\n",
      "1.75 0.0030978353398840534\n",
      "2.0 0.0021950349522245056\n",
      "2.25 0.0016180700472230617\n",
      "2.5 0.001230483572897415\n",
      "2.75 0.0009596122035514893\n",
      "3.0 0.0007641263465397668\n"
     ]
    }
   ],
   "source": [
    "for dist in np.linspace(0.5, 3, 11):\n",
    "    cube1 = bempp.api.shapes.cube(length=1, h = 0.05, origin=(-(dist*0.5 + 0.5)-0.5, -0.5, -0.5))\n",
    "    cube2 = bempp.api.shapes.cube(length=1, h = 0.05, origin=((dist*0.5 + 0.5)-0.5, -0.5, -0.5))\n",
    "\n",
    "    space_cube1 = bempp.api.function_space(cube1,'P',1)\n",
    "    space_cube2 = bempp.api.function_space(cube2,'P',1)\n",
    "    \n",
    "    results = []\n",
    "    for index2, point2 in enumerate(quad_points):\n",
    "\n",
    "        wavenumber = -1j * np.log(point2)\n",
    "\n",
    "        slp11 = bempp.api.operators.boundary.helmholtz.single_layer(space_cube1, space_cube1, space_cube1, wavenumber)\n",
    "        slp12 = bempp.api.operators.boundary.helmholtz.single_layer(space_cube2, space_cube1, space_cube1, wavenumber)\n",
    "        slp21 = bempp.api.operators.boundary.helmholtz.single_layer(space_cube1, space_cube2, space_cube2, wavenumber)\n",
    "        slp22 = bempp.api.operators.boundary.helmholtz.single_layer(space_cube2, space_cube2, space_cube2, wavenumber)\n",
    "\n",
    "        mat11 = slp11.weak_form().A\n",
    "        mat12 = slp12.weak_form().A\n",
    "        mat21 = slp21.weak_form().A\n",
    "        mat22 = slp22.weak_form().A\n",
    "        mat12_zero = np.zeros((mat11.shape[0],mat12.shape[1]))\n",
    "        mat21_zero = np.zeros((mat22.shape[0],mat11.shape[1]))\n",
    "\n",
    "        mat = np.block([[mat11,mat12],[mat21,mat22]])  \n",
    "        mat11_inv = scipy.linalg.lu_solve(scipy.linalg.lu_factor(mat11), np.eye(mat11.shape[0]))\n",
    "        mat22_inv = scipy.linalg.lu_solve(scipy.linalg.lu_factor(mat22), np.eye(mat22.shape[0]))\n",
    "\n",
    "        inv_free_mat2 = np.block([[mat11_inv,  mat12_zero],\n",
    "                              [mat21_zero, mat22_inv]])  \n",
    "\n",
    "        combined_inverse_free = inv_free_mat2.dot(mat)\n",
    "        sign, logdet = slogdet(combined_inverse_free)\n",
    "\n",
    "        results.append(logdet)\n",
    "    print(dist, np.trapz(-np.array(results) / quad_points, quad_points) / (2 * np.pi))"
   ]
  },
  {
   "cell_type": "code",
   "execution_count": null,
   "metadata": {},
   "outputs": [],
   "source": [
    "h = 0.1\n",
    "0.5 0.08324333600429852\n",
    "0.75 0.02729654839186554\n",
    "1.0 0.013027739612061976\n",
    "1.25 0.0073458725650954165\n",
    "1.5 0.0046000294103323005\n",
    "1.75 0.003094486968391024\n",
    "2.0 0.0021927922826723706\n",
    "2.25 0.0016164842887971896\n",
    "2.5 0.001229316824014341\n",
    "2.75 0.0009587286096210919\n",
    "3.0 0.0007634396663346132\n",
    "\n",
    "h = 0.05\n",
    "0.5 0.08344738809037242\n",
    "0.75 0.027339888950927094\n",
    "1.0 0.013045483033998308\n",
    "1.25 0.007355040966986678\n",
    "1.5 0.004605357222520099\n",
    "1.75 0.0030978353398840534\n",
    "2.0 0.0021950349522245056\n",
    "2.25 0.0016180700472230617\n",
    "2.5 0.001230483572897415\n",
    "2.75 0.0009596122035514893\n",
    "3.0 0.0007641263465397668"
   ]
  },
  {
   "cell_type": "code",
   "execution_count": null,
   "metadata": {},
   "outputs": [],
   "source": []
  }
 ],
 "metadata": {
  "kernelspec": {
   "display_name": "Python 3",
   "language": "python",
   "name": "python3"
  },
  "language_info": {
   "codemirror_mode": {
    "name": "ipython",
    "version": 3
   },
   "file_extension": ".py",
   "mimetype": "text/x-python",
   "name": "python",
   "nbconvert_exporter": "python",
   "pygments_lexer": "ipython3",
   "version": "3.7.0"
  }
 },
 "nbformat": 4,
 "nbformat_minor": 2
}
