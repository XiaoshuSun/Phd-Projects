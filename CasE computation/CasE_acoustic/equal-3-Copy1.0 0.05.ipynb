{
 "cells": [
  {
   "cell_type": "code",
   "execution_count": 1,
   "metadata": {},
   "outputs": [],
   "source": [
    "import bempp.api\n",
    "from bempp.api.assembly.blocked_operator import BlockedOperator\n",
    "import math\n",
    "import numpy as np\n",
    "import scipy \n",
    "import cmath\n",
    "from numba import objmode\n",
    "from numpy.linalg import slogdet\n",
    "from bempp.api.operators.far_field import helmholtz as helmholtz_farfield\n",
    "import matplotlib.pyplot as plt\n",
    "import bempp.api.shapes.fractals"
   ]
  },
  {
   "cell_type": "code",
   "execution_count": 2,
   "metadata": {},
   "outputs": [
    {
     "name": "stdout",
     "output_type": "stream",
     "text": [
      "100 0.0010190449953696582\n",
      "100 0.0010199995157284523\n"
     ]
    }
   ],
   "source": [
    "h = 0.05\n",
    "dist = 3.0\n",
    "\n",
    "sphere1 = bempp.api.shapes.sphere(h=h, origin=((dist/2) + 1, 0, 0))\n",
    "sphere2 = bempp.api.shapes.sphere(h=h, origin=(-((dist/2) + 1), 0, 0))\n",
    "\n",
    "space_sphere1 = bempp.api.function_space(sphere1, \"P\", 1)\n",
    "space_sphere2 = bempp.api.function_space(sphere2, \"P\", 1)\n",
    "\n",
    "for N_wn in [100]:\n",
    "\n",
    "    for ubound_wn in [15, 20]:\n",
    "        lbound_wn = 0\n",
    "        quad_points = np.linspace(np.exp(-ubound_wn), np.exp(-lbound_wn), N_wn)\n",
    "        results = []\n",
    "        for index2, point2 in enumerate(quad_points):\n",
    "\n",
    "            wavenumber = -1j * np.log(point2)\n",
    "\n",
    "            slp11 = bempp.api.operators.boundary.helmholtz.single_layer(space_sphere1, space_sphere1, space_sphere1, wavenumber)\n",
    "            slp12 = bempp.api.operators.boundary.helmholtz.single_layer(space_sphere2 , space_sphere1, space_sphere1, wavenumber)\n",
    "            slp21 = bempp.api.operators.boundary.helmholtz.single_layer(space_sphere1, space_sphere2 , space_sphere2 , wavenumber)\n",
    "            slp22 = bempp.api.operators.boundary.helmholtz.single_layer(space_sphere2 , space_sphere2 , space_sphere2 , wavenumber)\n",
    "\n",
    "            mat11 = slp11.weak_form().A\n",
    "            mat12 = slp12.weak_form().A\n",
    "            mat21 = slp21.weak_form().A\n",
    "            mat22 = slp22.weak_form().A\n",
    "            mat12_zero = np.zeros((mat11.shape[0],mat12.shape[1]))\n",
    "            mat21_zero = np.zeros((mat22.shape[0],mat11.shape[1]))\n",
    "\n",
    "            mat = np.block([[mat11,mat12],[mat21,mat22]])  \n",
    "            mat11_inv = scipy.linalg.lu_solve(scipy.linalg.lu_factor(mat11), np.eye(mat11.shape[0]))\n",
    "            mat22_inv = scipy.linalg.lu_solve(scipy.linalg.lu_factor(mat22), np.eye(mat22.shape[0]))\n",
    "\n",
    "            inv_free_mat2 = np.block([[mat11_inv,  mat12_zero],\n",
    "                                  [mat21_zero, mat22_inv]])  \n",
    "\n",
    "            combined_inverse_free = inv_free_mat2.dot(mat)\n",
    "            sign, logdet = slogdet(combined_inverse_free)\n",
    "\n",
    "            results.append(logdet)\n",
    "        print(N_wn, np.trapz(-np.array(results) / quad_points, quad_points) / (2 * np.pi))"
   ]
  },
  {
   "cell_type": "code",
   "execution_count": null,
   "metadata": {},
   "outputs": [],
   "source": [
    "20 0.001029159937793544\n",
    "20 0.0010291110604895611\n",
    "20 0.0010340846191759226\n",
    "20 0.0012684218805917372\n",
    "30 0.0010231758573272338\n",
    "30 0.0010231436216319465\n",
    "30 0.0010264021587123842\n",
    "30 0.0011799334678290168\n",
    "40 0.0010211610825080011\n",
    "40 0.0010211370350139523\n",
    "40 0.0010235600492248147\n",
    "40 0.0011377243560753306\n",
    "\n"
   ]
  },
  {
   "cell_type": "code",
   "execution_count": null,
   "metadata": {},
   "outputs": [],
   "source": [
    "h = 0.1\n",
    "dist = 1.5\n",
    "N_wn = 20\n",
    "\n",
    "sphere1 = bempp.api.shapes.sphere(h=h, origin=((dist/2) + 1, 0, 0))\n",
    "sphere2 = bempp.api.shapes.sphere(h=h, origin=(-((dist/2) + 1), 0, 0))\n",
    "\n",
    "space_sphere1 = bempp.api.function_space(sphere1, \"P\", 1)\n",
    "space_sphere2 = bempp.api.function_space(sphere2, \"P\", 1)\n",
    "\n",
    "\n",
    "lbound_wn = 0\n",
    "ubound_wn = 20\n",
    "quad_points = np.linspace(np.exp(-ubound_wn), np.exp(-lbound_wn), N_wn)\n",
    "results = []\n",
    "for index2, point2 in enumerate(quad_points):\n",
    "\n",
    "    wavenumber = -1j * np.log(point2)\n",
    "\n",
    "    slp11 = bempp.api.operators.boundary.helmholtz.single_layer(space_sphere1, space_sphere1, space_sphere1, wavenumber)\n",
    "    slp12 = bempp.api.operators.boundary.helmholtz.single_layer(space_sphere2 , space_sphere1, space_sphere1, wavenumber)\n",
    "    slp21 = bempp.api.operators.boundary.helmholtz.single_layer(space_sphere1, space_sphere2 , space_sphere2 , wavenumber)\n",
    "    slp22 = bempp.api.operators.boundary.helmholtz.single_layer(space_sphere2 , space_sphere2 , space_sphere2 , wavenumber)\n",
    "\n",
    "    mat11 = slp11.weak_form().A\n",
    "    mat12 = slp12.weak_form().A\n",
    "    mat21 = slp21.weak_form().A\n",
    "    mat22 = slp22.weak_form().A\n",
    "    mat12_zero = np.zeros((mat11.shape[0],mat12.shape[1]))\n",
    "    mat21_zero = np.zeros((mat22.shape[0],mat11.shape[1]))\n",
    "\n",
    "    mat = np.block([[mat11,mat12],[mat21,mat22]])  \n",
    "    mat11_inv = scipy.linalg.lu_solve(scipy.linalg.lu_factor(mat11), np.eye(mat11.shape[0]))\n",
    "    mat22_inv = scipy.linalg.lu_solve(scipy.linalg.lu_factor(mat22), np.eye(mat22.shape[0]))\n",
    "\n",
    "    inv_free_mat2 = np.block([[mat11_inv,  mat12_zero],\n",
    "                          [mat21_zero, mat22_inv]])  \n",
    "\n",
    "    combined_inverse_free = inv_free_mat2.dot(mat)\n",
    "    sign, logdet = slogdet(combined_inverse_free)\n",
    "\n",
    "    results.append(logdet)\n",
    "print(np.trapz(-np.array(results) / quad_points, quad_points) / (2 * np.pi))"
   ]
  },
  {
   "cell_type": "code",
   "execution_count": null,
   "metadata": {},
   "outputs": [],
   "source": [
    "%matplotlib inline\n",
    "from matplotlib.pyplot import figure\n",
    "\n",
    "fig = figure()\n",
    "ax1 = fig.add_subplot(121)\n",
    "ax1.set_xlabel('1j * k')\n",
    "ax2 = fig.add_subplot(122)\n",
    "ax2.set_xlabel('exp(-k)')\n",
    "ax1.semilogy(-np.log(quad_points), -np.array(results))\n",
    "ax2.plot(quad_points, -np.array(results))\n",
    "fig.tight_layout()"
   ]
  },
  {
   "cell_type": "code",
   "execution_count": null,
   "metadata": {},
   "outputs": [],
   "source": [
    "results"
   ]
  },
  {
   "cell_type": "code",
   "execution_count": null,
   "metadata": {},
   "outputs": [],
   "source": [
    "-np.array(results)/quad_points"
   ]
  },
  {
   "cell_type": "code",
   "execution_count": null,
   "metadata": {},
   "outputs": [],
   "source": [
    "quad_points"
   ]
  },
  {
   "cell_type": "code",
   "execution_count": null,
   "metadata": {},
   "outputs": [],
   "source": [
    "-2.741140647799512e-13/1.38879439e-11"
   ]
  },
  {
   "cell_type": "code",
   "execution_count": null,
   "metadata": {},
   "outputs": [],
   "source": [
    "3.0642155479654305e-13/2.06115362e-09"
   ]
  },
  {
   "cell_type": "code",
   "execution_count": null,
   "metadata": {},
   "outputs": [],
   "source": [
    "0.04372859968911746"
   ]
  },
  {
   "cell_type": "code",
   "execution_count": null,
   "metadata": {},
   "outputs": [],
   "source": [
    "CasE_05 = [0.044142920889365764, 0.04378745428754526, 0.043307825800813826, 0.0425274735585427] \n",
    "CasE_15 = [0.004684510596741076, 0.004668668075048978, 0.0046463126764854845, 0.004608327156406329] \n",
    "CasE_30 = [0.001029159937793544, 0.0010266636526601919, 0.0010231501929812861, 0.0010171903056843653]"
   ]
  },
  {
   "cell_type": "code",
   "execution_count": null,
   "metadata": {},
   "outputs": [],
   "source": [
    "Rel_err_05 = [abs(CasE_05[0] - CasE_05[1])/CasE_05[0], abs(CasE_05[0] - CasE_05[2])/CasE_05[0], abs(CasE_05[0] - CasE_05[3])/CasE_05[0]]\n",
    "Rel_err_15 = [abs(CasE_15[0] - CasE_15[1])/CasE_15[0], abs(CasE_15[0] - CasE_15[2])/CasE_15[0], abs(CasE_15[0] - CasE_15[3])/CasE_15[0]]\n",
    "Rel_err_30 = [abs(CasE_30[0] - CasE_30[1])/CasE_30[0], abs(CasE_30[0] - CasE_30[2])/CasE_30[0], abs(CasE_30[0] - CasE_30[3])/CasE_30[0]]"
   ]
  },
  {
   "cell_type": "code",
   "execution_count": null,
   "metadata": {},
   "outputs": [],
   "source": [
    "fig, (ax1, ax2, ax3) = plt.subplots(1, 3, figsize=(21, 6))\n",
    "ax1.plot([0.1, 0.15, 0.2], Rel_err_05,'*-')\n",
    "ax1.set_xlabel('Grid size $h$', fontsize = 20)\n",
    "ax1.set_ylabel('Relative error', fontsize = 15)\n",
    "ax1.set_title('dist = 0.5', fontsize = 20)\n",
    "\n",
    "ax2.plot([0.1, 0.15, 0.2], Rel_err_15,'*-')\n",
    "ax2.set_xlabel('Grid size $h$', fontsize = 20)\n",
    "ax2.set_ylabel('Relative error', fontsize = 15)\n",
    "ax2.set_title('dist = 1.5', fontsize = 20)\n",
    "\n",
    "ax3.plot([0.1, 0.15, 0.2], Rel_err_15,'*-')\n",
    "ax3.set_xlabel('Grid size $h$', fontsize = 20)\n",
    "ax3.set_ylabel('Relative error', fontsize = 15)\n",
    "ax3.set_title('dist = 3.0', fontsize = 20)\n",
    "\n",
    "\n",
    "fig.tight_layout()\n",
    "fig.suptitle('Relative error in the scalar case', fontsize = 25)\n",
    "fig.subplots_adjust(top=0.85)\n",
    "fig.savefig('CasE_scalar.pdf')"
   ]
  },
  {
   "cell_type": "code",
   "execution_count": null,
   "metadata": {},
   "outputs": [],
   "source": []
  }
 ],
 "metadata": {
  "kernelspec": {
   "display_name": "Python 3",
   "language": "python",
   "name": "python3"
  },
  "language_info": {
   "codemirror_mode": {
    "name": "ipython",
    "version": 3
   },
   "file_extension": ".py",
   "mimetype": "text/x-python",
   "name": "python",
   "nbconvert_exporter": "python",
   "pygments_lexer": "ipython3",
   "version": "3.7.0"
  }
 },
 "nbformat": 4,
 "nbformat_minor": 2
}
