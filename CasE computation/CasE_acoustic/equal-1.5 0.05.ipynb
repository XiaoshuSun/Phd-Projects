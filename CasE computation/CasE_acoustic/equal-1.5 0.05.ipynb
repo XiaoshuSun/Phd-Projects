{
 "cells": [
  {
   "cell_type": "code",
   "execution_count": 1,
   "metadata": {},
   "outputs": [],
   "source": [
    "import bempp.api\n",
    "from bempp.api.assembly.blocked_operator import BlockedOperator\n",
    "import math\n",
    "import numpy as np\n",
    "import scipy \n",
    "import cmath\n",
    "from numba import objmode\n",
    "from numpy.linalg import slogdet\n",
    "from bempp.api.operators.far_field import helmholtz as helmholtz_farfield\n",
    "import matplotlib.pyplot as plt\n",
    "import bempp.api.shapes.fractals"
   ]
  },
  {
   "cell_type": "code",
   "execution_count": 2,
   "metadata": {},
   "outputs": [
    {
     "name": "stdout",
     "output_type": "stream",
     "text": [
      "30 0.004677607732183618\n",
      "30 0.004677610299632613\n",
      "30 0.004677611218939785\n",
      "40 0.004675288427113692\n",
      "40 0.004675289846273479\n",
      "40 0.004675290349533151\n",
      "50 0.0046742369364865905\n",
      "50 0.004674237835265853\n",
      "50 0.004674238150950219\n",
      "60 0.004673673033427651\n",
      "60 0.004673673653229866\n",
      "60 0.004673673868845562\n",
      "70 0.004673335977107332\n",
      "70 0.004673336430187327\n",
      "70 0.004673336586305\n",
      "100 0.004672864595744328\n",
      "100 0.004672864815902405\n",
      "100 0.0046728648894841665\n"
     ]
    }
   ],
   "source": [
    "h = 0.05\n",
    "dist = 1.5\n",
    "\n",
    "\n",
    "sphere1 = bempp.api.shapes.sphere(h=h, origin=((dist/2) + 1, 0, 0))\n",
    "sphere2 = bempp.api.shapes.sphere(h=h, origin=(-((dist/2) + 1), 0, 0))\n",
    "\n",
    "space_sphere1 = bempp.api.function_space(sphere1, \"P\", 1)\n",
    "space_sphere2 = bempp.api.function_space(sphere2, \"P\", 1)\n",
    "\n",
    "for N_wn in [30, 40, 50, 60, 70, 100]:\n",
    "\n",
    "    for ubound_wn in [8, 9, 10]:\n",
    "        lbound_wn = 0\n",
    "        quad_points = np.linspace(np.exp(-ubound_wn), np.exp(-lbound_wn), N_wn)\n",
    "        results = []\n",
    "        for index2, point2 in enumerate(quad_points):\n",
    "\n",
    "            wavenumber = -1j * np.log(point2)\n",
    "\n",
    "            slp11 = bempp.api.operators.boundary.helmholtz.single_layer(space_sphere1, space_sphere1, space_sphere1, wavenumber)\n",
    "            slp12 = bempp.api.operators.boundary.helmholtz.single_layer(space_sphere2 , space_sphere1, space_sphere1, wavenumber)\n",
    "            slp21 = bempp.api.operators.boundary.helmholtz.single_layer(space_sphere1, space_sphere2 , space_sphere2 , wavenumber)\n",
    "            slp22 = bempp.api.operators.boundary.helmholtz.single_layer(space_sphere2 , space_sphere2 , space_sphere2 , wavenumber)\n",
    "\n",
    "            mat11 = slp11.weak_form().A\n",
    "            mat12 = slp12.weak_form().A\n",
    "            mat21 = slp21.weak_form().A\n",
    "            mat22 = slp22.weak_form().A\n",
    "            mat12_zero = np.zeros((mat11.shape[0],mat12.shape[1]))\n",
    "            mat21_zero = np.zeros((mat22.shape[0],mat11.shape[1]))\n",
    "\n",
    "            mat = np.block([[mat11,mat12],[mat21,mat22]])  \n",
    "            mat11_inv = scipy.linalg.lu_solve(scipy.linalg.lu_factor(mat11), np.eye(mat11.shape[0]))\n",
    "            mat22_inv = scipy.linalg.lu_solve(scipy.linalg.lu_factor(mat22), np.eye(mat22.shape[0]))\n",
    "\n",
    "            inv_free_mat2 = np.block([[mat11_inv,  mat12_zero],\n",
    "                                  [mat21_zero, mat22_inv]])  \n",
    "\n",
    "            combined_inverse_free = inv_free_mat2.dot(mat)\n",
    "            sign, logdet = slogdet(combined_inverse_free)\n",
    "\n",
    "            results.append(logdet)\n",
    "        print(N_wn, np.trapz(-np.array(results) / quad_points, quad_points) / (2 * np.pi))"
   ]
  },
  {
   "cell_type": "code",
   "execution_count": null,
   "metadata": {},
   "outputs": [],
   "source": []
  },
  {
   "cell_type": "code",
   "execution_count": null,
   "metadata": {},
   "outputs": [],
   "source": []
  },
  {
   "cell_type": "code",
   "execution_count": null,
   "metadata": {},
   "outputs": [],
   "source": []
  },
  {
   "cell_type": "code",
   "execution_count": null,
   "metadata": {},
   "outputs": [],
   "source": []
  }
 ],
 "metadata": {
  "kernelspec": {
   "display_name": "Python 3",
   "language": "python",
   "name": "python3"
  },
  "language_info": {
   "codemirror_mode": {
    "name": "ipython",
    "version": 3
   },
   "file_extension": ".py",
   "mimetype": "text/x-python",
   "name": "python",
   "nbconvert_exporter": "python",
   "pygments_lexer": "ipython3",
   "version": "3.7.0"
  }
 },
 "nbformat": 4,
 "nbformat_minor": 2
}
