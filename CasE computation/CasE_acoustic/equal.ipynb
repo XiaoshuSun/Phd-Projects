{
 "cells": [
  {
   "cell_type": "code",
   "execution_count": 1,
   "metadata": {},
   "outputs": [],
   "source": [
    "import bempp.api\n",
    "from bempp.api.assembly.blocked_operator import BlockedOperator\n",
    "import math\n",
    "import numpy as np\n",
    "import scipy \n",
    "import cmath\n",
    "from numba import objmode\n",
    "from numpy.linalg import slogdet\n",
    "from bempp.api.operators.far_field import helmholtz as helmholtz_farfield\n",
    "import matplotlib.pyplot as plt\n",
    "import bempp.api.shapes.fractals"
   ]
  },
  {
   "cell_type": "code",
   "execution_count": 2,
   "metadata": {},
   "outputs": [
    {
     "name": "stdout",
     "output_type": "stream",
     "text": [
      "60 0.0010197178089833834\n",
      "60 0.0010197427270832254\n",
      "60 0.0010197572510269783\n",
      "70 0.0010194354417361838\n",
      "70 0.0010194536623577494\n",
      "70 0.0010194642809266236\n"
     ]
    }
   ],
   "source": [
    "h = 0.05\n",
    "dist = 3.0\n",
    "\n",
    "sphere1 = bempp.api.shapes.sphere(h=h, origin=((dist/2) + 1, 0, 0))\n",
    "sphere2 = bempp.api.shapes.sphere(h=h, origin=(-((dist/2) + 1), 0, 0))\n",
    "\n",
    "space_sphere1 = bempp.api.function_space(sphere1, \"P\", 1)\n",
    "space_sphere2 = bempp.api.function_space(sphere2, \"P\", 1)\n",
    "\n",
    "for N_wn in [60, 70]:\n",
    "\n",
    "    for ubound_wn in [4, 5, 10]:\n",
    "        lbound_wn = 0\n",
    "        quad_points = np.linspace(np.exp(-ubound_wn), np.exp(-lbound_wn), N_wn)\n",
    "        results = []\n",
    "        for index2, point2 in enumerate(quad_points):\n",
    "\n",
    "            wavenumber = -1j * np.log(point2)\n",
    "\n",
    "            slp11 = bempp.api.operators.boundary.helmholtz.single_layer(space_sphere1, space_sphere1, space_sphere1, wavenumber)\n",
    "            slp12 = bempp.api.operators.boundary.helmholtz.single_layer(space_sphere2 , space_sphere1, space_sphere1, wavenumber)\n",
    "            slp21 = bempp.api.operators.boundary.helmholtz.single_layer(space_sphere1, space_sphere2 , space_sphere2 , wavenumber)\n",
    "            slp22 = bempp.api.operators.boundary.helmholtz.single_layer(space_sphere2 , space_sphere2 , space_sphere2 , wavenumber)\n",
    "\n",
    "            mat11 = slp11.weak_form().A\n",
    "            mat12 = slp12.weak_form().A\n",
    "            mat21 = slp21.weak_form().A\n",
    "            mat22 = slp22.weak_form().A\n",
    "            mat12_zero = np.zeros((mat11.shape[0],mat12.shape[1]))\n",
    "            mat21_zero = np.zeros((mat22.shape[0],mat11.shape[1]))\n",
    "\n",
    "            mat = np.block([[mat11,mat12],[mat21,mat22]])  \n",
    "            mat11_inv = scipy.linalg.lu_solve(scipy.linalg.lu_factor(mat11), np.eye(mat11.shape[0]))\n",
    "            mat22_inv = scipy.linalg.lu_solve(scipy.linalg.lu_factor(mat22), np.eye(mat22.shape[0]))\n",
    "\n",
    "            inv_free_mat2 = np.block([[mat11_inv,  mat12_zero],\n",
    "                                  [mat21_zero, mat22_inv]])  \n",
    "\n",
    "            combined_inverse_free = inv_free_mat2.dot(mat)\n",
    "            sign, logdet = slogdet(combined_inverse_free)\n",
    "\n",
    "            results.append(logdet)\n",
    "        print(N_wn, np.trapz(-np.array(results) / quad_points, quad_points) / (2 * np.pi))"
   ]
  },
  {
   "cell_type": "code",
   "execution_count": null,
   "metadata": {},
   "outputs": [],
   "source": [
    "Z = 3.0\n",
    "ub = 4, 5, 10\n",
    "h = 0.1\n",
    "20 0.0010262850145902295\n",
    "20 0.0010265241885411326\n",
    "20 0.0010266636526601919\n",
    "30 0.0010205257946712752\n",
    "30 0.0010206286618993689\n",
    "30 0.0010206886327574242\n",
    "40 0.0010185868194453056\n",
    "40 0.0010186437350640477\n",
    "40 0.0010186769091438343\n",
    "50 0.001017707480681256\n",
    "50 0.0010177435467482296\n",
    "50 0.001017764563604227\n",
    "60 0.0010172358288712952\n",
    "60 0.0010172607092608147\n",
    "60 0.0010172752045446121\n",
    "70 0.0010169538887274232\n",
    "70 0.0010169720817567861\n",
    "70 0.0010169826785344145\n",
    "\n",
    "\n",
    "CasE_30_01 = [0.0010262850145902295, 0.0010265241885411326, 0.0010266636526601919, 0.0010205257946712752, 0.0010206286618993689, \n",
    "              0.0010206886327574242, 0.0010185868194453056, 0.0010186437350640477, 0.0010186769091438343, 0.001017707480681256,\n",
    "             0.0010177435467482296, 0.001017764563604227, 0.0010172358288712952, 0.0010172607092608147, 0.0010172752045446121,\n",
    "             0.0010169538887274232, 0.0010169720817567861, 0.0010169826785344145]\n",
    "CasE_30_005 = [0.0010287807049933532, 0.0010290202414384875, 0.001029159937793544, 0.0010230127588125688, 0.0010231157819142155,\n",
    "               0.0010231758573272338, 0.001021070846156894, 0.0010211278480090952, 0.0010211610825080011, 0.0010201901752515626,\n",
    "               0.001020226295980908, 0.0010202473528090172, 0.0010197178089833834, 0.0010197427270832254, 0.0010197572510269783, \n",
    "               0.0010194354417361838, 0.0010194536623577494, 0.0010194642809266236]\n",
    "CasE_30_extrap = [0.0010296126017943943, 0.0010298522590709391, 0.0010299920328379947, 0.0010238417468596667, 0.0010239448219191644, \n",
    "                  0.001024004932183837, 0.0010218988550607566, 0.0010219558856574443, 0.0010219891402960567, 0.0010210177401083315, \n",
    "                  0.0010210538790584674, 0.0010210749492106138, 0.0010205451356874128, 0.0010205700663573623, 0.0010205845998544336, \n",
    "                  0.0010202626260724375, 0.001020280855891404, 0.0010202914817240268]\n",
    "\n",
    "h = 0.05\n",
    "\n",
    "20 0.0010287807049933532\n",
    "20 0.0010290202414384875\n",
    "20 0.001029159937793544\n",
    "30 0.0010230127588125688\n",
    "30 0.0010231157819142155\n",
    "30 0.0010231758573272338\n",
    "40 0.001021070846156894\n",
    "40 0.0010211278480090952\n",
    "40 0.0010211610825080011\n",
    "50 0.0010201901752515626\n",
    "50 0.001020226295980908\n",
    "50 0.0010202473528090172\n",
    "60 0.0010197178089833834\n",
    "60 0.0010197427270832254\n",
    "60 0.0010197572510269783\n",
    "70 0.0010194354417361838\n",
    "70 0.0010194536623577494\n",
    "70 0.0010194642809266236\n",
    "#===============================================================\n",
    "\n",
    "Z = 1.5\n",
    "ub = 8, 9, 10\n",
    "h = 0.1\n",
    "20 0.0046686599804245865\n",
    "20 0.004668665914574311\n",
    "20 0.004668668075048978\n",
    "30 0.0046617736090401605\n",
    "30 0.00466177614825127\n",
    "30 0.0046617770675181636\n",
    "40 0.004659457120827237\n",
    "40 0.0046594585205674945\n",
    "40 0.0046594590244243205\n",
    "50 0.0046584069094583805\n",
    "50 0.0046584077935745176\n",
    "50 0.004658408110001049\n",
    "60 0.0046578436931204795\n",
    "60 0.0046578443012380115\n",
    "60 0.0046578445176278455\n",
    "70 0.0046575070475643\n",
    "70 0.004657507491000173\n",
    "70 0.004657507647834673\n",
    "\n",
    "\n",
    "CasE_15_01 = [0.0046686599804245865, 0.004668665914574311, 0.004668668075048978, 0.0046617736090401605, 0.00466177614825127, \n",
    "              0.0046617770675181636, 0.004659457120827237, 0.0046594585205674945, 0.0046594590244243205, 0.0046584069094583805, \n",
    "              0.0046584077935745176, 0.004658408110001049, 0.0046578436931204795, 0.0046578443012380115, 0.0046578445176278455,\n",
    "              0.0046575070475643, 0.004657507491000173, 0.004657507647834673]\n",
    "CasE_15_005 = [0.004684502449871548, 0.00468450843388044, 0.004684510596741076, 0.004677607732183618, 0.004677610299632613, \n",
    "               0.004677611218939785, 0.004675288427113692, 0.004675289846273479, 0.004675290349533151, 0.0046742369364865905,\n",
    "               0.004674237835265853, 0.004674238150950219, 0.004673673033427651, 0.004673673653229866, 0.004673673868845562,\n",
    "               0.004673335977107332, 0.004673336430187327, 0.004673336586305]\n",
    "CasE_15_extrap = [0.004689783273020535, 0.004689789273649149, 0.004689791437305108, 0.004682885773231437, 0.00468288835009306, \n",
    "                  0.004682889269413658, 0.004680565529209178, 0.004680566954842141, 0.004680567457902761, 0.004679513612162661, \n",
    "                  0.004679514515829632, 0.0046795148312666094, 0.004678949480196708, 0.0046789501038938175, 0.004678950319251468, \n",
    "                  0.00467861228695501, 0.004678612743249711, 0.004678612899128443]\n",
    "h = 0.05\n",
    "\n",
    "20 0.004684502449871548\n",
    "20 0.00468450843388044\n",
    "20 0.004684510596741076\n",
    "30 0.004677607732183618\n",
    "30 0.004677610299632613\n",
    "30 0.004677611218939785\n",
    "40 0.004675288427113692\n",
    "40 0.004675289846273479\n",
    "40 0.004675290349533151\n",
    "50 0.0046742369364865905\n",
    "50 0.004674237835265853\n",
    "50 0.004674238150950219\n",
    "60 0.004673673033427651\n",
    "60 0.004673673653229866\n",
    "60 0.004673673868845562\n",
    "70 0.004673335977107332\n",
    "70 0.004673336430187327\n",
    "70 0.004673336586305\n",
    "#========================================================================\n",
    "\n",
    "Z = 0.5\n",
    "ub = 25\n",
    "h = 0.1\n",
    "\n",
    "20 0.043786492319013035\n",
    "30 0.043809876777666575\n",
    "40 0.04382059915645993\n",
    "50 0.04382662875780533\n",
    "60 0.04383044357362744\n",
    "70 0.043833050800340626\n",
    "\n",
    "CasE_05_01 = [0.043786492319013035, 0.043809876777666575, 0.04382059915645993, 0.04382662875780533, 0.04383044357362744, 0.043833050800340626]\n",
    "CasE_05_005 = [0.044305867203324606, 0.044267365994235475, 0.04424810540638025, 0.044236460971181286, 0.04422862972751019, 0.044222988057969315]\n",
    "CasE_05_extrap = [0.044478992164761796, 0.04441986239975844, 0.044390607489687026, 0.04437307170897327, 0.04436135844547111, 0.04435296714384555]\n",
    "\n",
    "h = 0.05\n",
    "\n",
    "20 0.044305867203324606\n",
    "30 0.044267365994235475\n",
    "40 0.04424810540638025\n",
    "50 0.044236460971181286\n",
    "60 0.04422862972751019\n",
    "70 0.044222988057969315"
   ]
  },
  {
   "cell_type": "code",
   "execution_count": 14,
   "metadata": {},
   "outputs": [
    {
     "data": {
      "text/plain": [
       "3.3333333333333335e-05"
      ]
     },
     "execution_count": 14,
     "metadata": {},
     "output_type": "execute_result"
    }
   ],
   "source": [
    "1/(12*50**2)"
   ]
  },
  {
   "cell_type": "code",
   "execution_count": 11,
   "metadata": {},
   "outputs": [
    {
     "name": "stdout",
     "output_type": "stream",
     "text": [
      "-2.829181333652453e-12\n"
     ]
    }
   ],
   "source": [
    "h = 0.1\n",
    "dist = 0.5\n",
    "\n",
    "sphere1 = bempp.api.shapes.sphere(h=h, origin=((dist/2) + 1, 0, 0))\n",
    "sphere2 = bempp.api.shapes.sphere(h=h, origin=(-((dist/2) + 1), 0, 0))\n",
    "\n",
    "space_sphere1 = bempp.api.function_space(sphere1, \"P\", 1)\n",
    "space_sphere2 = bempp.api.function_space(sphere2, \"P\", 1)       \n",
    "\n",
    "wavenumber = 1j * 25\n",
    "\n",
    "slp11 = bempp.api.operators.boundary.helmholtz.single_layer(space_sphere1, space_sphere1, space_sphere1, wavenumber)\n",
    "slp12 = bempp.api.operators.boundary.helmholtz.single_layer(space_sphere2 , space_sphere1, space_sphere1, wavenumber)\n",
    "slp21 = bempp.api.operators.boundary.helmholtz.single_layer(space_sphere1, space_sphere2 , space_sphere2 , wavenumber)\n",
    "slp22 = bempp.api.operators.boundary.helmholtz.single_layer(space_sphere2 , space_sphere2 , space_sphere2 , wavenumber)\n",
    "\n",
    "mat11 = slp11.weak_form().A\n",
    "mat12 = slp12.weak_form().A\n",
    "mat21 = slp21.weak_form().A\n",
    "mat22 = slp22.weak_form().A\n",
    "mat12_zero = np.zeros((mat11.shape[0],mat12.shape[1]))\n",
    "mat21_zero = np.zeros((mat22.shape[0],mat11.shape[1]))\n",
    "\n",
    "mat = np.block([[mat11,mat12],[mat21,mat22]])  \n",
    "mat11_inv = scipy.linalg.lu_solve(scipy.linalg.lu_factor(mat11), np.eye(mat11.shape[0]))\n",
    "mat22_inv = scipy.linalg.lu_solve(scipy.linalg.lu_factor(mat22), np.eye(mat22.shape[0]))\n",
    "\n",
    "inv_free_mat2 = np.block([[mat11_inv,  mat12_zero],\n",
    "                      [mat21_zero, mat22_inv]])  \n",
    "\n",
    "combined_inverse_free = inv_free_mat2.dot(mat)\n",
    "sign, logdet = slogdet(combined_inverse_free)\n",
    "\n",
    "print(logdet)\n"
   ]
  },
  {
   "cell_type": "code",
   "execution_count": 9,
   "metadata": {},
   "outputs": [
    {
     "data": {
      "text/plain": [
       "9.357622968840175e-14"
      ]
     },
     "execution_count": 9,
     "metadata": {},
     "output_type": "execute_result"
    }
   ],
   "source": [
    "np.exp(-2*dist*5) "
   ]
  },
  {
   "cell_type": "code",
   "execution_count": 12,
   "metadata": {},
   "outputs": [
    {
     "data": {
      "text/plain": [
       "-7.751022046420947e-12"
      ]
     },
     "execution_count": 12,
     "metadata": {},
     "output_type": "execute_result"
    }
   ],
   "source": [
    "(-2.712274849159258e-13 + (-2.829181333652453e-12))*5/2"
   ]
  },
  {
   "cell_type": "code",
   "execution_count": null,
   "metadata": {},
   "outputs": [],
   "source": []
  },
  {
   "cell_type": "code",
   "execution_count": null,
   "metadata": {},
   "outputs": [],
   "source": []
  },
  {
   "cell_type": "code",
   "execution_count": null,
   "metadata": {},
   "outputs": [],
   "source": [
    "CasE_05 = [0.044142920889365764, 0.04378745428754526, 0.043307825800813826, 0.0425274735585427] \n",
    "CasE_15 = [0.004684510596741076, 0.004668668075048978, 0.0046463126764854845, 0.004608327156406329] \n",
    "CasE_30 = [0.001029159937793544, 0.0010266636526601919, 0.0010231501929812861, 0.0010171903056843653]"
   ]
  },
  {
   "cell_type": "code",
   "execution_count": null,
   "metadata": {},
   "outputs": [],
   "source": [
    "Rel_err_05 = [abs(CasE_05[0] - CasE_05[1])/CasE_05[0], abs(CasE_05[0] - CasE_05[2])/CasE_05[0], abs(CasE_05[0] - CasE_05[3])/CasE_05[0]]\n",
    "Rel_err_15 = [abs(CasE_15[0] - CasE_15[1])/CasE_15[0], abs(CasE_15[0] - CasE_15[2])/CasE_15[0], abs(CasE_15[0] - CasE_15[3])/CasE_15[0]]\n",
    "Rel_err_30 = [abs(CasE_30[0] - CasE_30[1])/CasE_30[0], abs(CasE_30[0] - CasE_30[2])/CasE_30[0], abs(CasE_30[0] - CasE_30[3])/CasE_30[0]]"
   ]
  },
  {
   "cell_type": "code",
   "execution_count": null,
   "metadata": {},
   "outputs": [],
   "source": [
    "fig, (ax1, ax2, ax3) = plt.subplots(1, 3, figsize=(21, 6))\n",
    "ax1.plot([0.1, 0.15, 0.2], Rel_err_05,'*-')\n",
    "ax1.set_xlabel('Grid size $h$', fontsize = 20)\n",
    "ax1.set_ylabel('Relative error', fontsize = 15)\n",
    "ax1.set_title('dist = 0.5', fontsize = 20)\n",
    "\n",
    "ax2.plot([0.1, 0.15, 0.2], Rel_err_15,'*-')\n",
    "ax2.set_xlabel('Grid size $h$', fontsize = 20)\n",
    "ax2.set_ylabel('Relative error', fontsize = 15)\n",
    "ax2.set_title('dist = 1.5', fontsize = 20)\n",
    "\n",
    "ax3.plot([0.1, 0.15, 0.2], Rel_err_15,'*-')\n",
    "ax3.set_xlabel('Grid size $h$', fontsize = 20)\n",
    "ax3.set_ylabel('Relative error', fontsize = 15)\n",
    "ax3.set_title('dist = 3.0', fontsize = 20)\n",
    "\n",
    "\n",
    "fig.tight_layout()\n",
    "fig.suptitle('Relative error in the scalar case', fontsize = 25)\n",
    "fig.subplots_adjust(top=0.85)\n",
    "fig.savefig('CasE_scalar.pdf')"
   ]
  },
  {
   "cell_type": "code",
   "execution_count": null,
   "metadata": {},
   "outputs": [],
   "source": []
  }
 ],
 "metadata": {
  "kernelspec": {
   "display_name": "Python 3",
   "language": "python",
   "name": "python3"
  },
  "language_info": {
   "codemirror_mode": {
    "name": "ipython",
    "version": 3
   },
   "file_extension": ".py",
   "mimetype": "text/x-python",
   "name": "python",
   "nbconvert_exporter": "python",
   "pygments_lexer": "ipython3",
   "version": "3.7.0"
  }
 },
 "nbformat": 4,
 "nbformat_minor": 2
}
