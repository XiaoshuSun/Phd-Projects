{
 "cells": [
  {
   "cell_type": "code",
   "execution_count": 1,
   "metadata": {},
   "outputs": [],
   "source": [
    "import bempp.api\n",
    "from bempp.api.assembly.blocked_operator import BlockedOperator\n",
    "import math\n",
    "import numpy as np\n",
    "import scipy \n",
    "import cmath\n",
    "from numba import objmode\n",
    "from numpy.linalg import slogdet\n",
    "from bempp.api.operators.far_field import helmholtz as helmholtz_farfield\n",
    "import matplotlib.pyplot as plt"
   ]
  },
  {
   "cell_type": "code",
   "execution_count": 2,
   "metadata": {},
   "outputs": [],
   "source": [
    "N_wn = 20\n",
    "lbound_wn = 0\n",
    "ubound_wn = 10\n",
    "quad_points = np.linspace(np.exp(-ubound_wn), np.exp(-lbound_wn), N_wn)"
   ]
  },
  {
   "cell_type": "markdown",
   "metadata": {},
   "source": [
    "# Rotation"
   ]
  },
  {
   "cell_type": "code",
   "execution_count": 3,
   "metadata": {},
   "outputs": [],
   "source": [
    "ellipsoid = bempp.api.shapes.ellipsoid(r1 = 0.3, r2 = 0.3, r3 = 0.6, origin = (0, 0, 0), h = 0.05)\n",
    "ele_ellipsoid = ellipsoid.elements\n",
    "ver_ellipsoid = ellipsoid.vertices"
   ]
  },
  {
   "cell_type": "code",
   "execution_count": 4,
   "metadata": {},
   "outputs": [
    {
     "name": "stdout",
     "output_type": "stream",
     "text": [
      "0.0 0.013213152737637226\n",
      "0.16110731556870733 0.01290829075904104\n",
      "0.32221463113741466 0.012723274951809038\n",
      "0.483321946706122 0.012672595852067274\n",
      "0.6444292622748293 0.012757227138070613\n",
      "0.8055365778435366 0.012966330609661658\n",
      "0.966643893412244 0.013274981401933074\n",
      "1.1277512089809514 0.013641576685201977\n",
      "1.2888585245496587 0.014010582452998483\n",
      "1.449965840118366 0.014324870467183132\n",
      "1.6110731556870732 0.014545382439535279\n",
      "1.7721804712557807 0.01466718486001109\n",
      "1.933287786824488 0.014718376617217362\n",
      "2.0943951023931953 0.014736998603670726\n",
      "2.2555024179619028 0.014736187806027732\n",
      "2.41660973353061 0.014682267937417207\n",
      "2.5777170490993173 0.014515812796816031\n",
      "2.738824364668025 0.014211801180522876\n",
      "2.899931680236732 0.013813277380940589\n",
      "3.0610389958054394 0.013400856318590617\n",
      "3.2221463113741464 0.01304736355035991\n",
      "3.383253626942854 0.012799586878726236\n",
      "3.5443609425115614 0.012680894930189356\n",
      "3.7054682580802685 0.012698496496591225\n",
      "3.866575573648976 0.012847544433682054\n",
      "4.027682889217683 0.01311057772887446\n",
      "4.1887902047863905 0.013454459656114465\n",
      "4.349897520355098 0.013829725074572852\n",
      "4.5110048359238055 0.014177880546644065\n",
      "4.672112151492513 0.014448260678839475\n",
      "4.83321946706122 0.01461766513155607\n",
      "4.994326782629927 0.014699242370273964\n",
      "5.155434098198635 0.014730104898403205\n",
      "5.316541413767342 0.014740119945317275\n",
      "5.47764872933605 0.014719675755139851\n",
      "5.638756044904756 0.014616244510356376\n",
      "5.799863360473464 0.014379815985589035\n",
      "5.960970676042171 0.01401956421598924\n",
      "6.122077991610879 0.013603688581002096\n",
      "6.283185307179586 0.01321315274049484\n"
     ]
    }
   ],
   "source": [
    "Cas_ = []\n",
    "for rotation_angle in np.linspace(0, np.pi*2, 40):\n",
    "    \n",
    "    #Ellipsoid 1 \n",
    "    angle_x_1 = rotation_angle\n",
    "    R_x_1 = [[1, 0, 0], [0, np.cos(angle_x_1),  -np.sin(angle_x_1)], [0,  np.sin(angle_x_1),  np.cos(angle_x_1)]]\n",
    "\n",
    "    angle_z_1 = np.arctan(np.sqrt(3)/3)\n",
    "    R_z_1 = [[np.cos(angle_z_1), -np.sin(angle_z_1), 0], [np.sin(angle_z_1), np.cos(angle_z_1), 0], [0, 0, 1]]\n",
    "\n",
    "    ver_ellipsoid1 = np.zeros((ver_ellipsoid.shape[0], ver_ellipsoid.shape[1]))\n",
    "    for i in range(ver_ellipsoid.shape[1]):\n",
    "        ver_ellipsoid1[:,i] = R_z_1 @ (R_x_1 @ ver_ellipsoid[:,i])\n",
    "    for i in range(ver_ellipsoid.shape[1]):\n",
    "        ver_ellipsoid1[1, i] -= 1\n",
    "    ellipsoid_1_4_rotated = bempp.api.Grid(ver_ellipsoid1, ele_ellipsoid)\n",
    "\n",
    "    #Ellipsoid 2 \n",
    "    angle_x_2 = -rotation_angle\n",
    "    R_x_2 = [[1, 0, 0], [0, np.cos(angle_x_2),  -np.sin(angle_x_2)], [0,  np.sin(angle_x_2),  np.cos(angle_x_2)]]\n",
    "\n",
    "    angle_z_2 = -np.arctan(np.sqrt(3)/3)\n",
    "    R_z_2 = [[np.cos(angle_z_2), -np.sin(angle_z_2), 0], [np.sin(angle_z_2), np.cos(angle_z_2), 0], [0, 0, 1]]\n",
    "\n",
    "    ver_ellipsoid2 = np.zeros((ver_ellipsoid.shape[0], ver_ellipsoid.shape[1]))\n",
    "    for i in range(ver_ellipsoid.shape[1]):\n",
    "        ver_ellipsoid2[:,i] = R_z_2 @ (R_x_2 @ ver_ellipsoid[:,i])\n",
    "    for i in range(ver_ellipsoid.shape[1]):\n",
    "        ver_ellipsoid2[1, i] += 1\n",
    "    ellipsoid_2_4_rotated = bempp.api.Grid(ver_ellipsoid2, ele_ellipsoid)\n",
    "\n",
    "    #Ellipsoid 3 \n",
    "    angle_y_3 = -rotation_angle\n",
    "    R_y_3 = [[np.cos(angle_y_3), 0, np.sin(angle_y_3)], [0, 1, 0], [-np.sin(angle_y_3), 0,  np.cos(angle_y_3)]]\n",
    "\n",
    "    ver_ellipsoid3 = np.zeros((ver_ellipsoid.shape[0], ver_ellipsoid.shape[1]))\n",
    "    for i in range(ver_ellipsoid.shape[1]):\n",
    "        ver_ellipsoid3[:,i] = R_y_3 @ ver_ellipsoid[:,i]\n",
    "    for i in range(ver_ellipsoid.shape[1]):\n",
    "        ver_ellipsoid3[0, i] -= np.sqrt(3)\n",
    "    ellipsoid_3_4_rotated = bempp.api.Grid(ver_ellipsoid3, ele_ellipsoid)\n",
    "\n",
    "    #Ellipsoid 4 \n",
    "    angle_x_4 = rotation_angle\n",
    "    R_x_4 = [[1, 0, 0], [0, np.cos(angle_x_4),  -np.sin(angle_x_4)], [0,  np.sin(angle_x_4),  np.cos(angle_x_4)]]\n",
    "\n",
    "    ver_ellipsoid4 = np.zeros((ver_ellipsoid.shape[0], ver_ellipsoid.shape[1]))\n",
    "    for i in range(ver_ellipsoid.shape[1]):\n",
    "        ver_ellipsoid4[:,i] = R_x_4 @ ver_ellipsoid[:,i]\n",
    "    for i in range(ver_ellipsoid.shape[1]):\n",
    "        ver_ellipsoid4[0, i] -= np.sqrt(3)/3\n",
    "        ver_ellipsoid4[2, i] += 2*np.sqrt(6)/3\n",
    "    ellipsoid_4_4_rotated = bempp.api.Grid(ver_ellipsoid4, ele_ellipsoid)\n",
    "\n",
    "    \n",
    "    space_ellipsoid1 =  bempp.api.function_space(ellipsoid_1_4_rotated,'P',1)\n",
    "    space_ellipsoid2 =  bempp.api.function_space(ellipsoid_2_4_rotated,'P',1)\n",
    "    space_ellipsoid3 =  bempp.api.function_space(ellipsoid_3_4_rotated,'P',1)\n",
    "    space_ellipsoid4 =  bempp.api.function_space(ellipsoid_4_4_rotated,'P',1)\n",
    "    \n",
    "    results = []\n",
    "    for index2, point2 in enumerate(quad_points):\n",
    "\n",
    "        wavenumber = -1j * np.log(point2)\n",
    "        \n",
    "        slp11 = bempp.api.operators.boundary.helmholtz.single_layer(space_ellipsoid1, space_ellipsoid1, space_ellipsoid1, wavenumber)\n",
    "        slp12 = bempp.api.operators.boundary.helmholtz.single_layer(space_ellipsoid2, space_ellipsoid1, space_ellipsoid1, wavenumber)\n",
    "        slp13 = bempp.api.operators.boundary.helmholtz.single_layer(space_ellipsoid3, space_ellipsoid1, space_ellipsoid1, wavenumber)\n",
    "        slp14 = bempp.api.operators.boundary.helmholtz.single_layer(space_ellipsoid4, space_ellipsoid1, space_ellipsoid1, wavenumber)\n",
    "        \n",
    "        slp21 = bempp.api.operators.boundary.helmholtz.single_layer(space_ellipsoid1, space_ellipsoid2 , space_ellipsoid2 , wavenumber)\n",
    "        slp22 = bempp.api.operators.boundary.helmholtz.single_layer(space_ellipsoid2, space_ellipsoid2 , space_ellipsoid2 , wavenumber)\n",
    "        slp23 = bempp.api.operators.boundary.helmholtz.single_layer(space_ellipsoid3, space_ellipsoid2 , space_ellipsoid2 , wavenumber)\n",
    "        slp24 = bempp.api.operators.boundary.helmholtz.single_layer(space_ellipsoid4, space_ellipsoid2 , space_ellipsoid2 , wavenumber)\n",
    "        \n",
    "        slp31 = bempp.api.operators.boundary.helmholtz.single_layer(space_ellipsoid1, space_ellipsoid3 , space_ellipsoid3 , wavenumber)\n",
    "        slp32 = bempp.api.operators.boundary.helmholtz.single_layer(space_ellipsoid2, space_ellipsoid3 , space_ellipsoid3 , wavenumber)\n",
    "        slp33 = bempp.api.operators.boundary.helmholtz.single_layer(space_ellipsoid3, space_ellipsoid3 , space_ellipsoid3 , wavenumber)\n",
    "        slp34 = bempp.api.operators.boundary.helmholtz.single_layer(space_ellipsoid4, space_ellipsoid3 , space_ellipsoid3 , wavenumber)\n",
    "        \n",
    "        slp41 = bempp.api.operators.boundary.helmholtz.single_layer(space_ellipsoid1, space_ellipsoid4 , space_ellipsoid4 , wavenumber)\n",
    "        slp42 = bempp.api.operators.boundary.helmholtz.single_layer(space_ellipsoid2, space_ellipsoid4 , space_ellipsoid4 , wavenumber)\n",
    "        slp43 = bempp.api.operators.boundary.helmholtz.single_layer(space_ellipsoid3, space_ellipsoid4 , space_ellipsoid4 , wavenumber)\n",
    "        slp44 = bempp.api.operators.boundary.helmholtz.single_layer(space_ellipsoid4, space_ellipsoid4 , space_ellipsoid4 , wavenumber)\n",
    "\n",
    "\n",
    "        mat11 = slp11.weak_form().A\n",
    "        mat12 = slp12.weak_form().A\n",
    "        mat13 = slp13.weak_form().A\n",
    "        mat14 = slp14.weak_form().A\n",
    "        \n",
    "        mat21 = slp21.weak_form().A\n",
    "        mat22 = slp22.weak_form().A\n",
    "        mat23 = slp23.weak_form().A\n",
    "        mat24 = slp24.weak_form().A\n",
    "        \n",
    "        mat31 = slp31.weak_form().A\n",
    "        mat32 = slp32.weak_form().A\n",
    "        mat33 = slp33.weak_form().A\n",
    "        mat34 = slp34.weak_form().A\n",
    "        \n",
    "        mat41 = slp41.weak_form().A\n",
    "        mat42 = slp42.weak_form().A\n",
    "        mat43 = slp43.weak_form().A\n",
    "        mat44 = slp44.weak_form().A\n",
    "        \n",
    "        mat12_zero = np.zeros((mat11.shape[0],mat12.shape[1]))\n",
    "        mat13_zero = np.zeros((mat11.shape[0],mat13.shape[1]))\n",
    "        mat14_zero = np.zeros((mat11.shape[0],mat14.shape[1]))\n",
    "        \n",
    "        mat21_zero = np.zeros((mat22.shape[0],mat21.shape[1]))\n",
    "        mat23_zero = np.zeros((mat22.shape[0],mat23.shape[1]))\n",
    "        mat24_zero = np.zeros((mat22.shape[0],mat24.shape[1]))\n",
    "        \n",
    "        mat31_zero = np.zeros((mat33.shape[0],mat31.shape[1]))\n",
    "        mat32_zero = np.zeros((mat33.shape[0],mat32.shape[1]))\n",
    "        mat34_zero = np.zeros((mat33.shape[0],mat34.shape[1]))\n",
    "        \n",
    "        mat41_zero = np.zeros((mat44.shape[0],mat41.shape[1]))\n",
    "        mat42_zero = np.zeros((mat44.shape[0],mat42.shape[1]))\n",
    "        mat43_zero = np.zeros((mat44.shape[0],mat43.shape[1]))\n",
    "\n",
    "        mat = np.block([[mat11, mat12, mat13, mat14],\n",
    "                        [mat21, mat22, mat23, mat24], \n",
    "                        [mat31, mat32, mat33, mat34], \n",
    "                        [mat41, mat42, mat43, mat44]])  \n",
    "        \n",
    "        mat11_inv = scipy.linalg.lu_solve(scipy.linalg.lu_factor(mat11), np.eye(mat11.shape[0]))\n",
    "        mat22_inv = scipy.linalg.lu_solve(scipy.linalg.lu_factor(mat22), np.eye(mat22.shape[0]))\n",
    "        mat33_inv = scipy.linalg.lu_solve(scipy.linalg.lu_factor(mat33), np.eye(mat33.shape[0]))\n",
    "        mat44_inv = scipy.linalg.lu_solve(scipy.linalg.lu_factor(mat44), np.eye(mat44.shape[0]))\n",
    "\n",
    "        inv_free_mat2 = np.block([[mat11_inv,  mat12_zero, mat13_zero, mat14_zero],\n",
    "                                  [mat21_zero, mat22_inv,  mat23_zero, mat24_zero],\n",
    "                                  [mat31_zero, mat32_zero, mat33_inv,  mat34_zero],\n",
    "                                  [mat41_zero, mat42_zero, mat43_zero, mat44_inv,]])  \n",
    "\n",
    "        combined_inverse_free = inv_free_mat2.dot(mat)\n",
    "        sign, logdet = slogdet(combined_inverse_free)\n",
    "\n",
    "        results.append(logdet)\n",
    "    print(rotation_angle, np.trapz(-np.array(results) / quad_points, quad_points) / (2 * np.pi))\n",
    "    Cas_.append(np.trapz(-np.array(results) / quad_points, quad_points) / (2 * np.pi))"
   ]
  },
  {
   "cell_type": "code",
   "execution_count": 5,
   "metadata": {},
   "outputs": [
    {
     "name": "stdout",
     "output_type": "stream",
     "text": [
      "[0.013213152737637226, 0.01290829075904104, 0.012723274951809038, 0.012672595852067274, 0.012757227138070613, 0.012966330609661658, 0.013274981401933074, 0.013641576685201977, 0.014010582452998483, 0.014324870467183132, 0.014545382439535279, 0.01466718486001109, 0.014718376617217362, 0.014736998603670726, 0.014736187806027732, 0.014682267937417207, 0.014515812796816031, 0.014211801180522876, 0.013813277380940589, 0.013400856318590617, 0.01304736355035991, 0.012799586878726236, 0.012680894930189356, 0.012698496496591225, 0.012847544433682054, 0.01311057772887446, 0.013454459656114465, 0.013829725074572852, 0.014177880546644065, 0.014448260678839475, 0.01461766513155607, 0.014699242370273964, 0.014730104898403205, 0.014740119945317275, 0.014719675755139851, 0.014616244510356376, 0.014379815985589035, 0.01401956421598924, 0.013603688581002096, 0.01321315274049484]\n"
     ]
    }
   ],
   "source": [
    "Cas_outward_005 = [0.013213152737637226, 0.01290829075904104, 0.012723274951809038, 0.012672595852067274, 0.012757227138070613, \n",
    "                   0.012966330609661658, 0.013274981401933074, 0.013641576685201977, 0.014010582452998483, 0.014324870467183132, \n",
    "                   0.014545382439535279, 0.01466718486001109, 0.014718376617217362, 0.014736998603670726, 0.014736187806027732, \n",
    "                   0.014682267937417207, 0.014515812796816031, 0.014211801180522876, 0.013813277380940589, 0.013400856318590617, \n",
    "                   0.01304736355035991, 0.012799586878726236, 0.012680894930189356, 0.012698496496591225, 0.012847544433682054, \n",
    "                   0.01311057772887446, 0.013454459656114465, 0.013829725074572852, 0.014177880546644065, 0.014448260678839475, \n",
    "                   0.01461766513155607, 0.014699242370273964, 0.014730104898403205, 0.014740119945317275, 0.014719675755139851, \n",
    "                   0.014616244510356376, 0.014379815985589035, 0.01401956421598924, 0.013603688581002096, 0.01321315274049484]"
   ]
  },
  {
   "cell_type": "code",
   "execution_count": 6,
   "metadata": {},
   "outputs": [
    {
     "data": {
      "text/plain": [
       "[<matplotlib.lines.Line2D at 0x7f67cfc4dcf8>]"
      ]
     },
     "execution_count": 6,
     "metadata": {},
     "output_type": "execute_result"
    },
    {
     "data": {
      "image/png": "[encoded data removed]",
      "text/plain": [
       "<Figure size 432x288 with 1 Axes>"
      ]
     },
     "metadata": {
      "needs_background": "light"
     },
     "output_type": "display_data"
    }
   ],
   "source": [
    "plt.plot(np.linspace(0, 2*np.pi, 40), Cas_)"
   ]
  },
  {
   "cell_type": "code",
   "execution_count": null,
   "metadata": {},
   "outputs": [],
   "source": []
  }
 ],
 "metadata": {
  "kernelspec": {
   "display_name": "Python 3",
   "language": "python",
   "name": "python3"
  },
  "language_info": {
   "codemirror_mode": {
    "name": "ipython",
    "version": 3
   },
   "file_extension": ".py",
   "mimetype": "text/x-python",
   "name": "python",
   "nbconvert_exporter": "python",
   "pygments_lexer": "ipython3",
   "version": "3.7.0"
  }
 },
 "nbformat": 4,
 "nbformat_minor": 2
}
