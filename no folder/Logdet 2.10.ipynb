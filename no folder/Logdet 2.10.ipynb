{
 "cells": [
  {
   "cell_type": "code",
   "execution_count": 2,
   "metadata": {},
   "outputs": [],
   "source": [
    "import numpy as np\n",
    "from scipy.linalg import qr\n",
    "from scipy.linalg import svdvals\n",
    "from scipy.linalg import pinv\n",
    "from scipy.linalg.interpolative import interp_decomp\n",
    "from matplotlib import pyplot as plt\n",
    "import scipy.linalg.interpolative as sli\n",
    "import scipy\n",
    "import scipy.linalg \n",
    "import math\n",
    "plt.rcParams['figure.figsize'] = [10, 8]\n",
    "\n",
    "%matplotlib inline"
   ]
  },
  {
   "cell_type": "code",
   "execution_count": 3,
   "metadata": {},
   "outputs": [],
   "source": [
    "import numpy as np\n",
    "n = 1000\n",
    "x = np.linspace(-1, 1, n)\n",
    "eps = 0.1\n",
    "\n",
    "def fun(x, y):\n",
    "    \"\"\"Evaluate a kernel function on a tensor grid\"\"\"\n",
    "    xx = x.reshape(n,1)\n",
    "    yy = y.reshape(1,n)\n",
    "    return 1./(eps + np.abs(xx-yy))\n",
    "\n",
    "A = fun(x, x)\n",
    "nboxes = 20"
   ]
  },
  {
   "cell_type": "code",
   "execution_count": 4,
   "metadata": {},
   "outputs": [],
   "source": [
    "def get_box(nx, ny, A, nboxes, n):\n",
    "    \"\"\"Return the content of a given box\"\"\"\n",
    "    size = n // nboxes\n",
    "    xrange = [nx * size, (1 + nx) * size] \n",
    "    yrange = [ny * size, (1 + ny) * size] \n",
    "    return A[xrange[0]:xrange[1], yrange[0]:yrange[1]] "
   ]
  },
  {
   "cell_type": "code",
   "execution_count": 5,
   "metadata": {},
   "outputs": [],
   "source": [
    "def get_con_box(i,A,nboxes,n):\n",
    "    \"\"\"Return Ai\"\"\"\n",
    "    size = n // nboxes \n",
    "    BB = A[i * size : (i + 1) * size, :]\n",
    "    B = np.delete(BB, np.s_[i*size : (i+1)*size], axis = 1)\n",
    "    \n",
    "    CC = get_box(0,i,A,nboxes,n).transpose()\n",
    "    for j in range(1,nboxes):\n",
    "        CCC = get_box(j,i,A,nboxes,n).transpose()\n",
    "        CC = np.hstack((CC, CCC))  \n",
    "    C = np.delete(CC, np.s_[i*size : (i+1)*size], axis = 1)\n",
    "    return np.hstack((B,C))"
   ]
  },
  {
   "cell_type": "code",
   "execution_count": 6,
   "metadata": {},
   "outputs": [],
   "source": [
    "def L(i,k,A,nboxes,n):\n",
    "    import scipy.linalg.interpolative as sli\n",
    "    idx1,proj1 = sli.interp_decomp(get_con_box(i,A,nboxes,n), k, rand = False)\n",
    "    B1 = sli.reconstruct_skel_matrix(get_con_box(i,A,nboxes,n),k,idx1)\n",
    "    P1 = sli.reconstruct_interp_matrix(idx1,proj1)\n",
    "\n",
    "    B1_trans = np.transpose(B1)\n",
    "    idx2,proj2 = sli.interp_decomp(B1_trans, k, rand = False)\n",
    "    B2_trans = sli.reconstruct_skel_matrix(B1_trans,k,idx2)\n",
    "    P2_trans = sli.reconstruct_interp_matrix(idx2,proj2)\n",
    "\n",
    "    B2 = np.transpose(B2_trans)\n",
    "    P2 = np.transpose(P2_trans)\n",
    "    return P2"
   ]
  },
  {
   "cell_type": "code",
   "execution_count": 7,
   "metadata": {},
   "outputs": [],
   "source": [
    "def S(i,j,k,A,nboxes,n):\n",
    "    import scipy.linalg.interpolative as sli\n",
    "    idx1,proj1 = sli.interp_decomp(get_con_box(i,A,nboxes,n), k, rand = False)\n",
    "    B1 = sli.reconstruct_skel_matrix(get_con_box(i,A,nboxes,n),k,idx1)\n",
    "    B1_trans = np.transpose(B1)\n",
    "    idx2,proj2 = sli.interp_decomp(B1_trans, k, rand = False)\n",
    "    \n",
    "    idx11,proj11 = sli.interp_decomp(get_con_box(j,A,nboxes,n), k, rand = False)\n",
    "    B11 = sli.reconstruct_skel_matrix(get_con_box(j,A,nboxes,n),k,idx11)\n",
    "    B11_trans = np.transpose(B11)\n",
    "    idx22,proj22 = sli.interp_decomp(B11_trans, k, rand = False)\n",
    "\n",
    "    Sij_ = get_box(i,j,A,nboxes,n)[idx2[0:k],:]\n",
    "    Sij = Sij_[:,idx22[0:k]]\n",
    "    return Sij"
   ]
  },
  {
   "cell_type": "code",
   "execution_count": 8,
   "metadata": {},
   "outputs": [],
   "source": [
    "def R(i,k,A,nboxes,n):\n",
    "    RR = np.transpose(L(i,k,A,nboxes,n))\n",
    "    return RR"
   ]
  },
  {
   "cell_type": "code",
   "execution_count": 9,
   "metadata": {},
   "outputs": [],
   "source": [
    "def mat(k,A,nboxes,n):\n",
    "    size = n // nboxes\n",
    "    m = np.zeros(( (size + k)*nboxes , (size + k)*nboxes))\n",
    "    for i in range (nboxes):\n",
    "        m[i*size : (i + 1)*size, i*size : (i + 1)*size] = get_box(i,i,A,nboxes,n)\n",
    "    for j in range (nboxes):\n",
    "        m[ n + j*k : n + (j + 1)*k, n + j*k : n + (j + 1)*k] = -np.identity(k)\n",
    "    for r in range(nboxes):\n",
    "        m[n + r*k : n + (r + 1)*k, r*size : (r + 1)*size] = R(r,k,A,nboxes,n)\n",
    "    for s in range(nboxes):\n",
    "        for t in range(nboxes):\n",
    "            if s != t:\n",
    "                m[s*size : (s + 1)*size, n + t*k : n + (t + 1)*k] = L(s,k,A,nboxes,n)@S(s,t,k,A,nboxes,n)\n",
    "    return m          "
   ]
  },
  {
   "cell_type": "code",
   "execution_count": 10,
   "metadata": {},
   "outputs": [],
   "source": [
    "size = n // nboxes"
   ]
  },
  {
   "cell_type": "code",
   "execution_count": 12,
   "metadata": {},
   "outputs": [],
   "source": [
    "mat_D = np.zeros((n,n))\n",
    "for i in range (nboxes):\n",
    "    mat_D[i*size : (i + 1)*size, i*size : (i + 1)*size] = get_box(i,i,A,nboxes,n)"
   ]
  },
  {
   "cell_type": "code",
   "execution_count": 16,
   "metadata": {},
   "outputs": [],
   "source": [
    "def mat_L(k,A,nboxes,n): \n",
    "    matrix_= np.zeros((n, k*nboxes))\n",
    "    for i in range(nboxes):\n",
    "        matrix_[i*size : (i + 1)*size, i*k : (i + 1)*k] = L(i,k,A,nboxes,n)\n",
    "    return matrix_"
   ]
  },
  {
   "cell_type": "code",
   "execution_count": 17,
   "metadata": {},
   "outputs": [],
   "source": [
    "def mat_S(k,A,nboxes,n): \n",
    "    matrix_= np.zeros((k*nboxes, k*nboxes))\n",
    "    for i in range(nboxes):\n",
    "        for j in range(nboxes):\n",
    "            if i != j:\n",
    "                matrix_[i*k : (i + 1)*k, j*k : (j + 1)*k] = S(i,j,k,A,nboxes,n)\n",
    "    return matrix_"
   ]
  },
  {
   "cell_type": "code",
   "execution_count": 25,
   "metadata": {},
   "outputs": [],
   "source": [
    "def mat_R(k,A,nboxes,n): \n",
    "    matrix_= np.zeros((k*nboxes, n))\n",
    "    for i in range(nboxes):\n",
    "        matrix_[i*k : (i + 1)*k, i*size : (i + 1)*size] = R(i,k,A,nboxes,n)\n",
    "    return matrix_"
   ]
  },
  {
   "cell_type": "code",
   "execution_count": 52,
   "metadata": {},
   "outputs": [],
   "source": [
    "def mat1(k,A,nboxes,n):\n",
    "    matrix_ = np.block([\n",
    "        [mat_D,np.dot(mat_L(k,A,nboxes,n),mat_S(k,A,nboxes,n))],\n",
    "        [mat_R(k,A,nboxes,n), -np.identity(k*nboxes)]\n",
    "    ])\n",
    "    return matrix_"
   ]
  },
  {
   "cell_type": "code",
   "execution_count": 69,
   "metadata": {},
   "outputs": [],
   "source": [
    "def mat2(k,A,nboxes,n):\n",
    "    matrix_ = np.block([\n",
    "        [mat_D,                mat_L(k,A,nboxes,n),             np.zeros((n,k*nboxes))],\n",
    "        [mat_R(k,A,nboxes,n),  np.zeros((k*nboxes,k*nboxes)),     -np.identity(k*nboxes)],\n",
    "        [np.zeros((k*nboxes,n)), -np.identity(k*nboxes), mat_S(k,A,nboxes,n) ]\n",
    "    ])\n",
    "    return matrix_"
   ]
  },
  {
   "cell_type": "code",
   "execution_count": 77,
   "metadata": {},
   "outputs": [],
   "source": [
    "import scipy\n",
    "import scipy.linalg \n",
    "_,L1,U1 = scipy.linalg.lu(A)"
   ]
  },
  {
   "cell_type": "code",
   "execution_count": 78,
   "metadata": {},
   "outputs": [],
   "source": [
    "det1 = 0\n",
    "for i in range(n):\n",
    "    det1 += math.log(U1[i,i])"
   ]
  },
  {
   "cell_type": "code",
   "execution_count": 79,
   "metadata": {},
   "outputs": [
    {
     "data": {
      "text/plain": [
       "-943.2573345400157"
      ]
     },
     "execution_count": 79,
     "metadata": {},
     "output_type": "execute_result"
    }
   ],
   "source": [
    "det1"
   ]
  },
  {
   "cell_type": "code",
   "execution_count": 54,
   "metadata": {},
   "outputs": [],
   "source": [
    "def det_mat1(k,A,nboxes,n):\n",
    "    _,L2,U2 = scipy.linalg.lu(mat1(k,A,nboxes,n))\n",
    "    det2 = 0\n",
    "    for i in range(n+k*nboxes):\n",
    "        det2 +=math.log(abs(U2[i,i])) \n",
    "    return det2"
   ]
  },
  {
   "cell_type": "code",
   "execution_count": 70,
   "metadata": {},
   "outputs": [],
   "source": [
    "def det_mat2(k,A,nboxes,n):\n",
    "    _,L2,U2 = scipy.linalg.lu(mat2(k,A,nboxes,n))\n",
    "    det2 = 0\n",
    "    for i in range(n+2*k*nboxes):\n",
    "        det2 +=math.log(abs(U2[i,i])) \n",
    "    return det2"
   ]
  },
  {
   "cell_type": "code",
   "execution_count": 61,
   "metadata": {},
   "outputs": [],
   "source": [
    "def det_mat(k,A,nboxes,n):\n",
    "    _,L2,U2 = scipy.linalg.lu(mat(k,A,nboxes,n))\n",
    "    det2 = 0\n",
    "    for i in range(n+k*nboxes):\n",
    "        det2 +=math.log(abs(U2[i,i])) \n",
    "    return det2"
   ]
  },
  {
   "cell_type": "code",
   "execution_count": 73,
   "metadata": {},
   "outputs": [],
   "source": [
    "l_det_mat2 = []\n",
    "for i in range(1,size+1):\n",
    "    l_det_mat2.append(det_mat2(i,A,nboxes,n))"
   ]
  },
  {
   "cell_type": "code",
   "execution_count": 88,
   "metadata": {},
   "outputs": [
    {
     "data": {
      "image/png": "[encoded data removed]",
      "text/plain": [
       "<Figure size 432x288 with 1 Axes>"
      ]
     },
     "metadata": {},
     "output_type": "display_data"
    }
   ],
   "source": [
    "k_det = np.linspace(1,size+1,size)\n",
    "\n",
    "l_det2 = []\n",
    "for i in range(size):\n",
    "    l_det2.append(det1)\n",
    "\n",
    "plt.plot(k_det,l_det_mat2,'k*',markersize=2)\n",
    "plt.plot(k_det,l_det2,'r*',markersize=2)\n",
    "\n",
    "plt.ylabel('logdet') \n",
    "plt.show()"
   ]
  },
  {
   "cell_type": "code",
   "execution_count": 89,
   "metadata": {},
   "outputs": [],
   "source": [
    "relative_error = []\n",
    "for i in range(size):\n",
    "    a = (l_det_mat2[i] - det1)/det1\n",
    "    b = abs(a)\n",
    "    if b == 0:\n",
    "        relative_error.append(-16)\n",
    "    else: \n",
    "        relative_error.append(np.log10(b))"
   ]
  },
  {
   "cell_type": "code",
   "execution_count": 91,
   "metadata": {},
   "outputs": [
    {
     "data": {
      "image/png": "[encoded data removed]",
      "text/plain": [
       "<Figure size 432x288 with 1 Axes>"
      ]
     },
     "metadata": {},
     "output_type": "display_data"
    }
   ],
   "source": [
    "k_det = np.linspace(1,size+1,size)\n",
    "plt.plot(k_det,relative_error,'k*',markersize=2)\n",
    "plt.ylabel('log10 of the relative error') \n",
    "plt.show()"
   ]
  },
  {
   "cell_type": "code",
   "execution_count": null,
   "metadata": {},
   "outputs": [],
   "source": []
  }
 ],
 "metadata": {
  "kernelspec": {
   "display_name": "Python 3",
   "language": "python",
   "name": "python3"
  },
  "language_info": {
   "codemirror_mode": {
    "name": "ipython",
    "version": 3
   },
   "file_extension": ".py",
   "mimetype": "text/x-python",
   "name": "python",
   "nbconvert_exporter": "python",
   "pygments_lexer": "ipython3",
   "version": "3.7.0"
  }
 },
 "nbformat": 4,
 "nbformat_minor": 2
}
