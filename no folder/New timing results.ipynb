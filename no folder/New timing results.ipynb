{
 "cells": [
  {
   "cell_type": "markdown",
   "metadata": {},
   "source": [
    "# New timing result of computing the log determinant of the matrix "
   ]
  },
  {
   "cell_type": "markdown",
   "metadata": {},
   "source": [
    "### The matrix is generated from octree reordered Helmholtz Single Layer with the different refinement level. Here, we choose the refinement level as 3 and 4."
   ]
  },
  {
   "cell_type": "code",
   "execution_count": 1,
   "metadata": {},
   "outputs": [
    {
     "data": {
      "text/plain": [
       "<StreamHandler stderr (DEBUG)>"
      ]
     },
     "execution_count": 1,
     "metadata": {},
     "output_type": "execute_result"
    }
   ],
   "source": [
    "import bempp.api\n",
    "import numpy as np\n",
    "import scipy\n",
    "import time\n",
    "import math\n",
    "import scipy.linalg \n",
    "import scipy.linalg.interpolative as sli\n",
    "%matplotlib inline\n",
    "from matplotlib import pyplot as plt\n",
    "bempp.api.enable_console_logging()"
   ]
  },
  {
   "cell_type": "code",
   "execution_count": 12,
   "metadata": {},
   "outputs": [
    {
     "name": "stdout",
     "output_type": "stream",
     "text": [
      "Number of elements: 512\n"
     ]
    }
   ],
   "source": [
    "grid = bempp.api.shapes.regular_sphere(3)\n",
    "print(f\"Number of elements: {grid.number_of_elements}\")"
   ]
  },
  {
   "cell_type": "code",
   "execution_count": 13,
   "metadata": {},
   "outputs": [],
   "source": [
    "space = bempp.api.function_space(grid, \"DP\", 0)"
   ]
  },
  {
   "cell_type": "code",
   "execution_count": 14,
   "metadata": {},
   "outputs": [
    {
     "name": "stderr",
     "output_type": "stream",
     "text": [
      "root:INFO: Regular kernel vector length: 8 (double precision)\n",
      "root:INFO: Regular kernel runtime [ms]: 4.2601439999999995\n",
      "root:INFO: Singular kernel runtime [ms]: 8.710688\n"
     ]
    }
   ],
   "source": [
    "mat = bempp.api.operators.boundary.laplace.single_layer(space, space, space).weak_form().A"
   ]
  },
  {
   "cell_type": "code",
   "execution_count": 15,
   "metadata": {},
   "outputs": [],
   "source": [
    "from bempp.api.utils import Octree\n",
    "\n",
    "vertices = np.empty((3,space.global_dof_count),np.float64)\n",
    "for index in range(space.global_dof_count):\n",
    "    elem,local_id = space.global2local[index][0]\n",
    "    edge_id = grid.element_edges[local_id,elem]\n",
    "    vertices[:,index] = .5*(grid.vertices[:,grid.edges[0,edge_id]] + grid.vertices[:,grid.edges[1,edge_id]])\n",
    "    \n",
    "box = grid.bounding_box\n",
    "tree = Octree(box[:,0],box[:,1],2,vertices)"
   ]
  },
  {
   "cell_type": "code",
   "execution_count": 16,
   "metadata": {},
   "outputs": [],
   "source": [
    "sorted_indices = tree.sorted_indices"
   ]
  },
  {
   "cell_type": "markdown",
   "metadata": {},
   "source": [
    "Construct the original matrix"
   ]
  },
  {
   "cell_type": "code",
   "execution_count": 17,
   "metadata": {},
   "outputs": [],
   "source": [
    "n = grid.number_of_elements\n",
    "nboxes = 8\n",
    "size = n // nboxes"
   ]
  },
  {
   "cell_type": "code",
   "execution_count": 18,
   "metadata": {},
   "outputs": [],
   "source": [
    "sorted_mat = mat[:, sorted_indices][sorted_indices, :]\n",
    "sorted_mat_inf = np.zeros((n,n))\n",
    "sorted_mat_inf[0:n//2,0:n//2] = sorted_mat[0:n//2,0:n//2]\n",
    "sorted_mat_inf[n//2:,n//2:] = sorted_mat[n//2:,n//2:]"
   ]
  },
  {
   "cell_type": "code",
   "execution_count": 9,
   "metadata": {},
   "outputs": [
    {
     "name": "stdout",
     "output_type": "stream",
     "text": [
      "-19481.394520096404\n"
     ]
    }
   ],
   "source": [
    "\"\"\"Level 4 exact value\"\"\"\n",
    "P4,L4,U4 = scipy.linalg.lu(sorted_mat)\n",
    "\n",
    "logdet4 = 0\n",
    "for i in range(n):\n",
    "    logdet4 += math.log(abs(U4[i,i]))\n",
    "print (logdet4)"
   ]
  },
  {
   "cell_type": "code",
   "execution_count": 10,
   "metadata": {},
   "outputs": [
    {
     "name": "stdout",
     "output_type": "stream",
     "text": [
      "-19459.331005460703\n"
     ]
    }
   ],
   "source": [
    "\"\"\"Level 4 exact value of $A_{\\infty}$\"\"\"\n",
    "P44,L44,U44 = scipy.linalg.lu(sorted_mat_inf)\n",
    "\n",
    "logdet44 = 0\n",
    "for i in range(n):\n",
    "    logdet44 += math.log(abs(U44[i,i]))\n",
    "print (logdet44)"
   ]
  },
  {
   "cell_type": "code",
   "execution_count": 11,
   "metadata": {},
   "outputs": [
    {
     "data": {
      "text/plain": [
       "22.063514635701722"
      ]
     },
     "execution_count": 11,
     "metadata": {},
     "output_type": "execute_result"
    }
   ],
   "source": [
    "logdet44 - logdet4"
   ]
  },
  {
   "cell_type": "code",
   "execution_count": 19,
   "metadata": {},
   "outputs": [
    {
     "name": "stdout",
     "output_type": "stream",
     "text": [
      "-3810.7635046755086\n"
     ]
    }
   ],
   "source": [
    "\"\"\"Level 3 exact value\"\"\"\n",
    "P3,L3,U3 = scipy.linalg.lu(sorted_mat)\n",
    "\n",
    "logdet3 = 0\n",
    "for i in range(n):\n",
    "    logdet3 += math.log(abs(U3[i,i]))\n",
    "print (logdet3)"
   ]
  },
  {
   "cell_type": "code",
   "execution_count": 20,
   "metadata": {},
   "outputs": [
    {
     "name": "stdout",
     "output_type": "stream",
     "text": [
      "-3799.9547269728605\n"
     ]
    }
   ],
   "source": [
    "\"\"\"Level 3 exact value of $A_{\\infty}$\"\"\"\n",
    "P33,L33,U33 = scipy.linalg.lu(sorted_mat_inf)\n",
    "\n",
    "logdet33 = 0\n",
    "for i in range(n):\n",
    "    logdet33 += math.log(abs(U33[i,i]))\n",
    "print (logdet33)"
   ]
  },
  {
   "cell_type": "code",
   "execution_count": 21,
   "metadata": {},
   "outputs": [
    {
     "data": {
      "text/plain": [
       "10.808777702648058"
      ]
     },
     "execution_count": 21,
     "metadata": {},
     "output_type": "execute_result"
    }
   ],
   "source": [
    "logdet33 - logdet3"
   ]
  },
  {
   "cell_type": "code",
   "execution_count": 11,
   "metadata": {},
   "outputs": [],
   "source": [
    "def get_box(nx, ny, sorted_mat, nboxes, n):\n",
    "    \"\"\"Return the content of a given box\"\"\"\n",
    "    xrange = [nx * size, (1 + nx) * size] \n",
    "    yrange = [ny * size, (1 + ny) * size] \n",
    "    return sorted_mat[xrange[0]:xrange[1], yrange[0]:yrange[1]] "
   ]
  },
  {
   "cell_type": "markdown",
   "metadata": {},
   "source": [
    " Return $A_{i}$, which is the combination of the $i$th off-diagonal block row and the transpose of the $i$th off-diagonal block column."
   ]
  },
  {
   "cell_type": "code",
   "execution_count": 12,
   "metadata": {},
   "outputs": [],
   "source": [
    "def get_con_box(i,sorted_mat,nboxes,n):\n",
    "    BB = sorted_mat[i * size : (i + 1) * size, :]\n",
    "    B = np.delete(BB, np.s_[i*size : (i+1)*size], axis = 1)\n",
    "    \n",
    "    CC = np.transpose(sorted_mat[:, i * size : (i + 1) * size])\n",
    "    C = np.delete(CC, np.s_[i*size : (i+1)*size], axis = 1)\n",
    "    return np.hstack((B,C))"
   ]
  },
  {
   "cell_type": "markdown",
   "metadata": {},
   "source": [
    " Return $L_{i}$ and $R_{j}$ inside of $A_{ij} = L_{i}S_{ij}R_{j}$, where $R_{j} = L_{j}^{T}$ and $L_{i}$ is computed from the two-sided interpolated decompositon of $A_{i}$, which writes $A_{i} = L_{i}S_{i}V_{i}$. Also return the matrix S constructed by using the original matrix and the index set which is generated when computing $L_{i}$.\n"
   ]
  },
  {
   "cell_type": "code",
   "execution_count": 69,
   "metadata": {},
   "outputs": [],
   "source": [
    "def L(i,k,sorted_mat,nboxes,n):\n",
    "    idx1,proj1 = sli.interp_decomp(get_con_box(i,sorted_mat,nboxes,n), k, rand=False)\n",
    "    B1 = sli.reconstruct_skel_matrix(get_con_box(i,sorted_mat,nboxes,n),k,idx1)\n",
    "    B1_trans = np.transpose(B1)\n",
    "    \n",
    "    idx2,proj2 = sli.interp_decomp(B1_trans, k, rand = False)\n",
    "    P2_trans = sli.reconstruct_interp_matrix(idx2,proj2)\n",
    "\n",
    "    P2 = np.transpose(P2_trans)\n",
    "    return P2,idx2"
   ]
  },
  {
   "cell_type": "code",
   "execution_count": 53,
   "metadata": {},
   "outputs": [],
   "source": [
    "def index_set(k,sorted_mat,nboxes,n):\n",
    "    l = []\n",
    "    for i in range(nboxes):\n",
    "        l.append(L(i,k,sorted_mat,nboxes,n)[1][0:k])\n",
    "    return l"
   ]
  },
  {
   "cell_type": "code",
   "execution_count": 54,
   "metadata": {},
   "outputs": [],
   "source": [
    "def S(k,sorted_mat,nboxes,n):\n",
    "    ll = index_set(k,sorted_mat,nboxes,n)\n",
    "    mat = np.zeros((k*nboxes,k*nboxes))\n",
    "    for i in range(nboxes):\n",
    "        for j in range(nboxes):\n",
    "            if i != j:\n",
    "                mat_ =  get_box(i,j,sorted_mat,nboxes,n)[ll[i],:]\n",
    "                mat[i*k:(i+1)*k,j*k:(j+1)*k] = mat_[:,ll[j]]\n",
    "    return mat"
   ]
  },
  {
   "cell_type": "code",
   "execution_count": 55,
   "metadata": {},
   "outputs": [],
   "source": [
    "def R(i,k,sorted_mat,nboxes,n):\n",
    "    RR = np.transpose(L(i,k,sorted_mat,nboxes,n)[0])\n",
    "    return RR"
   ]
  },
  {
   "cell_type": "markdown",
   "metadata": {},
   "source": [
    "#### Construct the structured matrix and its LU decomposition\n",
    "$\\tilde{A} = \n",
    "\\begin{bmatrix}\n",
    "    D & L & 0 \\\\\n",
    "    R & 0 & -I \\\\\n",
    "    0 & -I & S\n",
    "\\end{bmatrix}\n",
    "= \\begin{bmatrix}\n",
    "    I & 0 & 0 \\\\\n",
    "    RD^{-1} & I & 0 \\\\\n",
    "    0 & (RD^{-1}L)^{-1} & I\n",
    "\\end{bmatrix}  \\begin{bmatrix}\n",
    "    D & L & 0 \\\\\n",
    "    0 & -RD^{-1}L & -I \\\\\n",
    "    0 & 0 & S+(RD^{-1}L)^{-1}\n",
    "\\end{bmatrix}$\n",
    "\n",
    "Then, we do the LU decomposition on each diagonal block's diagonal block (i.e. $A_{ii}$ and $-R_{i}A_{ii}^{-1}L_{i}$) and $S+(RD^{-1}L)^{-1}$."
   ]
  },
  {
   "cell_type": "markdown",
   "metadata": {},
   "source": [
    "#### Construct the matrix $S+(RD^{-1}L)^{-1}$ first"
   ]
  },
  {
   "cell_type": "code",
   "execution_count": 56,
   "metadata": {},
   "outputs": [],
   "source": [
    "def new_S(k,A,nboxes,n):\n",
    "    mat_ = S(k,sorted_mat,nboxes,n)\n",
    "    for i in range(nboxes):\n",
    "        mat_[i*k:(i+1)*k,i*k:(i+1)*k] = np.linalg.inv(R(i,k,sorted_mat,nboxes,n) @ np.linalg.inv(get_box(i,i,sorted_mat,nboxes,n)) @ L(i,k,sorted_mat,nboxes,n)[0])\n",
    "    return mat_"
   ]
  },
  {
   "cell_type": "markdown",
   "metadata": {},
   "source": [
    "#### Compute the log determinant of the structured matrix $\\tilde{A}$"
   ]
  },
  {
   "cell_type": "code",
   "execution_count": 57,
   "metadata": {},
   "outputs": [],
   "source": [
    "def logdet_method2(k,sorted_mat,nboxes,n):\n",
    "    a1 = 0\n",
    "    p1,l1,u1 = scipy.linalg.lu(new_S(k,sorted_mat,nboxes,n))\n",
    "    for i in range(k*nboxes):\n",
    "        a1 += math.log(abs(u1[i,i]))\n",
    "        \n",
    "    a2 = 0\n",
    "    for i in range (nboxes):\n",
    "        p2,l2,u2 = scipy.linalg.lu(get_box(i,i,sorted_mat,nboxes,n))\n",
    "        for j in range(size):\n",
    "            a2 +=math.log(abs(u2[j,j]))\n",
    "            \n",
    "    a3 = 0\n",
    "    for i in range(nboxes):\n",
    "        p3,l3,u3 = scipy.linalg.lu(-R(i,k,sorted_mat,nboxes,n)@np.linalg.inv(get_box(i,i,sorted_mat,nboxes,n)) @L(i,k,sorted_mat,nboxes,n)[0] )\n",
    "        for j in range(k):\n",
    "            a3 += math.log(abs(u3[j,j]))\n",
    "    return a1 + a2 + a3"
   ]
  },
  {
   "cell_type": "markdown",
   "metadata": {},
   "source": [
    "Compute the time under different rank"
   ]
  },
  {
   "cell_type": "code",
   "execution_count": 58,
   "metadata": {},
   "outputs": [],
   "source": [
    "def time_logdet(k,sorted_mat,nboxes,n):\n",
    "    start_time = time.time()\n",
    "    a = logdet_method2(k,sorted_mat,nboxes,n)\n",
    "    end_time = time.time()\n",
    "    b = end_time - start_time\n",
    "    return b"
   ]
  },
  {
   "cell_type": "markdown",
   "metadata": {},
   "source": [
    "#### Level 4 time"
   ]
  },
  {
   "cell_type": "code",
   "execution_count": 33,
   "metadata": {},
   "outputs": [],
   "source": [
    "l_time = []\n",
    "for i in range(1,size+1):\n",
    "    l_time.append(time_logdet(i,sorted_mat,nboxes,n))"
   ]
  },
  {
   "cell_type": "markdown",
   "metadata": {},
   "source": [
    "#### Level 3 time"
   ]
  },
  {
   "cell_type": "code",
   "execution_count": 45,
   "metadata": {},
   "outputs": [],
   "source": [
    "l_time3 = []\n",
    "for i in range(1,size+1):\n",
    "    l_time3.append(time_logdet(i,sorted_mat,nboxes,n))"
   ]
  },
  {
   "cell_type": "code",
   "execution_count": 59,
   "metadata": {},
   "outputs": [],
   "source": [
    "\"\"\"Random case\"\"\"\n",
    "l_time_r3 = []\n",
    "for i in range(1,size+1):\n",
    "    l_time_r3.append(time_logdet(i,sorted_mat,nboxes,n))"
   ]
  },
  {
   "cell_type": "code",
   "execution_count": 60,
   "metadata": {},
   "outputs": [],
   "source": [
    "\"\"\"random case relative error\"\"\"\n",
    "rl3_det = []\n",
    "for i in range(1,size+1):\n",
    "    rl3_det.append(logdet_method2(i,sorted_mat,nboxes,n))\n",
    "    \n",
    "relative_error_r3 = []\n",
    "for i in range(size):\n",
    "    a = abs((rl3_det[i] - logdet3)/logdet3)\n",
    "    relative_error_r3.append(np.log10(a))"
   ]
  },
  {
   "cell_type": "code",
   "execution_count": 67,
   "metadata": {},
   "outputs": [
    {
     "data": {
      "image/png": "[encoded data removed]",
      "text/plain": [
       "<Figure size 432x288 with 1 Axes>"
      ]
     },
     "metadata": {
      "needs_background": "light"
     },
     "output_type": "display_data"
    }
   ],
   "source": [
    "k_time = np.linspace(1,size+1,size)\n",
    "\n",
    "plt.plot(k_time,l_time_r3,color='grey',linewidth=1.0,linestyle='--')\n",
    "plt.plot(k_time,l_time3,color='black',linewidth=1.0,linestyle='--')\n",
    "\n",
    "plt.legend(['Random','No random'])\n",
    "\n",
    "plt.ylabel('Running time')\n",
    "plt.xlabel('rank')\n",
    "plt.show()"
   ]
  },
  {
   "cell_type": "code",
   "execution_count": 68,
   "metadata": {},
   "outputs": [
    {
     "data": {
      "image/png": "[encoded data removed]",
      "text/plain": [
       "<Figure size 432x288 with 1 Axes>"
      ]
     },
     "metadata": {
      "needs_background": "light"
     },
     "output_type": "display_data"
    }
   ],
   "source": [
    "k_det = np.linspace(1,size+1,size)\n",
    "\n",
    "plt.plot(k_det,relative_error_r3,color='grey',linewidth=1.0,linestyle='--')\n",
    "plt.plot(k_det,relative_error3,color='black',linewidth=1.0,linestyle='--')\n",
    "\n",
    "plt.legend(['Random','No random'])\n",
    "\n",
    "plt.ylabel('log10 of the relative error')\n",
    "plt.xlabel('rank')\n",
    "plt.show()"
   ]
  },
  {
   "cell_type": "code",
   "execution_count": 51,
   "metadata": {},
   "outputs": [
    {
     "data": {
      "image/png": "[encoded data removed]",
      "text/plain": [
       "<Figure size 432x288 with 1 Axes>"
      ]
     },
     "metadata": {
      "needs_background": "light"
     },
     "output_type": "display_data"
    }
   ],
   "source": [
    "k_time = np.linspace(1,size+1,size)\n",
    "\n",
    "plt.plot(k_time,l_time3,color='orange',linewidth=1.0,linestyle='--')\n",
    "plt.plot(k_time,l_time,color='red',linewidth=1.0,linestyle='--')\n",
    "\n",
    "plt.legend(['level 3','level 4'])\n",
    "\n",
    "plt.ylabel('Running time')\n",
    "plt.xlabel('rank')\n",
    "plt.show()"
   ]
  },
  {
   "cell_type": "markdown",
   "metadata": {},
   "source": [
    "#### ***************Note that when I set the refinement level as 5, then the size of the matrix becomes $8192*8192$, then the computing time is at most 130 seconds."
   ]
  },
  {
   "cell_type": "markdown",
   "metadata": {},
   "source": [
    "Compute the log determinant of the original matrix"
   ]
  },
  {
   "cell_type": "markdown",
   "metadata": {},
   "source": [
    "#### Level 4 exact value"
   ]
  },
  {
   "cell_type": "code",
   "execution_count": 35,
   "metadata": {},
   "outputs": [],
   "source": [
    "P4,L4,U4 = scipy.linalg.lu(sorted_mat)\n",
    "\n",
    "logdet4 = 0\n",
    "for i in range(n):\n",
    "    logdet4 += math.log(U4[i,i])\n",
    "    \n",
    "l4_det_exact = []\n",
    "for i in range(size):\n",
    "    l4_det_exact.append(logdet4)"
   ]
  },
  {
   "cell_type": "markdown",
   "metadata": {},
   "source": [
    "#### Level 3 exact value"
   ]
  },
  {
   "cell_type": "code",
   "execution_count": 47,
   "metadata": {},
   "outputs": [],
   "source": [
    "P3,L3,U3 = scipy.linalg.lu(sorted_mat)\n",
    "\n",
    "logdet3 = 0\n",
    "for i in range(n):\n",
    "    logdet3 += math.log(U3[i,i])\n",
    "l3_det_exact = []\n",
    "for i in range(size):\n",
    "    l3_det_exact.append(logdet3)"
   ]
  },
  {
   "cell_type": "markdown",
   "metadata": {},
   "source": [
    "#### Level 3 approximated value"
   ]
  },
  {
   "cell_type": "code",
   "execution_count": 48,
   "metadata": {},
   "outputs": [],
   "source": [
    "l3_det = []\n",
    "for i in range(1,size+1):\n",
    "    l3_det.append(logdet_method2(i,sorted_mat,nboxes,n))"
   ]
  },
  {
   "cell_type": "markdown",
   "metadata": {},
   "source": [
    "#### Level 4 approximated value"
   ]
  },
  {
   "cell_type": "code",
   "execution_count": 36,
   "metadata": {},
   "outputs": [],
   "source": [
    "l4_det = []\n",
    "for i in range(1,size+1):\n",
    "    l4_det.append(logdet_method2(i,sorted_mat,nboxes,n))"
   ]
  },
  {
   "cell_type": "markdown",
   "metadata": {},
   "source": [
    "#### Level 3 relative error"
   ]
  },
  {
   "cell_type": "code",
   "execution_count": 49,
   "metadata": {},
   "outputs": [],
   "source": [
    "relative_error3 = []\n",
    "for i in range(size):\n",
    "    a = abs((l3_det[i] - logdet3)/logdet3)\n",
    "    relative_error3.append(np.log10(a))"
   ]
  },
  {
   "cell_type": "markdown",
   "metadata": {},
   "source": [
    "#### Level 4 relative error"
   ]
  },
  {
   "cell_type": "code",
   "execution_count": 37,
   "metadata": {},
   "outputs": [],
   "source": [
    "relative_error4 = []\n",
    "for i in range(size):\n",
    "    a = abs((l4_det[i] - logdet4)/logdet4)\n",
    "    relative_error4.append(np.log10(a))"
   ]
  },
  {
   "cell_type": "code",
   "execution_count": 50,
   "metadata": {},
   "outputs": [
    {
     "data": {
      "image/png": "[encoded data removed]",
      "text/plain": [
       "<Figure size 432x288 with 1 Axes>"
      ]
     },
     "metadata": {
      "needs_background": "light"
     },
     "output_type": "display_data"
    }
   ],
   "source": [
    "k_det = np.linspace(1,size+1,size)\n",
    "\n",
    "plt.plot(k_det,relative_error3,color='orange',linewidth=1.0,linestyle='--')\n",
    "plt.plot(k_det,relative_error4,color='red',linewidth=1.0,linestyle='--')\n",
    "\n",
    "\n",
    "plt.legend(['level 3', 'level 4'])\n",
    "\n",
    "plt.ylabel('log10 of the relative error')\n",
    "plt.xlabel('rank')\n",
    "plt.show()"
   ]
  },
  {
   "cell_type": "code",
   "execution_count": null,
   "metadata": {},
   "outputs": [],
   "source": []
  }
 ],
 "metadata": {
  "kernelspec": {
   "display_name": "Python 3",
   "language": "python",
   "name": "python3"
  },
  "language_info": {
   "codemirror_mode": {
    "name": "ipython",
    "version": 3
   },
   "file_extension": ".py",
   "mimetype": "text/x-python",
   "name": "python",
   "nbconvert_exporter": "python",
   "pygments_lexer": "ipython3",
   "version": "3.7.0"
  }
 },
 "nbformat": 4,
 "nbformat_minor": 2
}
