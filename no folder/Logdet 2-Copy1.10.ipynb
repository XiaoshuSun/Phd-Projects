{
 "cells": [
  {
   "cell_type": "code",
   "execution_count": 1,
   "metadata": {},
   "outputs": [],
   "source": [
    "import numpy as np\n",
    "from scipy.linalg import qr\n",
    "from scipy.linalg import svdvals\n",
    "from scipy.linalg import pinv\n",
    "from scipy.linalg.interpolative import interp_decomp\n",
    "from matplotlib import pyplot as plt\n",
    "import scipy.linalg.interpolative as sli\n",
    "import scipy\n",
    "import scipy.linalg \n",
    "import math\n",
    "import time\n",
    "plt.rcParams['figure.figsize'] = [10, 8]\n",
    "\n",
    "%matplotlib inline"
   ]
  },
  {
   "cell_type": "code",
   "execution_count": 15,
   "metadata": {},
   "outputs": [],
   "source": [
    "import numpy as np\n",
    "n = 2000\n",
    "x = np.linspace(-1, 1, n)\n",
    "eps = 0.1\n",
    "\n",
    "def fun(x, y):\n",
    "    \"\"\"Evaluate a kernel function on a tensor grid\"\"\"\n",
    "    xx = x.reshape(n,1)\n",
    "    yy = y.reshape(1,n)\n",
    "    return 1./(eps + np.abs(xx-yy))\n",
    "\n",
    "A = fun(x, x)\n",
    "nboxes = 40\n",
    "size = n // nboxes"
   ]
  },
  {
   "cell_type": "code",
   "execution_count": 3,
   "metadata": {},
   "outputs": [],
   "source": [
    "def get_box(nx, ny, A, nboxes, n):\n",
    "    \"\"\"Return the content of a given box\"\"\"\n",
    "    size = n // nboxes\n",
    "    xrange = [nx * size, (1 + nx) * size] \n",
    "    yrange = [ny * size, (1 + ny) * size] \n",
    "    return A[xrange[0]:xrange[1], yrange[0]:yrange[1]] "
   ]
  },
  {
   "cell_type": "code",
   "execution_count": 4,
   "metadata": {},
   "outputs": [],
   "source": [
    "def get_con_box(i,A,nboxes,n):\n",
    "    \"\"\"Return Ai\"\"\"\n",
    "    BB = A[i * size : (i + 1) * size, :]\n",
    "    B = np.delete(BB, np.s_[i*size : (i+1)*size], axis = 1)\n",
    "    \n",
    "    CC = np.transpose(A[:, i * size : (i + 1) * size])\n",
    "    C = np.delete(CC, np.s_[i*size : (i+1)*size], axis = 1)\n",
    "    return np.hstack((B,C))"
   ]
  },
  {
   "cell_type": "code",
   "execution_count": 21,
   "metadata": {},
   "outputs": [],
   "source": [
    "def plot_box_ranks(A, nboxes, n, tol=1E-8):\n",
    "    \"\"\"Plot rank of the boxes.\"\"\"\n",
    "    from scipy.linalg import svdvals\n",
    "    ranks = np.zeros((nboxes,nboxes),dtype='int32')\n",
    "    for i in range(nboxes):\n",
    "        for j in range(nboxes):\n",
    "            m = get_box(i, j, A, nboxes, n)\n",
    "            s = svdvals(m)\n",
    "            ranks[i,j] = np.sum(s>tol)\n",
    "    print(ranks)\n",
    "    plt.imshow(ranks, cmap='Accent')\n",
    "    plt.colorbar()"
   ]
  },
  {
   "cell_type": "code",
   "execution_count": 22,
   "metadata": {},
   "outputs": [
    {
     "name": "stdout",
     "output_type": "stream",
     "text": [
      "[[50  6  5 ...  3  3  3]\n",
      " [ 6 50  6 ...  3  3  3]\n",
      " [ 5  6 50 ...  3  3  3]\n",
      " ...\n",
      " [ 3  3  3 ... 50  6  5]\n",
      " [ 3  3  3 ...  6 50  6]\n",
      " [ 3  3  3 ...  5  6 50]]\n"
     ]
    },
    {
     "data": {
      "image/png": "[encoded data removed]",
      "text/plain": [
       "<Figure size 432x288 with 2 Axes>"
      ]
     },
     "metadata": {
      "needs_background": "light"
     },
     "output_type": "display_data"
    }
   ],
   "source": [
    "plot_box_ranks(A,nboxes,n)"
   ]
  },
  {
   "cell_type": "markdown",
   "metadata": {},
   "source": [
    "#### Construct $L_{i}$ and the index set from each $L_{i}$. Then using the index set to construct the matrix $S$ where $A = D + LSR$"
   ]
  },
  {
   "cell_type": "code",
   "execution_count": 24,
   "metadata": {},
   "outputs": [],
   "source": [
    "def L(i,k,A,nboxes,n):\n",
    "    idx1,proj1 = sli.interp_decomp(get_con_box(i,A,nboxes,n), k, rand = False)\n",
    "    B1 = sli.reconstruct_skel_matrix(get_con_box(i,A,nboxes,n),k,idx1)\n",
    "    B1_trans = np.transpose(B1)\n",
    "    \n",
    "    idx2,proj2 = sli.interp_decomp(B1_trans, k, rand = False)\n",
    "    P2_trans = sli.reconstruct_interp_matrix(idx2,proj2)\n",
    "\n",
    "    P2 = np.transpose(P2_trans)\n",
    "    return P2,idx2"
   ]
  },
  {
   "cell_type": "code",
   "execution_count": 25,
   "metadata": {},
   "outputs": [],
   "source": [
    "def index_set(k,A,nboxes,n):\n",
    "    l = []\n",
    "    for i in range(nboxes):\n",
    "        l.append(L(i,k,A,nboxes,n)[1][0:k])\n",
    "    return l"
   ]
  },
  {
   "cell_type": "code",
   "execution_count": 26,
   "metadata": {},
   "outputs": [],
   "source": [
    "def SSS(k,A,nboxes,n):\n",
    "    ll = index_set(k,A,nboxes,n)\n",
    "    mat = np.zeros((k*nboxes,k*nboxes))\n",
    "    for i in range(nboxes):\n",
    "        for j in range(nboxes):\n",
    "            if i != j:\n",
    "                mat_ =  get_box(i,j,A,nboxes,n)[ll[i],:]\n",
    "                mat[i*k:(i+1)*k,j*k:(j+1)*k] = mat_[:,ll[j]]\n",
    "    return mat"
   ]
  },
  {
   "cell_type": "code",
   "execution_count": 27,
   "metadata": {},
   "outputs": [],
   "source": [
    "def R(i,k,A,nboxes,n):\n",
    "    RR = np.transpose(L(i,k,A,nboxes,n)[0])\n",
    "    return RR"
   ]
  },
  {
   "cell_type": "code",
   "execution_count": 28,
   "metadata": {},
   "outputs": [],
   "source": [
    "mat_D = np.zeros((n,n))\n",
    "for i in range (nboxes):\n",
    "    mat_D[i*size : (i + 1)*size, i*size : (i + 1)*size] = get_box(i,i,A,nboxes,n)"
   ]
  },
  {
   "cell_type": "code",
   "execution_count": 10,
   "metadata": {},
   "outputs": [],
   "source": [
    "def mat_L(k,A,nboxes,n): \n",
    "    matrix_= np.zeros((n, k*nboxes))\n",
    "    for i in range(nboxes):\n",
    "        matrix_[i*size : (i + 1)*size, i*k : (i + 1)*k] = L(i,k,A,nboxes,n)[0]\n",
    "    return matrix_"
   ]
  },
  {
   "cell_type": "code",
   "execution_count": 11,
   "metadata": {},
   "outputs": [],
   "source": [
    "def mat_R(k,A,nboxes,n): \n",
    "    matrix_= np.zeros((k*nboxes, n))\n",
    "    for i in range(nboxes):\n",
    "        matrix_[i*k : (i + 1)*k, i*size : (i + 1)*size] = R(i,k,A,nboxes,n)\n",
    "    return matrix_"
   ]
  },
  {
   "cell_type": "markdown",
   "metadata": {},
   "source": [
    "#### Compute the exact value of $\\log\\det(A)$"
   ]
  },
  {
   "cell_type": "code",
   "execution_count": 33,
   "metadata": {},
   "outputs": [
    {
     "name": "stdout",
     "output_type": "stream",
     "text": [
      "-3245.3450592397726\n"
     ]
    }
   ],
   "source": [
    "_,L1,U1 = scipy.linalg.lu(A)\n",
    "\n",
    "logdet = 0\n",
    "for i in range(n):\n",
    "    logdet += math.log(U1[i,i])\n",
    "print (logdet)"
   ]
  },
  {
   "cell_type": "markdown",
   "metadata": {},
   "source": [
    "#### Compute the approximation value by directly calculating the $LU$ decomposition of $\\tilde{A} = \n",
    "\\begin{bmatrix}\n",
    "    D & L & 0 \\\\\n",
    "    R & 0 & -I \\\\\n",
    "    0 & -I & S\n",
    "\\end{bmatrix}$"
   ]
  },
  {
   "cell_type": "code",
   "execution_count": 13,
   "metadata": {},
   "outputs": [],
   "source": [
    "def mat2(k,A,nboxes,n):\n",
    "    matrix_ = np.block([\n",
    "        [mat_D,                mat_L(k,A,nboxes,n),             np.zeros((n,k*nboxes))],\n",
    "        [mat_R(k,A,nboxes,n),  np.zeros((k*nboxes,k*nboxes)),     -np.identity(k*nboxes)],\n",
    "        [np.zeros((k*nboxes,n)), -np.identity(k*nboxes), SSS(k,A,nboxes,n) ]\n",
    "    ])\n",
    "    return matrix_"
   ]
  },
  {
   "cell_type": "code",
   "execution_count": 14,
   "metadata": {},
   "outputs": [
    {
     "name": "stdout",
     "output_type": "stream",
     "text": [
      "-3245.34505923978\n",
      "The running time is 2.852015 when we set the rank k to be 50.000000\n"
     ]
    }
   ],
   "source": [
    "def logdet_mat2(k,A,nboxes,n):\n",
    "    __,l,u = scipy.linalg.lu(mat2(k,A,nboxes,n))\n",
    "    det = 0\n",
    "    for i in range(n+2*k*nboxes):\n",
    "        det +=math.log(abs(u[i,i])) \n",
    "    return det\n",
    "\n",
    "start2 = time.time()\n",
    "print (logdet_mat2(size,A,nboxes,n))\n",
    "end2 = time.time()\n",
    "running_time = end2-start2\n",
    "print(\"The running time is %f when we set the rank k to be %f\" %(running_time,size))"
   ]
  },
  {
   "cell_type": "code",
   "execution_count": 17,
   "metadata": {},
   "outputs": [],
   "source": [
    "\"\"\"The list of the approximation value with different rank we set.\"\"\"\n",
    "l_logdet_mat2 = []\n",
    "for i in range(1,size+1):\n",
    "    l_logdet_mat2.append(logdet_mat2(i,A,nboxes,n))"
   ]
  },
  {
   "cell_type": "markdown",
   "metadata": {},
   "source": [
    "#### Plot these values with the exact value"
   ]
  },
  {
   "cell_type": "code",
   "execution_count": 16,
   "metadata": {},
   "outputs": [
    {
     "data": {
      "image/png": "[encoded data removed]",
      "text/plain": [
       "<Figure size 432x288 with 1 Axes>"
      ]
     },
     "metadata": {},
     "output_type": "display_data"
    }
   ],
   "source": [
    "k_det = np.linspace(1,size+1,size)\n",
    "\n",
    "l_det2 = []\n",
    "for i in range(size):\n",
    "    l_det2.append(logdet)\n",
    "\n",
    "plt.plot(k_det,l_logdet_mat2,'k*',markersize=2)\n",
    "plt.plot(k_det,l_det2,'r*',markersize=2)\n",
    "\n",
    "plt.ylabel('logdet') \n",
    "plt.show()"
   ]
  },
  {
   "cell_type": "markdown",
   "metadata": {},
   "source": [
    "#### Plot the relative error"
   ]
  },
  {
   "cell_type": "code",
   "execution_count": 63,
   "metadata": {},
   "outputs": [],
   "source": [
    "relative_error = []\n",
    "for i in range(size):\n",
    "    a = (l_logdet_mat2[i] - logdet)/logdet\n",
    "    b = abs(a)\n",
    "    if b == 0:\n",
    "        relative_error.append(-16)\n",
    "    else: \n",
    "        relative_error.append(np.log10(b))"
   ]
  },
  {
   "cell_type": "code",
   "execution_count": 64,
   "metadata": {},
   "outputs": [
    {
     "data": {
      "image/png": "[encoded data removed]",
      "text/plain": [
       "<Figure size 432x288 with 1 Axes>"
      ]
     },
     "metadata": {},
     "output_type": "display_data"
    }
   ],
   "source": [
    "k_det = np.linspace(1,size+1,size)\n",
    "plt.plot(k_det,relative_error,'k*',markersize=2)\n",
    "plt.ylabel('log10 of the relative error') \n",
    "plt.show()"
   ]
  },
  {
   "cell_type": "markdown",
   "metadata": {},
   "source": [
    "#### Method 2"
   ]
  },
  {
   "cell_type": "markdown",
   "metadata": {},
   "source": [
    "#### Construct the structured matrix and its LU decomposition\n",
    "$\\tilde{A} = \n",
    "\\begin{bmatrix}\n",
    "    D & L & 0 \\\\\n",
    "    R & 0 & -I \\\\\n",
    "    0 & -I & S\n",
    "\\end{bmatrix}\n",
    "= \\begin{bmatrix}\n",
    "    I & 0 & 0 \\\\\n",
    "    RD^{-1} & I & 0 \\\\\n",
    "    0 & (RD^{-1}L)^{-1} & I\n",
    "\\end{bmatrix}  \\begin{bmatrix}\n",
    "    D & L & 0 \\\\\n",
    "    0 & -RD^{-1}L & -I \\\\\n",
    "    0 & 0 & S+(RD^{-1}L)^{-1}\n",
    "\\end{bmatrix}$\n"
   ]
  },
  {
   "cell_type": "markdown",
   "metadata": {},
   "source": [
    "#### Construct $S+(RD^{-1}L)^{-1}$ first"
   ]
  },
  {
   "cell_type": "code",
   "execution_count": 29,
   "metadata": {},
   "outputs": [],
   "source": [
    "def new_S(k,A,nboxes,n):\n",
    "    mat_ = SSS(k,A,nboxes,n)\n",
    "    for i in range(nboxes):\n",
    "        mat_[i*k:(i+1)*k,i*k:(i+1)*k] = np.linalg.inv(R(i,k,A,nboxes,n) @ np.linalg.inv(get_box(i,i,A,nboxes,n)) @ L(i,k,A,nboxes,n)[0])\n",
    "    return mat_"
   ]
  },
  {
   "cell_type": "code",
   "execution_count": 30,
   "metadata": {},
   "outputs": [],
   "source": [
    "def logdet_method2(k,A,nboxes,n):\n",
    "    a1 = 0\n",
    "    p1,l1,u1 = scipy.linalg.lu(new_S(k,A,nboxes,n))\n",
    "    for i in range(k*nboxes):\n",
    "        a1 += math.log(abs(u1[i,i]))\n",
    "        \n",
    "    a2 = 0\n",
    "    for i in range (nboxes):\n",
    "        p2,l2,u2 = scipy.linalg.lu(get_box(i,i,A,nboxes,n))\n",
    "        for j in range(size):\n",
    "            a2 +=math.log(abs(u2[j,j]))\n",
    "            \n",
    "    a3 = 0\n",
    "    for i in range(nboxes):\n",
    "        p3,l3,u3 = scipy.linalg.lu(-R(i,k,A,nboxes,n)@np.linalg.inv(get_box(i,i,A,nboxes,n)) @L(i,k,A,nboxes,n)[0] )\n",
    "        for j in range(k):\n",
    "            a3 += math.log(abs(u3[j,j]))\n",
    "    return a1 + a2 + a3"
   ]
  },
  {
   "cell_type": "code",
   "execution_count": 38,
   "metadata": {},
   "outputs": [
    {
     "name": "stdout",
     "output_type": "stream",
     "text": [
      "-3245.3450592398513\n",
      "The running time is 3.002485 when we set the rank k to be 50.000000\n"
     ]
    }
   ],
   "source": [
    "start3 = time.time()\n",
    "print (logdet_method2(size,A,nboxes,n))\n",
    "end3 = time.time()\n",
    "running_time3 = end3-start3\n",
    "print(\"The running time is %f when we set the rank k to be %f\" %(running_time3,size))"
   ]
  },
  {
   "cell_type": "code",
   "execution_count": 31,
   "metadata": {},
   "outputs": [],
   "source": [
    "\"\"\"The list of the approximation value with different rank we set.\"\"\"\n",
    "l_logdet_method2 = []\n",
    "for i in range(1,size+1):\n",
    "    l_logdet_method2.append(logdet_method2(i,A,nboxes,n))"
   ]
  },
  {
   "cell_type": "code",
   "execution_count": 34,
   "metadata": {},
   "outputs": [
    {
     "data": {
      "image/png": "[encoded data removed]",
      "text/plain": [
       "<Figure size 432x288 with 1 Axes>"
      ]
     },
     "metadata": {
      "needs_background": "light"
     },
     "output_type": "display_data"
    }
   ],
   "source": [
    "k_det = np.linspace(1,size+1,size)\n",
    "\n",
    "l_det2 = []\n",
    "for i in range(size):\n",
    "    l_det2.append(logdet)\n",
    "\n",
    "plt.plot(k_det,l_logdet_method2,'k*',markersize=2)\n",
    "plt.plot(k_det,l_det2,'r*',markersize=2)\n",
    "\n",
    "plt.ylabel('logdet') \n",
    "plt.show()"
   ]
  },
  {
   "cell_type": "code",
   "execution_count": 35,
   "metadata": {},
   "outputs": [],
   "source": [
    "relative_error_2 = []\n",
    "for i in range(size):\n",
    "    a = (l_logdet_method2[i] - logdet)/logdet\n",
    "    b = abs(a)\n",
    "    if b == 0:\n",
    "        relative_error_2.append(-16)\n",
    "    else: \n",
    "        relative_error_2.append(np.log10(b))"
   ]
  },
  {
   "cell_type": "code",
   "execution_count": 36,
   "metadata": {},
   "outputs": [
    {
     "data": {
      "image/png": "[encoded data removed]",
      "text/plain": [
       "<Figure size 432x288 with 1 Axes>"
      ]
     },
     "metadata": {
      "needs_background": "light"
     },
     "output_type": "display_data"
    }
   ],
   "source": [
    "k_det = np.linspace(1,size+1,size)\n",
    "plt.plot(k_det,relative_error_2,'k*',markersize=2)\n",
    "plt.ylabel('log10 of the relative error') \n",
    "plt.show()"
   ]
  },
  {
   "cell_type": "code",
   "execution_count": null,
   "metadata": {},
   "outputs": [],
   "source": []
  }
 ],
 "metadata": {
  "kernelspec": {
   "display_name": "Python 3",
   "language": "python",
   "name": "python3"
  },
  "language_info": {
   "codemirror_mode": {
    "name": "ipython",
    "version": 3
   },
   "file_extension": ".py",
   "mimetype": "text/x-python",
   "name": "python",
   "nbconvert_exporter": "python",
   "pygments_lexer": "ipython3",
   "version": "3.7.0"
  }
 },
 "nbformat": 4,
 "nbformat_minor": 2
}
