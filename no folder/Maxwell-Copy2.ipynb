{
 "cells": [
  {
   "cell_type": "code",
   "execution_count": 6,
   "metadata": {},
   "outputs": [
    {
     "data": {
      "text/plain": [
       "<StreamHandler stderr (DEBUG)>"
      ]
     },
     "execution_count": 6,
     "metadata": {},
     "output_type": "execute_result"
    }
   ],
   "source": [
    "import bempp.api\n",
    "import numpy as np\n",
    "import scipy\n",
    "import math\n",
    "import time\n",
    "import scipy.linalg \n",
    "import scipy.linalg.interpolative as sli\n",
    "%matplotlib inline\n",
    "from matplotlib import pyplot as plt\n",
    "bempp.api.enable_console_logging()"
   ]
  },
  {
   "cell_type": "code",
   "execution_count": 35,
   "metadata": {},
   "outputs": [
    {
     "name": "stdout",
     "output_type": "stream",
     "text": [
      "Number of elements: 512\n"
     ]
    }
   ],
   "source": [
    "grid = bempp.api.shapes.regular_sphere(3)\n",
    "print(f\"Number of elements: {grid.number_of_elements}\")"
   ]
  },
  {
   "cell_type": "code",
   "execution_count": 36,
   "metadata": {},
   "outputs": [],
   "source": [
    "vert1 = grid.vertices.copy()    # Vertices of sphere1\n",
    "rows = vert1.shape[0]\n",
    "cols = vert1.shape[1]\n",
    "\n",
    "vert11 = np.zeros((rows,cols))  # Shift these vertices horizontally\n",
    "for i in range(cols):\n",
    "    vert11[0,i] = -1\n",
    "    \n",
    "vert2 = vert1 + vert11          # Construct the vertices for sphere2"
   ]
  },
  {
   "cell_type": "code",
   "execution_count": 37,
   "metadata": {},
   "outputs": [],
   "source": [
    "\"\"\"Create two unit spheres\"\"\"\n",
    "elt = grid.elements.copy()        # Elements of sphere1\n",
    "verts = np.hstack([vert1,vert2])  # Combine vertices of two spheres\n",
    "elts = np.hstack([elt,elt+cols])  # Combine elements of two spheres\n",
    "new_grid = bempp.api.grid.grid.Grid(verts, elts) # Create new grid"
   ]
  },
  {
   "cell_type": "code",
   "execution_count": 38,
   "metadata": {},
   "outputs": [],
   "source": [
    "wavenumber = 3*1j "
   ]
  },
  {
   "cell_type": "code",
   "execution_count": 39,
   "metadata": {},
   "outputs": [],
   "source": [
    "rwg = bempp.api.function_space(new_grid,'RWG',0) \n",
    "snc = bempp.api.function_space(new_grid,'SNC',0)"
   ]
  },
  {
   "cell_type": "code",
   "execution_count": 40,
   "metadata": {},
   "outputs": [
    {
     "name": "stderr",
     "output_type": "stream",
     "text": [
      "root:INFO: Regular kernel vector length: 8 (double precision)\n",
      "root:INFO: Regular kernel runtime [ms]: 69.76760800000001\n",
      "root:INFO: Singular kernel runtime [ms]: 176.013635\n"
     ]
    }
   ],
   "source": [
    "mat = bempp.api.operators.boundary.maxwell.electric_field(rwg, rwg, snc, wavenumber).weak_form().A"
   ]
  },
  {
   "cell_type": "code",
   "execution_count": 41,
   "metadata": {},
   "outputs": [
    {
     "data": {
      "text/plain": [
       "(1536, 1536)"
      ]
     },
     "execution_count": 41,
     "metadata": {},
     "output_type": "execute_result"
    }
   ],
   "source": [
    "mat.shape"
   ]
  },
  {
   "cell_type": "code",
   "execution_count": 42,
   "metadata": {},
   "outputs": [],
   "source": [
    "from bempp.api.utils import Octree # Construct the Octree in order to reorder the matrix\n",
    "\n",
    "vertices = np.empty((3,rwg.global_dof_count),np.float64)\n",
    "for index in range(rwg.global_dof_count):\n",
    "    elem,local_id = rwg.global2local[index][0]\n",
    "    edge_id = new_grid.element_edges[local_id,elem]\n",
    "    vertices[:,index] = .5*(new_grid.vertices[:,new_grid.edges[0,edge_id]] + new_grid.vertices[:,new_grid.edges[1,edge_id]])\n",
    "    \n",
    "box = new_grid.bounding_box\n",
    "tree = Octree(box[:,0],box[:,1],2,vertices)"
   ]
  },
  {
   "cell_type": "code",
   "execution_count": 43,
   "metadata": {},
   "outputs": [],
   "source": [
    "sorted_indices = tree.sorted_indices"
   ]
  },
  {
   "cell_type": "code",
   "execution_count": 44,
   "metadata": {},
   "outputs": [],
   "source": [
    "n = mat.shape[0]\n",
    "nboxes = 48\n",
    "size = n // nboxes"
   ]
  },
  {
   "cell_type": "code",
   "execution_count": 45,
   "metadata": {},
   "outputs": [],
   "source": [
    "sorted_mat = np.real(mat[:, sorted_indices][sorted_indices, :])\n",
    "\n",
    "sorted_mat_inf = np.zeros((n,n))\n",
    "sorted_mat_inf[0:n//2,0:n//2] = sorted_mat[0:n//2,0:n//2]\n",
    "sorted_mat_inf[n//2:,n//2:] = sorted_mat[n//2:,n//2:]"
   ]
  },
  {
   "cell_type": "code",
   "execution_count": 20,
   "metadata": {},
   "outputs": [],
   "source": [
    "Eigs1,evals1 = np.linalg.eig(sorted_mat)"
   ]
  },
  {
   "cell_type": "code",
   "execution_count": 21,
   "metadata": {},
   "outputs": [
    {
     "data": {
      "text/plain": [
       "<matplotlib.collections.PathCollection at 0x7f2e0c141898>"
      ]
     },
     "execution_count": 21,
     "metadata": {},
     "output_type": "execute_result"
    },
    {
     "data": {
      "image/png": "[encoded data removed]",
      "text/plain": [
       "<Figure size 432x288 with 1 Axes>"
      ]
     },
     "metadata": {
      "needs_background": "light"
     },
     "output_type": "display_data"
    }
   ],
   "source": [
    "plt.scatter(np.real(Eigs1),np.imag(Eigs1),color='b', s=100, alpha=.1, edgecolors='black')"
   ]
  },
  {
   "cell_type": "code",
   "execution_count": 22,
   "metadata": {},
   "outputs": [],
   "source": [
    "Eigs2,evals2 = np.linalg.eig(sorted_mat_inf)"
   ]
  },
  {
   "cell_type": "code",
   "execution_count": 23,
   "metadata": {},
   "outputs": [
    {
     "data": {
      "text/plain": [
       "Text(0.5, 1.0, 'EFIE_weak for $A_{\\\\infty}$')"
      ]
     },
     "execution_count": 23,
     "metadata": {},
     "output_type": "execute_result"
    },
    {
     "data": {
      "image/png": "[encoded data removed]",
      "text/plain": [
       "<Figure size 432x288 with 1 Axes>"
      ]
     },
     "metadata": {
      "needs_background": "light"
     },
     "output_type": "display_data"
    }
   ],
   "source": [
    "plt.scatter(np.real(Eigs2),np.imag(Eigs2),color='b', s=100, alpha=.1, edgecolors='black')\n",
    "plt.title('EFIE_weak for $A_{\\infty}$', fontsize = 18)"
   ]
  },
  {
   "cell_type": "code",
   "execution_count": 24,
   "metadata": {},
   "outputs": [],
   "source": [
    "def get_box(nx, ny, sorted_mat, nboxes, n):\n",
    "    \"\"\"Return the content of a given box\"\"\"\n",
    "    xrange = [nx * size, (1 + nx) * size] \n",
    "    yrange = [ny * size, (1 + ny) * size] \n",
    "    return sorted_mat[xrange[0]:xrange[1], yrange[0]:yrange[1]] "
   ]
  },
  {
   "cell_type": "code",
   "execution_count": 25,
   "metadata": {},
   "outputs": [],
   "source": [
    "def get_con_box(i,sorted_mat,nboxes,n):\n",
    "    BB = sorted_mat[i * size : (i + 1) * size, :]\n",
    "    B = np.delete(BB, np.s_[i*size : (i+1)*size], axis = 1)\n",
    "    \n",
    "    CC = np.transpose(sorted_mat[:, i * size : (i + 1) * size])\n",
    "    C = np.delete(CC, np.s_[i*size : (i+1)*size], axis = 1)\n",
    "    return np.hstack((B,C))"
   ]
  },
  {
   "cell_type": "code",
   "execution_count": 26,
   "metadata": {},
   "outputs": [],
   "source": [
    "def L(i,k,sorted_mat,nboxes,n):\n",
    "    idx1,proj1 = sli.interp_decomp(get_con_box(i,sorted_mat,nboxes,n), k, rand = False)\n",
    "    B1 = sli.reconstruct_skel_matrix(get_con_box(i,sorted_mat,nboxes,n),k,idx1)\n",
    "    B1_trans = np.transpose(B1)\n",
    "    \n",
    "    idx2,proj2 = sli.interp_decomp(B1_trans, k, rand = False)\n",
    "    P2_trans = sli.reconstruct_interp_matrix(idx2,proj2)\n",
    "\n",
    "    P2 = np.transpose(P2_trans)\n",
    "    return P2,idx2"
   ]
  },
  {
   "cell_type": "code",
   "execution_count": 27,
   "metadata": {},
   "outputs": [],
   "source": [
    "def index_set(k,sorted_mat,nboxes,n):\n",
    "    l = []\n",
    "    for i in range(nboxes):\n",
    "        l.append(L(i,k,sorted_mat,nboxes,n)[1][0:k])\n",
    "    return l"
   ]
  },
  {
   "cell_type": "code",
   "execution_count": 28,
   "metadata": {},
   "outputs": [],
   "source": [
    "def S(k,sorted_mat,nboxes,n):\n",
    "    ll = index_set(k,sorted_mat,nboxes,n)\n",
    "    mat__ = np.zeros((k*nboxes,k*nboxes))\n",
    "    for i in range(nboxes):\n",
    "        for j in range(nboxes):\n",
    "            if i != j:\n",
    "                mat_ = get_box(i,j,sorted_mat,nboxes,n)[ll[i],:]\n",
    "                mat__[i*k:(i+1)*k,j*k:(j+1)*k] = mat_[:,ll[j]]\n",
    "    return mat__"
   ]
  },
  {
   "cell_type": "code",
   "execution_count": 29,
   "metadata": {},
   "outputs": [],
   "source": [
    "def R(i,k,sorted_mat,nboxes,n):\n",
    "    RR = np.transpose(L(i,k,sorted_mat,nboxes,n)[0])\n",
    "    return RR"
   ]
  },
  {
   "cell_type": "code",
   "execution_count": 30,
   "metadata": {},
   "outputs": [],
   "source": [
    "def new_S(k,sorted_mat,nboxes,n):\n",
    "    mat_ = S(k,sorted_mat,nboxes,n)\n",
    "    for i in range(nboxes):\n",
    "        mat_[i*k:(i+1)*k,i*k:(i+1)*k] = np.linalg.inv(R(i,k,sorted_mat,nboxes,n) @ np.linalg.inv(get_box(i,i,sorted_mat,nboxes,n)) @ L(i,k,sorted_mat,nboxes,n)[0])\n",
    "    return mat_"
   ]
  },
  {
   "cell_type": "code",
   "execution_count": 31,
   "metadata": {},
   "outputs": [],
   "source": [
    "def logdet_method2(k,sorted_mat,nboxes,n):\n",
    "    a1 = 0\n",
    "    p1,l1,u1 = scipy.linalg.lu(new_S(k,sorted_mat,nboxes,n))\n",
    "    for i in range(k*nboxes):\n",
    "        a1 += math.log(abs(u1[i,i]))\n",
    "        \n",
    "    a2 = 0\n",
    "    for i in range (nboxes):\n",
    "        p2,l2,u2 = scipy.linalg.lu(get_box(i,i,sorted_mat,nboxes,n))\n",
    "        for j in range(size):\n",
    "            a2 +=math.log(abs(u2[j,j]))\n",
    "            \n",
    "    a3 = 0\n",
    "    for i in range(nboxes):\n",
    "        p3,l3,u3 = scipy.linalg.lu(-R(i,k,sorted_mat,nboxes,n)@np.linalg.inv(get_box(i,i,sorted_mat,nboxes,n)) @L(i,k,sorted_mat,nboxes,n)[0] )\n",
    "        for j in range(k):\n",
    "            a3 += math.log(abs(u3[j,j]))\n",
    "    return a1 + a2 + a3"
   ]
  },
  {
   "cell_type": "code",
   "execution_count": 46,
   "metadata": {},
   "outputs": [
    {
     "name": "stdout",
     "output_type": "stream",
     "text": [
      "-6060.4296016375965\n"
     ]
    }
   ],
   "source": [
    "\"\"\"Level 3 exact value\"\"\"\n",
    "P3,L3,U3 = scipy.linalg.lu(sorted_mat)\n",
    "\n",
    "logdet3 = 0\n",
    "for i in range(n):\n",
    "    logdet3 += math.log(abs(U3[i,i]))\n",
    "print (logdet3)"
   ]
  },
  {
   "cell_type": "code",
   "execution_count": null,
   "metadata": {},
   "outputs": [],
   "source": [
    "\"\"\"Level 3 approx value\"\"\"\n",
    "l3_det = []\n",
    "for i in range(1,size+1):\n",
    "    l3_det.append(logdet_method2(i,sorted_mat,nboxes,n))"
   ]
  },
  {
   "cell_type": "code",
   "execution_count": null,
   "metadata": {},
   "outputs": [],
   "source": [
    "\"\"\" Level 3 relative error ---- rank converge\"\"\"\n",
    "relative_error_3 = []\n",
    "for i in range(size):\n",
    "    relative_error_3.append(np.log10(abs((l3_det[i]-logdet3)/logdet3)))\n",
    "k_det = np.linspace(1,size+1,size)\n",
    "\n",
    "plt.plot(k_det,relative_error_3, color = 'red', linewidth = 1.0, linestyle = '--')\n",
    "plt.xlabel('rank')\n",
    "plt.ylabel('relative error')\n",
    "plt.legend(['level 3'])\n",
    "plt.show()"
   ]
  },
  {
   "cell_type": "code",
   "execution_count": 47,
   "metadata": {},
   "outputs": [
    {
     "name": "stdout",
     "output_type": "stream",
     "text": [
      "-5971.646943739546\n"
     ]
    }
   ],
   "source": [
    "\"\"\"Level 3 exact value of $A_{\\infty}$\"\"\"\n",
    "P33,L33,U33 = scipy.linalg.lu(sorted_mat_inf)\n",
    "\n",
    "logdet33 = 0\n",
    "for i in range(n):\n",
    "    logdet33 += math.log(abs(U33[i,i]))\n",
    "print (logdet33)"
   ]
  },
  {
   "cell_type": "code",
   "execution_count": 48,
   "metadata": {},
   "outputs": [
    {
     "data": {
      "text/plain": [
       "-88.78265789805027"
      ]
     },
     "execution_count": 48,
     "metadata": {},
     "output_type": "execute_result"
    }
   ],
   "source": [
    "logdet3 - logdet33"
   ]
  },
  {
   "cell_type": "code",
   "execution_count": null,
   "metadata": {},
   "outputs": [],
   "source": [
    "\"\"\"Level 3 approx value of $A_{\\infty}$\"\"\"\n",
    "l33_det = []\n",
    "for i in range(1,size+1):\n",
    "    l33_det.append(logdet_method2(i,sorted_mat,nboxes,n))"
   ]
  },
  {
   "cell_type": "code",
   "execution_count": null,
   "metadata": {},
   "outputs": [],
   "source": [
    "\"\"\"Level 3 relative error of computing the difference\"\"\"\n",
    "relative_error_33 = []\n",
    "for i in range(size):\n",
    "    a = abs(((l3_det[i] - l33_det[i])-(logdet3-logdet33))/(logdet3-logdet33))\n",
    "    relative_error_33.append(np.log10(a))\n",
    "k_det = np.linspace(1,size+1,size)\n",
    "\n",
    "\n",
    "plt.plot(k_det,relative_error_33,color='red',linewidth=1.0,linestyle='--')\n",
    "\n",
    "\n",
    "plt.legend(['diff-appro','diff-exact'])\n",
    "\n",
    "plt.ylabel('log10 of the relative error--Level 3')\n",
    "plt.xlabel('rank')\n",
    "plt.show()"
   ]
  },
  {
   "cell_type": "code",
   "execution_count": 32,
   "metadata": {},
   "outputs": [
    {
     "name": "stdout",
     "output_type": "stream",
     "text": [
      "-31299.088233437764\n"
     ]
    }
   ],
   "source": [
    "\"\"\"Level 4 exact value\"\"\"\n",
    "P4,L4,U4 = scipy.linalg.lu(sorted_mat)\n",
    "\n",
    "logdet4 = 0\n",
    "for i in range(n):\n",
    "    logdet4 += math.log(abs(U4[i,i]))\n",
    "print (logdet4)"
   ]
  },
  {
   "cell_type": "code",
   "execution_count": 33,
   "metadata": {},
   "outputs": [
    {
     "name": "stdout",
     "output_type": "stream",
     "text": [
      "-30965.799988131155\n"
     ]
    }
   ],
   "source": [
    "\"\"\"Level 4 exact value of $A_{\\infty}$\"\"\"\n",
    "P44,L44,U44 = scipy.linalg.lu(sorted_mat_inf)\n",
    "\n",
    "logdet44 = 0\n",
    "for i in range(n):\n",
    "    logdet44 += math.log(abs(U44[i,i]))\n",
    "print (logdet44)"
   ]
  },
  {
   "cell_type": "code",
   "execution_count": 34,
   "metadata": {},
   "outputs": [
    {
     "data": {
      "text/plain": [
       "-333.2882453066086"
      ]
     },
     "execution_count": 34,
     "metadata": {},
     "output_type": "execute_result"
    }
   ],
   "source": [
    "logdet4 - logdet44"
   ]
  },
  {
   "cell_type": "code",
   "execution_count": null,
   "metadata": {},
   "outputs": [],
   "source": [
    "\"\"\"Level 4 approx value\"\"\"\n",
    "l4_det = []\n",
    "for i in range(1,size+1):\n",
    "    l4_det.append(logdet_method2(i,sorted_mat,nboxes,n))"
   ]
  },
  {
   "cell_type": "code",
   "execution_count": null,
   "metadata": {},
   "outputs": [],
   "source": [
    "\"\"\"Level 4 relative error ---- rank converge\"\"\"\n",
    "relative_error_4 = []\n",
    "for i in range(size):\n",
    "    relative_error_4.append(np.log10(abs((l4_det[i]-logdet4)/logdet4)))\n",
    "    \n",
    "k_det = np.linspace(1,size+1,size)\n",
    "plt.plot(k_det,relative_error_3, color = 'red', linewidth = 1.0, linestyle = '--')\n",
    "plt.plot(k_det,relative_error_4, color = 'orange', linewidth = 1.0, linestyle = '--')\n",
    "plt.xlabel('rank')\n",
    "plt.ylabel('relative error')\n",
    "plt.legend(['level 3','level 4'])\n",
    "plt.show()"
   ]
  },
  {
   "cell_type": "code",
   "execution_count": null,
   "metadata": {},
   "outputs": [],
   "source": [
    "\"\"\"Level 4 approx value of $A_{\\infty}$\"\"\"\n",
    "l44_det = []\n",
    "for i in range(1,size+1):\n",
    "    l44_det.append(logdet_method2(i,sorted_mat,nboxes,n))"
   ]
  },
  {
   "cell_type": "code",
   "execution_count": null,
   "metadata": {},
   "outputs": [],
   "source": [
    "\"\"\"Level 4 relative error of computing the difference\"\"\"\n",
    "relative_error_44 = []\n",
    "for i in range(size):\n",
    "    a = abs(((l4_det[i] - l44_det[i])-(logdet4-logdet44))/(logdet4-logdet44))\n",
    "    relative_error_44.append(np.log10(a))\n",
    "k_det = np.linspace(1,size+1,size)\n",
    "\n",
    "plt.plot(k_det,relative_error_33,color='red',linewidth=1.0,linestyle='--')\n",
    "\n",
    "plt.plot(k_det,relative_error_44,color='orange',linewidth=1.0,linestyle='--')\n",
    "\n",
    "\n",
    "plt.legend(['level 3','level 4'])\n",
    "\n",
    "plt.ylabel('log10 of the relative error')\n",
    "plt.xlabel('rank')\n",
    "plt.show()"
   ]
  },
  {
   "cell_type": "code",
   "execution_count": 109,
   "metadata": {},
   "outputs": [
    {
     "name": "stdout",
     "output_type": "stream",
     "text": [
      "-153442.1244564465\n"
     ]
    }
   ],
   "source": [
    "\"\"\"Level 5 exact value\"\"\"\n",
    "P5,L5,U5 = scipy.linalg.lu(sorted_mat)\n",
    "\n",
    "logdet5 = 0\n",
    "for i in range(n):\n",
    "    logdet5 += math.log(abs(U5[i,i]))\n",
    "print (logdet5)"
   ]
  },
  {
   "cell_type": "code",
   "execution_count": 111,
   "metadata": {},
   "outputs": [
    {
     "name": "stdout",
     "output_type": "stream",
     "text": [
      "-152224.06475212605\n"
     ]
    }
   ],
   "source": [
    "\"\"\"Level 5 exact value of $A_{\\infty}$\"\"\"\n",
    "P55,L55,U55 = scipy.linalg.lu(sorted_mat)\n",
    "\n",
    "logdet55 = 0\n",
    "for i in range(n):\n",
    "    logdet55 += math.log(abs(U55[i,i]))\n",
    "print (logdet55)"
   ]
  },
  {
   "cell_type": "code",
   "execution_count": 93,
   "metadata": {},
   "outputs": [],
   "source": [
    "A3 =  -39.57114200099977 \n",
    "A4 = -183.61418038781449\n",
    "A5 = -629.2506767645391\n",
    "B3 = 768\n",
    "B4 = 3072\n",
    "B5 = 12288"
   ]
  },
  {
   "cell_type": "code",
   "execution_count": 119,
   "metadata": {},
   "outputs": [
    {
     "data": {
      "text/plain": [
       "Text(0.5, 1.0, 'One sphere')"
      ]
     },
     "execution_count": 119,
     "metadata": {},
     "output_type": "execute_result"
    },
    {
     "data": {
      "image/png": "[encoded data removed]",
      "text/plain": [
       "<Figure size 432x288 with 1 Axes>"
      ]
     },
     "metadata": {
      "needs_background": "light"
     },
     "output_type": "display_data"
    }
   ],
   "source": [
    "A = [A3,A4,A5]\n",
    "B = [B3,B4,B5]\n",
    "plt.plot(A,B,color='red',linewidth=1.0,linestyle='--')\n",
    "plt.plot(A,B,'k*')\n",
    "\n",
    "plt.xlabel('$\\log\\det(A)-\\log\\det(A_{\\infty})$')\n",
    "plt.ylabel('the size of the matrix')\n",
    "plt.title('One sphere')"
   ]
  },
  {
   "cell_type": "code",
   "execution_count": 114,
   "metadata": {},
   "outputs": [],
   "source": [
    "AA3 = -75.74416986508913\n",
    "AA4 = -327.7522322365112\n",
    "AA5 = -1218.059704320447\n",
    "BB3 = 2*B3\n",
    "BB4 = 2*B4\n",
    "BB5 = 2*B5"
   ]
  },
  {
   "cell_type": "code",
   "execution_count": 138,
   "metadata": {},
   "outputs": [
    {
     "data": {
      "text/plain": [
       "Text(0.5, 1.0, 'Two spheres')"
      ]
     },
     "execution_count": 138,
     "metadata": {},
     "output_type": "execute_result"
    },
    {
     "data": {
      "image/png": "[encoded data removed]",
      "text/plain": [
       "<Figure size 432x288 with 1 Axes>"
      ]
     },
     "metadata": {
      "needs_background": "light"
     },
     "output_type": "display_data"
    }
   ],
   "source": [
    "AA = [AA3,AA4,AA5]\n",
    "BB= [BB3,BB4,BB5]\n",
    "plt.plot(AA,BB, color='red',linewidth=1.0,linestyle='--')\n",
    "plt.plot(AA,BB,'k*')\n",
    "plt.xlabel('$\\log\\det(A)-\\log\\det(A_{\\infty})$')\n",
    "plt.ylabel('the size of the matrix')\n",
    "plt.title('Two spheres')"
   ]
  },
  {
   "cell_type": "code",
   "execution_count": 137,
   "metadata": {},
   "outputs": [
    {
     "data": {
      "text/plain": [
       "Text(0, 0.5, 'the size of the matrix')"
      ]
     },
     "execution_count": 137,
     "metadata": {},
     "output_type": "execute_result"
    },
    {
     "data": {
      "image/png": "[encoded data removed]",
      "text/plain": [
       "<Figure size 432x288 with 1 Axes>"
      ]
     },
     "metadata": {
      "needs_background": "light"
     },
     "output_type": "display_data"
    }
   ],
   "source": [
    "AA = [A3,AA3,A4,AA4,A5,AA5]\n",
    "BB= [B3, BB3,B4, BB4,B5,BB5]\n",
    "plt.plot(AA,BB, color='red',linewidth=1.0,linestyle='--')\n",
    "plt.plot(AA,BB,'k*')\n",
    "plt.xlabel('$\\log\\det(A)-\\log\\det(A_{\\infty})$')\n",
    "plt.ylabel('the size of the matrix')"
   ]
  },
  {
   "cell_type": "code",
   "execution_count": null,
   "metadata": {},
   "outputs": [],
   "source": []
  }
 ],
 "metadata": {
  "kernelspec": {
   "display_name": "Python 3",
   "language": "python",
   "name": "python3"
  },
  "language_info": {
   "codemirror_mode": {
    "name": "ipython",
    "version": 3
   },
   "file_extension": ".py",
   "mimetype": "text/x-python",
   "name": "python",
   "nbconvert_exporter": "python",
   "pygments_lexer": "ipython3",
   "version": "3.7.0"
  }
 },
 "nbformat": 4,
 "nbformat_minor": 2
}
