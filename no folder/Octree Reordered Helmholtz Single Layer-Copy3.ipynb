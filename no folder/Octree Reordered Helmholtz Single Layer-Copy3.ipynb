{
 "cells": [
  {
   "cell_type": "code",
   "execution_count": 1,
   "metadata": {},
   "outputs": [
    {
     "name": "stderr",
     "output_type": "stream",
     "text": [
      "/home/xiaoshu/.conda/envs/opencl/lib/python3.6/importlib/_bootstrap.py:219: RuntimeWarning: numpy.ufunc size changed, may indicate binary incompatibility. Expected 216, got 192\n",
      "  return f(*args, **kwds)\n"
     ]
    },
    {
     "data": {
      "text/plain": [
       "<StreamHandler stderr (DEBUG)>"
      ]
     },
     "execution_count": 1,
     "metadata": {},
     "output_type": "execute_result"
    }
   ],
   "source": [
    "import bempp.api\n",
    "import numpy as np\n",
    "import scipy\n",
    "import time\n",
    "import math\n",
    "import scipy.linalg \n",
    "import scipy.linalg.interpolative as sli\n",
    "bempp.api.enable_console_logging()"
   ]
  },
  {
   "cell_type": "code",
   "execution_count": 42,
   "metadata": {},
   "outputs": [
    {
     "name": "stdout",
     "output_type": "stream",
     "text": [
      "Number of elements: 512\n"
     ]
    }
   ],
   "source": [
    "grid = bempp.api.shapes.regular_sphere(3)\n",
    "print(f\"Number of elements: {grid.number_of_elements}\")"
   ]
  },
  {
   "cell_type": "code",
   "execution_count": 43,
   "metadata": {},
   "outputs": [],
   "source": [
    "vert1 = grid.vertices.copy()\n",
    "rows = vert1.shape[0]\n",
    "cols = vert1.shape[1]"
   ]
  },
  {
   "cell_type": "code",
   "execution_count": 44,
   "metadata": {},
   "outputs": [],
   "source": [
    "vert11 = np.zeros((rows,cols))\n",
    "for i in range(cols):\n",
    "    vert11[0,i] = -1"
   ]
  },
  {
   "cell_type": "code",
   "execution_count": 45,
   "metadata": {},
   "outputs": [],
   "source": [
    "vert2 = vert1 + vert11\n",
    "elets = grid.elements.copy()\n",
    "verts = np.hstack([vert1,vert2])\n",
    "elt = np.hstack([elets,elets+cols])"
   ]
  },
  {
   "cell_type": "code",
   "execution_count": 46,
   "metadata": {},
   "outputs": [
    {
     "name": "stdout",
     "output_type": "stream",
     "text": [
      "Number of elements: 1024\n"
     ]
    }
   ],
   "source": [
    "new_grid = bempp.api.grid.grid.Grid(verts, elt)\n",
    "print(f\"Number of elements: {new_grid.number_of_elements}\")"
   ]
  },
  {
   "cell_type": "code",
   "execution_count": 47,
   "metadata": {},
   "outputs": [],
   "source": [
    "space = bempp.api.function_space(new_grid, \"DP\", 0)"
   ]
  },
  {
   "cell_type": "code",
   "execution_count": 48,
   "metadata": {},
   "outputs": [
    {
     "name": "stderr",
     "output_type": "stream",
     "text": [
      "root:INFO: Regular kernel vector length: 8 (double precision)\n",
      "root:INFO: Regular kernel runtime [ms]: 15.472254\n",
      "root:INFO: Singular kernel runtime [ms]: 12.972709\n"
     ]
    }
   ],
   "source": [
    "mat = bempp.api.operators.boundary.laplace.single_layer(space, space, space).weak_form().A"
   ]
  },
  {
   "cell_type": "code",
   "execution_count": 49,
   "metadata": {},
   "outputs": [],
   "source": [
    "%matplotlib inline\n",
    "from matplotlib import pyplot as plt"
   ]
  },
  {
   "cell_type": "code",
   "execution_count": 50,
   "metadata": {},
   "outputs": [
    {
     "name": "stderr",
     "output_type": "stream",
     "text": [
      "root:INFO: Singular kernel runtime [ms]: 24.869737999999998\n"
     ]
    }
   ],
   "source": [
    "singular_part = bempp.api.operators.boundary.laplace.single_layer(space, space, space, assembler='only_singular_part').weak_form().A"
   ]
  },
  {
   "cell_type": "code",
   "execution_count": 51,
   "metadata": {},
   "outputs": [
    {
     "data": {
      "text/plain": [
       "<matplotlib.lines.Line2D at 0x7f6ae25d5da0>"
      ]
     },
     "execution_count": 51,
     "metadata": {},
     "output_type": "execute_result"
    },
    {
     "data": {
      "image/png": "[encoded data removed]",
      "text/plain": [
       "<Figure size 432x288 with 1 Axes>"
      ]
     },
     "metadata": {},
     "output_type": "display_data"
    }
   ],
   "source": [
    "plt.spy(singular_part, markersize=1)"
   ]
  },
  {
   "cell_type": "code",
   "execution_count": 52,
   "metadata": {},
   "outputs": [],
   "source": [
    "from bempp.api.grid.octree import Octree\n",
    "tree = Octree(new_grid, maximum_level=2)"
   ]
  },
  {
   "cell_type": "code",
   "execution_count": 53,
   "metadata": {},
   "outputs": [],
   "source": [
    "index_dict = tree.leaf_entities_by_morton_index\n",
    "sorted_indices = []\n",
    "for key in sorted(list(index_dict)):\n",
    "    sorted_indices += index_dict[key]"
   ]
  },
  {
   "cell_type": "code",
   "execution_count": 54,
   "metadata": {},
   "outputs": [],
   "source": [
    "sorted_singular_part = singular_part.todense()[:, sorted_indices][sorted_indices, :]"
   ]
  },
  {
   "cell_type": "code",
   "execution_count": 55,
   "metadata": {},
   "outputs": [
    {
     "data": {
      "text/plain": [
       "<matplotlib.lines.Line2D at 0x7f6ae232aef0>"
      ]
     },
     "execution_count": 55,
     "metadata": {},
     "output_type": "execute_result"
    },
    {
     "data": {
      "image/png": "[encoded data removed]",
      "text/plain": [
       "<Figure size 432x288 with 1 Axes>"
      ]
     },
     "metadata": {},
     "output_type": "display_data"
    }
   ],
   "source": [
    "plt.spy(sorted_singular_part, markersize=1)"
   ]
  },
  {
   "cell_type": "code",
   "execution_count": 56,
   "metadata": {},
   "outputs": [
    {
     "name": "stdout",
     "output_type": "stream",
     "text": [
      "[98, 14, 98, 302, 302, 98, 98, 14]\n"
     ]
    }
   ],
   "source": [
    "dims = [len(index_dict[key]) for key in index_dict]\n",
    "print(dims)"
   ]
  },
  {
   "cell_type": "code",
   "execution_count": 57,
   "metadata": {},
   "outputs": [],
   "source": [
    "sorted_mat = mat[:, sorted_indices][sorted_indices, :]"
   ]
  },
  {
   "cell_type": "code",
   "execution_count": 58,
   "metadata": {},
   "outputs": [
    {
     "data": {
      "text/plain": [
       "<matplotlib.lines.Line2D at 0x7f6a5c02cc50>"
      ]
     },
     "execution_count": 58,
     "metadata": {},
     "output_type": "execute_result"
    },
    {
     "data": {
      "image/png": "[encoded data removed]",
      "text/plain": [
       "<Figure size 432x288 with 1 Axes>"
      ]
     },
     "metadata": {},
     "output_type": "display_data"
    }
   ],
   "source": [
    "plt.spy(sorted_mat, markersize=1)"
   ]
  },
  {
   "cell_type": "code",
   "execution_count": 59,
   "metadata": {},
   "outputs": [],
   "source": [
    "n = sorted_mat.shape[0]\n",
    "nboxes = 16\n",
    "size = n // nboxes"
   ]
  },
  {
   "cell_type": "code",
   "execution_count": 60,
   "metadata": {},
   "outputs": [],
   "source": [
    "def get_box(nx, ny, sorted_mat, nboxes, n):\n",
    "    \"\"\"Return the content of a given box\"\"\"\n",
    "    xrange = [nx * size, (1 + nx) * size] \n",
    "    yrange = [ny * size, (1 + ny) * size] \n",
    "    return sorted_mat[xrange[0]:xrange[1], yrange[0]:yrange[1]] "
   ]
  },
  {
   "cell_type": "code",
   "execution_count": 61,
   "metadata": {},
   "outputs": [
    {
     "data": {
      "text/plain": [
       "<matplotlib.colorbar.Colorbar at 0x7f6a4415dd30>"
      ]
     },
     "execution_count": 61,
     "metadata": {},
     "output_type": "execute_result"
    },
    {
     "data": {
      "image/png": "[encoded data removed]",
      "text/plain": [
       "<Figure size 432x288 with 2 Axes>"
      ]
     },
     "metadata": {},
     "output_type": "display_data"
    }
   ],
   "source": [
    "m1 = get_box(0,0,sorted_mat,nboxes,n)\n",
    "plt.imshow(m1)\n",
    "plt.colorbar()"
   ]
  },
  {
   "cell_type": "code",
   "execution_count": 62,
   "metadata": {},
   "outputs": [],
   "source": [
    "def plot_box_ranks(sorted_mat, nboxes, n, tol=1E-8):\n",
    "    \"\"\"Plot rank of the boxes.\"\"\"\n",
    "    from scipy.linalg import svdvals\n",
    "    ranks = np.zeros((nboxes,nboxes),dtype='int32')\n",
    "    for i in range(nboxes):\n",
    "        for j in range(nboxes):\n",
    "            m = get_box(i, j, sorted_mat, nboxes, n)\n",
    "            s = svdvals(m)\n",
    "            ranks[i,j] = np.sum(s>tol)\n",
    "    plt.imshow(ranks, cmap='Accent')\n",
    "    plt.colorbar()"
   ]
  },
  {
   "cell_type": "code",
   "execution_count": 63,
   "metadata": {},
   "outputs": [
    {
     "data": {
      "image/png": "[encoded data removed]",
      "text/plain": [
       "<Figure size 432x288 with 2 Axes>"
      ]
     },
     "metadata": {},
     "output_type": "display_data"
    }
   ],
   "source": [
    "plot_box_ranks(sorted_mat,nboxes,n)"
   ]
  },
  {
   "cell_type": "markdown",
   "metadata": {},
   "source": [
    "#### Return $A_{i}$, which is the combination of the $i$th off-diagonal block row and the transpose of the $i$th off-diagonal block column."
   ]
  },
  {
   "cell_type": "code",
   "execution_count": 64,
   "metadata": {},
   "outputs": [],
   "source": [
    "def get_con_box(i,sorted_mat,nboxes,n):\n",
    "    BB = sorted_mat[i * size : (i + 1) * size, :]\n",
    "    B = np.delete(BB, np.s_[i*size : (i+1)*size], axis = 1)\n",
    "    \n",
    "    CC = np.transpose(sorted_mat[:, i * size : (i + 1) * size])\n",
    "    C = np.delete(CC, np.s_[i*size : (i+1)*size], axis = 1)\n",
    "    return np.hstack((B,C))"
   ]
  },
  {
   "cell_type": "markdown",
   "metadata": {},
   "source": [
    "#### Return $L_{i}$ and $R_{j}$ inside of $A_{ij} = L_{i}S_{ij}R_{j}$, where $R_{j} = L_{j}^{T}$ and $A_{i} = L_{i}S_{i}V_{i}$. Also return the matrix S constructed by using the original matrix and the index set which is generated from computing $L_{i}$.\n",
    "$S = \n",
    "\\begin{bmatrix}\n",
    "0 & S_{12} & S_{13} & \\dots & S_{1N} \\\\\n",
    "S_{21} & 0 & S_{23} & \\dots & S_{2N} \\\\\n",
    "\\vdots & \\vdots & \\vdots & \\vdots & \\vdots \\\\\n",
    "S_{N1} & S_{N2} & \\dots & S_{N,N-1} & 0\n",
    "\\end{bmatrix}\n",
    "$"
   ]
  },
  {
   "cell_type": "code",
   "execution_count": 65,
   "metadata": {},
   "outputs": [],
   "source": [
    "def L(i,k,sorted_mat,nboxes,n):\n",
    "    idx1,proj1 = sli.interp_decomp(get_con_box(i,sorted_mat,nboxes,n), k, rand = False)\n",
    "    B1 = sli.reconstruct_skel_matrix(get_con_box(i,sorted_mat,nboxes,n),k,idx1)\n",
    "    B1_trans = np.transpose(B1)\n",
    "    \n",
    "    idx2,proj2 = sli.interp_decomp(B1_trans, k, rand = False)\n",
    "    P2_trans = sli.reconstruct_interp_matrix(idx2,proj2)\n",
    "\n",
    "    P2 = np.transpose(P2_trans)\n",
    "    return P2,idx2"
   ]
  },
  {
   "cell_type": "code",
   "execution_count": 66,
   "metadata": {},
   "outputs": [],
   "source": [
    "def index_set(k,sorted_mat,nboxes,n):\n",
    "    l = []\n",
    "    for i in range(nboxes):\n",
    "        l.append(L(i,k,sorted_mat,nboxes,n)[1][0:k])\n",
    "    return l"
   ]
  },
  {
   "cell_type": "code",
   "execution_count": 67,
   "metadata": {},
   "outputs": [],
   "source": [
    "def S(k,sorted_mat,nboxes,n):\n",
    "    ll = index_set(k,sorted_mat,nboxes,n)\n",
    "    mat = np.zeros((k*nboxes,k*nboxes))\n",
    "    for i in range(nboxes):\n",
    "        for j in range(nboxes):\n",
    "            if i != j:\n",
    "                mat_ =  get_box(i,j,sorted_mat,nboxes,n)[ll[i],:]\n",
    "                mat[i*k:(i+1)*k,j*k:(j+1)*k] = mat_[:,ll[j]]\n",
    "    return mat"
   ]
  },
  {
   "cell_type": "code",
   "execution_count": 68,
   "metadata": {},
   "outputs": [],
   "source": [
    "def R(i,k,sorted_mat,nboxes,n):\n",
    "    RR = np.transpose(L(i,k,sorted_mat,nboxes,n)[0])\n",
    "    return RR"
   ]
  },
  {
   "cell_type": "markdown",
   "metadata": {},
   "source": [
    "#### Construct the structured matrix and its LU decomposition\n",
    "$\\tilde{A} = \n",
    "\\begin{bmatrix}\n",
    "    D & L & 0 \\\\\n",
    "    R & 0 & -I \\\\\n",
    "    0 & -I & S\n",
    "\\end{bmatrix}\n",
    "= \\begin{bmatrix}\n",
    "    I & 0 & 0 \\\\\n",
    "    RD^{-1} & I & 0 \\\\\n",
    "    0 & (RD^{-1}L)^{-1} & I\n",
    "\\end{bmatrix}  \\begin{bmatrix}\n",
    "    D & L & 0 \\\\\n",
    "    0 & -RD^{-1}L & -I \\\\\n",
    "    0 & 0 & S+(RD^{-1}L)^{-1}\n",
    "\\end{bmatrix}$\n",
    "\n",
    "Then, we do the LU decomposition on each diagonal block's diagonal block (i.e. $A_{ii}$ and $-R_{i}A_{ii}^{-1}L_{i}$) of the upper triangular matrix. \n",
    "This is the new block LU decomposition and we can notice that the block upper triangular matrix is also an upper triangular matrix that we need. "
   ]
  },
  {
   "cell_type": "markdown",
   "metadata": {},
   "source": [
    "#### Construct the matrix $S+(RD^{-1}L)^{-1}$ first"
   ]
  },
  {
   "cell_type": "code",
   "execution_count": 69,
   "metadata": {},
   "outputs": [],
   "source": [
    "def new_S(k,A,nboxes,n):\n",
    "    mat_ = S(k,sorted_mat,nboxes,n)\n",
    "    for i in range(nboxes):\n",
    "        mat_[i*k:(i+1)*k,i*k:(i+1)*k] = np.linalg.inv(R(i,k,sorted_mat,nboxes,n) @ np.linalg.inv(get_box(i,i,sorted_mat,nboxes,n)) @ L(i,k,sorted_mat,nboxes,n)[0])\n",
    "    return mat_"
   ]
  },
  {
   "cell_type": "markdown",
   "metadata": {},
   "source": [
    "#### Compute the log determinant of the structured matrix $\\tilde{A}$"
   ]
  },
  {
   "cell_type": "code",
   "execution_count": 70,
   "metadata": {},
   "outputs": [],
   "source": [
    "def logdet_method2(k,sorted_mat,nboxes,n):\n",
    "    a1 = 0\n",
    "    p1,l1,u1 = scipy.linalg.lu(new_S(k,sorted_mat,nboxes,n))\n",
    "    for i in range(k*nboxes):\n",
    "        a1 += math.log(abs(u1[i,i]))\n",
    "        \n",
    "    a2 = 0\n",
    "    for i in range (nboxes):\n",
    "        p2,l2,u2 = scipy.linalg.lu(get_box(i,i,sorted_mat,nboxes,n))\n",
    "        for j in range(size):\n",
    "            a2 +=math.log(abs(u2[j,j]))\n",
    "            \n",
    "    a3 = 0\n",
    "    for i in range(nboxes):\n",
    "        p3,l3,u3 = scipy.linalg.lu(-R(i,k,sorted_mat,nboxes,n)@np.linalg.inv(get_box(i,i,sorted_mat,nboxes,n)) @L(i,k,sorted_mat,nboxes,n)[0] )\n",
    "        for j in range(k):\n",
    "            a3 += math.log(abs(u3[j,j]))\n",
    "    return a1 + a2 + a3"
   ]
  },
  {
   "cell_type": "code",
   "execution_count": 71,
   "metadata": {},
   "outputs": [
    {
     "name": "stdout",
     "output_type": "stream",
     "text": [
      "-7642.3479124416845\n",
      "When the size of the matrix is 1024, the running time is 0.943235 if we set the rank k to be the same as the block size 64.\n"
     ]
    }
   ],
   "source": [
    "start_level_4_trial_1 = time.time()\n",
    "print(logdet_method2(size,sorted_mat,nboxes,n))\n",
    "end_level_4_trial_1 = time.time()\n",
    "running_time_1 = end_level_4_trial_1-start_level_4_trial_1\n",
    "print(\"When the size of the matrix is %g, the running time is %f if we set the rank k to be the same as the block size %g.\" %(n, running_time_1,size))"
   ]
  },
  {
   "cell_type": "code",
   "execution_count": 72,
   "metadata": {},
   "outputs": [],
   "source": [
    "def time_logdet(k,sorted_mat,nboxes,n):\n",
    "    start_time = time.time()\n",
    "    a = logdet_method2(k,sorted_mat,nboxes,n)\n",
    "    end_time = time.time()\n",
    "    b = end_time - start_time\n",
    "    return b"
   ]
  },
  {
   "cell_type": "markdown",
   "metadata": {},
   "source": [
    "#### Level 4 time"
   ]
  },
  {
   "cell_type": "code",
   "execution_count": 39,
   "metadata": {},
   "outputs": [],
   "source": [
    "l_time = []\n",
    "for i in range(1,size+1):\n",
    "    l_time.append(time_logdet(i,sorted_mat,nboxes,n))"
   ]
  },
  {
   "cell_type": "markdown",
   "metadata": {},
   "source": [
    "#### Level 3 time"
   ]
  },
  {
   "cell_type": "code",
   "execution_count": 73,
   "metadata": {},
   "outputs": [],
   "source": [
    "l_time3 = []\n",
    "for i in range(1,size+1):\n",
    "    l_time3.append(time_logdet(i,sorted_mat,nboxes,n))"
   ]
  },
  {
   "cell_type": "code",
   "execution_count": 83,
   "metadata": {},
   "outputs": [
    {
     "data": {
      "image/png": "[encoded data removed]",
      "text/plain": [
       "<Figure size 432x288 with 1 Axes>"
      ]
     },
     "metadata": {},
     "output_type": "display_data"
    }
   ],
   "source": [
    "k_time = np.linspace(1,size+1,size)\n",
    "\n",
    "plt.plot(k_time,l_time,color='red',linewidth=1.0,linestyle='--')\n",
    "plt.plot(k_time,l_time3,color='orange',linewidth=1.0,linestyle='--')\n",
    "\n",
    "\n",
    "plt.legend(['level 4','level 3'])\n",
    "\n",
    "plt.ylabel('time')\n",
    "plt.xlabel('rank')\n",
    "plt.show()"
   ]
  },
  {
   "cell_type": "markdown",
   "metadata": {},
   "source": [
    "#### Compute the log determinant of the original matrix"
   ]
  },
  {
   "cell_type": "markdown",
   "metadata": {},
   "source": [
    "#### Level 4 exact value"
   ]
  },
  {
   "cell_type": "code",
   "execution_count": 38,
   "metadata": {},
   "outputs": [],
   "source": [
    "P4,L4,U4 = scipy.linalg.lu(sorted_mat)\n",
    "\n",
    "logdet4 = 0\n",
    "for i in range(n):\n",
    "    logdet4 += math.log(abs(U4[i,i]))\n",
    "    \n",
    "l4_det_exact = []\n",
    "for i in range(size):\n",
    "    l4_det_exact.append(logdet4)"
   ]
  },
  {
   "cell_type": "markdown",
   "metadata": {},
   "source": [
    "#### Level 3 exact value"
   ]
  },
  {
   "cell_type": "code",
   "execution_count": 75,
   "metadata": {},
   "outputs": [],
   "source": [
    "P3,L3,U3 = scipy.linalg.lu(sorted_mat)\n",
    "\n",
    "logdet3 = 0\n",
    "for i in range(n):\n",
    "    logdet3 += math.log(abs(U3[i,i]))\n",
    "l3_det_exact = []\n",
    "for i in range(size):\n",
    "    l3_det_exact.append(logdet3)"
   ]
  },
  {
   "cell_type": "markdown",
   "metadata": {},
   "source": [
    "#### Level 3 approximated value"
   ]
  },
  {
   "cell_type": "code",
   "execution_count": 76,
   "metadata": {},
   "outputs": [],
   "source": [
    "l3_det = []\n",
    "for i in range(1,size+1):\n",
    "    l3_det.append(logdet_method2(i,sorted_mat,nboxes,n))"
   ]
  },
  {
   "cell_type": "markdown",
   "metadata": {},
   "source": [
    "#### Level 4 approximated value"
   ]
  },
  {
   "cell_type": "code",
   "execution_count": 40,
   "metadata": {},
   "outputs": [],
   "source": [
    "l4_det = []\n",
    "for i in range(1,size+1):\n",
    "    l4_det.append(logdet_method2(i,sorted_mat,nboxes,n))"
   ]
  },
  {
   "cell_type": "markdown",
   "metadata": {},
   "source": [
    "#### Level 3 relative error"
   ]
  },
  {
   "cell_type": "code",
   "execution_count": 77,
   "metadata": {},
   "outputs": [],
   "source": [
    "relative_error3 = []\n",
    "for i in range(size):\n",
    "    a = abs((l3_det[i] - logdet3)/logdet3)\n",
    "    relative_error3.append(np.log10(a))"
   ]
  },
  {
   "cell_type": "markdown",
   "metadata": {},
   "source": [
    "#### Level 4 relative error"
   ]
  },
  {
   "cell_type": "code",
   "execution_count": 41,
   "metadata": {},
   "outputs": [],
   "source": [
    "relative_error4 = []\n",
    "for i in range(size):\n",
    "    a = abs((l4_det[i] - logdet4)/logdet4)\n",
    "    relative_error4.append(np.log10(a))"
   ]
  },
  {
   "cell_type": "code",
   "execution_count": 84,
   "metadata": {},
   "outputs": [
    {
     "data": {
      "image/png": "[encoded data removed]",
      "text/plain": [
       "<Figure size 432x288 with 1 Axes>"
      ]
     },
     "metadata": {},
     "output_type": "display_data"
    }
   ],
   "source": [
    "k_det = np.linspace(1,size+1,size)\n",
    "\n",
    "plt.plot(k_det,relative_error3,color='red',linewidth=1.0,linestyle='--')\n",
    "plt.plot(k_det,relative_error4,color='orange',linewidth=1.0,linestyle='--')\n",
    "\n",
    "\n",
    "\n",
    "plt.legend(['level 3','level 4'])\n",
    "\n",
    "plt.ylabel('log10 of the relative error')\n",
    "plt.xlabel('rank')\n",
    "plt.show()"
   ]
  },
  {
   "cell_type": "code",
   "execution_count": null,
   "metadata": {},
   "outputs": [],
   "source": []
  }
 ],
 "metadata": {
  "kernelspec": {
   "display_name": "Python 3",
   "language": "python",
   "name": "python3"
  },
  "language_info": {
   "codemirror_mode": {
    "name": "ipython",
    "version": 3
   },
   "file_extension": ".py",
   "mimetype": "text/x-python",
   "name": "python",
   "nbconvert_exporter": "python",
   "pygments_lexer": "ipython3",
   "version": "3.7.0"
  }
 },
 "nbformat": 4,
 "nbformat_minor": 2
}
