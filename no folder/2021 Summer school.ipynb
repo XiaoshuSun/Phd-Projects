{
 "cells": [
  {
   "cell_type": "markdown",
   "metadata": {},
   "source": [
    "# Session 1"
   ]
  },
  {
   "cell_type": "code",
   "execution_count": 1,
   "metadata": {},
   "outputs": [
    {
     "name": "stdout",
     "output_type": "stream",
     "text": [
      "Hello World!\n"
     ]
    }
   ],
   "source": [
    "print('Hello World!')"
   ]
  },
  {
   "cell_type": "code",
   "execution_count": 5,
   "metadata": {},
   "outputs": [
    {
     "name": "stdin",
     "output_type": "stream",
     "text": [
      "What is your name? Xiaoshu\n"
     ]
    },
    {
     "name": "stdout",
     "output_type": "stream",
     "text": [
      "Hello Xiaoshu\n"
     ]
    }
   ],
   "source": [
    "my_name = input('What is your name?')\n",
    "print('Hello ' + my_name)"
   ]
  },
  {
   "cell_type": "markdown",
   "metadata": {},
   "source": [
    "## First game"
   ]
  },
  {
   "cell_type": "code",
   "execution_count": 17,
   "metadata": {},
   "outputs": [
    {
     "name": "stdin",
     "output_type": "stream",
     "text": [
      "What is your name? Sun\n",
      "Choose rock, paper, scissors  paper\n"
     ]
    },
    {
     "name": "stdout",
     "output_type": "stream",
     "text": [
      "computer wins\n"
     ]
    }
   ],
   "source": [
    "import random\n",
    "my_name = input('What is your name?')\n",
    "\n",
    "computer = random.choice(['rock', 'paper', 'scissors'])\n",
    "human = input('Choose rock, paper, scissors ')\n",
    "\n",
    "if computer == 'rock' and human.lower() == 'rock': ##### recogonize the lower and upper case\n",
    "    print('Draw')\n",
    "if computer == 'rock' and human.lower() == 'paper':\n",
    "    print(my_name + ' wins')\n",
    "if computer == 'rock' and human.lower() == 'scissors':\n",
    "    print('computer wins')\n",
    "    \n",
    "if computer == 'paper' and human.lower() == 'rock':\n",
    "    print('computer wins')\n",
    "if computer == 'paper' and human.lower() == 'paper':\n",
    "    print('Draw')\n",
    "if computer == 'paper' and human.lower() == 'scissors':\n",
    "    print(my_name + ' wins')\n",
    "    \n",
    "if computer == 'scissors' and human.lower() == 'rock':\n",
    "    print(my_name + ' wins')\n",
    "if computer == 'scissors' and human.lower() == 'paper':\n",
    "    print('computer wins')\n",
    "if computer == 'scissors' and human.lower() == 'scissors':\n",
    "    print('Draw')\n",
    "    \n",
    "# scissors > paper > rock > lizard > spock > scissors > lizard > paper > spock > rock > scissors "
   ]
  },
  {
   "cell_type": "markdown",
   "metadata": {},
   "source": [
    "## Second game"
   ]
  },
  {
   "cell_type": "code",
   "execution_count": 27,
   "metadata": {},
   "outputs": [
    {
     "name": "stdin",
     "output_type": "stream",
     "text": [
      "What is your name? Sun\n",
      "Guess a number  5\n"
     ]
    },
    {
     "name": "stdout",
     "output_type": "stream",
     "text": [
      "The guess number is smaller.\n"
     ]
    },
    {
     "name": "stdin",
     "output_type": "stream",
     "text": [
      "Guess a number  7\n"
     ]
    },
    {
     "name": "stdout",
     "output_type": "stream",
     "text": [
      "The guess number is higher.\n"
     ]
    },
    {
     "name": "stdin",
     "output_type": "stream",
     "text": [
      "Guess a number  9\n"
     ]
    },
    {
     "name": "stdout",
     "output_type": "stream",
     "text": [
      "The guess number is higher.\n"
     ]
    },
    {
     "name": "stdin",
     "output_type": "stream",
     "text": [
      "Guess a number  6\n"
     ]
    },
    {
     "name": "stdout",
     "output_type": "stream",
     "text": [
      "Well done, Sun! The number of your guess is 4\n"
     ]
    }
   ],
   "source": [
    "import random \n",
    "my_name = input('What is your name?')\n",
    "number = random.randrange(1,11)\n",
    "guess = 0\n",
    "number_of_guess = 0\n",
    "\n",
    "while guess != number:\n",
    "    guess = int(input('Guess a number '))\n",
    "    if guess > number:\n",
    "        print('The guess number is higher.')\n",
    "    elif guess < number:\n",
    "        print('The guess number is smaller.')\n",
    "    number_of_guess += 1\n",
    "print('Well done, ' + my_name + '! The number of your guess is %d' %(number_of_guess))"
   ]
  },
  {
   "cell_type": "markdown",
   "metadata": {},
   "source": [
    "# Session 2"
   ]
  },
  {
   "cell_type": "code",
   "execution_count": 28,
   "metadata": {},
   "outputs": [
    {
     "name": "stdout",
     "output_type": "stream",
     "text": [
      "1\n",
      "2\n",
      "3\n",
      "4\n",
      "5\n"
     ]
    }
   ],
   "source": [
    "for n in range(1,6):\n",
    "    print(n)"
   ]
  },
  {
   "cell_type": "code",
   "execution_count": 29,
   "metadata": {},
   "outputs": [
    {
     "name": "stdout",
     "output_type": "stream",
     "text": [
      "1\n",
      "2\n",
      "3\n",
      "4\n",
      "5\n"
     ]
    }
   ],
   "source": [
    "n = 1\n",
    "while n<=5:\n",
    "    print(n)\n",
    "    n+=1"
   ]
  },
  {
   "cell_type": "code",
   "execution_count": 1,
   "metadata": {},
   "outputs": [
    {
     "name": "stdout",
     "output_type": "stream",
     "text": [
      "0\n",
      "1\n",
      "4\n",
      "9\n",
      "16\n",
      "25\n",
      "36\n",
      "49\n",
      "64\n",
      "81\n",
      "100\n"
     ]
    }
   ],
   "source": [
    "import numpy as np\n",
    "for i in range(100+1):\n",
    "    if int(np.sqrt(i))**2 == i:\n",
    "        print(i)"
   ]
  },
  {
   "cell_type": "code",
   "execution_count": 3,
   "metadata": {},
   "outputs": [
    {
     "name": "stdout",
     "output_type": "stream",
     "text": [
      "0\n",
      "1\n",
      "4\n",
      "9\n",
      "16\n",
      "25\n",
      "36\n",
      "49\n",
      "64\n",
      "81\n",
      "100\n"
     ]
    }
   ],
   "source": [
    "for x in range(0,1000):\n",
    "\n",
    "    if x*x <= 100:\n",
    "\n",
    "        print(x*x)\n",
    "\n",
    "    else:\n",
    "\n",
    "        continue"
   ]
  },
  {
   "cell_type": "code",
   "execution_count": 6,
   "metadata": {},
   "outputs": [
    {
     "name": "stdout",
     "output_type": "stream",
     "text": [
      "0\n",
      "1\n",
      "4\n",
      "9\n",
      "16\n",
      "25\n",
      "36\n",
      "49\n",
      "64\n",
      "81\n",
      "100\n",
      "121\n",
      "144\n",
      "169\n",
      "196\n",
      "225\n",
      "256\n",
      "289\n",
      "324\n",
      "361\n",
      "400\n",
      "441\n",
      "484\n",
      "529\n",
      "576\n",
      "625\n",
      "676\n",
      "729\n",
      "784\n",
      "841\n",
      "900\n",
      "961\n"
     ]
    }
   ],
   "source": [
    "n=0\n",
    "\n",
    "while n**2<1000:\n",
    "\n",
    "    print(n**2)\n",
    "\n",
    "    n+=1"
   ]
  },
  {
   "cell_type": "code",
   "execution_count": null,
   "metadata": {},
   "outputs": [],
   "source": [
    "i = 0\n",
    "while i<=100:\n",
    "    if int(np.sqrt(i))**2 == i:\n",
    "        print(i)\n",
    "    i +=1"
   ]
  },
  {
   "cell_type": "code",
   "execution_count": 7,
   "metadata": {},
   "outputs": [
    {
     "name": "stdout",
     "output_type": "stream",
     "text": [
      "0\n",
      "1\n",
      "4\n",
      "9\n",
      "16\n",
      "25\n",
      "36\n",
      "49\n",
      "64\n",
      "81\n",
      "100\n",
      "121\n",
      "144\n",
      "169\n",
      "196\n",
      "225\n",
      "256\n",
      "289\n",
      "324\n",
      "361\n",
      "400\n",
      "441\n",
      "484\n",
      "529\n",
      "576\n",
      "625\n",
      "676\n",
      "729\n",
      "784\n",
      "841\n",
      "900\n",
      "961\n"
     ]
    }
   ],
   "source": [
    "for i in range(1000+1):\n",
    "    if int(np.sqrt(i))**2 == i:\n",
    "        print(i)"
   ]
  },
  {
   "cell_type": "code",
   "execution_count": null,
   "metadata": {},
   "outputs": [],
   "source": [
    "i = 0\n",
    "while i<=1000:\n",
    "    if int(np.sqrt(i))**2 == i:\n",
    "        print(i)\n",
    "    i +=1"
   ]
  },
  {
   "cell_type": "code",
   "execution_count": null,
   "metadata": {},
   "outputs": [],
   "source": [
    "for i in range(0, 1000 + 1):\n",
    "    if i%2 == 1:\n",
    "        print(i)"
   ]
  },
  {
   "cell_type": "code",
   "execution_count": null,
   "metadata": {},
   "outputs": [],
   "source": [
    "i = 0\n",
    "while i<=1000:\n",
    "    if i%2 == 1:\n",
    "        print(i)\n",
    "    i +=1"
   ]
  },
  {
   "cell_type": "code",
   "execution_count": null,
   "metadata": {},
   "outputs": [],
   "source": [
    "for i in range(0, 550 + 1):\n",
    "    if i%2 == 0:\n",
    "        print(i)"
   ]
  },
  {
   "cell_type": "code",
   "execution_count": null,
   "metadata": {},
   "outputs": [],
   "source": [
    "i = 0\n",
    "while i<=1000:\n",
    "    if i%2 == 0:\n",
    "        print(i)\n",
    "    i +=1"
   ]
  },
  {
   "cell_type": "code",
   "execution_count": 37,
   "metadata": {},
   "outputs": [
    {
     "name": "stdout",
     "output_type": "stream",
     "text": [
      "1\n",
      "2\n",
      "fizz\n",
      "4\n",
      "buzz\n",
      "fizz\n",
      "7\n",
      "8\n",
      "fizz\n",
      "buzz\n",
      "11\n",
      "fizz\n",
      "13\n",
      "14\n",
      "fizzbuzz\n",
      "16\n",
      "17\n",
      "fizz\n",
      "19\n",
      "buzz\n"
     ]
    }
   ],
   "source": [
    "for i in range(1, 20+1):\n",
    "    if i%3 == 0 and i%5 != 0:\n",
    "        print('fizz')\n",
    "    elif i%5 == 0 and  i%3 != 0:\n",
    "        print('buzz')\n",
    "    elif i%5 == 0 and  i%3 == 0:\n",
    "        print('fizzbuzz')\n",
    "    else:\n",
    "        print(i)"
   ]
  },
  {
   "cell_type": "code",
   "execution_count": 38,
   "metadata": {},
   "outputs": [
    {
     "name": "stdout",
     "output_type": "stream",
     "text": [
      "1\n",
      "5\n",
      "[2, 3]\n",
      "5\n",
      "15\n"
     ]
    }
   ],
   "source": [
    "a = [1,2,3,4,5]\n",
    "b = []\n",
    "\n",
    "print(a[0])\n",
    "print(a[-1])\n",
    "print(a[1:3])\n",
    "print(len(a))\n",
    "print(sum(a))"
   ]
  },
  {
   "cell_type": "code",
   "execution_count": 45,
   "metadata": {},
   "outputs": [],
   "source": [
    "import random\n",
    "\n",
    "pieces = [4,3,2]\n",
    "\n",
    "def computer(pieces):\n",
    "    if pieces[0] == 0 and pieces[1] == 0 and pieces[2] > 1:\n",
    "        return 2, pieces[2] -1 \n",
    "    if pieces[0] > 0 and pieces[1] == 0 and pieces[2] == 0:\n",
    "        return 0, pieces[0] -1 \n",
    "    if pieces[0] == 0 and pieces[1] > 0 and pieces[2] ==0 :\n",
    "        return 1, pieces[1] -1 \n",
    "    \n",
    "    pile = random.randrange(0,3)\n",
    "    while pieces[pile] == 0:\n",
    "        pile = random.randrange(0,3)\n",
    "    n = random.randrange(1, pieces[pile]+1)\n",
    "    return pile, n"
   ]
  },
  {
   "cell_type": "code",
   "execution_count": null,
   "metadata": {},
   "outputs": [],
   "source": [
    "while sum(pieces) > 0:\n",
    "    print(pieces)\n",
    "    pile = int(input('Which pile would you like to take a piece from [Enter 0 or 1 or 2]'))\n",
    "    n = int(input('How many pieces would you like to take from this pile?'))\n",
    "    pieces[pile] -= n\n",
    "    if sum(pieces) == 0:\n",
    "        print('Human loses')\n",
    "        break\n",
    "        \n",
    "    pile, n = computer(pieces)\n",
    "    \n",
    "    pieces[pile] -= n\n",
    "    if sum(pieces) == 0:\n",
    "        print('Computer loses')\n",
    "        break"
   ]
  },
  {
   "cell_type": "markdown",
   "metadata": {},
   "source": [
    "## PE sheet"
   ]
  },
  {
   "cell_type": "code",
   "execution_count": 47,
   "metadata": {},
   "outputs": [
    {
     "name": "stdout",
     "output_type": "stream",
     "text": [
      "234168\n"
     ]
    }
   ],
   "source": [
    "# Problem 1\n",
    "list_ = []\n",
    "for i in range(1, 1000+1):\n",
    "    if i%3 == 0 or i%5 == 0:\n",
    "        list_.append(i)\n",
    "print(sum(list_))"
   ]
  },
  {
   "cell_type": "code",
   "execution_count": 68,
   "metadata": {},
   "outputs": [
    {
     "name": "stdout",
     "output_type": "stream",
     "text": [
      "2\n",
      "8\n",
      "34\n",
      "144\n",
      "610\n",
      "2584\n",
      "10946\n",
      "46368\n",
      "196418\n",
      "832040\n",
      "3524578\n",
      "the sum is:<built-in function sum>\n"
     ]
    }
   ],
   "source": [
    "# Problem 2\n",
    "a = 0\n",
    "b = 1\n",
    "c =0\n",
    "sum_ = 0\n",
    "d = 0\n",
    "\n",
    "for s in range(4000000):    \n",
    "    while(d<4000000):    \n",
    "        d = a+b    \n",
    "        if d%2 == 0:\n",
    "            sum_ += d   \n",
    "            print(d)    \n",
    "        a = b    \n",
    "        b = d\n",
    "\n",
    "print(\"the sum is:\"+str(sum))"
   ]
  },
  {
   "cell_type": "code",
   "execution_count": 70,
   "metadata": {},
   "outputs": [
    {
     "name": "stdout",
     "output_type": "stream",
     "text": [
      "2\n",
      "8\n",
      "34\n",
      "the sum is:44\n"
     ]
    }
   ],
   "source": [
    "# Problem 2\n",
    "a = 0\n",
    "b = 1\n",
    "c =0\n",
    "sum_ = 0\n",
    "d = 0\n",
    "\n",
    "for s in range(50):    \n",
    "    while(d<50):    \n",
    "        d = a+b    \n",
    "        if d%2 == 0:\n",
    "            sum_ += d   \n",
    "            print(d)    \n",
    "        a = b    \n",
    "        b = d\n",
    "\n",
    "print(\"the sum is:\"+str(sum_))"
   ]
  },
  {
   "cell_type": "code",
   "execution_count": 65,
   "metadata": {},
   "outputs": [
    {
     "name": "stdout",
     "output_type": "stream",
     "text": [
      "232792560.0\n"
     ]
    },
    {
     "name": "stderr",
     "output_type": "stream",
     "text": [
      "/home/xiaoshu/.conda/envs/opencl/lib/python3.7/site-packages/ipykernel_launcher.py:4: DeprecationWarning: fractions.gcd() is deprecated. Use math.gcd() instead.\n",
      "  after removing the cwd from sys.path.\n"
     ]
    }
   ],
   "source": [
    "# Problem 5\n",
    "\n",
    "from fractions import gcd\n",
    "from functools import reduce\n",
    "\n",
    "print(reduce(lambda a, b: a * b / gcd(a, b), range(1, 21)))"
   ]
  },
  {
   "cell_type": "code",
   "execution_count": 19,
   "metadata": {},
   "outputs": [
    {
     "name": "stdout",
     "output_type": "stream",
     "text": [
      "31875000\n"
     ]
    }
   ],
   "source": [
    "# Problem 9\n",
    "\n",
    "\n",
    "triplet_sum = 1000\n",
    "min_a, max_a = 1, triplet_sum // 3\n",
    "for a in range(1, max_a):\n",
    "    for b in range(a + 1, (triplet_sum - a) // 2):\n",
    "        c = triplet_sum - a - b\n",
    "        #assert a < b < c, \"constraint violated: {} < {} < {}\".format(a, b, c)\n",
    "        if a ** 2 + b ** 2 == c ** 2:\n",
    "            print (a * b * c)  # there should only be one solution ..\n",
    "\n",
    "#expected_answer = 31875000\n"
   ]
  },
  {
   "cell_type": "code",
   "execution_count": 26,
   "metadata": {},
   "outputs": [
    {
     "name": "stdout",
     "output_type": "stream",
     "text": [
      "31875000\n"
     ]
    }
   ],
   "source": [
    "import math\n",
    "\n",
    "\n",
    "for a in range (1,300+1):\n",
    "\n",
    "    for b in range (a+1,1000):\n",
    "\n",
    "        c = 1000 - a - b\n",
    "        \n",
    "        if a ** 2 + b ** 2 == c ** 2:\n",
    "\n",
    "            print(a*b*c)\n"
   ]
  },
  {
   "cell_type": "code",
   "execution_count": 28,
   "metadata": {},
   "outputs": [
    {
     "name": "stdout",
     "output_type": "stream",
     "text": [
      "200\n",
      "375\n",
      "425.0\n",
      "31875000.0\n"
     ]
    }
   ],
   "source": [
    "for n in range (1,300):\n",
    "\n",
    "    a = n\n",
    "\n",
    "    for m in range (a,1000):\n",
    "\n",
    "        b = m\n",
    "\n",
    "        c = math.sqrt(a**2 + b**2)\n",
    "\n",
    "        q = a + b + c\n",
    "\n",
    "        if q == 1000:\n",
    "\n",
    "            print(a)\n",
    "\n",
    "            print(b)\n",
    "\n",
    "            print(c)\n",
    "\n",
    "            print(a*b*c)\n",
    "\n",
    "            break"
   ]
  },
  {
   "cell_type": "code",
   "execution_count": 78,
   "metadata": {},
   "outputs": [
    {
     "data": {
      "text/plain": [
       "6857.0"
      ]
     },
     "execution_count": 78,
     "metadata": {},
     "output_type": "execute_result"
    }
   ],
   "source": [
    "# Problem 3\n",
    "import math\n",
    "\n",
    "def isPrime(x):\n",
    "    if x<2:\n",
    "        return False\n",
    "    for i in range(2,int(math.sqrt(x))):\n",
    "        if not x%i:\n",
    "            return False\n",
    "    return True\n",
    "\n",
    "def largest_factor(number):\n",
    "    for i in range (2, int(math.sqrt(number))):\n",
    "        if number%i == 0:\n",
    "            number = number/i\n",
    "            if isPrime(number) is True:\n",
    "                max_val = number\n",
    "                break\n",
    "                print (max_val)\n",
    "        else:\n",
    "            i += 1\n",
    "    return max_val\n",
    "\n",
    "largest_factor(600851475143)"
   ]
  },
  {
   "cell_type": "code",
   "execution_count": 52,
   "metadata": {},
   "outputs": [],
   "source": [
    "if not 3%2 != 0:\n",
    "    print ('True')"
   ]
  },
  {
   "cell_type": "code",
   "execution_count": 49,
   "metadata": {},
   "outputs": [
    {
     "data": {
      "text/plain": [
       "True"
      ]
     },
     "execution_count": 49,
     "metadata": {},
     "output_type": "execute_result"
    }
   ],
   "source": [
    "bool(3%2)"
   ]
  },
  {
   "cell_type": "code",
   "execution_count": 36,
   "metadata": {},
   "outputs": [
    {
     "name": "stdout",
     "output_type": "stream",
     "text": [
      "6857.0\n"
     ]
    }
   ],
   "source": [
    "factors = []\n",
    "\n",
    "def primefactordecomp(x):\n",
    "\n",
    "    squarerootx = int(math.sqrt(x))\n",
    "\n",
    "    for n in range (1,squarerootx+1):\n",
    "\n",
    "        if int(x/n) == (x/n):\n",
    "\n",
    "            factors.append(x/n)\n",
    "\n",
    "\n",
    "\n",
    "    return factors\n",
    "\n",
    "\n",
    "\n",
    "for i in range (0,len(primefactordecomp(600851475143))):\n",
    "\n",
    "    primefactordecomp(factors[i])\n",
    "\n",
    "    factors.remove(factors[i])\n",
    "\n",
    "print(factors[-1])"
   ]
  },
  {
   "cell_type": "code",
   "execution_count": 3,
   "metadata": {},
   "outputs": [
    {
     "data": {
      "text/plain": [
       "[4]"
      ]
     },
     "execution_count": 3,
     "metadata": {},
     "output_type": "execute_result"
    }
   ],
   "source": [
    "import random\n",
    "\n",
    "random.choices(range(7), [0.05, 0.1,  0.2, 0.3, 0.2, 0.1, 0.05])"
   ]
  },
  {
   "cell_type": "code",
   "execution_count": 62,
   "metadata": {},
   "outputs": [],
   "source": [
    "from random import choices"
   ]
  },
  {
   "cell_type": "code",
   "execution_count": 85,
   "metadata": {},
   "outputs": [
    {
     "name": "stdout",
     "output_type": "stream",
     "text": [
      "Number of lattice paths is: 137846528820.0\n"
     ]
    }
   ],
   "source": [
    "# Problem 15\n",
    "from math import factorial\n",
    "\n",
    "def nck(n,k):\n",
    "\n",
    "\treturn factorial(n)/(factorial(k)*factorial(n-k))\n",
    "\n",
    "#Number of lattice paths from (0,0) to (a,b) is given by\n",
    "#binomial coefficient C(a+b,a)\n",
    "print ('Number of lattice paths is: '+ str(nck(20+20,20)))\n",
    "#The number of paths of length a+b from the origin (a+b, a) or (a+b, b)"
   ]
  },
  {
   "cell_type": "code",
   "execution_count": 80,
   "metadata": {},
   "outputs": [
    {
     "name": "stdout",
     "output_type": "stream",
     "text": [
      "25164150\n"
     ]
    }
   ],
   "source": [
    "# Problem 6\n",
    "sum_square = 0\n",
    "square_sum = 0\n",
    "for i in range(1,100+1):\n",
    "    sum_square += i**2\n",
    "    square_sum += i\n",
    "print (square_sum**2 - sum_square)"
   ]
  },
  {
   "cell_type": "code",
   "execution_count": null,
   "metadata": {},
   "outputs": [],
   "source": []
  }
 ],
 "metadata": {
  "kernelspec": {
   "display_name": "Python 3",
   "language": "python",
   "name": "python3"
  },
  "language_info": {
   "codemirror_mode": {
    "name": "ipython",
    "version": 3
   },
   "file_extension": ".py",
   "mimetype": "text/x-python",
   "name": "python",
   "nbconvert_exporter": "python",
   "pygments_lexer": "ipython3",
   "version": "3.7.0"
  }
 },
 "nbformat": 4,
 "nbformat_minor": 2
}
