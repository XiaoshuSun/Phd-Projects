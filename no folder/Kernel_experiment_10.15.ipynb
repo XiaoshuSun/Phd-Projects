{
 "cells": [
  {
   "cell_type": "code",
   "execution_count": 1,
   "metadata": {},
   "outputs": [],
   "source": [
    "%matplotlib inline\n",
    "import numpy as np\n",
    "from matplotlib import pyplot as plt\n",
    "import scipy.linalg \n",
    "import scipy.linalg.interpolative as sli\n",
    "\n",
    "plt.rcParams['figure.figsize'] = [5,5]"
   ]
  },
  {
   "cell_type": "code",
   "execution_count": 2,
   "metadata": {},
   "outputs": [],
   "source": [
    "n = 1000\n",
    "x = np.linspace(-1, 1, n)\n",
    "eps = 0.1"
   ]
  },
  {
   "cell_type": "code",
   "execution_count": 3,
   "metadata": {},
   "outputs": [],
   "source": [
    "def fun(x, y):\n",
    "    \"\"\"Evaluate a kernel function on a tensor grid\"\"\"\n",
    "    xx = x.reshape(n,1)\n",
    "    yy = y.reshape(1,n)\n",
    "    return 1./(eps + np.abs(xx-yy))"
   ]
  },
  {
   "cell_type": "code",
   "execution_count": 4,
   "metadata": {},
   "outputs": [],
   "source": [
    "A = fun(x, x)"
   ]
  },
  {
   "cell_type": "code",
   "execution_count": 38,
   "metadata": {},
   "outputs": [],
   "source": [
    "nboxes = 20\n",
    "size = n//nboxes"
   ]
  },
  {
   "cell_type": "code",
   "execution_count": 39,
   "metadata": {},
   "outputs": [],
   "source": [
    "def get_box(nx, ny, mat, nboxes, n):\n",
    "    \"\"\"Return the content of a given box\"\"\"\n",
    "    size = n//nboxes\n",
    "    xrange = [nx * size, (1 + nx) * size] \n",
    "    yrange = [ny * size, (1 + ny) * size] \n",
    "    return mat[xrange[0]:xrange[1], yrange[0]:yrange[1]] "
   ]
  },
  {
   "cell_type": "code",
   "execution_count": 42,
   "metadata": {},
   "outputs": [
    {
     "data": {
      "text/plain": [
       "<matplotlib.colorbar.Colorbar at 0x7f60cbb9c7b8>"
      ]
     },
     "execution_count": 42,
     "metadata": {},
     "output_type": "execute_result"
    },
    {
     "data": {
      "image/png": "[encoded data removed]",
      "text/plain": [
       "<Figure size 360x360 with 2 Axes>"
      ]
     },
     "metadata": {
      "needs_background": "light"
     },
     "output_type": "display_data"
    }
   ],
   "source": [
    "m1 = get_box(0, 0, A, nboxes,n)\n",
    "plt.imshow(m1)\n",
    "plt.colorbar()"
   ]
  },
  {
   "cell_type": "code",
   "execution_count": 43,
   "metadata": {},
   "outputs": [],
   "source": [
    "def plot_singular_values(nx, ny, mat, nboxes, n):\n",
    "    \"\"\"Plot singular values of a given box.\"\"\"\n",
    "    from scipy.linalg import svdvals\n",
    "    s = svdvals(get_box(nx, ny, mat, nboxes, n))\n",
    "    plt.semilogy(s)\n",
    "    plt.xlabel('k')\n",
    "    plt.ylabel('sigma_k')"
   ]
  },
  {
   "cell_type": "code",
   "execution_count": 46,
   "metadata": {},
   "outputs": [
    {
     "data": {
      "image/png": "[encoded data removed]",
      "text/plain": [
       "<Figure size 360x360 with 1 Axes>"
      ]
     },
     "metadata": {
      "needs_background": "light"
     },
     "output_type": "display_data"
    }
   ],
   "source": [
    "plot_singular_values(0,1,A,nboxes,n)"
   ]
  },
  {
   "cell_type": "code",
   "execution_count": 12,
   "metadata": {},
   "outputs": [],
   "source": [
    "def plot_box_ranks(mat, nboxes, n, tol=1E-8):\n",
    "    \"\"\"Plot rank of the boxes.\"\"\"\n",
    "    from scipy.linalg import svdvals\n",
    "    size = n // nboxes\n",
    "    ranks = np.zeros((nboxes,nboxes),dtype='int32')\n",
    "    for i in range(nboxes):\n",
    "        for j in range(nboxes):\n",
    "            m = get_box(i, j, mat, nboxes, n)\n",
    "            s = svdvals(m)\n",
    "            ranks[i,j] = np.sum(s>tol)\n",
    "    plt.imshow(ranks, cmap='Accent')\n",
    "    plt.colorbar()"
   ]
  },
  {
   "cell_type": "code",
   "execution_count": 13,
   "metadata": {},
   "outputs": [],
   "source": [
    "def get_con_box(i,A,nboxes,n):\n",
    "    \"\"\"Return Ai\"\"\"\n",
    "    BB = A[i * size : (i + 1) * size, :]\n",
    "    B = np.delete(BB, np.s_[i*size : (i+1)*size], axis = 1)\n",
    "    \n",
    "    CC = np.transpose(A[:, i * size : (i + 1) * size])\n",
    "    C = np.delete(CC, np.s_[i*size : (i+1)*size], axis = 1)\n",
    "    return np.hstack((B,C))"
   ]
  },
  {
   "cell_type": "code",
   "execution_count": 14,
   "metadata": {},
   "outputs": [],
   "source": [
    "def L(i,k,A,nboxes,n):\n",
    "    idx1,proj1 = sli.interp_decomp(get_con_box(i,A,nboxes,n), k, rand = False)\n",
    "    B1 = sli.reconstruct_skel_matrix(get_con_box(i,A,nboxes,n),k,idx1)\n",
    "    B1_trans = np.transpose(B1)\n",
    "    \n",
    "    idx2,proj2 = sli.interp_decomp(B1_trans, k, rand = False)\n",
    "    P2_trans = sli.reconstruct_interp_matrix(idx2,proj2)\n",
    "\n",
    "    P2 = np.transpose(P2_trans)\n",
    "    return P2,idx2"
   ]
  },
  {
   "cell_type": "code",
   "execution_count": 15,
   "metadata": {},
   "outputs": [],
   "source": [
    "def index_set(k,A,nboxes,n):\n",
    "    l = []\n",
    "    for i in range(nboxes):\n",
    "        l.append(L(i,k,A,nboxes,n)[1][0:k])\n",
    "    return l"
   ]
  },
  {
   "cell_type": "code",
   "execution_count": 16,
   "metadata": {},
   "outputs": [],
   "source": [
    "def SSS(k,A,nboxes,n):\n",
    "    ll = index_set(k,A,nboxes,n)\n",
    "    mat = np.zeros((k*nboxes,k*nboxes))\n",
    "    for i in range(nboxes):\n",
    "        for j in range(nboxes):\n",
    "            if i != j:\n",
    "                mat_ =  get_box(i,j,A,nboxes,n)[ll[i],:]\n",
    "                mat[i*k:(i+1)*k,j*k:(j+1)*k] = mat_[:,ll[j]]\n",
    "    return mat"
   ]
  },
  {
   "cell_type": "code",
   "execution_count": 17,
   "metadata": {},
   "outputs": [],
   "source": [
    "def R(i,k,A,nboxes,n):\n",
    "    RR = np.transpose(L(i,k,A,nboxes,n)[0])\n",
    "    return RR"
   ]
  },
  {
   "cell_type": "code",
   "execution_count": 18,
   "metadata": {},
   "outputs": [],
   "source": [
    "def new_S(k,A,nboxes,n):\n",
    "    mat_ = SSS(k,A,nboxes,n)\n",
    "    for i in range(nboxes):\n",
    "        mat_[i*k:(i+1)*k,i*k:(i+1)*k] = np.linalg.inv(R(i,k,A,nboxes,n) @ np.linalg.inv(get_box(i,i,A,nboxes,n)) @ L(i,k,A,nboxes,n)[0])\n",
    "    return mat_"
   ]
  },
  {
   "cell_type": "code",
   "execution_count": 19,
   "metadata": {},
   "outputs": [],
   "source": [
    "def D_(k,A,nboxes,n):\n",
    "    mat = np.zeros((n,n))\n",
    "    for i in range(nboxes):\n",
    "        mat[i*size:(i+1)*size,i*size:(i+1)*size] = np.linalg.inv(get_box(i,i,A,nboxes,n)) - \\\n",
    "        np.linalg.inv(get_box(i,i,A,nboxes,n))@L(i,k,A,nboxes,n)[0]@np.linalg.inv(R(i,k,A,nboxes,n) @ np.linalg.inv(get_box(i,i,A,nboxes,n)) @ L(i,k,A,nboxes,n)[0])@ \\\n",
    "        R(i,k,A,nboxes,n)@np.linalg.inv(get_box(i,i,A,nboxes,n))\n",
    "        \n",
    "    return mat"
   ]
  },
  {
   "cell_type": "code",
   "execution_count": 20,
   "metadata": {},
   "outputs": [],
   "source": [
    "def L_(k,A,nboxes,n):\n",
    "    mat = np.zeros((n,k*nboxes))\n",
    "    for i in range(nboxes):\n",
    "        mat[i*size:(i+1)*size,i*k:(i+1)*k] = np.linalg.inv(get_box(i,i,A,nboxes,n))@L(i,k,A,nboxes,n)[0]@np.linalg.inv(R(i,k,A,nboxes,n) @ np.linalg.inv(get_box(i,i,A,nboxes,n)) @ L(i,k,A,nboxes,n)[0])\n",
    "    return mat"
   ]
  },
  {
   "cell_type": "code",
   "execution_count": 21,
   "metadata": {},
   "outputs": [],
   "source": [
    "def R_(k,A,nboxes,n):\n",
    "    mat = np.zeros((k*nboxes,n))\n",
    "    for i in range(nboxes):\n",
    "        mat[i*k:(i+1)*k,i*size:(i+1)*size] = np.linalg.inv(R(i,k,A,nboxes,n) @ np.linalg.inv(get_box(i,i,A,nboxes,n)) @ L(i,k,A,nboxes,n)[0])@ \\\n",
    "        R(i,k,A,nboxes,n)@np.linalg.inv(get_box(i,i,A,nboxes,n))\n",
    "    return mat"
   ]
  },
  {
   "cell_type": "code",
   "execution_count": 22,
   "metadata": {},
   "outputs": [],
   "source": [
    "def S_(k,A,nboxes,n):\n",
    "    mat = SSS(k,A,nboxes,n)\n",
    "    for i in range(nboxes):\n",
    "         mat[i*k:(i+1)*k,i*k:(i+1)*k] = np.linalg.inv(R(i,k,A,nboxes,n) @ np.linalg.inv(get_box(i,i,A,nboxes,n)) @ L(i,k,A,nboxes,n)[0])\n",
    "    return mat"
   ]
  },
  {
   "cell_type": "code",
   "execution_count": 33,
   "metadata": {},
   "outputs": [],
   "source": [
    "def inv_(k,A,nboxes,n):\n",
    "    return D_(k,A,nboxes,n) + L_(k,A,nboxes,n) @ np.linalg.inv(S_(k,A,nboxes,n)) @ R_(k,A,nboxes,n)"
   ]
  },
  {
   "cell_type": "code",
   "execution_count": 24,
   "metadata": {},
   "outputs": [],
   "source": [
    "b = np.random.rand(n)"
   ]
  },
  {
   "cell_type": "code",
   "execution_count": 25,
   "metadata": {},
   "outputs": [],
   "source": [
    "x_exact = np.linalg.solve(A,b)"
   ]
  },
  {
   "cell_type": "code",
   "execution_count": 29,
   "metadata": {},
   "outputs": [],
   "source": [
    "error_list = []\n",
    "for i in range(1,size+1):\n",
    "    x_appro = inv_(i,A,nboxes,n) @ b\n",
    "    error_list.append(np.linalg.norm(x_exact - x_appro)/np.linalg.norm(x_exact))"
   ]
  },
  {
   "cell_type": "code",
   "execution_count": 30,
   "metadata": {},
   "outputs": [
    {
     "data": {
      "text/plain": [
       "[<matplotlib.lines.Line2D at 0x7f60cbd48f28>]"
      ]
     },
     "execution_count": 30,
     "metadata": {},
     "output_type": "execute_result"
    },
    {
     "data": {
      "image/png": "[encoded data removed]",
      "text/plain": [
       "<Figure size 432x288 with 1 Axes>"
      ]
     },
     "metadata": {
      "needs_background": "light"
     },
     "output_type": "display_data"
    }
   ],
   "source": [
    "plt.semilogy(range(1,size+1), error_list)"
   ]
  },
  {
   "cell_type": "code",
   "execution_count": null,
   "metadata": {},
   "outputs": [],
   "source": []
  }
 ],
 "metadata": {
  "kernelspec": {
   "display_name": "Python 3",
   "language": "python",
   "name": "python3"
  },
  "language_info": {
   "codemirror_mode": {
    "name": "ipython",
    "version": 3
   },
   "file_extension": ".py",
   "mimetype": "text/x-python",
   "name": "python",
   "nbconvert_exporter": "python",
   "pygments_lexer": "ipython3",
   "version": "3.7.0"
  }
 },
 "nbformat": 4,
 "nbformat_minor": 2
}
