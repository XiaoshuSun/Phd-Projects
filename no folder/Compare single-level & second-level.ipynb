{
 "cells": [
  {
   "cell_type": "code",
   "execution_count": 1,
   "metadata": {},
   "outputs": [],
   "source": [
    "import numpy as np\n",
    "from scipy.linalg import qr\n",
    "from scipy.linalg import svdvals\n",
    "from scipy.linalg import pinv\n",
    "from scipy.linalg.interpolative import interp_decomp\n",
    "from matplotlib import pyplot as plt\n",
    "import scipy.linalg.interpolative as sli\n",
    "import scipy\n",
    "import scipy.linalg \n",
    "import math\n",
    "import time\n",
    "plt.rcParams['figure.figsize'] = [10, 8]\n",
    "\n",
    "%matplotlib inline"
   ]
  },
  {
   "cell_type": "code",
   "execution_count": 3,
   "metadata": {},
   "outputs": [],
   "source": [
    "import numpy as np\n",
    "n = 1000\n",
    "x = np.linspace(-1, 1, n)\n",
    "eps = 0.1\n",
    "\n",
    "def fun(x, y):\n",
    "    \"\"\"Evaluate a kernel function on a tensor grid\"\"\"\n",
    "    xx = x.reshape(n,1)\n",
    "    yy = y.reshape(1,n)\n",
    "    return 1./(eps + np.abs(xx-yy))\n",
    "\n",
    "A = fun(x, x)\n",
    "nboxes = 20\n",
    "size = n // nboxes"
   ]
  },
  {
   "cell_type": "markdown",
   "metadata": {},
   "source": [
    "#### Single level scheme"
   ]
  },
  {
   "cell_type": "code",
   "execution_count": 4,
   "metadata": {},
   "outputs": [],
   "source": [
    "def get_box(nx, ny, A, nboxes, n):\n",
    "    \"\"\"Return the content of a given box\"\"\"\n",
    "    size = n // nboxes\n",
    "    xrange = [nx * size, (1 + nx) * size] \n",
    "    yrange = [ny * size, (1 + ny) * size] \n",
    "    return A[xrange[0]:xrange[1], yrange[0]:yrange[1]] "
   ]
  },
  {
   "cell_type": "code",
   "execution_count": 5,
   "metadata": {},
   "outputs": [],
   "source": [
    "def get_con_box(i,A,nboxes,n):\n",
    "    \"\"\"Return Ai\"\"\"\n",
    "    BB = A[i * size : (i + 1) * size, :]\n",
    "    B = np.delete(BB, np.s_[i*size : (i+1)*size], axis = 1)\n",
    "    \n",
    "    CC = np.transpose(A[:, i * size : (i + 1) * size])\n",
    "    C = np.delete(CC, np.s_[i*size : (i+1)*size], axis = 1)\n",
    "    return np.hstack((B,C))"
   ]
  },
  {
   "cell_type": "code",
   "execution_count": 6,
   "metadata": {},
   "outputs": [],
   "source": [
    "def L_1(i,k,A,nboxes,n):\n",
    "    idx1,proj1 = sli.interp_decomp(get_con_box(i,A,nboxes,n), k, rand = False)\n",
    "    B1 = sli.reconstruct_skel_matrix(get_con_box(i,A,nboxes,n),k,idx1)\n",
    "    B1_trans = np.transpose(B1)\n",
    "    \n",
    "    idx2,proj2 = sli.interp_decomp(B1_trans, k)\n",
    "    P2_trans = sli.reconstruct_interp_matrix(idx2,proj2)\n",
    "\n",
    "    P2 = np.transpose(P2_trans)\n",
    "    return P2,idx2"
   ]
  },
  {
   "cell_type": "code",
   "execution_count": 7,
   "metadata": {},
   "outputs": [],
   "source": [
    "def index_set1(k,A,nboxes,n):\n",
    "    l = []\n",
    "    for i in range(nboxes):\n",
    "        l.append(L_1(i,k,A,nboxes,n)[1][0:k])\n",
    "    return l"
   ]
  },
  {
   "cell_type": "code",
   "execution_count": 8,
   "metadata": {},
   "outputs": [],
   "source": [
    "def S_1(k,A,nboxes,n):\n",
    "    ll = index_set1(k,A,nboxes,n)\n",
    "    mat = np.zeros((k*nboxes,k*nboxes))\n",
    "    for i in range(nboxes):\n",
    "        for j in range(nboxes):\n",
    "            if i != j:\n",
    "                mat_ =  get_box(i,j,A,nboxes,n)[ll[i],:]\n",
    "                mat[i*k:(i+1)*k,j*k:(j+1)*k] = mat_[:,ll[j]]\n",
    "    return mat"
   ]
  },
  {
   "cell_type": "code",
   "execution_count": 16,
   "metadata": {},
   "outputs": [
    {
     "data": {
      "text/plain": [
       "6"
      ]
     },
     "execution_count": 16,
     "metadata": {},
     "output_type": "execute_result"
    }
   ],
   "source": []
  },
  {
   "cell_type": "code",
   "execution_count": 9,
   "metadata": {},
   "outputs": [],
   "source": [
    "def R_1(i,k,A,nboxes,n):\n",
    "    RR = np.transpose(L_1(i,k,A,nboxes,n)[0])\n",
    "    return RR"
   ]
  },
  {
   "cell_type": "code",
   "execution_count": 10,
   "metadata": {},
   "outputs": [
    {
     "name": "stdout",
     "output_type": "stream",
     "text": [
      "-943.2573345400149\n"
     ]
    }
   ],
   "source": [
    "\"\"\"The exact logdet of the original matrix\"\"\"\n",
    "_,L1,U1 = scipy.linalg.lu(A)\n",
    "logdet1 = 0\n",
    "for i in range(n):\n",
    "    logdet1 += math.log(U1[i,i])\n",
    "print (logdet1)"
   ]
  },
  {
   "cell_type": "code",
   "execution_count": 11,
   "metadata": {},
   "outputs": [],
   "source": [
    "def new_S(k,A,nboxes,n):\n",
    "    mat_ = S_1(k,A,nboxes,n)\n",
    "    for i in range(nboxes):\n",
    "        mat_[i*k:(i+1)*k,i*k:(i+1)*k] = np.linalg.inv(R_1(i,k,A,nboxes,n) @ np.linalg.inv(get_box(i,i,A,nboxes,n)) @ L_1(i,k,A,nboxes,n)[0])\n",
    "    return mat_"
   ]
  },
  {
   "cell_type": "code",
   "execution_count": 12,
   "metadata": {},
   "outputs": [],
   "source": [
    "def logdet_method2(k,A,nboxes,n):\n",
    "    a1 = 0\n",
    "    p1,l1,u1 = scipy.linalg.lu(new_S(k,A,nboxes,n))\n",
    "    for i in range(k*nboxes):\n",
    "        a1 += math.log(abs(u1[i,i]))\n",
    "        \n",
    "    a2 = 0\n",
    "    for i in range (nboxes):\n",
    "        p2,l2,u2 = scipy.linalg.lu(get_box(i,i,A,nboxes,n))\n",
    "        for j in range(size):\n",
    "            a2 +=math.log(abs(u2[j,j]))\n",
    "            \n",
    "    a3 = 0\n",
    "    for i in range(nboxes):\n",
    "        p3,l3,u3 = scipy.linalg.lu(-R_1(i,k,A,nboxes,n)@np.linalg.inv(get_box(i,i,A,nboxes,n)) @L_1(i,k,A,nboxes,n)[0] )\n",
    "        for j in range(k):\n",
    "            a3 += math.log(abs(u3[j,j]))\n",
    "    return a1 + a2 + a3"
   ]
  },
  {
   "cell_type": "code",
   "execution_count": 13,
   "metadata": {},
   "outputs": [],
   "source": [
    "def time_logdet(k,A,nboxes,n):\n",
    "    start_time = time.time()\n",
    "    a = logdet_method2(k,A,nboxes,n)\n",
    "    end_time = time.time()\n",
    "    b = end_time - start_time\n",
    "    return b"
   ]
  },
  {
   "cell_type": "code",
   "execution_count": 71,
   "metadata": {},
   "outputs": [],
   "source": [
    "l_time1 = []\n",
    "for i in range(1,size+1):\n",
    "    l_time1.append(time_logdet(i,A,nboxes,n))"
   ]
  },
  {
   "cell_type": "code",
   "execution_count": 72,
   "metadata": {},
   "outputs": [
    {
     "data": {
      "image/png": "[encoded data removed]",
      "text/plain": [
       "<Figure size 432x288 with 1 Axes>"
      ]
     },
     "metadata": {},
     "output_type": "display_data"
    }
   ],
   "source": [
    "k_time1 = np.linspace(1,size+1,size)\n",
    "\n",
    "\n",
    "plt.plot(k_time1,l_time1,color='red',linewidth=1.0,linestyle='--')\n",
    "\n",
    "plt.ylabel('time--level ONE')\n",
    "plt.xlabel('rank')\n",
    "plt.show()"
   ]
  },
  {
   "cell_type": "code",
   "execution_count": 13,
   "metadata": {},
   "outputs": [],
   "source": [
    "\"\"\"The list of the approximation value with different rank we set.\"\"\"\n",
    "l_logdet_method2 = []\n",
    "for i in range(1,size+1):\n",
    "    l_logdet_method2.append(logdet_method2(i,A,nboxes,n))"
   ]
  },
  {
   "cell_type": "code",
   "execution_count": 14,
   "metadata": {},
   "outputs": [
    {
     "data": {
      "image/png": "[encoded data removed]",
      "text/plain": [
       "<Figure size 432x288 with 1 Axes>"
      ]
     },
     "metadata": {},
     "output_type": "display_data"
    }
   ],
   "source": [
    "relative_error_2 = []\n",
    "for i in range(size):\n",
    "    a = (l_logdet_method2[i] - logdet1)/logdet1\n",
    "    b = abs(a)\n",
    "    if b == 0:\n",
    "        relative_error_2.append(-16)\n",
    "    else: \n",
    "        relative_error_2.append(np.log10(b))\n",
    "\n",
    "k_det = np.linspace(1,size+1,size)\n",
    "plt.plot(k_det,relative_error_2,'k*',markersize=2)\n",
    "plt.ylabel('log10 of the relative error--level ONE') \n",
    "plt.show()"
   ]
  },
  {
   "cell_type": "markdown",
   "metadata": {},
   "source": [
    "#### Second-level scheme"
   ]
  },
  {
   "cell_type": "code",
   "execution_count": 14,
   "metadata": {},
   "outputs": [],
   "source": [
    "def get_box2(i,j,k,A,nboxes,n):\n",
    "    mat_ = S_1(k,A,nboxes,n)[i*2*k:(i+1)*2*k,j*2*k:(j+1)*2*k]\n",
    "    return mat_"
   ]
  },
  {
   "cell_type": "code",
   "execution_count": 16,
   "metadata": {},
   "outputs": [],
   "source": [
    "def get_con_box_2(i,k,A,nboxes,n):\n",
    "    \"\"\"Return Ai in the second level\"\"\"\n",
    "    BB = S_1(k,A,nboxes,n)[i*2*k : (i + 1)*2*k, :]\n",
    "    B = np.delete(BB, np.s_[i*2*k : (i+1)*2*k], axis = 1)\n",
    "    \n",
    "    CC = np.transpose(S_1(k,A,nboxes,n)[:, i*2*k : (i + 1)*2*k])\n",
    "    C = np.delete(CC, np.s_[i*2*k : (i+1)*2*k], axis = 1)\n",
    "    return np.hstack((B,C))"
   ]
  },
  {
   "cell_type": "code",
   "execution_count": 17,
   "metadata": {},
   "outputs": [],
   "source": [
    "def L_2(i,k,rank,A,nboxes,n):\n",
    "    idx1,proj1 = sli.interp_decomp(get_con_box_2(i,k,A,nboxes,n), rank, rand = False)\n",
    "    B1 = sli.reconstruct_skel_matrix(get_con_box_2(i,k,A,nboxes,n),rank,idx1)\n",
    "    B1_trans = np.transpose(B1)\n",
    "    \n",
    "    idx2,proj2 = sli.interp_decomp(B1_trans, rank, rand = False)\n",
    "    P2_trans = sli.reconstruct_interp_matrix(idx2,proj2)\n",
    "\n",
    "    P2 = np.transpose(P2_trans)\n",
    "    return P2,idx2"
   ]
  },
  {
   "cell_type": "code",
   "execution_count": 18,
   "metadata": {},
   "outputs": [],
   "source": [
    "def index_set2(k,rank,A,nboxes,n):\n",
    "    l = []\n",
    "    for i in range(nboxes//2):\n",
    "        l.append(L_2(i,k,rank,A,nboxes,n)[1][0:rank])\n",
    "    return l"
   ]
  },
  {
   "cell_type": "code",
   "execution_count": 19,
   "metadata": {},
   "outputs": [],
   "source": [
    "def S_2(k,rank,A,nboxes,n):\n",
    "    ll = index_set2(k,rank,A,nboxes,n)\n",
    "    mat = np.zeros((rank*(nboxes//2),rank*(nboxes//2)))\n",
    "    for i in range(nboxes//2):\n",
    "        for j in range(nboxes//2):\n",
    "            if i != j:\n",
    "                mat_ =  S_1(k,A,nboxes,n)[i*2*k:(i+1)*2*k,j*2*k:(j+1)*2*k][ll[i],:]\n",
    "                mat[i*rank:(i+1)*rank,j*rank:(j+1)*rank] = mat_[:,ll[j]]\n",
    "    return mat"
   ]
  },
  {
   "cell_type": "code",
   "execution_count": 20,
   "metadata": {},
   "outputs": [],
   "source": [
    "def R_2(i,k,rank,A,nboxes,n):\n",
    "    RR = np.transpose(L_2(i,k,rank,A,nboxes,n)[0])\n",
    "    return RR"
   ]
  },
  {
   "cell_type": "code",
   "execution_count": 21,
   "metadata": {},
   "outputs": [],
   "source": [
    "def logdet_method22(k,rank,A,nboxes,n):\n",
    "    \n",
    "    X = np.zeros((k*nboxes,k*nboxes))\n",
    "    for i in range(nboxes//2):\n",
    "        X[i*2*k:(i+1)*2*k,i*2*k:(i+1)*2*k] =  S_1(k,A,nboxes,n)[i*2*k:(i+1)*2*k,i*2*k:(i+1)*2*k]\n",
    "        for j in range(nboxes):\n",
    "            X[j*k:(j+1)*k,j*k:(j+1)*k] = np.linalg.inv(R_1(j,k,A,nboxes,n)@np.linalg.inv(get_box(j,j,A,nboxes,n))@L_1(j,k,A,nboxes,n)[0])\n",
    "        \n",
    "    Y = S_2(k,rank,A,nboxes,n)\n",
    "    for i in range(nboxes//2):\n",
    "        Y[i*rank:(i+1)*rank,i*rank:(i+1)*rank] = np.linalg.inv(R_2(i,k,rank,A,nboxes,n)@np.linalg.inv(X[i*2*k:(i+1)*2*k,i*2*k:(i+1)*2*k])@L_2(i,k,rank,A,nboxes,n)[0])\n",
    "    \n",
    "    \n",
    "    a1 = 0                   #========================= Y ==============================\n",
    "    p1,l1,u1 = scipy.linalg.lu(Y)\n",
    "    for i in range(rank*(nboxes//2)):\n",
    "        a1 += math.log(abs(u1[i,i]))\n",
    "        \n",
    "    a2 = 0                   #========================== D1 =============================\n",
    "    for i in range (nboxes):\n",
    "        p2,l2,u2 = scipy.linalg.lu(get_box(i,i,A,nboxes,n))\n",
    "        for j in range(size):\n",
    "            a2 +=math.log(abs(u2[j,j]))\n",
    "            \n",
    "    a3 = 0                   #==================== -R1.inv(D1).L1 =======================\n",
    "    for i in range(nboxes):\n",
    "        p3,l3,u3 = scipy.linalg.lu(-R_1(i,k,A,nboxes,n)@np.linalg.inv(get_box(i,i,A,nboxes,n)) @L_1(i,k,A,nboxes,n)[0] )\n",
    "        for j in range(k):\n",
    "            a3 += math.log(abs(u3[j,j]))\n",
    "            \n",
    "    a4 = 0                  #=================== X = D2 + inv(R1.inv(D1).L1) ============================\n",
    "    for i in range(nboxes//2):\n",
    "        p4,l4,u4 = scipy.linalg.lu(X[i*2*k:(i+1)*2*k,i*2*k:(i+1)*2*k])\n",
    "        for j in range(2*k):\n",
    "            a4 += math.log(abs(u4[j,j]))\n",
    "    a5 = 0                  #================= -R2.inv(X)L2 ===============================\n",
    "    for i in range(nboxes//2):\n",
    "        p5,l5,u5 = scipy.linalg.lu(-R_2(i,k,rank,A,nboxes,n)@np.linalg.inv(X[i*2*k:(i+1)*2*k,i*2*k:(i+1)*2*k])@L_2(i,k,rank,A,nboxes,n)[0])\n",
    "        for j in range(rank):\n",
    "            a5 += math.log(abs(u5[j,j]))            \n",
    "            \n",
    "    return a1 + a2 + a3 + a4 + a5"
   ]
  },
  {
   "cell_type": "code",
   "execution_count": 90,
   "metadata": {},
   "outputs": [],
   "source": [
    "def time_logdet2(rank,A,nboxes,n):\n",
    "    start_time = time.time()\n",
    "    a = logdet_method22(size//10,rank,A,nboxes,n)\n",
    "    end_time = time.time()\n",
    "    b = end_time - start_time\n",
    "    return b"
   ]
  },
  {
   "cell_type": "code",
   "execution_count": 99,
   "metadata": {},
   "outputs": [],
   "source": [
    "l_time2 = []\n",
    "for i in range(1,size//5 + 1):\n",
    "    l_time2.append(time_logdet2(i,A,nboxes,n))"
   ]
  },
  {
   "cell_type": "code",
   "execution_count": 101,
   "metadata": {},
   "outputs": [
    {
     "data": {
      "text/plain": [
       "10"
      ]
     },
     "execution_count": 101,
     "metadata": {},
     "output_type": "execute_result"
    }
   ],
   "source": [
    "len(l_time2)"
   ]
  },
  {
   "cell_type": "code",
   "execution_count": 35,
   "metadata": {},
   "outputs": [],
   "source": [
    "\"\"\"The list of the approximation value with different rank we set in level 2.\"\"\"\n",
    "l_logdet_method22 = []\n",
    "for i in range(1,6*size//10+1):\n",
    "    l_logdet_method22.append(logdet_method22(3*size//10,i,A,nboxes,n))"
   ]
  },
  {
   "cell_type": "code",
   "execution_count": 36,
   "metadata": {},
   "outputs": [],
   "source": [
    "relative_error_22 = []\n",
    "for i in range(6*size//10):\n",
    "    a = (l_logdet_method22[i] - logdet1)/logdet1\n",
    "    b = abs(a)\n",
    "    if b == 0:\n",
    "        relative_error_22.append(-16)\n",
    "    else: \n",
    "        relative_error_22.append(np.log10(b))"
   ]
  },
  {
   "cell_type": "code",
   "execution_count": 37,
   "metadata": {},
   "outputs": [
    {
     "data": {
      "image/png": "[encoded data removed]",
      "text/plain": [
       "<Figure size 432x288 with 1 Axes>"
      ]
     },
     "metadata": {},
     "output_type": "display_data"
    }
   ],
   "source": [
    "k_det = np.linspace(1,6*size//10,6*size//10)\n",
    "plt.plot(k_det,relative_error_22[0:6*size//10],'k*',markersize=10)\n",
    "plt.plot(k_det,relative_error_2[0:6*size//10],'g^',markersize=5)\n",
    "plt.ylabel('log10 of the relative error--level ONE') \n",
    "plt.show()"
   ]
  },
  {
   "cell_type": "code",
   "execution_count": null,
   "metadata": {},
   "outputs": [],
   "source": []
  }
 ],
 "metadata": {
  "kernelspec": {
   "display_name": "Python 3",
   "language": "python",
   "name": "python3"
  },
  "language_info": {
   "codemirror_mode": {
    "name": "ipython",
    "version": 3
   },
   "file_extension": ".py",
   "mimetype": "text/x-python",
   "name": "python",
   "nbconvert_exporter": "python",
   "pygments_lexer": "ipython3",
   "version": "3.7.0"
  }
 },
 "nbformat": 4,
 "nbformat_minor": 2
}
