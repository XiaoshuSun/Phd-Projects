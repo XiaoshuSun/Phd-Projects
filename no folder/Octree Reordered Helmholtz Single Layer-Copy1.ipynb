{
 "cells": [
  {
   "cell_type": "markdown",
   "metadata": {},
   "source": [
    "# New timing result of computing the log determinant of the matrix "
   ]
  },
  {
   "cell_type": "markdown",
   "metadata": {},
   "source": [
    "### The matrix is generated from octree reordered Helmholtz Single Layer with the different refinement level. Here, we choose the refinement level as 3 and 4."
   ]
  },
  {
   "cell_type": "code",
   "execution_count": 1,
   "metadata": {},
   "outputs": [
    {
     "data": {
      "text/plain": [
       "<StreamHandler stderr (DEBUG)>"
      ]
     },
     "execution_count": 1,
     "metadata": {},
     "output_type": "execute_result"
    }
   ],
   "source": [
    "import bempp.api\n",
    "import numpy as np\n",
    "import scipy\n",
    "import time\n",
    "import math\n",
    "import scipy.linalg \n",
    "import scipy.linalg.interpolative as sli\n",
    "%matplotlib inline\n",
    "from matplotlib import pyplot as plt\n",
    "bempp.api.enable_console_logging()"
   ]
  },
  {
   "cell_type": "code",
   "execution_count": 2,
   "metadata": {},
   "outputs": [
    {
     "name": "stdout",
     "output_type": "stream",
     "text": [
      "Number of elements: 2048\n"
     ]
    }
   ],
   "source": [
    "grid = bempp.api.shapes.regular_sphere(4)\n",
    "print(f\"Number of elements: {grid.number_of_elements}\")"
   ]
  },
  {
   "cell_type": "code",
   "execution_count": 3,
   "metadata": {},
   "outputs": [],
   "source": [
    "space = bempp.api.function_space(grid, \"DP\", 0)"
   ]
  },
  {
   "cell_type": "code",
   "execution_count": 4,
   "metadata": {},
   "outputs": [
    {
     "name": "stderr",
     "output_type": "stream",
     "text": [
      "root:INFO: OpenCL Device set to: pthread-Intel(R) Xeon(R) W-2155 CPU @ 3.30GHz\n",
      "root:INFO: Regular kernel vector length: 8 (double precision)\n",
      "root:INFO: Regular kernel runtime [ms]: 38.986396\n",
      "root:INFO: Singular kernel runtime [ms]: 22.251580999999998\n"
     ]
    }
   ],
   "source": [
    "mat = bempp.api.operators.boundary.laplace.single_layer(space, space, space).weak_form().A"
   ]
  },
  {
   "cell_type": "code",
   "execution_count": 5,
   "metadata": {},
   "outputs": [],
   "source": [
    "from bempp.api.utils import Octree\n",
    "box = grid.bounding_box\n",
    "vertices = np.empty((3,space.global_dof_count),np.float64)\n",
    "for index in range(space.global_dof_count):\n",
    "    elem,local_id = space.global2local[index][0]\n",
    "    edge_id = grid.element_edges[local_id,elem]\n",
    "    vertices[:,index] = .5*(grid.vertices[:,grid.edges[0,edge_id]] + grid.vertices[:,grid.edges[0,edge_id]])\n",
    "tree = Octree(box[:,0],box[:,1], 2,vertices)"
   ]
  },
  {
   "cell_type": "code",
   "execution_count": 6,
   "metadata": {},
   "outputs": [],
   "source": [
    "sorted_indices = tree.sorted_indices"
   ]
  },
  {
   "cell_type": "markdown",
   "metadata": {},
   "source": [
    "Construct the original matrix"
   ]
  },
  {
   "cell_type": "code",
   "execution_count": 7,
   "metadata": {},
   "outputs": [],
   "source": [
    "n = grid.number_of_elements\n",
    "nboxes = 64\n",
    "size = n // nboxes"
   ]
  },
  {
   "cell_type": "code",
   "execution_count": 8,
   "metadata": {},
   "outputs": [],
   "source": [
    "sorted_mat = mat[:, sorted_indices][sorted_indices, :]\n",
    "#sorted_mat[0:n//2,n//2:] = np.zeros((n//2,n//2))\n",
    "#sorted_mat[n//2:,0:n//2] = np.zeros((n//2,n//2))"
   ]
  },
  {
   "cell_type": "code",
   "execution_count": 9,
   "metadata": {},
   "outputs": [],
   "source": [
    "def get_box(nx, ny, sorted_mat, nboxes, n):\n",
    "    \"\"\"Return the content of a given box\"\"\"\n",
    "    xrange = [nx * size, (1 + nx) * size] \n",
    "    yrange = [ny * size, (1 + ny) * size] \n",
    "    return sorted_mat[xrange[0]:xrange[1], yrange[0]:yrange[1]] "
   ]
  },
  {
   "cell_type": "code",
   "execution_count": 10,
   "metadata": {},
   "outputs": [],
   "source": [
    "def plot_box_ranks(sorted_mat, nboxes, n, tol=1E-8):\n",
    "    \"\"\"Plot rank of the boxes.\"\"\"\n",
    "    from scipy.linalg import svdvals\n",
    "    ranks = np.zeros((nboxes,nboxes),dtype='int32')\n",
    "    for i in range(nboxes):\n",
    "        for j in range(nboxes):\n",
    "            m = get_box(i, j, sorted_mat, nboxes, n)\n",
    "            s = svdvals(m)\n",
    "            ranks[i,j] = np.sum(s>tol)\n",
    "    plt.imshow(ranks, cmap='Accent')\n",
    "    plt.colorbar()"
   ]
  },
  {
   "cell_type": "code",
   "execution_count": 11,
   "metadata": {},
   "outputs": [
    {
     "data": {
      "image/png": "[encoded data removed]",
      "text/plain": [
       "<Figure size 432x288 with 2 Axes>"
      ]
     },
     "metadata": {
      "needs_background": "light"
     },
     "output_type": "display_data"
    }
   ],
   "source": [
    "plot_box_ranks(sorted_mat,nboxes,n)"
   ]
  },
  {
   "cell_type": "markdown",
   "metadata": {},
   "source": [
    " Return $A_{i}$, which is the combination of the $i$th off-diagonal block row and the transpose of the $i$th off-diagonal block column."
   ]
  },
  {
   "cell_type": "code",
   "execution_count": 12,
   "metadata": {},
   "outputs": [],
   "source": [
    "def get_con_box(i,sorted_mat,nboxes,n):\n",
    "    BB = sorted_mat[i * size : (i + 1) * size, :]\n",
    "    B = np.delete(BB, np.s_[i*size : (i+1)*size], axis = 1)\n",
    "    \n",
    "    CC = np.transpose(sorted_mat[:, i * size : (i + 1) * size])\n",
    "    C = np.delete(CC, np.s_[i*size : (i+1)*size], axis = 1)\n",
    "    return np.hstack((B,C))"
   ]
  },
  {
   "cell_type": "markdown",
   "metadata": {},
   "source": [
    " Return $L_{i}$ and $R_{j}$ inside of $A_{ij} = L_{i}S_{ij}R_{j}$, where $R_{j} = L_{j}^{T}$ and $L_{i}$ is computed from the two-sided interpolated decompositon of $A_{i}$, which writes $A_{i} = L_{i}S_{i}V_{i}$. Also return the matrix S constructed by using the original matrix and the index set which is generated when computing $L_{i}$.\n"
   ]
  },
  {
   "cell_type": "code",
   "execution_count": 13,
   "metadata": {},
   "outputs": [],
   "source": [
    "def L(i,k,sorted_mat,nboxes,n):\n",
    "    idx1,proj1 = sli.interp_decomp(get_con_box(i,sorted_mat,nboxes,n), k, rand = False)\n",
    "    B1 = sli.reconstruct_skel_matrix(get_con_box(i,sorted_mat,nboxes,n),k,idx1)\n",
    "    B1_trans = np.transpose(B1)\n",
    "    \n",
    "    idx2,proj2 = sli.interp_decomp(B1_trans, k, rand = False)\n",
    "    P2_trans = sli.reconstruct_interp_matrix(idx2,proj2)\n",
    "\n",
    "    P2 = np.transpose(P2_trans)\n",
    "    return P2,idx2"
   ]
  },
  {
   "cell_type": "code",
   "execution_count": 14,
   "metadata": {},
   "outputs": [],
   "source": [
    "def index_set(k,sorted_mat,nboxes,n):\n",
    "    l = []\n",
    "    for i in range(nboxes):\n",
    "        l.append(L(i,k,sorted_mat,nboxes,n)[1][0:k])\n",
    "    return l"
   ]
  },
  {
   "cell_type": "code",
   "execution_count": 15,
   "metadata": {},
   "outputs": [],
   "source": [
    "def S(k,sorted_mat,nboxes,n):\n",
    "    ll = index_set(k,sorted_mat,nboxes,n)\n",
    "    mat = np.zeros((k*nboxes,k*nboxes))\n",
    "    for i in range(nboxes):\n",
    "        for j in range(nboxes):\n",
    "            if i != j:\n",
    "                mat_ =  get_box(i,j,sorted_mat,nboxes,n)[ll[i],:]\n",
    "                mat[i*k:(i+1)*k,j*k:(j+1)*k] = mat_[:,ll[j]]\n",
    "    return mat"
   ]
  },
  {
   "cell_type": "code",
   "execution_count": 17,
   "metadata": {},
   "outputs": [
    {
     "ename": "TypeError",
     "evalue": "'Grid' object is not subscriptable",
     "output_type": "error",
     "traceback": [
      "\u001b[0;31m---------------------------------------------------------------------------\u001b[0m",
      "\u001b[0;31mTypeError\u001b[0m                                 Traceback (most recent call last)",
      "\u001b[0;32m<ipython-input-17-dfb7e30e4db8>\u001b[0m in \u001b[0;36m<module>\u001b[0;34m\u001b[0m\n\u001b[0;32m----> 1\u001b[0;31m \u001b[0mgrid\u001b[0m\u001b[0;34m[\u001b[0m\u001b[0mindex_set\u001b[0m\u001b[0;34m(\u001b[0m\u001b[0;36m3\u001b[0m\u001b[0;34m,\u001b[0m\u001b[0msorted_mat\u001b[0m\u001b[0;34m,\u001b[0m\u001b[0mnboxes\u001b[0m\u001b[0;34m,\u001b[0m\u001b[0mn\u001b[0m\u001b[0;34m)\u001b[0m\u001b[0;34m]\u001b[0m\u001b[0;34m\u001b[0m\u001b[0m\n\u001b[0m",
      "\u001b[0;31mTypeError\u001b[0m: 'Grid' object is not subscriptable"
     ]
    }
   ],
   "source": [
    "gridindex_set(3,sorted_mat,nboxes,n)"
   ]
  },
  {
   "cell_type": "code",
   "execution_count": 16,
   "metadata": {},
   "outputs": [],
   "source": [
    "def R(i,k,sorted_mat,nboxes,n):\n",
    "    RR = np.transpose(L(i,k,sorted_mat,nboxes,n)[0])\n",
    "    return RR"
   ]
  },
  {
   "cell_type": "markdown",
   "metadata": {},
   "source": [
    "#### Construct the structured matrix and its LU decomposition\n",
    "$\\tilde{A} = \n",
    "\\begin{bmatrix}\n",
    "    D & L & 0 \\\\\n",
    "    R & 0 & -I \\\\\n",
    "    0 & -I & S\n",
    "\\end{bmatrix}\n",
    "= \\begin{bmatrix}\n",
    "    I & 0 & 0 \\\\\n",
    "    RD^{-1} & I & 0 \\\\\n",
    "    0 & (RD^{-1}L)^{-1} & I\n",
    "\\end{bmatrix}  \\begin{bmatrix}\n",
    "    D & L & 0 \\\\\n",
    "    0 & -RD^{-1}L & -I \\\\\n",
    "    0 & 0 & S+(RD^{-1}L)^{-1}\n",
    "\\end{bmatrix}$\n",
    "\n",
    "Then, we do the LU decomposition on each diagonal block's diagonal block (i.e. $A_{ii}$ and $-R_{i}A_{ii}^{-1}L_{i}$) and $S+(RD^{-1}L)^{-1}$."
   ]
  },
  {
   "cell_type": "markdown",
   "metadata": {},
   "source": [
    "#### Construct the matrix $S+(RD^{-1}L)^{-1}$ first"
   ]
  },
  {
   "cell_type": "code",
   "execution_count": 17,
   "metadata": {},
   "outputs": [],
   "source": [
    "def new_S(k,A,nboxes,n):\n",
    "    mat_ = S(k,sorted_mat,nboxes,n)\n",
    "    for i in range(nboxes):\n",
    "        mat_[i*k:(i+1)*k,i*k:(i+1)*k] = np.linalg.inv(R(i,k,sorted_mat,nboxes,n) @ np.linalg.inv(get_box(i,i,sorted_mat,nboxes,n)) @ L(i,k,sorted_mat,nboxes,n)[0])\n",
    "    return mat_"
   ]
  },
  {
   "cell_type": "markdown",
   "metadata": {},
   "source": [
    "#### Compute the log determinant of the structured matrix $\\tilde{A}$"
   ]
  },
  {
   "cell_type": "code",
   "execution_count": 18,
   "metadata": {},
   "outputs": [],
   "source": [
    "def logdet_method2(k,sorted_mat,nboxes,n):\n",
    "    a1 = 0\n",
    "    p1,l1,u1 = scipy.linalg.lu(new_S(k,sorted_mat,nboxes,n))\n",
    "    for i in range(k*nboxes):\n",
    "        a1 += math.log(abs(u1[i,i]))\n",
    "        \n",
    "    a2 = 0\n",
    "    for i in range (nboxes):\n",
    "        p2,l2,u2 = scipy.linalg.lu(get_box(i,i,sorted_mat,nboxes,n))\n",
    "        for j in range(size):\n",
    "            a2 +=math.log(abs(u2[j,j]))\n",
    "            \n",
    "    a3 = 0\n",
    "    for i in range(nboxes):\n",
    "        p3,l3,u3 = scipy.linalg.lu(-R(i,k,sorted_mat,nboxes,n)@np.linalg.inv(get_box(i,i,sorted_mat,nboxes,n)) @L(i,k,sorted_mat,nboxes,n)[0] )\n",
    "        for j in range(k):\n",
    "            a3 += math.log(abs(u3[j,j]))\n",
    "    return a1 + a2 + a3"
   ]
  },
  {
   "cell_type": "markdown",
   "metadata": {},
   "source": [
    "Compute the time under different rank"
   ]
  },
  {
   "cell_type": "code",
   "execution_count": 105,
   "metadata": {},
   "outputs": [],
   "source": [
    "def time_logdet(k,sorted_mat,nboxes,n):\n",
    "    start_time = time.time()\n",
    "    a = logdet_method2(k,sorted_mat,nboxes,n)\n",
    "    end_time = time.time()\n",
    "    b = end_time - start_time\n",
    "    return b"
   ]
  },
  {
   "cell_type": "markdown",
   "metadata": {},
   "source": [
    "#### Level 4 time"
   ]
  },
  {
   "cell_type": "code",
   "execution_count": 106,
   "metadata": {},
   "outputs": [],
   "source": [
    "l_time = []\n",
    "for i in range(1,size+1):\n",
    "    l_time.append(time_logdet(i,sorted_mat,nboxes,n))"
   ]
  },
  {
   "cell_type": "markdown",
   "metadata": {},
   "source": [
    "#### Level 3 time"
   ]
  },
  {
   "cell_type": "code",
   "execution_count": 76,
   "metadata": {},
   "outputs": [],
   "source": [
    "l_time3 = []\n",
    "for i in range(1,size+1):\n",
    "    l_time3.append(time_logdet(i,sorted_mat,nboxes,n))"
   ]
  },
  {
   "cell_type": "code",
   "execution_count": 107,
   "metadata": {},
   "outputs": [
    {
     "data": {
      "image/png": "[encoded data removed]",
      "text/plain": [
       "<Figure size 432x288 with 1 Axes>"
      ]
     },
     "metadata": {
      "needs_background": "light"
     },
     "output_type": "display_data"
    }
   ],
   "source": [
    "k_time = np.linspace(1,size+1,size)\n",
    "\n",
    "\n",
    "plt.plot(k_time,l_time3,color='orange',linewidth=1.0,linestyle='--')\n",
    "plt.plot(k_time,l_time,color='red',linewidth=1.0,linestyle='--')\n",
    "\n",
    "plt.legend(['level 3','level 4'])\n",
    "\n",
    "plt.ylabel('time')\n",
    "plt.xlabel('rank')\n",
    "plt.show()"
   ]
  },
  {
   "cell_type": "markdown",
   "metadata": {},
   "source": [
    "#### ***************Note that when I set the refinement level as 5, then the size of the matrix becomes $8192*8192$, then the computing time is at most 130 seconds."
   ]
  },
  {
   "cell_type": "markdown",
   "metadata": {},
   "source": [
    "Compute the log determinant of the original matrix"
   ]
  },
  {
   "cell_type": "markdown",
   "metadata": {},
   "source": [
    "#### Level 3 exact value"
   ]
  },
  {
   "cell_type": "code",
   "execution_count": 20,
   "metadata": {},
   "outputs": [],
   "source": [
    "P3,L3,U3 = scipy.linalg.lu(sorted_mat)\n",
    "\n",
    "logdet3 = 0\n",
    "for i in range(n):\n",
    "    logdet3 += math.log(U3[i,i])\n",
    "l3_det_exact = []\n",
    "for i in range(size):\n",
    "    l3_det_exact.append(logdet3)"
   ]
  },
  {
   "cell_type": "markdown",
   "metadata": {},
   "source": [
    "#### Level 3 exact value of $A_{\\infty}$"
   ]
  },
  {
   "cell_type": "code",
   "execution_count": 24,
   "metadata": {},
   "outputs": [],
   "source": [
    "PP3,LL3,UU3 = scipy.linalg.lu(sorted_mat)\n",
    "\n",
    "logdet33 = 0\n",
    "for i in range(n):\n",
    "    logdet33 += math.log(UU3[i,i])"
   ]
  },
  {
   "cell_type": "markdown",
   "metadata": {},
   "source": [
    "#### Level 3 approximated value"
   ]
  },
  {
   "cell_type": "code",
   "execution_count": 21,
   "metadata": {},
   "outputs": [],
   "source": [
    "l3_det = []\n",
    "for i in range(1,size+1):\n",
    "    l3_det.append(logdet_method2(i,sorted_mat,nboxes,n))"
   ]
  },
  {
   "cell_type": "markdown",
   "metadata": {},
   "source": [
    "#### Level 3 approximated value of $A_{\\infty}$"
   ]
  },
  {
   "cell_type": "code",
   "execution_count": 25,
   "metadata": {},
   "outputs": [],
   "source": [
    "l33_det = []\n",
    "for i in range(1,size+1):\n",
    "    l33_det.append(logdet_method2(i,sorted_mat,nboxes,n))"
   ]
  },
  {
   "cell_type": "markdown",
   "metadata": {},
   "source": [
    "#### $\\log\\det(A) - \\log\\det(A_{\\infty})$ in level 3"
   ]
  },
  {
   "cell_type": "code",
   "execution_count": 26,
   "metadata": {},
   "outputs": [],
   "source": [
    "diff_logdet3 = []\n",
    "for i in range(size):\n",
    "    diff_logdet3.append(l3_det[i]-l33_det[i])"
   ]
  },
  {
   "cell_type": "code",
   "execution_count": 28,
   "metadata": {},
   "outputs": [],
   "source": [
    "\"\"\"Exact difference\"\"\"\n",
    "diff3 = logdet3 - logdet33\n",
    "diff_exact3 = []\n",
    "for i in range(size):\n",
    "    diff_exact3.append(diff3)"
   ]
  },
  {
   "cell_type": "code",
   "execution_count": 31,
   "metadata": {},
   "outputs": [
    {
     "data": {
      "image/png": "[encoded data removed]",
      "text/plain": [
       "<Figure size 432x288 with 1 Axes>"
      ]
     },
     "metadata": {
      "needs_background": "light"
     },
     "output_type": "display_data"
    }
   ],
   "source": [
    "k_det = np.linspace(1,size+1,size)\n",
    "plt.plot(k_det,diff_logdet3,color='blue',linewidth=1.0,linestyle='--')\n",
    "plt.plot(k_det,diff_exact3,color='red',linewidth=1.0,linestyle='--')\n",
    "plt.legend(['diff-appro','diff-exact'])\n",
    "plt.ylabel('logdet difference in level 3')\n",
    "plt.xlabel('rank')\n",
    "plt.show()"
   ]
  },
  {
   "cell_type": "code",
   "execution_count": 81,
   "metadata": {},
   "outputs": [
    {
     "data": {
      "image/png": "[encoded data removed]",
      "text/plain": [
       "<Figure size 432x288 with 1 Axes>"
      ]
     },
     "metadata": {
      "needs_background": "light"
     },
     "output_type": "display_data"
    }
   ],
   "source": [
    "k_det = np.linspace(1,size+1,size)\n",
    "\n",
    "plt.plot(k_det,l3_det,color='blue',linewidth=1.0,linestyle='--')\n",
    "plt.plot(k_det,l3_det_exact,color='green',linewidth=1.0,linestyle='--')\n",
    "\n",
    "plt.legend(['level 3 appro','level 3 exact'])\n",
    "\n",
    "plt.ylabel('logdet')\n",
    "plt.xlabel('rank')\n",
    "plt.show()"
   ]
  },
  {
   "cell_type": "markdown",
   "metadata": {},
   "source": [
    "#### Level 4 exact value"
   ]
  },
  {
   "cell_type": "code",
   "execution_count": 19,
   "metadata": {},
   "outputs": [],
   "source": [
    "P4,L4,U4 = scipy.linalg.lu(sorted_mat)\n",
    "\n",
    "logdet4 = 0\n",
    "for i in range(n):\n",
    "    logdet4 += math.log(U4[i,i])\n",
    "    \n",
    "l4_det_exact = []\n",
    "for i in range(size):\n",
    "    l4_det_exact.append(logdet4)"
   ]
  },
  {
   "cell_type": "markdown",
   "metadata": {},
   "source": [
    "#### Level 4 exact value of $A_{\\infty}$"
   ]
  },
  {
   "cell_type": "code",
   "execution_count": 23,
   "metadata": {},
   "outputs": [],
   "source": [
    "PP4,LL4,UU4 = scipy.linalg.lu(sorted_mat)\n",
    "\n",
    "logdet44 = 0\n",
    "for i in range(n):\n",
    "    logdet44 += math.log(UU4[i,i])"
   ]
  },
  {
   "cell_type": "markdown",
   "metadata": {},
   "source": [
    "#### Level 4 approximated value"
   ]
  },
  {
   "cell_type": "code",
   "execution_count": 20,
   "metadata": {},
   "outputs": [],
   "source": [
    "l4_det = []\n",
    "for i in range(1,size+1):\n",
    "    l4_det.append(logdet_method2(i,sorted_mat,nboxes,n))"
   ]
  },
  {
   "cell_type": "markdown",
   "metadata": {},
   "source": [
    "#### Level 4 approximated value of $A_{\\infty}$"
   ]
  },
  {
   "cell_type": "code",
   "execution_count": 24,
   "metadata": {},
   "outputs": [],
   "source": [
    "l44_det = []\n",
    "for i in range(1,size+1):\n",
    "    l44_det.append(logdet_method2(i,sorted_mat,nboxes,n))"
   ]
  },
  {
   "cell_type": "markdown",
   "metadata": {},
   "source": [
    "$\\log\\det(A) - \\log(A_{\\infty})$ in level 4"
   ]
  },
  {
   "cell_type": "code",
   "execution_count": 25,
   "metadata": {},
   "outputs": [],
   "source": [
    "diff_logdet4 = []\n",
    "for i in range(size):\n",
    "    diff_logdet4.append(l4_det[i]-l44_det[i])"
   ]
  },
  {
   "cell_type": "code",
   "execution_count": 26,
   "metadata": {},
   "outputs": [],
   "source": [
    "\"\"\"Exact difference\"\"\"\n",
    "diff4 = logdet4 - logdet44\n",
    "diff_exact4 = []\n",
    "for i in range(size):\n",
    "    diff_exact4.append(diff4)"
   ]
  },
  {
   "cell_type": "code",
   "execution_count": 27,
   "metadata": {},
   "outputs": [
    {
     "data": {
      "image/png": "[encoded data removed]",
      "text/plain": [
       "<Figure size 432x288 with 1 Axes>"
      ]
     },
     "metadata": {
      "needs_background": "light"
     },
     "output_type": "display_data"
    }
   ],
   "source": [
    "k_det = np.linspace(1,size+1,size)\n",
    "plt.plot(k_det,diff_logdet4,color='blue',linewidth=1.0,linestyle='--')\n",
    "plt.plot(k_det,diff_exact4,color='red',linewidth=1.0,linestyle='--')\n",
    "plt.legend(['diff-appro','diff-exact'])\n",
    "plt.ylabel('logdet difference in level 4')\n",
    "plt.xlabel('rank')\n",
    "plt.show()"
   ]
  },
  {
   "cell_type": "code",
   "execution_count": 110,
   "metadata": {},
   "outputs": [
    {
     "data": {
      "image/png": "[encoded data removed]",
      "text/plain": [
       "<Figure size 432x288 with 1 Axes>"
      ]
     },
     "metadata": {
      "needs_background": "light"
     },
     "output_type": "display_data"
    }
   ],
   "source": [
    "k_det = np.linspace(1,size+1,size)\n",
    "\n",
    "plt.plot(k_det,l4_det,color='orange',linewidth=1.0,linestyle='--')\n",
    "plt.plot(k_det,l4_det_exact,color='grey',linewidth=1.0,linestyle='--')\n",
    "\n",
    "plt.legend(['level 4 appro','level 4 exact'])\n",
    "\n",
    "plt.ylabel('logdet')\n",
    "plt.xlabel('rank')\n",
    "plt.show()"
   ]
  },
  {
   "cell_type": "markdown",
   "metadata": {},
   "source": [
    "#### Level 3 relative error"
   ]
  },
  {
   "cell_type": "code",
   "execution_count": 82,
   "metadata": {},
   "outputs": [],
   "source": [
    "relative_error3 = []\n",
    "for i in range(size):\n",
    "    a = abs((l3_det[i] - logdet3)/logdet3)\n",
    "    relative_error3.append(np.log10(a))"
   ]
  },
  {
   "cell_type": "markdown",
   "metadata": {},
   "source": [
    "#### Level 4 relative error"
   ]
  },
  {
   "cell_type": "code",
   "execution_count": 111,
   "metadata": {},
   "outputs": [],
   "source": [
    "relative_error4 = []\n",
    "for i in range(size):\n",
    "    a = abs((l4_det[i] - logdet4)/logdet4)\n",
    "    relative_error4.append(np.log10(a))"
   ]
  },
  {
   "cell_type": "code",
   "execution_count": 112,
   "metadata": {},
   "outputs": [
    {
     "data": {
      "image/png": "[encoded data removed]",
      "text/plain": [
       "<Figure size 432x288 with 1 Axes>"
      ]
     },
     "metadata": {
      "needs_background": "light"
     },
     "output_type": "display_data"
    }
   ],
   "source": [
    "k_det = np.linspace(1,size+1,size)\n",
    "\n",
    "plt.plot(k_det,relative_error3,color='red',linewidth=1.0,linestyle='--')\n",
    "plt.plot(k_det,relative_error4,color='orange',linewidth=1.0,linestyle='--')\n",
    "\n",
    "\n",
    "plt.legend(['level 3','level 4'])\n",
    "\n",
    "plt.ylabel('log10 of the relative error')\n",
    "plt.xlabel('rank')\n",
    "plt.show()"
   ]
  },
  {
   "cell_type": "code",
   "execution_count": null,
   "metadata": {},
   "outputs": [],
   "source": []
  }
 ],
 "metadata": {
  "kernelspec": {
   "display_name": "Python 3",
   "language": "python",
   "name": "python3"
  },
  "language_info": {
   "codemirror_mode": {
    "name": "ipython",
    "version": 3
   },
   "file_extension": ".py",
   "mimetype": "text/x-python",
   "name": "python",
   "nbconvert_exporter": "python",
   "pygments_lexer": "ipython3",
   "version": "3.7.0"
  }
 },
 "nbformat": 4,
 "nbformat_minor": 2
}
