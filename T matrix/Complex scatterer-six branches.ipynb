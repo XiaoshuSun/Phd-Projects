{
 "cells": [
  {
   "cell_type": "code",
   "execution_count": 2,
   "metadata": {},
   "outputs": [],
   "source": [
    "import bempp.api\n",
    "from bempp.api.assembly.blocked_operator import BlockedOperator\n",
    "import math\n",
    "import numpy as np\n",
    "import scipy \n",
    "import cmath\n",
    "from numba import objmode\n",
    "from numpy.linalg import slogdet\n",
    "from bempp.api.operators.far_field import helmholtz as helmholtz_farfield\n",
    "import matplotlib.pyplot as plt"
   ]
  },
  {
   "cell_type": "code",
   "execution_count": 22,
   "metadata": {},
   "outputs": [],
   "source": [
    "wavenumber = 0.4\n",
    "#h = 0.05"
   ]
  },
  {
   "cell_type": "code",
   "execution_count": 3,
   "metadata": {},
   "outputs": [],
   "source": [
    "two_branches = bempp.api.import_grid('6branches.msh')\n",
    "space_two_branches = bempp.api.function_space(two_branches,'P',1)"
   ]
  },
  {
   "cell_type": "code",
   "execution_count": 4,
   "metadata": {},
   "outputs": [
    {
     "data": {
      "text/plain": [
       "(3, 13143)"
      ]
     },
     "execution_count": 4,
     "metadata": {},
     "output_type": "execute_result"
    }
   ],
   "source": [
    "two_branches.vertices.shape"
   ]
  },
  {
   "cell_type": "code",
   "execution_count": 7,
   "metadata": {},
   "outputs": [
    {
     "data": {
      "text/plain": [
       "1.0"
      ]
     },
     "execution_count": 7,
     "metadata": {},
     "output_type": "execute_result"
    }
   ],
   "source": [
    "max((two_branches.vertices)[1,:])"
   ]
  },
  {
   "cell_type": "code",
   "execution_count": 9,
   "metadata": {},
   "outputs": [
    {
     "data": {
      "text/plain": [
       "(3, 6306)"
      ]
     },
     "execution_count": 9,
     "metadata": {},
     "output_type": "execute_result"
    }
   ],
   "source": [
    "(bempp.api.shapes.sphere(r = 1, h=0.05, origin=(-((0.5/2) + 1), 0, 0))).vertices.shape"
   ]
  },
  {
   "cell_type": "code",
   "execution_count": 23,
   "metadata": {},
   "outputs": [],
   "source": [
    "unit_sphere = bempp.api.shapes.sphere(r = 1, origin=(0,0,0), h = h)\n",
    "vert_unit_sphere = unit_sphere.vertices\n",
    "space_unit_sphere = bempp.api.function_space(unit_sphere, 'P', 1)"
   ]
  },
  {
   "cell_type": "code",
   "execution_count": 24,
   "metadata": {},
   "outputs": [],
   "source": [
    "eta = wavenumber\n",
    "\n",
    "identity2 = bempp.api.operators.boundary.sparse.identity(space_two_branches, space_two_branches,space_two_branches)\n",
    "slp2 = bempp.api.operators.boundary.helmholtz.single_layer(space_two_branches,space_two_branches,space_two_branches,wavenumber)\n",
    "dlp2 = bempp.api.operators.boundary.helmholtz.double_layer(space_two_branches,space_two_branches,space_two_branches,wavenumber)\n",
    "slp_far2 = helmholtz_farfield.single_layer(space_two_branches, vert_unit_sphere, wavenumber)\n",
    "dlp_far2 = helmholtz_farfield.double_layer(space_two_branches, vert_unit_sphere,wavenumber)\n",
    "\n",
    "lhs2 = 0.5 * identity2 + dlp2 - 1j* eta *slp2"
   ]
  },
  {
   "cell_type": "code",
   "execution_count": 16,
   "metadata": {},
   "outputs": [],
   "source": [
    "def normalized_spherical_harmonics(p, q, x):\n",
    "    \"\"\"Spherical Harmonic function of degree q\"\"\"\n",
    "    azimuth = np.arctan2(x[1],x[0])\n",
    "    polar = np.arccos(x[2]/np.linalg.norm(x))\n",
    "    if p >= 0:\n",
    "        return ((-1)**p) * scipy.special.sph_harm(p,q,azimuth,polar)\n",
    "    else:\n",
    "        return scipy.special.sph_harm(-p,q,azimuth,polar)*np.exp(1j*2*p*azimuth)\n",
    "\n",
    "def spherical_bessel_function(q,x):\n",
    "    \"\"\"Spherical Bessel function of degree q\"\"\"\n",
    "    r = np.linalg.norm(x)\n",
    "    return np.sqrt(np.pi/(2*wavenumber*r))*scipy.special.jv(q+0.5, wavenumber*r)\n",
    "\n",
    "def regular_spherical_wavefunctions(p,q,x):\n",
    "    \"\"\"Regular Spherical Wavefunction\"\"\"\n",
    "    return spherical_bessel_function(q,x)*normalized_spherical_harmonics(p,q,x)\n",
    "\n",
    "d = [1,0,0]\n",
    "\n",
    "def coeff_sph_expansion(p,q):\n",
    "    \"\"\"Analytical formula of the coefficients of the spherical expansions of plane waves\"\"\"\n",
    "    coeff = 4*np.pi*(1j)**q*normalized_spherical_harmonics(-p,q,d)/(-1)**(abs(p))\n",
    "    return coeff\n",
    "\n",
    "def sca_far_field(x):\n",
    "    fun = 0\n",
    "    i = 0\n",
    "    for q in range(deg+1):\n",
    "        for p in range(-q,q+1):\n",
    "            fun += coeff_sca[i]*(1/wavenumber)*(-1j)**(q+1) * normalized_spherical_harmonics(p, q, x)\n",
    "            i +=1\n",
    "    return fun"
   ]
  },
  {
   "cell_type": "code",
   "execution_count": 25,
   "metadata": {},
   "outputs": [
    {
     "name": "stdout",
     "output_type": "stream",
     "text": [
      "5 (0.0006679143851854897-4.9247249508021934e-21j)\n",
      "10 (0.0006679822955916417-6.967549401684789e-21j)\n",
      "15 (0.000668066971032043-7.330682103643026e-21j)\n"
     ]
    }
   ],
   "source": [
    "for deg in [5,10,15]:\n",
    "    sph_harm_coeff = []\n",
    "    slp_far_field_coeff = []\n",
    "    for q in range(deg+1):\n",
    "        for p in range(-q,q+1):\n",
    "            @bempp.api.complex_callable\n",
    "            def sph_harm(x,n,domain_index,result):\n",
    "                with objmode():\n",
    "                    result[0] = normalized_spherical_harmonics(p,q,x)\n",
    "            sph_harm_grid = bempp.api.GridFunction(space_unit_sphere,fun = sph_harm)\n",
    "            sph_harm_coeff.append(np.conj(sph_harm_grid.coefficients)/((-1j)**(q+1)))\n",
    "\n",
    "            @bempp.api.complex_callable\n",
    "            def dirichlet_fun(x,n,domain_index,result):\n",
    "                    with objmode():\n",
    "                        result[0] = - regular_spherical_wavefunctions(p,q,x)\n",
    "\n",
    "            rhs_fun = bempp.api.GridFunction(space_two_branches, fun = dirichlet_fun)\n",
    "            field, info = bempp.api.linalg.gmres(lhs2, rhs_fun, tol=1E-5)\n",
    "            slp_far_field_coeff.append(dlp_far2.evaluate(field) - 1j * eta * slp_far2.evaluate(field))\n",
    "\n",
    "    mass_mat = bempp.api.operators.boundary.sparse.identity(space_unit_sphere,space_unit_sphere,space_unit_sphere).weak_form().A\n",
    "\n",
    "    T_matrix = np.zeros(((deg+1)**2,(deg+1)**2),dtype = complex)\n",
    "    for i in range((deg+1)**2):\n",
    "        for j in range((deg+1)**2):\n",
    "            T_matrix[i,j] = (slp_far_field_coeff[j] @ mass_mat @ sph_harm_coeff[i])*wavenumber\n",
    "\n",
    "    coeff_inc = []\n",
    "    for q in range(deg+1):\n",
    "        for p in range(-q, q+1):\n",
    "            coeff_inc.append(coeff_sph_expansion(p,q))\n",
    "\n",
    "    coeff_sca = T_matrix @ coeff_inc\n",
    "\n",
    "    far_list_test = []\n",
    "    for i in range(vert_unit_sphere.shape[1]):\n",
    "        far_list_test.append(sca_far_field(vert_unit_sphere[:,i]))\n",
    "\n",
    "    @bempp.api.complex_callable\n",
    "    def exact_data(x, n, domain_index, result):\n",
    "        with objmode():\n",
    "            result[0] = - np.exp(1j * wavenumber * (x[0]*d[0]+x[1]*d[1]+x[2]*d[2]))\n",
    "\n",
    "    grid_fun = bempp.api.GridFunction(space_two_branches, fun=exact_data)\n",
    "    fun_exact, info_exact = bempp.api.linalg.gmres(lhs2, grid_fun, tol=1E-5)\n",
    "    res_exact = dlp_far2.evaluate(fun_exact) - 1j * eta * slp_far2.evaluate(fun_exact)\n",
    "    err = np.sqrt((far_list_test - res_exact[0,:]) @ mass_mat @ np.conj(far_list_test - res_exact[0,:]))/np.sqrt(res_exact[0,:]@ mass_mat @ np.conj(res_exact[0,:]))\n",
    "\n",
    "    print(deg,err)"
   ]
  },
  {
   "cell_type": "code",
   "execution_count": null,
   "metadata": {},
   "outputs": [],
   "source": [
    "#direction is d = [1/np.sqrt(3),1/np.sqrt(3),1/np.sqrt(3)]\n",
    "0.2 5 (0.007351923435187111+2.3590972205251136e-20j)\n",
    "0.2 10 (0.00759277833696626+1.1271393420564968e-21j)\n",
    "0.2 15 (0.007588186874124422-1.9185535296060087e-20j)\n",
    "\n",
    "0.1 5 (0.0018627313019147786-9.30902747367178e-22j)\n",
    "0.1 10 (0.0018639878945194862-9.176452131303642e-22j)\n",
    "0.1 15 (0.0018658758802338464-8.977438132244697e-22j)\n",
    "\n",
    "0.05 5 (0.00037498540263131716-1.483299909234925e-21j)\n",
    "0.05 10 (0.00037510620312701184-8.85837062506242e-22j)\n",
    "0.05 15 (0.0003752609281838623-8.975673747944221e-23j)"
   ]
  },
  {
   "cell_type": "code",
   "execution_count": null,
   "metadata": {},
   "outputs": [],
   "source": [
    "#direction is d = [0,0,1]\n",
    "\n",
    "0.2 5 (0.008001532970792676+0j)\n",
    "0.2 10 (0.008014214040109836+0j)\n",
    "0.2 15 (0.00800895248220308+0j)\n",
    "\n",
    "0.1 5 (0.002294901400350088+0j)\n",
    "0.1 10 (0.002295903053736612-8.351305342504683e-21j)\n",
    "0.1 15 (0.0022972983566295234+1.669246607277791e-20j)\n",
    "\n",
    "0.05 5 (0.0008076552727085955+9.04292323953326e-21j)\n",
    "0.05 10 (0.0008077094880485937+1.0524517475701347e-20j)\n",
    "0.05 15 (0.0008077788430789625+9.043400204245478e-21j)"
   ]
  },
  {
   "cell_type": "code",
   "execution_count": null,
   "metadata": {},
   "outputs": [],
   "source": [
    "#direction is d = [1,0,0]\n",
    "\n",
    "0.2 5 (0.007874839660089122+0j)\n",
    "0.2 10 (0.007888471191150935+0j)\n",
    "0.2 15 (0.007883560157738046+0j)\n",
    "\n",
    "0.1 5 (0.002154148329854347-4.33099895481891e-20j)\n",
    "0.1 10 (0.002155215218119084-4.333143975148033e-20j)\n",
    "0.1 15 (0.0021568029065670248-7.803333004995576e-21j)\n",
    "\n",
    "0.05 5 (0.0006679143851854897-4.9247249508021934e-21j)\n",
    "0.05 10 (0.0006679822955916417-6.967549401684789e-21j)"
   ]
  },
  {
   "cell_type": "code",
   "execution_count": 26,
   "metadata": {},
   "outputs": [],
   "source": [
    "x_axis = [5, 10, 15]\n",
    "\n",
    "#direction is d = [1,0,0]\n",
    "d1_02 = [0.007874839660089122, 0.007888471191150935, 0.007883560157738046]\n",
    "d1_01 = [0.002154148329854347, 0.002155215218119084, 0.0021568029065670248]\n",
    "d1_005 = [0.0006679143851854897, 0.0006679822955916417, 0.000668066971032043]\n",
    "\n",
    "#direction is d = [0,0,1]\n",
    "d2_02 = [0.008001532970792676, 0.008014214040109836, 0.00800895248220308]\n",
    "d2_01 = [0.002294901400350088, 0.002295903053736612, 0.0022972983566295234]\n",
    "d2_005 = [0.0008076552727085955, 0.0008077094880485937, 0.0008077788430789625]\n",
    "\n",
    "#direction is d = [1/np.sqrt(3),1/np.sqrt(3),1/np.sqrt(3)]\n",
    "d3_02 = [0.007351923435187111, 0.00759277833696626, 0.007588186874124422]\n",
    "d3_01 = [0.0018627313019147786, 0.0018639878945194862, 0.0018658758802338464]\n",
    "d3_005 = [0.00037498540263131716, 0.00037510620312701184, 0.0003752609281838623]"
   ]
  },
  {
   "cell_type": "code",
   "execution_count": 27,
   "metadata": {},
   "outputs": [
    {
     "data": {
      "text/plain": [
       "<Figure size 432x288 with 0 Axes>"
      ]
     },
     "metadata": {},
     "output_type": "display_data"
    },
    {
     "data": {
      "image/png": "[encoded data removed]",
      "text/plain": [
       "<Figure size 1800x360 with 3 Axes>"
      ]
     },
     "metadata": {
      "needs_background": "light"
     },
     "output_type": "display_data"
    }
   ],
   "source": [
    "fig = plt.figure()\n",
    "plt.figure(figsize = (25,5))\n",
    "plt.subplot(1,3,1)\n",
    "plt.semilogy(x_axis,d1_02,'*-')\n",
    "plt.semilogy(x_axis,d1_01,'*-')\n",
    "plt.semilogy(x_axis,d1_005,'*-')\n",
    "plt.legend(['h = 0.2','h = 0.1','h = 0.05'],  bbox_to_anchor=(0.7,0.6))\n",
    "plt.xlabel('Degree of spherical expansion',fontsize = 15)\n",
    "plt.ylabel('Error by comparing the far fields',fontsize = 15)\n",
    "plt.title('T-matrix accuracy ---- d = [1,0,0]',fontsize = 15)\n",
    "\n",
    "plt.subplot(1,3,2)\n",
    "plt.semilogy(x_axis,d2_02,'*-')\n",
    "plt.semilogy(x_axis,d2_01,'*-')\n",
    "plt.semilogy(x_axis,d2_005,'*-')\n",
    "plt.legend(['h = 0.2','h = 0.1','h = 0.05'], bbox_to_anchor=(0.9,0.8))\n",
    "plt.xlabel('Degree of spherical expansion',fontsize = 15)\n",
    "plt.ylabel('Error by comparing the far fields',fontsize = 15)\n",
    "plt.title('T-matrix accuracy ---- d = [0,0,1]',fontsize = 15)\n",
    "\n",
    "plt.subplot(1,3,3)\n",
    "plt.semilogy(x_axis,d3_02,'*-')\n",
    "plt.semilogy(x_axis,d3_01,'*-')\n",
    "plt.semilogy(x_axis,d3_005,'*-')\n",
    "plt.legend(['h = 0.2','h = 0.1','h = 0.05'], bbox_to_anchor=(0.9,0.8))\n",
    "plt.xlabel('Degree of spherical expansion',fontsize = 15)\n",
    "plt.ylabel('Error by comparing the far fields',fontsize = 15)\n",
    "plt.title('T-matrix accuracy ---- d = [1,1,1]',fontsize = 15)\n",
    "plt.savefig('six branches T matrix accuracy.pdf',bbox_inches='tight')"
   ]
  },
  {
   "cell_type": "code",
   "execution_count": null,
   "metadata": {},
   "outputs": [],
   "source": []
  }
 ],
 "metadata": {
  "kernelspec": {
   "display_name": "Python 3",
   "language": "python",
   "name": "python3"
  },
  "language_info": {
   "codemirror_mode": {
    "name": "ipython",
    "version": 3
   },
   "file_extension": ".py",
   "mimetype": "text/x-python",
   "name": "python",
   "nbconvert_exporter": "python",
   "pygments_lexer": "ipython3",
   "version": "3.7.0"
  }
 },
 "nbformat": 4,
 "nbformat_minor": 2
}
