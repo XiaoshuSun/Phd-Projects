{
 "cells": [
  {
   "cell_type": "code",
   "execution_count": 1,
   "metadata": {},
   "outputs": [],
   "source": [
    "import bempp.api\n",
    "from bempp.api.assembly.blocked_operator import BlockedOperator\n",
    "import math\n",
    "import numpy as np\n",
    "import scipy \n",
    "import cmath\n",
    "from numba import objmode\n",
    "from numpy.linalg import slogdet\n",
    "from bempp.api.operators.far_field import helmholtz as helmholtz_farfield\n",
    "import matplotlib.pyplot as plt\n",
    "bempp.core.opencl_kernels.set_default_device(0,0)"
   ]
  },
  {
   "cell_type": "code",
   "execution_count": 2,
   "metadata": {},
   "outputs": [],
   "source": [
    "wavenumber = 0.4\n",
    "h = 0.05"
   ]
  },
  {
   "cell_type": "code",
   "execution_count": 3,
   "metadata": {},
   "outputs": [],
   "source": [
    "two_branches = bempp.api.import_grid('2branches.msh')\n",
    "space_two_branches = bempp.api.function_space(two_branches,'P',1)"
   ]
  },
  {
   "cell_type": "code",
   "execution_count": 4,
   "metadata": {},
   "outputs": [],
   "source": [
    "unit_sphere = bempp.api.shapes.sphere(r = 1, origin=(0,0,0), h = h)\n",
    "vert_unit_sphere = unit_sphere.vertices\n",
    "space_unit_sphere = bempp.api.function_space(unit_sphere, 'P', 1)"
   ]
  },
  {
   "cell_type": "code",
   "execution_count": 5,
   "metadata": {},
   "outputs": [],
   "source": [
    "mass_mat = bempp.api.operators.boundary.sparse.identity(space_unit_sphere,space_unit_sphere,space_unit_sphere).weak_form().A"
   ]
  },
  {
   "cell_type": "code",
   "execution_count": 7,
   "metadata": {},
   "outputs": [
    {
     "data": {
      "text/plain": [
       "(6297, 6297)"
      ]
     },
     "execution_count": 7,
     "metadata": {},
     "output_type": "execute_result"
    }
   ],
   "source": [
    "mass_mat.shape"
   ]
  },
  {
   "cell_type": "code",
   "execution_count": 46,
   "metadata": {},
   "outputs": [],
   "source": [
    "eta = wavenumber\n",
    "\n",
    "identity2 = bempp.api.operators.boundary.sparse.identity(space_two_branches, space_two_branches,space_two_branches)\n",
    "slp2 = bempp.api.operators.boundary.helmholtz.single_layer(space_two_branches,space_two_branches,space_two_branches,wavenumber)\n",
    "dlp2 = bempp.api.operators.boundary.helmholtz.double_layer(space_two_branches,space_two_branches,space_two_branches,wavenumber)\n",
    "slp_far2 = helmholtz_farfield.single_layer(space_two_branches, vert_unit_sphere, wavenumber)\n",
    "dlp_far2 = helmholtz_farfield.double_layer(space_two_branches, vert_unit_sphere,wavenumber)\n",
    "\n",
    "lhs2 = 0.5 * identity2 + dlp2 - 1j* eta *slp2"
   ]
  },
  {
   "cell_type": "code",
   "execution_count": 27,
   "metadata": {},
   "outputs": [],
   "source": [
    "def normalized_spherical_harmonics(p, q, x):\n",
    "    \"\"\"Spherical Harmonic function of degree q\"\"\"\n",
    "    azimuth = np.arctan2(x[1],x[0])\n",
    "    polar = np.arccos(x[2]/np.linalg.norm(x))\n",
    "    if p >= 0:\n",
    "        return ((-1)**p) * scipy.special.sph_harm(p,q,azimuth,polar)\n",
    "    else:\n",
    "        return scipy.special.sph_harm(-p,q,azimuth,polar)*np.exp(1j*2*p*azimuth)\n",
    "\n",
    "def spherical_bessel_function(q,x):\n",
    "    \"\"\"Spherical Bessel function of degree q\"\"\"\n",
    "    r = np.linalg.norm(x)\n",
    "    return np.sqrt(np.pi/(2*wavenumber*r))*scipy.special.jv(q+0.5, wavenumber*r)\n",
    "\n",
    "def regular_spherical_wavefunctions(p,q,x):\n",
    "    \"\"\"Regular Spherical Wavefunction\"\"\"\n",
    "    return spherical_bessel_function(q,x)*normalized_spherical_harmonics(p,q,x)\n",
    "\n",
    "d = [1/np.sqrt(3),1/np.sqrt(3),1/np.sqrt(3)]\n",
    "\n",
    "def coeff_sph_expansion(p,q):\n",
    "    \"\"\"Analytical formula of the coefficients of the spherical expansions of plane waves\"\"\"\n",
    "    coeff = 4*np.pi*(1j)**q*normalized_spherical_harmonics(-p,q,d)/(-1)**(abs(p))\n",
    "    return coeff\n",
    "\n",
    "def sca_far_field(x):\n",
    "    fun = 0\n",
    "    i = 0\n",
    "    for q in range(deg+1):\n",
    "        for p in range(-q,q+1):\n",
    "            fun += coeff_sca[i]*(1/wavenumber)*(-1j)**(q+1) * normalized_spherical_harmonics(p, q, x)\n",
    "            i +=1\n",
    "    return fun"
   ]
  },
  {
   "cell_type": "code",
   "execution_count": 47,
   "metadata": {},
   "outputs": [
    {
     "name": "stdout",
     "output_type": "stream",
     "text": [
      "5 (0.00015588552792557376+6.710007007395648e-22j)\n",
      "10 (0.0001561685337717293-5.456555124075821e-22j)\n",
      "15 (0.00015655120740610236-2.9694049979408596e-21j)\n"
     ]
    }
   ],
   "source": [
    "for deg in [5,10,15]:\n",
    "    sph_harm_coeff = []\n",
    "    slp_far_field_coeff = []\n",
    "    for q in range(deg+1):\n",
    "        for p in range(-q,q+1):\n",
    "            @bempp.api.complex_callable\n",
    "            def sph_harm(x,n,domain_index,result):\n",
    "                with objmode():\n",
    "                    result[0] = normalized_spherical_harmonics(p,q,x)\n",
    "            sph_harm_grid = bempp.api.GridFunction(space_unit_sphere,fun = sph_harm)\n",
    "            sph_harm_coeff.append(np.conj(sph_harm_grid.coefficients)/((-1j)**(q+1)))\n",
    "\n",
    "            @bempp.api.complex_callable\n",
    "            def dirichlet_fun(x,n,domain_index,result):\n",
    "                    with objmode():\n",
    "                        result[0] = - regular_spherical_wavefunctions(p,q,x)\n",
    "\n",
    "            rhs_fun = bempp.api.GridFunction(space_two_branches, fun = dirichlet_fun)\n",
    "            field, info = bempp.api.linalg.gmres(lhs2, rhs_fun, tol=1E-5)\n",
    "            slp_far_field_coeff.append(dlp_far2.evaluate(field) - 1j * eta * slp_far2.evaluate(field))\n",
    "\n",
    "    mass_mat = bempp.api.operators.boundary.sparse.identity(space_unit_sphere,space_unit_sphere,space_unit_sphere).weak_form().A\n",
    "\n",
    "    T_matrix = np.zeros(((deg+1)**2,(deg+1)**2),dtype = complex)\n",
    "    for i in range((deg+1)**2):\n",
    "        for j in range((deg+1)**2):\n",
    "            T_matrix[i,j] = (slp_far_field_coeff[j] @ mass_mat @ sph_harm_coeff[i])*wavenumber\n",
    "\n",
    "    coeff_inc = []\n",
    "    for q in range(deg+1):\n",
    "        for p in range(-q, q+1):\n",
    "            coeff_inc.append(coeff_sph_expansion(p,q))\n",
    "\n",
    "    coeff_sca = T_matrix @ coeff_inc\n",
    "\n",
    "    far_list_test = []\n",
    "    for i in range(vert_unit_sphere.shape[1]):\n",
    "        far_list_test.append(sca_far_field(vert_unit_sphere[:,i]))\n",
    "\n",
    "    @bempp.api.complex_callable\n",
    "    def exact_data(x, n, domain_index, result):\n",
    "        with objmode():\n",
    "            result[0] = - np.exp(1j * wavenumber * (x[0]*d[0]+x[1]*d[1]+x[2]*d[2]))\n",
    "\n",
    "    grid_fun = bempp.api.GridFunction(space_two_branches, fun=exact_data)\n",
    "    fun_exact, info_exact = bempp.api.linalg.gmres(lhs2, grid_fun, tol=1E-5)\n",
    "    res_exact = dlp_far2.evaluate(fun_exact) - 1j * eta * slp_far2.evaluate(fun_exact)\n",
    "    err = np.sqrt((far_list_test - res_exact[0,:]) @ mass_mat @ np.conj(far_list_test - res_exact[0,:]))/np.sqrt(res_exact[0,:]@ mass_mat @ np.conj(res_exact[0,:]))\n",
    "\n",
    "    print(deg,err)"
   ]
  },
  {
   "cell_type": "code",
   "execution_count": null,
   "metadata": {},
   "outputs": [],
   "source": [
    "#direction is d = [1/np.sqrt(3),1/np.sqrt(3),1/np.sqrt(3)]\n",
    "0.2 5 (0.007351923435187111+2.3590972205251136e-20j)\n",
    "0.2 10 (0.007367122387670303+3.693194825379269e-20j)\n",
    "0.2 15 (0.0073630871792327+2.3626794609797075e-20j)\n",
    "\n",
    "0.1 5 (0.0016179111799265059+0j)\n",
    "0.1 10 (0.0016194314815106035+0j)\n",
    "0.1 15 (0.0016216814348588705-1.5007912962150346e-20j)\n",
    "\n",
    "0.05 5 (0.00015588552792557376+6.710007007395648e-22j)\n",
    "0.05 10 (0.0001561685337717293-5.456555124075821e-22j)\n",
    "0.05 15 (0.17485176806700486+9.678607065653424e-19j)"
   ]
  },
  {
   "cell_type": "code",
   "execution_count": null,
   "metadata": {},
   "outputs": [],
   "source": [
    "#direction is d = [0,0,1]\n",
    "\n",
    "0.2 5 (0.008703785970348963+0j)\n",
    "0.2 10 (0.008714334283577136+0j)\n",
    "0.2 15 (0.008708031276907172+0j)\n",
    "0.2 20 (0.008688454544813963+0j)\n",
    "\n",
    "0.1 5 (0.002988331777867179+3.414235908635529e-20j)\n",
    "0.1 10 (0.0029890902834077172+0j)\n",
    "0.1 15 (0.002990049837510448+1.706137057468883e-20j)\n",
    "\n",
    "0.05 5 (0.001509693142355568-3.5874582193980786e-21j)\n",
    "0.05 10 (0.0015097210979036887+6.299563021643765e-22j)\n",
    "0.05 15 (0.001509755813447563-5.695870895845743e-21j)"
   ]
  },
  {
   "cell_type": "code",
   "execution_count": null,
   "metadata": {},
   "outputs": [],
   "source": [
    "#direction is d = [1,0,0]\n",
    "\n",
    "0.2 5 (0.008107593611668065-1.0166993023242574e-19j)\n",
    "0.2 10 (0.008120242971940589-7.571993336571069e-21j)\n",
    "0.2 15 (0.008114996315747306-1.0176276078651083e-19j)\n",
    "0.2 20 (0.00809579189085443-6.98069899997585e-21j)\n",
    "\n",
    "0.1 5 (0.0023785082319358153-1.9994253763001012e-20j)\n",
    "0.1 10 (0.002379505994800906-1.9985869869888948e-20j)\n",
    "0.1 15 (0.00238086194864934+0j)\n",
    "0.1 20 (0.0023812408005103904+0j)\n",
    "\n",
    "0.05 5 (0.0008751305300336465+2.5904522563827e-23j)\n",
    "0.05 10 (0.0008751807708337108+1.5285997530597268e-20j)\n",
    "0.05 15 (0.0008752445458805571+1.3590520310508628e-20j)\n",
    "0.05 20 (0.0008752915627609611+4.266566562510223e-21j)"
   ]
  },
  {
   "cell_type": "code",
   "execution_count": 1,
   "metadata": {},
   "outputs": [],
   "source": [
    "x_axis = [5, 10, 15]\n",
    "\n",
    "#direction is d = [1,0,0]\n",
    "d1_02 = [0.008107593611668065,0.008120242971940589,0.008114996315747306]\n",
    "d1_01 = [0.0023785082319358153, 0.002379505994800906, 0.00238086194864934]\n",
    "d1_005 = [0.0008751305300336465, 0.0008751807708337108, 0.0008752445458805571]\n",
    "\n",
    "#direction is d = [0,0,1]\n",
    "d2_02 = [0.008703785970348963, 0.008714334283577136, 0.008708031276907172]\n",
    "d2_01 = [0.002988331777867179, 0.0029890902834077172, 0.002990049837510448]\n",
    "d2_005 = [0.001509693142355568, 0.0015097210979036887, 0.001509755813447563]\n",
    "\n",
    "#direction is d = [1/np.sqrt(3),1/np.sqrt(3),1/np.sqrt(3)]\n",
    "d3_02 = [0.007351923435187111, 0.007367122387670303, 0.0073630871792327]\n",
    "d3_01 = [0.0016179111799265059, 0.0016194314815106035, 0.0016216814348588705]\n",
    "d3_005 = [0.00015588552792557376, 0.0001561685337717293, 0.00015655120740610236]"
   ]
  },
  {
   "cell_type": "code",
   "execution_count": 52,
   "metadata": {},
   "outputs": [
    {
     "data": {
      "text/plain": [
       "<Figure size 432x288 with 0 Axes>"
      ]
     },
     "metadata": {},
     "output_type": "display_data"
    },
    {
     "data": {
      "image/png": "[encoded data removed]",
      "text/plain": [
       "<Figure size 1800x360 with 3 Axes>"
      ]
     },
     "metadata": {
      "needs_background": "light"
     },
     "output_type": "display_data"
    }
   ],
   "source": [
    "fig = plt.figure()\n",
    "plt.figure(figsize = (25,5))\n",
    "plt.subplot(1,3,1)\n",
    "plt.semilogy(x_axis,d1_02,'*-')\n",
    "plt.semilogy(x_axis,d1_01,'*-')\n",
    "plt.semilogy(x_axis,d1_005,'*-')\n",
    "plt.legend(['h = 0.2','h = 0.1','h = 0.05'],  bbox_to_anchor=(0.7,0.6))\n",
    "plt.xlabel('Degree of spherical expansion',fontsize = 15)\n",
    "plt.ylabel('Error by comparing the far fields',fontsize = 15)\n",
    "plt.title('T-matrix accuracy ---- d = [1,0,0]',fontsize = 15)\n",
    "\n",
    "plt.subplot(1,3,2)\n",
    "plt.semilogy(x_axis,d2_02,'*-')\n",
    "plt.semilogy(x_axis,d2_01,'*-')\n",
    "plt.semilogy(x_axis,d2_005,'*-')\n",
    "plt.legend(['h = 0.2','h = 0.1','h = 0.05'], bbox_to_anchor=(0.9,0.8))\n",
    "plt.xlabel('Degree of spherical expansion',fontsize = 15)\n",
    "plt.ylabel('Error by comparing the far fields',fontsize = 15)\n",
    "plt.title('T-matrix accuracy ---- d = [0,0,1]',fontsize = 15)\n",
    "\n",
    "plt.subplot(1,3,3)\n",
    "plt.semilogy(x_axis,d3_02,'*-')\n",
    "plt.semilogy(x_axis,d3_01,'*-')\n",
    "plt.semilogy(x_axis,d3_005,'*-')\n",
    "plt.legend(['h = 0.2','h = 0.1','h = 0.05'], bbox_to_anchor=(0.9,0.8))\n",
    "plt.xlabel('Degree of spherical expansion',fontsize = 15)\n",
    "plt.ylabel('Error by comparing the far fields',fontsize = 15)\n",
    "plt.title('T-matrix accuracy ---- d = [1,1,1]',fontsize = 15)\n",
    "plt.savefig('two branches T matrix accuracy.pdf',bbox_inches='tight')"
   ]
  },
  {
   "cell_type": "code",
   "execution_count": null,
   "metadata": {},
   "outputs": [],
   "source": []
  }
 ],
 "metadata": {
  "kernelspec": {
   "display_name": "Python 3",
   "language": "python",
   "name": "python3"
  },
  "language_info": {
   "codemirror_mode": {
    "name": "ipython",
    "version": 3
   },
   "file_extension": ".py",
   "mimetype": "text/x-python",
   "name": "python",
   "nbconvert_exporter": "python",
   "pygments_lexer": "ipython3",
   "version": "3.7.0"
  }
 },
 "nbformat": 4,
 "nbformat_minor": 2
}
