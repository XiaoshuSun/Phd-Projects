{
 "cells": [
  {
   "cell_type": "markdown",
   "metadata": {},
   "source": [
    "# T matrix for electromagnetic scattering"
   ]
  },
  {
   "cell_type": "code",
   "execution_count": 1,
   "metadata": {},
   "outputs": [],
   "source": [
    "import bempp.api\n",
    "import numpy as np\n",
    "import scipy\n",
    "from numba import objmode\n",
    "import numba\n",
    "import math\n",
    "%matplotlib inline\n",
    "import matplotlib.pyplot as plt\n",
    "bempp.core.opencl_kernels.set_default_device(0,0)"
   ]
  },
  {
   "cell_type": "code",
   "execution_count": 2,
   "metadata": {},
   "outputs": [],
   "source": [
    "d0 = [0,0,-1] # wave's travel direction\n",
    "p0 = [1,0,0] # polarization \n",
    "k = 5 # wavenumber\n",
    "deg = 10"
   ]
  },
  {
   "cell_type": "code",
   "execution_count": 3,
   "metadata": {},
   "outputs": [],
   "source": [
    "def coeff_inc(p,q):\n",
    "    alpha_q = (0.5*(-1j)**q)*(2*q+1)/(q*(q+1))\n",
    "    c_q_neg1 = np.sqrt(((2*q+1)/(4*np.pi))*(math.factorial(q-1)/math.factorial(q+1)))\n",
    "    c_q_pos1 = -c_q_neg1\n",
    "    if p == -1:\n",
    "        return (-1j)*alpha_q / c_q_neg1,  alpha_q / c_q_neg1\n",
    "    elif p == 1:\n",
    "        return (1j)*alpha_q / c_q_pos1,  alpha_q / c_q_pos1\n",
    "    else:\n",
    "        return 0, 0"
   ]
  },
  {
   "cell_type": "code",
   "execution_count": 3,
   "metadata": {},
   "outputs": [],
   "source": [
    "def sph_b(q,x):\n",
    "    \"\"\"Spherical Bessel function of degree q\"\"\"\n",
    "    r = np.linalg.norm(x)\n",
    "    return np.sqrt(np.pi/(2*k*r))*scipy.special.jv(q+0.5, k*r)  \n",
    "\n",
    "def sph_b_dr(q,x):\n",
    "    r = np.linalg.norm(x)\n",
    "    return k*(sph_b(q-1,x) - ((q+1)/(k*r))*sph_b(q,x))\n",
    "\n",
    "def sph_b_dr2(q,x):\n",
    "    r = np.linalg.norm(x)\n",
    "    return (k**2)*(0.25 * sph_b(q-2,x) + (3 - 2*(k*r)**2)*sph_b(q,x) / (4*((k*r)**2)) + (1/(2*k*r))*sph_b(q+1,x) + 0.25 * sph_b(q+2,x) - (1/(2*k*r))*sph_b(q-1,x))"
   ]
  },
  {
   "cell_type": "code",
   "execution_count": 5,
   "metadata": {},
   "outputs": [],
   "source": [
    "def sph(p, q, x):\n",
    "    \"\"\"Spherical Harmonic function of degree q\"\"\"\n",
    "    azimuth = np.arctan2(x[1],x[0])\n",
    "    polar = np.arccos(x[2]/np.linalg.norm(x))\n",
    "    if p >= 0:\n",
    "        return ((-1)**p) * scipy.special.sph_harm(p,q,azimuth,polar)\n",
    "    else:\n",
    "        return scipy.special.sph_harm(-p,q,azimuth,polar)*np.exp(1j*2*p*azimuth)\n",
    "    \n",
    "def sph_dazi(p, q, x):\n",
    "    return 1j * p * sph(p, q, x)\n",
    "\n",
    "def sph_dazi2(p, q, x):\n",
    "    return (-1) * p**2 * sph(p, q, x)"
   ]
  },
  {
   "cell_type": "code",
   "execution_count": 7,
   "metadata": {},
   "outputs": [],
   "source": [
    "def sph_dpolar(p, q, x):\n",
    "    polar = np.arccos(x[2]/np.linalg.norm(x))\n",
    "    azimuth = np.arctan2(x[1],x[0])\n",
    "    y1 = sph(p, q, x)\n",
    "    \n",
    "    if abs(p) == q and p >= 0:\n",
    "        return (p / np.tan(polar)) * y1 \n",
    "    elif abs(p) != q and p >= 0:\n",
    "        y2 = sph(p + 1, q, x)\n",
    "        return (p / np.tan(polar)) * y1 - np.sqrt((q - p) * (q + p + 1)) * np.exp(-1j * azimuth) * y2\n",
    "    elif abs(p) == q and p < 0:\n",
    "        return (-p / np.tan(polar)) * y1 \n",
    "    elif abs(p) != q and p < 0:\n",
    "        y4 = sph(p - 1, q, x)\n",
    "        return ((-p / np.tan(polar)) * y1 + np.sqrt((q - (-p)) * (q + (-p) + 1)) * np.exp(1j * azimuth) * y4)\n",
    "    \n",
    "def sph_dpolar_dazi(p,q,x):\n",
    "    '''First azi, then polar'''\n",
    "    polar = np.arccos(x[2]/np.linalg.norm(x))\n",
    "    azimuth = np.arctan2(x[1],x[0])\n",
    "    y1 = sph(p, q, x)\n",
    "    \n",
    "    if abs(p) == q and p >= 0:\n",
    "        return (1j*p)*((p / np.tan(polar)) * y1 )\n",
    "    elif abs(p) != q and p >= 0:\n",
    "        y2 = sph(p + 1, q, x)\n",
    "        return (1j*p)*((p / np.tan(polar)) * y1 - np.sqrt((q - p) * (q + p + 1)) * np.exp(-1j * azimuth) * y2)\n",
    "    elif abs(p) == q and p < 0:\n",
    "        return (1j*p)*((-p / np.tan(polar)) * y1 )\n",
    "    elif abs(p) != q and p < 0:\n",
    "        y4 = sph(p - 1, q, x)\n",
    "        return (1j*p)*(((-p / np.tan(polar)) * y1 + np.sqrt((q - (-p)) * (q + (-p) + 1)) * np.exp(1j * azimuth) * y4))\n",
    "    \n",
    "def sph_dazi_dpolar(p,q,x):\n",
    "    '''First polar, then azi'''\n",
    "    return sph_dpolar_dazi(p, q, x)\n",
    "\n",
    "def sph_dpolar2(p,q,x):\n",
    "    polar = np.arccos(x[2]/np.linalg.norm(x))\n",
    "    azimuth = np.arctan2(x[1],x[0])\n",
    "    y1 = sph(p, q, x)\n",
    "    \n",
    "    if abs(p) == q and p >= 0:\n",
    "        return p*(p/(np.tan(polar))**2 - (1/np.sin(polar))**2) * y1\n",
    "    elif abs(p) == q-1 and p >= 0:\n",
    "        y2 = sph(p+1, q, x)\n",
    "        return p*(p/(np.tan(polar))**2 - (1/np.sin(polar))**2) * y1 - np.sqrt((q - p)*(q + p + 1))*(2*p+1)* np.exp(-1j*azimuth) * y2 / np.tan(polar)\n",
    "    elif abs(p) != q and abs(p) != q-1 and p >= 0:\n",
    "        y2 = sph(p+1, q, x)\n",
    "        y3 = sph(p+2, q, x)\n",
    "        return p*(p/(np.tan(polar))**2 - (1/np.sin(polar))**2) * y1 - np.sqrt((q - p)*(q + p + 1))*(2*p+1)* np.exp(-1j*azimuth) * y2 / np.tan(polar) + \\\n",
    "               np.sqrt((q - p)*(q - p - 1)*(q + p + 2)*(q + p + 1)) * np.exp(-2*1j*azimuth)*y3\n",
    "\n",
    "    elif abs(p) == q and p < 0:\n",
    "        return (p*(p/(np.tan(polar))**2 + (1/np.sin(polar))**2)) * y1\n",
    "    elif abs(p) == q-1 and p < 0:\n",
    "        y5 = sph(p-1,q,x)\n",
    "        return (p*(p/(np.tan(polar))**2 + (1/np.sin(polar))**2)) * y1 + np.sqrt((q - (-p))*(q + (-p) + 1))*(2*(-p)+1)* np.exp(1j*azimuth) * y5 / np.tan(polar)\n",
    "    elif abs(p) != q and abs(p) != q-1 and p < 0:\n",
    "        y5 = sph(p-1,q,x)\n",
    "        y6 = sph(p-2,q,x)\n",
    "        return  (p*(p/(np.tan(polar))**2 + (1/np.sin(polar))**2)) * y1 + np.sqrt((q - (-p))*(q + (-p) + 1))*(2*(-p)+1)* np.exp(1j*azimuth) * y5 / np.tan(polar) \\\n",
    "                + np.sqrt((q - (-p))*(q - (-p) - 1)*(q + (-p) + 2)*(q + (-p) + 1)) * np.exp(2*1j*azimuth)*y6"
   ]
  },
  {
   "cell_type": "code",
   "execution_count": 9,
   "metadata": {},
   "outputs": [],
   "source": [
    "def sph_wf_M(p,q,x):\n",
    "    r = np.linalg.norm(x)\n",
    "    azimuth = np.arctan2(x[1],x[0])\n",
    "    polar = np.arccos(x[2]/r)\n",
    "    \n",
    "    r_ = -sph_b(q,x)*((np.cos(azimuth) - np.cos(2*polar)/np.sin(polar))*sph(p,q,x) + np.sin(azimuth)*sph_dazi(p,q,x) - np.cos(polar)*sph_dpolar(p,q,x)) \n",
    "    polar_ = -sph(p,q,x)*(sph_b(q,x)*(2*np.cos(polar) + np.sin(azimuth)) + np.cos(polar)*r*sph_b_dr(q,x)) + sph_b(q,x)*np.cos(azimuth)*sph_dazi(p,q,x)\n",
    "    azimuth_ = sph(p,q,x)*(sph_b(q,x)*(2*np.sin(polar)*np.sin(azimuth) - np.cos(polar)*np.cos(azimuth)) + r*sph_b_dr(q,x)*np.sin(polar)*np.sin(azimuth)) \\\n",
    "                - sph_b(q,x)*np.cos(azimuth)*np.sin(polar)*sph_dpolar(p,q,x)\n",
    "    return [r_*np.sin(polar_)*np.cos(azimuth_), r_*np.sin(polar_)*np.sin(azimuth_), r_*np.cos(polar)]"
   ]
  },
  {
   "cell_type": "code",
   "execution_count": 10,
   "metadata": {},
   "outputs": [],
   "source": [
    "def sph_wf_N(p,q,x):\n",
    "    r = np.linalg.norm(x)\n",
    "    azimuth = np.arctan2(x[1],x[0])\n",
    "    polar = np.arccos(x[2]/r)\n",
    "    \n",
    "    r_ = (1/r)*(2*sph(p,q,x)*(sph_b(q,x)*(np.cos(azimuth)*np.sin(polar) + 2*np.cos(polar)*np.sin(azimuth)) + r*np.cos(polar)*np.sin(azimuth)*sph_b_dr(q,x)) \\\n",
    "         + r*sph_b_dr(q,x)*((1/np.tan(polar))*sph_dazi(p,q,x) + np.sin(polar)*np.sin(azimuth)*sph_dpolar(p,q,x)) \\\n",
    "         + sph_b(q,x)*(2*(1/np.sin(polar))*(np.cos(polar) + np.sin(azimuth))*sph_dazi(p,q,x) \\\n",
    "            - np.sin(polar)*(np.cos(azimuth)*(1/(np.sin(polar))**2)*sph_dazi2(p,q,x) + (3*np.cos(azimuth)*(1/np.tan(polar)) - 2*np.sin(azimuth))*sph_dpolar(p,q,x)\\\n",
    "            + np.cos(azimuth)*sph_dpolar2(p,q,x))))\n",
    "    \n",
    "    polar_ = (1/r)*(sph(p,q,x)*np.sin(polar)*(sph_b(q,x)*(np.cos(azimuth)*(1/np.tan(polar)) + (-1 + (1/np.tan(polar))**2)*np.sin(azimuth)) \\\n",
    "               + r*((np.cos(azimuth)*(1/np.tan(polar)) - 4*np.sin(azimuth))*sph_b_dr(q,x) - r*np.sin(azimuth)*sph_b_dr2(q,x))) \\\n",
    "                    + r*np.cos(azimuth)*np.sin(polar)*sph_b_dr(q,x)*sph_dpolar(p,q,x) \\\n",
    "             + sph_b(q,x)*((-1 + (1/np.tan(polar))**2 - 2*np.cos(azimuth)/np.sin(polar))*sph_dazi(p,q,x) - (np.sin(azimuth)/np.sin(polar))*sph_dazi2(p,q,x) \\\n",
    "                 + np.cos(azimuth)*np.sin(polar)*sph_dpolar(p,q,x) + (1/np.tan(polar))*sph_dazi_dpolar(p,q,x)))\n",
    "    \n",
    "    azimuth_ = (1/r)*(sph(p,q,x)*(sph_b(q,x)*((1/np.tan(polar))*(1/np.sin(polar)) - np.sin(azimuth)) \\\n",
    "                           - r*((4*np.cos(polar) + np.sin(azimuth))*sph_b_dr(q,x) + r*np.cos(polar)*sph_b_dr2(q,x))) \\\n",
    "               + r*np.cos(polar)*sph_b_dr(q,x)*sph_dazi(p,q,x) \\\n",
    "               + sph_b(q,x)*(np.cos(azimuth)*sph_dazi(p,q,x) + (np.cos(azimuth) - np.cos(polar)*(1/np.tan(polar))+ 2*np.sin(polar))*sph_dpolar(p,q,x) \\\n",
    "                 + np.sin(azimuth)*sph_dpolar_dazi(p,q,x) - np.cos(polar)*sph_dpolar2(p,q,x)))\n",
    "    return [(1/(1j*k)) * r_*np.sin(polar_)*np.cos(azimuth_), (1/(1j*k)) * r_*np.sin(polar_)*np.sin(azimuth_), (1/(1j*k)) * r_*np.cos(polar)]\n"
   ]
  },
  {
   "cell_type": "code",
   "execution_count": 11,
   "metadata": {},
   "outputs": [],
   "source": [
    "coeff_list_temp = np.zeros(((deg+1)**2-1,2),dtype = complex)\n",
    "i = 0\n",
    "for q in range(1,deg+1):\n",
    "    for p in range(-q,q+1):\n",
    "        coeff_list_temp[i,:] = coeff_inc(p,q)\n",
    "        i += 1\n",
    "coeff_list = np.hstack((coeff_list_temp[:,0],coeff_list_temp[:,1]))"
   ]
  },
  {
   "cell_type": "code",
   "execution_count": 12,
   "metadata": {},
   "outputs": [],
   "source": [
    "test_pt = [1,2,3]\n",
    "\n",
    "fun_value_list_temp1 = np.zeros(((deg+1)**2-1,3),dtype = complex)\n",
    "j1 = 0\n",
    "for q in range(1,deg+1):\n",
    "    for p in range(-q,q+1):\n",
    "        fun_value_list_temp1[j1,:] = sph_wf_M(p,q,test_pt)\n",
    "        j1 += 1\n",
    "        \n",
    "fun_value_list_temp2 = np.zeros(((deg+1)**2-1,3),dtype = complex)\n",
    "j2 = 0\n",
    "for q in range(1,deg+1):\n",
    "    for p in range(-q,q+1):\n",
    "        fun_value_list_temp2[j2,:] = sph_wf_N(p,q,test_pt)\n",
    "        j2 += 1\n",
    "        \n",
    "fun_value_list = np.vstack((fun_value_list_temp1,fun_value_list_temp2))"
   ]
  },
  {
   "cell_type": "code",
   "execution_count": 13,
   "metadata": {},
   "outputs": [
    {
     "name": "stdout",
     "output_type": "stream",
     "text": [
      "[(0.008793942371079803+0.03227380807061249j), (0.03709588346608832+0.10406446862156894j), (-0.09316961834706092-0.4315118479872672j)]\n"
     ]
    }
   ],
   "source": [
    "inc_appro = [0,0,0]\n",
    "inc_appro[0] = np.dot(coeff_list,fun_value_list[:,0])\n",
    "inc_appro[1] = np.dot(coeff_list,fun_value_list[:,1])\n",
    "inc_appro[2] = np.dot(coeff_list,fun_value_list[:,2])\n",
    "\n",
    "print(inc_appro)"
   ]
  },
  {
   "cell_type": "code",
   "execution_count": 13,
   "metadata": {},
   "outputs": [
    {
     "name": "stdout",
     "output_type": "stream",
     "text": [
      "(-0.7596879128588213-0.6502878401571168j)\n"
     ]
    }
   ],
   "source": [
    "inc_exact =  np.exp(1j*k*np.dot(test_pt,d0))\n",
    "print(inc_exact)"
   ]
  },
  {
   "cell_type": "code",
   "execution_count": null,
   "metadata": {},
   "outputs": [],
   "source": [
    "def sph_dpolar_dazi(p,q,x):\n",
    "    polar = np.arccos(x[2]/np.linalg.norm(x))\n",
    "    azimuth = np.arctan2(x[1],x[0])\n",
    "    y1 = sph(p, q, x)\n",
    "    y3 = sph(-p, q, x)\n",
    "    \n",
    "    if abs(p) == q and p >=0:\n",
    "        return (1j*(p**2)/np.tan(polar)) * y1\n",
    "    elif abs(p) != q and p >=0:\n",
    "        y2 = sph(p + 1, q, x)\n",
    "        return (1j*(p**2)/np.tan(polar)) * y1 - np.sqrt((q - p)*(q + p + q)) * 1j * p * np.exp(-1j * azimuth) * y2\n",
    "    elif abs(p) == q and p < 0:\n",
    "        return (-1j * (p**2) / np.tan(polar)) * y3 * np.exp(2*1j*p*azimuth)*((-1)**p)\n",
    "    elif abs(p) != q and p < 0:\n",
    "        y4 = sph(-p + 1, q, x)\n",
    "        return ((-p / np.tan(polar)) * y3 - np.sqrt((q - (-p)) * (q + (-p) + 1)) * np.exp(-1j * azimuth) * y4) * np.exp(1j*p*azimuth*2) * ((-1)**p) * (1j*p)"
   ]
  },
  {
   "cell_type": "code",
   "execution_count": null,
   "metadata": {},
   "outputs": [],
   "source": []
  }
 ],
 "metadata": {
  "kernelspec": {
   "display_name": "Python 3",
   "language": "python",
   "name": "python3"
  },
  "language_info": {
   "codemirror_mode": {
    "name": "ipython",
    "version": 3
   },
   "file_extension": ".py",
   "mimetype": "text/x-python",
   "name": "python",
   "nbconvert_exporter": "python",
   "pygments_lexer": "ipython3",
   "version": "3.7.0"
  }
 },
 "nbformat": 4,
 "nbformat_minor": 2
}
