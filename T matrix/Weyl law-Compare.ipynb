{
 "cells": [
  {
   "cell_type": "code",
   "execution_count": 2,
   "metadata": {},
   "outputs": [],
   "source": [
    "import bempp.api\n",
    "import numpy as np\n",
    "import scipy\n",
    "from numba import objmode\n",
    "import numba\n",
    "import cmath\n",
    "import math\n",
    "%matplotlib inline\n",
    "import matplotlib.pyplot as plt\n",
    "from bempp.api.operators.far_field import helmholtz as helmholtz_farfield\n",
    "bempp.core.opencl_kernels.set_default_device(0,0)"
   ]
  },
  {
   "cell_type": "code",
   "execution_count": null,
   "metadata": {},
   "outputs": [],
   "source": [
    "10 0.4130100303248738 3.5555555555555562\n",
    "11 -2.2315605707265216 4.732444444444445\n",
    "12 1.0652188411758046 6.144000000000001\n",
    "13 -2.2825909293476774 7.8115555555555565\n",
    "14 0.272359068892756 9.756444444444446\n",
    "15 2.4286862726541427 12.000000000000002\n",
    "16 -2.113726565117436 14.563555555555558\n",
    "17 -0.8035259329919027 17.468444444444447\n",
    "18 0.06381207024013336 20.736\n",
    "19 0.47960679374352666 24.387555555555558\n",
    "20 0.4396044226217552 28.44444444444445"
   ]
  },
  {
   "cell_type": "code",
   "execution_count": 9,
   "metadata": {},
   "outputs": [],
   "source": [
    "theta_value = [0.4130100303248738, -2.2315605707265216, 1.0652188411758046, -2.2825909293476774, 0.272359068892756,\n",
    "              2.4286862726541427, -2.113726565117436, -0.8035259329919027, 0.06381207024013336, 0.47960679374352666, 0.4396044226217552]\n",
    "l1 = [3.5555555555555562, 4.732444444444445, 6.144000000000001, 7.8115555555555565, 9.756444444444446, 12.000000000000002, \n",
    "     14.563555555555558, 17.468444444444447, 20.736, 24.387555555555558, 28.44444444444445]\n",
    "l2 = [6.283185307179587, 7.6026542216873, 9.047786842338605, 10.618583169133501, 12.31504320207199, 14.13716694115407, 16.084954386379742,\n",
    "      18.158405537749005, 20.35752039526186, 22.68229895891831, 25.13274122871835]"
   ]
  },
  {
   "cell_type": "code",
   "execution_count": 10,
   "metadata": {},
   "outputs": [
    {
     "name": "stdout",
     "output_type": "stream",
     "text": [
      "[7.681380098815465, 9.838740862735143, 12.335098666131746, 15.191786842338605, 18.43013872468906, 22.071487646516438, 26.13716694115407, 30.648509941935302, 35.62684998219345, 41.09352039526186, 47.06985451447387, 53.5771856731628]\n"
     ]
    }
   ],
   "source": [
    "sum_list = [a + b for a, b in zip(l1, l2)]\n",
    "print(sum_list)"
   ]
  },
  {
   "cell_type": "code",
   "execution_count": 30,
   "metadata": {},
   "outputs": [
    {
     "name": "stdout",
     "output_type": "stream",
     "text": [
      "0.4130100303248738 6.69619533750446\n"
     ]
    }
   ],
   "source": [
    "#k = 10: 3.5555555555555562, 7.681380098815465\n",
    "print(0.4130100303248738, 0.4130100303248738+ 2*np.pi)"
   ]
  },
  {
   "cell_type": "code",
   "execution_count": 19,
   "metadata": {},
   "outputs": [
    {
     "name": "stdout",
     "output_type": "stream",
     "text": [
      "4.051624736453064 10.33481004363265\n"
     ]
    }
   ],
   "source": [
    "#k = 11: 4.732444444444445, 9.838740862735143\n",
    "print(-2.2315605707265216 + 2*np.pi, -2.2315605707265216 + 4*np.pi)"
   ]
  },
  {
   "cell_type": "code",
   "execution_count": 21,
   "metadata": {},
   "outputs": [
    {
     "name": "stdout",
     "output_type": "stream",
     "text": [
      "7.348404148355391 13.631589455534977\n"
     ]
    }
   ],
   "source": [
    "#k = 12: 6.144000000000001, 12.335098666131746\n",
    "print(1.0652188411758046 + 2*np.pi, 1.0652188411758046 + 4*np.pi)"
   ]
  },
  {
   "cell_type": "code",
   "execution_count": 25,
   "metadata": {},
   "outputs": [
    {
     "name": "stdout",
     "output_type": "stream",
     "text": [
      "10.283779685011496 16.56696499219108\n"
     ]
    }
   ],
   "source": [
    "#k = 13: 7.8115555555555565,  15.191786842338605\n",
    "print(-2.2825909293476774 + 4*np.pi, -2.2825909293476774 + 6*np.pi)"
   ]
  },
  {
   "cell_type": "code",
   "execution_count": 27,
   "metadata": {},
   "outputs": [
    {
     "name": "stdout",
     "output_type": "stream",
     "text": [
      "12.838729683251929 19.121914990431513\n"
     ]
    }
   ],
   "source": [
    "#k = 14: 9.756444444444446, 18.43013872468906\n",
    "print(0.272359068892756 + 4 * np.pi,0.272359068892756 + 6 * np.pi )"
   ]
  },
  {
   "cell_type": "code",
   "execution_count": 8,
   "metadata": {},
   "outputs": [
    {
     "name": "stdout",
     "output_type": "stream",
     "text": [
      "14.995056887013316 27.56142750137249\n"
     ]
    }
   ],
   "source": [
    "#k = 15: 12.000000000000002, 26.13716694115407\n",
    "print(2.4286862726541427 + 4 * np.pi, 2.4286862726541427 + 8 * np.pi)"
   ]
  },
  {
   "cell_type": "code",
   "execution_count": 34,
   "metadata": {},
   "outputs": [
    {
     "name": "stdout",
     "output_type": "stream",
     "text": [
      "16.735829356421323 29.302199970780496\n"
     ]
    }
   ],
   "source": [
    "#k = 16: 14.563555555555558, 30.648509941935302\n",
    "print(-2.113726565117436 + 6*np.pi, -2.113726565117436 + 10*np.pi)"
   ]
  },
  {
   "cell_type": "code",
   "execution_count": 36,
   "metadata": {},
   "outputs": [
    {
     "name": "stdout",
     "output_type": "stream",
     "text": [
      "18.046029988546856 36.895585910085615\n"
     ]
    }
   ],
   "source": [
    "#k = 17: 17.468444444444447, 35.62684998219345\n",
    "print(-0.8035259329919027 + 6*np.pi, -0.8035259329919027 + 12*np.pi)"
   ]
  },
  {
   "cell_type": "code",
   "execution_count": 41,
   "metadata": {},
   "outputs": [
    {
     "name": "stdout",
     "output_type": "stream",
     "text": [
      "18.91336799177889 44.046109220497236\n"
     ]
    }
   ],
   "source": [
    "#k = 18: 20.736, 41.09352039526186\n",
    "print(0.06381207024013336 + 6*np.pi, 0.06381207024013336 + 14*np.pi)"
   ]
  },
  {
   "cell_type": "code",
   "execution_count": 43,
   "metadata": {},
   "outputs": [
    {
     "name": "stdout",
     "output_type": "stream",
     "text": [
      "25.612348022461873 50.74508925118022\n"
     ]
    }
   ],
   "source": [
    "#k = 19: 24.387555555555558, 47.06985451447387\n",
    "print(0.47960679374352666 + 8*np.pi, 0.47960679374352666 + 16*np.pi)"
   ]
  },
  {
   "cell_type": "code",
   "execution_count": 44,
   "metadata": {},
   "outputs": [
    {
     "name": "stdout",
     "output_type": "stream",
     "text": [
      "31.855530958519687 56.98827218723803\n"
     ]
    }
   ],
   "source": [
    "#k = 20: 28.44444444444445, 53.5771856731628\n",
    "print(0.4396044226217552 + 10 * np.pi, 0.4396044226217552 + 18 * np.pi)"
   ]
  },
  {
   "cell_type": "code",
   "execution_count": 3,
   "metadata": {},
   "outputs": [],
   "source": [
    "x_axis = range(10,21)\n",
    "theta_value1 = [0.4130100303248738, 4.051624736453064, 7.348404148355391, 10.283779685011496, 12.838729683251929, 14.995056887013316, 16.735829356421323, \n",
    "                18.046029988546856, 18.91336799177889, 25.612348022461873, 31.855530958519687]\n",
    "theta_value2 = [6.69619533750446, 10.33481004363265, 13.631589455534977, 16.56696499219108, 19.121914990431513, 27.56142750137249, 29.302199970780496, \n",
    "                36.895585910085615, 44.046109220497236, 50.74508925118022, 56.98827218723803]\n",
    "y_axis1 = []\n",
    "for i in x_axis:\n",
    "    y_axis1.append(1/(3*np.pi) * ((i)**3) * ((4/3) * np.pi*0.2**3))\n",
    "    \n",
    "y_axis2 = []\n",
    "for i in x_axis:\n",
    "    y_axis2.append(1/(3*np.pi) * ((i)**3) * ((4/3) * np.pi*0.2**3) + (1/8)* (4 * np.pi * 0.2**2) * (i**2))\n",
    "\n",
    "error1 = []\n",
    "for i in range(len(x_axis)):\n",
    "    error1.append(abs(theta_value1[i] - y_axis1[i])/theta_value1[i])\n",
    "    \n",
    "error2 = []\n",
    "for i in range(len(x_axis)):\n",
    "    error2.append(abs(theta_value2[i] - y_axis2[i])/theta_value2[i])"
   ]
  },
  {
   "cell_type": "code",
   "execution_count": 4,
   "metadata": {},
   "outputs": [
    {
     "data": {
      "image/png": "[encoded data removed]",
      "text/plain": [
       "<Figure size 432x288 with 1 Axes>"
      ]
     },
     "metadata": {
      "needs_background": "light"
     },
     "output_type": "display_data"
    }
   ],
   "source": [
    "plt.semilogy(x_axis,error1, 'k*')\n",
    "plt.xlabel('wavenumber',fontsize = 15)\n",
    "plt.ylabel('relative error', fontsize = 15)\n",
    "plt.title('Relative error between argdet(S(k)) and $C_{1}$(Vol K)$k^{3}$',fontsize = 15)\n",
    "plt.savefig('Relativer error one term.pdf',bbox_inches='tight')"
   ]
  },
  {
   "cell_type": "code",
   "execution_count": 48,
   "metadata": {},
   "outputs": [
    {
     "data": {
      "image/png": "[encoded data removed]",
      "text/plain": [
       "<Figure size 432x288 with 1 Axes>"
      ]
     },
     "metadata": {
      "needs_background": "light"
     },
     "output_type": "display_data"
    }
   ],
   "source": [
    "plt.semilogy(x_axis,error2, 'k*')\n",
    "plt.xlabel('wavenumber',fontsize = 15)\n",
    "plt.ylabel('relative error', fontsize = 15)\n",
    "plt.title('Relative error between argdet(S(k)) and $C_{1}$(Vol K)$k^{3}$ + $C_{2}$(Vol $\\partial K$)$k^{2}$',fontsize = 15)\n",
    "plt.savefig('Relativer error two terms.pdf',bbox_inches='tight')"
   ]
  },
  {
   "cell_type": "code",
   "execution_count": 52,
   "metadata": {},
   "outputs": [
    {
     "data": {
      "image/png": "[encoded data removed]",
      "text/plain": [
       "<Figure size 432x288 with 1 Axes>"
      ]
     },
     "metadata": {
      "needs_background": "light"
     },
     "output_type": "display_data"
    }
   ],
   "source": [
    "plt.plot(x_axis,theta_value2,'r*')\n",
    "plt.plot(x_axis,y_axis2,'g-')\n",
    "plt.xlabel('wavenumber',fontsize = 15)\n",
    "plt.ylabel('Function value', fontsize = 15)\n",
    "plt.legend(['argdet(S(k))', '$C_{1}(k^{3})+C_{2}k^{2}$'])\n",
    "plt.savefig('Compare value two terms.pdf',bbox_inches='tight')"
   ]
  },
  {
   "cell_type": "code",
   "execution_count": 50,
   "metadata": {},
   "outputs": [
    {
     "data": {
      "image/png": "[encoded data removed]",
      "text/plain": [
       "<Figure size 432x288 with 1 Axes>"
      ]
     },
     "metadata": {
      "needs_background": "light"
     },
     "output_type": "display_data"
    }
   ],
   "source": [
    "plt.plot(x_axis,theta_value1,'r*')\n",
    "plt.plot(x_axis,y_axis1,'-')\n",
    "plt.xlabel('wavenumber',fontsize = 15)\n",
    "plt.ylabel('Function value', fontsize = 15)\n",
    "plt.legend(['argdet(S(k))', '$C_{1}(k^{3})$'])\n",
    "plt.savefig('Compare value one term.pdf',bbox_inches='tight')"
   ]
  },
  {
   "cell_type": "code",
   "execution_count": null,
   "metadata": {},
   "outputs": [],
   "source": []
  }
 ],
 "metadata": {
  "kernelspec": {
   "display_name": "Python 3",
   "language": "python",
   "name": "python3"
  },
  "language_info": {
   "codemirror_mode": {
    "name": "ipython",
    "version": 3
   },
   "file_extension": ".py",
   "mimetype": "text/x-python",
   "name": "python",
   "nbconvert_exporter": "python",
   "pygments_lexer": "ipython3",
   "version": "3.7.0"
  }
 },
 "nbformat": 4,
 "nbformat_minor": 2
}
