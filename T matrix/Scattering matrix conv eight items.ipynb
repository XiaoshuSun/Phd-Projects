{
 "cells": [
  {
   "cell_type": "code",
   "execution_count": 1,
   "metadata": {},
   "outputs": [],
   "source": [
    "import bempp.api\n",
    "from bempp.api.assembly.blocked_operator import BlockedOperator\n",
    "import math\n",
    "import numpy as np\n",
    "import scipy \n",
    "import cmath\n",
    "from numba import objmode\n",
    "from numpy.linalg import slogdet\n",
    "from bempp.api.operators.far_field import helmholtz as helmholtz_farfield\n",
    "import matplotlib.pyplot as plt\n",
    "bempp.core.opencl_kernels.set_default_device(0,0)"
   ]
  },
  {
   "cell_type": "code",
   "execution_count": 2,
   "metadata": {},
   "outputs": [],
   "source": [
    "wavenumber = 0.4\n",
    "d = [1,0,0]\n",
    "deg = 5"
   ]
  },
  {
   "cell_type": "code",
   "execution_count": 3,
   "metadata": {},
   "outputs": [],
   "source": [
    "def normalized_spherical_harmonics(p, q, x):\n",
    "    \"\"\"Spherical Harmonic function of degree q\"\"\"\n",
    "    azimuth = np.arctan2(x[1],x[0])\n",
    "    polar = np.arccos(x[2]/np.linalg.norm(x))\n",
    "    if p >= 0:\n",
    "        return ((-1)**p) * scipy.special.sph_harm(p,q,azimuth,polar)\n",
    "    else:\n",
    "        return scipy.special.sph_harm(-p,q,azimuth,polar)*np.exp(1j*2*p*azimuth)\n",
    "\n",
    "def spherical_bessel_function(q,x):\n",
    "    \"\"\"Spherical Bessel function of degree q\"\"\"\n",
    "    r = np.linalg.norm(x)\n",
    "    return np.sqrt(np.pi/(2*wavenumber*r))*scipy.special.jv(q+0.5, wavenumber*r)\n",
    "\n",
    "def regular_spherical_wavefunctions(p,q,x):\n",
    "    \"\"\"Regular Spherical Wavefunction\"\"\"\n",
    "    return spherical_bessel_function(q,x)*normalized_spherical_harmonics(p,q,x)\n",
    "\n",
    "def coeff_sph_expansion(p,q):\n",
    "    \"\"\"Analytical formula of the coefficients of the spherical expansions of plane waves\"\"\"\n",
    "    coeff = 4*np.pi*(1j)**q*normalized_spherical_harmonics(-p,q,d)/(-1)**(abs(p))\n",
    "    return coeff"
   ]
  },
  {
   "cell_type": "code",
   "execution_count": 4,
   "metadata": {},
   "outputs": [],
   "source": [
    "hex0 = bempp.api.import_grid('hex0_.msh')\n",
    "hex1 = bempp.api.import_grid('hex1_.msh')\n",
    "hex2 = bempp.api.import_grid('hex2_.msh')\n",
    "hex3 = bempp.api.import_grid('hex3_.msh')\n",
    "hex4 = bempp.api.import_grid('hex4_.msh')\n",
    "hex5 = bempp.api.import_grid('hex5_.msh')\n",
    "hex6 = bempp.api.import_grid('hex6_.msh')\n",
    "hex7 = bempp.api.import_grid('hex7_.msh')\n",
    "\n",
    "two_branches = bempp.api.grid.grid.union([hex0, hex1, hex2, hex3, hex4, hex5, hex6, hex7])\n",
    "space_two_branches = bempp.api.function_space(two_branches,'P',1)"
   ]
  },
  {
   "cell_type": "code",
   "execution_count": 5,
   "metadata": {},
   "outputs": [
    {
     "name": "stdout",
     "output_type": "stream",
     "text": [
      "0.2 (-0.023149508458430907+1.249844182586912j)\n",
      "0.15 (-0.012417748401966563+1.2314520574716934j)\n",
      "0.1 (-0.0060113551565618185+1.2205187754254543j)\n",
      "0.05 (-0.0014978782787453025+1.2128331987688001j)\n"
     ]
    }
   ],
   "source": [
    "for h in [0.2, 0.15, 0.1, 0.05]:\n",
    "    \n",
    "    unit_sphere = bempp.api.shapes.sphere(r = 1, origin=(0,0,0), h = h)\n",
    "    vert_unit_sphere = unit_sphere.vertices\n",
    "    space_unit_sphere = bempp.api.function_space(unit_sphere, 'P', 1)\n",
    "    \n",
    "    eta = wavenumber\n",
    "\n",
    "    identity2 = bempp.api.operators.boundary.sparse.identity(space_two_branches, space_two_branches,space_two_branches)\n",
    "    slp2 = bempp.api.operators.boundary.helmholtz.single_layer(space_two_branches,space_two_branches,space_two_branches,wavenumber)\n",
    "    dlp2 = bempp.api.operators.boundary.helmholtz.double_layer(space_two_branches,space_two_branches,space_two_branches,wavenumber)\n",
    "    slp_far2 = helmholtz_farfield.single_layer(space_two_branches, vert_unit_sphere, wavenumber)\n",
    "    dlp_far2 = helmholtz_farfield.double_layer(space_two_branches, vert_unit_sphere,wavenumber)\n",
    "\n",
    "    lhs2 = 0.5 * identity2 + dlp2 - 1j* eta *slp2\n",
    "    \n",
    "    sph_harm_coeff = []\n",
    "    slp_far_field_coeff = []\n",
    "    for q in range(deg+1):\n",
    "        for p in range(-q,q+1):\n",
    "            @bempp.api.complex_callable\n",
    "            def sph_harm(x,n,domain_index,result):\n",
    "                with objmode():\n",
    "                    result[0] = normalized_spherical_harmonics(p,q,x)\n",
    "            sph_harm_grid = bempp.api.GridFunction(space_unit_sphere,fun = sph_harm)\n",
    "            sph_harm_coeff.append(np.conj(sph_harm_grid.coefficients)/((-1j)**(q+1)))\n",
    "\n",
    "            @bempp.api.complex_callable\n",
    "            def dirichlet_fun(x,n,domain_index,result):\n",
    "                    with objmode():\n",
    "                        result[0] = - regular_spherical_wavefunctions(p,q,x)\n",
    "\n",
    "            rhs_fun = bempp.api.GridFunction(space_two_branches, fun = dirichlet_fun)\n",
    "            field, info = bempp.api.linalg.gmres(lhs2, rhs_fun, tol=1E-5)\n",
    "            slp_far_field_coeff.append(dlp_far2.evaluate(field) - 1j * eta * slp_far2.evaluate(field))\n",
    "\n",
    "    mass_mat = bempp.api.operators.boundary.sparse.identity(space_unit_sphere,space_unit_sphere,space_unit_sphere).weak_form().A\n",
    "\n",
    "    T_matrix = np.zeros(((deg+1)**2,(deg+1)**2),dtype = complex)\n",
    "    for i in range((deg+1)**2):\n",
    "        for j in range((deg+1)**2):\n",
    "            T_matrix[i,j] = (slp_far_field_coeff[j] @ mass_mat @ sph_harm_coeff[i])*wavenumber\n",
    "\n",
    "    coeff_inc = []\n",
    "    for q in range(deg+1):\n",
    "        for p in range(-q, q+1):\n",
    "            coeff_inc.append(coeff_sph_expansion(p,q))\n",
    "\n",
    "    coeff_sca = T_matrix @ coeff_inc\n",
    "\n",
    "    S_matrix = np.identity(T_matrix.shape[0]) + 2 * T_matrix\n",
    "    logdet = np.log(np.linalg.det(S_matrix))\n",
    "\n",
    "    print(h, logdet)"
   ]
  },
  {
   "cell_type": "code",
   "execution_count": 6,
   "metadata": {},
   "outputs": [],
   "source": [
    "real_axis_d1 = [-0.023149508458430907, -0.012417748401966563, -0.0060113551565618185, -0.0014978782787453025]\n",
    "imag_axis_d1 = [1.249844182586912, 1.2314520574716934, 1.2205187754254543, 1.2128331987688001]"
   ]
  },
  {
   "cell_type": "code",
   "execution_count": 9,
   "metadata": {},
   "outputs": [
    {
     "data": {
      "image/png": "[encoded data removed]",
      "text/plain": [
       "<Figure size 432x288 with 1 Axes>"
      ]
     },
     "metadata": {
      "needs_background": "light"
     },
     "output_type": "display_data"
    }
   ],
   "source": [
    "plt.yscale('symlog')\n",
    "plt.xscale('symlog')\n",
    "plt.plot(real_axis_d1,imag_axis_d1,'*-')\n",
    "plt.xlabel('Real part of logdet',fontsize = 15)\n",
    "plt.ylabel('Imaginary part of logdet',fontsize = 15)\n",
    "plt.title('logdet of S-matrix, deg = 5',fontsize = 15)\n",
    "plt.savefig('eight items S matrix logdet.pdf',bbox_inches='tight')"
   ]
  },
  {
   "cell_type": "code",
   "execution_count": 6,
   "metadata": {},
   "outputs": [],
   "source": [
    "h1 = -0.023149508458430907+1.249844182586912*1j\n",
    "h2 = -0.012417748401966563+1.2314520574716934*1j\n",
    "h3 = -0.0060113551565618185+1.2205187754254543*1j\n",
    "h4 = -0.0014978782787453025+1.2128331987688001*1j"
   ]
  },
  {
   "cell_type": "code",
   "execution_count": 7,
   "metadata": {},
   "outputs": [],
   "source": [
    "err1 = np.linalg.norm(h1 - h4) /np.linalg.norm(h4)\n",
    "err2 = np.linalg.norm(h2 - h4) /np.linalg.norm(h4)\n",
    "err3 = np.linalg.norm(h3 - h4) /np.linalg.norm(h4)"
   ]
  },
  {
   "cell_type": "code",
   "execution_count": 8,
   "metadata": {},
   "outputs": [
    {
     "data": {
      "text/plain": [
       "Text(0.5, 1.0, 'relative error of logdet of S-matrix, deg = 5')"
      ]
     },
     "execution_count": 8,
     "metadata": {},
     "output_type": "execute_result"
    },
    {
     "data": {
      "image/png": "[encoded data removed]",
      "text/plain": [
       "<Figure size 432x288 with 1 Axes>"
      ]
     },
     "metadata": {
      "needs_background": "light"
     },
     "output_type": "display_data"
    }
   ],
   "source": [
    "x_axis = [0.2, 0.15, 0.1]\n",
    "y_axis = [err1, err2, err3]\n",
    "plt.semilogy(x_axis,y_axis, '*-')\n",
    "plt.xlabel('Element diameter',fontsize = 15)\n",
    "plt.ylabel('Relative error ',fontsize = 15)\n",
    "plt.title('relative error of logdet of S-matrix, deg = 5',fontsize = 15)"
   ]
  },
  {
   "cell_type": "code",
   "execution_count": 5,
   "metadata": {},
   "outputs": [
    {
     "data": {
      "text/plain": [
       "0.007294033727240611"
      ]
     },
     "execution_count": 5,
     "metadata": {},
     "output_type": "execute_result"
    }
   ],
   "source": [
    "err1"
   ]
  },
  {
   "cell_type": "code",
   "execution_count": null,
   "metadata": {},
   "outputs": [],
   "source": []
  }
 ],
 "metadata": {
  "kernelspec": {
   "display_name": "Python 3",
   "language": "python",
   "name": "python3"
  },
  "language_info": {
   "codemirror_mode": {
    "name": "ipython",
    "version": 3
   },
   "file_extension": ".py",
   "mimetype": "text/x-python",
   "name": "python",
   "nbconvert_exporter": "python",
   "pygments_lexer": "ipython3",
   "version": "3.7.0"
  }
 },
 "nbformat": 4,
 "nbformat_minor": 2
}
