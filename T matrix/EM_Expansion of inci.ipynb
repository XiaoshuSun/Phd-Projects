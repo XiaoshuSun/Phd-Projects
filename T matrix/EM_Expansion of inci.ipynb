{
 "cells": [
  {
   "cell_type": "markdown",
   "metadata": {},
   "source": [
    "# T matrix for electromagnetic scattering"
   ]
  },
  {
   "cell_type": "code",
   "execution_count": 1,
   "metadata": {},
   "outputs": [],
   "source": [
    "import bempp.api\n",
    "import numpy as np\n",
    "import scipy\n",
    "from numba import objmode\n",
    "import numba\n",
    "import math\n",
    "%matplotlib inline\n",
    "import matplotlib.pyplot as plt\n",
    "bempp.core.opencl_kernels.set_default_device(0,0)"
   ]
  },
  {
   "cell_type": "code",
   "execution_count": 2,
   "metadata": {},
   "outputs": [],
   "source": [
    "d0 = [0,0,-1] # wave's travel direction\n",
    "p0 = [1,0,0] # polarization \n",
    "k = 4 # wavenumber\n",
    "deg = 20"
   ]
  },
  {
   "cell_type": "code",
   "execution_count": 3,
   "metadata": {},
   "outputs": [],
   "source": [
    "def coeff_inc(p,q):\n",
    "    alpha_q = (0.5*(-1j)**q)*(2*q+1)/(q*(q+1))\n",
    "    c_q_neg1 = np.sqrt(((2*q+1)/(4*np.pi))*(math.factorial(q-1)/math.factorial(q+1)))\n",
    "    c_q_pos1 = -c_q_neg1\n",
    "    if p == -1:\n",
    "        return (-1j)*alpha_q / c_q_neg1,  alpha_q / c_q_neg1\n",
    "    elif p == 1:\n",
    "        return (1j)*alpha_q / c_q_pos1,  alpha_q / c_q_pos1\n",
    "    else:\n",
    "        return 0, 0"
   ]
  },
  {
   "cell_type": "code",
   "execution_count": 4,
   "metadata": {},
   "outputs": [],
   "source": [
    "def sph_b(q,x):\n",
    "    \"\"\"Spherical Bessel function of degree q\"\"\"\n",
    "    r = np.linalg.norm(x)\n",
    "    return np.sqrt(np.pi/(2*k*r))*scipy.special.jv(q+0.5, k*r)  \n",
    "\n",
    "def sph_b_dr(q,x):\n",
    "    r = np.linalg.norm(x)\n",
    "    return k*(sph_b(q-1,x) - ((q+1)/(k*r))*sph_b(q,x))"
   ]
  },
  {
   "cell_type": "code",
   "execution_count": 5,
   "metadata": {},
   "outputs": [],
   "source": [
    "def sph(p, q, x):\n",
    "    \"\"\"Spherical Harmonic function of degree q\"\"\"\n",
    "    azimuth = np.arctan2(x[1],x[0])\n",
    "    polar = np.arccos(x[2]/np.linalg.norm(x))\n",
    "    if p >= 0:\n",
    "        return ((-1)**p) * scipy.special.sph_harm(p,q,azimuth,polar)\n",
    "    else:\n",
    "        return scipy.special.sph_harm(-p,q,azimuth,polar)*np.exp(1j*2*p*azimuth)\n",
    "    \n",
    "def sph_dazi(p, q, x):\n",
    "    return 1j * p * sph(p, q, x)"
   ]
  },
  {
   "cell_type": "code",
   "execution_count": 6,
   "metadata": {},
   "outputs": [],
   "source": [
    "def sph_dpolar(p, q, x):\n",
    "    polar = np.arccos(x[2]/np.linalg.norm(x))\n",
    "    azimuth = np.arctan2(x[1],x[0])\n",
    "    y1 = sph(p, q, x)\n",
    "    y3 = sph(-p, q, x)\n",
    "    \n",
    "    if abs(p) == q and p >= 0:\n",
    "        return (p / np.tan(polar)) * y1 \n",
    "    elif abs(p) != q and p >= 0:\n",
    "        y2 = sph(p + 1, q, x)\n",
    "        return (p / np.tan(polar)) * y1 - np.sqrt((q - p) * (q + p + 1)) * np.exp(-1j * azimuth) * y2\n",
    "    elif abs(p) == q and p < 0:\n",
    "        return ((-1)**p) * (-p / np.tan(polar)) * y3 * np.exp(1j*2*p*azimuth)\n",
    "    elif abs(p) != q and p < 0:\n",
    "        y4 = sph(-p + 1, q, x)\n",
    "        return  ((-1)**p) * ((-p / np.tan(polar)) * y3 - np.sqrt((q - (-p)) * (q + (-p) + 1)) * np.exp(-1j * azimuth) * y4) * np.exp(1j*2*p*azimuth)"
   ]
  },
  {
   "cell_type": "code",
   "execution_count": 7,
   "metadata": {},
   "outputs": [],
   "source": [
    "def sph_wf_M(p,q,x):\n",
    "    r = np.linalg.norm(x)\n",
    "    azimuth = np.arctan2(x[1],x[0])\n",
    "    polar = np.arccos(x[2]/r)\n",
    "    \n",
    "    grad_sph = [sph_dpolar(p,q,x)*np.cos(polar)*np.cos(azimuth) - sph_dazi(p,q,x)*np.sin(azimuth)/np.sin(polar), \n",
    "                sph_dpolar(p,q,x)*np.cos(polar)*np.sin(azimuth) + sph_dazi(p,q,x)*np.cos(azimuth)/np.sin(polar),\n",
    "               -sph_dpolar(p,q,x)*np.sin(polar)]\n",
    "    hat_x = [np.sin(polar)*np.cos(azimuth), np.sin(polar)*np.sin(azimuth), np.cos(polar)]\n",
    "    \n",
    "    return sph_b(q,x)*np.cross(grad_sph, hat_x)"
   ]
  },
  {
   "cell_type": "code",
   "execution_count": 8,
   "metadata": {},
   "outputs": [],
   "source": [
    "def sph_wf_N(p,q,x):\n",
    "    r = np.linalg.norm(x)\n",
    "    azimuth = np.arctan2(x[1],x[0])\n",
    "    polar = np.arccos(x[2]/r)\n",
    "    \n",
    "    grad_sph = [sph_dpolar(p,q,x)*np.cos(polar)*np.cos(azimuth) - sph_dazi(p,q,x)*np.sin(azimuth)/np.sin(polar), \n",
    "                sph_dpolar(p,q,x)*np.cos(polar)*np.sin(azimuth) + sph_dazi(p,q,x)*np.cos(azimuth)/np.sin(polar),\n",
    "               -sph_dpolar(p,q,x)*np.sin(polar)]\n",
    "    hat_x = [np.sin(polar)*np.cos(azimuth), np.sin(polar)*np.sin(azimuth), np.cos(polar)]\n",
    "    \n",
    "    \n",
    "    part_1 = [(q*(q+1)/r)*sph_b(q,x)*sph(p,q,x)*hat_x[0], \n",
    "             (q*(q+1)/r)*sph_b(q,x)*sph(p,q,x)*hat_x[1], \n",
    "             (q*(q+1)/r)*sph_b(q,x)*sph(p,q,x)*hat_x[2]]\n",
    "    \n",
    "    part_2 = [(1/r)*(sph_b(q,x)+r*sph_b_dr(q,x))*grad_sph[0], \n",
    "                (1/r)*(sph_b(q,x)+r*sph_b_dr(q,x))*grad_sph[1],\n",
    "               (1/r)*(sph_b(q,x)+r*sph_b_dr(q,x))*grad_sph[2]]\n",
    "    \n",
    "    return [(1/(1j*k))*(part_1[0]+part_2[0]), (1/(1j*k))*(part_1[1]+part_2[1]), (1/(1j*k))*(part_1[2]+part_2[2])]"
   ]
  },
  {
   "cell_type": "code",
   "execution_count": 9,
   "metadata": {},
   "outputs": [],
   "source": [
    "coeff_list_temp = np.zeros(((deg+1)**2-1,2),dtype = complex)\n",
    "i = 0\n",
    "for q in range(1,deg+1):\n",
    "    for p in range(-q,q+1):\n",
    "        coeff_list_temp[i,:] = coeff_inc(p,q)\n",
    "        i += 1\n",
    "coeff_list = np.hstack((coeff_list_temp[:,0],coeff_list_temp[:,1]))"
   ]
  },
  {
   "cell_type": "code",
   "execution_count": 10,
   "metadata": {},
   "outputs": [],
   "source": [
    "test_pt = [1,2,3]\n",
    "\n",
    "fun_value_list_temp1 = np.zeros(((deg+1)**2-1,3),dtype = complex)\n",
    "j1 = 0\n",
    "for q in range(1,deg+1):\n",
    "    for p in range(-q,q+1):\n",
    "        fun_value_list_temp1[j1,:] = sph_wf_M(p,q,test_pt)\n",
    "        j1 += 1\n",
    "        \n",
    "fun_value_list_temp2 = np.zeros(((deg+1)**2-1,3),dtype = complex)\n",
    "j2 = 0\n",
    "for q in range(1,deg+1):\n",
    "    for p in range(-q,q+1):\n",
    "        fun_value_list_temp2[j2,:] = sph_wf_N(p,q,test_pt)\n",
    "        j2 += 1\n",
    "        \n",
    "fun_value_list = np.vstack((fun_value_list_temp1,fun_value_list_temp2))"
   ]
  },
  {
   "cell_type": "code",
   "execution_count": 11,
   "metadata": {},
   "outputs": [
    {
     "name": "stdout",
     "output_type": "stream",
     "text": [
      "[(0.8435099024832893+0.5413891619746731j), (-0.0027315409610968434-0.0010150126908399233j), (0.0006417386939819939+0.000525131930917051j)]\n"
     ]
    }
   ],
   "source": [
    "inc_appro = [0,0,0]\n",
    "inc_appro[0] = np.dot(coeff_list,fun_value_list[:,0])\n",
    "inc_appro[1] = np.dot(coeff_list,fun_value_list[:,1])\n",
    "inc_appro[2] = np.dot(coeff_list,fun_value_list[:,2])\n",
    "\n",
    "print(inc_appro)"
   ]
  },
  {
   "cell_type": "code",
   "execution_count": 12,
   "metadata": {},
   "outputs": [
    {
     "name": "stdout",
     "output_type": "stream",
     "text": [
      "[(0.8438539587324921+0.5365729180004349j), 0, 0]\n"
     ]
    }
   ],
   "source": [
    "inc_exact =  [np.exp(1j*k*(-3)),0 ,0]\n",
    "print(inc_exact)"
   ]
  },
  {
   "cell_type": "code",
   "execution_count": null,
   "metadata": {},
   "outputs": [],
   "source": []
  }
 ],
 "metadata": {
  "kernelspec": {
   "display_name": "Python 3",
   "language": "python",
   "name": "python3"
  },
  "language_info": {
   "codemirror_mode": {
    "name": "ipython",
    "version": 3
   },
   "file_extension": ".py",
   "mimetype": "text/x-python",
   "name": "python",
   "nbconvert_exporter": "python",
   "pygments_lexer": "ipython3",
   "version": "3.7.0"
  }
 },
 "nbformat": 4,
 "nbformat_minor": 2
}
