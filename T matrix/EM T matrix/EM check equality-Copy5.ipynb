{
 "cells": [
  {
   "cell_type": "code",
   "execution_count": 2,
   "metadata": {},
   "outputs": [],
   "source": [
    "import bempp.api\n",
    "from bempp.api.assembly.blocked_operator import BlockedOperator\n",
    "import math\n",
    "import numpy as np\n",
    "import scipy \n",
    "import cmath\n",
    "from numba import objmode\n",
    "from numpy.linalg import slogdet\n",
    "from bempp.api.operators.far_field import helmholtz as helmholtz_farfield\n",
    "import matplotlib.pyplot as plt\n",
    "from bempp.api.linalg import lu\n",
    "bempp.core.opencl_kernels.set_default_device(0,0)"
   ]
  },
  {
   "cell_type": "code",
   "execution_count": 24,
   "metadata": {},
   "outputs": [],
   "source": [
    "k = 3.25\n",
    "h = 0.1\n",
    "deg = 5\n",
    "\n",
    "d0 = [0,0,-1] # wave's travel direction\n",
    "p0 = [1,0,0] # polarization "
   ]
  },
  {
   "cell_type": "code",
   "execution_count": 14,
   "metadata": {},
   "outputs": [],
   "source": [
    "rotation_angle = np.pi/9\n",
    "rotation_mat = [[1,0,0],[0, np.cos(rotation_angle), -np.sin(rotation_angle)],[0,np.sin(rotation_angle), np.cos(rotation_angle)]]"
   ]
  },
  {
   "cell_type": "code",
   "execution_count": 15,
   "metadata": {},
   "outputs": [],
   "source": [
    "origin_grid1 = bempp.api.shapes.sphere(r = 0.2, origin=[-0.3,0,0],h = h)\n",
    "origin_grid_vert1 = origin_grid1.vertices\n",
    "\n",
    "grid_vert1 = np.zeros((3, origin_grid_vert1.shape[1]))\n",
    "for i in range(grid_vert1.shape[1]):\n",
    "    grid_vert1[:,i] = rotation_mat @ origin_grid_vert1[:,i]\n",
    "    \n",
    "grid1 = bempp.api.Grid(grid_vert1, origin_grid1.elements)\n",
    "#=======================================================================\n",
    "origin_grid2 = bempp.api.shapes.sphere(r = 0.2, origin=[0.3,0,0],h = h)\n",
    "origin_grid_vert2 = origin_grid2.vertices\n",
    "\n",
    "grid_vert2 = np.zeros((3, origin_grid_vert2.shape[1]))\n",
    "for i in range(grid_vert2.shape[1]):\n",
    "    grid_vert2[:,i] = rotation_mat @ origin_grid_vert2[:,i]\n",
    "    \n",
    "grid2 = bempp.api.Grid(grid_vert2, origin_grid2.elements)\n",
    "#=======================================================================\n",
    "grid_combined = bempp.api.grid.grid.union([grid1,grid2])"
   ]
  },
  {
   "cell_type": "code",
   "execution_count": 16,
   "metadata": {},
   "outputs": [],
   "source": [
    "div_space1 = bempp.api.function_space(grid1, \"RWG\", 0)\n",
    "curl_space1 = bempp.api.function_space(grid1, \"SNC\", 0)\n",
    "\n",
    "div_space2 = bempp.api.function_space(grid2, \"RWG\", 0)\n",
    "curl_space2 = bempp.api.function_space(grid2, \"SNC\", 0)\n",
    "\n",
    "div_space_combined = bempp.api.function_space(grid_combined, \"RWG\", 0)\n",
    "curl_space_combined = bempp.api.function_space(grid_combined, \"SNC\", 0)"
   ]
  },
  {
   "cell_type": "code",
   "execution_count": 17,
   "metadata": {},
   "outputs": [],
   "source": [
    "origin_unit_sphere = bempp.api.shapes.sphere(r = 1, origin=(0,0,0), h = h)\n",
    "origin_vert_unit_sphere = origin_unit_sphere.vertices\n",
    "\n",
    "vert_unit_sphere = np.zeros((3, origin_vert_unit_sphere.shape[1]))\n",
    "for i in range(vert_unit_sphere.shape[1]):\n",
    "    vert_unit_sphere[:,i] = rotation_mat@origin_vert_unit_sphere[:,i]\n",
    "    \n",
    "unit_sphere = bempp.api.Grid(vert_unit_sphere,origin_unit_sphere.elements)\n",
    "    \n",
    "space_unit_sphere = bempp.api.function_space(unit_sphere, 'P', 1)"
   ]
  },
  {
   "cell_type": "code",
   "execution_count": 25,
   "metadata": {},
   "outputs": [],
   "source": [
    "elec1 = bempp.api.operators.boundary.maxwell.electric_field(div_space1, div_space1, curl_space1, k)\n",
    "elec_far1 = bempp.api.operators.far_field.maxwell.electric_field(div_space1, vert_unit_sphere, k)\n",
    "\n",
    "elec2 = bempp.api.operators.boundary.maxwell.electric_field(div_space2, div_space2, curl_space2, k)\n",
    "elec_far2 = bempp.api.operators.far_field.maxwell.electric_field(div_space2, vert_unit_sphere, k)\n",
    "\n",
    "elec_combined = bempp.api.operators.boundary.maxwell.electric_field(div_space_combined, div_space_combined, curl_space_combined, k)\n",
    "elec_far_combined = bempp.api.operators.far_field.maxwell.electric_field(div_space_combined, vert_unit_sphere, k)\n",
    "\n",
    "mass_mat = bempp.api.operators.boundary.sparse.identity(space_unit_sphere, space_unit_sphere, space_unit_sphere).weak_form().A"
   ]
  },
  {
   "cell_type": "code",
   "execution_count": 19,
   "metadata": {},
   "outputs": [],
   "source": [
    "def sph_b(q,x):\n",
    "    \"\"\"Spherical Bessel function of degree q\"\"\"\n",
    "    r = np.linalg.norm(x)\n",
    "    return np.sqrt(np.pi/(2*k*r))*scipy.special.jv(q+0.5, k*r)  \n",
    "\n",
    "def sph_b_dr(q,x):\n",
    "    r = np.linalg.norm(x)\n",
    "    return k*(sph_b(q-1,x) - ((q+1)/(k*r))*sph_b(q,x))\n",
    "\n",
    "def sph(p, q, x):\n",
    "    \"\"\"Spherical Harmonic function of degree q\"\"\"\n",
    "    azimuth = np.arctan2(x[1],x[0])\n",
    "    polar = np.arccos(x[2]/np.linalg.norm(x))\n",
    "    if p >= 0:\n",
    "        return ((-1)**p) * scipy.special.sph_harm(p,q,azimuth,polar)\n",
    "    else:\n",
    "        return scipy.special.sph_harm(-p,q,azimuth,polar)*np.exp(1j*2*p*azimuth)\n",
    "    \n",
    "def sph_dazi(p, q, x):\n",
    "    return 1j * p * sph(p, q, x)\n",
    "\n",
    "def sph_dpolar(p, q, x):\n",
    "    polar = np.arccos(x[2]/np.linalg.norm(x))\n",
    "    azimuth = np.arctan2(x[1],x[0])\n",
    "    y1 = sph(p, q, x)\n",
    "    y3 = sph(-p, q, x)\n",
    "    \n",
    "    if abs(p) == q and p >= 0:\n",
    "        return (p / np.tan(polar)) * y1 \n",
    "    elif abs(p) != q and p >= 0:\n",
    "        y2 = sph(p + 1, q, x)\n",
    "        return (p / np.tan(polar)) * y1 - np.sqrt((q - p) * (q + p + 1)) * np.exp(-1j * azimuth) * y2\n",
    "    elif abs(p) == q and p < 0:\n",
    "        return ((-1)**p) * (-p / np.tan(polar)) * y3 * np.exp(1j*2*p*azimuth)\n",
    "    elif abs(p) != q and p < 0:\n",
    "        y4 = sph(-p + 1, q, x)\n",
    "        return  ((-1)**p) * ((-p / np.tan(polar)) * y3 - np.sqrt((q - (-p)) * (q + (-p) + 1)) * np.exp(-1j * azimuth) * y4) * np.exp(1j*2*p*azimuth)"
   ]
  },
  {
   "cell_type": "code",
   "execution_count": 20,
   "metadata": {},
   "outputs": [],
   "source": [
    "def U_pq(p, q, x):\n",
    "    r = np.linalg.norm(x)\n",
    "    azimuth = np.arctan2(x[1],x[0])\n",
    "    polar = np.arccos(x[2]/r)\n",
    "    \n",
    "    return [sph_dpolar(p,q,x)*np.cos(polar)*np.cos(azimuth) - sph_dazi(p,q,x)*np.sin(azimuth)/np.sin(polar), \n",
    "            sph_dpolar(p,q,x)*np.cos(polar)*np.sin(azimuth) + sph_dazi(p,q,x)*np.cos(azimuth)/np.sin(polar),\n",
    "            -sph_dpolar(p,q,x)*np.sin(polar)]\n",
    "def V_pq(p, q, x):\n",
    "    r = np.linalg.norm(x)\n",
    "    azimuth = np.arctan2(x[1],x[0])\n",
    "    polar = np.arccos(x[2]/r)\n",
    "    \n",
    "    grad_sph = [sph_dpolar(p,q,x)*np.cos(polar)*np.cos(azimuth) - sph_dazi(p,q,x)*np.sin(azimuth)/np.sin(polar), \n",
    "                sph_dpolar(p,q,x)*np.cos(polar)*np.sin(azimuth) + sph_dazi(p,q,x)*np.cos(azimuth)/np.sin(polar),\n",
    "               -sph_dpolar(p,q,x)*np.sin(polar)]\n",
    "    hat_x = [np.sin(polar)*np.cos(azimuth), np.sin(polar)*np.sin(azimuth), np.cos(polar)]\n",
    "    \n",
    "    return np.cross(hat_x, grad_sph)"
   ]
  },
  {
   "cell_type": "code",
   "execution_count": 26,
   "metadata": {},
   "outputs": [],
   "source": [
    "coeff_S_V_2 = []\n",
    "coeff_S_U_2 = []\n",
    "for q in range(1, deg+1):\n",
    "    for p in range(-q,q+1):\n",
    "        @bempp.api.complex_callable\n",
    "        def V_fun_2(x,n,domain_index,result):\n",
    "            with objmode():\n",
    "                result[0] = V_pq(p,q,x)[1]\n",
    "        V_grid_2 = bempp.api.GridFunction(space_unit_sphere,fun = V_fun_2)\n",
    "        coeff_S_V_2.append(np.conj(V_grid_2.coefficients)* (-k) *((1j)**(q+1))/(q*(q+1)))\n",
    "        \n",
    "        @bempp.api.complex_callable\n",
    "        def U_fun_2(x,n,domain_index,result):\n",
    "            with objmode():\n",
    "                result[0] = U_pq(p,q,x)[1]\n",
    "        U_grid_2 = bempp.api.GridFunction(space_unit_sphere,fun = U_fun_2)\n",
    "        coeff_S_U_2.append(np.conj(U_grid_2.coefficients)* ((1j)**q)/(q*(q+1)))"
   ]
  },
  {
   "cell_type": "code",
   "execution_count": 27,
   "metadata": {},
   "outputs": [
    {
     "name": "stdout",
     "output_type": "stream",
     "text": [
      "Stored 'coeff_S_V_2' (list)\n"
     ]
    }
   ],
   "source": [
    "%store coeff_S_V_2"
   ]
  },
  {
   "cell_type": "code",
   "execution_count": 28,
   "metadata": {},
   "outputs": [
    {
     "name": "stdout",
     "output_type": "stream",
     "text": [
      "Stored 'coeff_S_U_2' (list)\n"
     ]
    }
   ],
   "source": [
    "%store coeff_S_U_2"
   ]
  },
  {
   "cell_type": "code",
   "execution_count": null,
   "metadata": {},
   "outputs": [],
   "source": []
  },
  {
   "cell_type": "code",
   "execution_count": null,
   "metadata": {},
   "outputs": [],
   "source": []
  }
 ],
 "metadata": {
  "kernelspec": {
   "display_name": "Python 3",
   "language": "python",
   "name": "python3"
  },
  "language_info": {
   "codemirror_mode": {
    "name": "ipython",
    "version": 3
   },
   "file_extension": ".py",
   "mimetype": "text/x-python",
   "name": "python",
   "nbconvert_exporter": "python",
   "pygments_lexer": "ipython3",
   "version": "3.7.0"
  }
 },
 "nbformat": 4,
 "nbformat_minor": 2
}
