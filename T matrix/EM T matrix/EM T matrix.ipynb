{
 "cells": [
  {
   "cell_type": "code",
   "execution_count": 1,
   "metadata": {},
   "outputs": [],
   "source": [
    "import bempp.api\n",
    "from bempp.api.assembly.blocked_operator import BlockedOperator\n",
    "import math\n",
    "import numpy as np\n",
    "import scipy \n",
    "import cmath\n",
    "from numba import objmode\n",
    "from numpy.linalg import slogdet\n",
    "from bempp.api.operators.far_field import helmholtz as helmholtz_farfield\n",
    "import matplotlib.pyplot as plt\n",
    "from bempp.api.linalg import lu\n",
    "bempp.core.opencl_kernels.set_default_device(0,0)"
   ]
  },
  {
   "cell_type": "code",
   "execution_count": 2,
   "metadata": {},
   "outputs": [],
   "source": [
    "k = 4\n",
    "h = 0.1\n",
    "deg = 5\n",
    "\n",
    "d0 = [0,0,-1] # wave's travel direction\n",
    "p0 = [1,0,0] # polarization "
   ]
  },
  {
   "cell_type": "code",
   "execution_count": 3,
   "metadata": {},
   "outputs": [],
   "source": [
    "rotation_angle = np.pi/9\n",
    "rotation_mat = [[1,0,0],[0, np.cos(rotation_angle), -np.sin(rotation_angle)],[0,np.sin(rotation_angle), np.cos(rotation_angle)]]\n",
    "\n",
    "origin_grid = bempp.api.shapes.sphere(r=0.2, origin=[0,0,0],h = h)\n",
    "origin_grid_vert = origin_grid.vertices\n",
    "\n",
    "grid_vert = np.zeros((3, origin_grid_vert.shape[1]))\n",
    "for i in range(grid_vert.shape[1]):\n",
    "    grid_vert[:,i] = rotation_mat @ origin_grid_vert[:,i]\n",
    "    \n",
    "grid = bempp.api.Grid(grid_vert, origin_grid.elements)\n",
    "\n",
    "div_space = bempp.api.function_space(grid, \"RWG\", 0)\n",
    "curl_space = bempp.api.function_space(grid, \"SNC\", 0)"
   ]
  },
  {
   "cell_type": "code",
   "execution_count": 4,
   "metadata": {},
   "outputs": [],
   "source": [
    "origin_unit_sphere = bempp.api.shapes.sphere(r = 1, origin=(0,0,0), h = h)\n",
    "origin_vert_unit_sphere = origin_unit_sphere.vertices\n",
    "\n",
    "vert_unit_sphere = np.zeros((3, origin_vert_unit_sphere.shape[1]))\n",
    "for i in range(vert_unit_sphere.shape[1]):\n",
    "    vert_unit_sphere[:,i] = rotation_mat@origin_vert_unit_sphere[:,i]\n",
    "    \n",
    "unit_sphere = bempp.api.Grid(vert_unit_sphere,origin_unit_sphere.elements)\n",
    "    \n",
    "space_unit_sphere = bempp.api.function_space(unit_sphere, 'P', 1)"
   ]
  },
  {
   "cell_type": "code",
   "execution_count": 5,
   "metadata": {},
   "outputs": [],
   "source": [
    "#bempp.api.export('origin_sphere.msh', grid = origin_unit_sphere)\n",
    "#bempp.api.export('rotated_sphere.msh', grid = unit_sphere)"
   ]
  },
  {
   "cell_type": "code",
   "execution_count": 6,
   "metadata": {},
   "outputs": [],
   "source": [
    "elec = bempp.api.operators.boundary.maxwell.electric_field(div_space, div_space, curl_space, k)\n",
    "elec_far = bempp.api.operators.far_field.maxwell.electric_field(div_space, vert_unit_sphere, k)\n",
    "\n",
    "mass_mat = bempp.api.operators.boundary.sparse.identity(space_unit_sphere, space_unit_sphere, space_unit_sphere).weak_form().A"
   ]
  },
  {
   "cell_type": "code",
   "execution_count": 7,
   "metadata": {},
   "outputs": [],
   "source": [
    "def sph_b(q,x):\n",
    "    \"\"\"Spherical Bessel function of degree q\"\"\"\n",
    "    r = np.linalg.norm(x)\n",
    "    return np.sqrt(np.pi/(2*k*r))*scipy.special.jv(q+0.5, k*r)  \n",
    "\n",
    "def sph_b_dr(q,x):\n",
    "    r = np.linalg.norm(x)\n",
    "    return k*(sph_b(q-1,x) - ((q+1)/(k*r))*sph_b(q,x))\n",
    "\n",
    "def sph(p, q, x):\n",
    "    \"\"\"Spherical Harmonic function of degree q\"\"\"\n",
    "    azimuth = np.arctan2(x[1],x[0])\n",
    "    polar = np.arccos(x[2]/np.linalg.norm(x))\n",
    "    if p >= 0:\n",
    "        return ((-1)**p) * scipy.special.sph_harm(p,q,azimuth,polar)\n",
    "    else:\n",
    "        return scipy.special.sph_harm(-p,q,azimuth,polar)*np.exp(1j*2*p*azimuth)\n",
    "    \n",
    "def sph_dazi(p, q, x):\n",
    "    return 1j * p * sph(p, q, x)\n",
    "\n",
    "def sph_dpolar(p, q, x):\n",
    "    polar = np.arccos(x[2]/np.linalg.norm(x))\n",
    "    azimuth = np.arctan2(x[1],x[0])\n",
    "    y1 = sph(p, q, x)\n",
    "    y3 = sph(-p, q, x)\n",
    "    \n",
    "    if abs(p) == q and p >= 0:\n",
    "        return (p / np.tan(polar)) * y1 \n",
    "    elif abs(p) != q and p >= 0:\n",
    "        y2 = sph(p + 1, q, x)\n",
    "        return (p / np.tan(polar)) * y1 - np.sqrt((q - p) * (q + p + 1)) * np.exp(-1j * azimuth) * y2\n",
    "    elif abs(p) == q and p < 0:\n",
    "        return ((-1)**p) * (-p / np.tan(polar)) * y3 * np.exp(1j*2*p*azimuth)\n",
    "    elif abs(p) != q and p < 0:\n",
    "        y4 = sph(-p + 1, q, x)\n",
    "        return  ((-1)**p) * ((-p / np.tan(polar)) * y3 - np.sqrt((q - (-p)) * (q + (-p) + 1)) * np.exp(-1j * azimuth) * y4) * np.exp(1j*2*p*azimuth)"
   ]
  },
  {
   "cell_type": "code",
   "execution_count": 8,
   "metadata": {},
   "outputs": [],
   "source": [
    "def sph_wf_M(p,q,x):\n",
    "    r = np.linalg.norm(x)\n",
    "    azimuth = np.arctan2(x[1],x[0])\n",
    "    polar = np.arccos(x[2]/r)\n",
    "    \n",
    "    grad_sph = [sph_dpolar(p,q,x)*np.cos(polar)*np.cos(azimuth) - sph_dazi(p,q,x)*np.sin(azimuth)/np.sin(polar), \n",
    "                sph_dpolar(p,q,x)*np.cos(polar)*np.sin(azimuth) + sph_dazi(p,q,x)*np.cos(azimuth)/np.sin(polar),\n",
    "               -sph_dpolar(p,q,x)*np.sin(polar)]\n",
    "    hat_x = [np.sin(polar)*np.cos(azimuth), np.sin(polar)*np.sin(azimuth), np.cos(polar)]\n",
    "    \n",
    "    return sph_b(q,x)*np.cross(grad_sph, hat_x)\n",
    "\n",
    "def sph_wf_N(p,q,x):\n",
    "    r = np.linalg.norm(x)\n",
    "    azimuth = np.arctan2(x[1],x[0])\n",
    "    polar = np.arccos(x[2]/r)\n",
    "    \n",
    "    grad_sph = [sph_dpolar(p,q,x)*np.cos(polar)*np.cos(azimuth) - sph_dazi(p,q,x)*np.sin(azimuth)/np.sin(polar), \n",
    "                sph_dpolar(p,q,x)*np.cos(polar)*np.sin(azimuth) + sph_dazi(p,q,x)*np.cos(azimuth)/np.sin(polar),\n",
    "               -sph_dpolar(p,q,x)*np.sin(polar)]\n",
    "    hat_x = [np.sin(polar)*np.cos(azimuth), np.sin(polar)*np.sin(azimuth), np.cos(polar)]\n",
    "    \n",
    "    \n",
    "    part_1 = [(q*(q+1)/r)*sph_b(q,x)*sph(p,q,x)*hat_x[0], \n",
    "             (q*(q+1)/r)*sph_b(q,x)*sph(p,q,x)*hat_x[1], \n",
    "             (q*(q+1)/r)*sph_b(q,x)*sph(p,q,x)*hat_x[2]]\n",
    "    \n",
    "    part_2 = [(1/r)*(sph_b(q,x)+r*sph_b_dr(q,x))*grad_sph[0], \n",
    "                (1/r)*(sph_b(q,x)+r*sph_b_dr(q,x))*grad_sph[1],\n",
    "               (1/r)*(sph_b(q,x)+r*sph_b_dr(q,x))*grad_sph[2]]\n",
    "    \n",
    "    return [(1/(1j*k))*(part_1[0]+part_2[0]), (1/(1j*k))*(part_1[1]+part_2[1]), (1/(1j*k))*(part_1[2]+part_2[2])]"
   ]
  },
  {
   "cell_type": "code",
   "execution_count": 9,
   "metadata": {},
   "outputs": [],
   "source": [
    "def U_pq(p, q, x):\n",
    "    r = np.linalg.norm(x)\n",
    "    azimuth = np.arctan2(x[1],x[0])\n",
    "    polar = np.arccos(x[2]/r)\n",
    "    \n",
    "    return [sph_dpolar(p,q,x)*np.cos(polar)*np.cos(azimuth) - sph_dazi(p,q,x)*np.sin(azimuth)/np.sin(polar), \n",
    "            sph_dpolar(p,q,x)*np.cos(polar)*np.sin(azimuth) + sph_dazi(p,q,x)*np.cos(azimuth)/np.sin(polar),\n",
    "            -sph_dpolar(p,q,x)*np.sin(polar)]\n",
    "def V_pq(p, q, x):\n",
    "    r = np.linalg.norm(x)\n",
    "    azimuth = np.arctan2(x[1],x[0])\n",
    "    polar = np.arccos(x[2]/r)\n",
    "    \n",
    "    grad_sph = [sph_dpolar(p,q,x)*np.cos(polar)*np.cos(azimuth) - sph_dazi(p,q,x)*np.sin(azimuth)/np.sin(polar), \n",
    "                sph_dpolar(p,q,x)*np.cos(polar)*np.sin(azimuth) + sph_dazi(p,q,x)*np.cos(azimuth)/np.sin(polar),\n",
    "               -sph_dpolar(p,q,x)*np.sin(polar)]\n",
    "    hat_x = [np.sin(polar)*np.cos(azimuth), np.sin(polar)*np.sin(azimuth), np.cos(polar)]\n",
    "    \n",
    "    return np.cross(hat_x, grad_sph)"
   ]
  },
  {
   "cell_type": "code",
   "execution_count": null,
   "metadata": {},
   "outputs": [],
   "source": [
    "coeff_S_V_1 = []\n",
    "coeff_S_U_1 = []\n",
    "for q in range(1, deg+1):\n",
    "    for p in range(-q,q+1):\n",
    "        @bempp.api.complex_callable\n",
    "        def V_fun_1(x,n,domain_index,result):\n",
    "            with objmode():\n",
    "                result[0] = V_pq(p,q,x)[0]\n",
    "        V_grid_1 = bempp.api.GridFunction(space_unit_sphere,fun = V_fun_1)\n",
    "        coeff_S_V_1.append(np.conj(V_grid_1.coefficients)* (-k) *((1j)**(q+1))/(q*(q+1)))\n",
    "        \n",
    "        @bempp.api.complex_callable\n",
    "        def U_fun_1(x,n,domain_index,result):\n",
    "            with objmode():\n",
    "                result[0] = U_pq(p,q,x)[0]\n",
    "        U_grid_1 = bempp.api.GridFunction(space_unit_sphere,fun = U_fun_1)\n",
    "        coeff_S_U_1.append(np.conj(U_grid_1.coefficients)* ((1j)**q)/(q*(q+1)))"
   ]
  },
  {
   "cell_type": "code",
   "execution_count": null,
   "metadata": {},
   "outputs": [],
   "source": [
    "coeff_S_V_2 = []\n",
    "coeff_S_U_2 = []\n",
    "for q in range(1, deg+1):\n",
    "    for p in range(-q,q+1):\n",
    "        @bempp.api.complex_callable\n",
    "        def V_fun_2(x,n,domain_index,result):\n",
    "            with objmode():\n",
    "                result[0] = V_pq(p,q,x)[1]\n",
    "        V_grid_2 = bempp.api.GridFunction(space_unit_sphere,fun = V_fun_2)\n",
    "        coeff_S_V_2.append(np.conj(V_grid_2.coefficients)* (-k) *((1j)**(q+1))/(q*(q+1)))\n",
    "        \n",
    "        @bempp.api.complex_callable\n",
    "        def U_fun_2(x,n,domain_index,result):\n",
    "            with objmode():\n",
    "                result[0] = U_pq(p,q,x)[1]\n",
    "        U_grid_2 = bempp.api.GridFunction(space_unit_sphere,fun = U_fun_2)\n",
    "        coeff_S_U_2.append(np.conj(U_grid_2.coefficients)* ((1j)**q)/(q*(q+1)))"
   ]
  },
  {
   "cell_type": "code",
   "execution_count": null,
   "metadata": {},
   "outputs": [],
   "source": [
    "coeff_S_V_3 = []\n",
    "coeff_S_U_3 = []\n",
    "for q in range(1, deg+1):\n",
    "    for p in range(-q,q+1):\n",
    "        @bempp.api.complex_callable\n",
    "        def V_fun_3(x,n,domain_index,result):\n",
    "            with objmode():\n",
    "                result[0] = V_pq(p,q,x)[2]\n",
    "        V_grid_3 = bempp.api.GridFunction(space_unit_sphere,fun = V_fun_3)\n",
    "        coeff_S_V_3.append(np.conj(V_grid_3.coefficients)* (-k) *((1j)**(q+1))/(q*(q+1)))\n",
    "        \n",
    "        @bempp.api.complex_callable\n",
    "        def U_fun_3(x,n,domain_index,result):\n",
    "            with objmode():\n",
    "                result[0] = U_pq(p,q,x)[2]\n",
    "        U_grid_3 = bempp.api.GridFunction(space_unit_sphere,fun = U_fun_3)\n",
    "        coeff_S_U_3.append(np.conj(U_grid_3.coefficients)* ((1j)**q)/(q*(q+1)))"
   ]
  },
  {
   "cell_type": "code",
   "execution_count": null,
   "metadata": {},
   "outputs": [],
   "source": [
    "coeff_S_tilde_M = []\n",
    "coeff_S_tilde_N = []\n",
    "for q in range(1, deg+1):\n",
    "    for p in range(-q,q+1):\n",
    "        @bempp.api.complex_callable\n",
    "        def tangential_trace_M(x, n, domain_index, result):\n",
    "            with objmode():\n",
    "                incident_field_M = sph_wf_M(p,q,x)\n",
    "                result[:] = np.cross(incident_field_M, n)\n",
    "        trace_fun_M = bempp.api.GridFunction(div_space, fun=tangential_trace_M, dual_space=curl_space)\n",
    "        lambda_data_M = lu(elec, trace_fun_M)\n",
    "        \n",
    "        coeff_S_tilde_M.append(-elec_far * lambda_data_M)\n",
    "\n",
    "        @bempp.api.complex_callable\n",
    "        def tangential_trace_N(x, n, domain_index, result):\n",
    "            with objmode():\n",
    "                incident_field_N = sph_wf_N(p,q,x)\n",
    "                result[:] = np.cross(incident_field_N, n)\n",
    "        trace_fun_N = bempp.api.GridFunction(div_space, fun=tangential_trace_N, dual_space=curl_space)\n",
    "        lambda_data_N = lu(elec, trace_fun_N)\n",
    "        \n",
    "        coeff_S_tilde_N.append(-elec_far * lambda_data_N)"
   ]
  },
  {
   "cell_type": "code",
   "execution_count": 18,
   "metadata": {},
   "outputs": [],
   "source": [
    "t_MM = np.zeros((len(coeff_S_V_1), len(coeff_S_V_1)), dtype = complex)\n",
    "for i in range(len(coeff_S_V_1)):\n",
    "    for j in range(len(coeff_S_V_1)):\n",
    "        t_MM[i,j] = coeff_S_tilde_M[j][0,:]@mass_mat@coeff_S_V_1[i] + coeff_S_tilde_M[j][1,:]@mass_mat@coeff_S_V_2[i] + coeff_S_tilde_M[j][2,:]@mass_mat@coeff_S_V_3[i]\n",
    "        \n",
    "t_MN = np.zeros((len(coeff_S_V_1), len(coeff_S_V_1)), dtype = complex)\n",
    "for i in range(len(coeff_S_V_1)):\n",
    "    for j in range(len(coeff_S_V_1)):\n",
    "        t_MN[i,j] = coeff_S_tilde_N[j][0,:]@mass_mat@coeff_S_V_1[i] + coeff_S_tilde_N[j][1,:]@mass_mat@coeff_S_V_2[i] + coeff_S_tilde_N[j][2,:]@mass_mat@coeff_S_V_3[i]\n",
    "        \n",
    "t_NM = np.zeros((len(coeff_S_V_1), len(coeff_S_V_1)), dtype = complex)\n",
    "for i in range(len(coeff_S_V_1)):\n",
    "    for j in range(len(coeff_S_V_1)):\n",
    "        t_NM[i,j] = coeff_S_tilde_M[j][0,:]@mass_mat@coeff_S_U_1[i] + coeff_S_tilde_M[j][1,:]@mass_mat@coeff_S_U_2[i] + coeff_S_tilde_M[j][2,:]@mass_mat@coeff_S_U_3[i]\n",
    "        \n",
    "t_NN = np.zeros((len(coeff_S_V_1), len(coeff_S_V_1)), dtype = complex)\n",
    "for i in range(len(coeff_S_V_1)):\n",
    "    for j in range(len(coeff_S_V_1)):\n",
    "        t_NN[i,j] = coeff_S_tilde_N[j][0,:]@mass_mat@coeff_S_U_1[i] + coeff_S_tilde_N[j][1,:]@mass_mat@coeff_S_U_2[i] + coeff_S_tilde_N[j][2,:]@mass_mat@coeff_S_U_3[i]"
   ]
  },
  {
   "cell_type": "code",
   "execution_count": 19,
   "metadata": {},
   "outputs": [],
   "source": [
    "T_matrix = np.block([\n",
    "    [t_MM, t_MN],\n",
    "    [t_NM, t_NN]\n",
    "])"
   ]
  },
  {
   "cell_type": "code",
   "execution_count": 130,
   "metadata": {},
   "outputs": [],
   "source": [
    "#np.linalg.norm(T_matrix - np.transpose(T_matrix), 2)/np.linalg.norm(T_matrix,2)\n",
    "#T_matrix[1,1]\n",
    "#T_matrix[3,3]\n",
    "#T_matrix[0,1]\n",
    "#T_matrix[3,0]\n",
    "#T_matrix[0,1] + np.conj(T_matrix[1,0]) + 2*(np.conj(T_matrix[0,0])*T_matrix[0,1] + np.conj(T_matrix[1,0])*T_matrix[1,1] + np.conj(T_matrix[2,0])*T_matrix[2,1] + np.conj(T_matrix[3,0])*T_matrix[3,1] )\n",
    "#S_matrix = np.identity(T_matrix.shape[0]) + 2*T_matrix\n",
    "#np.linalg.norm(np.conj(np.transpose(S_matrix))@S_matrix - np.identity(S_matrix.shape[1]) , 2)/np.linalg.norm(np.identity(S_matrix.shape[1]) , 2)\n",
    "#np.linalg.norm(S_matrix@np.conj(np.transpose(S_matrix)) - np.conj(np.transpose(S_matrix))@S_matrix, 2)"
   ]
  },
  {
   "cell_type": "code",
   "execution_count": 20,
   "metadata": {},
   "outputs": [],
   "source": [
    "def coeff_inc(p,q):\n",
    "    alpha_q = (0.5*(-1j)**q)*(2*q+1)/(q*(q+1))\n",
    "    c_q_neg1 = np.sqrt(((2*q+1)/(4*np.pi))*(math.factorial(q-1)/math.factorial(q+1)))\n",
    "    c_q_pos1 = -c_q_neg1\n",
    "    if p == -1:\n",
    "        return (-1j)*alpha_q / c_q_neg1,  alpha_q / c_q_neg1\n",
    "    elif p == 1:\n",
    "        return (1j)*alpha_q / c_q_pos1,  alpha_q / c_q_pos1\n",
    "    else:\n",
    "        return 0, 0"
   ]
  },
  {
   "cell_type": "code",
   "execution_count": 21,
   "metadata": {},
   "outputs": [],
   "source": [
    "coeff_list_temp = np.zeros(((deg+1)**2-1,2),dtype = complex)\n",
    "i = 0\n",
    "for q in range(1,deg+1):\n",
    "    for p in range(-q,q+1):\n",
    "        coeff_list_temp[i,:] = coeff_inc(p,q)\n",
    "        i += 1\n",
    "coeff_inc = np.hstack((coeff_list_temp[:,0],coeff_list_temp[:,1]))"
   ]
  },
  {
   "cell_type": "code",
   "execution_count": 22,
   "metadata": {},
   "outputs": [],
   "source": [
    "coeff_sca = T_matrix @ coeff_inc"
   ]
  },
  {
   "cell_type": "code",
   "execution_count": 23,
   "metadata": {},
   "outputs": [],
   "source": [
    "def sca_far_field(x):\n",
    "    fun1 = [0,0,0]\n",
    "    i = 0\n",
    "    for q in range(1, deg+1):\n",
    "        for p in range(-q,q+1):\n",
    "            fun1[0] += coeff_sca[i]*(-1/k)*((-1j)**(q+1)) * V_pq(p,q,x)[0]\n",
    "            fun1[1] += coeff_sca[i]*(-1/k)*((-1j)**(q+1)) * V_pq(p,q,x)[1]\n",
    "            fun1[2] += coeff_sca[i]*(-1/k)*((-1j)**(q+1)) * V_pq(p,q,x)[2]\n",
    "            i +=1\n",
    "            \n",
    "    fun2 = [0,0,0]       \n",
    "    j = (deg+1)**2-1\n",
    "    for q in range(1, deg+1):\n",
    "        for p in range(-q,q+1):\n",
    "            fun2[0] += coeff_sca[j]*(-1j)**(q) * U_pq(p, q, x)[0]\n",
    "            fun2[1] += coeff_sca[j]*(-1j)**(q) * U_pq(p, q, x)[1]\n",
    "            fun2[2] += coeff_sca[j]*(-1j)**(q) * U_pq(p, q, x)[2]\n",
    "            j +=1\n",
    "    return [fun1[0]+fun2[0], fun1[1]+fun2[1], fun1[2]+fun2[2]]"
   ]
  },
  {
   "cell_type": "code",
   "execution_count": 24,
   "metadata": {},
   "outputs": [],
   "source": [
    "@bempp.api.complex_callable\n",
    "def tangential_trace(x, n, domain_index, result):\n",
    "    incident_field = np.array([np.exp(-1j * k * x[2]), 0. * x[2], 0. * x[2]])\n",
    "    result[:] = np.cross(incident_field, n)\n",
    "\n",
    "trace_fun = bempp.api.GridFunction(div_space, fun=tangential_trace, dual_space=curl_space)\n",
    "lambda_data = bempp.api.linalg.lu(elec, trace_fun)\n",
    "res_exact = -elec_far * lambda_data"
   ]
  },
  {
   "cell_type": "code",
   "execution_count": 25,
   "metadata": {},
   "outputs": [
    {
     "name": "stdout",
     "output_type": "stream",
     "text": [
      "(0.0007669437682187564+6.504742522141091e-21j)\n"
     ]
    }
   ],
   "source": [
    "far_list_test = []\n",
    "for i in range(vert_unit_sphere.shape[1]):\n",
    "    far_list_test.append(sca_far_field(vert_unit_sphere[:,i]))\n",
    "    \n",
    "far_field_test_1 = []\n",
    "for i in range(len(far_list_test)):\n",
    "    far_field_test_1.append(far_list_test[i][0])\n",
    "    \n",
    "far_field_test_2 = []\n",
    "for i in range(len(far_list_test)):\n",
    "    far_field_test_2.append(far_list_test[i][1])\n",
    "\n",
    "far_field_test_3 = []\n",
    "for i in range(len(far_list_test)):\n",
    "    far_field_test_3.append(far_list_test[i][2])\n",
    "    \n",
    "err = np.sqrt((far_field_test_1 - res_exact[0,:]) @ mass_mat @ np.conj(far_field_test_1 - res_exact[0,:]) + \\\n",
    "      (far_field_test_2 - res_exact[1,:]) @ mass_mat @ np.conj(far_field_test_2 - res_exact[1,:]) + \\\n",
    "      (far_field_test_3 - res_exact[2,:]) @ mass_mat @ np.conj(far_field_test_3 - res_exact[2,:])) \\\n",
    "/np.sqrt(res_exact[0,:]@ mass_mat @ np.conj(res_exact[0,:]) + res_exact[1,:]@ mass_mat @ np.conj(res_exact[1,:]) + res_exact[2,:]@ mass_mat @ np.conj(res_exact[2,:]))\n",
    "\n",
    "print(err)"
   ]
  },
  {
   "cell_type": "code",
   "execution_count": 26,
   "metadata": {},
   "outputs": [],
   "source": [
    "#deg = 5, h = 0.05 (0.0007860563191714933-6.3619125432347e-21j)\n",
    "#deg = 5, h = 0.1, (0.0030739694830646284+5.75409575732703e-20j)\n",
    "#deg = 5, h = 0.2, (0.011922740684476529 - 9.183379604514599e-21j)\n",
    "#deg = 5, h = 0.3, (0.02103233370311101 - 1.82399628238602106e-19j)\n",
    "\n",
    "#deg = 10, h = 0.05 (0.0007669437682187564 + 6.504742522141091e-21j)\n",
    "#deg = 10, h = 0.1  (0.0030758692166139444+4.9965110392113166e-20j)\n",
    "#deg = 10, h = 0.2, (0.011947917119919034-4.370871271094531e-20j)\n",
    "#deg = 10, h = 0.3, (0.021038768058860537 - 4.204233364904413e-19j)\n",
    "\n",
    "#deg = 20, h = 0.05\n",
    "#deg = 20, h=  0.1\n",
    "#deg = 20, h = 0.2\n",
    "#deg = 20, h = 0.3, (0.02092682750315242 - 2.447956428607211e-19j)"
   ]
  },
  {
   "cell_type": "code",
   "execution_count": 36,
   "metadata": {},
   "outputs": [
    {
     "data": {
      "text/plain": [
       "<Figure size 432x288 with 0 Axes>"
      ]
     },
     "metadata": {},
     "output_type": "display_data"
    },
    {
     "data": {
      "image/png": "[encoded data removed]",
      "text/plain": [
       "<Figure size 504x360 with 1 Axes>"
      ]
     },
     "metadata": {
      "needs_background": "light"
     },
     "output_type": "display_data"
    }
   ],
   "source": [
    "x_axis = [5, 10]\n",
    "h_03 = [0.02103233370311101, 0.021038768058860537]\n",
    "h_02 = [0.011922740684476529, 0.011947917119919034]\n",
    "h_01 = [0.0030739694830646284, 0.0030758692166139444]\n",
    "h_005 = [0.0007860563191714933, 0.0007669437682187564]\n",
    "\n",
    "fig = plt.figure()\n",
    "plt.figure(figsize = (7,5))\n",
    "plt.semilogy(x_axis,h_03,'*-')\n",
    "plt.semilogy(x_axis,h_02,'*-')\n",
    "plt.semilogy(x_axis,h_01,'*-')\n",
    "plt.semilogy(x_axis,h_005,'*-')\n",
    "\n",
    "plt.legend(['h = 0.3','h = 0.2','h = 0.1','h = 0.05'],  bbox_to_anchor=(0.7,0.6))\n",
    "plt.xlabel('Degree of spherical expansion',fontsize = 15)\n",
    "plt.ylabel('Error by comparing the far fields',fontsize = 15)\n",
    "plt.title('T-matrix accuracy (EM scattering)',fontsize = 15)\n",
    "plt.savefig('EM T matrix accuracy deg5and10.pdf',bbox_inches='tight')"
   ]
  },
  {
   "cell_type": "code",
   "execution_count": 37,
   "metadata": {},
   "outputs": [
    {
     "data": {
      "text/plain": [
       "<Figure size 432x288 with 0 Axes>"
      ]
     },
     "metadata": {},
     "output_type": "display_data"
    },
    {
     "data": {
      "image/png": "[encoded data removed]",
      "text/plain": [
       "<Figure size 504x360 with 1 Axes>"
      ]
     },
     "metadata": {
      "needs_background": "light"
     },
     "output_type": "display_data"
    }
   ],
   "source": [
    "fig = plt.figure()\n",
    "plt.figure(figsize = (7,5))\n",
    "plt.semilogy([0.3,0.2,0.1,0.05],[h_03[0], h_02[0], h_01[0], h_005[0]],'*-')\n",
    "plt.xlabel('Element diameter',fontsize = 15)\n",
    "plt.ylabel('Error by comparing the far fields',fontsize = 15)\n",
    "plt.title('T-matrix accuracy: deg = 5 (EM scattering)',fontsize = 15)\n",
    "plt.savefig('EM T matrix accuracy deg5.pdf',bbox_inches='tight')"
   ]
  },
  {
   "cell_type": "code",
   "execution_count": 38,
   "metadata": {},
   "outputs": [
    {
     "data": {
      "text/plain": [
       "<Figure size 432x288 with 0 Axes>"
      ]
     },
     "metadata": {},
     "output_type": "display_data"
    },
    {
     "data": {
      "image/png": "[encoded data removed]",
      "text/plain": [
       "<Figure size 504x360 with 1 Axes>"
      ]
     },
     "metadata": {
      "needs_background": "light"
     },
     "output_type": "display_data"
    }
   ],
   "source": [
    "fig = plt.figure()\n",
    "plt.figure(figsize = (7,5))\n",
    "plt.semilogy([0.3,0.2,0.1,0.05],[h_03[1], h_02[1], h_01[1], h_005[1]],'*-')\n",
    "plt.xlabel('Element diameter',fontsize = 15)\n",
    "plt.ylabel('Error by comparing the far fields',fontsize = 15)\n",
    "plt.title('T-matrix accuracy: deg = 10 (EM scattering)',fontsize = 15)\n",
    "plt.savefig('EM T matrix accuracy deg10.pdf',bbox_inches='tight')"
   ]
  },
  {
   "cell_type": "code",
   "execution_count": null,
   "metadata": {},
   "outputs": [],
   "source": []
  }
 ],
 "metadata": {
  "kernelspec": {
   "display_name": "Python 3",
   "language": "python",
   "name": "python3"
  },
  "language_info": {
   "codemirror_mode": {
    "name": "ipython",
    "version": 3
   },
   "file_extension": ".py",
   "mimetype": "text/x-python",
   "name": "python",
   "nbconvert_exporter": "python",
   "pygments_lexer": "ipython3",
   "version": "3.7.0"
  }
 },
 "nbformat": 4,
 "nbformat_minor": 2
}
