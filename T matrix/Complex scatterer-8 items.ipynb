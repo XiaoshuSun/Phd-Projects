{
 "cells": [
  {
   "cell_type": "code",
   "execution_count": 1,
   "metadata": {},
   "outputs": [],
   "source": [
    "import bempp.api\n",
    "from bempp.api.assembly.blocked_operator import BlockedOperator\n",
    "import math\n",
    "import numpy as np\n",
    "import scipy \n",
    "import cmath\n",
    "from numba import objmode\n",
    "from numpy.linalg import slogdet\n",
    "from bempp.api.operators.far_field import helmholtz as helmholtz_farfield\n",
    "import matplotlib.pyplot as plt\n",
    "bempp.core.opencl_kernels.set_default_device(0,0)"
   ]
  },
  {
   "cell_type": "code",
   "execution_count": 25,
   "metadata": {},
   "outputs": [],
   "source": [
    "wavenumber = 0.4\n",
    "d = [1,0,0]"
   ]
  },
  {
   "cell_type": "code",
   "execution_count": 16,
   "metadata": {},
   "outputs": [],
   "source": [
    "hex0 = bempp.api.import_grid('hex0_.msh')\n",
    "hex1 = bempp.api.import_grid('hex1_.msh')\n",
    "hex2 = bempp.api.import_grid('hex2_.msh')\n",
    "hex3 = bempp.api.import_grid('hex3_.msh')\n",
    "hex4 = bempp.api.import_grid('hex4_.msh')\n",
    "hex5 = bempp.api.import_grid('hex5_.msh')\n",
    "hex6 = bempp.api.import_grid('hex6_.msh')\n",
    "hex7 = bempp.api.import_grid('hex7_.msh')\n",
    "\n",
    "two_branches = bempp.api.grid.grid.union([hex0, hex1, hex2, hex3, hex4, hex5, hex6, hex7])"
   ]
  },
  {
   "cell_type": "code",
   "execution_count": 17,
   "metadata": {},
   "outputs": [],
   "source": [
    "space_two_branches = bempp.api.function_space(two_branches,'P',1)"
   ]
  },
  {
   "cell_type": "code",
   "execution_count": 26,
   "metadata": {},
   "outputs": [],
   "source": [
    "def normalized_spherical_harmonics(p, q, x):\n",
    "    \"\"\"Spherical Harmonic function of degree q\"\"\"\n",
    "    azimuth = np.arctan2(x[1],x[0])\n",
    "    polar = np.arccos(x[2]/np.linalg.norm(x))\n",
    "    if p >= 0:\n",
    "        return ((-1)**p) * scipy.special.sph_harm(p,q,azimuth,polar)\n",
    "    else:\n",
    "        return scipy.special.sph_harm(-p,q,azimuth,polar)*np.exp(1j*2*p*azimuth)\n",
    "\n",
    "def spherical_bessel_function(q,x):\n",
    "    \"\"\"Spherical Bessel function of degree q\"\"\"\n",
    "    r = np.linalg.norm(x)\n",
    "    return np.sqrt(np.pi/(2*wavenumber*r))*scipy.special.jv(q+0.5, wavenumber*r)\n",
    "\n",
    "def regular_spherical_wavefunctions(p,q,x):\n",
    "    \"\"\"Regular Spherical Wavefunction\"\"\"\n",
    "    return spherical_bessel_function(q,x)*normalized_spherical_harmonics(p,q,x)\n",
    "\n",
    "\n",
    "def coeff_sph_expansion(p,q):\n",
    "    \"\"\"Analytical formula of the coefficients of the spherical expansions of plane waves\"\"\"\n",
    "    coeff = 4*np.pi*(1j)**q*normalized_spherical_harmonics(-p,q,d)/(-1)**(abs(p))\n",
    "    return coeff\n",
    "\n",
    "def sca_far_field(x):\n",
    "    fun = 0\n",
    "    i = 0\n",
    "    for q in range(deg+1):\n",
    "        for p in range(-q,q+1):\n",
    "            fun += coeff_sca[i]*(1/wavenumber)*(-1j)**(q+1) * normalized_spherical_harmonics(p, q, x)\n",
    "            i +=1\n",
    "    return fun"
   ]
  },
  {
   "cell_type": "code",
   "execution_count": 27,
   "metadata": {},
   "outputs": [
    {
     "name": "stdout",
     "output_type": "stream",
     "text": [
      "0.2 5 (0.009342412969540205-5.744627449788728e-19j)\n",
      "0.2 10 (0.00923659877659486-3.342300422199521e-19j)\n",
      "0.2 15 (0.009229606175497496-3.339770121364195e-19j)\n",
      "0.1 5 (0.0025683854316459983+9.223883684586201e-20j)\n",
      "0.1 10 (0.0024297062733337807+8.7258430050265e-20j)\n",
      "0.1 15 (0.002432152660934241+8.734628755948469e-20j)\n",
      "0.05 5 (0.0007856460051314614-1.958153198347642e-21j)\n",
      "0.05 10 (0.0006058137609257439+1.1666067396372666e-20j)\n",
      "0.05 15 (0.0006059365361102525+4.614050378670122e-21j)\n"
     ]
    }
   ],
   "source": [
    "for h in [0.2,0.1,0.05]:\n",
    "    unit_sphere = bempp.api.shapes.sphere(r = 1, origin=(0,0,0), h = h)\n",
    "    vert_unit_sphere = unit_sphere.vertices\n",
    "    space_unit_sphere = bempp.api.function_space(unit_sphere, 'P', 1)\n",
    "\n",
    "    eta = wavenumber\n",
    "\n",
    "    identity2 = bempp.api.operators.boundary.sparse.identity(space_two_branches, space_two_branches,space_two_branches)\n",
    "    slp2 = bempp.api.operators.boundary.helmholtz.single_layer(space_two_branches,space_two_branches,space_two_branches,wavenumber)\n",
    "    dlp2 = bempp.api.operators.boundary.helmholtz.double_layer(space_two_branches,space_two_branches,space_two_branches,wavenumber)\n",
    "    slp_far2 = helmholtz_farfield.single_layer(space_two_branches, vert_unit_sphere, wavenumber)\n",
    "    dlp_far2 = helmholtz_farfield.double_layer(space_two_branches, vert_unit_sphere,wavenumber)\n",
    "\n",
    "    lhs2 = 0.5 * identity2 + dlp2 - 1j* eta *slp2\n",
    "    for deg in [5,10,15]:\n",
    "        sph_harm_coeff = []\n",
    "        slp_far_field_coeff = []\n",
    "        for q in range(deg+1):\n",
    "            for p in range(-q,q+1):\n",
    "                @bempp.api.complex_callable\n",
    "                def sph_harm(x,n,domain_index,result):\n",
    "                    with objmode():\n",
    "                        result[0] = normalized_spherical_harmonics(p,q,x)\n",
    "                sph_harm_grid = bempp.api.GridFunction(space_unit_sphere,fun = sph_harm)\n",
    "                sph_harm_coeff.append(np.conj(sph_harm_grid.coefficients)/((-1j)**(q+1)))\n",
    "\n",
    "                @bempp.api.complex_callable\n",
    "                def dirichlet_fun(x,n,domain_index,result):\n",
    "                        with objmode():\n",
    "                            result[0] = - regular_spherical_wavefunctions(p,q,x)\n",
    "\n",
    "                rhs_fun = bempp.api.GridFunction(space_two_branches, fun = dirichlet_fun)\n",
    "                field, info = bempp.api.linalg.gmres(lhs2, rhs_fun, tol=1E-5)\n",
    "                slp_far_field_coeff.append(dlp_far2.evaluate(field) - 1j * eta * slp_far2.evaluate(field))\n",
    "\n",
    "        mass_mat = bempp.api.operators.boundary.sparse.identity(space_unit_sphere,space_unit_sphere,space_unit_sphere).weak_form().A\n",
    "\n",
    "        T_matrix = np.zeros(((deg+1)**2,(deg+1)**2),dtype = complex)\n",
    "        for i in range((deg+1)**2):\n",
    "            for j in range((deg+1)**2):\n",
    "                T_matrix[i,j] = (slp_far_field_coeff[j] @ mass_mat @ sph_harm_coeff[i])*wavenumber\n",
    "\n",
    "        coeff_inc = []\n",
    "        for q in range(deg+1):\n",
    "            for p in range(-q, q+1):\n",
    "                coeff_inc.append(coeff_sph_expansion(p,q))\n",
    "\n",
    "        coeff_sca = T_matrix @ coeff_inc\n",
    "\n",
    "        far_list_test = []\n",
    "        for i in range(vert_unit_sphere.shape[1]):\n",
    "            far_list_test.append(sca_far_field(vert_unit_sphere[:,i]))\n",
    "\n",
    "        @bempp.api.complex_callable\n",
    "        def exact_data(x, n, domain_index, result):\n",
    "            with objmode():\n",
    "                result[0] = - np.exp(1j * wavenumber * (x[0]*d[0]+x[1]*d[1]+x[2]*d[2]))\n",
    "\n",
    "        grid_fun = bempp.api.GridFunction(space_two_branches, fun=exact_data)\n",
    "        fun_exact, info_exact = bempp.api.linalg.gmres(lhs2, grid_fun, tol=1E-5)\n",
    "        res_exact = dlp_far2.evaluate(fun_exact) - 1j * eta * slp_far2.evaluate(fun_exact)\n",
    "        err = np.sqrt((far_list_test - res_exact[0,:]) @ mass_mat @ np.conj(far_list_test - res_exact[0,:]))/np.sqrt(res_exact[0,:]@ mass_mat @ np.conj(res_exact[0,:]))\n",
    "\n",
    "        print(h, deg,err)"
   ]
  },
  {
   "cell_type": "code",
   "execution_count": null,
   "metadata": {},
   "outputs": [],
   "source": [
    "#direction is d = [1/np.sqrt(3),1/np.sqrt(3),1/np.sqrt(3)]\n",
    "0.2 5 (0.009469519813172556+3.421365897867409e-19j)\n",
    "0.2 10 (0.009473645121748905+5.750596620584359e-19j)\n",
    "0.2 15 (0.009465081763368913+5.749608633631162e-19j)\n",
    "\n",
    "0.1 5 (0.002482204308046062+1.9916893288550716e-19j)\n",
    "0.1 10 (0.002482204308046062+1.9916893288550716e-19j)\n",
    "0.1 15 (0.002460575720186841+8.820810927768843e-20j)\n",
    "\n",
    "0.05 5 (0.0006755645915286939-4.509270948097198e-21j)\n",
    "0.05 10 (0.0006146859982911742+5.170513557924861e-21j)\n",
    "0.05 15 (0.0006148035512514778+7.338562748599982e-21j)"
   ]
  },
  {
   "cell_type": "code",
   "execution_count": null,
   "metadata": {},
   "outputs": [],
   "source": [
    "#direction is d = [0,0,1]\n",
    "\n",
    "0.2 5 (0.008601531282423441+0j)\n",
    "0.2 10 (0.008726256154502107+0j)\n",
    "0.2 15 (0.008720795550544039+0j)\n",
    "\n",
    "0.1 5 (0.002121762858990762-1.1998429313258787e-19j)\n",
    "0.1 10 (0.002225772119756752+5.718874240791716e-20j)\n",
    "0.1 15 (0.00222758036214643+0j)\n",
    "\n",
    "0.05 5 (0.00048372863741192327-5.2133166136746436e-21j)\n",
    "0.05 10 (0.0005449619063660346-9.411317907297038e-21j)\n",
    "0.05 15 (0.0005450965671673895+5.044537510407968e-21j)"
   ]
  },
  {
   "cell_type": "code",
   "execution_count": null,
   "metadata": {},
   "outputs": [],
   "source": [
    "#direction is d = [1,0,0]\n",
    "\n",
    "0.2 5 (0.009342412969540205-5.744627449788728e-19j)\n",
    "0.2 10 (0.00923659877659486-3.342300422199521e-19j)\n",
    "0.2 15 (0.009229606175497496-3.339770121364195e-19j)\n",
    "\n",
    "0.1 5 (0.0025683854316459983+9.223883684586201e-20j)\n",
    "0.1 10 (0.0024297062733337807+8.7258430050265e-20j)\n",
    "0.1 15 (0.002432152660934241+8.734628755948469e-20j)\n",
    "\n",
    "0.05 5 (0.0007856460051314614-1.958153198347642e-21j)\n",
    "0.05 10 (0.0006058137609257439+1.1666067396372666e-20j)\n",
    "0.05 15 (0.0006059365361102525+4.614050378670122e-21j)"
   ]
  },
  {
   "cell_type": "code",
   "execution_count": 2,
   "metadata": {},
   "outputs": [],
   "source": [
    "x_axis = [5, 10, 15]\n",
    "\n",
    "#direction is d = [1,0,0]\n",
    "d1_02 = [0.009342412969540205, 0.00923659877659486, 0.009229606175497496]\n",
    "d1_01 = [0.0025683854316459983, 0.0024297062733337807, 0.002432152660934241]\n",
    "d1_005 = [0.0007856460051314614, 0.0006058137609257439,0.0006059365361102525]\n",
    "\n",
    "#direction is d = [0,0,1]\n",
    "d2_02 = [0.008601531282423441, 0.008726256154502107, 0.008720795550544039]\n",
    "d2_01 = [0.002121762858990762, 0.002225772119756752, 0.00222758036214643]\n",
    "d2_005 = [0.00048372863741192327, 0.0005449619063660346, 0.0005450965671673895]\n",
    "\n",
    "#direction is d = [1/np.sqrt(3),1/np.sqrt(3),1/np.sqrt(3)]\n",
    "d3_02 = [0.009469519813172556, 0.009473645121748905, 0.009465081763368913]\n",
    "d3_01 = [0.002482204308046062, 0.002482204308046062,0.002460575720186841]\n",
    "d3_005 = [0.00048372863741192327, 0.0005449619063660346, 0.0005450965671673895]"
   ]
  },
  {
   "cell_type": "code",
   "execution_count": 3,
   "metadata": {},
   "outputs": [
    {
     "data": {
      "text/plain": [
       "<Figure size 432x288 with 0 Axes>"
      ]
     },
     "metadata": {},
     "output_type": "display_data"
    },
    {
     "data": {
      "image/png": "[encoded data removed]",
      "text/plain": [
       "<Figure size 1800x360 with 3 Axes>"
      ]
     },
     "metadata": {
      "needs_background": "light"
     },
     "output_type": "display_data"
    }
   ],
   "source": [
    "fig = plt.figure()\n",
    "plt.figure(figsize = (25,5))\n",
    "plt.subplot(1,3,1)\n",
    "plt.semilogy(x_axis,d1_02,'*-')\n",
    "plt.semilogy(x_axis,d1_01,'*-')\n",
    "plt.semilogy(x_axis,d1_005,'*-')\n",
    "plt.legend(['h = 0.2','h = 0.1','h = 0.05'],  bbox_to_anchor=(0.7,0.6))\n",
    "plt.xlabel('Degree of spherical expansion',fontsize = 15)\n",
    "plt.ylabel('Error by comparing the far fields',fontsize = 15)\n",
    "plt.title('T-matrix accuracy ---- d = [1,0,0]',fontsize = 15)\n",
    "\n",
    "plt.subplot(1,3,2)\n",
    "plt.semilogy(x_axis,d2_02,'*-')\n",
    "plt.semilogy(x_axis,d2_01,'*-')\n",
    "plt.semilogy(x_axis,d2_005,'*-')\n",
    "plt.legend(['h = 0.2','h = 0.1','h = 0.05'], bbox_to_anchor=(0.9,0.8))\n",
    "plt.xlabel('Degree of spherical expansion',fontsize = 15)\n",
    "plt.ylabel('Error by comparing the far fields',fontsize = 15)\n",
    "plt.title('T-matrix accuracy ---- d = [0,0,1]',fontsize = 15)\n",
    "\n",
    "plt.subplot(1,3,3)\n",
    "plt.semilogy(x_axis,d3_02,'*-')\n",
    "plt.semilogy(x_axis,d3_01,'*-')\n",
    "plt.semilogy(x_axis,d3_005,'*-')\n",
    "plt.legend(['h = 0.2','h = 0.1','h = 0.05'], bbox_to_anchor=(0.9,0.8))\n",
    "plt.xlabel('Degree of spherical expansion',fontsize = 15)\n",
    "plt.ylabel('Error by comparing the far fields',fontsize = 15)\n",
    "plt.title('T-matrix accuracy ---- d = [1,1,1]',fontsize = 15)\n",
    "plt.savefig('eight items T matrix accuracy.pdf',bbox_inches='tight')"
   ]
  },
  {
   "cell_type": "code",
   "execution_count": null,
   "metadata": {},
   "outputs": [],
   "source": []
  }
 ],
 "metadata": {
  "kernelspec": {
   "display_name": "Python 3",
   "language": "python",
   "name": "python3"
  },
  "language_info": {
   "codemirror_mode": {
    "name": "ipython",
    "version": 3
   },
   "file_extension": ".py",
   "mimetype": "text/x-python",
   "name": "python",
   "nbconvert_exporter": "python",
   "pygments_lexer": "ipython3",
   "version": "3.7.0"
  }
 },
 "nbformat": 4,
 "nbformat_minor": 2
}
