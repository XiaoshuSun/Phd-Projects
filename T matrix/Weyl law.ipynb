{
 "cells": [
  {
   "cell_type": "code",
   "execution_count": 10,
   "metadata": {},
   "outputs": [],
   "source": [
    "import bempp.api\n",
    "import numpy as np\n",
    "import scipy\n",
    "from numba import objmode\n",
    "import numba\n",
    "import cmath\n",
    "import math\n",
    "%matplotlib inline\n",
    "import matplotlib.pyplot as plt\n",
    "from bempp.api.operators.far_field import helmholtz as helmholtz_farfield\n",
    "bempp.core.opencl_kernels.set_default_device(0,0)"
   ]
  },
  {
   "cell_type": "code",
   "execution_count": 11,
   "metadata": {},
   "outputs": [],
   "source": [
    "def normalized_spherical_harmonics(p, q, x):\n",
    "    \"\"\"Spherical Harmonic function of degree q\"\"\"\n",
    "    azimuth = np.arctan2(x[1],x[0])\n",
    "    polar = np.arccos(x[2]/np.linalg.norm(x))\n",
    "    if p >= 0:\n",
    "        return ((-1)**p) * scipy.special.sph_harm(p,q,azimuth,polar)\n",
    "    else:\n",
    "        return scipy.special.sph_harm(-p,q,azimuth,polar)*np.exp(1j*2*p*azimuth)\n",
    "\n",
    "def spherical_bessel_function(q,x):\n",
    "    \"\"\"Spherical Bessel function of degree q\"\"\"\n",
    "    r = np.linalg.norm(x)\n",
    "    return np.sqrt(np.pi/(2*wavenumber*r))*scipy.special.jv(q+0.5, wavenumber*r)\n",
    "\n",
    "\n",
    "def regular_spherical_wavefunctions(p,q,x):\n",
    "    \"\"\"Regular Spherical Wavefunction\"\"\"\n",
    "    return spherical_bessel_function(q,x)*normalized_spherical_harmonics(p,q,x)"
   ]
  },
  {
   "cell_type": "code",
   "execution_count": 12,
   "metadata": {},
   "outputs": [],
   "source": [
    "def coeff_sph_expansion(p,q):\n",
    "    \"\"\"Analytical formula of the coefficients of the spherical expansions of plane waves\"\"\"\n",
    "    coeff = 4*np.pi*((1j)**q)*normalized_spherical_harmonics(-p,q,d)/(-1)**(abs(p))\n",
    "    return coeff"
   ]
  },
  {
   "cell_type": "code",
   "execution_count": 13,
   "metadata": {},
   "outputs": [],
   "source": [
    "d = [1,0,0]\n",
    "deg = 10\n",
    "h = 0.1\n",
    "#values = []"
   ]
  },
  {
   "cell_type": "code",
   "execution_count": null,
   "metadata": {},
   "outputs": [],
   "source": [
    "# scatterer: sphere\n",
    "two_branches = bempp.api.shapes.sphere(r = 0.2, origin=(0,0,0), h = h)\n",
    "space_two_branches = bempp.api.function_space(two_branches,'P',1)\n",
    "\n",
    "unit_sphere = bempp.api.shapes.sphere(r = 1, origin=(0,0,0), h = h)\n",
    "vert_unit_sphere = unit_sphere.vertices\n",
    "space_unit_sphere = bempp.api.function_space(unit_sphere, 'P', 1)\n",
    "\n",
    "phase_list = []\n",
    "term1_list = []\n",
    "\n",
    "for wavenumber in range(10,21):\n",
    "\n",
    "    eta = wavenumber\n",
    "\n",
    "    identity2 = bempp.api.operators.boundary.sparse.identity(space_two_branches, space_two_branches,space_two_branches)\n",
    "    slp2 = bempp.api.operators.boundary.helmholtz.single_layer(space_two_branches,space_two_branches,space_two_branches,wavenumber)\n",
    "    dlp2 = bempp.api.operators.boundary.helmholtz.double_layer(space_two_branches,space_two_branches,space_two_branches,wavenumber)\n",
    "    slp_far2 = helmholtz_farfield.single_layer(space_two_branches, vert_unit_sphere, wavenumber)\n",
    "    dlp_far2 = helmholtz_farfield.double_layer(space_two_branches, vert_unit_sphere,wavenumber)\n",
    "\n",
    "    lhs2 = 0.5 * identity2 + dlp2 - 1j* eta *slp2\n",
    "\n",
    "    sph_harm_coeff = []\n",
    "    slp_far_field_coeff = []\n",
    "    for q in range(deg+1):\n",
    "        for p in range(-q,q+1):\n",
    "            @bempp.api.complex_callable\n",
    "            def sph_harm(x,n,domain_index,result):\n",
    "                with objmode():\n",
    "                    result[0] = normalized_spherical_harmonics(p,q,x)\n",
    "            sph_harm_grid = bempp.api.GridFunction(space_unit_sphere,fun = sph_harm)\n",
    "            sph_harm_coeff.append(np.conj(sph_harm_grid.coefficients)/((-1j)**(q+1)))\n",
    "\n",
    "            @bempp.api.complex_callable\n",
    "            def dirichlet_fun(x,n,domain_index,result):\n",
    "                    with objmode():\n",
    "                        result[0] = - regular_spherical_wavefunctions(p,q,x)\n",
    "\n",
    "            rhs_fun = bempp.api.GridFunction(space_two_branches, fun = dirichlet_fun)\n",
    "            field, info = bempp.api.linalg.gmres(lhs2, rhs_fun, tol=1E-5)\n",
    "            slp_far_field_coeff.append(dlp_far2.evaluate(field) - 1j * eta * slp_far2.evaluate(field))\n",
    "\n",
    "    mass_mat = bempp.api.operators.boundary.sparse.identity(space_unit_sphere,space_unit_sphere,space_unit_sphere).weak_form().A\n",
    "\n",
    "    T_matrix = np.zeros(((deg+1)**2,(deg+1)**2),dtype = complex)\n",
    "    for i in range((deg+1)**2):\n",
    "        for j in range((deg+1)**2):\n",
    "            T_matrix[i,j] = (slp_far_field_coeff[j] @ mass_mat @ sph_harm_coeff[i])*wavenumber\n",
    "\n",
    "    coeff_inc = []\n",
    "    for q in range(deg+1):\n",
    "        for p in range(-q, q+1):\n",
    "            coeff_inc.append(coeff_sph_expansion(p,q))\n",
    "\n",
    "    coeff_sca = T_matrix @ coeff_inc\n",
    "\n",
    "    S_matrix = np.identity(T_matrix.shape[1]) + 2* T_matrix\n",
    "    phase_list.append(cmath.phase(np.linalg.det(S_matrix)))\n",
    "    term1_list.append( 1/(3*np.pi) * ((wavenumber)**3) * ((4/3) * np.pi*0.2**3) )\n",
    "    print(wavenumber, cmath.phase(np.linalg.det(S_matrix)),  1/(3*np.pi) * ((wavenumber)**3) * ((4/3) * np.pi*0.2**3) )"
   ]
  },
  {
   "cell_type": "code",
   "execution_count": 9,
   "metadata": {},
   "outputs": [
    {
     "name": "stdout",
     "output_type": "stream",
     "text": [
      "0.06283185307179587\n",
      "0.25132741228718347\n",
      "0.5654866776461628\n",
      "1.0053096491487339\n",
      "1.5707963267948968\n",
      "2.261946710584651\n",
      "3.0787608005179976\n",
      "4.0212385965949355\n",
      "5.089380098815465\n",
      "6.283185307179587\n",
      "7.6026542216873\n",
      "9.047786842338605\n",
      "10.618583169133501\n",
      "12.31504320207199\n",
      "14.13716694115407\n",
      "16.084954386379742\n",
      "18.158405537749005\n",
      "20.35752039526186\n",
      "22.68229895891831\n",
      "25.13274122871835\n"
     ]
    }
   ],
   "source": [
    "for i in range(1,21):\n",
    "    wavenumber = i\n",
    "    print ((1/8)* (4 * np.pi * 0.2**2) * (wavenumber**2))"
   ]
  },
  {
   "cell_type": "code",
   "execution_count": null,
   "metadata": {},
   "outputs": [],
   "source": [
    "term2_list = []\n",
    "sum_list = [a + b for a, b in zip(term1_list, term2_list)]\n",
    "print(sum_list)"
   ]
  }
 ],
 "metadata": {
  "kernelspec": {
   "display_name": "Python 3",
   "language": "python",
   "name": "python3"
  },
  "language_info": {
   "codemirror_mode": {
    "name": "ipython",
    "version": 3
   },
   "file_extension": ".py",
   "mimetype": "text/x-python",
   "name": "python",
   "nbconvert_exporter": "python",
   "pygments_lexer": "ipython3",
   "version": "3.7.0"
  }
 },
 "nbformat": 4,
 "nbformat_minor": 2
}
